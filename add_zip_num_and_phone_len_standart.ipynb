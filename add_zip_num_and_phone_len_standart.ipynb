{
 "cells": [
  {
   "cell_type": "code",
   "execution_count": 1,
   "metadata": {},
   "outputs": [],
   "source": [
    "import pandas as pd\n",
    "import numpy as np\n",
    "import re"
   ]
  },
  {
   "cell_type": "code",
   "execution_count": 2,
   "metadata": {},
   "outputs": [],
   "source": [
    "pd.set_option('display.max_columns', None)"
   ]
  },
  {
   "cell_type": "code",
   "execution_count": 3,
   "metadata": {},
   "outputs": [],
   "source": [
    "# for autoreload modules\n",
    "%load_ext autoreload\n",
    "%autoreload 2"
   ]
  },
  {
   "cell_type": "code",
   "execution_count": 4,
   "metadata": {},
   "outputs": [],
   "source": [
    "from analyzer import HelperAnalyzer, AnalyzerPrediction\n",
    "from utils import Statistic, UtilsKy\n",
    "from factors import Factor"
   ]
  },
  {
   "cell_type": "code",
   "execution_count": 5,
   "metadata": {},
   "outputs": [],
   "source": [
    "# kyw3\n",
    "# path_data = '/mnt/files/workdata/work/merchants/merchant_33_kyw3_2020-06-05/04_experiments/ex_01_some_teach/'\n",
    "# db_teach = pd.read_csv(path_data + 'db_teach_2_digit_status_kyw3_from_2019-11-20_to_2020-03-13.csv', dtype=str)\n",
    "# db_test = pd.read_csv(path_data + 'db_test_2_digit_status_kyw3a_from_2020-04-06_to_2020-05-06.csv' , dtype=str)\n",
    "# white = pd.read_csv(UtilsKy.WHITE_KYW3 , dtype=str)\n",
    "\n",
    "# teach = pd.read_csv(path_data + 'teach_kyw3_from_2019-11-20_to_2020-03-13.csv', dtype=str)\n",
    "# test = pd.read_csv(path_data + 'test_kyw3_from_2020-04-06_to_2020-05-06.csv', dtype=str)"
   ]
  },
  {
   "cell_type": "code",
   "execution_count": 33,
   "metadata": {},
   "outputs": [],
   "source": [
    "# ky9\n",
    "path_data = '/mnt/files/workdata/work/merchants/merchant_32_ky9_2020-05-12_white_visa/04_experiments/'\n",
    "db_teach = pd.read_csv(UtilsKy.DB_TEACH_KY9, dtype=str)\n",
    "db_test = pd.read_csv(UtilsKy.DB_TEST_KY9, dtype=str)\n",
    "# white = pd.read_csv(UtilsKy.WHITE_KY9 , dtype=str)\n",
    "\n",
    "teach = pd.read_csv(path_data + 'ex_05_ky9_xgb_jupiter_2020_07_08/teach_ky9_2020-05-12_2020-01-12.csv', dtype=str)\n",
    "test = pd.read_csv(path_data + 'ex_05_ky9_xgb_jupiter_2020_07_08/test_ky9_2020-02-01_2020-04-07.csv', dtype=str)"
   ]
  },
  {
   "cell_type": "code",
   "execution_count": 34,
   "metadata": {},
   "outputs": [
    {
     "data": {
      "text/plain": [
       "Index(['amount', 'bank_currency', 'bin', 'client_hour', 'date_cb_only',\n",
       "       'date_only', 'day_of_week', 'hour', 'id',\n",
       "       'is_bank_country_equal_country', 'is_ip_country_equal_country',\n",
       "       'latitude', 'longitude', 'order_id', 'phone_2_norm', 'status',\n",
       "       'status_chargeback', 'time', 'is_city_resolved', 'country_code3',\n",
       "       'country', 'ip', 'network', 'num_network', 'is_usa', 'is_can', 'is_bra',\n",
       "       'distance_l2', 'distance_hav', 'distance_sub', 'gender',\n",
       "       'amount_deviation', 'count_months_to_end_card', 'dgender', 'is_feman',\n",
       "       'is_man', 'is_undef'],\n",
       "      dtype='object')"
      ]
     },
     "execution_count": 34,
     "metadata": {},
     "output_type": "execute_result"
    }
   ],
   "source": [
    "db_teach.columns"
   ]
  },
  {
   "cell_type": "code",
   "execution_count": null,
   "metadata": {},
   "outputs": [],
   "source": [
    "#============================================================================ Teach Test is_phone_standart ======"
   ]
  },
  {
   "cell_type": "code",
   "execution_count": 36,
   "metadata": {},
   "outputs": [],
   "source": [
    "teach['phone_len'] = teach.phone.apply(lambda x: len(x))"
   ]
  },
  {
   "cell_type": "code",
   "execution_count": 38,
   "metadata": {},
   "outputs": [
    {
     "data": {
      "text/plain": [
       "Counter({11: 282020,\n",
       "         10: 457166,\n",
       "         13: 123,\n",
       "         15: 154,\n",
       "         14: 137,\n",
       "         12: 533,\n",
       "         16: 8,\n",
       "         9: 204,\n",
       "         20: 39,\n",
       "         18: 275,\n",
       "         17: 1490,\n",
       "         8: 8,\n",
       "         7: 2,\n",
       "         21: 8})"
      ]
     },
     "execution_count": 38,
     "metadata": {},
     "output_type": "execute_result"
    }
   ],
   "source": [
    "Statistic.get_table(teach, 'phone_len')"
   ]
  },
  {
   "cell_type": "code",
   "execution_count": 39,
   "metadata": {},
   "outputs": [],
   "source": [
    "factor_is_phone = Factor.encode_length(teach)"
   ]
  },
  {
   "cell_type": "code",
   "execution_count": 40,
   "metadata": {},
   "outputs": [],
   "source": [
    "db_teach['is_phone_standart'] = Factor.encode_length(teach)\n",
    "db_test['is_phone_standart'] = Factor.encode_length(test)"
   ]
  },
  {
   "cell_type": "code",
   "execution_count": 42,
   "metadata": {},
   "outputs": [],
   "source": [
    "st_teach = Statistic.get_stat_summarise_by_column(db_teach, 'is_phone_standart')"
   ]
  },
  {
   "cell_type": "code",
   "execution_count": 43,
   "metadata": {},
   "outputs": [],
   "source": [
    "st_test = Statistic.get_stat_summarise_by_column(db_test, 'is_phone_standart')"
   ]
  },
  {
   "cell_type": "code",
   "execution_count": 44,
   "metadata": {},
   "outputs": [],
   "source": [
    "all_len_zip = pd.merge(st_teach, st_test, how='left', on=['is_phone_standart'])"
   ]
  },
  {
   "cell_type": "code",
   "execution_count": 45,
   "metadata": {},
   "outputs": [
    {
     "data": {
      "text/html": [
       "<div>\n",
       "<style scoped>\n",
       "    .dataframe tbody tr th:only-of-type {\n",
       "        vertical-align: middle;\n",
       "    }\n",
       "\n",
       "    .dataframe tbody tr th {\n",
       "        vertical-align: top;\n",
       "    }\n",
       "\n",
       "    .dataframe thead th {\n",
       "        text-align: right;\n",
       "    }\n",
       "</style>\n",
       "<table border=\"1\" class=\"dataframe\">\n",
       "  <thead>\n",
       "    <tr style=\"text-align: right;\">\n",
       "      <th></th>\n",
       "      <th>p_x</th>\n",
       "      <th>p_y</th>\n",
       "    </tr>\n",
       "    <tr>\n",
       "      <th>is_phone_standart</th>\n",
       "      <th></th>\n",
       "      <th></th>\n",
       "    </tr>\n",
       "  </thead>\n",
       "  <tbody>\n",
       "    <tr>\n",
       "      <th>0</th>\n",
       "      <td>0.513456</td>\n",
       "      <td>0.719531</td>\n",
       "    </tr>\n",
       "    <tr>\n",
       "      <th>1</th>\n",
       "      <td>0.491283</td>\n",
       "      <td>0.496529</td>\n",
       "    </tr>\n",
       "  </tbody>\n",
       "</table>\n",
       "</div>"
      ],
      "text/plain": [
       "                        p_x       p_y\n",
       "is_phone_standart                    \n",
       "0                  0.513456  0.719531\n",
       "1                  0.491283  0.496529"
      ]
     },
     "execution_count": 45,
     "metadata": {},
     "output_type": "execute_result"
    }
   ],
   "source": [
    "all_len_zip.loc[:, ['p_x', 'p_y']]"
   ]
  },
  {
   "cell_type": "code",
   "execution_count": 46,
   "metadata": {},
   "outputs": [
    {
     "data": {
      "text/plain": [
       "Counter({0: 285001, 1: 457166})"
      ]
     },
     "execution_count": 46,
     "metadata": {},
     "output_type": "execute_result"
    }
   ],
   "source": [
    "Statistic.get_table(db_teach, 'is_phone_standart')"
   ]
  },
  {
   "cell_type": "code",
   "execution_count": null,
   "metadata": {},
   "outputs": [],
   "source": [
    "#============================================================================ Teach zip_num ===================="
   ]
  },
  {
   "cell_type": "code",
   "execution_count": 28,
   "metadata": {},
   "outputs": [],
   "source": [
    "teach['zip_num'] = teach.zip.apply(lambda x: re.sub('\\\\D', '', x))"
   ]
  },
  {
   "cell_type": "code",
   "execution_count": 29,
   "metadata": {},
   "outputs": [],
   "source": [
    "teach['zip_char'] = teach.zip.apply(lambda x: re.sub('\\\\d', '', x))"
   ]
  },
  {
   "cell_type": "code",
   "execution_count": 30,
   "metadata": {},
   "outputs": [],
   "source": [
    "teach_sub = teach[teach.zip_char != '']"
   ]
  },
  {
   "cell_type": "code",
   "execution_count": 20,
   "metadata": {},
   "outputs": [
    {
     "data": {
      "text/plain": [
       "433425"
      ]
     },
     "execution_count": 20,
     "metadata": {},
     "output_type": "execute_result"
    }
   ],
   "source": [
    "teach.shape[0]"
   ]
  },
  {
   "cell_type": "code",
   "execution_count": 31,
   "metadata": {},
   "outputs": [
    {
     "data": {
      "text/plain": [
       "17746"
      ]
     },
     "execution_count": 31,
     "metadata": {},
     "output_type": "execute_result"
    }
   ],
   "source": [
    "teach_sub.shape[0]"
   ]
  },
  {
   "cell_type": "code",
   "execution_count": 41,
   "metadata": {},
   "outputs": [],
   "source": [
    "teach['is_zip_numeric']  = np.where(teach.zip_char != '', 1, 0)"
   ]
  },
  {
   "cell_type": "code",
   "execution_count": 61,
   "metadata": {},
   "outputs": [],
   "source": [
    "teach['len_zip'] = teach.zip.apply(lambda x: len(x))"
   ]
  },
  {
   "cell_type": "code",
   "execution_count": 63,
   "metadata": {},
   "outputs": [],
   "source": [
    "teach['is_len_zip_standart']  = np.where(teach.len_zip == 5, 1, 0)"
   ]
  },
  {
   "cell_type": "code",
   "execution_count": 83,
   "metadata": {},
   "outputs": [],
   "source": [
    "st_zip_num_teach = Statistic.get_stat_summarise_by_column(teach, 'is_zip_numeric')"
   ]
  },
  {
   "cell_type": "code",
   "execution_count": 84,
   "metadata": {},
   "outputs": [],
   "source": [
    "st_len_zip_teach = Statistic.get_stat_summarise_by_column(teach, 'len_zip')"
   ]
  },
  {
   "cell_type": "code",
   "execution_count": 104,
   "metadata": {},
   "outputs": [],
   "source": [
    "st_len_zip_standart_teach = Statistic.get_stat_summarise_by_column(teach, 'is_len_zip_standart')"
   ]
  },
  {
   "cell_type": "code",
   "execution_count": null,
   "metadata": {},
   "outputs": [],
   "source": [
    "#============================================================================ Test zip_num ======================="
   ]
  },
  {
   "cell_type": "code",
   "execution_count": 64,
   "metadata": {},
   "outputs": [],
   "source": [
    "test['zip_num'] = test.zip.apply(lambda x: re.sub('\\\\D', '', x))"
   ]
  },
  {
   "cell_type": "code",
   "execution_count": 65,
   "metadata": {},
   "outputs": [],
   "source": [
    "test['zip_char'] = test.zip.apply(lambda x: re.sub('\\\\d', '', x))"
   ]
  },
  {
   "cell_type": "code",
   "execution_count": 99,
   "metadata": {},
   "outputs": [],
   "source": [
    "teach['is_len_zip_standart']  = np.where(teach.len_zip == 5, 1, 0)"
   ]
  },
  {
   "cell_type": "code",
   "execution_count": 66,
   "metadata": {},
   "outputs": [],
   "source": [
    "test_sub = test[test.zip_char != '']"
   ]
  },
  {
   "cell_type": "code",
   "execution_count": 67,
   "metadata": {},
   "outputs": [
    {
     "data": {
      "text/plain": [
       "58862"
      ]
     },
     "execution_count": 67,
     "metadata": {},
     "output_type": "execute_result"
    }
   ],
   "source": [
    "test.shape[0]"
   ]
  },
  {
   "cell_type": "code",
   "execution_count": 68,
   "metadata": {},
   "outputs": [
    {
     "data": {
      "text/plain": [
       "3451"
      ]
     },
     "execution_count": 68,
     "metadata": {},
     "output_type": "execute_result"
    }
   ],
   "source": [
    "test_sub.shape[0]"
   ]
  },
  {
   "cell_type": "code",
   "execution_count": 69,
   "metadata": {},
   "outputs": [],
   "source": [
    "test['is_zip_numeric']  = np.where(test.zip_char != '', 1, 0)"
   ]
  },
  {
   "cell_type": "code",
   "execution_count": 70,
   "metadata": {},
   "outputs": [],
   "source": [
    "test['len_zip'] = test.zip.apply(lambda x: len(x))"
   ]
  },
  {
   "cell_type": "code",
   "execution_count": 71,
   "metadata": {},
   "outputs": [],
   "source": [
    "test['is_len_zip_standart']  = np.where(test.len_zip == 5, 1, 0)"
   ]
  },
  {
   "cell_type": "code",
   "execution_count": null,
   "metadata": {},
   "outputs": [],
   "source": [
    "#============================================================================ All Statistic Teach Test zip_num ==="
   ]
  },
  {
   "cell_type": "code",
   "execution_count": 81,
   "metadata": {},
   "outputs": [],
   "source": [
    "st_zip_num_test = Statistic.get_stat_summarise_by_column(test, 'is_zip_numeric')"
   ]
  },
  {
   "cell_type": "code",
   "execution_count": 82,
   "metadata": {},
   "outputs": [],
   "source": [
    "st_len_zip_test = Statistic.get_stat_summarise_by_column(test, 'len_zip')"
   ]
  },
  {
   "cell_type": "code",
   "execution_count": 103,
   "metadata": {},
   "outputs": [],
   "source": [
    "st_len_zip_standart_test = Statistic.get_stat_summarise_by_column(test, 'is_len_zip_standart')"
   ]
  },
  {
   "cell_type": "code",
   "execution_count": 86,
   "metadata": {},
   "outputs": [],
   "source": [
    "all_zip_num = pd.merge(st_zip_num_teach, st_zip_num_test, how='left', on=['is_zip_numeric'])"
   ]
  },
  {
   "cell_type": "code",
   "execution_count": 105,
   "metadata": {},
   "outputs": [],
   "source": [
    "all_len_zip = pd.merge(st_len_zip_teach, st_len_zip_test, how='left', on=['len_zip'])"
   ]
  },
  {
   "cell_type": "code",
   "execution_count": 106,
   "metadata": {},
   "outputs": [],
   "source": [
    "all_len_zip_standart = pd.merge(st_len_zip_standart_teach, st_len_zip_standart_test, how='left',\n",
    "                                on=['is_len_zip_standart'])"
   ]
  },
  {
   "cell_type": "code",
   "execution_count": 96,
   "metadata": {},
   "outputs": [
    {
     "data": {
      "text/html": [
       "<div>\n",
       "<style scoped>\n",
       "    .dataframe tbody tr th:only-of-type {\n",
       "        vertical-align: middle;\n",
       "    }\n",
       "\n",
       "    .dataframe tbody tr th {\n",
       "        vertical-align: top;\n",
       "    }\n",
       "\n",
       "    .dataframe thead th {\n",
       "        text-align: right;\n",
       "    }\n",
       "</style>\n",
       "<table border=\"1\" class=\"dataframe\">\n",
       "  <thead>\n",
       "    <tr style=\"text-align: right;\">\n",
       "      <th></th>\n",
       "      <th>p_x</th>\n",
       "      <th>p_y</th>\n",
       "    </tr>\n",
       "    <tr>\n",
       "      <th>is_zip_numeric</th>\n",
       "      <th></th>\n",
       "      <th></th>\n",
       "    </tr>\n",
       "  </thead>\n",
       "  <tbody>\n",
       "    <tr>\n",
       "      <th>0</th>\n",
       "      <td>0.507262</td>\n",
       "      <td>0.507131</td>\n",
       "    </tr>\n",
       "    <tr>\n",
       "      <th>1</th>\n",
       "      <td>0.242719</td>\n",
       "      <td>0.359200</td>\n",
       "    </tr>\n",
       "  </tbody>\n",
       "</table>\n",
       "</div>"
      ],
      "text/plain": [
       "                     p_x       p_y\n",
       "is_zip_numeric                    \n",
       "0               0.507262  0.507131\n",
       "1               0.242719  0.359200"
      ]
     },
     "execution_count": 96,
     "metadata": {},
     "output_type": "execute_result"
    }
   ],
   "source": [
    "all_zip_num.loc[:, ['p_x', 'p_y']]"
   ]
  },
  {
   "cell_type": "code",
   "execution_count": 97,
   "metadata": {},
   "outputs": [
    {
     "data": {
      "text/html": [
       "<div>\n",
       "<style scoped>\n",
       "    .dataframe tbody tr th:only-of-type {\n",
       "        vertical-align: middle;\n",
       "    }\n",
       "\n",
       "    .dataframe tbody tr th {\n",
       "        vertical-align: top;\n",
       "    }\n",
       "\n",
       "    .dataframe thead th {\n",
       "        text-align: right;\n",
       "    }\n",
       "</style>\n",
       "<table border=\"1\" class=\"dataframe\">\n",
       "  <thead>\n",
       "    <tr style=\"text-align: right;\">\n",
       "      <th></th>\n",
       "      <th>p_x</th>\n",
       "      <th>p_y</th>\n",
       "    </tr>\n",
       "    <tr>\n",
       "      <th>len_zip</th>\n",
       "      <th></th>\n",
       "      <th></th>\n",
       "    </tr>\n",
       "  </thead>\n",
       "  <tbody>\n",
       "    <tr>\n",
       "      <th>4</th>\n",
       "      <td>0.297604</td>\n",
       "      <td>0.836712</td>\n",
       "    </tr>\n",
       "    <tr>\n",
       "      <th>5</th>\n",
       "      <td>0.507091</td>\n",
       "      <td>0.506485</td>\n",
       "    </tr>\n",
       "    <tr>\n",
       "      <th>6</th>\n",
       "      <td>0.241993</td>\n",
       "      <td>0.352608</td>\n",
       "    </tr>\n",
       "    <tr>\n",
       "      <th>7</th>\n",
       "      <td>0.000000</td>\n",
       "      <td>NaN</td>\n",
       "    </tr>\n",
       "    <tr>\n",
       "      <th>8</th>\n",
       "      <td>0.536884</td>\n",
       "      <td>0.773556</td>\n",
       "    </tr>\n",
       "    <tr>\n",
       "      <th>9</th>\n",
       "      <td>0.000000</td>\n",
       "      <td>NaN</td>\n",
       "    </tr>\n",
       "    <tr>\n",
       "      <th>10</th>\n",
       "      <td>0.000000</td>\n",
       "      <td>NaN</td>\n",
       "    </tr>\n",
       "    <tr>\n",
       "      <th>11</th>\n",
       "      <td>0.000000</td>\n",
       "      <td>NaN</td>\n",
       "    </tr>\n",
       "    <tr>\n",
       "      <th>12</th>\n",
       "      <td>0.000000</td>\n",
       "      <td>NaN</td>\n",
       "    </tr>\n",
       "  </tbody>\n",
       "</table>\n",
       "</div>"
      ],
      "text/plain": [
       "              p_x       p_y\n",
       "len_zip                    \n",
       "4        0.297604  0.836712\n",
       "5        0.507091  0.506485\n",
       "6        0.241993  0.352608\n",
       "7        0.000000       NaN\n",
       "8        0.536884  0.773556\n",
       "9        0.000000       NaN\n",
       "10       0.000000       NaN\n",
       "11       0.000000       NaN\n",
       "12       0.000000       NaN"
      ]
     },
     "execution_count": 97,
     "metadata": {},
     "output_type": "execute_result"
    }
   ],
   "source": [
    "all_len_zip.loc[:, ['p_x', 'p_y']]"
   ]
  },
  {
   "cell_type": "code",
   "execution_count": 108,
   "metadata": {},
   "outputs": [
    {
     "data": {
      "text/html": [
       "<div>\n",
       "<style scoped>\n",
       "    .dataframe tbody tr th:only-of-type {\n",
       "        vertical-align: middle;\n",
       "    }\n",
       "\n",
       "    .dataframe tbody tr th {\n",
       "        vertical-align: top;\n",
       "    }\n",
       "\n",
       "    .dataframe thead th {\n",
       "        text-align: right;\n",
       "    }\n",
       "</style>\n",
       "<table border=\"1\" class=\"dataframe\">\n",
       "  <thead>\n",
       "    <tr style=\"text-align: right;\">\n",
       "      <th></th>\n",
       "      <th>p_x</th>\n",
       "      <th>p_y</th>\n",
       "    </tr>\n",
       "    <tr>\n",
       "      <th>is_len_zip_standart</th>\n",
       "      <th></th>\n",
       "      <th></th>\n",
       "    </tr>\n",
       "  </thead>\n",
       "  <tbody>\n",
       "    <tr>\n",
       "      <th>0</th>\n",
       "      <td>0.357956</td>\n",
       "      <td>0.386446</td>\n",
       "    </tr>\n",
       "    <tr>\n",
       "      <th>1</th>\n",
       "      <td>0.507091</td>\n",
       "      <td>0.506485</td>\n",
       "    </tr>\n",
       "  </tbody>\n",
       "</table>\n",
       "</div>"
      ],
      "text/plain": [
       "                          p_x       p_y\n",
       "is_len_zip_standart                    \n",
       "0                    0.357956  0.386446\n",
       "1                    0.507091  0.506485"
      ]
     },
     "execution_count": 108,
     "metadata": {},
     "output_type": "execute_result"
    }
   ],
   "source": [
    "all_len_zip_standart.loc[:, ['p_x', 'p_y']]"
   ]
  },
  {
   "cell_type": "code",
   "execution_count": null,
   "metadata": {},
   "outputs": [],
   "source": [
    "#============================================================================ Test without WL  =================="
   ]
  },
  {
   "cell_type": "code",
   "execution_count": 135,
   "metadata": {},
   "outputs": [],
   "source": [
    "dt_test_wt_wl = test[~test.id.isin(white.ID)].copy()"
   ]
  },
  {
   "cell_type": "code",
   "execution_count": 136,
   "metadata": {},
   "outputs": [
    {
     "data": {
      "text/plain": [
       "35870"
      ]
     },
     "execution_count": 136,
     "metadata": {},
     "output_type": "execute_result"
    }
   ],
   "source": [
    "dt_test_wt_wl.shape[0]"
   ]
  },
  {
   "cell_type": "code",
   "execution_count": 137,
   "metadata": {},
   "outputs": [],
   "source": [
    "dt_test_wt_wl['is_zip_numeric']  = np.where(dt_test_wt_wl.zip_char != '', 1, 0)"
   ]
  },
  {
   "cell_type": "code",
   "execution_count": 138,
   "metadata": {},
   "outputs": [],
   "source": [
    "dt_test_wt_wl['len_zip'] = dt_test_wt_wl.zip.apply(lambda x: len(x))"
   ]
  },
  {
   "cell_type": "code",
   "execution_count": 139,
   "metadata": {},
   "outputs": [],
   "source": [
    "dt_test_wt_wl['is_len_zip_standart']  = np.where(dt_test_wt_wl.len_zip == 5, 1, 0)"
   ]
  },
  {
   "cell_type": "code",
   "execution_count": 140,
   "metadata": {},
   "outputs": [],
   "source": [
    "st_zip_num_test_wt_wl = Statistic.get_stat_summarise_by_column(dt_test_wt_wl, 'is_zip_numeric')"
   ]
  },
  {
   "cell_type": "code",
   "execution_count": 141,
   "metadata": {},
   "outputs": [],
   "source": [
    "st_len_zip_test_wt_wl = Statistic.get_stat_summarise_by_column(dt_test_wt_wl, 'len_zip')"
   ]
  },
  {
   "cell_type": "code",
   "execution_count": 142,
   "metadata": {},
   "outputs": [],
   "source": [
    "st_len_zip_standart_test_wt_wl = Statistic.get_stat_summarise_by_column(dt_test_wt_wl, 'is_len_zip_standart')"
   ]
  },
  {
   "cell_type": "code",
   "execution_count": 143,
   "metadata": {},
   "outputs": [
    {
     "data": {
      "text/html": [
       "<div>\n",
       "<style scoped>\n",
       "    .dataframe tbody tr th:only-of-type {\n",
       "        vertical-align: middle;\n",
       "    }\n",
       "\n",
       "    .dataframe tbody tr th {\n",
       "        vertical-align: top;\n",
       "    }\n",
       "\n",
       "    .dataframe thead th {\n",
       "        text-align: right;\n",
       "    }\n",
       "</style>\n",
       "<table border=\"1\" class=\"dataframe\">\n",
       "  <thead>\n",
       "    <tr style=\"text-align: right;\">\n",
       "      <th></th>\n",
       "      <th>p_x</th>\n",
       "      <th>p_y</th>\n",
       "    </tr>\n",
       "    <tr>\n",
       "      <th>is_zip_numeric</th>\n",
       "      <th></th>\n",
       "      <th></th>\n",
       "    </tr>\n",
       "  </thead>\n",
       "  <tbody>\n",
       "    <tr>\n",
       "      <th>0</th>\n",
       "      <td>0.507131</td>\n",
       "      <td>0.503301</td>\n",
       "    </tr>\n",
       "    <tr>\n",
       "      <th>1</th>\n",
       "      <td>0.359200</td>\n",
       "      <td>0.418084</td>\n",
       "    </tr>\n",
       "  </tbody>\n",
       "</table>\n",
       "</div>"
      ],
      "text/plain": [
       "                     p_x       p_y\n",
       "is_zip_numeric                    \n",
       "0               0.507131  0.503301\n",
       "1               0.359200  0.418084"
      ]
     },
     "execution_count": 143,
     "metadata": {},
     "output_type": "execute_result"
    }
   ],
   "source": [
    "all_zip_num_wt_wl = pd.merge(st_zip_num_test, st_zip_num_test_wt_wl, how='left', on=['is_zip_numeric'])\n",
    "all_zip_num_wt_wl.loc[:, ['p_x', 'p_y']]"
   ]
  },
  {
   "cell_type": "code",
   "execution_count": 144,
   "metadata": {},
   "outputs": [
    {
     "data": {
      "text/html": [
       "<div>\n",
       "<style scoped>\n",
       "    .dataframe tbody tr th:only-of-type {\n",
       "        vertical-align: middle;\n",
       "    }\n",
       "\n",
       "    .dataframe tbody tr th {\n",
       "        vertical-align: top;\n",
       "    }\n",
       "\n",
       "    .dataframe thead th {\n",
       "        text-align: right;\n",
       "    }\n",
       "</style>\n",
       "<table border=\"1\" class=\"dataframe\">\n",
       "  <thead>\n",
       "    <tr style=\"text-align: right;\">\n",
       "      <th></th>\n",
       "      <th>p_x</th>\n",
       "      <th>p_y</th>\n",
       "    </tr>\n",
       "    <tr>\n",
       "      <th>len_zip</th>\n",
       "      <th></th>\n",
       "      <th></th>\n",
       "    </tr>\n",
       "  </thead>\n",
       "  <tbody>\n",
       "    <tr>\n",
       "      <th>4</th>\n",
       "      <td>0.836712</td>\n",
       "      <td>0.811166</td>\n",
       "    </tr>\n",
       "    <tr>\n",
       "      <th>5</th>\n",
       "      <td>0.506485</td>\n",
       "      <td>0.502830</td>\n",
       "    </tr>\n",
       "    <tr>\n",
       "      <th>6</th>\n",
       "      <td>0.352608</td>\n",
       "      <td>0.401658</td>\n",
       "    </tr>\n",
       "    <tr>\n",
       "      <th>8</th>\n",
       "      <td>0.773556</td>\n",
       "      <td>0.812294</td>\n",
       "    </tr>\n",
       "  </tbody>\n",
       "</table>\n",
       "</div>"
      ],
      "text/plain": [
       "              p_x       p_y\n",
       "len_zip                    \n",
       "4        0.836712  0.811166\n",
       "5        0.506485  0.502830\n",
       "6        0.352608  0.401658\n",
       "8        0.773556  0.812294"
      ]
     },
     "execution_count": 144,
     "metadata": {},
     "output_type": "execute_result"
    }
   ],
   "source": [
    "all_len_zip_wt_wl = pd.merge(st_len_zip_test, st_len_zip_test_wt_wl, how='left', on=['len_zip'])\n",
    "all_len_zip_wt_wl.loc[:, ['p_x', 'p_y']]"
   ]
  },
  {
   "cell_type": "code",
   "execution_count": 145,
   "metadata": {},
   "outputs": [
    {
     "data": {
      "text/html": [
       "<div>\n",
       "<style scoped>\n",
       "    .dataframe tbody tr th:only-of-type {\n",
       "        vertical-align: middle;\n",
       "    }\n",
       "\n",
       "    .dataframe tbody tr th {\n",
       "        vertical-align: top;\n",
       "    }\n",
       "\n",
       "    .dataframe thead th {\n",
       "        text-align: right;\n",
       "    }\n",
       "</style>\n",
       "<table border=\"1\" class=\"dataframe\">\n",
       "  <thead>\n",
       "    <tr style=\"text-align: right;\">\n",
       "      <th></th>\n",
       "      <th>p_x</th>\n",
       "      <th>p_y</th>\n",
       "    </tr>\n",
       "    <tr>\n",
       "      <th>is_len_zip_standart</th>\n",
       "      <th></th>\n",
       "      <th></th>\n",
       "    </tr>\n",
       "  </thead>\n",
       "  <tbody>\n",
       "    <tr>\n",
       "      <th>0</th>\n",
       "      <td>0.386446</td>\n",
       "      <td>0.44169</td>\n",
       "    </tr>\n",
       "    <tr>\n",
       "      <th>1</th>\n",
       "      <td>0.506485</td>\n",
       "      <td>0.50283</td>\n",
       "    </tr>\n",
       "  </tbody>\n",
       "</table>\n",
       "</div>"
      ],
      "text/plain": [
       "                          p_x      p_y\n",
       "is_len_zip_standart                   \n",
       "0                    0.386446  0.44169\n",
       "1                    0.506485  0.50283"
      ]
     },
     "execution_count": 145,
     "metadata": {},
     "output_type": "execute_result"
    }
   ],
   "source": [
    "all_len_zip_standart_wt_wl = pd.merge(st_len_zip_standart_test, st_len_zip_standart_test_wt_wl, \n",
    "                                      how='left', on=['is_len_zip_standart'])\n",
    "all_len_zip_standart_wt_wl.loc[:, ['p_x', 'p_y']]"
   ]
  },
  {
   "cell_type": "code",
   "execution_count": null,
   "metadata": {},
   "outputs": [],
   "source": [
    "#======================================================================= Left join Db  ===================="
   ]
  },
  {
   "cell_type": "code",
   "execution_count": 147,
   "metadata": {},
   "outputs": [
    {
     "data": {
      "text/plain": [
       "Index(['amount', 'bank_currency', 'bin', 'day_of_week', 'hour', 'id',\n",
       "       'latitude', 'longitude', 'order_id', 'phone_2_norm', 'status',\n",
       "       'distance_haversine', 'distance_l2', 'distance_exp', 'is_city_resolved',\n",
       "       'ip', 'network', 'num_network', 'phone_3_norm', 'gender',\n",
       "       'amount_deviation', 'is_gender_undef', 'is_city_undef'],\n",
       "      dtype='object')"
      ]
     },
     "execution_count": 147,
     "metadata": {},
     "output_type": "execute_result"
    }
   ],
   "source": [
    "db_teach.columns"
   ]
  },
  {
   "cell_type": "code",
   "execution_count": 155,
   "metadata": {},
   "outputs": [],
   "source": [
    "db_teach['is_zip_numeric'] = teach.is_zip_numeric"
   ]
  },
  {
   "cell_type": "code",
   "execution_count": 156,
   "metadata": {},
   "outputs": [],
   "source": [
    "db_test['is_zip_numeric'] = test.is_zip_numeric"
   ]
  },
  {
   "cell_type": "code",
   "execution_count": 157,
   "metadata": {},
   "outputs": [],
   "source": [
    "db_teach['is_len_zip_standart'] = teach.is_len_zip_standart"
   ]
  },
  {
   "cell_type": "code",
   "execution_count": 158,
   "metadata": {},
   "outputs": [],
   "source": [
    "db_test['is_len_zip_standart'] = test.is_len_zip_standart"
   ]
  },
  {
   "cell_type": "code",
   "execution_count": 47,
   "metadata": {},
   "outputs": [],
   "source": [
    "# db_teach.to_csv(path_data + 'ex_05_ky9_xgb_jupiter_2020_07_08/dbteach_ky9_w_len_phone_st.csv', index=False)"
   ]
  },
  {
   "cell_type": "code",
   "execution_count": 48,
   "metadata": {},
   "outputs": [],
   "source": [
    "# db_test.to_csv(path_data + 'ex_05_ky9_xgb_jupiter_2020_07_08/test_ky9_w_len_phone_st.csv', index=False)"
   ]
  }
 ],
 "metadata": {
  "kernelspec": {
   "display_name": "Python 3",
   "language": "python",
   "name": "python3"
  },
  "language_info": {
   "codemirror_mode": {
    "name": "ipython",
    "version": 3
   },
   "file_extension": ".py",
   "mimetype": "text/x-python",
   "name": "python",
   "nbconvert_exporter": "python",
   "pygments_lexer": "ipython3",
   "version": "3.6.10"
  }
 },
 "nbformat": 4,
 "nbformat_minor": 1
}
