{
 "cells": [
  {
   "cell_type": "code",
   "execution_count": 2,
   "metadata": {},
   "outputs": [],
   "source": [
    "import pandas as pd\n",
    "import numpy as np\n",
    "import re\n",
    "import json\n",
    "from datetime import timedelta, datetime"
   ]
  },
  {
   "cell_type": "code",
   "execution_count": 3,
   "metadata": {},
   "outputs": [],
   "source": [
    "import os,sys,inspect\n",
    "currentdir = os.path.dirname(os.path.abspath(inspect.getfile(inspect.currentframe())))\n",
    "parentdir = os.path.dirname(currentdir)\n",
    "sys.path.insert(0,parentdir) \n",
    "from statistic import Statistic\n",
    "from converter import Converter\n",
    "pd.set_option('display.max_colwidth', -1)"
   ]
  },
  {
   "cell_type": "code",
   "execution_count": 4,
   "metadata": {},
   "outputs": [
    {
     "name": "stdout",
     "output_type": "stream",
     "text": [
      "The autoreload extension is already loaded. To reload it, use:\n",
      "  %reload_ext autoreload\n"
     ]
    }
   ],
   "source": [
    "# for autoreload modules\n",
    "%load_ext autoreload\n",
    "%autoreload 2"
   ]
  },
  {
   "cell_type": "code",
   "execution_count": 5,
   "metadata": {},
   "outputs": [],
   "source": [
    "path_data = '/mnt/files/workdata/work/merchants/merchant_26_tutu2/01_raw_data/data-rail-with-id_2020-02-04/'"
   ]
  },
  {
   "cell_type": "code",
   "execution_count": 6,
   "metadata": {},
   "outputs": [],
   "source": [
    "df = pd.read_csv(path_data + 'data-rail-with-id.csv', sep='\\t',dtype=str,keep_default_na=False, nrows=100)"
   ]
  },
  {
   "cell_type": "code",
   "execution_count": 7,
   "metadata": {},
   "outputs": [
    {
     "data": {
      "text/plain": [
       "(100, 5)"
      ]
     },
     "execution_count": 7,
     "metadata": {},
     "output_type": "execute_result"
    }
   ],
   "source": [
    "df.shape"
   ]
  },
  {
   "cell_type": "code",
   "execution_count": 8,
   "metadata": {},
   "outputs": [],
   "source": [
    "def is_problem_line(line):\n",
    "    pattern = ':([a-zA-Z]+)'\n",
    "    incorrect_values = {'true', 'false', 'null'}\n",
    "    incorrect_values_in_line = set(re.findall(pattern, line))        \n",
    "    diff = incorrect_values_in_line.difference(incorrect_values)\n",
    "    return len(diff)"
   ]
  },
  {
   "cell_type": "code",
   "execution_count": 9,
   "metadata": {},
   "outputs": [],
   "source": [
    "df['incorrect_line'] = df.json.apply(lambda x: is_problem_line(x))"
   ]
  },
  {
   "cell_type": "code",
   "execution_count": 10,
   "metadata": {},
   "outputs": [
    {
     "data": {
      "text/plain": [
       "Counter({0: 100})"
      ]
     },
     "execution_count": 10,
     "metadata": {},
     "output_type": "execute_result"
    }
   ],
   "source": [
    "Statistic.get_table(df, 'incorrect_line')"
   ]
  },
  {
   "cell_type": "code",
   "execution_count": 12,
   "metadata": {},
   "outputs": [],
   "source": [
    "mask = (df.incorrect_line > 0)\n",
    "df_incorrect_line = df[mask]"
   ]
  },
  {
   "cell_type": "code",
   "execution_count": 13,
   "metadata": {},
   "outputs": [],
   "source": [
    "n = df_incorrect_line.shape[0]\n",
    "for i in range(n):\n",
    "    pattern = ':([a-zA-Z]+)'\n",
    "    print(set(re.findall(pattern, df_incorrect_line.json.values[i])))"
   ]
  },
  {
   "cell_type": "code",
   "execution_count": 14,
   "metadata": {},
   "outputs": [],
   "source": [
    "mask = (df.incorrect_line > 0)\n",
    "df_correct_line = df[~mask]"
   ]
  },
  {
   "cell_type": "code",
   "execution_count": 15,
   "metadata": {},
   "outputs": [
    {
     "data": {
      "text/plain": [
       "'{\"order\":{\"sms_notification\":true,\"is_round_trip\":false,\"has_rzd_bonus\":false,\"seats_selected\":true,\"site_zone\":\"main\",\"is_composite_trip\":false,\"requested_fin_documents\":false},\"client\":{\"phone\":\"923143****\",\"account_confirmed\":true,\"name\":\"Наталья Алтынбаева\",\"account_exists\":true,\"email\":\"aaaaaa49@mail.ru\"},\"passengers\":[{\"sex\":\"F\",\"has_middle_name \":true,\"seat_level\":\"top\",\"seat_side\":false,\"seat\":\"2\",\"doc_type\":\"inner\",\"birthday \":\"1983-06-08\",\"doc_country\":\"RUS\"},{\"doc_country\":\"RUS\",\"birthday \":\"2014-03-18\",\"seat\":\"3\",\"doc_type\":\"birth\",\"seat_side\":false,\"seat_level\":\"bottom\",\"has_middle_name \":true,\"sex\":\"F\"}],\"train\":{\"arrival\":\"Абакан\",\"is_trailer\":false,\"is_firm\":false,\"departure\":\"Москва Ярославская\",\"departure_date\":\"2019-04-23 23:05:00\"},\"device\":{\"browser_version\":null,\"type\":\"android\",\"http_headers\":{\"user_agent\":\"Mozilla/5.0 (Linux; Android 9; PAR-LX1) AppleWebKit/537.36 (KHTML, like Gecko) Chrome/72.0.3626.119 YaBrowser/19.3.5.299.00 Mobile Safari/537.36\"},\"browser\":\"mobile\"},\"currency\":\"RUB\",\"trip\":{\"infants\":0,\"children\":1,\"include_laundry\":false,\"arrival_longitude\":\"86.421299900\",\"arrival\":\"Яя\",\"has_laundry_option\":true,\"insurance_selected\":null,\"arrival_latitude\":\"56.201100000\",\"car_category\":\"3\",\"departure_latitude\":\"55.035380400\",\"days_to_departure\":14,\"travel_duration\":5,\"arrival_date\":\"2019-04-26 07:34:00\",\"departure\":\"Новосибирск-Главный\",\"passengers\":2,\"registration_available\":true,\"departure_date\":\"2019-04-26 02:51:00\",\"departure_country\":\"RUS\",\"adults\":1,\"arrival_country\":\"RUS\",\"departure_longitude\":\"82.895329000\"},\"id\":\"24318982\",\"amount\":\"1282.90\",\"location\":{\"ip\":\"91.197.64.57\"},\"date\":\"2019-04-12 11:19:35\"}'"
      ]
     },
     "execution_count": 15,
     "metadata": {},
     "output_type": "execute_result"
    }
   ],
   "source": [
    "df_correct_line.json.values[0] # true - не в двойный кавычках"
   ]
  },
  {
   "cell_type": "code",
   "execution_count": 16,
   "metadata": {},
   "outputs": [],
   "source": [
    "df_correct_line = df_correct_line.copy()\n",
    "pattern = ':([a-zA-Z]+)'\n",
    "df_correct_line['correct_json'] = df_correct_line.json.apply(lambda x: re.sub(pattern, ':\"\\\\1\"', str(x)))"
   ]
  },
  {
   "cell_type": "code",
   "execution_count": 17,
   "metadata": {},
   "outputs": [
    {
     "data": {
      "text/plain": [
       "'{\"order\":{\"sms_notification\":\"true\",\"is_round_trip\":\"false\",\"has_rzd_bonus\":\"false\",\"seats_selected\":\"true\",\"site_zone\":\"main\",\"is_composite_trip\":\"false\",\"requested_fin_documents\":\"false\"},\"client\":{\"phone\":\"923143****\",\"account_confirmed\":\"true\",\"name\":\"Наталья Алтынбаева\",\"account_exists\":\"true\",\"email\":\"aaaaaa49@mail.ru\"},\"passengers\":[{\"sex\":\"F\",\"has_middle_name \":\"true\",\"seat_level\":\"top\",\"seat_side\":\"false\",\"seat\":\"2\",\"doc_type\":\"inner\",\"birthday \":\"1983-06-08\",\"doc_country\":\"RUS\"},{\"doc_country\":\"RUS\",\"birthday \":\"2014-03-18\",\"seat\":\"3\",\"doc_type\":\"birth\",\"seat_side\":\"false\",\"seat_level\":\"bottom\",\"has_middle_name \":\"true\",\"sex\":\"F\"}],\"train\":{\"arrival\":\"Абакан\",\"is_trailer\":\"false\",\"is_firm\":\"false\",\"departure\":\"Москва Ярославская\",\"departure_date\":\"2019-04-23 23:05:00\"},\"device\":{\"browser_version\":\"null\",\"type\":\"android\",\"http_headers\":{\"user_agent\":\"Mozilla/5.0 (Linux; Android 9; PAR-LX1) AppleWebKit/537.36 (KHTML, like Gecko) Chrome/72.0.3626.119 YaBrowser/19.3.5.299.00 Mobile Safari/537.36\"},\"browser\":\"mobile\"},\"currency\":\"RUB\",\"trip\":{\"infants\":0,\"children\":1,\"include_laundry\":\"false\",\"arrival_longitude\":\"86.421299900\",\"arrival\":\"Яя\",\"has_laundry_option\":\"true\",\"insurance_selected\":\"null\",\"arrival_latitude\":\"56.201100000\",\"car_category\":\"3\",\"departure_latitude\":\"55.035380400\",\"days_to_departure\":14,\"travel_duration\":5,\"arrival_date\":\"2019-04-26 07:34:00\",\"departure\":\"Новосибирск-Главный\",\"passengers\":2,\"registration_available\":\"true\",\"departure_date\":\"2019-04-26 02:51:00\",\"departure_country\":\"RUS\",\"adults\":1,\"arrival_country\":\"RUS\",\"departure_longitude\":\"82.895329000\"},\"id\":\"24318982\",\"amount\":\"1282.90\",\"location\":{\"ip\":\"91.197.64.57\"},\"date\":\"2019-04-12 11:19:35\"}'"
      ]
     },
     "execution_count": 17,
     "metadata": {},
     "output_type": "execute_result"
    }
   ],
   "source": [
    "df_correct_line.correct_json.values[0]"
   ]
  },
  {
   "cell_type": "code",
   "execution_count": 18,
   "metadata": {},
   "outputs": [],
   "source": [
    "df_correct_line.correct_json = df_correct_line.correct_json.apply(lambda x: re.sub(r'\\\\\\\\', r'\\\\', str(x)))"
   ]
  },
  {
   "cell_type": "code",
   "execution_count": 19,
   "metadata": {},
   "outputs": [
    {
     "data": {
      "text/plain": [
       "'{\"order\":{\"sms_notification\":\"true\",\"is_round_trip\":\"false\",\"has_rzd_bonus\":\"false\",\"seats_selected\":\"true\",\"site_zone\":\"main\",\"is_composite_trip\":\"false\",\"requested_fin_documents\":\"false\"},\"client\":{\"phone\":\"923143****\",\"account_confirmed\":\"true\",\"name\":\"Наталья Алтынбаева\",\"account_exists\":\"true\",\"email\":\"aaaaaa49@mail.ru\"},\"passengers\":[{\"sex\":\"F\",\"has_middle_name \":\"true\",\"seat_level\":\"top\",\"seat_side\":\"false\",\"seat\":\"2\",\"doc_type\":\"inner\",\"birthday \":\"1983-06-08\",\"doc_country\":\"RUS\"},{\"doc_country\":\"RUS\",\"birthday \":\"2014-03-18\",\"seat\":\"3\",\"doc_type\":\"birth\",\"seat_side\":\"false\",\"seat_level\":\"bottom\",\"has_middle_name \":\"true\",\"sex\":\"F\"}],\"train\":{\"arrival\":\"Абакан\",\"is_trailer\":\"false\",\"is_firm\":\"false\",\"departure\":\"Москва Ярославская\",\"departure_date\":\"2019-04-23 23:05:00\"},\"device\":{\"browser_version\":\"null\",\"type\":\"android\",\"http_headers\":{\"user_agent\":\"Mozilla/5.0 (Linux; Android 9; PAR-LX1) AppleWebKit/537.36 (KHTML, like Gecko) Chrome/72.0.3626.119 YaBrowser/19.3.5.299.00 Mobile Safari/537.36\"},\"browser\":\"mobile\"},\"currency\":\"RUB\",\"trip\":{\"infants\":0,\"children\":1,\"include_laundry\":\"false\",\"arrival_longitude\":\"86.421299900\",\"arrival\":\"Яя\",\"has_laundry_option\":\"true\",\"insurance_selected\":\"null\",\"arrival_latitude\":\"56.201100000\",\"car_category\":\"3\",\"departure_latitude\":\"55.035380400\",\"days_to_departure\":14,\"travel_duration\":5,\"arrival_date\":\"2019-04-26 07:34:00\",\"departure\":\"Новосибирск-Главный\",\"passengers\":2,\"registration_available\":\"true\",\"departure_date\":\"2019-04-26 02:51:00\",\"departure_country\":\"RUS\",\"adults\":1,\"arrival_country\":\"RUS\",\"departure_longitude\":\"82.895329000\"},\"id\":\"24318982\",\"amount\":\"1282.90\",\"location\":{\"ip\":\"91.197.64.57\"},\"date\":\"2019-04-12 11:19:35\"}'"
      ]
     },
     "execution_count": 19,
     "metadata": {},
     "output_type": "execute_result"
    }
   ],
   "source": [
    "line = df_correct_line.correct_json.values[0]\n",
    "line"
   ]
  },
  {
   "cell_type": "code",
   "execution_count": 20,
   "metadata": {},
   "outputs": [
    {
     "data": {
      "text/plain": [
       "{'order.sms_notification': 'true',\n",
       " 'order.is_round_trip': 'false',\n",
       " 'order.has_rzd_bonus': 'false',\n",
       " 'order.seats_selected': 'true',\n",
       " 'order.site_zone': 'main',\n",
       " 'order.is_composite_trip': 'false',\n",
       " 'order.requested_fin_documents': 'false',\n",
       " 'client.phone': '923143****',\n",
       " 'client.account_confirmed': 'true',\n",
       " 'client.name': 'Наталья Алтынбаева',\n",
       " 'client.account_exists': 'true',\n",
       " 'client.email': 'aaaaaa49@mail.ru',\n",
       " 'passengers.1.sex': 'F',\n",
       " 'passengers.1.has_middle_name ': 'true',\n",
       " 'passengers.1.seat_level': 'bottom',\n",
       " 'passengers.1.seat_side': 'false',\n",
       " 'passengers.1.seat': '3',\n",
       " 'passengers.1.doc_type': 'birth',\n",
       " 'passengers.1.birthday ': '2014-03-18',\n",
       " 'passengers.1.doc_country': 'RUS',\n",
       " 'train.arrival': 'Абакан',\n",
       " 'train.is_trailer': 'false',\n",
       " 'train.is_firm': 'false',\n",
       " 'train.departure': 'Москва Ярославская',\n",
       " 'train.departure_date': '2019-04-23 23:05:00',\n",
       " 'device.browser_version': 'null',\n",
       " 'device.type': 'android',\n",
       " 'device.http_headers.user_agent': 'Mozilla/5.0 (Linux; Android 9; PAR-LX1) AppleWebKit/537.36 (KHTML, like Gecko) Chrome/72.0.3626.119 YaBrowser/19.3.5.299.00 Mobile Safari/537.36',\n",
       " 'device.browser': 'mobile',\n",
       " 'currency': 'RUB',\n",
       " 'trip.infants': 0,\n",
       " 'trip.children': 1,\n",
       " 'trip.include_laundry': 'false',\n",
       " 'trip.arrival_longitude': '86.421299900',\n",
       " 'trip.arrival': 'Яя',\n",
       " 'trip.has_laundry_option': 'true',\n",
       " 'trip.insurance_selected': 'null',\n",
       " 'trip.arrival_latitude': '56.201100000',\n",
       " 'trip.car_category': '3',\n",
       " 'trip.departure_latitude': '55.035380400',\n",
       " 'trip.days_to_departure': 14,\n",
       " 'trip.travel_duration': 5,\n",
       " 'trip.arrival_date': '2019-04-26 07:34:00',\n",
       " 'trip.departure': 'Новосибирск-Главный',\n",
       " 'trip.passengers': 2,\n",
       " 'trip.registration_available': 'true',\n",
       " 'trip.departure_date': '2019-04-26 02:51:00',\n",
       " 'trip.departure_country': 'RUS',\n",
       " 'trip.adults': 1,\n",
       " 'trip.arrival_country': 'RUS',\n",
       " 'trip.departure_longitude': '82.895329000',\n",
       " 'id': '24318982',\n",
       " 'amount': '1282.90',\n",
       " 'location.ip': '91.197.64.57',\n",
       " 'date': '2019-04-12 11:19:35'}"
      ]
     },
     "execution_count": 20,
     "metadata": {},
     "output_type": "execute_result"
    }
   ],
   "source": [
    "d = json.loads(line)\n",
    "flat_d = Converter.get_flat_dictionary(d)\n",
    "flat_d"
   ]
  },
  {
   "cell_type": "code",
   "execution_count": 21,
   "metadata": {},
   "outputs": [
    {
     "data": {
      "text/plain": [
       "['order_id',\n",
       " 'title',\n",
       " 'merchant_order_id',\n",
       " 'json',\n",
       " 'created',\n",
       " 'incorrect_line',\n",
       " 'correct_json']"
      ]
     },
     "execution_count": 21,
     "metadata": {},
     "output_type": "execute_result"
    }
   ],
   "source": [
    "list(df_correct_line)"
   ]
  },
  {
   "cell_type": "code",
   "execution_count": 22,
   "metadata": {},
   "outputs": [
    {
     "name": "stdout",
     "output_type": "stream",
     "text": [
      "col num =81\n",
      "NULL\n"
     ]
    },
    {
     "data": {
      "text/plain": [
       "['trip.infants',\n",
       " 'passengers.1.sex',\n",
       " 'device.browser',\n",
       " 'passengers.1.doc_country',\n",
       " 'train.is_trailer',\n",
       " 'currency',\n",
       " 'trip.car_category',\n",
       " 'trip.days_to_departure',\n",
       " 'trip.arrival_date',\n",
       " 'trip.registration_available',\n",
       " 'device.http_headers.user_agent',\n",
       " 'amount',\n",
       " 'location.ip',\n",
       " 'trip.travel_duration',\n",
       " 'order.requested_fin_documents',\n",
       " 'order.site_zone',\n",
       " 'trip.include_laundry',\n",
       " 'date',\n",
       " 'train.arrival',\n",
       " 'train.is_firm',\n",
       " 'client.account_exists',\n",
       " 'trip.adults',\n",
       " 'trip.departure',\n",
       " 'passengers.1.has_middle_name ',\n",
       " 'trip.departure_latitude',\n",
       " 'client.phone',\n",
       " 'passengers.1.seat',\n",
       " 'device.type',\n",
       " 'trip.passengers',\n",
       " 'client.name',\n",
       " 'order.has_rzd_bonus',\n",
       " 'trip.arrival_longitude',\n",
       " 'trip.children',\n",
       " 'order.seats_selected',\n",
       " 'client.email',\n",
       " 'order.sms_notification',\n",
       " 'order.is_composite_trip',\n",
       " 'trip.arrival',\n",
       " 'trip.departure_country',\n",
       " 'passengers.1.birthday ',\n",
       " 'trip.insurance_selected',\n",
       " 'train.departure_date',\n",
       " 'client.account_confirmed',\n",
       " 'passengers.1.seat_side',\n",
       " 'trip.departure_date',\n",
       " 'passengers.1.doc_type',\n",
       " 'train.departure',\n",
       " 'id',\n",
       " 'trip.arrival_country',\n",
       " 'trip.has_laundry_option',\n",
       " 'passengers.1.seat_level',\n",
       " 'trip.departure_longitude',\n",
       " 'order.is_round_trip',\n",
       " 'trip.arrival_latitude',\n",
       " 'device.browser_version']"
      ]
     },
     "execution_count": 22,
     "metadata": {},
     "output_type": "execute_result"
    }
   ],
   "source": [
    "col_names = Converter.get_flat_dictionary_col_names(df_correct_line, 'correct_json')\n",
    "col_names"
   ]
  },
  {
   "cell_type": "code",
   "execution_count": 26,
   "metadata": {},
   "outputs": [
    {
     "name": "stdout",
     "output_type": "stream",
     "text": [
      "col num =81\n",
      "NULL\n"
     ]
    }
   ],
   "source": [
    "output_file = path_data + 'tmp.converted.csv'\n",
    "Converter.write_json_column_to_csv(df_correct_line, 'correct_json', col_names, output_file)"
   ]
  },
  {
   "cell_type": "markdown",
   "metadata": {},
   "source": [
    "tmp.shape"
   ]
  },
  {
   "cell_type": "code",
   "execution_count": 24,
   "metadata": {},
   "outputs": [],
   "source": [
    "col_name = 'passengers.1.sex'\n",
    "col_json_name = 'correct_json'\n",
    "col_pas_1 = Converter.convert_one_column_from_json(df_correct_line, col_json_name, col_name)"
   ]
  },
  {
   "cell_type": "code",
   "execution_count": 25,
   "metadata": {},
   "outputs": [
    {
     "data": {
      "text/plain": [
       "array(['F', 'F', 'M', 'M', 'M', 'F', 'F'], dtype=object)"
      ]
     },
     "execution_count": 25,
     "metadata": {},
     "output_type": "execute_result"
    }
   ],
   "source": [
    "col_pas_1.values[:7]"
   ]
  }
 ],
 "metadata": {
  "kernelspec": {
   "display_name": "Python 3",
   "language": "python",
   "name": "python3"
  },
  "language_info": {
   "codemirror_mode": {
    "name": "ipython",
    "version": 3
   },
   "file_extension": ".py",
   "mimetype": "text/x-python",
   "name": "python",
   "nbconvert_exporter": "python",
   "pygments_lexer": "ipython3",
   "version": "3.6.10"
  }
 },
 "nbformat": 4,
 "nbformat_minor": 1
}
