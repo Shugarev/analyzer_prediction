{
 "cells": [
  {
   "cell_type": "code",
   "execution_count": 23,
   "metadata": {},
   "outputs": [],
   "source": [
    "import pandas as pd\n",
    "import numpy as np\n",
    "import re\n",
    "import json\n",
    "from datetime import timedelta, datetime"
   ]
  },
  {
   "cell_type": "code",
   "execution_count": 24,
   "metadata": {},
   "outputs": [],
   "source": [
    "import os,sys,inspect\n",
    "currentdir = os.path.dirname(os.path.abspath(inspect.getfile(inspect.currentframe())))\n",
    "parentdir = os.path.dirname(currentdir)\n",
    "sys.path.insert(0,parentdir) \n",
    "from statistic import Statistic\n",
    "from converter import Converter\n",
    "pd.set_option('display.max_colwidth', -1)"
   ]
  },
  {
   "cell_type": "code",
   "execution_count": 25,
   "metadata": {},
   "outputs": [
    {
     "name": "stdout",
     "output_type": "stream",
     "text": [
      "The autoreload extension is already loaded. To reload it, use:\n",
      "  %reload_ext autoreload\n"
     ]
    }
   ],
   "source": [
    "# for autoreload modules\n",
    "%load_ext autoreload\n",
    "%autoreload 2"
   ]
  },
  {
   "cell_type": "code",
   "execution_count": 53,
   "metadata": {},
   "outputs": [],
   "source": [
    "path_data = '/mnt/files/workdata/work/merchants/merchant_26_tutu2/01_raw_data/data-rail-with-id_2020-02-04/'\n",
    "             \n",
    "#input_file = path_data + 'data-rail-with-id.csv'\n",
    "input_file = path_data + '40000_data-rail-with-id.csv'"
   ]
  },
  {
   "cell_type": "code",
   "execution_count": 54,
   "metadata": {},
   "outputs": [],
   "source": [
    "output_file = path_data + 'tmp-correct-data_with-id.csv'"
   ]
  },
  {
   "cell_type": "code",
   "execution_count": 61,
   "metadata": {},
   "outputs": [
    {
     "data": {
      "text/plain": [
       "(39999, 5)"
      ]
     },
     "execution_count": 61,
     "metadata": {},
     "output_type": "execute_result"
    }
   ],
   "source": [
    "df = pd.read_csv(input_file, sep='\\t', dtype=str, keep_default_na=False)#, nrows=100\n",
    "df.shape"
   ]
  },
  {
   "cell_type": "code",
   "execution_count": 56,
   "metadata": {},
   "outputs": [],
   "source": [
    "converter = Converter()"
   ]
  },
  {
   "cell_type": "code",
   "execution_count": 57,
   "metadata": {},
   "outputs": [],
   "source": [
    "col_names = converter.merge_flat_dictionary_keys_from_json_column(df, 'json')"
   ]
  },
  {
   "cell_type": "code",
   "execution_count": 58,
   "metadata": {},
   "outputs": [],
   "source": [
    "problem_lines = converter.problem_lines"
   ]
  },
  {
   "cell_type": "code",
   "execution_count": 62,
   "metadata": {},
   "outputs": [],
   "source": [
    "dt = problem_lines.get_problem_df()"
   ]
  },
  {
   "cell_type": "code",
   "execution_count": 63,
   "metadata": {},
   "outputs": [
    {
     "data": {
      "text/html": [
       "<div>\n",
       "<style scoped>\n",
       "    .dataframe tbody tr th:only-of-type {\n",
       "        vertical-align: middle;\n",
       "    }\n",
       "\n",
       "    .dataframe tbody tr th {\n",
       "        vertical-align: top;\n",
       "    }\n",
       "\n",
       "    .dataframe thead th {\n",
       "        text-align: right;\n",
       "    }\n",
       "</style>\n",
       "<table border=\"1\" class=\"dataframe\">\n",
       "  <thead>\n",
       "    <tr style=\"text-align: right;\">\n",
       "      <th></th>\n",
       "      <th>num</th>\n",
       "      <th>line</th>\n",
       "      <th>message</th>\n",
       "    </tr>\n",
       "  </thead>\n",
       "  <tbody>\n",
       "    <tr>\n",
       "      <th>0</th>\n",
       "      <td>81</td>\n",
       "      <td>NULL</td>\n",
       "      <td>incorrect json</td>\n",
       "    </tr>\n",
       "    <tr>\n",
       "      <th>1</th>\n",
       "      <td>19392</td>\n",
       "      <td>NULL</td>\n",
       "      <td>incorrect json</td>\n",
       "    </tr>\n",
       "    <tr>\n",
       "      <th>2</th>\n",
       "      <td>19627</td>\n",
       "      <td>NULL</td>\n",
       "      <td>incorrect json</td>\n",
       "    </tr>\n",
       "    <tr>\n",
       "      <th>3</th>\n",
       "      <td>20759</td>\n",
       "      <td>NULL</td>\n",
       "      <td>incorrect json</td>\n",
       "    </tr>\n",
       "    <tr>\n",
       "      <th>4</th>\n",
       "      <td>20893</td>\n",
       "      <td>NULL</td>\n",
       "      <td>incorrect json</td>\n",
       "    </tr>\n",
       "    <tr>\n",
       "      <th>5</th>\n",
       "      <td>20919</td>\n",
       "      <td>NULL</td>\n",
       "      <td>incorrect json</td>\n",
       "    </tr>\n",
       "    <tr>\n",
       "      <th>6</th>\n",
       "      <td>20970</td>\n",
       "      <td>NULL</td>\n",
       "      <td>incorrect json</td>\n",
       "    </tr>\n",
       "    <tr>\n",
       "      <th>7</th>\n",
       "      <td>21188</td>\n",
       "      <td>NULL</td>\n",
       "      <td>incorrect json</td>\n",
       "    </tr>\n",
       "    <tr>\n",
       "      <th>8</th>\n",
       "      <td>21392</td>\n",
       "      <td>NULL</td>\n",
       "      <td>incorrect json</td>\n",
       "    </tr>\n",
       "    <tr>\n",
       "      <th>9</th>\n",
       "      <td>21621</td>\n",
       "      <td>NULL</td>\n",
       "      <td>incorrect json</td>\n",
       "    </tr>\n",
       "  </tbody>\n",
       "</table>\n",
       "</div>"
      ],
      "text/plain": [
       "     num  line         message\n",
       "0  81     NULL  incorrect json\n",
       "1  19392  NULL  incorrect json\n",
       "2  19627  NULL  incorrect json\n",
       "3  20759  NULL  incorrect json\n",
       "4  20893  NULL  incorrect json\n",
       "5  20919  NULL  incorrect json\n",
       "6  20970  NULL  incorrect json\n",
       "7  21188  NULL  incorrect json\n",
       "8  21392  NULL  incorrect json\n",
       "9  21621  NULL  incorrect json"
      ]
     },
     "execution_count": 63,
     "metadata": {},
     "output_type": "execute_result"
    }
   ],
   "source": [
    "dt.iloc[:10, :]"
   ]
  },
  {
   "cell_type": "code",
   "execution_count": 64,
   "metadata": {},
   "outputs": [
    {
     "data": {
      "text/html": [
       "<div>\n",
       "<style scoped>\n",
       "    .dataframe tbody tr th:only-of-type {\n",
       "        vertical-align: middle;\n",
       "    }\n",
       "\n",
       "    .dataframe tbody tr th {\n",
       "        vertical-align: top;\n",
       "    }\n",
       "\n",
       "    .dataframe thead th {\n",
       "        text-align: right;\n",
       "    }\n",
       "</style>\n",
       "<table border=\"1\" class=\"dataframe\">\n",
       "  <thead>\n",
       "    <tr style=\"text-align: right;\">\n",
       "      <th></th>\n",
       "      <th>num</th>\n",
       "      <th>line</th>\n",
       "      <th>message</th>\n",
       "    </tr>\n",
       "  </thead>\n",
       "  <tbody>\n",
       "    <tr>\n",
       "      <th>106</th>\n",
       "      <td>27661</td>\n",
       "      <td>{\"date\":\"2019-07-18 17:48:10\",\"location\":{\"ip\":\"83.171.108.156\"},\"id\":\"26848271\",\"amount\":\"4022.70\",\"trip\":{\"insurance_selected\":null,\"departure_latitude\":\"59.918844200\",\"car_category\":\"3\",\"arrival_latitude\":\"52.430868892\",\"days_to_departure\":14,\"travel_duration\":16,\"departure\":\"Санкт-Петербург-Витеб.\",\"arrival_date\":\"2019-08-02 08:58:00\",\"infants\":0,\"children\":0,\"include_laundry\":false,\"arrival\":\"Гомель-Пасс.\",\"arrival_longitude\":\"30.991198327\",\"has_laundry_option\":false,\"adults\":1,\"departure_country\":\"RUS\",\"arrival_country\":\"RUS\",\"departure_longitude\":\"30.330026700\",\"passengers\":1,\"registration_available\":true,\"departure_date\":\"2019-08-01 17:20:00\"},\"currency\":\"RUB\",\"device\":{\"type\":\"PC\",\"http_headers\":{\"user_agent\":\"Mozilla/5.0 (Windows NT 10.0; Win64; x64) AppleWebKit/537.36 (KHTML, like Gecko) Chrome/75.0.3770.142 Safari/537.36\"},\"browser_version\":\"75\",\"browser\":\"chrome\"},\"train\":{\"arrival\":\"Гомель-Пасс.\",\"departure\":\"Санкт-Петербург-Витеб.\",\"departure_date\":\"2019-08-01 17:20:00\",\"is_trailer\":false,\"is_firm\":false},\"passengers\":[{\"sex\":\"M\",\"has_middle_name \":true,\"seat_level\":\"top\",\"seat_side\":false,\"seat\":\"2\",\"doc_type\":\"foreign\",\"birthday \":\"1978-08-14\",\"doc_country\":\"BLR\"}],\"order\":{\"is_round_trip\":false,\"sms_notification\":true,\"requested_fin_documents\":false,\"site_zone\":\"main\",\"is_composite_trip\":false,\"seats_selected\":true,\"has_rzd_bonus\":false},\"client\":{\"account_exists\":false,\"name\":\"Парк- Отель Гора\\\\\"\",\"email\":\"aaaa@medvezhiagora.ru\",\"phone\":\"7911016****\",\"account_confirmed\":false}}</td>\n",
       "      <td>incorrect json</td>\n",
       "    </tr>\n",
       "  </tbody>\n",
       "</table>\n",
       "</div>"
      ],
      "text/plain": [
       "       num  \\\n",
       "106  27661   \n",
       "\n",
       "                                                                                                                                                                                                                                                                                                                                                                                                                                                                                                                                                                                                                                                                                                                                                                                                                                                                                                                                                                                                                                                                                                                                                                                                                                                                                                                                                                                                                                                                                                                                                                                  line  \\\n",
       "106  {\"date\":\"2019-07-18 17:48:10\",\"location\":{\"ip\":\"83.171.108.156\"},\"id\":\"26848271\",\"amount\":\"4022.70\",\"trip\":{\"insurance_selected\":null,\"departure_latitude\":\"59.918844200\",\"car_category\":\"3\",\"arrival_latitude\":\"52.430868892\",\"days_to_departure\":14,\"travel_duration\":16,\"departure\":\"Санкт-Петербург-Витеб.\",\"arrival_date\":\"2019-08-02 08:58:00\",\"infants\":0,\"children\":0,\"include_laundry\":false,\"arrival\":\"Гомель-Пасс.\",\"arrival_longitude\":\"30.991198327\",\"has_laundry_option\":false,\"adults\":1,\"departure_country\":\"RUS\",\"arrival_country\":\"RUS\",\"departure_longitude\":\"30.330026700\",\"passengers\":1,\"registration_available\":true,\"departure_date\":\"2019-08-01 17:20:00\"},\"currency\":\"RUB\",\"device\":{\"type\":\"PC\",\"http_headers\":{\"user_agent\":\"Mozilla/5.0 (Windows NT 10.0; Win64; x64) AppleWebKit/537.36 (KHTML, like Gecko) Chrome/75.0.3770.142 Safari/537.36\"},\"browser_version\":\"75\",\"browser\":\"chrome\"},\"train\":{\"arrival\":\"Гомель-Пасс.\",\"departure\":\"Санкт-Петербург-Витеб.\",\"departure_date\":\"2019-08-01 17:20:00\",\"is_trailer\":false,\"is_firm\":false},\"passengers\":[{\"sex\":\"M\",\"has_middle_name \":true,\"seat_level\":\"top\",\"seat_side\":false,\"seat\":\"2\",\"doc_type\":\"foreign\",\"birthday \":\"1978-08-14\",\"doc_country\":\"BLR\"}],\"order\":{\"is_round_trip\":false,\"sms_notification\":true,\"requested_fin_documents\":false,\"site_zone\":\"main\",\"is_composite_trip\":false,\"seats_selected\":true,\"has_rzd_bonus\":false},\"client\":{\"account_exists\":false,\"name\":\"Парк- Отель Гора\\\\\"\",\"email\":\"aaaa@medvezhiagora.ru\",\"phone\":\"7911016****\",\"account_confirmed\":false}}   \n",
       "\n",
       "            message  \n",
       "106  incorrect json  "
      ]
     },
     "execution_count": 64,
     "metadata": {},
     "output_type": "execute_result"
    }
   ],
   "source": [
    "problem_lines.get_problems_df_mask()"
   ]
  }
 ],
 "metadata": {
  "kernelspec": {
   "display_name": "Python 3",
   "language": "python",
   "name": "python3"
  },
  "language_info": {
   "codemirror_mode": {
    "name": "ipython",
    "version": 3
   },
   "file_extension": ".py",
   "mimetype": "text/x-python",
   "name": "python",
   "nbconvert_exporter": "python",
   "pygments_lexer": "ipython3",
   "version": "3.6.10"
  }
 },
 "nbformat": 4,
 "nbformat_minor": 1
}
