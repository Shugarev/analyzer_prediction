{
 "cells": [
  {
   "cell_type": "code",
   "execution_count": 84,
   "metadata": {},
   "outputs": [],
   "source": [
    "import numpy as np\n",
    "import pandas as pd\n",
    "import seaborn as sns\n",
    "import matplotlib.pyplot as plt\n",
    "from sklearn.ensemble import IsolationForest"
   ]
  },
  {
   "cell_type": "code",
   "execution_count": null,
   "metadata": {},
   "outputs": [],
   "source": [
    "from utils import UtilsKy"
   ]
  },
  {
   "cell_type": "code",
   "execution_count": null,
   "metadata": {},
   "outputs": [],
   "source": [
    "np.random.seed(1)"
   ]
  },
  {
   "cell_type": "code",
   "execution_count": 4,
   "metadata": {},
   "outputs": [],
   "source": [
    "df_operations = pd.read_csv(UtilsKy.GRAFANA_OPERATIONS, dtype=str, \n",
    "                            usecols = ['id', 'created', 'amount_usd', 'project_id', 'type', 'pan'])"
   ]
  },
  {
   "cell_type": "code",
   "execution_count": 7,
   "metadata": {},
   "outputs": [],
   "source": [
    "df = df_operations[df_operations.type == 'charge'].copy()"
   ]
  },
  {
   "cell_type": "code",
   "execution_count": 8,
   "metadata": {},
   "outputs": [],
   "source": [
    "df['pan'] = df['pan'].str[:6]"
   ]
  },
  {
   "cell_type": "code",
   "execution_count": 16,
   "metadata": {},
   "outputs": [],
   "source": [
    "min_date = min(df.created)"
   ]
  },
  {
   "cell_type": "code",
   "execution_count": 17,
   "metadata": {},
   "outputs": [],
   "source": [
    "max_date = max(df.created)"
   ]
  },
  {
   "cell_type": "code",
   "execution_count": 18,
   "metadata": {},
   "outputs": [],
   "source": [
    "from datetime import timedelta, datetime"
   ]
  },
  {
   "cell_type": "code",
   "execution_count": 19,
   "metadata": {},
   "outputs": [],
   "source": [
    "date_start_test = datetime.strptime(max_date, '%Y-%m-%d %H:%M:%S') - timedelta(days=14)"
   ]
  },
  {
   "cell_type": "code",
   "execution_count": 20,
   "metadata": {},
   "outputs": [],
   "source": [
    "start_test = date_start_test.strftime('%Y-%m-%d %H:%M:%S')"
   ]
  },
  {
   "cell_type": "code",
   "execution_count": 35,
   "metadata": {},
   "outputs": [],
   "source": [
    "teach =  df[(df.created < start_test)].copy()\n",
    "test = df[(df.created >= start_test)].copy()"
   ]
  },
  {
   "cell_type": "code",
   "execution_count": 36,
   "metadata": {},
   "outputs": [],
   "source": [
    "teach = teach.sample(n=100000, random_state=1)\n",
    "test = test.sample(n=100000, random_state=1)"
   ]
  },
  {
   "cell_type": "code",
   "execution_count": 37,
   "metadata": {},
   "outputs": [],
   "source": [
    "col_factors =['pan','amount_usd']\n",
    "teach[col_factors] = teach[col_factors].apply(pd.to_numeric, errors=\"coerce\")\n",
    "test[col_factors] = test[col_factors].apply(pd.to_numeric, errors=\"coerce\")"
   ]
  },
  {
   "cell_type": "code",
   "execution_count": 38,
   "metadata": {},
   "outputs": [],
   "source": [
    "st_pid = teach.groupby('project_id').amount_usd.agg('mean').to_frame()"
   ]
  },
  {
   "cell_type": "code",
   "execution_count": 39,
   "metadata": {},
   "outputs": [
    {
     "data": {
      "text/plain": [
       "Index(['amount_usd'], dtype='object')"
      ]
     },
     "execution_count": 39,
     "metadata": {},
     "output_type": "execute_result"
    }
   ],
   "source": [
    "st_pid.columns"
   ]
  },
  {
   "cell_type": "code",
   "execution_count": 40,
   "metadata": {},
   "outputs": [],
   "source": [
    "st_pid.reset_index(level=0, inplace=True)"
   ]
  },
  {
   "cell_type": "code",
   "execution_count": 41,
   "metadata": {},
   "outputs": [],
   "source": [
    "st_pid.columns = [\"project_id\", 'mean_amount_usd_in_pid']"
   ]
  },
  {
   "cell_type": "code",
   "execution_count": 42,
   "metadata": {},
   "outputs": [],
   "source": [
    "teach = pd.merge(teach, st_pid, how = 'left', on = ['project_id']).copy()\n",
    "test = pd.merge(test, st_pid, how = 'left', on = ['project_id']).copy()"
   ]
  },
  {
   "cell_type": "code",
   "execution_count": 45,
   "metadata": {},
   "outputs": [],
   "source": [
    "teach['avg_amount_usd_in_pid'] = teach.amount_usd/ teach.mean_amount_usd_in_pid\n",
    "test['avg_amount_usd_in_pid'] = test.amount_usd/ test.mean_amount_usd_in_pid"
   ]
  },
  {
   "cell_type": "code",
   "execution_count": 46,
   "metadata": {},
   "outputs": [
    {
     "data": {
      "text/html": [
       "<div>\n",
       "<style scoped>\n",
       "    .dataframe tbody tr th:only-of-type {\n",
       "        vertical-align: middle;\n",
       "    }\n",
       "\n",
       "    .dataframe tbody tr th {\n",
       "        vertical-align: top;\n",
       "    }\n",
       "\n",
       "    .dataframe thead th {\n",
       "        text-align: right;\n",
       "    }\n",
       "</style>\n",
       "<table border=\"1\" class=\"dataframe\">\n",
       "  <thead>\n",
       "    <tr style=\"text-align: right;\">\n",
       "      <th></th>\n",
       "      <th>id</th>\n",
       "      <th>type</th>\n",
       "      <th>project_id</th>\n",
       "      <th>created</th>\n",
       "      <th>pan</th>\n",
       "      <th>amount_usd</th>\n",
       "      <th>mean_amount_usd_in_pid</th>\n",
       "      <th>avg_amount_usd_in_pid</th>\n",
       "    </tr>\n",
       "  </thead>\n",
       "  <tbody>\n",
       "    <tr>\n",
       "      <th>0</th>\n",
       "      <td>134254234</td>\n",
       "      <td>charge</td>\n",
       "      <td>224f3d3120309f994e744af6ed64dddc18a82888</td>\n",
       "      <td>2020-03-06 10:25:52</td>\n",
       "      <td>414949</td>\n",
       "      <td>5.217</td>\n",
       "      <td>5.803871</td>\n",
       "      <td>0.898883</td>\n",
       "    </tr>\n",
       "    <tr>\n",
       "      <th>1</th>\n",
       "      <td>130036244</td>\n",
       "      <td>charge</td>\n",
       "      <td>51dfe45c685dbb9ac1b650122838facfb4f209f1</td>\n",
       "      <td>2020-02-07 02:41:35</td>\n",
       "      <td>489504</td>\n",
       "      <td>200.000</td>\n",
       "      <td>141.358674</td>\n",
       "      <td>1.414841</td>\n",
       "    </tr>\n",
       "    <tr>\n",
       "      <th>2</th>\n",
       "      <td>125652873</td>\n",
       "      <td>charge</td>\n",
       "      <td>8901f0b3f6f78a91dd7837199883454456f2ae37</td>\n",
       "      <td>2020-01-12 02:21:09</td>\n",
       "      <td>402944</td>\n",
       "      <td>26.480</td>\n",
       "      <td>94.430482</td>\n",
       "      <td>0.280418</td>\n",
       "    </tr>\n",
       "    <tr>\n",
       "      <th>3</th>\n",
       "      <td>124716124</td>\n",
       "      <td>charge</td>\n",
       "      <td>224f3d3120309f994e744af6ed64dddc18a82888</td>\n",
       "      <td>2020-01-07 06:43:07</td>\n",
       "      <td>411997</td>\n",
       "      <td>1.147</td>\n",
       "      <td>5.803871</td>\n",
       "      <td>0.197627</td>\n",
       "    </tr>\n",
       "    <tr>\n",
       "      <th>4</th>\n",
       "      <td>128324238</td>\n",
       "      <td>charge</td>\n",
       "      <td>224f3d3120309f994e744af6ed64dddc18a82888</td>\n",
       "      <td>2020-01-26 15:33:34</td>\n",
       "      <td>516922</td>\n",
       "      <td>3.422</td>\n",
       "      <td>5.803871</td>\n",
       "      <td>0.589607</td>\n",
       "    </tr>\n",
       "  </tbody>\n",
       "</table>\n",
       "</div>"
      ],
      "text/plain": [
       "          id    type                                project_id  \\\n",
       "0  134254234  charge  224f3d3120309f994e744af6ed64dddc18a82888   \n",
       "1  130036244  charge  51dfe45c685dbb9ac1b650122838facfb4f209f1   \n",
       "2  125652873  charge  8901f0b3f6f78a91dd7837199883454456f2ae37   \n",
       "3  124716124  charge  224f3d3120309f994e744af6ed64dddc18a82888   \n",
       "4  128324238  charge  224f3d3120309f994e744af6ed64dddc18a82888   \n",
       "\n",
       "               created     pan  amount_usd  mean_amount_usd_in_pid  \\\n",
       "0  2020-03-06 10:25:52  414949       5.217                5.803871   \n",
       "1  2020-02-07 02:41:35  489504     200.000              141.358674   \n",
       "2  2020-01-12 02:21:09  402944      26.480               94.430482   \n",
       "3  2020-01-07 06:43:07  411997       1.147                5.803871   \n",
       "4  2020-01-26 15:33:34  516922       3.422                5.803871   \n",
       "\n",
       "   avg_amount_usd_in_pid  \n",
       "0               0.898883  \n",
       "1               1.414841  \n",
       "2               0.280418  \n",
       "3               0.197627  \n",
       "4               0.589607  "
      ]
     },
     "execution_count": 46,
     "metadata": {},
     "output_type": "execute_result"
    }
   ],
   "source": [
    "teach.head()"
   ]
  },
  {
   "cell_type": "code",
   "execution_count": 52,
   "metadata": {},
   "outputs": [],
   "source": [
    "col_factors = ['mean_amount_usd_in_pid', 'amount_usd']"
   ]
  },
  {
   "cell_type": "code",
   "execution_count": 86,
   "metadata": {},
   "outputs": [],
   "source": [
    "replace_val = -9999\n",
    "\n",
    "db_teach = teach[col_factors].fillna(replace_val)\n",
    "db_test = test[col_factors].fillna(replace_val)\n",
    "\n",
    "teach_d = db_teach.values\n",
    "test_d = db_test.values"
   ]
  },
  {
   "cell_type": "code",
   "execution_count": 87,
   "metadata": {},
   "outputs": [],
   "source": [
    "#db_teach.head()"
   ]
  },
  {
   "cell_type": "code",
   "execution_count": 57,
   "metadata": {},
   "outputs": [],
   "source": [
    "#----------------------------------------------------------------------------------IsolationForest"
   ]
  },
  {
   "cell_type": "code",
   "execution_count": 88,
   "metadata": {},
   "outputs": [],
   "source": [
    "model=IsolationForest(n_estimators=50, max_samples='auto', contamination=float(0.1),max_features=1.0)"
   ]
  },
  {
   "cell_type": "code",
   "execution_count": 89,
   "metadata": {},
   "outputs": [
    {
     "data": {
      "text/plain": [
       "IsolationForest(contamination=0.1, n_estimators=50)"
      ]
     },
     "execution_count": 89,
     "metadata": {},
     "output_type": "execute_result"
    }
   ],
   "source": [
    "model.fit(teach_d)"
   ]
  },
  {
   "cell_type": "code",
   "execution_count": 90,
   "metadata": {},
   "outputs": [
    {
     "data": {
      "text/plain": [
       "IsolationForest(contamination=0.1, n_estimators=50)"
      ]
     },
     "execution_count": 90,
     "metadata": {},
     "output_type": "execute_result"
    }
   ],
   "source": [
    "model.fit(test_d)"
   ]
  },
  {
   "cell_type": "code",
   "execution_count": 100,
   "metadata": {},
   "outputs": [],
   "source": [
    "teach['score'] = model.decision_function(teach_d)\n",
    "teach['anomaly'] = model.predict(teach_d)"
   ]
  },
  {
   "cell_type": "code",
   "execution_count": 101,
   "metadata": {},
   "outputs": [],
   "source": [
    "test['score'] = model.decision_function(test_d)\n",
    "test['anomaly'] = model.predict(test_d)"
   ]
  },
  {
   "cell_type": "code",
   "execution_count": 102,
   "metadata": {},
   "outputs": [
    {
     "data": {
      "text/html": [
       "<div>\n",
       "<style scoped>\n",
       "    .dataframe tbody tr th:only-of-type {\n",
       "        vertical-align: middle;\n",
       "    }\n",
       "\n",
       "    .dataframe tbody tr th {\n",
       "        vertical-align: top;\n",
       "    }\n",
       "\n",
       "    .dataframe thead th {\n",
       "        text-align: right;\n",
       "    }\n",
       "</style>\n",
       "<table border=\"1\" class=\"dataframe\">\n",
       "  <thead>\n",
       "    <tr style=\"text-align: right;\">\n",
       "      <th></th>\n",
       "      <th>mean_amount_usd_in_pid</th>\n",
       "      <th>amount_usd</th>\n",
       "      <th>preds</th>\n",
       "      <th>score</th>\n",
       "      <th>anomaly</th>\n",
       "    </tr>\n",
       "  </thead>\n",
       "  <tbody>\n",
       "    <tr>\n",
       "      <th>0</th>\n",
       "      <td>5.803871</td>\n",
       "      <td>5.217</td>\n",
       "      <td>1</td>\n",
       "      <td>0.185061</td>\n",
       "      <td>1</td>\n",
       "    </tr>\n",
       "    <tr>\n",
       "      <th>1</th>\n",
       "      <td>141.358674</td>\n",
       "      <td>200.000</td>\n",
       "      <td>-1</td>\n",
       "      <td>-0.111062</td>\n",
       "      <td>-1</td>\n",
       "    </tr>\n",
       "    <tr>\n",
       "      <th>2</th>\n",
       "      <td>94.430482</td>\n",
       "      <td>26.480</td>\n",
       "      <td>-1</td>\n",
       "      <td>0.068805</td>\n",
       "      <td>1</td>\n",
       "    </tr>\n",
       "    <tr>\n",
       "      <th>3</th>\n",
       "      <td>5.803871</td>\n",
       "      <td>1.147</td>\n",
       "      <td>1</td>\n",
       "      <td>0.185370</td>\n",
       "      <td>1</td>\n",
       "    </tr>\n",
       "    <tr>\n",
       "      <th>4</th>\n",
       "      <td>5.803871</td>\n",
       "      <td>3.422</td>\n",
       "      <td>1</td>\n",
       "      <td>0.190996</td>\n",
       "      <td>1</td>\n",
       "    </tr>\n",
       "  </tbody>\n",
       "</table>\n",
       "</div>"
      ],
      "text/plain": [
       "   mean_amount_usd_in_pid  amount_usd  preds     score  anomaly\n",
       "0                5.803871       5.217      1  0.185061        1\n",
       "1              141.358674     200.000     -1 -0.111062       -1\n",
       "2               94.430482      26.480     -1  0.068805        1\n",
       "3                5.803871       1.147      1  0.185370        1\n",
       "4                5.803871       3.422      1  0.190996        1"
      ]
     },
     "execution_count": 102,
     "metadata": {},
     "output_type": "execute_result"
    }
   ],
   "source": [
    "teach.head()"
   ]
  },
  {
   "cell_type": "code",
   "execution_count": 104,
   "metadata": {},
   "outputs": [
    {
     "data": {
      "text/plain": [
       " 1    93414\n",
       "-1     6586\n",
       "Name: anomaly, dtype: int64"
      ]
     },
     "execution_count": 104,
     "metadata": {},
     "output_type": "execute_result"
    }
   ],
   "source": [
    "teach.anomaly.value_counts()"
   ]
  },
  {
   "cell_type": "code",
   "execution_count": 105,
   "metadata": {},
   "outputs": [],
   "source": [
    "teach_anomaly = teach[teach.anomaly == -1]\n",
    "test_anomaly = test[test.anomaly == -1]"
   ]
  },
  {
   "cell_type": "code",
   "execution_count": 106,
   "metadata": {},
   "outputs": [
    {
     "data": {
      "text/plain": [
       "-0.3402100728142933"
      ]
     },
     "execution_count": 106,
     "metadata": {},
     "output_type": "execute_result"
    }
   ],
   "source": [
    "min(test_anomaly.score)"
   ]
  },
  {
   "cell_type": "code",
   "execution_count": 107,
   "metadata": {},
   "outputs": [
    {
     "data": {
      "text/plain": [
       "-1.1347983426390762e-05"
      ]
     },
     "execution_count": 107,
     "metadata": {},
     "output_type": "execute_result"
    }
   ],
   "source": [
    "max(test_anomaly.score)"
   ]
  },
  {
   "cell_type": "code",
   "execution_count": 71,
   "metadata": {},
   "outputs": [],
   "source": [
    "preds_teach = clf.fit_predict(teach_d)\n",
    "preds_test = clf.fit_predict(test_d)"
   ]
  },
  {
   "cell_type": "code",
   "execution_count": 79,
   "metadata": {},
   "outputs": [],
   "source": [
    "teach['preds'] = preds_teach\n",
    "test['preds'] = preds_test"
   ]
  },
  {
   "cell_type": "code",
   "execution_count": 80,
   "metadata": {},
   "outputs": [],
   "source": [
    "teach_anomaly = teach[teach.preds == -1]\n",
    "test_anomaly = test[test.preds == -1]"
   ]
  },
  {
   "cell_type": "code",
   "execution_count": 82,
   "metadata": {},
   "outputs": [
    {
     "data": {
      "text/plain": [
       "-1    24242\n",
       "Name: preds, dtype: int64"
      ]
     },
     "execution_count": 82,
     "metadata": {},
     "output_type": "execute_result"
    }
   ],
   "source": [
    "teach_anomaly.preds.value_counts()"
   ]
  },
  {
   "cell_type": "code",
   "execution_count": 83,
   "metadata": {},
   "outputs": [
    {
     "data": {
      "text/plain": [
       "-1    18246\n",
       "Name: preds, dtype: int64"
      ]
     },
     "execution_count": 83,
     "metadata": {},
     "output_type": "execute_result"
    }
   ],
   "source": [
    "test_anomaly.preds.value_counts()"
   ]
  }
 ],
 "metadata": {
  "kernelspec": {
   "display_name": "Python 3",
   "language": "python",
   "name": "python3"
  },
  "language_info": {
   "codemirror_mode": {
    "name": "ipython",
    "version": 3
   },
   "file_extension": ".py",
   "mimetype": "text/x-python",
   "name": "python",
   "nbconvert_exporter": "python",
   "pygments_lexer": "ipython3",
   "version": "3.6.10"
  }
 },
 "nbformat": 4,
 "nbformat_minor": 4
}
