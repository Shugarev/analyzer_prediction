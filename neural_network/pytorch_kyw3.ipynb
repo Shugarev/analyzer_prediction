{
 "cells": [
  {
   "cell_type": "code",
   "execution_count": 1,
   "metadata": {},
   "outputs": [],
   "source": [
    "import pandas as pd\n",
    "import numpy as np\n",
    "pd.set_option('display.max_colwidth', 100)\n",
    "pd.set_option('display.max_rows', 20)\n",
    "pd.set_option('display.max_columns', 500)"
   ]
  },
  {
   "cell_type": "code",
   "execution_count": 2,
   "metadata": {},
   "outputs": [],
   "source": [
    "import os,sys,inspect\n",
    "currentdir = os.path.dirname(os.path.abspath(inspect.getfile(inspect.currentframe())))\n",
    "parentdir = os.path.dirname(currentdir)\n",
    "sys.path.insert(0,parentdir)"
   ]
  },
  {
   "cell_type": "code",
   "execution_count": 3,
   "metadata": {},
   "outputs": [],
   "source": [
    "from utils import UtilsKy\n",
    "from analyzer import AnalyzerPrediction"
   ]
  },
  {
   "cell_type": "code",
   "execution_count": 4,
   "metadata": {},
   "outputs": [],
   "source": [
    "# for autoreload modules\n",
    "%load_ext autoreload\n",
    "%autoreload 2"
   ]
  },
  {
   "cell_type": "code",
   "execution_count": 5,
   "metadata": {},
   "outputs": [],
   "source": [
    "# pytorch mlp for binary classification\n",
    "from numpy import vstack\n",
    "from pandas import read_csv\n",
    "from sklearn.preprocessing import LabelEncoder\n",
    "from torch.utils.data import Dataset \n",
    "from torch.utils.data import DataLoader\n",
    "from torch.utils.data import random_split\n",
    "from torch import Tensor\n",
    "from torch.nn import Linear\n",
    "from torch.nn import ReLU\n",
    "from torch.nn import Sigmoid\n",
    "from torch.nn import Module\n",
    "from torch.optim import SGD\n",
    "from torch.nn import BCELoss\n",
    "from torch.nn.init import kaiming_uniform_\n",
    "from torch.nn.init import xavier_uniform_\n",
    "import joblib"
   ]
  },
  {
   "cell_type": "code",
   "execution_count": 6,
   "metadata": {},
   "outputs": [],
   "source": [
    "def minMaxScaler_own(teach, test):\n",
    "    teach = teach.copy()\n",
    "    test = test.copy()\n",
    "    col_names = list(teach)\n",
    "    for col in col_names:\n",
    "        x_min = teach[col].min(axis=0)\n",
    "        x_max = teach[col].max(axis=0)\n",
    "        teach[col] = (teach[col] - x_min) / (x_max - x_min)\n",
    "        test[col] = (test[col] - x_min) / (x_max - x_min)\n",
    "        test[col] = np.where(test[col] > 1,  1, test[col])\n",
    "        test[col] = np.where(test[col] < 0 , 0, test[col])        \n",
    "    return teach, test\n",
    "\n",
    "def get_scaler_params(teach):\n",
    "    col_names = list(teach)\n",
    "    scaler_params = {}\n",
    "    for col in col_names:\n",
    "        x_min = teach[col].min(axis=0)\n",
    "        x_max = teach[col].max(axis=0)\n",
    "        scaler_params[col + \"_min\"] = x_min\n",
    "        scaler_params[col + \"_max\"] = x_max\n",
    "    return scaler_params"
   ]
  },
  {
   "cell_type": "code",
   "execution_count": 7,
   "metadata": {},
   "outputs": [],
   "source": [
    "db_teach = pd.read_csv( UtilsKy.DB_TEACH_KYW3, dtype=str, encoding='cp1251')"
   ]
  },
  {
   "cell_type": "code",
   "execution_count": 8,
   "metadata": {},
   "outputs": [],
   "source": [
    "db_test = pd.read_csv(UtilsKy.DB_TEST_KYW3, dtype=str, encoding='cp1251')"
   ]
  },
  {
   "cell_type": "code",
   "execution_count": 9,
   "metadata": {},
   "outputs": [],
   "source": [
    "white = pd.read_csv(UtilsKy.WHITE_KYW3 , dtype=str)"
   ]
  },
  {
   "cell_type": "code",
   "execution_count": 10,
   "metadata": {},
   "outputs": [],
   "source": [
    "COL_FACTORS = ['amount', 'bank_currency', 'bin', 'count_months_to_end_card', 'day_of_week', 'is_city_resolved', 'hour',\n",
    "                                                             'is_gender_undefined', 'latitude', 'longitude', 'phone_2_norm']\n",
    "COL_FACTORS = sorted(COL_FACTORS)"
   ]
  },
  {
   "cell_type": "code",
   "execution_count": 11,
   "metadata": {},
   "outputs": [],
   "source": [
    "train = db_teach[COL_FACTORS].apply(pd.to_numeric, errors=\"coerce\").copy()\n",
    "test = db_test[COL_FACTORS].apply(pd.to_numeric, errors=\"coerce\").copy()"
   ]
  },
  {
   "cell_type": "code",
   "execution_count": 12,
   "metadata": {},
   "outputs": [
    {
     "data": {
      "text/html": [
       "<div>\n",
       "<style scoped>\n",
       "    .dataframe tbody tr th:only-of-type {\n",
       "        vertical-align: middle;\n",
       "    }\n",
       "\n",
       "    .dataframe tbody tr th {\n",
       "        vertical-align: top;\n",
       "    }\n",
       "\n",
       "    .dataframe thead th {\n",
       "        text-align: right;\n",
       "    }\n",
       "</style>\n",
       "<table border=\"1\" class=\"dataframe\">\n",
       "  <thead>\n",
       "    <tr style=\"text-align: right;\">\n",
       "      <th></th>\n",
       "      <th>amount</th>\n",
       "      <th>bank_currency</th>\n",
       "      <th>bin</th>\n",
       "      <th>count_months_to_end_card</th>\n",
       "      <th>day_of_week</th>\n",
       "      <th>hour</th>\n",
       "      <th>is_city_resolved</th>\n",
       "      <th>is_gender_undefined</th>\n",
       "      <th>latitude</th>\n",
       "      <th>longitude</th>\n",
       "      <th>phone_2_norm</th>\n",
       "    </tr>\n",
       "  </thead>\n",
       "  <tbody>\n",
       "    <tr>\n",
       "      <th>0</th>\n",
       "      <td>158.85</td>\n",
       "      <td>840</td>\n",
       "      <td>510932</td>\n",
       "      <td>19</td>\n",
       "      <td>2</td>\n",
       "      <td>0</td>\n",
       "      <td>1</td>\n",
       "      <td>1</td>\n",
       "      <td>44.1843</td>\n",
       "      <td>-88.5305</td>\n",
       "      <td>20</td>\n",
       "    </tr>\n",
       "    <tr>\n",
       "      <th>1</th>\n",
       "      <td>26.48</td>\n",
       "      <td>840</td>\n",
       "      <td>510929</td>\n",
       "      <td>47</td>\n",
       "      <td>2</td>\n",
       "      <td>0</td>\n",
       "      <td>1</td>\n",
       "      <td>0</td>\n",
       "      <td>40.3814</td>\n",
       "      <td>-82.4993</td>\n",
       "      <td>23</td>\n",
       "    </tr>\n",
       "    <tr>\n",
       "      <th>2</th>\n",
       "      <td>21.18</td>\n",
       "      <td>840</td>\n",
       "      <td>542418</td>\n",
       "      <td>0</td>\n",
       "      <td>2</td>\n",
       "      <td>0</td>\n",
       "      <td>1</td>\n",
       "      <td>1</td>\n",
       "      <td>42.9960</td>\n",
       "      <td>-85.6314</td>\n",
       "      <td>16</td>\n",
       "    </tr>\n",
       "    <tr>\n",
       "      <th>3</th>\n",
       "      <td>55.76</td>\n",
       "      <td>840</td>\n",
       "      <td>542432</td>\n",
       "      <td>35</td>\n",
       "      <td>2</td>\n",
       "      <td>0</td>\n",
       "      <td>1</td>\n",
       "      <td>0</td>\n",
       "      <td>42.0152</td>\n",
       "      <td>-87.9901</td>\n",
       "      <td>47</td>\n",
       "    </tr>\n",
       "    <tr>\n",
       "      <th>4</th>\n",
       "      <td>53.16</td>\n",
       "      <td>840</td>\n",
       "      <td>517805</td>\n",
       "      <td>46</td>\n",
       "      <td>2</td>\n",
       "      <td>0</td>\n",
       "      <td>0</td>\n",
       "      <td>1</td>\n",
       "      <td>38.0000</td>\n",
       "      <td>-97.0000</td>\n",
       "      <td>10</td>\n",
       "    </tr>\n",
       "    <tr>\n",
       "      <th>...</th>\n",
       "      <td>...</td>\n",
       "      <td>...</td>\n",
       "      <td>...</td>\n",
       "      <td>...</td>\n",
       "      <td>...</td>\n",
       "      <td>...</td>\n",
       "      <td>...</td>\n",
       "      <td>...</td>\n",
       "      <td>...</td>\n",
       "      <td>...</td>\n",
       "      <td>...</td>\n",
       "    </tr>\n",
       "    <tr>\n",
       "      <th>25</th>\n",
       "      <td>53.16</td>\n",
       "      <td>840</td>\n",
       "      <td>531260</td>\n",
       "      <td>47</td>\n",
       "      <td>2</td>\n",
       "      <td>0</td>\n",
       "      <td>1</td>\n",
       "      <td>0</td>\n",
       "      <td>26.2968</td>\n",
       "      <td>-81.7896</td>\n",
       "      <td>39</td>\n",
       "    </tr>\n",
       "    <tr>\n",
       "      <th>26</th>\n",
       "      <td>106.58</td>\n",
       "      <td>840</td>\n",
       "      <td>551215</td>\n",
       "      <td>32</td>\n",
       "      <td>2</td>\n",
       "      <td>0</td>\n",
       "      <td>1</td>\n",
       "      <td>0</td>\n",
       "      <td>42.4215</td>\n",
       "      <td>-82.8987</td>\n",
       "      <td>48</td>\n",
       "    </tr>\n",
       "    <tr>\n",
       "      <th>27</th>\n",
       "      <td>100.54</td>\n",
       "      <td>840</td>\n",
       "      <td>517805</td>\n",
       "      <td>20</td>\n",
       "      <td>2</td>\n",
       "      <td>0</td>\n",
       "      <td>1</td>\n",
       "      <td>1</td>\n",
       "      <td>33.6238</td>\n",
       "      <td>-112.0040</td>\n",
       "      <td>48</td>\n",
       "    </tr>\n",
       "    <tr>\n",
       "      <th>28</th>\n",
       "      <td>20.12</td>\n",
       "      <td>840</td>\n",
       "      <td>517805</td>\n",
       "      <td>29</td>\n",
       "      <td>2</td>\n",
       "      <td>0</td>\n",
       "      <td>0</td>\n",
       "      <td>1</td>\n",
       "      <td>38.0000</td>\n",
       "      <td>-97.0000</td>\n",
       "      <td>3</td>\n",
       "    </tr>\n",
       "    <tr>\n",
       "      <th>29</th>\n",
       "      <td>52.95</td>\n",
       "      <td>840</td>\n",
       "      <td>542418</td>\n",
       "      <td>7</td>\n",
       "      <td>2</td>\n",
       "      <td>0</td>\n",
       "      <td>0</td>\n",
       "      <td>1</td>\n",
       "      <td>38.0000</td>\n",
       "      <td>-97.0000</td>\n",
       "      <td>14</td>\n",
       "    </tr>\n",
       "  </tbody>\n",
       "</table>\n",
       "<p>30 rows × 11 columns</p>\n",
       "</div>"
      ],
      "text/plain": [
       "    amount  bank_currency     bin  count_months_to_end_card  day_of_week  \\\n",
       "0   158.85            840  510932                        19            2   \n",
       "1    26.48            840  510929                        47            2   \n",
       "2    21.18            840  542418                         0            2   \n",
       "3    55.76            840  542432                        35            2   \n",
       "4    53.16            840  517805                        46            2   \n",
       "..     ...            ...     ...                       ...          ...   \n",
       "25   53.16            840  531260                        47            2   \n",
       "26  106.58            840  551215                        32            2   \n",
       "27  100.54            840  517805                        20            2   \n",
       "28   20.12            840  517805                        29            2   \n",
       "29   52.95            840  542418                         7            2   \n",
       "\n",
       "    hour  is_city_resolved  is_gender_undefined  latitude  longitude  \\\n",
       "0      0                 1                    1   44.1843   -88.5305   \n",
       "1      0                 1                    0   40.3814   -82.4993   \n",
       "2      0                 1                    1   42.9960   -85.6314   \n",
       "3      0                 1                    0   42.0152   -87.9901   \n",
       "4      0                 0                    1   38.0000   -97.0000   \n",
       "..   ...               ...                  ...       ...        ...   \n",
       "25     0                 1                    0   26.2968   -81.7896   \n",
       "26     0                 1                    0   42.4215   -82.8987   \n",
       "27     0                 1                    1   33.6238  -112.0040   \n",
       "28     0                 0                    1   38.0000   -97.0000   \n",
       "29     0                 0                    1   38.0000   -97.0000   \n",
       "\n",
       "    phone_2_norm  \n",
       "0             20  \n",
       "1             23  \n",
       "2             16  \n",
       "3             47  \n",
       "4             10  \n",
       "..           ...  \n",
       "25            39  \n",
       "26            48  \n",
       "27            48  \n",
       "28             3  \n",
       "29            14  \n",
       "\n",
       "[30 rows x 11 columns]"
      ]
     },
     "execution_count": 12,
     "metadata": {},
     "output_type": "execute_result"
    }
   ],
   "source": [
    "test.head(30)"
   ]
  },
  {
   "cell_type": "code",
   "execution_count": 13,
   "metadata": {},
   "outputs": [
    {
     "data": {
      "text/html": [
       "<div>\n",
       "<style scoped>\n",
       "    .dataframe tbody tr th:only-of-type {\n",
       "        vertical-align: middle;\n",
       "    }\n",
       "\n",
       "    .dataframe tbody tr th {\n",
       "        vertical-align: top;\n",
       "    }\n",
       "\n",
       "    .dataframe thead th {\n",
       "        text-align: right;\n",
       "    }\n",
       "</style>\n",
       "<table border=\"1\" class=\"dataframe\">\n",
       "  <thead>\n",
       "    <tr style=\"text-align: right;\">\n",
       "      <th></th>\n",
       "      <th>amount</th>\n",
       "      <th>bank_currency</th>\n",
       "      <th>bin</th>\n",
       "      <th>count_months_to_end_card</th>\n",
       "      <th>day_of_week</th>\n",
       "      <th>hour</th>\n",
       "      <th>is_city_resolved</th>\n",
       "      <th>is_gender_undefined</th>\n",
       "      <th>latitude</th>\n",
       "      <th>longitude</th>\n",
       "      <th>phone_2_norm</th>\n",
       "    </tr>\n",
       "  </thead>\n",
       "  <tbody>\n",
       "    <tr>\n",
       "      <th>218</th>\n",
       "      <td>3.80</td>\n",
       "      <td>76</td>\n",
       "      <td>535016</td>\n",
       "      <td>57</td>\n",
       "      <td>3</td>\n",
       "      <td>20</td>\n",
       "      <td>0</td>\n",
       "      <td>1</td>\n",
       "      <td>NaN</td>\n",
       "      <td>NaN</td>\n",
       "      <td>19</td>\n",
       "    </tr>\n",
       "    <tr>\n",
       "      <th>368</th>\n",
       "      <td>7.13</td>\n",
       "      <td>76</td>\n",
       "      <td>535016</td>\n",
       "      <td>57</td>\n",
       "      <td>3</td>\n",
       "      <td>22</td>\n",
       "      <td>0</td>\n",
       "      <td>1</td>\n",
       "      <td>NaN</td>\n",
       "      <td>NaN</td>\n",
       "      <td>19</td>\n",
       "    </tr>\n",
       "    <tr>\n",
       "      <th>393</th>\n",
       "      <td>11.88</td>\n",
       "      <td>76</td>\n",
       "      <td>535016</td>\n",
       "      <td>57</td>\n",
       "      <td>3</td>\n",
       "      <td>22</td>\n",
       "      <td>0</td>\n",
       "      <td>1</td>\n",
       "      <td>NaN</td>\n",
       "      <td>NaN</td>\n",
       "      <td>19</td>\n",
       "    </tr>\n",
       "    <tr>\n",
       "      <th>398</th>\n",
       "      <td>71.26</td>\n",
       "      <td>76</td>\n",
       "      <td>544731</td>\n",
       "      <td>43</td>\n",
       "      <td>3</td>\n",
       "      <td>22</td>\n",
       "      <td>0</td>\n",
       "      <td>1</td>\n",
       "      <td>NaN</td>\n",
       "      <td>NaN</td>\n",
       "      <td>19</td>\n",
       "    </tr>\n",
       "    <tr>\n",
       "      <th>407</th>\n",
       "      <td>3.56</td>\n",
       "      <td>76</td>\n",
       "      <td>535016</td>\n",
       "      <td>57</td>\n",
       "      <td>3</td>\n",
       "      <td>23</td>\n",
       "      <td>0</td>\n",
       "      <td>1</td>\n",
       "      <td>NaN</td>\n",
       "      <td>NaN</td>\n",
       "      <td>19</td>\n",
       "    </tr>\n",
       "  </tbody>\n",
       "</table>\n",
       "</div>"
      ],
      "text/plain": [
       "     amount  bank_currency     bin  count_months_to_end_card  day_of_week  \\\n",
       "218    3.80             76  535016                        57            3   \n",
       "368    7.13             76  535016                        57            3   \n",
       "393   11.88             76  535016                        57            3   \n",
       "398   71.26             76  544731                        43            3   \n",
       "407    3.56             76  535016                        57            3   \n",
       "\n",
       "     hour  is_city_resolved  is_gender_undefined  latitude  longitude  \\\n",
       "218    20                 0                    1       NaN        NaN   \n",
       "368    22                 0                    1       NaN        NaN   \n",
       "393    22                 0                    1       NaN        NaN   \n",
       "398    22                 0                    1       NaN        NaN   \n",
       "407    23                 0                    1       NaN        NaN   \n",
       "\n",
       "     phone_2_norm  \n",
       "218            19  \n",
       "368            19  \n",
       "393            19  \n",
       "398            19  \n",
       "407            19  "
      ]
     },
     "execution_count": 13,
     "metadata": {},
     "output_type": "execute_result"
    }
   ],
   "source": [
    "mask = train.isnull().any(axis=1)\n",
    "train[mask].head()"
   ]
  },
  {
   "cell_type": "code",
   "execution_count": 14,
   "metadata": {},
   "outputs": [
    {
     "data": {
      "text/html": [
       "<div>\n",
       "<style scoped>\n",
       "    .dataframe tbody tr th:only-of-type {\n",
       "        vertical-align: middle;\n",
       "    }\n",
       "\n",
       "    .dataframe tbody tr th {\n",
       "        vertical-align: top;\n",
       "    }\n",
       "\n",
       "    .dataframe thead th {\n",
       "        text-align: right;\n",
       "    }\n",
       "</style>\n",
       "<table border=\"1\" class=\"dataframe\">\n",
       "  <thead>\n",
       "    <tr style=\"text-align: right;\">\n",
       "      <th></th>\n",
       "      <th>amount</th>\n",
       "      <th>bank_currency</th>\n",
       "      <th>bin</th>\n",
       "      <th>count_months_to_end_card</th>\n",
       "      <th>day_of_week</th>\n",
       "      <th>hour</th>\n",
       "      <th>is_city_resolved</th>\n",
       "      <th>is_gender_undefined</th>\n",
       "      <th>latitude</th>\n",
       "      <th>longitude</th>\n",
       "      <th>phone_2_norm</th>\n",
       "    </tr>\n",
       "  </thead>\n",
       "  <tbody>\n",
       "    <tr>\n",
       "      <th>247</th>\n",
       "      <td>76.92</td>\n",
       "      <td>124</td>\n",
       "      <td>543440</td>\n",
       "      <td>4</td>\n",
       "      <td>2</td>\n",
       "      <td>2</td>\n",
       "      <td>0</td>\n",
       "      <td>0</td>\n",
       "      <td>NaN</td>\n",
       "      <td>NaN</td>\n",
       "      <td>13</td>\n",
       "    </tr>\n",
       "    <tr>\n",
       "      <th>703</th>\n",
       "      <td>3.77</td>\n",
       "      <td>76</td>\n",
       "      <td>534543</td>\n",
       "      <td>93</td>\n",
       "      <td>2</td>\n",
       "      <td>6</td>\n",
       "      <td>0</td>\n",
       "      <td>1</td>\n",
       "      <td>NaN</td>\n",
       "      <td>NaN</td>\n",
       "      <td>19</td>\n",
       "    </tr>\n",
       "    <tr>\n",
       "      <th>1050</th>\n",
       "      <td>3.77</td>\n",
       "      <td>76</td>\n",
       "      <td>534543</td>\n",
       "      <td>93</td>\n",
       "      <td>2</td>\n",
       "      <td>12</td>\n",
       "      <td>0</td>\n",
       "      <td>1</td>\n",
       "      <td>NaN</td>\n",
       "      <td>NaN</td>\n",
       "      <td>19</td>\n",
       "    </tr>\n",
       "    <tr>\n",
       "      <th>1088</th>\n",
       "      <td>3.77</td>\n",
       "      <td>76</td>\n",
       "      <td>534543</td>\n",
       "      <td>93</td>\n",
       "      <td>2</td>\n",
       "      <td>13</td>\n",
       "      <td>0</td>\n",
       "      <td>1</td>\n",
       "      <td>NaN</td>\n",
       "      <td>NaN</td>\n",
       "      <td>19</td>\n",
       "    </tr>\n",
       "    <tr>\n",
       "      <th>1390</th>\n",
       "      <td>9.42</td>\n",
       "      <td>76</td>\n",
       "      <td>515590</td>\n",
       "      <td>48</td>\n",
       "      <td>2</td>\n",
       "      <td>17</td>\n",
       "      <td>0</td>\n",
       "      <td>1</td>\n",
       "      <td>NaN</td>\n",
       "      <td>NaN</td>\n",
       "      <td>19</td>\n",
       "    </tr>\n",
       "  </tbody>\n",
       "</table>\n",
       "</div>"
      ],
      "text/plain": [
       "      amount  bank_currency     bin  count_months_to_end_card  day_of_week  \\\n",
       "247    76.92            124  543440                         4            2   \n",
       "703     3.77             76  534543                        93            2   \n",
       "1050    3.77             76  534543                        93            2   \n",
       "1088    3.77             76  534543                        93            2   \n",
       "1390    9.42             76  515590                        48            2   \n",
       "\n",
       "      hour  is_city_resolved  is_gender_undefined  latitude  longitude  \\\n",
       "247      2                 0                    0       NaN        NaN   \n",
       "703      6                 0                    1       NaN        NaN   \n",
       "1050    12                 0                    1       NaN        NaN   \n",
       "1088    13                 0                    1       NaN        NaN   \n",
       "1390    17                 0                    1       NaN        NaN   \n",
       "\n",
       "      phone_2_norm  \n",
       "247             13  \n",
       "703             19  \n",
       "1050            19  \n",
       "1088            19  \n",
       "1390            19  "
      ]
     },
     "execution_count": 14,
     "metadata": {},
     "output_type": "execute_result"
    }
   ],
   "source": [
    "mask = test.isnull().any(axis=1)\n",
    "test[mask].head()"
   ]
  },
  {
   "cell_type": "code",
   "execution_count": 15,
   "metadata": {},
   "outputs": [
    {
     "data": {
      "text/plain": [
       "Index(['latitude', 'longitude'], dtype='object')"
      ]
     },
     "execution_count": 15,
     "metadata": {},
     "output_type": "execute_result"
    }
   ],
   "source": [
    "test.columns[test.isnull().any(axis=0)]"
   ]
  },
  {
   "cell_type": "code",
   "execution_count": 16,
   "metadata": {},
   "outputs": [],
   "source": [
    "lat_replace = train.latitude.mean()\n",
    "long_replace = train.longitude.mean()\n",
    "\n",
    "replaced_values = {'latitude': lat_replace, 'longitude': long_replace, 'default': -999}"
   ]
  },
  {
   "cell_type": "code",
   "execution_count": 17,
   "metadata": {},
   "outputs": [
    {
     "name": "stdout",
     "output_type": "stream",
     "text": [
      "-999\n",
      "-999\n",
      "-999\n",
      "-999\n",
      "-999\n",
      "-999\n",
      "-999\n",
      "-999\n",
      "36.90237577890762\n",
      "-92.53325861542274\n",
      "-999\n"
     ]
    }
   ],
   "source": [
    "for col in COL_FACTORS:\n",
    "    replaced_val = replaced_values.get(col) or replaced_values.get('default')\n",
    "    print(replaced_val)\n",
    "    train[col] = train[col].fillna(replaced_val)\n",
    "    test[col] = test[col].fillna(replaced_val)"
   ]
  },
  {
   "cell_type": "code",
   "execution_count": 18,
   "metadata": {},
   "outputs": [
    {
     "data": {
      "text/html": [
       "<div>\n",
       "<style scoped>\n",
       "    .dataframe tbody tr th:only-of-type {\n",
       "        vertical-align: middle;\n",
       "    }\n",
       "\n",
       "    .dataframe tbody tr th {\n",
       "        vertical-align: top;\n",
       "    }\n",
       "\n",
       "    .dataframe thead th {\n",
       "        text-align: right;\n",
       "    }\n",
       "</style>\n",
       "<table border=\"1\" class=\"dataframe\">\n",
       "  <thead>\n",
       "    <tr style=\"text-align: right;\">\n",
       "      <th></th>\n",
       "      <th>amount</th>\n",
       "      <th>bank_currency</th>\n",
       "      <th>bin</th>\n",
       "      <th>count_months_to_end_card</th>\n",
       "      <th>day_of_week</th>\n",
       "      <th>hour</th>\n",
       "      <th>is_city_resolved</th>\n",
       "      <th>is_gender_undefined</th>\n",
       "      <th>latitude</th>\n",
       "      <th>longitude</th>\n",
       "      <th>phone_2_norm</th>\n",
       "    </tr>\n",
       "  </thead>\n",
       "  <tbody>\n",
       "  </tbody>\n",
       "</table>\n",
       "</div>"
      ],
      "text/plain": [
       "Empty DataFrame\n",
       "Columns: [amount, bank_currency, bin, count_months_to_end_card, day_of_week, hour, is_city_resolved, is_gender_undefined, latitude, longitude, phone_2_norm]\n",
       "Index: []"
      ]
     },
     "execution_count": 18,
     "metadata": {},
     "output_type": "execute_result"
    }
   ],
   "source": [
    "mask = train.isnull().any(axis=1)\n",
    "train[mask].head()"
   ]
  },
  {
   "cell_type": "code",
   "execution_count": 19,
   "metadata": {},
   "outputs": [
    {
     "data": {
      "text/html": [
       "<div>\n",
       "<style scoped>\n",
       "    .dataframe tbody tr th:only-of-type {\n",
       "        vertical-align: middle;\n",
       "    }\n",
       "\n",
       "    .dataframe tbody tr th {\n",
       "        vertical-align: top;\n",
       "    }\n",
       "\n",
       "    .dataframe thead th {\n",
       "        text-align: right;\n",
       "    }\n",
       "</style>\n",
       "<table border=\"1\" class=\"dataframe\">\n",
       "  <thead>\n",
       "    <tr style=\"text-align: right;\">\n",
       "      <th></th>\n",
       "      <th>amount</th>\n",
       "      <th>bank_currency</th>\n",
       "      <th>bin</th>\n",
       "      <th>count_months_to_end_card</th>\n",
       "      <th>day_of_week</th>\n",
       "      <th>hour</th>\n",
       "      <th>is_city_resolved</th>\n",
       "      <th>is_gender_undefined</th>\n",
       "      <th>latitude</th>\n",
       "      <th>longitude</th>\n",
       "      <th>phone_2_norm</th>\n",
       "    </tr>\n",
       "  </thead>\n",
       "  <tbody>\n",
       "  </tbody>\n",
       "</table>\n",
       "</div>"
      ],
      "text/plain": [
       "Empty DataFrame\n",
       "Columns: [amount, bank_currency, bin, count_months_to_end_card, day_of_week, hour, is_city_resolved, is_gender_undefined, latitude, longitude, phone_2_norm]\n",
       "Index: []"
      ]
     },
     "execution_count": 19,
     "metadata": {},
     "output_type": "execute_result"
    }
   ],
   "source": [
    "mask = test.isnull().any(axis=1)\n",
    "test[mask].head()"
   ]
  },
  {
   "cell_type": "code",
   "execution_count": 20,
   "metadata": {},
   "outputs": [],
   "source": [
    "scaler_params = {}\n",
    "scaler ='own'\n",
    "if scaler =='own' :\n",
    "    scaler_params = get_scaler_params(train[COL_FACTORS])\n",
    "    train, test = minMaxScaler_own(train[COL_FACTORS], test[COL_FACTORS])    "
   ]
  },
  {
   "cell_type": "code",
   "execution_count": 21,
   "metadata": {},
   "outputs": [
    {
     "data": {
      "text/plain": [
       "{'amount_min': 1.0,\n",
       " 'amount_max': 1500.0,\n",
       " 'bank_currency_min': 4,\n",
       " 'bank_currency_max': 862,\n",
       " 'bin_min': 510004,\n",
       " 'bin_max': 559998,\n",
       " 'count_months_to_end_card_min': 0,\n",
       " 'count_months_to_end_card_max': 880,\n",
       " 'day_of_week_min': 1,\n",
       " 'day_of_week_max': 7,\n",
       " 'hour_min': 0,\n",
       " 'hour_max': 23,\n",
       " 'is_city_resolved_min': 0,\n",
       " 'is_city_resolved_max': 1,\n",
       " 'is_gender_undefined_min': 0,\n",
       " 'is_gender_undefined_max': 1,\n",
       " 'latitude_min': -43.5333,\n",
       " 'latitude_max': 71.285,\n",
       " 'longitude_min': -170.7221,\n",
       " 'longitude_max': 172.6333,\n",
       " 'phone_2_norm_min': 0,\n",
       " 'phone_2_norm_max': 99}"
      ]
     },
     "execution_count": 21,
     "metadata": {},
     "output_type": "execute_result"
    }
   ],
   "source": [
    "scaler_params"
   ]
  },
  {
   "cell_type": "code",
   "execution_count": 22,
   "metadata": {},
   "outputs": [
    {
     "data": {
      "text/plain": [
       "\"['amount_min', 'amount_max', 'bank_currency_min', 'bank_currency_max', 'bin_min', 'bin_max', 'count_months_to_end_card_min', 'count_months_to_end_card_max', 'day_of_week_min', 'day_of_week_max', 'hour_min', 'hour_max', 'is_city_resolved_min', 'is_city_resolved_max', 'is_gender_undefined_min', 'is_gender_undefined_max', 'latitude_min', 'latitude_max', 'longitude_min', 'longitude_max', 'phone_2_norm_min', 'phone_2_norm_max']\""
      ]
     },
     "execution_count": 22,
     "metadata": {},
     "output_type": "execute_result"
    }
   ],
   "source": [
    "str(list(scaler_params))"
   ]
  },
  {
   "cell_type": "code",
   "execution_count": 23,
   "metadata": {},
   "outputs": [],
   "source": [
    "train['status'] = db_teach.status.astype(np.int).copy()"
   ]
  },
  {
   "cell_type": "code",
   "execution_count": 24,
   "metadata": {},
   "outputs": [],
   "source": [
    "class CSVDataset(Dataset):\n",
    "    # load the dataset\n",
    "    def __init__(self, df): # path\n",
    "        # store the inputs and outputs\n",
    "        self.X = df.values[:, :-1]\n",
    "        self.y = df.values[:, -1]\n",
    "        # ensure input data is floats\n",
    "        self.X = self.X.astype('float32')\n",
    "        # label encode target and ensure the values are floats\n",
    "        self.y = LabelEncoder().fit_transform(self.y)\n",
    "        self.y = self.y.astype('float32')\n",
    "        self.y = self.y.reshape((len(self.y), 1))\n",
    " \n",
    "    # number of rows in the dataset\n",
    "    def __len__(self):\n",
    "        return len(self.X)\n",
    " \n",
    "    # get a row at an index\n",
    "    def __getitem__(self, idx):\n",
    "        return [self.X[idx], self.y[idx]]\n",
    " \n",
    "    # get indexes for train and test rows\n",
    "    def get_splits(self, n_test=0):\n",
    "        # determine sizes\n",
    "        test_size = round(n_test * len(self.X))\n",
    "        train_size = len(self.X) - test_size\n",
    "        # calculate the split\n",
    "        return random_split(self, [train_size, test_size])"
   ]
  },
  {
   "cell_type": "code",
   "execution_count": 25,
   "metadata": {},
   "outputs": [],
   "source": [
    "# model definition\n",
    "class MLP(Module):\n",
    "    # define model elements\n",
    "    def __init__(self, n_inputs):\n",
    "        super(MLP, self).__init__()\n",
    "        # input to first hidden layer\n",
    "        self.hidden1 = Linear(n_inputs, 10)\n",
    "        kaiming_uniform_(self.hidden1.weight, nonlinearity='relu')\n",
    "        self.act1 = ReLU()\n",
    "        # second hidden layer\n",
    "        self.hidden2 = Linear(10, 6)\n",
    "        kaiming_uniform_(self.hidden2.weight, nonlinearity='relu')\n",
    "        self.act2 = ReLU()\n",
    "        # third hidden layer and output\n",
    "        self.hidden3 = Linear(6, 1)\n",
    "        xavier_uniform_(self.hidden3.weight)\n",
    "        self.act3 = Sigmoid()\n",
    " \n",
    "    # forward propagate input\n",
    "    def forward(self, X):\n",
    "        # input to first hidden layer\n",
    "        X = self.hidden1(X)\n",
    "        X = self.act1(X)\n",
    "         # second hidden layer\n",
    "        X = self.hidden2(X)\n",
    "        X = self.act2(X)\n",
    "        # third hidden layer and output\n",
    "        X = self.hidden3(X)\n",
    "        X = self.act3(X)\n",
    "        return X"
   ]
  },
  {
   "cell_type": "code",
   "execution_count": 26,
   "metadata": {},
   "outputs": [],
   "source": [
    "# prepare the dataset\n",
    "def prepare_data(df):\n",
    "    # load the dataset\n",
    "    dataset = CSVDataset(df)\n",
    "    # calculate split\n",
    "    train, test = dataset.get_splits()\n",
    "    # prepare data loaders\n",
    "    train_dl = DataLoader(train, batch_size=32, shuffle=True)\n",
    "    test_dl = DataLoader(test, batch_size=1024, shuffle=False)\n",
    "    return train_dl, test_dl"
   ]
  },
  {
   "cell_type": "code",
   "execution_count": 27,
   "metadata": {},
   "outputs": [],
   "source": [
    "def train_model(train_dl, model, optimizer=None, n_epoch=100, lr=0.01, momentum=0.9):\n",
    "    criterion = BCELoss()\n",
    "    if optimizer == None:\n",
    "        optimizer = SGD(model.parameters(), lr=lr, momentum=momentum)   \n",
    "    for epoch in range(n_epoch):\n",
    "        for i, (inputs, targets) in enumerate(train_dl):\n",
    "            optimizer.zero_grad()\n",
    "            yhat = model(inputs)\n",
    "            loss = criterion(yhat, targets)\n",
    "            loss.backward()\n",
    "            optimizer.step()"
   ]
  },
  {
   "cell_type": "code",
   "execution_count": 28,
   "metadata": {},
   "outputs": [],
   "source": [
    "def predict(row, model):\n",
    "    # convert row to data\n",
    "    row = Tensor([row])\n",
    "    # make prediction\n",
    "    yhat = model(row)\n",
    "    # retrieve numpy array\n",
    "    yhat = yhat.detach().numpy()\n",
    "    return yhat"
   ]
  },
  {
   "cell_type": "code",
   "execution_count": 29,
   "metadata": {},
   "outputs": [],
   "source": [
    "def get_db_test_prediction(db_test, model, numeric_cols):\n",
    "    predictions = list()\n",
    "    test = db_test[numeric_cols].values\n",
    "    for row in test:\n",
    "        predictions.append(predict(row, model)[0][0])\n",
    "    return predictions         "
   ]
  },
  {
   "cell_type": "code",
   "execution_count": 30,
   "metadata": {},
   "outputs": [],
   "source": [
    "train_dl, _ = prepare_data(train)"
   ]
  },
  {
   "cell_type": "code",
   "execution_count": 31,
   "metadata": {},
   "outputs": [],
   "source": [
    "n_features = len(COL_FACTORS)\n",
    "model = MLP(n_features)"
   ]
  },
  {
   "cell_type": "code",
   "execution_count": 32,
   "metadata": {},
   "outputs": [
    {
     "data": {
      "text/plain": [
       "__main__.MLP"
      ]
     },
     "execution_count": 32,
     "metadata": {},
     "output_type": "execute_result"
    }
   ],
   "source": [
    "model.__class__"
   ]
  },
  {
   "cell_type": "code",
   "execution_count": 33,
   "metadata": {},
   "outputs": [],
   "source": [
    "analyzer_prediction =  AnalyzerPrediction(db_teach, db_test, white)"
   ]
  },
  {
   "cell_type": "code",
   "execution_count": 34,
   "metadata": {},
   "outputs": [],
   "source": [
    "result_df_amount = None"
   ]
  },
  {
   "cell_type": "code",
   "execution_count": 35,
   "metadata": {},
   "outputs": [
    {
     "name": "stdout",
     "output_type": "stream",
     "text": [
      "n_epoch=30\n"
     ]
    }
   ],
   "source": [
    "n_epoch = 30\n",
    "lr = 0.01 \n",
    "momentum = 0.9\n",
    "\n",
    "for n_epoch in [30]:\n",
    "    optimizer = SGD(model.parameters(), lr=lr, momentum=momentum)\n",
    "    train_model(train_dl, model, optimizer, n_epoch=n_epoch, lr=lr, momentum=momentum)\n",
    "    \n",
    "    test_probability = get_db_test_prediction(test, model, COL_FACTORS)\n",
    "    db_test[\"probability\"] = test_probability\n",
    "        \n",
    "    description = '-' . join([str(elem) for elem in (n_epoch, momentum, lr)])       \n",
    "    result_df_amount = analyzer_prediction.get_table_prediction(description=description, result_df=result_df_amount, metric=\"amount\")\n",
    "    print( 'n_epoch={}'. format(n_epoch ))\n"
   ]
  },
  {
   "cell_type": "code",
   "execution_count": 36,
   "metadata": {},
   "outputs": [],
   "source": [
    "n = result_df_amount.shape[0]\n",
    "sub_rows = list(range(n))[::2]\n",
    "stat_best = result_df_amount.copy().iloc[sub_rows,:]\n",
    "\n",
    "col_names = [col for col in stat_best.columns if col.startswith('p_') ] \n",
    "stat_best.loc[:, col_names] = stat_best.loc[:, col_names].astype(float)\n",
    "stat_best = stat_best.sort_values(by=\"rating\", ascending=False)"
   ]
  },
  {
   "cell_type": "code",
   "execution_count": 37,
   "metadata": {},
   "outputs": [
    {
     "data": {
      "text/html": [
       "<div>\n",
       "<style scoped>\n",
       "    .dataframe tbody tr th:only-of-type {\n",
       "        vertical-align: middle;\n",
       "    }\n",
       "\n",
       "    .dataframe tbody tr th {\n",
       "        vertical-align: top;\n",
       "    }\n",
       "\n",
       "    .dataframe thead th {\n",
       "        text-align: right;\n",
       "    }\n",
       "</style>\n",
       "<table border=\"1\" class=\"dataframe\">\n",
       "  <thead>\n",
       "    <tr style=\"text-align: right;\">\n",
       "      <th></th>\n",
       "      <th>description</th>\n",
       "      <th>p_1</th>\n",
       "      <th>p_2</th>\n",
       "      <th>p_3</th>\n",
       "      <th>p_4</th>\n",
       "      <th>p_5</th>\n",
       "      <th>p_6</th>\n",
       "      <th>p_7</th>\n",
       "      <th>p_10</th>\n",
       "      <th>p_20</th>\n",
       "      <th>rating</th>\n",
       "      <th>n_white_list</th>\n",
       "      <th>n_test_in_wl</th>\n",
       "      <th>n_test_bad_in_wl</th>\n",
       "      <th>amount_test_in_wl</th>\n",
       "    </tr>\n",
       "  </thead>\n",
       "  <tbody>\n",
       "    <tr>\n",
       "      <th>0</th>\n",
       "      <td>30-0.9-0.01</td>\n",
       "      <td>5.13</td>\n",
       "      <td>11.15</td>\n",
       "      <td>16.13</td>\n",
       "      <td>18.97</td>\n",
       "      <td>20.18</td>\n",
       "      <td>22.07</td>\n",
       "      <td>23.61</td>\n",
       "      <td>28.78</td>\n",
       "      <td>51.73</td>\n",
       "      <td>152.07</td>\n",
       "      <td>1019125</td>\n",
       "      <td>22992</td>\n",
       "      <td>34</td>\n",
       "      <td>1640236.53</td>\n",
       "    </tr>\n",
       "  </tbody>\n",
       "</table>\n",
       "</div>"
      ],
      "text/plain": [
       "   description   p_1    p_2    p_3    p_4    p_5    p_6    p_7   p_10   p_20  \\\n",
       "0  30-0.9-0.01  5.13  11.15  16.13  18.97  20.18  22.07  23.61  28.78  51.73   \n",
       "\n",
       "   rating  n_white_list  n_test_in_wl  n_test_bad_in_wl  amount_test_in_wl  \n",
       "0  152.07       1019125         22992                34         1640236.53  "
      ]
     },
     "execution_count": 37,
     "metadata": {},
     "output_type": "execute_result"
    }
   ],
   "source": [
    "stat_best.iloc[:,:15]"
   ]
  }
 ],
 "metadata": {
  "kernelspec": {
   "display_name": "Python 3",
   "language": "python",
   "name": "python3"
  },
  "language_info": {
   "codemirror_mode": {
    "name": "ipython",
    "version": 3
   },
   "file_extension": ".py",
   "mimetype": "text/x-python",
   "name": "python",
   "nbconvert_exporter": "python",
   "pygments_lexer": "ipython3",
   "version": "3.7.6"
  }
 },
 "nbformat": 4,
 "nbformat_minor": 4
}
