{
 "cells": [
  {
   "cell_type": "code",
   "execution_count": 2,
   "metadata": {},
   "outputs": [],
   "source": [
    "import pandas as pd\n",
    "import numpy as np\n",
    "pd.set_option('display.max_colwidth', 100)\n",
    "pd.set_option('display.max_rows', 20)\n",
    "pd.set_option('display.max_columns', 500)"
   ]
  },
  {
   "cell_type": "code",
   "execution_count": 3,
   "metadata": {},
   "outputs": [],
   "source": [
    "import os,sys,inspect\n",
    "currentdir = os.path.dirname(os.path.abspath(inspect.getfile(inspect.currentframe())))\n",
    "parentdir = os.path.dirname(currentdir)\n",
    "sys.path.insert(0,parentdir)"
   ]
  },
  {
   "cell_type": "code",
   "execution_count": 4,
   "metadata": {},
   "outputs": [],
   "source": [
    "from utils import UtilsKy\n",
    "from analyzer import HelperAnalyzer, AnalyzerPrediction"
   ]
  },
  {
   "cell_type": "code",
   "execution_count": 5,
   "metadata": {},
   "outputs": [],
   "source": [
    "# for autoreload modules\n",
    "%load_ext autoreload\n",
    "%autoreload 2"
   ]
  },
  {
   "cell_type": "code",
   "execution_count": 6,
   "metadata": {},
   "outputs": [],
   "source": [
    "# pytorch mlp for binary classification\n",
    "from numpy import vstack\n",
    "from pandas import read_csv\n",
    "from sklearn.preprocessing import LabelEncoder\n",
    "from sklearn.metrics import accuracy_score\n",
    "from torch.utils.data import Dataset\n",
    "from torch.utils.data import DataLoader\n",
    "from torch.utils.data import random_split\n",
    "from torch import Tensor\n",
    "from torch.nn import Linear\n",
    "from torch.nn import ReLU\n",
    "from torch.nn import Sigmoid\n",
    "from torch.nn import Module\n",
    "from torch.optim import SGD\n",
    "from torch.nn import BCELoss\n",
    "from torch.nn.init import kaiming_uniform_\n",
    "from torch.nn.init import xavier_uniform_"
   ]
  },
  {
   "cell_type": "code",
   "execution_count": 47,
   "metadata": {},
   "outputs": [],
   "source": [
    "def minMaxScaler_own(teach, test):\n",
    "    teach = teach.copy()\n",
    "    test = test.copy()\n",
    "    col_names = list(teach)\n",
    "    for col in col_names:\n",
    "        x_min = teach[col].min(axis=0)\n",
    "        x_max = teach[col].max(axis=0)\n",
    "        teach[col] = (teach[col] - x_min) / (x_max - x_min)\n",
    "        test[col] = (test[col] - x_min) / (x_max - x_min)\n",
    "        test[col] = np.where(test[col] > 1,  1, test[col])\n",
    "        test[col] = np.where(test[col] < 0 , 0, test[col])        \n",
    "    return teach, test"
   ]
  },
  {
   "cell_type": "code",
   "execution_count": 48,
   "metadata": {},
   "outputs": [],
   "source": [
    "db_teach_orig = pd.read_csv( UtilsKy.DB_TEACH_KYW3, dtype=str, encoding='cp1251')"
   ]
  },
  {
   "cell_type": "code",
   "execution_count": 49,
   "metadata": {},
   "outputs": [],
   "source": [
    "db_test_orig = pd.read_csv(UtilsKy.DB_TEST_KYW3, dtype=str, encoding='cp1251')"
   ]
  },
  {
   "cell_type": "code",
   "execution_count": 50,
   "metadata": {},
   "outputs": [],
   "source": [
    "white = pd.read_csv(UtilsKy.WHITE_KYW3 , dtype=str)"
   ]
  },
  {
   "cell_type": "code",
   "execution_count": 51,
   "metadata": {},
   "outputs": [],
   "source": [
    "df = db_teach_orig.copy()\n",
    "db_test = db_test_orig.copy()"
   ]
  },
  {
   "cell_type": "code",
   "execution_count": 52,
   "metadata": {},
   "outputs": [
    {
     "data": {
      "text/plain": [
       "\"['amount', 'amount_deviation', 'bank_currency', 'bin', 'city', 'count_months_to_end_card', 'day_of_week', 'gender2', 'hour', 'id', 'is_city_resolved', 'is_gender_undefined', 'latitude', 'longitude', 'order_id', 'phone_2_norm', 'status']\""
      ]
     },
     "execution_count": 52,
     "metadata": {},
     "output_type": "execute_result"
    }
   ],
   "source": [
    "str(list(df))"
   ]
  },
  {
   "cell_type": "code",
   "execution_count": 53,
   "metadata": {},
   "outputs": [
    {
     "data": {
      "text/html": [
       "<div>\n",
       "<style scoped>\n",
       "    .dataframe tbody tr th:only-of-type {\n",
       "        vertical-align: middle;\n",
       "    }\n",
       "\n",
       "    .dataframe tbody tr th {\n",
       "        vertical-align: top;\n",
       "    }\n",
       "\n",
       "    .dataframe thead th {\n",
       "        text-align: right;\n",
       "    }\n",
       "</style>\n",
       "<table border=\"1\" class=\"dataframe\">\n",
       "  <thead>\n",
       "    <tr style=\"text-align: right;\">\n",
       "      <th></th>\n",
       "      <th>amount</th>\n",
       "      <th>amount_deviation</th>\n",
       "      <th>bank_currency</th>\n",
       "      <th>bin</th>\n",
       "      <th>city</th>\n",
       "      <th>count_months_to_end_card</th>\n",
       "      <th>day_of_week</th>\n",
       "      <th>gender2</th>\n",
       "      <th>hour</th>\n",
       "      <th>id</th>\n",
       "      <th>is_city_resolved</th>\n",
       "      <th>is_gender_undefined</th>\n",
       "      <th>latitude</th>\n",
       "      <th>longitude</th>\n",
       "      <th>order_id</th>\n",
       "      <th>phone_2_norm</th>\n",
       "      <th>status</th>\n",
       "    </tr>\n",
       "  </thead>\n",
       "  <tbody>\n",
       "    <tr>\n",
       "      <th>0</th>\n",
       "      <td>1.00</td>\n",
       "      <td>-3</td>\n",
       "      <td>112</td>\n",
       "      <td>547087</td>\n",
       "      <td>Stuttgart</td>\n",
       "      <td>29</td>\n",
       "      <td>3</td>\n",
       "      <td>undefined</td>\n",
       "      <td>09</td>\n",
       "      <td>547087******1680_2022-04</td>\n",
       "      <td>1</td>\n",
       "      <td>1</td>\n",
       "      <td>48.7667</td>\n",
       "      <td>9.1833</td>\n",
       "      <td>49219577955111383</td>\n",
       "      <td>55</td>\n",
       "      <td>0</td>\n",
       "    </tr>\n",
       "    <tr>\n",
       "      <th>1</th>\n",
       "      <td>25.00</td>\n",
       "      <td>-2</td>\n",
       "      <td>840</td>\n",
       "      <td>517148</td>\n",
       "      <td>Kapaa</td>\n",
       "      <td>41</td>\n",
       "      <td>3</td>\n",
       "      <td>f</td>\n",
       "      <td>12</td>\n",
       "      <td>517148******7320_2023-04</td>\n",
       "      <td>1</td>\n",
       "      <td>0</td>\n",
       "      <td>22.0837</td>\n",
       "      <td>-159.3553</td>\n",
       "      <td>49221760925063337</td>\n",
       "      <td>08</td>\n",
       "      <td>0</td>\n",
       "    </tr>\n",
       "    <tr>\n",
       "      <th>2</th>\n",
       "      <td>21.18</td>\n",
       "      <td>-2</td>\n",
       "      <td>840</td>\n",
       "      <td>546540</td>\n",
       "      <td>undefined</td>\n",
       "      <td>44</td>\n",
       "      <td>3</td>\n",
       "      <td>m</td>\n",
       "      <td>15</td>\n",
       "      <td>546540******9404_2023-07</td>\n",
       "      <td>0</td>\n",
       "      <td>0</td>\n",
       "      <td>38.0000</td>\n",
       "      <td>-97.0000</td>\n",
       "      <td>49224688788195598</td>\n",
       "      <td>40</td>\n",
       "      <td>0</td>\n",
       "    </tr>\n",
       "    <tr>\n",
       "      <th>3</th>\n",
       "      <td>200.00</td>\n",
       "      <td>2</td>\n",
       "      <td>840</td>\n",
       "      <td>510805</td>\n",
       "      <td>Oakland</td>\n",
       "      <td>40</td>\n",
       "      <td>3</td>\n",
       "      <td>m</td>\n",
       "      <td>15</td>\n",
       "      <td>510805******1186_2023-03</td>\n",
       "      <td>1</td>\n",
       "      <td>0</td>\n",
       "      <td>37.8116</td>\n",
       "      <td>-122.2420</td>\n",
       "      <td>49224696921328680</td>\n",
       "      <td>10</td>\n",
       "      <td>0</td>\n",
       "    </tr>\n",
       "    <tr>\n",
       "      <th>4</th>\n",
       "      <td>2.38</td>\n",
       "      <td>-3</td>\n",
       "      <td>76</td>\n",
       "      <td>544731</td>\n",
       "      <td>Rio De Janeiro</td>\n",
       "      <td>80</td>\n",
       "      <td>3</td>\n",
       "      <td>undefined</td>\n",
       "      <td>15</td>\n",
       "      <td>544731******7316_2026-07</td>\n",
       "      <td>1</td>\n",
       "      <td>1</td>\n",
       "      <td>-22.9000</td>\n",
       "      <td>-43.2333</td>\n",
       "      <td>49224839756465248</td>\n",
       "      <td>19</td>\n",
       "      <td>0</td>\n",
       "    </tr>\n",
       "  </tbody>\n",
       "</table>\n",
       "</div>"
      ],
      "text/plain": [
       "   amount amount_deviation bank_currency     bin            city  \\\n",
       "0    1.00               -3           112  547087       Stuttgart   \n",
       "1   25.00               -2           840  517148           Kapaa   \n",
       "2   21.18               -2           840  546540       undefined   \n",
       "3  200.00                2           840  510805         Oakland   \n",
       "4    2.38               -3            76  544731  Rio De Janeiro   \n",
       "\n",
       "  count_months_to_end_card day_of_week    gender2 hour  \\\n",
       "0                       29           3  undefined   09   \n",
       "1                       41           3          f   12   \n",
       "2                       44           3          m   15   \n",
       "3                       40           3          m   15   \n",
       "4                       80           3  undefined   15   \n",
       "\n",
       "                         id is_city_resolved is_gender_undefined  latitude  \\\n",
       "0  547087******1680_2022-04                1                   1   48.7667   \n",
       "1  517148******7320_2023-04                1                   0   22.0837   \n",
       "2  546540******9404_2023-07                0                   0   38.0000   \n",
       "3  510805******1186_2023-03                1                   0   37.8116   \n",
       "4  544731******7316_2026-07                1                   1  -22.9000   \n",
       "\n",
       "   longitude           order_id phone_2_norm status  \n",
       "0     9.1833  49219577955111383           55      0  \n",
       "1  -159.3553  49221760925063337           08      0  \n",
       "2   -97.0000  49224688788195598           40      0  \n",
       "3  -122.2420  49224696921328680           10      0  \n",
       "4   -43.2333  49224839756465248           19      0  "
      ]
     },
     "execution_count": 53,
     "metadata": {},
     "output_type": "execute_result"
    }
   ],
   "source": [
    "df.head()"
   ]
  },
  {
   "cell_type": "code",
   "execution_count": 54,
   "metadata": {},
   "outputs": [],
   "source": [
    "numeric_cols = ['amount', 'amount_deviation', 'bank_currency', 'bin', 'count_months_to_end_card', 'day_of_week', 'hour', 'is_city_resolved', \n",
    "                'is_gender_undefined', 'latitude', 'longitude', 'phone_2_norm']"
   ]
  },
  {
   "cell_type": "code",
   "execution_count": 55,
   "metadata": {},
   "outputs": [],
   "source": [
    "df.status = df.status.astype('float32')"
   ]
  },
  {
   "cell_type": "code",
   "execution_count": 56,
   "metadata": {},
   "outputs": [],
   "source": [
    "df.latitude = df.latitude.apply(lambda x: 0 if x == 'undefined' else x)\n",
    "df.longitude = df.longitude.apply(lambda x: 0 if x == 'undefined' else x)"
   ]
  },
  {
   "cell_type": "code",
   "execution_count": 57,
   "metadata": {},
   "outputs": [],
   "source": [
    "df[numeric_cols] = df[numeric_cols].astype('float32').copy()"
   ]
  },
  {
   "cell_type": "code",
   "execution_count": 58,
   "metadata": {},
   "outputs": [],
   "source": [
    "db_test.status = df.status.astype('float32')\n",
    "db_test.latitude = db_test.latitude.apply(lambda x: 0 if x == 'undefined' else float(x))\n",
    "db_test.longitude = db_test.longitude.apply(lambda x: 0 if x == 'undefined' else float(x))\n",
    "db_test[numeric_cols] = db_test[numeric_cols].astype('float32').copy()"
   ]
  },
  {
   "cell_type": "code",
   "execution_count": 59,
   "metadata": {},
   "outputs": [],
   "source": [
    "from sklearn.preprocessing import MinMaxScaler\n",
    "scaler = MinMaxScaler()"
   ]
  },
  {
   "cell_type": "code",
   "execution_count": 60,
   "metadata": {},
   "outputs": [],
   "source": [
    "scaler = 'own'\n",
    "if scaler != 'own':\n",
    "    df[numeric_cols] = scaler.fit_transform(df[numeric_cols])\n",
    "    db_test[numeric_cols] = scaler.fit_transform(db_test[numeric_cols])"
   ]
  },
  {
   "cell_type": "code",
   "execution_count": 62,
   "metadata": {},
   "outputs": [],
   "source": [
    "if scaler =='own' :\n",
    "    df[numeric_cols], db_test[numeric_cols] = minMaxScaler_own(df[numeric_cols], db_test[numeric_cols])"
   ]
  },
  {
   "cell_type": "code",
   "execution_count": 67,
   "metadata": {},
   "outputs": [],
   "source": [
    "col_names = numeric_cols + ['status']\n",
    "df = df[col_names]"
   ]
  },
  {
   "cell_type": "code",
   "execution_count": 68,
   "metadata": {},
   "outputs": [],
   "source": [
    "# dataset definition\n",
    "class CSVDataset(Dataset):\n",
    "    # load the dataset\n",
    "    def __init__(self, df): # path\n",
    "        # store the inputs and outputs\n",
    "        self.X = df.values[:, :-1]\n",
    "        self.y = df.values[:, -1]\n",
    "        # ensure input data is floats\n",
    "        self.X = self.X.astype('float32')\n",
    "        # label encode target and ensure the values are floats\n",
    "        self.y = LabelEncoder().fit_transform(self.y)\n",
    "        self.y = self.y.astype('float32')\n",
    "        self.y = self.y.reshape((len(self.y), 1))\n",
    " \n",
    "    # number of rows in the dataset\n",
    "    def __len__(self):\n",
    "        return len(self.X)\n",
    " \n",
    "    # get a row at an index\n",
    "    def __getitem__(self, idx):\n",
    "        return [self.X[idx], self.y[idx]]\n",
    " \n",
    "    # get indexes for train and test rows\n",
    "    def get_splits(self, n_test=0.05):\n",
    "        # determine sizes\n",
    "        test_size = round(n_test * len(self.X))\n",
    "        train_size = len(self.X) - test_size\n",
    "        # calculate the split\n",
    "        return random_split(self, [train_size, test_size])"
   ]
  },
  {
   "cell_type": "code",
   "execution_count": 69,
   "metadata": {},
   "outputs": [],
   "source": [
    "# model definition\n",
    "class MLP(Module):\n",
    "    # define model elements\n",
    "    def __init__(self, n_inputs):\n",
    "        super(MLP, self).__init__()\n",
    "        # input to first hidden layer\n",
    "        self.hidden1 = Linear(n_inputs, 10)\n",
    "        kaiming_uniform_(self.hidden1.weight, nonlinearity='relu')\n",
    "        self.act1 = ReLU()\n",
    "        # second hidden layer\n",
    "        self.hidden2 = Linear(10, 6)\n",
    "        kaiming_uniform_(self.hidden2.weight, nonlinearity='relu')\n",
    "        self.act2 = ReLU()\n",
    "        # third hidden layer and output\n",
    "        self.hidden3 = Linear(6, 1)\n",
    "        xavier_uniform_(self.hidden3.weight)\n",
    "        self.act3 = Sigmoid()\n",
    " \n",
    "    # forward propagate input\n",
    "    def forward(self, X):\n",
    "        # input to first hidden layer\n",
    "        X = self.hidden1(X)\n",
    "        X = self.act1(X)\n",
    "         # second hidden layer\n",
    "        X = self.hidden2(X)\n",
    "        X = self.act2(X)\n",
    "        # third hidden layer and output\n",
    "        X = self.hidden3(X)\n",
    "        X = self.act3(X)\n",
    "        return X"
   ]
  },
  {
   "cell_type": "code",
   "execution_count": 70,
   "metadata": {},
   "outputs": [],
   "source": [
    "# prepare the dataset\n",
    "def prepare_data(df):\n",
    "    # load the dataset\n",
    "    dataset = CSVDataset(df)\n",
    "    # calculate split\n",
    "    train, test = dataset.get_splits()\n",
    "    # prepare data loaders\n",
    "    train_dl = DataLoader(train, batch_size=32, shuffle=True)\n",
    "    test_dl = DataLoader(test, batch_size=1024, shuffle=False)\n",
    "    return train_dl, test_dl"
   ]
  },
  {
   "cell_type": "code",
   "execution_count": 71,
   "metadata": {},
   "outputs": [],
   "source": [
    "# train the model\n",
    "def train_model(train_dl, model, n_epoch=100):\n",
    "    # define the optimization\n",
    "    criterion = BCELoss()\n",
    "    optimizer = SGD(model.parameters(), lr=0.01, momentum=0.9)\n",
    "    # enumerate epochs\n",
    "    for epoch in range(n_epoch):\n",
    "        # enumerate mini batches\n",
    "        for i, (inputs, targets) in enumerate(train_dl):\n",
    "            # clear the gradients\n",
    "            optimizer.zero_grad()\n",
    "            # compute the model output\n",
    "            yhat = model(inputs)\n",
    "            # calculate loss\n",
    "            loss = criterion(yhat, targets)\n",
    "            # credit assignment\n",
    "            loss.backward()\n",
    "            # update model weights\n",
    "            optimizer.step()\n"
   ]
  },
  {
   "cell_type": "code",
   "execution_count": 72,
   "metadata": {},
   "outputs": [],
   "source": [
    "# evaluate the model\n",
    "def evaluate_model(test_dl, model):\n",
    "    predictions, actuals = list(), list()\n",
    "    for i, (inputs, targets) in enumerate(test_dl):\n",
    "        # evaluate the model on the test set\n",
    "        yhat = model(inputs)\n",
    "        # retrieve numpy array\n",
    "        yhat = yhat.detach().numpy()\n",
    "        actual = targets.numpy()\n",
    "        actual = actual.reshape((len(actual), 1))\n",
    "        # round to class values\n",
    "        yhat = yhat.round()\n",
    "        # store\n",
    "        predictions.append(yhat)\n",
    "        actuals.append(actual)\n",
    "    predictions, actuals = vstack(predictions), vstack(actuals)\n",
    "    # calculate accuracy\n",
    "    acc = accuracy_score(actuals, predictions)\n",
    "    return acc"
   ]
  },
  {
   "cell_type": "code",
   "execution_count": 73,
   "metadata": {},
   "outputs": [],
   "source": [
    "#  make a class prediction for one row of data\n",
    "def predict(row, model):\n",
    "    # convert row to data\n",
    "    row = Tensor([row])\n",
    "    # make prediction\n",
    "    yhat = model(row)\n",
    "    # retrieve numpy array\n",
    "    yhat = yhat.detach().numpy()\n",
    "    return yhat"
   ]
  },
  {
   "cell_type": "code",
   "execution_count": 74,
   "metadata": {},
   "outputs": [],
   "source": [
    "def get_db_test_prediction(db_test, model,numeric_cols):\n",
    "    predictions = list()\n",
    "    test = db_test[numeric_cols].values\n",
    "    for row in test:\n",
    "        predictions.append(predict(row, model)[0][0])\n",
    "    return predictions    \n",
    "        "
   ]
  },
  {
   "cell_type": "code",
   "execution_count": 75,
   "metadata": {},
   "outputs": [
    {
     "name": "stdout",
     "output_type": "stream",
     "text": [
      "411754 21671\n"
     ]
    }
   ],
   "source": [
    "train_dl, test_dl = prepare_data(df)\n",
    "print(len(train_dl.dataset), len(test_dl.dataset))"
   ]
  },
  {
   "cell_type": "code",
   "execution_count": 76,
   "metadata": {},
   "outputs": [],
   "source": [
    "# define the network\n",
    "model = MLP(12)"
   ]
  },
  {
   "cell_type": "code",
   "execution_count": 77,
   "metadata": {},
   "outputs": [
    {
     "name": "stdout",
     "output_type": "stream",
     "text": [
      "Accuracy: 0.965\n"
     ]
    }
   ],
   "source": [
    "# evaluate the model\n",
    "acc = evaluate_model(test_dl, model)\n",
    "print('Accuracy: %.3f' % acc)"
   ]
  },
  {
   "cell_type": "code",
   "execution_count": 78,
   "metadata": {},
   "outputs": [],
   "source": [
    "analyzer_prediction =  AnalyzerPrediction(db_teach_orig, db_test_orig, white)"
   ]
  },
  {
   "cell_type": "code",
   "execution_count": 79,
   "metadata": {},
   "outputs": [],
   "source": [
    "result_df_amount = None"
   ]
  },
  {
   "cell_type": "code",
   "execution_count": 80,
   "metadata": {},
   "outputs": [
    {
     "name": "stdout",
     "output_type": "stream",
     "text": [
      "n_epoch=3\n",
      "n_epoch=4\n",
      "n_epoch=5\n",
      "n_epoch=6\n",
      "n_epoch=10\n"
     ]
    }
   ],
   "source": [
    "for n_epoch in (3, 4, 5, 6, 10):\n",
    "    # train the model\n",
    "    train_model(train_dl, model, n_epoch)\n",
    "    \n",
    "    test_probability = get_db_test_prediction(db_test, model,numeric_cols)\n",
    "    db_test_orig[\"probability\"] = test_probability\n",
    "    \n",
    "    description = '10-6-1 ' + 'amount ' + 'n_ep={}'.format(n_epoch)          \n",
    "    result_df_amount = analyzer_prediction.get_table_prediction(description=description, result_df=result_df_amount, metric=\"amount\")\n",
    "    print( 'n_epoch={}'. format(n_epoch ))"
   ]
  },
  {
   "cell_type": "code",
   "execution_count": 81,
   "metadata": {},
   "outputs": [],
   "source": [
    "n = result_df_amount.shape[0]\n",
    "sub_rows = list(range(n))[::2]\n",
    "stat_best = result_df_amount.copy().iloc[sub_rows,:]\n",
    "\n",
    "col_names = [col for col in stat_best.columns if col.startswith('p_') ] \n",
    "stat_best.loc[:, col_names] = stat_best.loc[:, col_names].astype(float)\n",
    "stat_best = stat_best.sort_values(by=\"rating\", ascending=False)"
   ]
  },
  {
   "cell_type": "code",
   "execution_count": 82,
   "metadata": {},
   "outputs": [
    {
     "data": {
      "text/html": [
       "<div>\n",
       "<style scoped>\n",
       "    .dataframe tbody tr th:only-of-type {\n",
       "        vertical-align: middle;\n",
       "    }\n",
       "\n",
       "    .dataframe tbody tr th {\n",
       "        vertical-align: top;\n",
       "    }\n",
       "\n",
       "    .dataframe thead th {\n",
       "        text-align: right;\n",
       "    }\n",
       "</style>\n",
       "<table border=\"1\" class=\"dataframe\">\n",
       "  <thead>\n",
       "    <tr style=\"text-align: right;\">\n",
       "      <th></th>\n",
       "      <th>description</th>\n",
       "      <th>p_1</th>\n",
       "      <th>p_2</th>\n",
       "      <th>p_3</th>\n",
       "      <th>p_4</th>\n",
       "      <th>p_5</th>\n",
       "      <th>p_6</th>\n",
       "      <th>p_7</th>\n",
       "      <th>p_10</th>\n",
       "      <th>p_20</th>\n",
       "      <th>rating</th>\n",
       "      <th>n_white_list</th>\n",
       "      <th>n_test_in_wl</th>\n",
       "      <th>n_test_bad_in_wl</th>\n",
       "      <th>amount_test_in_wl</th>\n",
       "    </tr>\n",
       "  </thead>\n",
       "  <tbody>\n",
       "    <tr>\n",
       "      <th>4</th>\n",
       "      <td>10-6-1 amount n_ep=5</td>\n",
       "      <td>3.68</td>\n",
       "      <td>9.48</td>\n",
       "      <td>11.71</td>\n",
       "      <td>15.95</td>\n",
       "      <td>19.71</td>\n",
       "      <td>22.67</td>\n",
       "      <td>24.83</td>\n",
       "      <td>29.63</td>\n",
       "      <td>53.35</td>\n",
       "      <td>143.51</td>\n",
       "      <td>1019125</td>\n",
       "      <td>22992</td>\n",
       "      <td>34</td>\n",
       "      <td>1640236.53</td>\n",
       "    </tr>\n",
       "    <tr>\n",
       "      <th>2</th>\n",
       "      <td>10-6-1 amount n_ep=4</td>\n",
       "      <td>5.13</td>\n",
       "      <td>9.50</td>\n",
       "      <td>14.49</td>\n",
       "      <td>14.83</td>\n",
       "      <td>17.45</td>\n",
       "      <td>18.64</td>\n",
       "      <td>20.22</td>\n",
       "      <td>26.08</td>\n",
       "      <td>51.29</td>\n",
       "      <td>138.77</td>\n",
       "      <td>1019125</td>\n",
       "      <td>22992</td>\n",
       "      <td>34</td>\n",
       "      <td>1640236.53</td>\n",
       "    </tr>\n",
       "    <tr>\n",
       "      <th>8</th>\n",
       "      <td>10-6-1 amount n_ep=10</td>\n",
       "      <td>4.49</td>\n",
       "      <td>8.10</td>\n",
       "      <td>10.08</td>\n",
       "      <td>14.25</td>\n",
       "      <td>16.01</td>\n",
       "      <td>18.90</td>\n",
       "      <td>21.39</td>\n",
       "      <td>30.13</td>\n",
       "      <td>54.29</td>\n",
       "      <td>137.35</td>\n",
       "      <td>1019125</td>\n",
       "      <td>22992</td>\n",
       "      <td>34</td>\n",
       "      <td>1640236.53</td>\n",
       "    </tr>\n",
       "    <tr>\n",
       "      <th>6</th>\n",
       "      <td>10-6-1 amount n_ep=6</td>\n",
       "      <td>2.89</td>\n",
       "      <td>6.43</td>\n",
       "      <td>10.61</td>\n",
       "      <td>12.39</td>\n",
       "      <td>16.68</td>\n",
       "      <td>20.81</td>\n",
       "      <td>24.20</td>\n",
       "      <td>29.58</td>\n",
       "      <td>54.93</td>\n",
       "      <td>133.51</td>\n",
       "      <td>1019125</td>\n",
       "      <td>22992</td>\n",
       "      <td>34</td>\n",
       "      <td>1640236.53</td>\n",
       "    </tr>\n",
       "    <tr>\n",
       "      <th>0</th>\n",
       "      <td>10-6-1 amount n_ep=3</td>\n",
       "      <td>2.03</td>\n",
       "      <td>4.65</td>\n",
       "      <td>7.15</td>\n",
       "      <td>9.67</td>\n",
       "      <td>12.18</td>\n",
       "      <td>13.61</td>\n",
       "      <td>17.47</td>\n",
       "      <td>29.57</td>\n",
       "      <td>51.54</td>\n",
       "      <td>116.79</td>\n",
       "      <td>1019125</td>\n",
       "      <td>22992</td>\n",
       "      <td>34</td>\n",
       "      <td>1640236.53</td>\n",
       "    </tr>\n",
       "  </tbody>\n",
       "</table>\n",
       "</div>"
      ],
      "text/plain": [
       "             description   p_1   p_2    p_3    p_4    p_5    p_6    p_7  \\\n",
       "4   10-6-1 amount n_ep=5  3.68  9.48  11.71  15.95  19.71  22.67  24.83   \n",
       "2   10-6-1 amount n_ep=4  5.13  9.50  14.49  14.83  17.45  18.64  20.22   \n",
       "8  10-6-1 amount n_ep=10  4.49  8.10  10.08  14.25  16.01  18.90  21.39   \n",
       "6   10-6-1 amount n_ep=6  2.89  6.43  10.61  12.39  16.68  20.81  24.20   \n",
       "0   10-6-1 amount n_ep=3  2.03  4.65   7.15   9.67  12.18  13.61  17.47   \n",
       "\n",
       "    p_10   p_20  rating  n_white_list  n_test_in_wl  n_test_bad_in_wl  \\\n",
       "4  29.63  53.35  143.51       1019125         22992                34   \n",
       "2  26.08  51.29  138.77       1019125         22992                34   \n",
       "8  30.13  54.29  137.35       1019125         22992                34   \n",
       "6  29.58  54.93  133.51       1019125         22992                34   \n",
       "0  29.57  51.54  116.79       1019125         22992                34   \n",
       "\n",
       "   amount_test_in_wl  \n",
       "4         1640236.53  \n",
       "2         1640236.53  \n",
       "8         1640236.53  \n",
       "6         1640236.53  \n",
       "0         1640236.53  "
      ]
     },
     "execution_count": 82,
     "metadata": {},
     "output_type": "execute_result"
    }
   ],
   "source": [
    "stat_best.iloc[:,:15]"
   ]
  }
 ],
 "metadata": {
  "kernelspec": {
   "display_name": "Python 3",
   "language": "python",
   "name": "python3"
  },
  "language_info": {
   "codemirror_mode": {
    "name": "ipython",
    "version": 3
   },
   "file_extension": ".py",
   "mimetype": "text/x-python",
   "name": "python",
   "nbconvert_exporter": "python",
   "pygments_lexer": "ipython3",
   "version": "3.7.6"
  }
 },
 "nbformat": 4,
 "nbformat_minor": 4
}
