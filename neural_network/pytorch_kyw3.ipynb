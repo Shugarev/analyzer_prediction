{
 "cells": [
  {
   "cell_type": "code",
   "execution_count": 1,
   "metadata": {},
   "outputs": [],
   "source": [
    "import pandas as pd\n",
    "import numpy as np\n",
    "pd.set_option('display.max_colwidth', 100)\n",
    "pd.set_option('display.max_rows', 20)\n",
    "pd.set_option('display.max_columns', 500)"
   ]
  },
  {
   "cell_type": "code",
   "execution_count": 2,
   "metadata": {},
   "outputs": [],
   "source": [
    "import os,sys,inspect\n",
    "currentdir = os.path.dirname(os.path.abspath(inspect.getfile(inspect.currentframe())))\n",
    "parentdir = os.path.dirname(currentdir)\n",
    "sys.path.insert(0,parentdir)"
   ]
  },
  {
   "cell_type": "code",
   "execution_count": 3,
   "metadata": {},
   "outputs": [],
   "source": [
    "from utils import UtilsKy\n",
    "from analyzer import HelperAnalyzer, AnalyzerPrediction"
   ]
  },
  {
   "cell_type": "code",
   "execution_count": 4,
   "metadata": {},
   "outputs": [],
   "source": [
    "# for autoreload modules\n",
    "%load_ext autoreload\n",
    "%autoreload 2"
   ]
  },
  {
   "cell_type": "code",
   "execution_count": 5,
   "metadata": {},
   "outputs": [],
   "source": [
    "# pytorch mlp for binary classification\n",
    "from numpy import vstack\n",
    "from pandas import read_csv\n",
    "from sklearn.preprocessing import LabelEncoder\n",
    "from sklearn.metrics import accuracy_score, f1_score, log_loss, roc_curve, auc\n",
    "from torch.utils.data import Dataset \n",
    "from torch.utils.data import DataLoader\n",
    "from torch.utils.data import random_split\n",
    "from torch import Tensor\n",
    "from torch.nn import Linear\n",
    "from torch.nn import ReLU\n",
    "from torch.nn import Sigmoid\n",
    "from torch.nn import Module\n",
    "from torch.optim import SGD\n",
    "from torch.nn import BCELoss\n",
    "from torch.nn.init import kaiming_uniform_\n",
    "from torch.nn.init import xavier_uniform_"
   ]
  },
  {
   "cell_type": "code",
   "execution_count": 6,
   "metadata": {},
   "outputs": [],
   "source": [
    "def minMaxScaler_own(teach, test):\n",
    "    teach = teach.copy()\n",
    "    test = test.copy()\n",
    "    col_names = list(teach)\n",
    "    for col in col_names:\n",
    "        x_min = teach[col].min(axis=0)\n",
    "        x_max = teach[col].max(axis=0)\n",
    "        teach[col] = (teach[col] - x_min) / (x_max - x_min)\n",
    "        test[col] = (test[col] - x_min) / (x_max - x_min)\n",
    "        test[col] = np.where(test[col] > 1,  1, test[col])\n",
    "        test[col] = np.where(test[col] < 0 , 0, test[col])        \n",
    "    return teach, test"
   ]
  },
  {
   "cell_type": "code",
   "execution_count": 7,
   "metadata": {},
   "outputs": [],
   "source": [
    "db_teach_orig = pd.read_csv( UtilsKy.DB_TEACH_KYW3, dtype=str, encoding='cp1251')"
   ]
  },
  {
   "cell_type": "code",
   "execution_count": 8,
   "metadata": {},
   "outputs": [],
   "source": [
    "db_test_orig = pd.read_csv(UtilsKy.DB_TEST_KYW3, dtype=str, encoding='cp1251')"
   ]
  },
  {
   "cell_type": "code",
   "execution_count": 9,
   "metadata": {},
   "outputs": [],
   "source": [
    "white = pd.read_csv(UtilsKy.WHITE_KYW3 , dtype=str)"
   ]
  },
  {
   "cell_type": "code",
   "execution_count": 10,
   "metadata": {},
   "outputs": [],
   "source": [
    "df = db_teach_orig.copy()\n",
    "db_test = db_test_orig.copy()"
   ]
  },
  {
   "cell_type": "code",
   "execution_count": 11,
   "metadata": {},
   "outputs": [
    {
     "data": {
      "text/plain": [
       "\"['amount', 'amount_deviation', 'bank_currency', 'bin', 'city', 'count_months_to_end_card', 'day_of_week', 'gender2', 'hour', 'id', 'is_city_resolved', 'is_gender_undefined', 'latitude', 'longitude', 'order_id', 'phone_2_norm', 'status']\""
      ]
     },
     "execution_count": 11,
     "metadata": {},
     "output_type": "execute_result"
    }
   ],
   "source": [
    "str(list(df))"
   ]
  },
  {
   "cell_type": "code",
   "execution_count": 12,
   "metadata": {},
   "outputs": [
    {
     "data": {
      "text/html": [
       "<div>\n",
       "<style scoped>\n",
       "    .dataframe tbody tr th:only-of-type {\n",
       "        vertical-align: middle;\n",
       "    }\n",
       "\n",
       "    .dataframe tbody tr th {\n",
       "        vertical-align: top;\n",
       "    }\n",
       "\n",
       "    .dataframe thead th {\n",
       "        text-align: right;\n",
       "    }\n",
       "</style>\n",
       "<table border=\"1\" class=\"dataframe\">\n",
       "  <thead>\n",
       "    <tr style=\"text-align: right;\">\n",
       "      <th></th>\n",
       "      <th>amount</th>\n",
       "      <th>amount_deviation</th>\n",
       "      <th>bank_currency</th>\n",
       "      <th>bin</th>\n",
       "      <th>city</th>\n",
       "      <th>count_months_to_end_card</th>\n",
       "      <th>day_of_week</th>\n",
       "      <th>gender2</th>\n",
       "      <th>hour</th>\n",
       "      <th>id</th>\n",
       "      <th>is_city_resolved</th>\n",
       "      <th>is_gender_undefined</th>\n",
       "      <th>latitude</th>\n",
       "      <th>longitude</th>\n",
       "      <th>order_id</th>\n",
       "      <th>phone_2_norm</th>\n",
       "      <th>status</th>\n",
       "    </tr>\n",
       "  </thead>\n",
       "  <tbody>\n",
       "    <tr>\n",
       "      <th>0</th>\n",
       "      <td>1.00</td>\n",
       "      <td>-3</td>\n",
       "      <td>112</td>\n",
       "      <td>547087</td>\n",
       "      <td>Stuttgart</td>\n",
       "      <td>29</td>\n",
       "      <td>3</td>\n",
       "      <td>undefined</td>\n",
       "      <td>09</td>\n",
       "      <td>547087******1680_2022-04</td>\n",
       "      <td>1</td>\n",
       "      <td>1</td>\n",
       "      <td>48.7667</td>\n",
       "      <td>9.1833</td>\n",
       "      <td>49219577955111383</td>\n",
       "      <td>55</td>\n",
       "      <td>0</td>\n",
       "    </tr>\n",
       "    <tr>\n",
       "      <th>1</th>\n",
       "      <td>25.00</td>\n",
       "      <td>-2</td>\n",
       "      <td>840</td>\n",
       "      <td>517148</td>\n",
       "      <td>Kapaa</td>\n",
       "      <td>41</td>\n",
       "      <td>3</td>\n",
       "      <td>f</td>\n",
       "      <td>12</td>\n",
       "      <td>517148******7320_2023-04</td>\n",
       "      <td>1</td>\n",
       "      <td>0</td>\n",
       "      <td>22.0837</td>\n",
       "      <td>-159.3553</td>\n",
       "      <td>49221760925063337</td>\n",
       "      <td>08</td>\n",
       "      <td>0</td>\n",
       "    </tr>\n",
       "    <tr>\n",
       "      <th>2</th>\n",
       "      <td>21.18</td>\n",
       "      <td>-2</td>\n",
       "      <td>840</td>\n",
       "      <td>546540</td>\n",
       "      <td>undefined</td>\n",
       "      <td>44</td>\n",
       "      <td>3</td>\n",
       "      <td>m</td>\n",
       "      <td>15</td>\n",
       "      <td>546540******9404_2023-07</td>\n",
       "      <td>0</td>\n",
       "      <td>0</td>\n",
       "      <td>38.0000</td>\n",
       "      <td>-97.0000</td>\n",
       "      <td>49224688788195598</td>\n",
       "      <td>40</td>\n",
       "      <td>0</td>\n",
       "    </tr>\n",
       "    <tr>\n",
       "      <th>3</th>\n",
       "      <td>200.00</td>\n",
       "      <td>2</td>\n",
       "      <td>840</td>\n",
       "      <td>510805</td>\n",
       "      <td>Oakland</td>\n",
       "      <td>40</td>\n",
       "      <td>3</td>\n",
       "      <td>m</td>\n",
       "      <td>15</td>\n",
       "      <td>510805******1186_2023-03</td>\n",
       "      <td>1</td>\n",
       "      <td>0</td>\n",
       "      <td>37.8116</td>\n",
       "      <td>-122.2420</td>\n",
       "      <td>49224696921328680</td>\n",
       "      <td>10</td>\n",
       "      <td>0</td>\n",
       "    </tr>\n",
       "    <tr>\n",
       "      <th>4</th>\n",
       "      <td>2.38</td>\n",
       "      <td>-3</td>\n",
       "      <td>76</td>\n",
       "      <td>544731</td>\n",
       "      <td>Rio De Janeiro</td>\n",
       "      <td>80</td>\n",
       "      <td>3</td>\n",
       "      <td>undefined</td>\n",
       "      <td>15</td>\n",
       "      <td>544731******7316_2026-07</td>\n",
       "      <td>1</td>\n",
       "      <td>1</td>\n",
       "      <td>-22.9000</td>\n",
       "      <td>-43.2333</td>\n",
       "      <td>49224839756465248</td>\n",
       "      <td>19</td>\n",
       "      <td>0</td>\n",
       "    </tr>\n",
       "  </tbody>\n",
       "</table>\n",
       "</div>"
      ],
      "text/plain": [
       "   amount amount_deviation bank_currency     bin            city  \\\n",
       "0    1.00               -3           112  547087       Stuttgart   \n",
       "1   25.00               -2           840  517148           Kapaa   \n",
       "2   21.18               -2           840  546540       undefined   \n",
       "3  200.00                2           840  510805         Oakland   \n",
       "4    2.38               -3            76  544731  Rio De Janeiro   \n",
       "\n",
       "  count_months_to_end_card day_of_week    gender2 hour  \\\n",
       "0                       29           3  undefined   09   \n",
       "1                       41           3          f   12   \n",
       "2                       44           3          m   15   \n",
       "3                       40           3          m   15   \n",
       "4                       80           3  undefined   15   \n",
       "\n",
       "                         id is_city_resolved is_gender_undefined  latitude  \\\n",
       "0  547087******1680_2022-04                1                   1   48.7667   \n",
       "1  517148******7320_2023-04                1                   0   22.0837   \n",
       "2  546540******9404_2023-07                0                   0   38.0000   \n",
       "3  510805******1186_2023-03                1                   0   37.8116   \n",
       "4  544731******7316_2026-07                1                   1  -22.9000   \n",
       "\n",
       "   longitude           order_id phone_2_norm status  \n",
       "0     9.1833  49219577955111383           55      0  \n",
       "1  -159.3553  49221760925063337           08      0  \n",
       "2   -97.0000  49224688788195598           40      0  \n",
       "3  -122.2420  49224696921328680           10      0  \n",
       "4   -43.2333  49224839756465248           19      0  "
      ]
     },
     "execution_count": 12,
     "metadata": {},
     "output_type": "execute_result"
    }
   ],
   "source": [
    "df.head()"
   ]
  },
  {
   "cell_type": "code",
   "execution_count": 13,
   "metadata": {},
   "outputs": [],
   "source": [
    "numeric_cols = ['amount', 'bank_currency', 'bin', 'count_months_to_end_card', 'day_of_week', 'is_city_resolved', 'hour',\n",
    "                'is_gender_undefined', 'latitude', 'longitude', 'phone_2_norm']# 'amount_deviation'"
   ]
  },
  {
   "cell_type": "code",
   "execution_count": 14,
   "metadata": {},
   "outputs": [],
   "source": [
    "df.status = df.status.astype('float32')\n",
    "db_test.status = df.status.astype('float32')"
   ]
  },
  {
   "cell_type": "code",
   "execution_count": 15,
   "metadata": {},
   "outputs": [],
   "source": [
    "geo_cols = ['latitude', 'longitude']\n",
    "df[geo_cols] = df[geo_cols].apply(pd.to_numeric, errors=\"coerce\")\n",
    "db_test[geo_cols] = db_test[geo_cols].apply(pd.to_numeric, errors=\"coerce\")"
   ]
  },
  {
   "cell_type": "code",
   "execution_count": 16,
   "metadata": {},
   "outputs": [],
   "source": [
    "lat_replace = df.latitude.mean()\n",
    "long_replace = df.longitude.mean()\n",
    "\n",
    "lat_replace = df.latitude.min()\n",
    "long_replace = df.longitude.min()"
   ]
  },
  {
   "cell_type": "code",
   "execution_count": 17,
   "metadata": {},
   "outputs": [],
   "source": [
    "df.latitude = df.latitude.fillna(lat_replace)\n",
    "df.longitude = df.longitude.fillna(long_replace)\n",
    "db_test.latitude = db_test.latitude.fillna(lat_replace)\n",
    "db_test.longitude = db_test.longitude.fillna(long_replace)"
   ]
  },
  {
   "cell_type": "code",
   "execution_count": 18,
   "metadata": {},
   "outputs": [],
   "source": [
    "df[numeric_cols] = df[numeric_cols].astype('float32').copy()\n",
    "db_test[numeric_cols] = db_test[numeric_cols].astype('float32').copy()"
   ]
  },
  {
   "cell_type": "code",
   "execution_count": 19,
   "metadata": {},
   "outputs": [],
   "source": [
    "from sklearn.preprocessing import MinMaxScaler\n",
    "scaler = MinMaxScaler()"
   ]
  },
  {
   "cell_type": "code",
   "execution_count": 20,
   "metadata": {},
   "outputs": [],
   "source": [
    "scaler = 'own'\n",
    "if scaler != 'own':\n",
    "    df[numeric_cols] = scaler.fit_transform(df[numeric_cols])\n",
    "    db_test[numeric_cols] = scaler.fit_transform(db_test[numeric_cols])"
   ]
  },
  {
   "cell_type": "code",
   "execution_count": 21,
   "metadata": {},
   "outputs": [],
   "source": [
    "if scaler =='own' :\n",
    "    df[numeric_cols], db_test[numeric_cols] = minMaxScaler_own(df[numeric_cols], db_test[numeric_cols])"
   ]
  },
  {
   "cell_type": "code",
   "execution_count": 22,
   "metadata": {},
   "outputs": [],
   "source": [
    "feature_names = numeric_cols + ['status']\n",
    "df = df[feature_names]"
   ]
  },
  {
   "cell_type": "code",
   "execution_count": 23,
   "metadata": {},
   "outputs": [],
   "source": [
    "# https://machinelearningmastery.com/pytorch-tutorial-develop-deep-learning-models/\n",
    "# dataset definition\n",
    "class CSVDataset(Dataset):\n",
    "    # load the dataset\n",
    "    def __init__(self, df): # path\n",
    "        # store the inputs and outputs\n",
    "        self.X = df.values[:, :-1]\n",
    "        self.y = df.values[:, -1]\n",
    "        # ensure input data is floats\n",
    "        self.X = self.X.astype('float32')\n",
    "        # label encode target and ensure the values are floats\n",
    "        self.y = LabelEncoder().fit_transform(self.y)\n",
    "        self.y = self.y.astype('float32')\n",
    "        self.y = self.y.reshape((len(self.y), 1))\n",
    " \n",
    "    # number of rows in the dataset\n",
    "    def __len__(self):\n",
    "        return len(self.X)\n",
    " \n",
    "    # get a row at an index\n",
    "    def __getitem__(self, idx):\n",
    "        return [self.X[idx], self.y[idx]]\n",
    " \n",
    "    # get indexes for train and test rows\n",
    "    def get_splits(self, n_test=0.05):\n",
    "        # determine sizes\n",
    "        test_size = round(n_test * len(self.X))\n",
    "        train_size = len(self.X) - test_size\n",
    "        # calculate the split\n",
    "        return random_split(self, [train_size, test_size])"
   ]
  },
  {
   "cell_type": "code",
   "execution_count": 24,
   "metadata": {},
   "outputs": [],
   "source": [
    "# model definition\n",
    "class MLP(Module):\n",
    "    # define model elements\n",
    "    def __init__(self, n_inputs):\n",
    "        super(MLP, self).__init__()\n",
    "        # input to first hidden layer\n",
    "        self.hidden1 = Linear(n_inputs, 10)\n",
    "        kaiming_uniform_(self.hidden1.weight, nonlinearity='relu')\n",
    "        self.act1 = ReLU()\n",
    "        # second hidden layer\n",
    "        self.hidden2 = Linear(10, 6)\n",
    "        kaiming_uniform_(self.hidden2.weight, nonlinearity='relu')\n",
    "        self.act2 = ReLU()\n",
    "        # third hidden layer and output\n",
    "        self.hidden3 = Linear(6, 1)\n",
    "        xavier_uniform_(self.hidden3.weight)\n",
    "        self.act3 = Sigmoid()\n",
    " \n",
    "    # forward propagate input\n",
    "    def forward(self, X):\n",
    "        # input to first hidden layer\n",
    "        X = self.hidden1(X)\n",
    "        X = self.act1(X)\n",
    "         # second hidden layer\n",
    "        X = self.hidden2(X)\n",
    "        X = self.act2(X)\n",
    "        # third hidden layer and output\n",
    "        X = self.hidden3(X)\n",
    "        X = self.act3(X)\n",
    "        return X"
   ]
  },
  {
   "cell_type": "code",
   "execution_count": 25,
   "metadata": {},
   "outputs": [],
   "source": [
    "# prepare the dataset\n",
    "def prepare_data(df):\n",
    "    # load the dataset\n",
    "    dataset = CSVDataset(df)\n",
    "    # calculate split\n",
    "    train, test = dataset.get_splits()\n",
    "    # prepare data loaders\n",
    "    train_dl = DataLoader(train, batch_size=32, shuffle=True)\n",
    "    test_dl = DataLoader(test, batch_size=1024, shuffle=False)\n",
    "    return train_dl, test_dl"
   ]
  },
  {
   "cell_type": "code",
   "execution_count": 26,
   "metadata": {},
   "outputs": [],
   "source": [
    "def train_model(train_dl, model, optimizer=None, n_epoch=100, lr=0.01, momentum=0.9):\n",
    "    criterion = BCELoss()\n",
    "    if optimizer == None:\n",
    "        optimizer = SGD(model.parameters(), lr=lr, momentum=momentum)   \n",
    "    for epoch in range(n_epoch):\n",
    "        for i, (inputs, targets) in enumerate(train_dl):\n",
    "            optimizer.zero_grad()\n",
    "            yhat = model(inputs)\n",
    "            loss = criterion(yhat, targets)\n",
    "            loss.backward()\n",
    "            optimizer.step()"
   ]
  },
  {
   "cell_type": "code",
   "execution_count": 27,
   "metadata": {},
   "outputs": [],
   "source": [
    "# evaluate the model\n",
    "def evaluate_model(test_dl, model,threshold=0.015898451):\n",
    "    predictions, actuals = list(), list()\n",
    "    pred_proba = list()\n",
    "    for i, (inputs, targets) in enumerate(test_dl):\n",
    "        # evaluate the model on the test set\n",
    "        yhat = model(inputs)\n",
    "        # retrieve numpy array\n",
    "        yhat = yhat.detach().numpy()\n",
    "        actual = targets.numpy()\n",
    "        actual = actual.reshape((len(actual), 1))\n",
    "        # round to class values\n",
    "        #yhat = yhat.round()        \n",
    "        pred_proba.append(yhat)\n",
    "        yhat = np.where(yhat > threshold, 1, 0)\n",
    "        # store\n",
    "        predictions.append(yhat)\n",
    "        actuals.append(actual)\n",
    "    predictions, actuals = vstack(predictions), vstack(actuals)\n",
    "    pred_proba = vstack(pred_proba)\n",
    "    # calculate accuracy\n",
    "    acc = accuracy_score(actuals, predictions)\n",
    "    f1 = f1_score(actuals, predictions)\n",
    "    logloss = log_loss(actuals, pred_proba)\n",
    "    fpr, tpr, _ = roc_curve(actuals, pred_proba)\n",
    "    auc_score = auc(fpr, tpr)\n",
    "    return acc, f1, logloss, auc_score"
   ]
  },
  {
   "cell_type": "code",
   "execution_count": 28,
   "metadata": {},
   "outputs": [],
   "source": [
    "def predict(row, model):\n",
    "    # convert row to data\n",
    "    row = Tensor([row])\n",
    "    # make prediction\n",
    "    yhat = model(row)\n",
    "    # retrieve numpy array\n",
    "    yhat = yhat.detach().numpy()\n",
    "    return yhat"
   ]
  },
  {
   "cell_type": "code",
   "execution_count": 29,
   "metadata": {},
   "outputs": [],
   "source": [
    "def get_db_test_prediction(db_test, model, numeric_cols):\n",
    "    predictions = list()\n",
    "    test = db_test[numeric_cols].values\n",
    "    for row in test:\n",
    "        predictions.append(predict(row, model)[0][0])\n",
    "    return predictions         "
   ]
  },
  {
   "cell_type": "code",
   "execution_count": 30,
   "metadata": {},
   "outputs": [
    {
     "name": "stdout",
     "output_type": "stream",
     "text": [
      "411754 21671\n"
     ]
    }
   ],
   "source": [
    "train_dl, test_dl = prepare_data(df)\n",
    "print(len(train_dl.dataset), len(test_dl.dataset))"
   ]
  },
  {
   "cell_type": "code",
   "execution_count": 31,
   "metadata": {},
   "outputs": [],
   "source": [
    "# define the network\n",
    "n_feature = len(numeric_cols)\n",
    "model = MLP(n_feature)"
   ]
  },
  {
   "cell_type": "code",
   "execution_count": 32,
   "metadata": {},
   "outputs": [],
   "source": [
    "optimizer = SGD(model.parameters(), lr=0.01, momentum=0.9)"
   ]
  },
  {
   "cell_type": "code",
   "execution_count": 33,
   "metadata": {},
   "outputs": [],
   "source": [
    "train_model(train_dl, model, optimizer, n_epoch=30, lr=0.01, momentum=0.9)"
   ]
  },
  {
   "cell_type": "code",
   "execution_count": 34,
   "metadata": {},
   "outputs": [],
   "source": [
    "percent = 0.2\n",
    "predict_proba = get_db_test_prediction(db_test, model,numeric_cols)\n",
    "predict_proba_sort = -np.sort(-np.array(predict_proba))\n",
    "ids = round(len(predict_proba_sort)*percent)\n",
    "threshold = predict_proba_sort[ids]"
   ]
  },
  {
   "cell_type": "code",
   "execution_count": 35,
   "metadata": {},
   "outputs": [
    {
     "name": "stdout",
     "output_type": "stream",
     "text": [
      "Accuracy: 0.795\n",
      "f1_score: 0.048\n",
      "logloss: 0.072\n",
      "auc: 0.631\n"
     ]
    }
   ],
   "source": [
    "# evaluate the model\n",
    "acc, f1, logloss, auc_score = evaluate_model(test_dl, model,threshold=threshold)\n",
    "print('Accuracy: %.3f' % acc)\n",
    "print('f1_score: %.3f' % f1)\n",
    "print('logloss: %.3f' % logloss)\n",
    "print('auc: %.3f' % auc_score)"
   ]
  },
  {
   "cell_type": "code",
   "execution_count": 36,
   "metadata": {},
   "outputs": [],
   "source": [
    "analyzer_prediction =  AnalyzerPrediction(db_teach_orig, db_test_orig, white)"
   ]
  },
  {
   "cell_type": "code",
   "execution_count": 37,
   "metadata": {},
   "outputs": [],
   "source": [
    "result_df_amount = None"
   ]
  },
  {
   "cell_type": "code",
   "execution_count": 38,
   "metadata": {},
   "outputs": [
    {
     "name": "stdout",
     "output_type": "stream",
     "text": [
      "n_epoch=30\n"
     ]
    }
   ],
   "source": [
    "n_epoch = 30\n",
    "lr = 0.01 \n",
    "momentum = 0.9\n",
    "for n_epoch in [30]:\n",
    "    optimizer = SGD(model.parameters(), lr=lr, momentum=momentum)\n",
    "    train_model(train_dl, model, optimizer, n_epoch=n_epoch, lr=lr, momentum=momentum)\n",
    "    \n",
    "    test_probability = get_db_test_prediction(db_test, model, numeric_cols)\n",
    "    db_test_orig[\"probability\"] = test_probability\n",
    "        \n",
    "    description = '-' . join([str(elem) for elem in (n_epoch, momentum, lr)])       \n",
    "    result_df_amount = analyzer_prediction.get_table_prediction(description=description, result_df=result_df_amount, metric=\"amount\")\n",
    "    print( 'n_epoch={}'. format(n_epoch ))"
   ]
  },
  {
   "cell_type": "code",
   "execution_count": 39,
   "metadata": {},
   "outputs": [],
   "source": [
    "n = result_df_amount.shape[0]\n",
    "sub_rows = list(range(n))[::2]\n",
    "stat_best = result_df_amount.copy().iloc[sub_rows,:]\n",
    "\n",
    "col_names = [col for col in stat_best.columns if col.startswith('p_') ] \n",
    "stat_best.loc[:, col_names] = stat_best.loc[:, col_names].astype(float)\n",
    "stat_best = stat_best.sort_values(by=\"rating\", ascending=False)"
   ]
  },
  {
   "cell_type": "code",
   "execution_count": 40,
   "metadata": {},
   "outputs": [
    {
     "data": {
      "text/html": [
       "<div>\n",
       "<style scoped>\n",
       "    .dataframe tbody tr th:only-of-type {\n",
       "        vertical-align: middle;\n",
       "    }\n",
       "\n",
       "    .dataframe tbody tr th {\n",
       "        vertical-align: top;\n",
       "    }\n",
       "\n",
       "    .dataframe thead th {\n",
       "        text-align: right;\n",
       "    }\n",
       "</style>\n",
       "<table border=\"1\" class=\"dataframe\">\n",
       "  <thead>\n",
       "    <tr style=\"text-align: right;\">\n",
       "      <th></th>\n",
       "      <th>description</th>\n",
       "      <th>p_1</th>\n",
       "      <th>p_2</th>\n",
       "      <th>p_3</th>\n",
       "      <th>p_4</th>\n",
       "      <th>p_5</th>\n",
       "      <th>p_6</th>\n",
       "      <th>p_7</th>\n",
       "      <th>p_10</th>\n",
       "      <th>p_20</th>\n",
       "      <th>rating</th>\n",
       "      <th>n_white_list</th>\n",
       "      <th>n_test_in_wl</th>\n",
       "      <th>n_test_bad_in_wl</th>\n",
       "      <th>amount_test_in_wl</th>\n",
       "    </tr>\n",
       "  </thead>\n",
       "  <tbody>\n",
       "    <tr>\n",
       "      <th>0</th>\n",
       "      <td>30-0.9-0.01</td>\n",
       "      <td>4.11</td>\n",
       "      <td>6.58</td>\n",
       "      <td>9.03</td>\n",
       "      <td>12.29</td>\n",
       "      <td>15.59</td>\n",
       "      <td>16.9</td>\n",
       "      <td>20.86</td>\n",
       "      <td>29.63</td>\n",
       "      <td>50.02</td>\n",
       "      <td>127.25</td>\n",
       "      <td>1019125</td>\n",
       "      <td>22992</td>\n",
       "      <td>34</td>\n",
       "      <td>1640236.53</td>\n",
       "    </tr>\n",
       "  </tbody>\n",
       "</table>\n",
       "</div>"
      ],
      "text/plain": [
       "   description   p_1   p_2   p_3    p_4    p_5   p_6    p_7   p_10   p_20  \\\n",
       "0  30-0.9-0.01  4.11  6.58  9.03  12.29  15.59  16.9  20.86  29.63  50.02   \n",
       "\n",
       "   rating  n_white_list  n_test_in_wl  n_test_bad_in_wl  amount_test_in_wl  \n",
       "0  127.25       1019125         22992                34         1640236.53  "
      ]
     },
     "execution_count": 40,
     "metadata": {},
     "output_type": "execute_result"
    }
   ],
   "source": [
    "stat_best.iloc[:,:15]"
   ]
  },
  {
   "cell_type": "code",
   "execution_count": 334,
   "metadata": {},
   "outputs": [
    {
     "data": {
      "text/html": [
       "<div>\n",
       "<style scoped>\n",
       "    .dataframe tbody tr th:only-of-type {\n",
       "        vertical-align: middle;\n",
       "    }\n",
       "\n",
       "    .dataframe tbody tr th {\n",
       "        vertical-align: top;\n",
       "    }\n",
       "\n",
       "    .dataframe thead th {\n",
       "        text-align: right;\n",
       "    }\n",
       "</style>\n",
       "<table border=\"1\" class=\"dataframe\">\n",
       "  <thead>\n",
       "    <tr style=\"text-align: right;\">\n",
       "      <th></th>\n",
       "      <th>description</th>\n",
       "      <th>p_1</th>\n",
       "      <th>p_2</th>\n",
       "      <th>p_3</th>\n",
       "      <th>p_4</th>\n",
       "      <th>p_5</th>\n",
       "      <th>p_6</th>\n",
       "      <th>p_7</th>\n",
       "      <th>p_10</th>\n",
       "      <th>p_20</th>\n",
       "      <th>rating</th>\n",
       "      <th>n_white_list</th>\n",
       "      <th>n_test_in_wl</th>\n",
       "      <th>n_test_bad_in_wl</th>\n",
       "      <th>amount_test_in_wl</th>\n",
       "    </tr>\n",
       "  </thead>\n",
       "  <tbody>\n",
       "    <tr>\n",
       "      <th>16</th>\n",
       "      <td>10-6-1  -amount n_ep=30</td>\n",
       "      <td>5.89</td>\n",
       "      <td>15.65</td>\n",
       "      <td>20.82</td>\n",
       "      <td>23.69</td>\n",
       "      <td>25.93</td>\n",
       "      <td>29.12</td>\n",
       "      <td>30.40</td>\n",
       "      <td>37.91</td>\n",
       "      <td>54.58</td>\n",
       "      <td>184.47</td>\n",
       "      <td>1019125</td>\n",
       "      <td>22992</td>\n",
       "      <td>34</td>\n",
       "      <td>1640236.53</td>\n",
       "    </tr>\n",
       "    <tr>\n",
       "      <th>12</th>\n",
       "      <td>10-6-1  -amount n_ep=30</td>\n",
       "      <td>4.78</td>\n",
       "      <td>14.84</td>\n",
       "      <td>18.70</td>\n",
       "      <td>24.61</td>\n",
       "      <td>25.97</td>\n",
       "      <td>28.48</td>\n",
       "      <td>31.40</td>\n",
       "      <td>38.67</td>\n",
       "      <td>55.01</td>\n",
       "      <td>182.58</td>\n",
       "      <td>1019125</td>\n",
       "      <td>22992</td>\n",
       "      <td>34</td>\n",
       "      <td>1640236.53</td>\n",
       "    </tr>\n",
       "    <tr>\n",
       "      <th>20</th>\n",
       "      <td>10-6-1  -amount n_ep=31</td>\n",
       "      <td>6.62</td>\n",
       "      <td>13.98</td>\n",
       "      <td>18.34</td>\n",
       "      <td>21.81</td>\n",
       "      <td>26.84</td>\n",
       "      <td>28.83</td>\n",
       "      <td>32.03</td>\n",
       "      <td>38.63</td>\n",
       "      <td>54.25</td>\n",
       "      <td>180.47</td>\n",
       "      <td>1019125</td>\n",
       "      <td>22992</td>\n",
       "      <td>34</td>\n",
       "      <td>1640236.53</td>\n",
       "    </tr>\n",
       "    <tr>\n",
       "      <th>26</th>\n",
       "      <td>10-6-1  -amount n_ep=28</td>\n",
       "      <td>10.23</td>\n",
       "      <td>14.86</td>\n",
       "      <td>19.78</td>\n",
       "      <td>23.63</td>\n",
       "      <td>25.18</td>\n",
       "      <td>25.82</td>\n",
       "      <td>27.34</td>\n",
       "      <td>33.78</td>\n",
       "      <td>52.77</td>\n",
       "      <td>180.23</td>\n",
       "      <td>1019125</td>\n",
       "      <td>22992</td>\n",
       "      <td>34</td>\n",
       "      <td>1640236.53</td>\n",
       "    </tr>\n",
       "    <tr>\n",
       "      <th>18</th>\n",
       "      <td>10-6-1  -amount n_ep=35</td>\n",
       "      <td>10.05</td>\n",
       "      <td>14.38</td>\n",
       "      <td>16.75</td>\n",
       "      <td>21.73</td>\n",
       "      <td>27.57</td>\n",
       "      <td>29.72</td>\n",
       "      <td>31.98</td>\n",
       "      <td>38.29</td>\n",
       "      <td>51.34</td>\n",
       "      <td>180.11</td>\n",
       "      <td>1019125</td>\n",
       "      <td>22992</td>\n",
       "      <td>34</td>\n",
       "      <td>1640236.53</td>\n",
       "    </tr>\n",
       "    <tr>\n",
       "      <th>28</th>\n",
       "      <td>10-6-1  -amount n_ep=29</td>\n",
       "      <td>10.35</td>\n",
       "      <td>16.28</td>\n",
       "      <td>18.33</td>\n",
       "      <td>20.19</td>\n",
       "      <td>24.01</td>\n",
       "      <td>26.89</td>\n",
       "      <td>29.16</td>\n",
       "      <td>33.87</td>\n",
       "      <td>54.63</td>\n",
       "      <td>177.66</td>\n",
       "      <td>1019125</td>\n",
       "      <td>22992</td>\n",
       "      <td>34</td>\n",
       "      <td>1640236.53</td>\n",
       "    </tr>\n",
       "    <tr>\n",
       "      <th>10</th>\n",
       "      <td>10-6-1  -amount n_ep=25</td>\n",
       "      <td>5.46</td>\n",
       "      <td>12.04</td>\n",
       "      <td>18.64</td>\n",
       "      <td>20.72</td>\n",
       "      <td>24.18</td>\n",
       "      <td>28.77</td>\n",
       "      <td>30.60</td>\n",
       "      <td>37.30</td>\n",
       "      <td>56.40</td>\n",
       "      <td>174.74</td>\n",
       "      <td>1019125</td>\n",
       "      <td>22992</td>\n",
       "      <td>34</td>\n",
       "      <td>1640236.53</td>\n",
       "    </tr>\n",
       "    <tr>\n",
       "      <th>8</th>\n",
       "      <td>10-6-1  -amount n_ep=18</td>\n",
       "      <td>6.25</td>\n",
       "      <td>11.81</td>\n",
       "      <td>16.17</td>\n",
       "      <td>18.70</td>\n",
       "      <td>21.68</td>\n",
       "      <td>27.56</td>\n",
       "      <td>30.22</td>\n",
       "      <td>42.10</td>\n",
       "      <td>56.61</td>\n",
       "      <td>173.32</td>\n",
       "      <td>1019125</td>\n",
       "      <td>22992</td>\n",
       "      <td>34</td>\n",
       "      <td>1640236.53</td>\n",
       "    </tr>\n",
       "    <tr>\n",
       "      <th>14</th>\n",
       "      <td>10-6-1  -amount n_ep=28</td>\n",
       "      <td>6.74</td>\n",
       "      <td>12.52</td>\n",
       "      <td>19.04</td>\n",
       "      <td>21.67</td>\n",
       "      <td>24.82</td>\n",
       "      <td>27.16</td>\n",
       "      <td>29.20</td>\n",
       "      <td>37.02</td>\n",
       "      <td>50.72</td>\n",
       "      <td>172.53</td>\n",
       "      <td>1019125</td>\n",
       "      <td>22992</td>\n",
       "      <td>34</td>\n",
       "      <td>1640236.53</td>\n",
       "    </tr>\n",
       "    <tr>\n",
       "      <th>24</th>\n",
       "      <td>10-6-1  -amount n_ep=33</td>\n",
       "      <td>8.44</td>\n",
       "      <td>15.84</td>\n",
       "      <td>18.41</td>\n",
       "      <td>18.80</td>\n",
       "      <td>22.49</td>\n",
       "      <td>24.04</td>\n",
       "      <td>27.72</td>\n",
       "      <td>33.16</td>\n",
       "      <td>49.29</td>\n",
       "      <td>166.43</td>\n",
       "      <td>1019125</td>\n",
       "      <td>22992</td>\n",
       "      <td>34</td>\n",
       "      <td>1640236.53</td>\n",
       "    </tr>\n",
       "    <tr>\n",
       "      <th>22</th>\n",
       "      <td>10-6-1  -amount n_ep=32</td>\n",
       "      <td>5.43</td>\n",
       "      <td>12.58</td>\n",
       "      <td>17.15</td>\n",
       "      <td>18.52</td>\n",
       "      <td>19.32</td>\n",
       "      <td>23.54</td>\n",
       "      <td>27.24</td>\n",
       "      <td>33.55</td>\n",
       "      <td>55.66</td>\n",
       "      <td>162.21</td>\n",
       "      <td>1019125</td>\n",
       "      <td>22992</td>\n",
       "      <td>34</td>\n",
       "      <td>1640236.53</td>\n",
       "    </tr>\n",
       "    <tr>\n",
       "      <th>6</th>\n",
       "      <td>10-6-1  -amount n_ep=20</td>\n",
       "      <td>5.05</td>\n",
       "      <td>9.65</td>\n",
       "      <td>13.33</td>\n",
       "      <td>18.20</td>\n",
       "      <td>22.65</td>\n",
       "      <td>26.43</td>\n",
       "      <td>29.80</td>\n",
       "      <td>37.87</td>\n",
       "      <td>51.88</td>\n",
       "      <td>158.63</td>\n",
       "      <td>1019125</td>\n",
       "      <td>22992</td>\n",
       "      <td>34</td>\n",
       "      <td>1640236.53</td>\n",
       "    </tr>\n",
       "    <tr>\n",
       "      <th>4</th>\n",
       "      <td>10-6-1  -amount n_ep=15</td>\n",
       "      <td>4.34</td>\n",
       "      <td>9.85</td>\n",
       "      <td>13.43</td>\n",
       "      <td>17.12</td>\n",
       "      <td>20.07</td>\n",
       "      <td>21.49</td>\n",
       "      <td>24.32</td>\n",
       "      <td>34.86</td>\n",
       "      <td>54.59</td>\n",
       "      <td>154.26</td>\n",
       "      <td>1019125</td>\n",
       "      <td>22992</td>\n",
       "      <td>34</td>\n",
       "      <td>1640236.53</td>\n",
       "    </tr>\n",
       "    <tr>\n",
       "      <th>2</th>\n",
       "      <td>10-6-1  -amount n_ep=10</td>\n",
       "      <td>6.32</td>\n",
       "      <td>12.09</td>\n",
       "      <td>12.93</td>\n",
       "      <td>13.63</td>\n",
       "      <td>15.46</td>\n",
       "      <td>19.61</td>\n",
       "      <td>21.96</td>\n",
       "      <td>30.73</td>\n",
       "      <td>52.33</td>\n",
       "      <td>143.49</td>\n",
       "      <td>1019125</td>\n",
       "      <td>22992</td>\n",
       "      <td>34</td>\n",
       "      <td>1640236.53</td>\n",
       "    </tr>\n",
       "    <tr>\n",
       "      <th>0</th>\n",
       "      <td>10-6-1  -amount n_ep=5</td>\n",
       "      <td>0.88</td>\n",
       "      <td>8.48</td>\n",
       "      <td>9.63</td>\n",
       "      <td>10.07</td>\n",
       "      <td>14.36</td>\n",
       "      <td>16.95</td>\n",
       "      <td>19.10</td>\n",
       "      <td>27.76</td>\n",
       "      <td>51.62</td>\n",
       "      <td>122.80</td>\n",
       "      <td>1019125</td>\n",
       "      <td>22992</td>\n",
       "      <td>34</td>\n",
       "      <td>1640236.53</td>\n",
       "    </tr>\n",
       "  </tbody>\n",
       "</table>\n",
       "</div>"
      ],
      "text/plain": [
       "                description    p_1    p_2    p_3    p_4    p_5    p_6    p_7  \\\n",
       "16  10-6-1  -amount n_ep=30   5.89  15.65  20.82  23.69  25.93  29.12  30.40   \n",
       "12  10-6-1  -amount n_ep=30   4.78  14.84  18.70  24.61  25.97  28.48  31.40   \n",
       "20  10-6-1  -amount n_ep=31   6.62  13.98  18.34  21.81  26.84  28.83  32.03   \n",
       "26  10-6-1  -amount n_ep=28  10.23  14.86  19.78  23.63  25.18  25.82  27.34   \n",
       "18  10-6-1  -amount n_ep=35  10.05  14.38  16.75  21.73  27.57  29.72  31.98   \n",
       "28  10-6-1  -amount n_ep=29  10.35  16.28  18.33  20.19  24.01  26.89  29.16   \n",
       "10  10-6-1  -amount n_ep=25   5.46  12.04  18.64  20.72  24.18  28.77  30.60   \n",
       "8   10-6-1  -amount n_ep=18   6.25  11.81  16.17  18.70  21.68  27.56  30.22   \n",
       "14  10-6-1  -amount n_ep=28   6.74  12.52  19.04  21.67  24.82  27.16  29.20   \n",
       "24  10-6-1  -amount n_ep=33   8.44  15.84  18.41  18.80  22.49  24.04  27.72   \n",
       "22  10-6-1  -amount n_ep=32   5.43  12.58  17.15  18.52  19.32  23.54  27.24   \n",
       "6   10-6-1  -amount n_ep=20   5.05   9.65  13.33  18.20  22.65  26.43  29.80   \n",
       "4   10-6-1  -amount n_ep=15   4.34   9.85  13.43  17.12  20.07  21.49  24.32   \n",
       "2   10-6-1  -amount n_ep=10   6.32  12.09  12.93  13.63  15.46  19.61  21.96   \n",
       "0    10-6-1  -amount n_ep=5   0.88   8.48   9.63  10.07  14.36  16.95  19.10   \n",
       "\n",
       "     p_10   p_20  rating  n_white_list  n_test_in_wl  n_test_bad_in_wl  \\\n",
       "16  37.91  54.58  184.47       1019125         22992                34   \n",
       "12  38.67  55.01  182.58       1019125         22992                34   \n",
       "20  38.63  54.25  180.47       1019125         22992                34   \n",
       "26  33.78  52.77  180.23       1019125         22992                34   \n",
       "18  38.29  51.34  180.11       1019125         22992                34   \n",
       "28  33.87  54.63  177.66       1019125         22992                34   \n",
       "10  37.30  56.40  174.74       1019125         22992                34   \n",
       "8   42.10  56.61  173.32       1019125         22992                34   \n",
       "14  37.02  50.72  172.53       1019125         22992                34   \n",
       "24  33.16  49.29  166.43       1019125         22992                34   \n",
       "22  33.55  55.66  162.21       1019125         22992                34   \n",
       "6   37.87  51.88  158.63       1019125         22992                34   \n",
       "4   34.86  54.59  154.26       1019125         22992                34   \n",
       "2   30.73  52.33  143.49       1019125         22992                34   \n",
       "0   27.76  51.62  122.80       1019125         22992                34   \n",
       "\n",
       "    amount_test_in_wl  \n",
       "16         1640236.53  \n",
       "12         1640236.53  \n",
       "20         1640236.53  \n",
       "26         1640236.53  \n",
       "18         1640236.53  \n",
       "28         1640236.53  \n",
       "10         1640236.53  \n",
       "8          1640236.53  \n",
       "14         1640236.53  \n",
       "24         1640236.53  \n",
       "22         1640236.53  \n",
       "6          1640236.53  \n",
       "4          1640236.53  \n",
       "2          1640236.53  \n",
       "0          1640236.53  "
      ]
     },
     "execution_count": 334,
     "metadata": {},
     "output_type": "execute_result"
    }
   ],
   "source": [
    "stat_best.iloc[:,:15]"
   ]
  },
  {
   "cell_type": "markdown",
   "metadata": {},
   "source": [
    "## Deep Explainer"
   ]
  },
  {
   "cell_type": "code",
   "execution_count": 41,
   "metadata": {},
   "outputs": [],
   "source": [
    "# https://www.kaggle.com/ceshine/feature-importance-from-a-pytorch-model\n",
    "import shap\n",
    "import torch"
   ]
  },
  {
   "cell_type": "code",
   "execution_count": 42,
   "metadata": {},
   "outputs": [],
   "source": [
    "DEVICE = \"cpu\""
   ]
  },
  {
   "cell_type": "code",
   "execution_count": 44,
   "metadata": {},
   "outputs": [],
   "source": [
    "x_train = df[numeric_cols].copy().astype(np.float32)\n",
    "x_test = db_test[numeric_cols].copy().astype(np.float32)"
   ]
  },
  {
   "cell_type": "code",
   "execution_count": 45,
   "metadata": {},
   "outputs": [],
   "source": [
    "x_train = x_train.values\n",
    "x_test = x_test.values"
   ]
  },
  {
   "cell_type": "code",
   "execution_count": 46,
   "metadata": {},
   "outputs": [
    {
     "name": "stdout",
     "output_type": "stream",
     "text": [
      "CPU times: user 14 ms, sys: 69 µs, total: 14.1 ms\n",
      "Wall time: 12.1 ms\n"
     ]
    }
   ],
   "source": [
    "%%time\n",
    "e = shap.DeepExplainer(\n",
    "        model, \n",
    "        torch.from_numpy(\n",
    "            x_train[np.random.choice(np.arange(len(x_train)), 10000, replace=False)]\n",
    "        ).to(DEVICE))"
   ]
  },
  {
   "cell_type": "code",
   "execution_count": 47,
   "metadata": {},
   "outputs": [
    {
     "name": "stdout",
     "output_type": "stream",
     "text": [
      "300\n",
      "CPU times: user 3min 50s, sys: 1min 18s, total: 5min 9s\n",
      "Wall time: 1min 53s\n"
     ]
    }
   ],
   "source": [
    "%%time\n",
    "x_samples = x_test[np.random.choice(np.arange(len(x_test)), 300, replace=False)]\n",
    "print(len(x_samples))\n",
    "shap_values = e.shap_values(\n",
    "    torch.from_numpy(x_samples).to(DEVICE)\n",
    ")"
   ]
  },
  {
   "cell_type": "code",
   "execution_count": 48,
   "metadata": {},
   "outputs": [
    {
     "data": {
      "text/plain": [
       "(300, 11)"
      ]
     },
     "execution_count": 48,
     "metadata": {},
     "output_type": "execute_result"
    }
   ],
   "source": [
    "shap_values.shape"
   ]
  },
  {
   "cell_type": "code",
   "execution_count": 49,
   "metadata": {},
   "outputs": [
    {
     "data": {
      "text/html": [
       "<div>\n",
       "<style scoped>\n",
       "    .dataframe tbody tr th:only-of-type {\n",
       "        vertical-align: middle;\n",
       "    }\n",
       "\n",
       "    .dataframe tbody tr th {\n",
       "        vertical-align: top;\n",
       "    }\n",
       "\n",
       "    .dataframe thead th {\n",
       "        text-align: right;\n",
       "    }\n",
       "</style>\n",
       "<table border=\"1\" class=\"dataframe\">\n",
       "  <thead>\n",
       "    <tr style=\"text-align: right;\">\n",
       "      <th></th>\n",
       "      <th>mean_abs_shap</th>\n",
       "      <th>stdev_abs_shap</th>\n",
       "      <th>name</th>\n",
       "    </tr>\n",
       "  </thead>\n",
       "  <tbody>\n",
       "    <tr>\n",
       "      <th>0</th>\n",
       "      <td>0.004686</td>\n",
       "      <td>0.004906</td>\n",
       "      <td>amount</td>\n",
       "    </tr>\n",
       "    <tr>\n",
       "      <th>6</th>\n",
       "      <td>0.002635</td>\n",
       "      <td>0.002134</td>\n",
       "      <td>hour</td>\n",
       "    </tr>\n",
       "    <tr>\n",
       "      <th>3</th>\n",
       "      <td>0.002079</td>\n",
       "      <td>0.001404</td>\n",
       "      <td>count_months_to_end_card</td>\n",
       "    </tr>\n",
       "    <tr>\n",
       "      <th>7</th>\n",
       "      <td>0.001993</td>\n",
       "      <td>0.001982</td>\n",
       "      <td>is_gender_undefined</td>\n",
       "    </tr>\n",
       "    <tr>\n",
       "      <th>5</th>\n",
       "      <td>0.001892</td>\n",
       "      <td>0.001198</td>\n",
       "      <td>is_city_resolved</td>\n",
       "    </tr>\n",
       "    <tr>\n",
       "      <th>10</th>\n",
       "      <td>0.001550</td>\n",
       "      <td>0.001328</td>\n",
       "      <td>phone_2_norm</td>\n",
       "    </tr>\n",
       "    <tr>\n",
       "      <th>2</th>\n",
       "      <td>0.001379</td>\n",
       "      <td>0.001393</td>\n",
       "      <td>bin</td>\n",
       "    </tr>\n",
       "    <tr>\n",
       "      <th>1</th>\n",
       "      <td>0.001233</td>\n",
       "      <td>0.002366</td>\n",
       "      <td>bank_currency</td>\n",
       "    </tr>\n",
       "    <tr>\n",
       "      <th>4</th>\n",
       "      <td>0.000702</td>\n",
       "      <td>0.000702</td>\n",
       "      <td>day_of_week</td>\n",
       "    </tr>\n",
       "    <tr>\n",
       "      <th>8</th>\n",
       "      <td>0.000246</td>\n",
       "      <td>0.000456</td>\n",
       "      <td>latitude</td>\n",
       "    </tr>\n",
       "    <tr>\n",
       "      <th>9</th>\n",
       "      <td>0.000136</td>\n",
       "      <td>0.000222</td>\n",
       "      <td>longitude</td>\n",
       "    </tr>\n",
       "  </tbody>\n",
       "</table>\n",
       "</div>"
      ],
      "text/plain": [
       "    mean_abs_shap  stdev_abs_shap                      name\n",
       "0        0.004686        0.004906                    amount\n",
       "6        0.002635        0.002134                      hour\n",
       "3        0.002079        0.001404  count_months_to_end_card\n",
       "7        0.001993        0.001982       is_gender_undefined\n",
       "5        0.001892        0.001198          is_city_resolved\n",
       "10       0.001550        0.001328              phone_2_norm\n",
       "2        0.001379        0.001393                       bin\n",
       "1        0.001233        0.002366             bank_currency\n",
       "4        0.000702        0.000702               day_of_week\n",
       "8        0.000246        0.000456                  latitude\n",
       "9        0.000136        0.000222                 longitude"
      ]
     },
     "execution_count": 49,
     "metadata": {},
     "output_type": "execute_result"
    }
   ],
   "source": [
    "import pandas as pd\n",
    "df_impotrance = pd.DataFrame({\n",
    "    \"mean_abs_shap\": np.mean(np.abs(shap_values), axis=0), \n",
    "    \"stdev_abs_shap\": np.std(np.abs(shap_values), axis=0), \n",
    "    \"name\": numeric_cols\n",
    "})\n",
    "df_impotrance.sort_values(\"mean_abs_shap\", ascending=False)[:18]"
   ]
  },
  {
   "cell_type": "code",
   "execution_count": 50,
   "metadata": {},
   "outputs": [
    {
     "data": {
      "image/png": "[encoded data removed]",
      "text/plain": [
       "<Figure size 576x424.8 with 2 Axes>"
      ]
     },
     "metadata": {
      "needs_background": "light"
     },
     "output_type": "display_data"
    }
   ],
   "source": [
    "shap.summary_plot(shap_values, features=x_samples, feature_names=numeric_cols)"
   ]
  },
  {
   "cell_type": "code",
   "execution_count": 51,
   "metadata": {},
   "outputs": [],
   "source": [
    "# https://colab.research.google.com/github/ray-project/tutorial/blob/master/tune_exercises/exercise_2_optimize.ipynb#scrollTo=LFi0rXSIDJKA\n",
    "import ray\n",
    "from ray import tune\n",
    "from ray.tune import track\n",
    "from ray.tune.schedulers import AsyncHyperBandScheduler\n",
    "from ray.tune.examples.mnist_pytorch import train, test, ConvNet, get_data_loaders"
   ]
  },
  {
   "cell_type": "code",
   "execution_count": 52,
   "metadata": {},
   "outputs": [],
   "source": [
    "n_feature = len(numeric_cols)\n",
    "feature_names = numeric_cols + ['status'] "
   ]
  },
  {
   "cell_type": "code",
   "execution_count": 54,
   "metadata": {},
   "outputs": [
    {
     "name": "stderr",
     "output_type": "stream",
     "text": [
      "2021-01-21 13:49:35,687\tINFO services.py:1173 -- View the Ray dashboard at \u001b[1m\u001b[32mhttp://127.0.0.1:8265\u001b[39m\u001b[22m\n"
     ]
    },
    {
     "data": {
      "text/plain": [
       "{'node_ip_address': '192.168.0.105',\n",
       " 'raylet_ip_address': '192.168.0.105',\n",
       " 'redis_address': '192.168.0.105:6379',\n",
       " 'object_store_address': '/tmp/ray/session_2021-01-21_13-49-35_139762_51591/sockets/plasma_store',\n",
       " 'raylet_socket_name': '/tmp/ray/session_2021-01-21_13-49-35_139762_51591/sockets/raylet',\n",
       " 'webui_url': '127.0.0.1:8265',\n",
       " 'session_dir': '/tmp/ray/session_2021-01-21_13-49-35_139762_51591',\n",
       " 'metrics_export_port': 58791,\n",
       " 'node_id': 'fc72fedaaa4c5f3a7d4a71b2d06d047f28ed57d0'}"
      ]
     },
     "execution_count": 54,
     "metadata": {},
     "output_type": "execute_result"
    }
   ],
   "source": [
    "ray.shutdown()  # Restart Ray defensively in case the ray connection is lost. \n",
    "ray.init(log_to_driver=False)"
   ]
  },
  {
   "cell_type": "code",
   "execution_count": 55,
   "metadata": {},
   "outputs": [],
   "source": [
    "n_feature = len(numeric_cols)\n",
    "def train_m(config):\n",
    "    model = MLP(n_feature)\n",
    "    train_loader, test_loader = prepare_data(df[feature_names])\n",
    "    optimizer = SGD(model.parameters(), lr=config[\"lr\"], momentum=config[\"momentum\"])\n",
    "    for i in range(10):\n",
    "        train_model(train_loader, model, optimizer, n_epoch=20)\n",
    "        acc, _, _, auc_score = evaluate_model(test_loader, model)\n",
    "        tune.track.log(mean_accuracy=auc_score)"
   ]
  },
  {
   "cell_type": "code",
   "execution_count": 56,
   "metadata": {},
   "outputs": [
    {
     "name": "stderr",
     "output_type": "stream",
     "text": [
      "2021-01-21 13:50:46,160\tWARNING function_runner.py:540 -- Function checkpointing is disabled. This may result in unexpected behavior when using checkpointing features or certain schedulers. To enable, set the train function arguments to be `func(config, checkpoint_dir=None)`.\n",
      "2021-01-21 13:50:46,693\tWARNING worker.py:1034 -- Warning: The actor ImplicitFunc has size 39883284 when pickled. It will be stored in Redis, which could cause memory issues. This may mean that its definition uses a large array or other object.\n"
     ]
    }
   ],
   "source": [
    "search_space = {\n",
    "    \"lr\": tune.grid_search([0.001, 0.01, 0.1, 0.2]),\n",
    "    \"momentum\": tune.uniform(0.1, 0.9)\n",
    "}\n",
    "analysis = tune.run(\n",
    "    train_m,\n",
    "    verbose=0,\n",
    "    config=search_space#{\"lr\": tune.grid_search([0.001, 0.01, 0.1])}\n",
    ")"
   ]
  },
  {
   "cell_type": "code",
   "execution_count": 57,
   "metadata": {},
   "outputs": [],
   "source": [
    "%matplotlib inline\n",
    "import matplotlib.pyplot as plt\n",
    "import matplotlib.style as style\n",
    "style.use(\"ggplot\")"
   ]
  },
  {
   "cell_type": "code",
   "execution_count": 58,
   "metadata": {},
   "outputs": [
    {
     "data": {
      "text/plain": [
       "Text(0, 0.5, 'Test AUC')"
      ]
     },
     "execution_count": 58,
     "metadata": {},
     "output_type": "execute_result"
    },
    {
     "data": {
      "image/png": "[encoded data removed]",
      "text/plain": [
       "<Figure size 432x288 with 1 Axes>"
      ]
     },
     "metadata": {},
     "output_type": "display_data"
    }
   ],
   "source": [
    "dfs = analysis.fetch_trial_dataframes()\n",
    "[d.mean_accuracy.plot() for d in dfs.values()]\n",
    "plt.xlabel(\"iter\"); plt.ylabel(\"Test AUC\")"
   ]
  },
  {
   "cell_type": "code",
   "execution_count": 59,
   "metadata": {},
   "outputs": [
    {
     "data": {
      "text/html": [
       "<div>\n",
       "<style scoped>\n",
       "    .dataframe tbody tr th:only-of-type {\n",
       "        vertical-align: middle;\n",
       "    }\n",
       "\n",
       "    .dataframe tbody tr th {\n",
       "        vertical-align: top;\n",
       "    }\n",
       "\n",
       "    .dataframe thead th {\n",
       "        text-align: right;\n",
       "    }\n",
       "</style>\n",
       "<table border=\"1\" class=\"dataframe\">\n",
       "  <thead>\n",
       "    <tr style=\"text-align: right;\">\n",
       "      <th></th>\n",
       "      <th>training_iteration</th>\n",
       "      <th>mean_accuracy</th>\n",
       "      <th>config.lr</th>\n",
       "      <th>config.momentum</th>\n",
       "    </tr>\n",
       "    <tr>\n",
       "      <th>trial_id</th>\n",
       "      <th></th>\n",
       "      <th></th>\n",
       "      <th></th>\n",
       "      <th></th>\n",
       "    </tr>\n",
       "  </thead>\n",
       "  <tbody>\n",
       "    <tr>\n",
       "      <th>e5eb6_00000</th>\n",
       "      <td>10</td>\n",
       "      <td>0.601979</td>\n",
       "      <td>0.001</td>\n",
       "      <td>0.433618</td>\n",
       "    </tr>\n",
       "    <tr>\n",
       "      <th>e5eb6_00001</th>\n",
       "      <td>10</td>\n",
       "      <td>0.655266</td>\n",
       "      <td>0.010</td>\n",
       "      <td>0.676260</td>\n",
       "    </tr>\n",
       "    <tr>\n",
       "      <th>e5eb6_00002</th>\n",
       "      <td>10</td>\n",
       "      <td>0.675275</td>\n",
       "      <td>0.100</td>\n",
       "      <td>0.100091</td>\n",
       "    </tr>\n",
       "    <tr>\n",
       "      <th>e5eb6_00003</th>\n",
       "      <td>10</td>\n",
       "      <td>0.670098</td>\n",
       "      <td>0.200</td>\n",
       "      <td>0.341866</td>\n",
       "    </tr>\n",
       "  </tbody>\n",
       "</table>\n",
       "</div>"
      ],
      "text/plain": [
       "             training_iteration  mean_accuracy  config.lr  config.momentum\n",
       "trial_id                                                                  \n",
       "e5eb6_00000                  10       0.601979      0.001         0.433618\n",
       "e5eb6_00001                  10       0.655266      0.010         0.676260\n",
       "e5eb6_00002                  10       0.675275      0.100         0.100091\n",
       "e5eb6_00003                  10       0.670098      0.200         0.341866"
      ]
     },
     "execution_count": 59,
     "metadata": {},
     "output_type": "execute_result"
    }
   ],
   "source": [
    "df_res = analysis.results_df\n",
    "df_res[['training_iteration', 'mean_accuracy', 'config.lr', 'config.momentum']]"
   ]
  }
 ],
 "metadata": {
  "kernelspec": {
   "display_name": "Python 3",
   "language": "python",
   "name": "python3"
  },
  "language_info": {
   "codemirror_mode": {
    "name": "ipython",
    "version": 3
   },
   "file_extension": ".py",
   "mimetype": "text/x-python",
   "name": "python",
   "nbconvert_exporter": "python",
   "pygments_lexer": "ipython3",
   "version": "3.7.6"
  }
 },
 "nbformat": 4,
 "nbformat_minor": 4
}
