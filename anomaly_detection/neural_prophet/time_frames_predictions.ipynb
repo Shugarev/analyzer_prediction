{
 "cells": [
  {
   "cell_type": "code",
   "execution_count": 1,
   "metadata": {},
   "outputs": [],
   "source": [
    "# https://github.com/ourownstory/neural_prophet\n",
    "  \n",
    "# article    \n",
    "# https://towardsdatascience.com/neural-prophet-a-time-series-modeling-library-based-on-neural-networks-dd02dc8d868d\n",
    "\n",
    "#example\n",
    "# https://github.com/e-alizadeh/medium/blob/master/notebooks/NeuralProphet/neural_prophet.ipynb"
   ]
  },
  {
   "cell_type": "code",
   "execution_count": 3,
   "metadata": {},
   "outputs": [],
   "source": [
    "import numpy as np \n",
    "import pandas as pd \n",
    "pd.set_option('display.max_colwidth', 1000)\n",
    "pd.set_option('display.max_rows', 50)\n",
    "pd.set_option('display.max_columns', 50)\n",
    "\n",
    "from neuralprophet import NeuralProphet\n",
    "\n",
    "import matplotlib.pyplot as plt\n",
    "import matplotlib as mpl\n",
    "mpl.rcParams['figure.dpi'] = 100\n",
    "import matplotlib.dates as mdates\n",
    "\n",
    "from sklearn.metrics import mean_absolute_error\n",
    "from collections import Counter"
   ]
  },
  {
   "cell_type": "markdown",
   "metadata": {},
   "source": [
    "-------------------------------------- DATA from GRAFANA --------------------------------------"
   ]
  },
  {
   "cell_type": "code",
   "execution_count": 4,
   "metadata": {},
   "outputs": [],
   "source": [
    "path = '/mnt/files/workdata/work/docker-containers/mysql-with-data-for-grafana-v2/'\n",
    "df_full = pd.read_csv(path + \"v2_grafana-operations.csv\")#, parse_dates=[\"ds\"]"
   ]
  },
  {
   "cell_type": "code",
   "execution_count": 5,
   "metadata": {},
   "outputs": [],
   "source": [
    "# df_full_copy = df_full.copy()"
   ]
  },
  {
   "cell_type": "code",
   "execution_count": 6,
   "metadata": {},
   "outputs": [],
   "source": [
    "df_full = df_full_copy.copy()"
   ]
  },
  {
   "cell_type": "code",
   "execution_count": 7,
   "metadata": {},
   "outputs": [
    {
     "data": {
      "text/plain": [
       "Counter({'failure': 3038270, 'success': 10282369, 'error': 1411})"
      ]
     },
     "execution_count": 7,
     "metadata": {},
     "output_type": "execute_result"
    }
   ],
   "source": [
    "Counter(df_full.status)"
   ]
  },
  {
   "cell_type": "code",
   "execution_count": 8,
   "metadata": {},
   "outputs": [
    {
     "name": "stdout",
     "output_type": "stream",
     "text": [
      "Counter({'UAH': 4673196, 'USD': 2845175, 'RUB': 1666301, 'EUR': 1060336, 'MDL': 1018500, 'KZT': 538965, 'ILS': 257737, 'PLN': 189941, 'GBP': 173436, 'CAD': 165185, 'RON': 148722, 'CHF': 104453, 'MXN': 72608, 'AUD': 57461, 'COP': 55520, 'ZAR': 38925, 'GEL': 30057, 'PEN': 28511, 'RSD': 25424, 'TRY': 22298, 'CZK': 21201, 'BRL': 20577, 'DKK': 17652, 'AED': 11688, 'BYN': 11249, 'AZN': 9070, 'NOK': 9050, 'SAR': 7696, 'ARS': 7077, 'HUF': 6705, 'THB': 6068, 'NGN': 4089, 'HRK': 3925, 'BGN': 3843, 'MYR': 1966, 'INR': 1856, 'QAR': 1630, 'SEK': 1493, 'EGP': 1008, 'UZS': 628, 'KGS': 543, 'CLP': 187, 'JPY': 94, 'PHP': 2, 'KRW': 2})\n"
     ]
    }
   ],
   "source": [
    "print(str(Counter(df_full.currency)))"
   ]
  },
  {
   "cell_type": "code",
   "execution_count": 9,
   "metadata": {},
   "outputs": [
    {
     "data": {
      "text/plain": [
       "\"['id', 'order_id', 'type', 'status', 'amount', 'currency', 'terminal_id', 'mcc', 'project_id', 'created', 'card_masked', 'expiration_year', 'expiration_month', 'country', 'zip', 'bank_name', 'card_type', 'merchant_id']\""
      ]
     },
     "execution_count": 9,
     "metadata": {},
     "output_type": "execute_result"
    }
   ],
   "source": [
    "str(list(df_full))"
   ]
  },
  {
   "cell_type": "code",
   "execution_count": 10,
   "metadata": {},
   "outputs": [],
   "source": [
    "# Counter(df_full.terminal_id)"
   ]
  },
  {
   "cell_type": "code",
   "execution_count": 11,
   "metadata": {},
   "outputs": [],
   "source": [
    "# merchant_id - сгенерировали сами, он не нужен для анализа\n",
    "col_names = ['amount', 'created','currency', 'terminal_id', 'mcc', 'project_id', 'card_masked',  'country',  'bank_name', 'card_type']\n",
    "\n",
    "mask = (df_full.type == 'charge') & (df_full.status == 'success') & (df_full.currency == 'EUR')\n",
    "\n",
    "\n",
    "df_eur_e13 = df_full[mask][col_names].copy()"
   ]
  },
  {
   "cell_type": "code",
   "execution_count": 12,
   "metadata": {},
   "outputs": [],
   "source": [
    "dt =  df_eur_e13.copy()"
   ]
  },
  {
   "cell_type": "code",
   "execution_count": 13,
   "metadata": {},
   "outputs": [
    {
     "name": "stdout",
     "output_type": "stream",
     "text": [
      "(319289, 10)\n",
      "min= 2020-01-01 00:00:59  max=  2020-03-25 23:58:26\n"
     ]
    }
   ],
   "source": [
    "print(dt.shape)\n",
    "print('min=', min(dt['created']), ' max= ', max(dt['created']))\n",
    "\n",
    "# mask = dt.created < '2020-03-15'\n",
    "# dt = dt[mask].copy()"
   ]
  },
  {
   "cell_type": "code",
   "execution_count": null,
   "metadata": {},
   "outputs": [],
   "source": []
  },
  {
   "cell_type": "code",
   "execution_count": 14,
   "metadata": {},
   "outputs": [],
   "source": [
    "data_agg = 'date_hour'\n",
    "dt[data_agg] = dt['created'].str[:13]#16 -wwith minutes\n",
    "dt['date_only'] = dt['created'].str[:10]#16 -wwith minutes"
   ]
  },
  {
   "cell_type": "code",
   "execution_count": 175,
   "metadata": {},
   "outputs": [],
   "source": [
    "def plot_points(forecast, date_test='2020-03-15'):\n",
    "    mask = forecast.ds > date_test\n",
    "    forecast_sub = forecast[mask].copy()\n",
    "\n",
    "    fig, ax = plt.subplots(figsize=(24, 5)) \n",
    "    ax.scatter(x = forecast_sub['ds'], y = forecast_sub['y1'], c='DarkBlue',marker='.')\n",
    "\n",
    "    ax.plot(forecast_sub['ds'],forecast_sub['yhat1'] , linestyle='dashed', color='green')#\n",
    "    # ax.plot(forecast_sub['ds'],forecast_sub['yhat2'], linestyle='dashed', color='grey')#\n",
    "\n",
    "    ax.scatter(x = forecast_sub['ds'], y = forecast_sub['anomaly_point'], c='RED', marker='.', s=64)\n",
    "    ax.set_title(\"Amount по дате\", fontsize=10, fontweight=\"bold\")#\"Amount by date\"\n",
    "\n",
    "    plt.xlabel(\"Date\")\n",
    "    plt.ylabel(\"Amount\")\n",
    "\n",
    "    plt.legend([ \"neuralprophet предсказание\",  \"фактические значения\", 'аномальные значения'], loc ='upper right')\n",
    "    # plt.legend([ \"neuralprophet предсказание\", \"среднее по 5-ти предидущим значениям\", \"фактические значения\", 'аномальные значения'], loc ='upper right')\n",
    "\n",
    "\n",
    "    plt.show()"
   ]
  },
  {
   "cell_type": "code",
   "execution_count": 16,
   "metadata": {},
   "outputs": [
    {
     "data": {
      "text/html": [
       "<div>\n",
       "<style scoped>\n",
       "    .dataframe tbody tr th:only-of-type {\n",
       "        vertical-align: middle;\n",
       "    }\n",
       "\n",
       "    .dataframe tbody tr th {\n",
       "        vertical-align: top;\n",
       "    }\n",
       "\n",
       "    .dataframe thead th {\n",
       "        text-align: right;\n",
       "    }\n",
       "</style>\n",
       "<table border=\"1\" class=\"dataframe\">\n",
       "  <thead>\n",
       "    <tr style=\"text-align: right;\">\n",
       "      <th></th>\n",
       "      <th>amount</th>\n",
       "      <th>created</th>\n",
       "      <th>currency</th>\n",
       "      <th>terminal_id</th>\n",
       "      <th>mcc</th>\n",
       "      <th>project_id</th>\n",
       "      <th>card_masked</th>\n",
       "      <th>country</th>\n",
       "      <th>bank_name</th>\n",
       "      <th>card_type</th>\n",
       "      <th>date_hour</th>\n",
       "      <th>date_only</th>\n",
       "    </tr>\n",
       "  </thead>\n",
       "  <tbody>\n",
       "    <tr>\n",
       "      <th>57</th>\n",
       "      <td>9.90</td>\n",
       "      <td>2020-01-01 00:00:59</td>\n",
       "      <td>EUR</td>\n",
       "      <td>e13884801c21bdd62ec3ce85cab03f8b45a41ea1</td>\n",
       "      <td>5399</td>\n",
       "      <td>224f3d3120309f994e744af6ed64dddc18a82888</td>\n",
       "      <td>535876******5100</td>\n",
       "      <td>ESP</td>\n",
       "      <td>undefined</td>\n",
       "      <td>MasterCard</td>\n",
       "      <td>2020-01-01 00</td>\n",
       "      <td>2020-01-01</td>\n",
       "    </tr>\n",
       "    <tr>\n",
       "      <th>73</th>\n",
       "      <td>69.99</td>\n",
       "      <td>2020-01-01 00:01:11</td>\n",
       "      <td>EUR</td>\n",
       "      <td>a14f2bc450bd3e5d116ebf93785e8b1d45a5eee4</td>\n",
       "      <td>8641</td>\n",
       "      <td>f161302002d4d92168c951d25b8e2598f64e5ee1</td>\n",
       "      <td>431940******7605</td>\n",
       "      <td>IRL</td>\n",
       "      <td>ROYAL BANK OF SCOTLAND PLC</td>\n",
       "      <td>VISA card</td>\n",
       "      <td>2020-01-01 00</td>\n",
       "      <td>2020-01-01</td>\n",
       "    </tr>\n",
       "    <tr>\n",
       "      <th>85</th>\n",
       "      <td>1.95</td>\n",
       "      <td>2020-01-01 00:01:24</td>\n",
       "      <td>EUR</td>\n",
       "      <td>f2924025f3527aadd3db16463a54eb3e9603e59e</td>\n",
       "      <td>7298</td>\n",
       "      <td>b3cf5250cf7e57b079d691c9b7572e38e63c7987</td>\n",
       "      <td>402360******6448</td>\n",
       "      <td>ITA</td>\n",
       "      <td>POSTE ITALIANE S.P.A. (BANCO POSTA)</td>\n",
       "      <td>VISA card</td>\n",
       "      <td>2020-01-01 00</td>\n",
       "      <td>2020-01-01</td>\n",
       "    </tr>\n",
       "    <tr>\n",
       "      <th>268</th>\n",
       "      <td>6.24</td>\n",
       "      <td>2020-01-01 00:05:07</td>\n",
       "      <td>EUR</td>\n",
       "      <td>9a664dfa0f1e64b81c8cfb23c4a331a2b9694f24</td>\n",
       "      <td>7273</td>\n",
       "      <td>039f62b24257c47697c4888592671f86d79b930c</td>\n",
       "      <td>436618******9879</td>\n",
       "      <td>USA</td>\n",
       "      <td>U.S. BANK, N.A.</td>\n",
       "      <td>VISA card</td>\n",
       "      <td>2020-01-01 00</td>\n",
       "      <td>2020-01-01</td>\n",
       "    </tr>\n",
       "    <tr>\n",
       "      <th>314</th>\n",
       "      <td>4.48</td>\n",
       "      <td>2020-01-01 00:06:08</td>\n",
       "      <td>EUR</td>\n",
       "      <td>e13884801c21bdd62ec3ce85cab03f8b45a41ea1</td>\n",
       "      <td>5399</td>\n",
       "      <td>224f3d3120309f994e744af6ed64dddc18a82888</td>\n",
       "      <td>406439******3072</td>\n",
       "      <td>MKD</td>\n",
       "      <td>STOPANSKA BANKA A.D. SKOPJE</td>\n",
       "      <td>VISA card</td>\n",
       "      <td>2020-01-01 00</td>\n",
       "      <td>2020-01-01</td>\n",
       "    </tr>\n",
       "  </tbody>\n",
       "</table>\n",
       "</div>"
      ],
      "text/plain": [
       "     amount              created currency  \\\n",
       "57     9.90  2020-01-01 00:00:59      EUR   \n",
       "73    69.99  2020-01-01 00:01:11      EUR   \n",
       "85     1.95  2020-01-01 00:01:24      EUR   \n",
       "268    6.24  2020-01-01 00:05:07      EUR   \n",
       "314    4.48  2020-01-01 00:06:08      EUR   \n",
       "\n",
       "                                  terminal_id   mcc  \\\n",
       "57   e13884801c21bdd62ec3ce85cab03f8b45a41ea1  5399   \n",
       "73   a14f2bc450bd3e5d116ebf93785e8b1d45a5eee4  8641   \n",
       "85   f2924025f3527aadd3db16463a54eb3e9603e59e  7298   \n",
       "268  9a664dfa0f1e64b81c8cfb23c4a331a2b9694f24  7273   \n",
       "314  e13884801c21bdd62ec3ce85cab03f8b45a41ea1  5399   \n",
       "\n",
       "                                   project_id       card_masked country  \\\n",
       "57   224f3d3120309f994e744af6ed64dddc18a82888  535876******5100     ESP   \n",
       "73   f161302002d4d92168c951d25b8e2598f64e5ee1  431940******7605     IRL   \n",
       "85   b3cf5250cf7e57b079d691c9b7572e38e63c7987  402360******6448     ITA   \n",
       "268  039f62b24257c47697c4888592671f86d79b930c  436618******9879     USA   \n",
       "314  224f3d3120309f994e744af6ed64dddc18a82888  406439******3072     MKD   \n",
       "\n",
       "                               bank_name   card_type      date_hour  \\\n",
       "57                             undefined  MasterCard  2020-01-01 00   \n",
       "73            ROYAL BANK OF SCOTLAND PLC   VISA card  2020-01-01 00   \n",
       "85   POSTE ITALIANE S.P.A. (BANCO POSTA)   VISA card  2020-01-01 00   \n",
       "268                      U.S. BANK, N.A.   VISA card  2020-01-01 00   \n",
       "314          STOPANSKA BANKA A.D. SKOPJE   VISA card  2020-01-01 00   \n",
       "\n",
       "      date_only  \n",
       "57   2020-01-01  \n",
       "73   2020-01-01  \n",
       "85   2020-01-01  \n",
       "268  2020-01-01  \n",
       "314  2020-01-01  "
      ]
     },
     "execution_count": 16,
     "metadata": {},
     "output_type": "execute_result"
    }
   ],
   "source": [
    "dt.head()"
   ]
  },
  {
   "cell_type": "code",
   "execution_count": 375,
   "metadata": {},
   "outputs": [],
   "source": [
    "def calculate_anomay(dt_sub, date_test='2020-03-19 00', periods = 7*24, data_agg='date_hour'):\n",
    "    \n",
    "    dt_agg = dt_sub.groupby(data_agg).agg({'amount': ['sum','count']})\n",
    "\n",
    "    dt_agg.reset_index(inplace=True)\n",
    "    dt_agg.columns = ['ds', 'y', 'n']\n",
    "\n",
    "    mask = dt_agg.ds >= date_test\n",
    "\n",
    "    dt_agg_test = dt_agg[mask].copy()\n",
    "    dt_agg = dt_agg[~mask].copy()\n",
    "\n",
    "    model = NeuralProphet(\n",
    "    #     n_changepoints=200,\n",
    "        changepoints_range=0.90,    \n",
    "    )\n",
    "\n",
    "    col_names = ['ds','y']\n",
    "    metrics = model.fit(dt_agg[col_names], freq=\"H\", validate_each_epoch=True, valid_p=0.2) \n",
    "    future = model.make_future_dataframe(dt_agg[col_names], periods=periods, n_historic_predictions=dt_agg.shape[0])\n",
    "\n",
    "    forecast = model.predict(future)\n",
    "    dt_agg_test['ds'] = pd.to_datetime(dt_agg_test['ds'] )\n",
    "        \n",
    "    forecast.rename(columns={\"y\": \"y1\"}, inplace=True)\n",
    "    forecast = pd.merge(forecast, dt_agg_test, how='left', left_on='ds', right_on='ds')\n",
    "    \n",
    "    forecast.y1 = np.where(forecast.y1.isnull(), forecast.y, forecast.y1 )\n",
    "    forecast.y1.fillna(0, inplace=True)\n",
    "    \n",
    "    y_std = forecast.y.std()\n",
    "    mask = (forecast.y1 - forecast.yhat1 > 1.5* y_std ) | ( forecast.y1 - forecast.yhat1 < -y_std* 1.2 ) \n",
    "    \n",
    "    forecast['anomaly_point'] = np.where(mask, forecast.y1, np.NAN)    \n",
    "    forecast['std_deviation'] = np.where(mask,(forecast.y1 - forecast.yhat1)/y_std  , np.NAN)\n",
    "    \n",
    "    return forecast\n"
   ]
  },
  {
   "cell_type": "code",
   "execution_count": 421,
   "metadata": {},
   "outputs": [],
   "source": [
    "dt.country.fillna('undefined', inplace=True)"
   ]
  },
  {
   "cell_type": "code",
   "execution_count": 477,
   "metadata": {},
   "outputs": [],
   "source": [
    "# amomaly_day = '2020-02-02 00'# '2020-03-19 00'\n",
    "start_test = '2020-02-02 00'# '2020-03-19 00'"
   ]
  },
  {
   "cell_type": "code",
   "execution_count": 500,
   "metadata": {},
   "outputs": [
    {
     "name": "stderr",
     "output_type": "stream",
     "text": [
      "WARNING: nprophet - fit: Parts of code may break if using other than daily data.\n",
      "/home/sergey/anaconda3/lib/python3.7/site-packages/pandas/core/indexing.py:1676: SettingWithCopyWarning: \n",
      "A value is trying to be set on a copy of a slice from a DataFrame.\n",
      "Try using .loc[row_indexer,col_indexer] = value instead\n",
      "\n",
      "See the caveats in the documentation: https://pandas.pydata.org/pandas-docs/stable/user_guide/indexing.html#returning-a-view-versus-a-copy\n",
      "  self._setitem_single_column(ilocs[0], value, pi)\n",
      "INFO: nprophet.utils - set_auto_seasonalities: Disabling yearly seasonality. Run NeuralProphet with yearly_seasonality=True to override this.\n",
      "INFO: nprophet.config - set_auto_batch_epoch: Auto-set batch_size to 8\n",
      "INFO: nprophet.config - set_auto_batch_epoch: Auto-set epochs to 52\n"
     ]
    },
    {
     "data": {
      "application/vnd.jupyter.widget-view+json": {
       "model_id": "85c365f6f6264062ad40f7d937da0d80",
       "version_major": 2,
       "version_minor": 0
      },
      "text/plain": [
       "  0%|          | 0/100 [00:00<?, ?it/s]"
      ]
     },
     "metadata": {},
     "output_type": "display_data"
    },
    {
     "name": "stderr",
     "output_type": "stream",
     "text": [
      "INFO: nprophet - _lr_range_test: learning rate range test found optimal lr: 5.34E-01\n",
      "Epoch[52/52]: 100%|██████████| 52/52 [00:03<00:00, 14.61it/s, SmoothL1Loss=0.0174, MAE=2.4e+3, RegLoss=0, MAE_val=3.49e+3, SmoothL1Loss_val=0.044]  \n"
     ]
    }
   ],
   "source": [
    "forecast = calculate_anomay(dt,date_test=start_test)"
   ]
  },
  {
   "cell_type": "code",
   "execution_count": 479,
   "metadata": {},
   "outputs": [
    {
     "data": {
      "text/html": [
       "<div>\n",
       "<style scoped>\n",
       "    .dataframe tbody tr th:only-of-type {\n",
       "        vertical-align: middle;\n",
       "    }\n",
       "\n",
       "    .dataframe tbody tr th {\n",
       "        vertical-align: top;\n",
       "    }\n",
       "\n",
       "    .dataframe thead th {\n",
       "        text-align: right;\n",
       "    }\n",
       "</style>\n",
       "<table border=\"1\" class=\"dataframe\">\n",
       "  <thead>\n",
       "    <tr style=\"text-align: right;\">\n",
       "      <th></th>\n",
       "      <th>ds</th>\n",
       "      <th>y1</th>\n",
       "      <th>yhat1</th>\n",
       "      <th>residual1</th>\n",
       "      <th>trend</th>\n",
       "      <th>season_weekly</th>\n",
       "      <th>season_daily</th>\n",
       "      <th>y</th>\n",
       "      <th>n</th>\n",
       "      <th>anomaly_point</th>\n",
       "      <th>std_deviation</th>\n",
       "    </tr>\n",
       "  </thead>\n",
       "  <tbody>\n",
       "    <tr>\n",
       "      <th>931</th>\n",
       "      <td>2020-02-08 19:00:00</td>\n",
       "      <td>18411.47</td>\n",
       "      <td>9120.552734</td>\n",
       "      <td>NaN</td>\n",
       "      <td>7913.966797</td>\n",
       "      <td>-2227.270264</td>\n",
       "      <td>3433.856445</td>\n",
       "      <td>18411.47</td>\n",
       "      <td>206.0</td>\n",
       "      <td>NaN</td>\n",
       "      <td>NaN</td>\n",
       "    </tr>\n",
       "    <tr>\n",
       "      <th>932</th>\n",
       "      <td>2020-02-08 20:00:00</td>\n",
       "      <td>10106.84</td>\n",
       "      <td>8095.735352</td>\n",
       "      <td>NaN</td>\n",
       "      <td>7911.233398</td>\n",
       "      <td>-2253.366211</td>\n",
       "      <td>2437.867432</td>\n",
       "      <td>10106.84</td>\n",
       "      <td>179.0</td>\n",
       "      <td>NaN</td>\n",
       "      <td>NaN</td>\n",
       "    </tr>\n",
       "    <tr>\n",
       "      <th>933</th>\n",
       "      <td>2020-02-08 21:00:00</td>\n",
       "      <td>16245.45</td>\n",
       "      <td>7871.137695</td>\n",
       "      <td>NaN</td>\n",
       "      <td>7908.500977</td>\n",
       "      <td>-2267.064209</td>\n",
       "      <td>2229.701172</td>\n",
       "      <td>16245.45</td>\n",
       "      <td>203.0</td>\n",
       "      <td>NaN</td>\n",
       "      <td>NaN</td>\n",
       "    </tr>\n",
       "    <tr>\n",
       "      <th>934</th>\n",
       "      <td>2020-02-08 22:00:00</td>\n",
       "      <td>15074.98</td>\n",
       "      <td>7516.198242</td>\n",
       "      <td>NaN</td>\n",
       "      <td>7905.767578</td>\n",
       "      <td>-2268.506592</td>\n",
       "      <td>1878.937012</td>\n",
       "      <td>15074.98</td>\n",
       "      <td>171.0</td>\n",
       "      <td>NaN</td>\n",
       "      <td>NaN</td>\n",
       "    </tr>\n",
       "    <tr>\n",
       "      <th>935</th>\n",
       "      <td>2020-02-08 23:00:00</td>\n",
       "      <td>7357.72</td>\n",
       "      <td>5453.574707</td>\n",
       "      <td>NaN</td>\n",
       "      <td>7903.034180</td>\n",
       "      <td>-2257.944336</td>\n",
       "      <td>-191.515564</td>\n",
       "      <td>7357.72</td>\n",
       "      <td>154.0</td>\n",
       "      <td>NaN</td>\n",
       "      <td>NaN</td>\n",
       "    </tr>\n",
       "  </tbody>\n",
       "</table>\n",
       "</div>"
      ],
      "text/plain": [
       "                     ds        y1        yhat1  residual1        trend  \\\n",
       "931 2020-02-08 19:00:00  18411.47  9120.552734        NaN  7913.966797   \n",
       "932 2020-02-08 20:00:00  10106.84  8095.735352        NaN  7911.233398   \n",
       "933 2020-02-08 21:00:00  16245.45  7871.137695        NaN  7908.500977   \n",
       "934 2020-02-08 22:00:00  15074.98  7516.198242        NaN  7905.767578   \n",
       "935 2020-02-08 23:00:00   7357.72  5453.574707        NaN  7903.034180   \n",
       "\n",
       "     season_weekly  season_daily         y      n  anomaly_point  \\\n",
       "931   -2227.270264   3433.856445  18411.47  206.0            NaN   \n",
       "932   -2253.366211   2437.867432  10106.84  179.0            NaN   \n",
       "933   -2267.064209   2229.701172  16245.45  203.0            NaN   \n",
       "934   -2268.506592   1878.937012  15074.98  171.0            NaN   \n",
       "935   -2257.944336   -191.515564   7357.72  154.0            NaN   \n",
       "\n",
       "     std_deviation  \n",
       "931            NaN  \n",
       "932            NaN  \n",
       "933            NaN  \n",
       "934            NaN  \n",
       "935            NaN  "
      ]
     },
     "execution_count": 479,
     "metadata": {},
     "output_type": "execute_result"
    }
   ],
   "source": [
    "forecast.tail()"
   ]
  },
  {
   "cell_type": "code",
   "execution_count": 379,
   "metadata": {},
   "outputs": [
    {
     "data": {
      "image/png": "[encoded data removed]",
      "text/plain": [
       "<Figure size 2400x500 with 1 Axes>"
      ]
     },
     "metadata": {
      "needs_background": "light"
     },
     "output_type": "display_data"
    }
   ],
   "source": [
    "plot_points(forecast,date_test=start_test)"
   ]
  },
  {
   "cell_type": "code",
   "execution_count": 509,
   "metadata": {},
   "outputs": [
    {
     "name": "stderr",
     "output_type": "stream",
     "text": [
      "WARNING: nprophet - fit: Parts of code may break if using other than daily data.\n",
      "/home/sergey/anaconda3/lib/python3.7/site-packages/pandas/core/indexing.py:1676: SettingWithCopyWarning: \n",
      "A value is trying to be set on a copy of a slice from a DataFrame.\n",
      "Try using .loc[row_indexer,col_indexer] = value instead\n",
      "\n",
      "See the caveats in the documentation: https://pandas.pydata.org/pandas-docs/stable/user_guide/indexing.html#returning-a-view-versus-a-copy\n",
      "  self._setitem_single_column(ilocs[0], value, pi)\n",
      "INFO: nprophet.utils - set_auto_seasonalities: Disabling yearly seasonality. Run NeuralProphet with yearly_seasonality=True to override this.\n",
      "INFO: nprophet.config - set_auto_batch_epoch: Auto-set batch_size to 8\n",
      "INFO: nprophet.config - set_auto_batch_epoch: Auto-set epochs to 52\n"
     ]
    },
    {
     "data": {
      "application/vnd.jupyter.widget-view+json": {
       "model_id": "afe8df6934f84604a1ae75621348a3c2",
       "version_major": 2,
       "version_minor": 0
      },
      "text/plain": [
       "  0%|          | 0/100 [00:00<?, ?it/s]"
      ]
     },
     "metadata": {},
     "output_type": "display_data"
    },
    {
     "name": "stderr",
     "output_type": "stream",
     "text": [
      "INFO: nprophet - _lr_range_test: learning rate range test found optimal lr: 6.58E-01\n",
      "Epoch[52/52]: 100%|██████████| 52/52 [00:03<00:00, 14.79it/s, SmoothL1Loss=0.0174, MAE=2.4e+3, RegLoss=0, MAE_val=3.54e+3, SmoothL1Loss_val=0.0446] \n"
     ]
    }
   ],
   "source": [
    "forecast = calculate_anomay(dt,date_test=start_test)"
   ]
  },
  {
   "cell_type": "code",
   "execution_count": 510,
   "metadata": {},
   "outputs": [],
   "source": [
    "\n",
    "mask = (forecast.ds > amomaly_day) & (forecast.anomaly_point.notnull() )\n",
    "forecast_anomaly = forecast[mask].copy()\n",
    "\n",
    "data_agg = 'date_hour'\n",
    "forecast_anomaly[data_agg] = forecast_anomaly.ds.dt.strftime('%Y-%m-%d %H')\n",
    "\n",
    "mask = dt[data_agg].isin(forecast_anomaly[data_agg])\n",
    "dt_anomaly = dt[mask]"
   ]
  },
  {
   "cell_type": "code",
   "execution_count": 514,
   "metadata": {},
   "outputs": [
    {
     "data": {
      "text/html": [
       "<div>\n",
       "<style scoped>\n",
       "    .dataframe tbody tr th:only-of-type {\n",
       "        vertical-align: middle;\n",
       "    }\n",
       "\n",
       "    .dataframe tbody tr th {\n",
       "        vertical-align: top;\n",
       "    }\n",
       "\n",
       "    .dataframe thead th {\n",
       "        text-align: right;\n",
       "    }\n",
       "</style>\n",
       "<table border=\"1\" class=\"dataframe\">\n",
       "  <thead>\n",
       "    <tr style=\"text-align: right;\">\n",
       "      <th></th>\n",
       "      <th>ds</th>\n",
       "      <th>y1</th>\n",
       "      <th>yhat1</th>\n",
       "      <th>residual1</th>\n",
       "      <th>trend</th>\n",
       "      <th>season_weekly</th>\n",
       "      <th>season_daily</th>\n",
       "      <th>y</th>\n",
       "      <th>n</th>\n",
       "      <th>anomaly_point</th>\n",
       "      <th>std_deviation</th>\n",
       "    </tr>\n",
       "  </thead>\n",
       "  <tbody>\n",
       "    <tr>\n",
       "      <th>0</th>\n",
       "      <td>2020-01-01 00:00:00</td>\n",
       "      <td>2056.58</td>\n",
       "      <td>4230.770508</td>\n",
       "      <td>2174.190508</td>\n",
       "      <td>6529.264648</td>\n",
       "      <td>672.855408</td>\n",
       "      <td>-2971.349365</td>\n",
       "      <td>NaN</td>\n",
       "      <td>NaN</td>\n",
       "      <td>NaN</td>\n",
       "      <td>NaN</td>\n",
       "    </tr>\n",
       "    <tr>\n",
       "      <th>1</th>\n",
       "      <td>2020-01-01 01:00:00</td>\n",
       "      <td>1720.84</td>\n",
       "      <td>2821.623535</td>\n",
       "      <td>1100.783535</td>\n",
       "      <td>6552.236328</td>\n",
       "      <td>663.593872</td>\n",
       "      <td>-4394.206543</td>\n",
       "      <td>NaN</td>\n",
       "      <td>NaN</td>\n",
       "      <td>NaN</td>\n",
       "      <td>NaN</td>\n",
       "    </tr>\n",
       "    <tr>\n",
       "      <th>2</th>\n",
       "      <td>2020-01-01 02:00:00</td>\n",
       "      <td>2416.03</td>\n",
       "      <td>2953.421875</td>\n",
       "      <td>537.391875</td>\n",
       "      <td>6575.208008</td>\n",
       "      <td>650.739929</td>\n",
       "      <td>-4272.526855</td>\n",
       "      <td>NaN</td>\n",
       "      <td>NaN</td>\n",
       "      <td>NaN</td>\n",
       "      <td>NaN</td>\n",
       "    </tr>\n",
       "    <tr>\n",
       "      <th>3</th>\n",
       "      <td>2020-01-01 03:00:00</td>\n",
       "      <td>45646.65</td>\n",
       "      <td>2488.913086</td>\n",
       "      <td>-43157.736914</td>\n",
       "      <td>6598.179688</td>\n",
       "      <td>634.325195</td>\n",
       "      <td>-4743.592285</td>\n",
       "      <td>NaN</td>\n",
       "      <td>NaN</td>\n",
       "      <td>45646.65</td>\n",
       "      <td>4.910534</td>\n",
       "    </tr>\n",
       "    <tr>\n",
       "      <th>4</th>\n",
       "      <td>2020-01-01 04:00:00</td>\n",
       "      <td>2903.49</td>\n",
       "      <td>1064.722900</td>\n",
       "      <td>-1838.767100</td>\n",
       "      <td>6621.152344</td>\n",
       "      <td>614.435730</td>\n",
       "      <td>-6170.865234</td>\n",
       "      <td>NaN</td>\n",
       "      <td>NaN</td>\n",
       "      <td>NaN</td>\n",
       "      <td>NaN</td>\n",
       "    </tr>\n",
       "  </tbody>\n",
       "</table>\n",
       "</div>"
      ],
      "text/plain": [
       "                   ds        y1        yhat1     residual1        trend  \\\n",
       "0 2020-01-01 00:00:00   2056.58  4230.770508   2174.190508  6529.264648   \n",
       "1 2020-01-01 01:00:00   1720.84  2821.623535   1100.783535  6552.236328   \n",
       "2 2020-01-01 02:00:00   2416.03  2953.421875    537.391875  6575.208008   \n",
       "3 2020-01-01 03:00:00  45646.65  2488.913086 -43157.736914  6598.179688   \n",
       "4 2020-01-01 04:00:00   2903.49  1064.722900  -1838.767100  6621.152344   \n",
       "\n",
       "   season_weekly  season_daily   y   n  anomaly_point  std_deviation  \n",
       "0     672.855408  -2971.349365 NaN NaN            NaN            NaN  \n",
       "1     663.593872  -4394.206543 NaN NaN            NaN            NaN  \n",
       "2     650.739929  -4272.526855 NaN NaN            NaN            NaN  \n",
       "3     634.325195  -4743.592285 NaN NaN       45646.65       4.910534  \n",
       "4     614.435730  -6170.865234 NaN NaN            NaN            NaN  "
      ]
     },
     "execution_count": 514,
     "metadata": {},
     "output_type": "execute_result"
    }
   ],
   "source": [
    "forecast.head()"
   ]
  },
  {
   "cell_type": "code",
   "execution_count": null,
   "metadata": {},
   "outputs": [],
   "source": []
  },
  {
   "cell_type": "code",
   "execution_count": 515,
   "metadata": {},
   "outputs": [
    {
     "name": "stderr",
     "output_type": "stream",
     "text": [
      "WARNING: nprophet - fit: Parts of code may break if using other than daily data.\n",
      "/home/sergey/anaconda3/lib/python3.7/site-packages/pandas/core/indexing.py:1676: SettingWithCopyWarning: \n",
      "A value is trying to be set on a copy of a slice from a DataFrame.\n",
      "Try using .loc[row_indexer,col_indexer] = value instead\n",
      "\n",
      "See the caveats in the documentation: https://pandas.pydata.org/pandas-docs/stable/user_guide/indexing.html#returning-a-view-versus-a-copy\n",
      "  self._setitem_single_column(ilocs[0], value, pi)\n",
      "INFO: nprophet.utils - set_auto_seasonalities: Disabling yearly seasonality. Run NeuralProphet with yearly_seasonality=True to override this.\n",
      "INFO: nprophet.config - set_auto_batch_epoch: Auto-set batch_size to 8\n",
      "INFO: nprophet.config - set_auto_batch_epoch: Auto-set epochs to 52\n"
     ]
    },
    {
     "data": {
      "application/vnd.jupyter.widget-view+json": {
       "model_id": "a7b57f0a5557452f9efddfbee8b34b05",
       "version_major": 2,
       "version_minor": 0
      },
      "text/plain": [
       "  0%|          | 0/100 [00:00<?, ?it/s]"
      ]
     },
     "metadata": {},
     "output_type": "display_data"
    },
    {
     "name": "stderr",
     "output_type": "stream",
     "text": [
      "INFO: nprophet - _lr_range_test: learning rate range test found optimal lr: 3.51E-01\n",
      "Epoch[1/52]:   0%|          | 0/52 [00:00<?, ?it/s, SmoothL1Loss=0.756, MAE=2.25e+3, RegLoss=0, MAE_val=2.67e+3, SmoothL1Loss_val=0.904]"
     ]
    },
    {
     "name": "stdout",
     "output_type": "stream",
     "text": [
      "id= 224f3d3120309f994e744af6ed64dddc18a82888\n"
     ]
    },
    {
     "name": "stderr",
     "output_type": "stream",
     "text": [
      "Epoch[52/52]: 100%|██████████| 52/52 [00:03<00:00, 14.83it/s, SmoothL1Loss=0.00756, MAE=182, RegLoss=0, MAE_val=185, SmoothL1Loss_val=0.00682]    \n",
      "WARNING: nprophet - fit: Parts of code may break if using other than daily data.\n",
      "/home/sergey/anaconda3/lib/python3.7/site-packages/pandas/core/indexing.py:1676: SettingWithCopyWarning: \n",
      "A value is trying to be set on a copy of a slice from a DataFrame.\n",
      "Try using .loc[row_indexer,col_indexer] = value instead\n",
      "\n",
      "See the caveats in the documentation: https://pandas.pydata.org/pandas-docs/stable/user_guide/indexing.html#returning-a-view-versus-a-copy\n",
      "  self._setitem_single_column(ilocs[0], value, pi)\n",
      "INFO: nprophet.utils - set_auto_seasonalities: Disabling yearly seasonality. Run NeuralProphet with yearly_seasonality=True to override this.\n",
      "INFO: nprophet.config - set_auto_batch_epoch: Auto-set batch_size to 8\n",
      "INFO: nprophet.config - set_auto_batch_epoch: Auto-set epochs to 114\n"
     ]
    },
    {
     "data": {
      "application/vnd.jupyter.widget-view+json": {
       "model_id": "a9bb2f88fed64783ac1993b92b004f0b",
       "version_major": 2,
       "version_minor": 0
      },
      "text/plain": [
       "  0%|          | 0/100 [00:00<?, ?it/s]"
      ]
     },
     "metadata": {},
     "output_type": "display_data"
    },
    {
     "name": "stderr",
     "output_type": "stream",
     "text": [
      "INFO: nprophet - _lr_range_test: learning rate range test found optimal lr: 2.85E-01\n",
      "Epoch[2/114]:   0%|          | 0/114 [00:00<?, ?it/s, SmoothL1Loss=0.219, MAE=1.35e+3, RegLoss=0, MAE_val=1.96e+3, SmoothL1Loss_val=0.355]"
     ]
    },
    {
     "name": "stdout",
     "output_type": "stream",
     "text": [
      "id= 1c7b5bb4b349fc11ee42503d4e53338dce7d8482\n",
      "id= fe79f81d11c5d1cb31dd5507154f1e69c779d560\n"
     ]
    },
    {
     "name": "stderr",
     "output_type": "stream",
     "text": [
      "Epoch[114/114]: 100%|██████████| 114/114 [00:03<00:00, 30.92it/s, SmoothL1Loss=0.0592, MAE=612, RegLoss=0, MAE_val=777, SmoothL1Loss_val=0.102]     \n",
      "WARNING: nprophet - fit: Parts of code may break if using other than daily data.\n",
      "/home/sergey/anaconda3/lib/python3.7/site-packages/pandas/core/indexing.py:1676: SettingWithCopyWarning: \n",
      "A value is trying to be set on a copy of a slice from a DataFrame.\n",
      "Try using .loc[row_indexer,col_indexer] = value instead\n",
      "\n",
      "See the caveats in the documentation: https://pandas.pydata.org/pandas-docs/stable/user_guide/indexing.html#returning-a-view-versus-a-copy\n",
      "  self._setitem_single_column(ilocs[0], value, pi)\n",
      "INFO: nprophet.utils - set_auto_seasonalities: Disabling yearly seasonality. Run NeuralProphet with yearly_seasonality=True to override this.\n",
      "INFO: nprophet.config - set_auto_batch_epoch: Auto-set batch_size to 8\n",
      "INFO: nprophet.config - set_auto_batch_epoch: Auto-set epochs to 52\n"
     ]
    },
    {
     "data": {
      "application/vnd.jupyter.widget-view+json": {
       "model_id": "bb7d3c49211240ef82776d58652d3399",
       "version_major": 2,
       "version_minor": 0
      },
      "text/plain": [
       "  0%|          | 0/100 [00:00<?, ?it/s]"
      ]
     },
     "metadata": {},
     "output_type": "display_data"
    },
    {
     "name": "stderr",
     "output_type": "stream",
     "text": [
      "INFO: nprophet - _lr_range_test: learning rate range test found optimal lr: 3.51E-02\n",
      "Epoch[1/52]:   0%|          | 0/52 [00:00<?, ?it/s, SmoothL1Loss=1.08, MAE=5.81e+3, RegLoss=0, MAE_val=4.74e+3, SmoothL1Loss_val=0.811]"
     ]
    },
    {
     "name": "stdout",
     "output_type": "stream",
     "text": [
      "id= 3e1c59c70af87dc024c29c35e42b5320a5a4cc93\n"
     ]
    },
    {
     "name": "stderr",
     "output_type": "stream",
     "text": [
      "Epoch[52/52]: 100%|██████████| 52/52 [00:03<00:00, 14.75it/s, SmoothL1Loss=0.0167, MAE=528, RegLoss=0, MAE_val=529, SmoothL1Loss_val=0.0176]     \n",
      "WARNING: nprophet - fit: Parts of code may break if using other than daily data.\n",
      "/home/sergey/anaconda3/lib/python3.7/site-packages/pandas/core/indexing.py:1676: SettingWithCopyWarning: \n",
      "A value is trying to be set on a copy of a slice from a DataFrame.\n",
      "Try using .loc[row_indexer,col_indexer] = value instead\n",
      "\n",
      "See the caveats in the documentation: https://pandas.pydata.org/pandas-docs/stable/user_guide/indexing.html#returning-a-view-versus-a-copy\n",
      "  self._setitem_single_column(ilocs[0], value, pi)\n",
      "INFO: nprophet.utils - set_auto_seasonalities: Disabling yearly seasonality. Run NeuralProphet with yearly_seasonality=True to override this.\n",
      "INFO: nprophet.config - set_auto_batch_epoch: Auto-set batch_size to 8\n",
      "INFO: nprophet.config - set_auto_batch_epoch: Auto-set epochs to 88\n"
     ]
    },
    {
     "data": {
      "application/vnd.jupyter.widget-view+json": {
       "model_id": "bc95e3e5c18f4f799d2464f43f343489",
       "version_major": 2,
       "version_minor": 0
      },
      "text/plain": [
       "  0%|          | 0/100 [00:00<?, ?it/s]"
      ]
     },
     "metadata": {},
     "output_type": "display_data"
    },
    {
     "name": "stderr",
     "output_type": "stream",
     "text": [
      "INFO: nprophet - _lr_range_test: learning rate range test found optimal lr: 4.33E-01\n",
      "Epoch[2/88]:   0%|          | 0/88 [00:00<?, ?it/s, SmoothL1Loss=0.304, MAE=207, RegLoss=0, MAE_val=148, SmoothL1Loss_val=0.19]"
     ]
    },
    {
     "name": "stdout",
     "output_type": "stream",
     "text": [
      "id= 6be658d520acce55bdba93ccdb86dfe8e5c65a84\n"
     ]
    },
    {
     "name": "stderr",
     "output_type": "stream",
     "text": [
      "Epoch[88/88]: 100%|██████████| 88/88 [00:03<00:00, 24.16it/s, SmoothL1Loss=0.171, MAE=126, RegLoss=0, MAE_val=139, SmoothL1Loss_val=0.167]\n",
      "WARNING: nprophet - fit: Parts of code may break if using other than daily data.\n",
      "/home/sergey/anaconda3/lib/python3.7/site-packages/pandas/core/indexing.py:1676: SettingWithCopyWarning: \n",
      "A value is trying to be set on a copy of a slice from a DataFrame.\n",
      "Try using .loc[row_indexer,col_indexer] = value instead\n",
      "\n",
      "See the caveats in the documentation: https://pandas.pydata.org/pandas-docs/stable/user_guide/indexing.html#returning-a-view-versus-a-copy\n",
      "  self._setitem_single_column(ilocs[0], value, pi)\n",
      "INFO: nprophet.utils - set_auto_seasonalities: Disabling yearly seasonality. Run NeuralProphet with yearly_seasonality=True to override this.\n",
      "INFO: nprophet.config - set_auto_batch_epoch: Auto-set batch_size to 8\n",
      "INFO: nprophet.config - set_auto_batch_epoch: Auto-set epochs to 99\n"
     ]
    },
    {
     "data": {
      "application/vnd.jupyter.widget-view+json": {
       "model_id": "8267d40aa6744d308f6b40cbd48aada5",
       "version_major": 2,
       "version_minor": 0
      },
      "text/plain": [
       "  0%|          | 0/100 [00:00<?, ?it/s]"
      ]
     },
     "metadata": {},
     "output_type": "display_data"
    },
    {
     "name": "stderr",
     "output_type": "stream",
     "text": [
      "INFO: nprophet - _lr_range_test: learning rate range test found optimal lr: 3.51E-01\n",
      "Epoch[2/99]:   0%|          | 0/99 [00:00<?, ?it/s, SmoothL1Loss=0.0907, MAE=115, RegLoss=0, MAE_val=95.4, SmoothL1Loss_val=0.0537]"
     ]
    },
    {
     "name": "stdout",
     "output_type": "stream",
     "text": [
      "id= 039f62b24257c47697c4888592671f86d79b930c\n"
     ]
    },
    {
     "name": "stderr",
     "output_type": "stream",
     "text": [
      "Epoch[99/99]: 100%|██████████| 99/99 [00:03<00:00, 26.56it/s, SmoothL1Loss=0.0486, MAE=82.4, RegLoss=0, MAE_val=83.6, SmoothL1Loss_val=0.0446]\n",
      "WARNING: nprophet - fit: Parts of code may break if using other than daily data.\n",
      "/home/sergey/anaconda3/lib/python3.7/site-packages/pandas/core/indexing.py:1676: SettingWithCopyWarning: \n",
      "A value is trying to be set on a copy of a slice from a DataFrame.\n",
      "Try using .loc[row_indexer,col_indexer] = value instead\n",
      "\n",
      "See the caveats in the documentation: https://pandas.pydata.org/pandas-docs/stable/user_guide/indexing.html#returning-a-view-versus-a-copy\n",
      "  self._setitem_single_column(ilocs[0], value, pi)\n",
      "INFO: nprophet.utils - set_auto_seasonalities: Disabling yearly seasonality. Run NeuralProphet with yearly_seasonality=True to override this.\n",
      "INFO: nprophet.utils - set_auto_seasonalities: Disabling weekly seasonality. Run NeuralProphet with weekly_seasonality=True to override this.\n",
      "INFO: nprophet.config - set_auto_batch_epoch: Auto-set batch_size to 2\n",
      "INFO: nprophet.config - set_auto_batch_epoch: Auto-set epochs to 188\n"
     ]
    },
    {
     "data": {
      "application/vnd.jupyter.widget-view+json": {
       "model_id": "8b2fc4ebac674858913cd0589fb58821",
       "version_major": 2,
       "version_minor": 0
      },
      "text/plain": [
       "  0%|          | 0/100 [00:00<?, ?it/s]"
      ]
     },
     "metadata": {},
     "output_type": "display_data"
    },
    {
     "name": "stderr",
     "output_type": "stream",
     "text": [
      "INFO: nprophet - _lr_range_test: learning rate range test found optimal lr: 1.00E-05\n",
      "Epoch[3/188]:   0%|          | 0/188 [00:00<?, ?it/s, SmoothL1Loss=0.52, MAE=922, RegLoss=0, MAE_val=937, SmoothL1Loss_val=0.544]"
     ]
    },
    {
     "name": "stdout",
     "output_type": "stream",
     "text": [
      "id= ccc9614c2213e29bedf167057785feb4417dd8c8\n"
     ]
    },
    {
     "name": "stderr",
     "output_type": "stream",
     "text": [
      "Epoch[188/188]: 100%|██████████| 188/188 [00:06<00:00, 31.25it/s, SmoothL1Loss=0.479, MAE=878, RegLoss=0, MAE_val=888, SmoothL1Loss_val=0.496]\n",
      "WARNING: nprophet - fit: Parts of code may break if using other than daily data.\n",
      "/home/sergey/anaconda3/lib/python3.7/site-packages/pandas/core/indexing.py:1676: SettingWithCopyWarning: \n",
      "A value is trying to be set on a copy of a slice from a DataFrame.\n",
      "Try using .loc[row_indexer,col_indexer] = value instead\n",
      "\n",
      "See the caveats in the documentation: https://pandas.pydata.org/pandas-docs/stable/user_guide/indexing.html#returning-a-view-versus-a-copy\n",
      "  self._setitem_single_column(ilocs[0], value, pi)\n",
      "INFO: nprophet.utils - set_auto_seasonalities: Disabling yearly seasonality. Run NeuralProphet with yearly_seasonality=True to override this.\n",
      "INFO: nprophet.config - set_auto_batch_epoch: Auto-set batch_size to 8\n",
      "INFO: nprophet.config - set_auto_batch_epoch: Auto-set epochs to 68\n"
     ]
    },
    {
     "data": {
      "application/vnd.jupyter.widget-view+json": {
       "model_id": "78b2bd9f0d6549fc8931e829671239c7",
       "version_major": 2,
       "version_minor": 0
      },
      "text/plain": [
       "  0%|          | 0/100 [00:00<?, ?it/s]"
      ]
     },
     "metadata": {},
     "output_type": "display_data"
    },
    {
     "name": "stderr",
     "output_type": "stream",
     "text": [
      "INFO: nprophet - _lr_range_test: learning rate range test found optimal lr: 4.33E-01\n",
      "Epoch[1/68]:   0%|          | 0/68 [00:00<?, ?it/s, SmoothL1Loss=0.474, MAE=570, RegLoss=0, MAE_val=391, SmoothL1Loss_val=0.248]"
     ]
    },
    {
     "name": "stdout",
     "output_type": "stream",
     "text": [
      "id= 454fe97686ecc4a7c524e633219d5606570acb03\n"
     ]
    },
    {
     "name": "stderr",
     "output_type": "stream",
     "text": [
      "Epoch[68/68]: 100%|██████████| 68/68 [00:03<00:00, 18.95it/s, SmoothL1Loss=0.0452, MAE=131, RegLoss=0, MAE_val=162, SmoothL1Loss_val=0.0701] \n",
      "WARNING: nprophet - fit: Parts of code may break if using other than daily data.\n",
      "/home/sergey/anaconda3/lib/python3.7/site-packages/pandas/core/indexing.py:1676: SettingWithCopyWarning: \n",
      "A value is trying to be set on a copy of a slice from a DataFrame.\n",
      "Try using .loc[row_indexer,col_indexer] = value instead\n",
      "\n",
      "See the caveats in the documentation: https://pandas.pydata.org/pandas-docs/stable/user_guide/indexing.html#returning-a-view-versus-a-copy\n",
      "  self._setitem_single_column(ilocs[0], value, pi)\n",
      "INFO: nprophet.utils - set_auto_seasonalities: Disabling yearly seasonality. Run NeuralProphet with yearly_seasonality=True to override this.\n",
      "INFO: nprophet.config - set_auto_batch_epoch: Auto-set batch_size to 8\n",
      "INFO: nprophet.config - set_auto_batch_epoch: Auto-set epochs to 57\n"
     ]
    },
    {
     "data": {
      "application/vnd.jupyter.widget-view+json": {
       "model_id": "9cd5ad359d1148e8a0321eb7544c0c03",
       "version_major": 2,
       "version_minor": 0
      },
      "text/plain": [
       "  0%|          | 0/100 [00:00<?, ?it/s]"
      ]
     },
     "metadata": {},
     "output_type": "display_data"
    },
    {
     "name": "stderr",
     "output_type": "stream",
     "text": [
      "INFO: nprophet - _lr_range_test: learning rate range test found optimal lr: 4.33E-01\n",
      "Epoch[1/57]:   0%|          | 0/57 [00:00<?, ?it/s, SmoothL1Loss=0.755, MAE=1.02e+3, RegLoss=0, MAE_val=755, SmoothL1Loss_val=0.441]"
     ]
    },
    {
     "name": "stdout",
     "output_type": "stream",
     "text": [
      "id= 9678b87bc4e7cbb263f7c42a7eb8aa88086ad2d1\n"
     ]
    },
    {
     "name": "stderr",
     "output_type": "stream",
     "text": [
      "Epoch[57/57]: 100%|██████████| 57/57 [00:03<00:00, 16.54it/s, SmoothL1Loss=0.04, MAE=175, RegLoss=0, MAE_val=187, SmoothL1Loss_val=0.0449]    \n",
      "WARNING: nprophet - fit: Parts of code may break if using other than daily data.\n",
      "/home/sergey/anaconda3/lib/python3.7/site-packages/pandas/core/indexing.py:1676: SettingWithCopyWarning: \n",
      "A value is trying to be set on a copy of a slice from a DataFrame.\n",
      "Try using .loc[row_indexer,col_indexer] = value instead\n",
      "\n",
      "See the caveats in the documentation: https://pandas.pydata.org/pandas-docs/stable/user_guide/indexing.html#returning-a-view-versus-a-copy\n",
      "  self._setitem_single_column(ilocs[0], value, pi)\n",
      "INFO: nprophet.utils - set_auto_seasonalities: Disabling yearly seasonality. Run NeuralProphet with yearly_seasonality=True to override this.\n",
      "INFO: nprophet.config - set_auto_batch_epoch: Auto-set batch_size to 8\n",
      "INFO: nprophet.config - set_auto_batch_epoch: Auto-set epochs to 55\n"
     ]
    },
    {
     "data": {
      "application/vnd.jupyter.widget-view+json": {
       "model_id": "4d3bbc68843543a6b51e2b5c1305ef22",
       "version_major": 2,
       "version_minor": 0
      },
      "text/plain": [
       "  0%|          | 0/100 [00:00<?, ?it/s]"
      ]
     },
     "metadata": {},
     "output_type": "display_data"
    },
    {
     "name": "stderr",
     "output_type": "stream",
     "text": [
      "INFO: nprophet - _lr_range_test: learning rate range test found optimal lr: 2.85E-01\n",
      "Epoch[1/55]:   0%|          | 0/55 [00:00<?, ?it/s, SmoothL1Loss=0.292, MAE=381, RegLoss=0, MAE_val=138, SmoothL1Loss_val=0.0429]"
     ]
    },
    {
     "name": "stdout",
     "output_type": "stream",
     "text": [
      "id= f161302002d4d92168c951d25b8e2598f64e5ee1\n"
     ]
    },
    {
     "name": "stderr",
     "output_type": "stream",
     "text": [
      "Epoch[55/55]: 100%|██████████| 55/55 [00:03<00:00, 15.25it/s, SmoothL1Loss=0.0372, MAE=127, RegLoss=0, MAE_val=148, SmoothL1Loss_val=0.0479]\n",
      "WARNING: nprophet - fit: Parts of code may break if using other than daily data.\n",
      "/home/sergey/anaconda3/lib/python3.7/site-packages/pandas/core/indexing.py:1676: SettingWithCopyWarning: \n",
      "A value is trying to be set on a copy of a slice from a DataFrame.\n",
      "Try using .loc[row_indexer,col_indexer] = value instead\n",
      "\n",
      "See the caveats in the documentation: https://pandas.pydata.org/pandas-docs/stable/user_guide/indexing.html#returning-a-view-versus-a-copy\n",
      "  self._setitem_single_column(ilocs[0], value, pi)\n",
      "INFO: nprophet.utils - set_auto_seasonalities: Disabling yearly seasonality. Run NeuralProphet with yearly_seasonality=True to override this.\n",
      "INFO: nprophet.config - set_auto_batch_epoch: Auto-set batch_size to 8\n",
      "INFO: nprophet.config - set_auto_batch_epoch: Auto-set epochs to 65\n"
     ]
    },
    {
     "data": {
      "application/vnd.jupyter.widget-view+json": {
       "model_id": "7a95c673200947ebaccab2f0dcca0081",
       "version_major": 2,
       "version_minor": 0
      },
      "text/plain": [
       "  0%|          | 0/100 [00:00<?, ?it/s]"
      ]
     },
     "metadata": {},
     "output_type": "display_data"
    },
    {
     "name": "stderr",
     "output_type": "stream",
     "text": [
      "INFO: nprophet - _lr_range_test: learning rate range test found optimal lr: 3.51E-01\n",
      "Epoch[1/65]:   0%|          | 0/65 [00:00<?, ?it/s, SmoothL1Loss=1.09, MAE=6.54e+3, RegLoss=0, MAE_val=3.19e+3, SmoothL1Loss_val=0.376]"
     ]
    },
    {
     "name": "stdout",
     "output_type": "stream",
     "text": [
      "id= 3b51cee05a380029cab7a06e876d2c006b500752\n"
     ]
    },
    {
     "name": "stderr",
     "output_type": "stream",
     "text": [
      "Epoch[65/65]: 100%|██████████| 65/65 [00:03<00:00, 18.25it/s, SmoothL1Loss=0.0443, MAE=976, RegLoss=0, MAE_val=1.39e+3, SmoothL1Loss_val=0.094]     \n",
      "WARNING: nprophet - fit: Parts of code may break if using other than daily data.\n",
      "/home/sergey/anaconda3/lib/python3.7/site-packages/pandas/core/indexing.py:1676: SettingWithCopyWarning: \n",
      "A value is trying to be set on a copy of a slice from a DataFrame.\n",
      "Try using .loc[row_indexer,col_indexer] = value instead\n",
      "\n",
      "See the caveats in the documentation: https://pandas.pydata.org/pandas-docs/stable/user_guide/indexing.html#returning-a-view-versus-a-copy\n",
      "  self._setitem_single_column(ilocs[0], value, pi)\n",
      "INFO: nprophet.utils - set_auto_seasonalities: Disabling yearly seasonality. Run NeuralProphet with yearly_seasonality=True to override this.\n",
      "INFO: nprophet.config - set_auto_batch_epoch: Auto-set batch_size to 8\n",
      "INFO: nprophet.config - set_auto_batch_epoch: Auto-set epochs to 56\n"
     ]
    },
    {
     "data": {
      "application/vnd.jupyter.widget-view+json": {
       "model_id": "4ddfa6e60cfb4edda4d343a703ad08e0",
       "version_major": 2,
       "version_minor": 0
      },
      "text/plain": [
       "  0%|          | 0/100 [00:00<?, ?it/s]"
      ]
     },
     "metadata": {},
     "output_type": "display_data"
    },
    {
     "name": "stderr",
     "output_type": "stream",
     "text": [
      "INFO: nprophet - _lr_range_test: learning rate range test found optimal lr: 4.33E-01\n",
      "Epoch[1/56]:   0%|          | 0/56 [00:00<?, ?it/s, SmoothL1Loss=0.269, MAE=267, RegLoss=0, MAE_val=171, SmoothL1Loss_val=0.0977]"
     ]
    },
    {
     "name": "stdout",
     "output_type": "stream",
     "text": [
      "id= 832b06e7bdb8f1afb02c81482a988f954c071c89\n",
      "id= c6fbb009ed8f91bebebf63b95c4b43cc1bf42a67\n"
     ]
    },
    {
     "name": "stderr",
     "output_type": "stream",
     "text": [
      "Epoch[56/56]: 100%|██████████| 56/56 [00:03<00:00, 15.39it/s, SmoothL1Loss=0.0779, MAE=117, RegLoss=0, MAE_val=128, SmoothL1Loss_val=0.0616]\n",
      "WARNING: nprophet - fit: Parts of code may break if using other than daily data.\n",
      "/home/sergey/anaconda3/lib/python3.7/site-packages/pandas/core/indexing.py:1676: SettingWithCopyWarning: \n",
      "A value is trying to be set on a copy of a slice from a DataFrame.\n",
      "Try using .loc[row_indexer,col_indexer] = value instead\n",
      "\n",
      "See the caveats in the documentation: https://pandas.pydata.org/pandas-docs/stable/user_guide/indexing.html#returning-a-view-versus-a-copy\n",
      "  self._setitem_single_column(ilocs[0], value, pi)\n",
      "INFO: nprophet.utils - set_auto_seasonalities: Disabling yearly seasonality. Run NeuralProphet with yearly_seasonality=True to override this.\n",
      "INFO: nprophet.config - set_auto_batch_epoch: Auto-set batch_size to 8\n",
      "INFO: nprophet.config - set_auto_batch_epoch: Auto-set epochs to 53\n"
     ]
    },
    {
     "data": {
      "application/vnd.jupyter.widget-view+json": {
       "model_id": "ae60e2949d064ab9bab444362f6070aa",
       "version_major": 2,
       "version_minor": 0
      },
      "text/plain": [
       "  0%|          | 0/100 [00:00<?, ?it/s]"
      ]
     },
     "metadata": {},
     "output_type": "display_data"
    },
    {
     "name": "stderr",
     "output_type": "stream",
     "text": [
      "INFO: nprophet - _lr_range_test: learning rate range test found optimal lr: 2.85E-04\n",
      "Epoch[1/53]:   0%|          | 0/53 [00:00<?, ?it/s, SmoothL1Loss=0.908, MAE=278, RegLoss=0, MAE_val=265, SmoothL1Loss_val=0.85]"
     ]
    },
    {
     "name": "stdout",
     "output_type": "stream",
     "text": [
      "id= c25b6fd36ac3c5982c95d1cb65468aa40de30781\n"
     ]
    },
    {
     "name": "stderr",
     "output_type": "stream",
     "text": [
      "Epoch[53/53]: 100%|██████████| 53/53 [00:03<00:00, 15.02it/s, SmoothL1Loss=0.511, MAE=172, RegLoss=0, MAE_val=157, SmoothL1Loss_val=0.462]\n",
      "WARNING: nprophet - fit: Parts of code may break if using other than daily data.\n",
      "/home/sergey/anaconda3/lib/python3.7/site-packages/pandas/core/indexing.py:1676: SettingWithCopyWarning: \n",
      "A value is trying to be set on a copy of a slice from a DataFrame.\n",
      "Try using .loc[row_indexer,col_indexer] = value instead\n",
      "\n",
      "See the caveats in the documentation: https://pandas.pydata.org/pandas-docs/stable/user_guide/indexing.html#returning-a-view-versus-a-copy\n",
      "  self._setitem_single_column(ilocs[0], value, pi)\n",
      "INFO: nprophet.utils - set_auto_seasonalities: Disabling yearly seasonality. Run NeuralProphet with yearly_seasonality=True to override this.\n",
      "INFO: nprophet.config - set_auto_batch_epoch: Auto-set batch_size to 8\n",
      "INFO: nprophet.config - set_auto_batch_epoch: Auto-set epochs to 91\n"
     ]
    },
    {
     "data": {
      "application/vnd.jupyter.widget-view+json": {
       "model_id": "cb8ae8ae48f3438e861b5f6ac34f5bb5",
       "version_major": 2,
       "version_minor": 0
      },
      "text/plain": [
       "  0%|          | 0/100 [00:00<?, ?it/s]"
      ]
     },
     "metadata": {},
     "output_type": "display_data"
    },
    {
     "name": "stderr",
     "output_type": "stream",
     "text": [
      "INFO: nprophet - _lr_range_test: learning rate range test found optimal lr: 2.31E-01\n",
      "Epoch[2/91]:   0%|          | 0/91 [00:00<?, ?it/s, SmoothL1Loss=0.605, MAE=2.53e+3, RegLoss=0, MAE_val=2.76e+3, SmoothL1Loss_val=0.696]"
     ]
    },
    {
     "name": "stdout",
     "output_type": "stream",
     "text": [
      "id= f0660cc875a7f0cfa90cab60dda8eef9f4121e9c\n"
     ]
    },
    {
     "name": "stderr",
     "output_type": "stream",
     "text": [
      "Epoch[91/91]: 100%|██████████| 91/91 [00:03<00:00, 25.17it/s, SmoothL1Loss=0.113, MAE=786, RegLoss=0, MAE_val=1.52e+3, SmoothL1Loss_val=0.341]    \n",
      "WARNING: nprophet - fit: Parts of code may break if using other than daily data.\n",
      "/home/sergey/anaconda3/lib/python3.7/site-packages/pandas/core/indexing.py:1676: SettingWithCopyWarning: \n",
      "A value is trying to be set on a copy of a slice from a DataFrame.\n",
      "Try using .loc[row_indexer,col_indexer] = value instead\n",
      "\n",
      "See the caveats in the documentation: https://pandas.pydata.org/pandas-docs/stable/user_guide/indexing.html#returning-a-view-versus-a-copy\n",
      "  self._setitem_single_column(ilocs[0], value, pi)\n",
      "INFO: nprophet.utils - set_auto_seasonalities: Disabling yearly seasonality. Run NeuralProphet with yearly_seasonality=True to override this.\n",
      "INFO: nprophet.config - set_auto_batch_epoch: Auto-set batch_size to 8\n",
      "INFO: nprophet.config - set_auto_batch_epoch: Auto-set epochs to 71\n"
     ]
    },
    {
     "data": {
      "application/vnd.jupyter.widget-view+json": {
       "model_id": "be18f7b5716545e393a110595a0456f3",
       "version_major": 2,
       "version_minor": 0
      },
      "text/plain": [
       "  0%|          | 0/100 [00:00<?, ?it/s]"
      ]
     },
     "metadata": {},
     "output_type": "display_data"
    },
    {
     "name": "stderr",
     "output_type": "stream",
     "text": [
      "INFO: nprophet - _lr_range_test: learning rate range test found optimal lr: 1.23E-01\n",
      "Epoch[1/71]:   0%|          | 0/71 [00:00<?, ?it/s, SmoothL1Loss=0.634, MAE=1.4e+3, RegLoss=0, MAE_val=1.07e+3, SmoothL1Loss_val=0.427]"
     ]
    },
    {
     "name": "stdout",
     "output_type": "stream",
     "text": [
      "id= 832d3953a5b63bade8819226cf52146ee7c288fd\n",
      "id= 82b5880791d652e6996b71c2a87818b87dd20b24\n"
     ]
    },
    {
     "name": "stderr",
     "output_type": "stream",
     "text": [
      "Epoch[71/71]: 100%|██████████| 71/71 [00:03<00:00, 19.76it/s, SmoothL1Loss=0.0332, MAE=230, RegLoss=0, MAE_val=247, SmoothL1Loss_val=0.0391]\n",
      "WARNING: nprophet - fit: Parts of code may break if using other than daily data.\n",
      "/home/sergey/anaconda3/lib/python3.7/site-packages/pandas/core/indexing.py:1676: SettingWithCopyWarning: \n",
      "A value is trying to be set on a copy of a slice from a DataFrame.\n",
      "Try using .loc[row_indexer,col_indexer] = value instead\n",
      "\n",
      "See the caveats in the documentation: https://pandas.pydata.org/pandas-docs/stable/user_guide/indexing.html#returning-a-view-versus-a-copy\n",
      "  self._setitem_single_column(ilocs[0], value, pi)\n",
      "INFO: nprophet.utils - set_auto_seasonalities: Disabling yearly seasonality. Run NeuralProphet with yearly_seasonality=True to override this.\n",
      "INFO: nprophet.config - set_auto_batch_epoch: Auto-set batch_size to 8\n",
      "INFO: nprophet.config - set_auto_batch_epoch: Auto-set epochs to 74\n"
     ]
    },
    {
     "data": {
      "application/vnd.jupyter.widget-view+json": {
       "model_id": "d69a0ecea88e494497f0fd2543f49483",
       "version_major": 2,
       "version_minor": 0
      },
      "text/plain": [
       "  0%|          | 0/100 [00:00<?, ?it/s]"
      ]
     },
     "metadata": {},
     "output_type": "display_data"
    },
    {
     "name": "stderr",
     "output_type": "stream",
     "text": [
      "INFO: nprophet - _lr_range_test: learning rate range test found optimal lr: 4.33E-02\n",
      "Epoch[1/74]:   0%|          | 0/74 [00:00<?, ?it/s, SmoothL1Loss=0.851, MAE=3.68e+3, RegLoss=0, MAE_val=3.34e+3, SmoothL1Loss_val=0.76]"
     ]
    },
    {
     "name": "stdout",
     "output_type": "stream",
     "text": [
      "id= ff8c3ba0b6ad9c16bdc53fd17642e109d3d4daa2\n"
     ]
    },
    {
     "name": "stderr",
     "output_type": "stream",
     "text": [
      "Epoch[74/74]: 100%|██████████| 74/74 [00:03<00:00, 20.48it/s, SmoothL1Loss=0.0522, MAE=702, RegLoss=0, MAE_val=752, SmoothL1Loss_val=0.0709]     \n",
      "WARNING: nprophet - fit: Parts of code may break if using other than daily data.\n",
      "/home/sergey/anaconda3/lib/python3.7/site-packages/pandas/core/indexing.py:1676: SettingWithCopyWarning: \n",
      "A value is trying to be set on a copy of a slice from a DataFrame.\n",
      "Try using .loc[row_indexer,col_indexer] = value instead\n",
      "\n",
      "See the caveats in the documentation: https://pandas.pydata.org/pandas-docs/stable/user_guide/indexing.html#returning-a-view-versus-a-copy\n",
      "  self._setitem_single_column(ilocs[0], value, pi)\n",
      "INFO: nprophet.utils - set_auto_seasonalities: Disabling yearly seasonality. Run NeuralProphet with yearly_seasonality=True to override this.\n",
      "INFO: nprophet.config - set_auto_batch_epoch: Auto-set batch_size to 8\n",
      "INFO: nprophet.config - set_auto_batch_epoch: Auto-set epochs to 96\n"
     ]
    },
    {
     "data": {
      "application/vnd.jupyter.widget-view+json": {
       "model_id": "a06545bfde6c47d3aa4b08b14508c381",
       "version_major": 2,
       "version_minor": 0
      },
      "text/plain": [
       "  0%|          | 0/100 [00:00<?, ?it/s]"
      ]
     },
     "metadata": {},
     "output_type": "display_data"
    },
    {
     "name": "stderr",
     "output_type": "stream",
     "text": [
      "INFO: nprophet - _lr_range_test: learning rate range test found optimal lr: 3.51E-02\n",
      "Epoch[2/96]:   0%|          | 0/96 [00:00<?, ?it/s, SmoothL1Loss=0.428, MAE=95, RegLoss=0, MAE_val=101, SmoothL1Loss_val=0.451] "
     ]
    },
    {
     "name": "stdout",
     "output_type": "stream",
     "text": [
      "id= 28fc116c49b57c0aea12e399ebfbb9fa199f86ae\n"
     ]
    },
    {
     "name": "stderr",
     "output_type": "stream",
     "text": [
      "Epoch[96/96]: 100%|██████████| 96/96 [00:03<00:00, 26.45it/s, SmoothL1Loss=0.0724, MAE=30, RegLoss=0, MAE_val=54.7, SmoothL1Loss_val=0.211]  \n",
      "WARNING: nprophet - fit: Parts of code may break if using other than daily data.\n",
      "/home/sergey/anaconda3/lib/python3.7/site-packages/pandas/core/indexing.py:1676: SettingWithCopyWarning: \n",
      "A value is trying to be set on a copy of a slice from a DataFrame.\n",
      "Try using .loc[row_indexer,col_indexer] = value instead\n",
      "\n",
      "See the caveats in the documentation: https://pandas.pydata.org/pandas-docs/stable/user_guide/indexing.html#returning-a-view-versus-a-copy\n",
      "  self._setitem_single_column(ilocs[0], value, pi)\n",
      "INFO: nprophet.utils - set_auto_seasonalities: Disabling yearly seasonality. Run NeuralProphet with yearly_seasonality=True to override this.\n",
      "INFO: nprophet.config - set_auto_batch_epoch: Auto-set batch_size to 8\n",
      "INFO: nprophet.config - set_auto_batch_epoch: Auto-set epochs to 115\n"
     ]
    },
    {
     "data": {
      "application/vnd.jupyter.widget-view+json": {
       "model_id": "f47ebdeb1cb24112a5fbdb7acc931bc8",
       "version_major": 2,
       "version_minor": 0
      },
      "text/plain": [
       "  0%|          | 0/100 [00:00<?, ?it/s]"
      ]
     },
     "metadata": {},
     "output_type": "display_data"
    },
    {
     "name": "stderr",
     "output_type": "stream",
     "text": [
      "INFO: nprophet - _lr_range_test: learning rate range test found optimal lr: 2.31E-01\n",
      "Epoch[2/115]:   0%|          | 0/115 [00:00<?, ?it/s, SmoothL1Loss=0.55, MAE=154, RegLoss=0, MAE_val=148, SmoothL1Loss_val=0.537]"
     ]
    },
    {
     "name": "stdout",
     "output_type": "stream",
     "text": [
      "id= 3f2c967509c80091cfb29f9cc94ddb8827450fc3\n"
     ]
    },
    {
     "name": "stderr",
     "output_type": "stream",
     "text": [
      "Epoch[115/115]: 100%|██████████| 115/115 [00:03<00:00, 31.29it/s, SmoothL1Loss=0.104, MAE=39.9, RegLoss=0, MAE_val=81.8, SmoothL1Loss_val=0.312]\n",
      "WARNING: nprophet - fit: Parts of code may break if using other than daily data.\n",
      "/home/sergey/anaconda3/lib/python3.7/site-packages/pandas/core/indexing.py:1676: SettingWithCopyWarning: \n",
      "A value is trying to be set on a copy of a slice from a DataFrame.\n",
      "Try using .loc[row_indexer,col_indexer] = value instead\n",
      "\n",
      "See the caveats in the documentation: https://pandas.pydata.org/pandas-docs/stable/user_guide/indexing.html#returning-a-view-versus-a-copy\n",
      "  self._setitem_single_column(ilocs[0], value, pi)\n",
      "INFO: nprophet.utils - set_auto_seasonalities: Disabling yearly seasonality. Run NeuralProphet with yearly_seasonality=True to override this.\n",
      "INFO: nprophet.config - set_auto_batch_epoch: Auto-set batch_size to 8\n",
      "INFO: nprophet.config - set_auto_batch_epoch: Auto-set epochs to 83\n"
     ]
    },
    {
     "data": {
      "application/vnd.jupyter.widget-view+json": {
       "model_id": "4860b01971764cdda9ce9c5cb937ec79",
       "version_major": 2,
       "version_minor": 0
      },
      "text/plain": [
       "  0%|          | 0/100 [00:00<?, ?it/s]"
      ]
     },
     "metadata": {},
     "output_type": "display_data"
    },
    {
     "name": "stderr",
     "output_type": "stream",
     "text": [
      "INFO: nprophet - _lr_range_test: learning rate range test found optimal lr: 2.85E-01\n",
      "Epoch[1/83]:   0%|          | 0/83 [00:00<?, ?it/s, SmoothL1Loss=0.771, MAE=557, RegLoss=0, MAE_val=378, SmoothL1Loss_val=0.448]"
     ]
    },
    {
     "name": "stdout",
     "output_type": "stream",
     "text": [
      "id= 6ae3b9aa54b0f1293c516e467ba98b1617f3a320\n"
     ]
    },
    {
     "name": "stderr",
     "output_type": "stream",
     "text": [
      "Epoch[83/83]: 100%|██████████| 83/83 [00:03<00:00, 22.31it/s, SmoothL1Loss=0.149, MAE=155, RegLoss=0, MAE_val=246, SmoothL1Loss_val=0.282]\n",
      "WARNING: nprophet - fit: Parts of code may break if using other than daily data.\n",
      "/home/sergey/anaconda3/lib/python3.7/site-packages/pandas/core/indexing.py:1676: SettingWithCopyWarning: \n",
      "A value is trying to be set on a copy of a slice from a DataFrame.\n",
      "Try using .loc[row_indexer,col_indexer] = value instead\n",
      "\n",
      "See the caveats in the documentation: https://pandas.pydata.org/pandas-docs/stable/user_guide/indexing.html#returning-a-view-versus-a-copy\n",
      "  self._setitem_single_column(ilocs[0], value, pi)\n",
      "INFO: nprophet.utils - set_auto_seasonalities: Disabling yearly seasonality. Run NeuralProphet with yearly_seasonality=True to override this.\n",
      "INFO: nprophet.config - set_auto_batch_epoch: Auto-set batch_size to 2\n",
      "INFO: nprophet.config - set_auto_batch_epoch: Auto-set epochs to 592\n"
     ]
    },
    {
     "data": {
      "application/vnd.jupyter.widget-view+json": {
       "model_id": "1adf970f019246bb92a9f76794dacb04",
       "version_major": 2,
       "version_minor": 0
      },
      "text/plain": [
       "  0%|          | 0/100 [00:00<?, ?it/s]"
      ]
     },
     "metadata": {},
     "output_type": "display_data"
    },
    {
     "name": "stderr",
     "output_type": "stream",
     "text": [
      "INFO: nprophet - _lr_range_test: learning rate range test found optimal lr: 1.87E-01\n",
      "Epoch[8/592]:   0%|          | 0/592 [00:00<?, ?it/s, SmoothL1Loss=0.179, MAE=3.19e+3, RegLoss=0, MAE_val=4.48e+3, SmoothL1Loss_val=0.309]"
     ]
    },
    {
     "name": "stdout",
     "output_type": "stream",
     "text": [
      "id= df15cba3e575416f3b867bf71793ea848249d7b3\n"
     ]
    },
    {
     "name": "stderr",
     "output_type": "stream",
     "text": [
      "Epoch[592/592]: 100%|██████████| 592/592 [00:07<00:00, 77.98it/s, SmoothL1Loss=0.00726, MAE=754, RegLoss=0, MAE_val=3.34e+3, SmoothL1Loss_val=0.0952]   \n",
      "WARNING: nprophet - fit: Parts of code may break if using other than daily data.\n",
      "/home/sergey/anaconda3/lib/python3.7/site-packages/pandas/core/indexing.py:1676: SettingWithCopyWarning: \n",
      "A value is trying to be set on a copy of a slice from a DataFrame.\n",
      "Try using .loc[row_indexer,col_indexer] = value instead\n",
      "\n",
      "See the caveats in the documentation: https://pandas.pydata.org/pandas-docs/stable/user_guide/indexing.html#returning-a-view-versus-a-copy\n",
      "  self._setitem_single_column(ilocs[0], value, pi)\n",
      "INFO: nprophet.utils - set_auto_seasonalities: Disabling yearly seasonality. Run NeuralProphet with yearly_seasonality=True to override this.\n",
      "INFO: nprophet.config - set_auto_batch_epoch: Auto-set batch_size to 2\n",
      "INFO: nprophet.config - set_auto_batch_epoch: Auto-set epochs to 164\n"
     ]
    },
    {
     "data": {
      "application/vnd.jupyter.widget-view+json": {
       "model_id": "1cbec08fbfa945faadb3d441827e0a62",
       "version_major": 2,
       "version_minor": 0
      },
      "text/plain": [
       "  0%|          | 0/100 [00:00<?, ?it/s]"
      ]
     },
     "metadata": {},
     "output_type": "display_data"
    },
    {
     "name": "stderr",
     "output_type": "stream",
     "text": [
      "INFO: nprophet - _lr_range_test: learning rate range test found optimal lr: 1.00E-02\n",
      "Epoch[2/164]:   0%|          | 0/164 [00:00<?, ?it/s, SmoothL1Loss=1.1, MAE=420, RegLoss=0, MAE_val=699, SmoothL1Loss_val=2.12] "
     ]
    },
    {
     "name": "stdout",
     "output_type": "stream",
     "text": [
      "id= 925601ca5c49151c5f66a26fca80b1bb6edac36c\n"
     ]
    },
    {
     "name": "stderr",
     "output_type": "stream",
     "text": [
      "Epoch[164/164]: 100%|██████████| 164/164 [00:06<00:00, 24.99it/s, SmoothL1Loss=0.122, MAE=83.8, RegLoss=0, MAE_val=121, SmoothL1Loss_val=0.182]\n",
      "WARNING: nprophet - fit: Parts of code may break if using other than daily data.\n",
      "/home/sergey/anaconda3/lib/python3.7/site-packages/pandas/core/indexing.py:1676: SettingWithCopyWarning: \n",
      "A value is trying to be set on a copy of a slice from a DataFrame.\n",
      "Try using .loc[row_indexer,col_indexer] = value instead\n",
      "\n",
      "See the caveats in the documentation: https://pandas.pydata.org/pandas-docs/stable/user_guide/indexing.html#returning-a-view-versus-a-copy\n",
      "  self._setitem_single_column(ilocs[0], value, pi)\n",
      "INFO: nprophet.utils - set_auto_seasonalities: Disabling yearly seasonality. Run NeuralProphet with yearly_seasonality=True to override this.\n",
      "INFO: nprophet.config - set_auto_batch_epoch: Auto-set batch_size to 8\n",
      "INFO: nprophet.config - set_auto_batch_epoch: Auto-set epochs to 76\n"
     ]
    },
    {
     "data": {
      "application/vnd.jupyter.widget-view+json": {
       "model_id": "d178ec250e6e4ed0b13b5fa004f4e4ab",
       "version_major": 2,
       "version_minor": 0
      },
      "text/plain": [
       "  0%|          | 0/100 [00:00<?, ?it/s]"
      ]
     },
     "metadata": {},
     "output_type": "display_data"
    },
    {
     "name": "stderr",
     "output_type": "stream",
     "text": [
      "INFO: nprophet - _lr_range_test: learning rate range test found optimal lr: 2.85E-01\n",
      "Epoch[1/76]:   0%|          | 0/76 [00:00<?, ?it/s, SmoothL1Loss=0.412, MAE=1.48e+3, RegLoss=0, MAE_val=796, SmoothL1Loss_val=0.138]"
     ]
    },
    {
     "name": "stdout",
     "output_type": "stream",
     "text": [
      "id= 29b1df2cc978dad3d154593d2a439f57cdaf00a2\n",
      "id= b3cf5250cf7e57b079d691c9b7572e38e63c7987\n"
     ]
    },
    {
     "name": "stderr",
     "output_type": "stream",
     "text": [
      "Epoch[76/76]: 100%|██████████| 76/76 [00:03<00:00, 21.18it/s, SmoothL1Loss=0.0306, MAE=322, RegLoss=0, MAE_val=399, SmoothL1Loss_val=0.035]       \n",
      "WARNING: nprophet - fit: Parts of code may break if using other than daily data.\n",
      "/home/sergey/anaconda3/lib/python3.7/site-packages/pandas/core/indexing.py:1676: SettingWithCopyWarning: \n",
      "A value is trying to be set on a copy of a slice from a DataFrame.\n",
      "Try using .loc[row_indexer,col_indexer] = value instead\n",
      "\n",
      "See the caveats in the documentation: https://pandas.pydata.org/pandas-docs/stable/user_guide/indexing.html#returning-a-view-versus-a-copy\n",
      "  self._setitem_single_column(ilocs[0], value, pi)\n",
      "INFO: nprophet.utils - set_auto_seasonalities: Disabling yearly seasonality. Run NeuralProphet with yearly_seasonality=True to override this.\n",
      "INFO: nprophet.config - set_auto_batch_epoch: Auto-set batch_size to 8\n",
      "INFO: nprophet.config - set_auto_batch_epoch: Auto-set epochs to 238\n"
     ]
    },
    {
     "data": {
      "application/vnd.jupyter.widget-view+json": {
       "model_id": "69a9727b96a642729c511d7d836429eb",
       "version_major": 2,
       "version_minor": 0
      },
      "text/plain": [
       "  0%|          | 0/100 [00:00<?, ?it/s]"
      ]
     },
     "metadata": {},
     "output_type": "display_data"
    },
    {
     "name": "stderr",
     "output_type": "stream",
     "text": [
      "INFO: nprophet - _lr_range_test: learning rate range test found optimal lr: 2.31E-01\n",
      "Epoch[6/238]:   0%|          | 0/238 [00:00<?, ?it/s, SmoothL1Loss=0.105, MAE=1.25e+3, RegLoss=0, MAE_val=1.77e+3, SmoothL1Loss_val=0.204]"
     ]
    },
    {
     "name": "stdout",
     "output_type": "stream",
     "text": [
      "id= 8e7ca09b25c7e959b55c2790b6a2bdcb5d56d2cb\n"
     ]
    },
    {
     "name": "stderr",
     "output_type": "stream",
     "text": [
      "Epoch[238/238]: 100%|██████████| 238/238 [00:03<00:00, 61.89it/s, SmoothL1Loss=0.0444, MAE=788, RegLoss=0, MAE_val=1.16e+3, SmoothL1Loss_val=0.0806]    \n",
      "WARNING: nprophet - fit: Parts of code may break if using other than daily data.\n",
      "/home/sergey/anaconda3/lib/python3.7/site-packages/pandas/core/indexing.py:1676: SettingWithCopyWarning: \n",
      "A value is trying to be set on a copy of a slice from a DataFrame.\n",
      "Try using .loc[row_indexer,col_indexer] = value instead\n",
      "\n",
      "See the caveats in the documentation: https://pandas.pydata.org/pandas-docs/stable/user_guide/indexing.html#returning-a-view-versus-a-copy\n",
      "  self._setitem_single_column(ilocs[0], value, pi)\n",
      "INFO: nprophet.utils - set_auto_seasonalities: Disabling yearly seasonality. Run NeuralProphet with yearly_seasonality=True to override this.\n",
      "INFO: nprophet.config - set_auto_batch_epoch: Auto-set batch_size to 8\n",
      "INFO: nprophet.config - set_auto_batch_epoch: Auto-set epochs to 95\n"
     ]
    },
    {
     "data": {
      "application/vnd.jupyter.widget-view+json": {
       "model_id": "5dc713cb57b949e69605825d2d660b8c",
       "version_major": 2,
       "version_minor": 0
      },
      "text/plain": [
       "  0%|          | 0/100 [00:00<?, ?it/s]"
      ]
     },
     "metadata": {},
     "output_type": "display_data"
    },
    {
     "name": "stderr",
     "output_type": "stream",
     "text": [
      "INFO: nprophet - _lr_range_test: learning rate range test found optimal lr: 3.51E-01\n",
      "Epoch[2/95]:   0%|          | 0/95 [00:00<?, ?it/s, SmoothL1Loss=0.496, MAE=865, RegLoss=0, MAE_val=706, SmoothL1Loss_val=0.31]        "
     ]
    },
    {
     "name": "stdout",
     "output_type": "stream",
     "text": [
      "id= 461b31c4395a879b4d590ea18bddb7731c78931f\n"
     ]
    },
    {
     "name": "stderr",
     "output_type": "stream",
     "text": [
      "Epoch[95/95]: 100%|██████████| 95/95 [00:03<00:00, 26.40it/s, SmoothL1Loss=0.107, MAE=292, RegLoss=0, MAE_val=356, SmoothL1Loss_val=0.157]        \n",
      "WARNING: nprophet - fit: Parts of code may break if using other than daily data.\n",
      "/home/sergey/anaconda3/lib/python3.7/site-packages/pandas/core/indexing.py:1676: SettingWithCopyWarning: \n",
      "A value is trying to be set on a copy of a slice from a DataFrame.\n",
      "Try using .loc[row_indexer,col_indexer] = value instead\n",
      "\n",
      "See the caveats in the documentation: https://pandas.pydata.org/pandas-docs/stable/user_guide/indexing.html#returning-a-view-versus-a-copy\n",
      "  self._setitem_single_column(ilocs[0], value, pi)\n",
      "INFO: nprophet.utils - set_auto_seasonalities: Disabling yearly seasonality. Run NeuralProphet with yearly_seasonality=True to override this.\n",
      "INFO: nprophet.config - set_auto_batch_epoch: Auto-set batch_size to 8\n",
      "INFO: nprophet.config - set_auto_batch_epoch: Auto-set epochs to 307\n"
     ]
    },
    {
     "data": {
      "application/vnd.jupyter.widget-view+json": {
       "model_id": "bdc158dc33a74f01820b0b815f29ce98",
       "version_major": 2,
       "version_minor": 0
      },
      "text/plain": [
       "  0%|          | 0/100 [00:00<?, ?it/s]"
      ]
     },
     "metadata": {},
     "output_type": "display_data"
    },
    {
     "name": "stderr",
     "output_type": "stream",
     "text": [
      "INFO: nprophet - _lr_range_test: learning rate range test found optimal lr: 2.31E-01\n",
      "Epoch[6/307]:   0%|          | 0/307 [00:00<?, ?it/s, SmoothL1Loss=0.229, MAE=1.34e+3, RegLoss=0, MAE_val=1.14e+3, SmoothL1Loss_val=0.187]"
     ]
    },
    {
     "name": "stdout",
     "output_type": "stream",
     "text": [
      "id= 6efe1f4bdda094f4c80053a63f4b8aa41a89fb5e\n",
      "id= cadcbd9af567603269c4ead5fd632af51a284354\n"
     ]
    },
    {
     "name": "stderr",
     "output_type": "stream",
     "text": [
      "Epoch[307/307]: 100%|██████████| 307/307 [00:03<00:00, 77.57it/s, SmoothL1Loss=0.0708, MAE=651, RegLoss=0, MAE_val=993, SmoothL1Loss_val=0.0959]      \n",
      "WARNING: nprophet - fit: Parts of code may break if using other than daily data.\n",
      "/home/sergey/anaconda3/lib/python3.7/site-packages/pandas/core/indexing.py:1676: SettingWithCopyWarning: \n",
      "A value is trying to be set on a copy of a slice from a DataFrame.\n",
      "Try using .loc[row_indexer,col_indexer] = value instead\n",
      "\n",
      "See the caveats in the documentation: https://pandas.pydata.org/pandas-docs/stable/user_guide/indexing.html#returning-a-view-versus-a-copy\n",
      "  self._setitem_single_column(ilocs[0], value, pi)\n",
      "INFO: nprophet.utils - set_auto_seasonalities: Disabling yearly seasonality. Run NeuralProphet with yearly_seasonality=True to override this.\n",
      "INFO: nprophet.config - set_auto_batch_epoch: Auto-set batch_size to 8\n",
      "INFO: nprophet.config - set_auto_batch_epoch: Auto-set epochs to 111\n"
     ]
    },
    {
     "data": {
      "application/vnd.jupyter.widget-view+json": {
       "model_id": "d489b9b235614d9d8fb170c28369e5c5",
       "version_major": 2,
       "version_minor": 0
      },
      "text/plain": [
       "  0%|          | 0/100 [00:00<?, ?it/s]"
      ]
     },
     "metadata": {},
     "output_type": "display_data"
    },
    {
     "name": "stderr",
     "output_type": "stream",
     "text": [
      "INFO: nprophet - _lr_range_test: learning rate range test found optimal lr: 6.58E-02\n",
      "Epoch[2/111]:   0%|          | 0/111 [00:00<?, ?it/s, SmoothL1Loss=0.697, MAE=133, RegLoss=0, MAE_val=139, SmoothL1Loss_val=0.74] "
     ]
    },
    {
     "name": "stdout",
     "output_type": "stream",
     "text": [
      "id= 5f9fd85a12166a2cdfcb4110fbdf97ec48f4baf2\n"
     ]
    },
    {
     "name": "stderr",
     "output_type": "stream",
     "text": [
      "Epoch[111/111]: 100%|██████████| 111/111 [00:03<00:00, 30.42it/s, SmoothL1Loss=0.0536, MAE=28.1, RegLoss=0, MAE_val=36.6, SmoothL1Loss_val=0.0641]\n",
      "WARNING: nprophet - fit: Parts of code may break if using other than daily data.\n",
      "/home/sergey/anaconda3/lib/python3.7/site-packages/pandas/core/indexing.py:1676: SettingWithCopyWarning: \n",
      "A value is trying to be set on a copy of a slice from a DataFrame.\n",
      "Try using .loc[row_indexer,col_indexer] = value instead\n",
      "\n",
      "See the caveats in the documentation: https://pandas.pydata.org/pandas-docs/stable/user_guide/indexing.html#returning-a-view-versus-a-copy\n",
      "  self._setitem_single_column(ilocs[0], value, pi)\n",
      "INFO: nprophet.utils - set_auto_seasonalities: Disabling yearly seasonality. Run NeuralProphet with yearly_seasonality=True to override this.\n",
      "INFO: nprophet.config - set_auto_batch_epoch: Auto-set batch_size to 8\n",
      "INFO: nprophet.config - set_auto_batch_epoch: Auto-set epochs to 172\n"
     ]
    },
    {
     "data": {
      "application/vnd.jupyter.widget-view+json": {
       "model_id": "8a046c2f798f498294fc4847677d4f4c",
       "version_major": 2,
       "version_minor": 0
      },
      "text/plain": [
       "  0%|          | 0/100 [00:00<?, ?it/s]"
      ]
     },
     "metadata": {},
     "output_type": "display_data"
    },
    {
     "name": "stderr",
     "output_type": "stream",
     "text": [
      "INFO: nprophet - _lr_range_test: learning rate range test found optimal lr: 2.31E-01\n",
      "Epoch[3/172]:   0%|          | 0/172 [00:00<?, ?it/s, SmoothL1Loss=0.207, MAE=1.22e+3, RegLoss=0, MAE_val=1.11e+3, SmoothL1Loss_val=0.177]"
     ]
    },
    {
     "name": "stdout",
     "output_type": "stream",
     "text": [
      "id= 95c96cd67a174e9edbed22ee790b3ae2931a0f9d\n",
      "id= 79215aaf146695b45e14e97ab2ed36d3e63e564a\n",
      "id= 21abfc1194c512798ecb071ac0a71e2ae9c1b4d3\n",
      "id= 578f9d2a193db043c6648bdd229cdd9d76279bc7\n"
     ]
    },
    {
     "name": "stderr",
     "output_type": "stream",
     "text": [
      "Epoch[172/172]: 100%|██████████| 172/172 [00:03<00:00, 45.68it/s, SmoothL1Loss=0.0952, MAE=653, RegLoss=0, MAE_val=828, SmoothL1Loss_val=0.115]       \n",
      "WARNING: nprophet - fit: Parts of code may break if using other than daily data.\n",
      "/home/sergey/anaconda3/lib/python3.7/site-packages/pandas/core/indexing.py:1676: SettingWithCopyWarning: \n",
      "A value is trying to be set on a copy of a slice from a DataFrame.\n",
      "Try using .loc[row_indexer,col_indexer] = value instead\n",
      "\n",
      "See the caveats in the documentation: https://pandas.pydata.org/pandas-docs/stable/user_guide/indexing.html#returning-a-view-versus-a-copy\n",
      "  self._setitem_single_column(ilocs[0], value, pi)\n",
      "INFO: nprophet.utils - set_auto_seasonalities: Disabling yearly seasonality. Run NeuralProphet with yearly_seasonality=True to override this.\n",
      "INFO: nprophet.config - set_auto_batch_epoch: Auto-set batch_size to 8\n",
      "INFO: nprophet.config - set_auto_batch_epoch: Auto-set epochs to 133\n"
     ]
    },
    {
     "data": {
      "application/vnd.jupyter.widget-view+json": {
       "model_id": "80f8320c73004a5ca036e8c17ce779d8",
       "version_major": 2,
       "version_minor": 0
      },
      "text/plain": [
       "  0%|          | 0/100 [00:00<?, ?it/s]"
      ]
     },
     "metadata": {},
     "output_type": "display_data"
    },
    {
     "name": "stderr",
     "output_type": "stream",
     "text": [
      "INFO: nprophet - _lr_range_test: learning rate range test found optimal lr: 4.33E-01\n",
      "Epoch[3/133]:   0%|          | 0/133 [00:00<?, ?it/s, SmoothL1Loss=0.155, MAE=120, RegLoss=0, MAE_val=97.1, SmoothL1Loss_val=0.106]"
     ]
    },
    {
     "name": "stdout",
     "output_type": "stream",
     "text": [
      "id= cc585aeeba53f4966f5fda263b7f55e27ca55ece\n"
     ]
    },
    {
     "name": "stderr",
     "output_type": "stream",
     "text": [
      "Epoch[133/133]: 100%|██████████| 133/133 [00:03<00:00, 35.47it/s, SmoothL1Loss=0.0792, MAE=72.8, RegLoss=0, MAE_val=81.7, SmoothL1Loss_val=0.103] \n",
      "WARNING: nprophet - fit: Parts of code may break if using other than daily data.\n",
      "/home/sergey/anaconda3/lib/python3.7/site-packages/pandas/core/indexing.py:1676: SettingWithCopyWarning: \n",
      "A value is trying to be set on a copy of a slice from a DataFrame.\n",
      "Try using .loc[row_indexer,col_indexer] = value instead\n",
      "\n",
      "See the caveats in the documentation: https://pandas.pydata.org/pandas-docs/stable/user_guide/indexing.html#returning-a-view-versus-a-copy\n",
      "  self._setitem_single_column(ilocs[0], value, pi)\n",
      "INFO: nprophet.utils - set_auto_seasonalities: Disabling yearly seasonality. Run NeuralProphet with yearly_seasonality=True to override this.\n",
      "INFO: nprophet.config - set_auto_batch_epoch: Auto-set batch_size to 8\n",
      "INFO: nprophet.config - set_auto_batch_epoch: Auto-set epochs to 182\n"
     ]
    },
    {
     "data": {
      "application/vnd.jupyter.widget-view+json": {
       "model_id": "7bdc5091e07e499b953f2ba3318d2fc6",
       "version_major": 2,
       "version_minor": 0
      },
      "text/plain": [
       "  0%|          | 0/100 [00:00<?, ?it/s]"
      ]
     },
     "metadata": {},
     "output_type": "display_data"
    },
    {
     "name": "stderr",
     "output_type": "stream",
     "text": [
      "INFO: nprophet - _lr_range_test: learning rate range test found optimal lr: 6.58E-03\n",
      "Epoch[4/182]:   0%|          | 0/182 [00:00<?, ?it/s, SmoothL1Loss=0.891, MAE=116, RegLoss=0, MAE_val=112, SmoothL1Loss_val=0.854]"
     ]
    },
    {
     "name": "stdout",
     "output_type": "stream",
     "text": [
      "id= 7a38d373a7e79a5a33e0abeaafc26f96ab9399a1\n",
      "id= cfac4e89373c4ccc30bf439aebf92e5b60003388\n"
     ]
    },
    {
     "name": "stderr",
     "output_type": "stream",
     "text": [
      "Epoch[182/182]: 100%|██████████| 182/182 [00:03<00:00, 48.73it/s, SmoothL1Loss=0.122, MAE=26.5, RegLoss=0, MAE_val=18.5, SmoothL1Loss_val=0.0338]\n",
      "WARNING: nprophet - fit: Parts of code may break if using other than daily data.\n",
      "/home/sergey/anaconda3/lib/python3.7/site-packages/pandas/core/indexing.py:1676: SettingWithCopyWarning: \n",
      "A value is trying to be set on a copy of a slice from a DataFrame.\n",
      "Try using .loc[row_indexer,col_indexer] = value instead\n",
      "\n",
      "See the caveats in the documentation: https://pandas.pydata.org/pandas-docs/stable/user_guide/indexing.html#returning-a-view-versus-a-copy\n",
      "  self._setitem_single_column(ilocs[0], value, pi)\n",
      "INFO: nprophet.utils - set_auto_seasonalities: Disabling yearly seasonality. Run NeuralProphet with yearly_seasonality=True to override this.\n",
      "INFO: nprophet.config - set_auto_batch_epoch: Auto-set batch_size to 8\n",
      "INFO: nprophet.config - set_auto_batch_epoch: Auto-set epochs to 88\n"
     ]
    },
    {
     "data": {
      "application/vnd.jupyter.widget-view+json": {
       "model_id": "3f79f65f6353414e95b029e8e54c0097",
       "version_major": 2,
       "version_minor": 0
      },
      "text/plain": [
       "  0%|          | 0/100 [00:00<?, ?it/s]"
      ]
     },
     "metadata": {},
     "output_type": "display_data"
    },
    {
     "name": "stderr",
     "output_type": "stream",
     "text": [
      "INFO: nprophet - _lr_range_test: learning rate range test found optimal lr: 4.33E-01\n",
      "Epoch[1/88]:   0%|          | 0/88 [00:00<?, ?it/s, SmoothL1Loss=1.11, MAE=2.26e+3, RegLoss=0, MAE_val=1.23e+3, SmoothL1Loss_val=0.457]"
     ]
    },
    {
     "name": "stdout",
     "output_type": "stream",
     "text": [
      "id= f5213d04f0f312c47554f1c23d2bfdbae686c95c\n",
      "id= 85e63c0059e8ad6e4257be01ef47bd22a17c43e0\n",
      "id= b49719d80e37c59d32129b0ec5cd32674247ba72\n",
      "id= 7fc910f3a51d89245f36b3b370fce40b9efbfc1a\n"
     ]
    },
    {
     "name": "stderr",
     "output_type": "stream",
     "text": [
      "Epoch[88/88]: 100%|██████████| 88/88 [00:03<00:00, 24.26it/s, SmoothL1Loss=0.0526, MAE=276, RegLoss=0, MAE_val=300, SmoothL1Loss_val=0.0504]      \n",
      "WARNING: nprophet - fit: Parts of code may break if using other than daily data.\n",
      "/home/sergey/anaconda3/lib/python3.7/site-packages/pandas/core/indexing.py:1676: SettingWithCopyWarning: \n",
      "A value is trying to be set on a copy of a slice from a DataFrame.\n",
      "Try using .loc[row_indexer,col_indexer] = value instead\n",
      "\n",
      "See the caveats in the documentation: https://pandas.pydata.org/pandas-docs/stable/user_guide/indexing.html#returning-a-view-versus-a-copy\n",
      "  self._setitem_single_column(ilocs[0], value, pi)\n",
      "INFO: nprophet.utils - set_auto_seasonalities: Disabling yearly seasonality. Run NeuralProphet with yearly_seasonality=True to override this.\n",
      "INFO: nprophet.config - set_auto_batch_epoch: Auto-set batch_size to 8\n",
      "INFO: nprophet.config - set_auto_batch_epoch: Auto-set epochs to 216\n"
     ]
    },
    {
     "data": {
      "application/vnd.jupyter.widget-view+json": {
       "model_id": "2bf4ec6b5d3c4a52bb3923526f98603f",
       "version_major": 2,
       "version_minor": 0
      },
      "text/plain": [
       "  0%|          | 0/100 [00:00<?, ?it/s]"
      ]
     },
     "metadata": {},
     "output_type": "display_data"
    },
    {
     "name": "stderr",
     "output_type": "stream",
     "text": [
      "INFO: nprophet - _lr_range_test: learning rate range test found optimal lr: 1.87E-01\n",
      "Epoch[5/216]:   0%|          | 0/216 [00:00<?, ?it/s, SmoothL1Loss=0.267, MAE=561, RegLoss=0, MAE_val=521, SmoothL1Loss_val=0.192]        "
     ]
    },
    {
     "name": "stdout",
     "output_type": "stream",
     "text": [
      "id= 97e41c44469c5d2bf7eaddf9d173e35d7af7b72a\n",
      "id= d816262b4b2aa834b6b4c6d989b48c03b056f2b4\n",
      "id= cb9d4c6de0d1d76062d7fc356b11b8fd80b5f518\n",
      "id= 51dfe45c685dbb9ac1b650122838facfb4f209f1\n"
     ]
    },
    {
     "name": "stderr",
     "output_type": "stream",
     "text": [
      "Epoch[216/216]: 100%|██████████| 216/216 [00:03<00:00, 55.79it/s, SmoothL1Loss=0.103, MAE=271, RegLoss=0, MAE_val=622, SmoothL1Loss_val=0.279]    \n"
     ]
    },
    {
     "name": "stdout",
     "output_type": "stream",
     "text": [
      "id= 0ecc5d9fcd99ab47cf889ef081e51235af41f178\n",
      "id= 23ac974a20006aaee85ec3f94c3096b29a49c48e\n"
     ]
    }
   ],
   "source": [
    "col_names = ['ds', 'std_deviation', 'n']\n",
    "# min_size = int(dt.shape[0]/200)\n",
    "min_size = int(dt.shape[0]/500)\n",
    "# min_size = 100\n",
    "\n",
    "# project_ids = dt.project_id.unique()\n",
    "bank_ids = dt.bank_name.unique()\n",
    "# bank_ids = dt_anomaly.bank_name.unique()\n",
    "project_ids = dt_anomaly.project_id.unique()\n",
    "card_type_ids = dt_anomaly.card_type.unique()\n",
    "country_ids = dt_anomaly.country.unique()\n",
    "\n",
    "index = 3\n",
    "item_ids = [country_ids, bank_ids, card_type_ids, project_ids][index]\n",
    "item =  ['country' ,'bank', 'card_type', 'pid'][index]\n",
    "item_name = ['country' ,'bank_name', 'card_type', 'project_id'][index]\n",
    "\n",
    "len_item = 15\n",
    "for item_id in item_ids:\n",
    "    \n",
    "    mask = dt[item_name] == item_id    \n",
    "    dt_sub = dt[mask].copy()\n",
    "    print('id=', item_id)\n",
    "    \n",
    "    if dt_sub.shape[0] < min_size:# and item_id not in ['TATRA BANKA, A.S.', 'PAYLIFE BANK GMBH']:\n",
    "        continue\n",
    "    \n",
    "    \n",
    "    forecast_sub = calculate_anomay(dt_sub, date_test=start_test)\n",
    "    forecast_sub= forecast_sub[col_names].copy()\n",
    "    \n",
    "    col_std = 'std_{}_{}' . format(item, item_id[:len_item])\n",
    "    col_n = 'n_{}_{}'    .  format(item, item_id[:len_item])\n",
    "    \n",
    "    forecast_sub.rename(columns={\"std_deviation\": col_std, 'n': col_n}, inplace=True)\n",
    "    \n",
    "    forecast =  pd.merge(forecast, forecast_sub, how='left', left_on='ds', right_on='ds')"
   ]
  },
  {
   "cell_type": "code",
   "execution_count": 516,
   "metadata": {},
   "outputs": [],
   "source": [
    "mask = (forecast.ds > start_test) & (forecast.anomaly_point.notnull() )\n",
    "forecast_anomaly = forecast[mask].copy()"
   ]
  },
  {
   "cell_type": "code",
   "execution_count": 517,
   "metadata": {},
   "outputs": [
    {
     "data": {
      "text/plain": [
       "\"['ds', 'y1', 'yhat1', 'residual1', 'trend', 'season_weekly', 'season_daily', 'y', 'n', 'anomaly_point', 'std_deviation', 'std_pid_224f3d3120309f9', 'n_pid_224f3d3120309f9', 'std_pid_fe79f81d11c5d1c', 'n_pid_fe79f81d11c5d1c', 'std_pid_3e1c59c70af87dc', 'n_pid_3e1c59c70af87dc', 'std_pid_6be658d520acce5', 'n_pid_6be658d520acce5', 'std_pid_039f62b24257c47', 'n_pid_039f62b24257c47', 'std_pid_ccc9614c2213e29', 'n_pid_ccc9614c2213e29', 'std_pid_454fe97686ecc4a', 'n_pid_454fe97686ecc4a', 'std_pid_9678b87bc4e7cbb', 'n_pid_9678b87bc4e7cbb', 'std_pid_f161302002d4d92', 'n_pid_f161302002d4d92', 'std_pid_3b51cee05a38002', 'n_pid_3b51cee05a38002', 'std_pid_c6fbb009ed8f91b', 'n_pid_c6fbb009ed8f91b', 'std_pid_c25b6fd36ac3c59', 'n_pid_c25b6fd36ac3c59', 'std_pid_f0660cc875a7f0c', 'n_pid_f0660cc875a7f0c', 'std_pid_82b5880791d652e', 'n_pid_82b5880791d652e', 'std_pid_ff8c3ba0b6ad9c1', 'n_pid_ff8c3ba0b6ad9c1', 'std_pid_28fc116c49b57c0', 'n_pid_28fc116c49b57c0', 'std_pid_3f2c967509c8009', 'n_pid_3f2c967509c8009', 'std_pid_6ae3b9aa54b0f12', 'n_pid_6ae3b9aa54b0f12', 'std_pid_df15cba3e575416', 'n_pid_df15cba3e575416', 'std_pid_925601ca5c49151', 'n_pid_925601ca5c49151', 'std_pid_b3cf5250cf7e57b', 'n_pid_b3cf5250cf7e57b', 'std_pid_8e7ca09b25c7e95', 'n_pid_8e7ca09b25c7e95', 'std_pid_461b31c4395a879', 'n_pid_461b31c4395a879', 'std_pid_cadcbd9af567603', 'n_pid_cadcbd9af567603', 'std_pid_5f9fd85a12166a2', 'n_pid_5f9fd85a12166a2', 'std_pid_578f9d2a193db04', 'n_pid_578f9d2a193db04', 'std_pid_cc585aeeba53f49', 'n_pid_cc585aeeba53f49', 'std_pid_cfac4e89373c4cc', 'n_pid_cfac4e89373c4cc', 'std_pid_7fc910f3a51d892', 'n_pid_7fc910f3a51d892', 'std_pid_51dfe45c685dbb9', 'n_pid_51dfe45c685dbb9']\""
      ]
     },
     "execution_count": 517,
     "metadata": {},
     "output_type": "execute_result"
    }
   ],
   "source": [
    "str(list(forecast_anomaly))"
   ]
  },
  {
   "cell_type": "code",
   "execution_count": 91,
   "metadata": {},
   "outputs": [],
   "source": [
    "# col_names = ['ds','n'] + [col for col in list(forecast_anomaly) if col.startswith('std')]\n",
    "# forecast_anomaly[col_names].head()"
   ]
  },
  {
   "cell_type": "code",
   "execution_count": 99,
   "metadata": {},
   "outputs": [],
   "source": [
    "# col_items"
   ]
  },
  {
   "cell_type": "code",
   "execution_count": null,
   "metadata": {},
   "outputs": [],
   "source": []
  },
  {
   "cell_type": "code",
   "execution_count": 522,
   "metadata": {},
   "outputs": [],
   "source": [
    "forecast_anomaly.fillna(0, inplace=True)\n",
    "\n",
    "n = forecast_anomaly.shape[0]\n",
    "all_info = []\n",
    "all_anomaly_coef = []\n",
    "\n",
    "col_items =  [col for col in list(forecast_anomaly) if col.startswith('std') and col != 'std_deviation']\n",
    "for i in range(n):\n",
    "    info = {}\n",
    "    n_ = forecast_anomaly['n'].values[i]\n",
    "    anomaly_coef = 0\n",
    "    \n",
    "    for col in col_items:\n",
    "        std_v = round(forecast_anomaly[col].values[i], 2)\n",
    "        if not np.isnan(std_v) and std_v > 0 :\n",
    "            column = 'n{}' . format(col[3:])\n",
    "#             print('columnt={} i={}'.format(column, i))\n",
    "            n_value = int(forecast_anomaly[column].values[i])\n",
    "            \n",
    "            anomaly_coef += std_v *n /100\n",
    "            if n_value > 0:#n_value * 60  > n_:\n",
    "                d = {'коэф. отклонения': std_v , 'кол-во': n_value}\n",
    "                k_info = col[4:]\n",
    "                info[k_info] = d\n",
    "                \n",
    "                \n",
    "        \n",
    "    all_info.append(info)\n",
    "    all_anomaly_coef.append(anomaly_coef)"
   ]
  },
  {
   "cell_type": "code",
   "execution_count": 523,
   "metadata": {},
   "outputs": [],
   "source": [
    "forecast_anomaly['info'] = all_info\n",
    "forecast_anomaly['anomaly_coef'] = all_anomaly_coef"
   ]
  },
  {
   "cell_type": "code",
   "execution_count": 528,
   "metadata": {},
   "outputs": [
    {
     "data": {
      "text/html": [
       "<div>\n",
       "<style scoped>\n",
       "    .dataframe tbody tr th:only-of-type {\n",
       "        vertical-align: middle;\n",
       "    }\n",
       "\n",
       "    .dataframe tbody tr th {\n",
       "        vertical-align: top;\n",
       "    }\n",
       "\n",
       "    .dataframe thead th {\n",
       "        text-align: right;\n",
       "    }\n",
       "</style>\n",
       "<table border=\"1\" class=\"dataframe\">\n",
       "  <thead>\n",
       "    <tr style=\"text-align: right;\">\n",
       "      <th></th>\n",
       "      <th>amount</th>\n",
       "      <th>created</th>\n",
       "      <th>currency</th>\n",
       "      <th>terminal_id</th>\n",
       "      <th>mcc</th>\n",
       "      <th>project_id</th>\n",
       "      <th>card_masked</th>\n",
       "      <th>country</th>\n",
       "      <th>bank_name</th>\n",
       "      <th>card_type</th>\n",
       "      <th>date_hour</th>\n",
       "      <th>date_only</th>\n",
       "    </tr>\n",
       "  </thead>\n",
       "  <tbody>\n",
       "    <tr>\n",
       "      <th>6086160</th>\n",
       "      <td>5000.00</td>\n",
       "      <td>2020-02-04 18:24:02</td>\n",
       "      <td>EUR</td>\n",
       "      <td>184a66b736787b0cc715c6b5b9fd18618dfd998b</td>\n",
       "      <td>6051</td>\n",
       "      <td>d816262b4b2aa834b6b4c6d989b48c03b056f2b4</td>\n",
       "      <td>427613******4010</td>\n",
       "      <td>RUS</td>\n",
       "      <td>SAVINGS BANK OF THE RUSSIAN FEDERATION (SBERBANK)</td>\n",
       "      <td>VISA card</td>\n",
       "      <td>2020-02-04 18</td>\n",
       "      <td>2020-02-04</td>\n",
       "    </tr>\n",
       "    <tr>\n",
       "      <th>6085877</th>\n",
       "      <td>2200.00</td>\n",
       "      <td>2020-02-04 18:21:54</td>\n",
       "      <td>EUR</td>\n",
       "      <td>b81854eabb23a43276fecc7f86ed4df0d7fdc7b3</td>\n",
       "      <td>8641</td>\n",
       "      <td>8e7ca09b25c7e959b55c2790b6a2bdcb5d56d2cb</td>\n",
       "      <td>552175******3464</td>\n",
       "      <td>undefined</td>\n",
       "      <td>COMMERCIAL INNOVATION BANK ALFA-BANK</td>\n",
       "      <td>MasterCard</td>\n",
       "      <td>2020-02-04 18</td>\n",
       "      <td>2020-02-04</td>\n",
       "    </tr>\n",
       "    <tr>\n",
       "      <th>6090666</th>\n",
       "      <td>1500.00</td>\n",
       "      <td>2020-02-04 18:54:38</td>\n",
       "      <td>EUR</td>\n",
       "      <td>184a66b736787b0cc715c6b5b9fd18618dfd998b</td>\n",
       "      <td>6051</td>\n",
       "      <td>d816262b4b2aa834b6b4c6d989b48c03b056f2b4</td>\n",
       "      <td>516744******2460</td>\n",
       "      <td>LTU</td>\n",
       "      <td>SEB BANKAS AB</td>\n",
       "      <td>MasterCard</td>\n",
       "      <td>2020-02-04 18</td>\n",
       "      <td>2020-02-04</td>\n",
       "    </tr>\n",
       "    <tr>\n",
       "      <th>6088745</th>\n",
       "      <td>1416.80</td>\n",
       "      <td>2020-02-04 18:40:07</td>\n",
       "      <td>EUR</td>\n",
       "      <td>4c51162536a57a0ef466ea17767e1dbd32db2305</td>\n",
       "      <td>6012</td>\n",
       "      <td>578f9d2a193db043c6648bdd229cdd9d76279bc7</td>\n",
       "      <td>440577******0871</td>\n",
       "      <td>SVK</td>\n",
       "      <td>TATRA BANKA, A.S.</td>\n",
       "      <td>VISA card</td>\n",
       "      <td>2020-02-04 18</td>\n",
       "      <td>2020-02-04</td>\n",
       "    </tr>\n",
       "    <tr>\n",
       "      <th>6088176</th>\n",
       "      <td>1000.00</td>\n",
       "      <td>2020-02-04 18:36:54</td>\n",
       "      <td>EUR</td>\n",
       "      <td>539c7bee567c1a585393a6c99f8cda86b9f8905a</td>\n",
       "      <td>6211</td>\n",
       "      <td>f0660cc875a7f0cfa90cab60dda8eef9f4121e9c</td>\n",
       "      <td>454617******3014</td>\n",
       "      <td>DEU</td>\n",
       "      <td>ING-DIBA AG</td>\n",
       "      <td>VISA card</td>\n",
       "      <td>2020-02-04 18</td>\n",
       "      <td>2020-02-04</td>\n",
       "    </tr>\n",
       "    <tr>\n",
       "      <th>6090228</th>\n",
       "      <td>900.00</td>\n",
       "      <td>2020-02-04 18:51:19</td>\n",
       "      <td>EUR</td>\n",
       "      <td>f137ab54acc76c35f39c4e602dc985db73d1e955</td>\n",
       "      <td>6012</td>\n",
       "      <td>6ae3b9aa54b0f1293c516e467ba98b1617f3a320</td>\n",
       "      <td>543013******4499</td>\n",
       "      <td>ITA</td>\n",
       "      <td>BANCA NAZIONALE DEL LAVORO S.P.A. - BNL</td>\n",
       "      <td>MasterCard</td>\n",
       "      <td>2020-02-04 18</td>\n",
       "      <td>2020-02-04</td>\n",
       "    </tr>\n",
       "    <tr>\n",
       "      <th>6084520</th>\n",
       "      <td>827.99</td>\n",
       "      <td>2020-02-04 18:10:46</td>\n",
       "      <td>EUR</td>\n",
       "      <td>f6d0c7f29c8601b8d959604d0907b36011278532</td>\n",
       "      <td>4722</td>\n",
       "      <td>fe79f81d11c5d1cb31dd5507154f1e69c779d560</td>\n",
       "      <td>548133******3489</td>\n",
       "      <td>undefined</td>\n",
       "      <td>INTERNATIONAL CARD SERVICES BV</td>\n",
       "      <td>MasterCard</td>\n",
       "      <td>2020-02-04 18</td>\n",
       "      <td>2020-02-04</td>\n",
       "    </tr>\n",
       "    <tr>\n",
       "      <th>6090702</th>\n",
       "      <td>701.00</td>\n",
       "      <td>2020-02-04 18:54:52</td>\n",
       "      <td>EUR</td>\n",
       "      <td>24a472a1dcbb1b7a2fa5f992d6c128132ae57b46</td>\n",
       "      <td>4722</td>\n",
       "      <td>3b51cee05a380029cab7a06e876d2c006b500752</td>\n",
       "      <td>493000******1329</td>\n",
       "      <td>undefined</td>\n",
       "      <td>undefined</td>\n",
       "      <td>VISA card</td>\n",
       "      <td>2020-02-04 18</td>\n",
       "      <td>2020-02-04</td>\n",
       "    </tr>\n",
       "    <tr>\n",
       "      <th>6088557</th>\n",
       "      <td>620.00</td>\n",
       "      <td>2020-02-04 18:38:43</td>\n",
       "      <td>EUR</td>\n",
       "      <td>879fdf80a6c1c20e3772f433c4e390fdce247adc</td>\n",
       "      <td>6211</td>\n",
       "      <td>cb9d4c6de0d1d76062d7fc356b11b8fd80b5f518</td>\n",
       "      <td>474503******4483</td>\n",
       "      <td>LVA</td>\n",
       "      <td>G-T-P FINANCIAL SERVICES, LTD.</td>\n",
       "      <td>VISA card</td>\n",
       "      <td>2020-02-04 18</td>\n",
       "      <td>2020-02-04</td>\n",
       "    </tr>\n",
       "    <tr>\n",
       "      <th>6083292</th>\n",
       "      <td>615.00</td>\n",
       "      <td>2020-02-04 18:00:49</td>\n",
       "      <td>EUR</td>\n",
       "      <td>f6d0c7f29c8601b8d959604d0907b36011278532</td>\n",
       "      <td>4722</td>\n",
       "      <td>fe79f81d11c5d1cb31dd5507154f1e69c779d560</td>\n",
       "      <td>456353******3040</td>\n",
       "      <td>undefined</td>\n",
       "      <td>INTERNATIONAL CARD SERVICES B.V.</td>\n",
       "      <td>VISA card</td>\n",
       "      <td>2020-02-04 18</td>\n",
       "      <td>2020-02-04</td>\n",
       "    </tr>\n",
       "    <tr>\n",
       "      <th>6083323</th>\n",
       "      <td>595.00</td>\n",
       "      <td>2020-02-04 18:01:04</td>\n",
       "      <td>EUR</td>\n",
       "      <td>24a472a1dcbb1b7a2fa5f992d6c128132ae57b46</td>\n",
       "      <td>4722</td>\n",
       "      <td>3b51cee05a380029cab7a06e876d2c006b500752</td>\n",
       "      <td>523224******6700</td>\n",
       "      <td>undefined</td>\n",
       "      <td>EURO KARTENSYSTEME GMBH</td>\n",
       "      <td>MasterCard</td>\n",
       "      <td>2020-02-04 18</td>\n",
       "      <td>2020-02-04</td>\n",
       "    </tr>\n",
       "    <tr>\n",
       "      <th>6089870</th>\n",
       "      <td>582.00</td>\n",
       "      <td>2020-02-04 18:48:42</td>\n",
       "      <td>EUR</td>\n",
       "      <td>f137ab54acc76c35f39c4e602dc985db73d1e955</td>\n",
       "      <td>6012</td>\n",
       "      <td>6ae3b9aa54b0f1293c516e467ba98b1617f3a320</td>\n",
       "      <td>543013******4499</td>\n",
       "      <td>ITA</td>\n",
       "      <td>BANCA NAZIONALE DEL LAVORO S.P.A. - BNL</td>\n",
       "      <td>MasterCard</td>\n",
       "      <td>2020-02-04 18</td>\n",
       "      <td>2020-02-04</td>\n",
       "    </tr>\n",
       "    <tr>\n",
       "      <th>6090107</th>\n",
       "      <td>582.00</td>\n",
       "      <td>2020-02-04 18:50:28</td>\n",
       "      <td>EUR</td>\n",
       "      <td>f137ab54acc76c35f39c4e602dc985db73d1e955</td>\n",
       "      <td>6012</td>\n",
       "      <td>6ae3b9aa54b0f1293c516e467ba98b1617f3a320</td>\n",
       "      <td>543013******4499</td>\n",
       "      <td>ITA</td>\n",
       "      <td>BANCA NAZIONALE DEL LAVORO S.P.A. - BNL</td>\n",
       "      <td>MasterCard</td>\n",
       "      <td>2020-02-04 18</td>\n",
       "      <td>2020-02-04</td>\n",
       "    </tr>\n",
       "    <tr>\n",
       "      <th>6089724</th>\n",
       "      <td>582.00</td>\n",
       "      <td>2020-02-04 18:47:41</td>\n",
       "      <td>EUR</td>\n",
       "      <td>f137ab54acc76c35f39c4e602dc985db73d1e955</td>\n",
       "      <td>6012</td>\n",
       "      <td>6ae3b9aa54b0f1293c516e467ba98b1617f3a320</td>\n",
       "      <td>543013******4499</td>\n",
       "      <td>ITA</td>\n",
       "      <td>BANCA NAZIONALE DEL LAVORO S.P.A. - BNL</td>\n",
       "      <td>MasterCard</td>\n",
       "      <td>2020-02-04 18</td>\n",
       "      <td>2020-02-04</td>\n",
       "    </tr>\n",
       "    <tr>\n",
       "      <th>6090905</th>\n",
       "      <td>515.00</td>\n",
       "      <td>2020-02-04 18:56:28</td>\n",
       "      <td>EUR</td>\n",
       "      <td>24a472a1dcbb1b7a2fa5f992d6c128132ae57b46</td>\n",
       "      <td>4722</td>\n",
       "      <td>3b51cee05a380029cab7a06e876d2c006b500752</td>\n",
       "      <td>535585******1844</td>\n",
       "      <td>undefined</td>\n",
       "      <td>undefined</td>\n",
       "      <td>MasterCard</td>\n",
       "      <td>2020-02-04 18</td>\n",
       "      <td>2020-02-04</td>\n",
       "    </tr>\n",
       "    <tr>\n",
       "      <th>6085736</th>\n",
       "      <td>500.00</td>\n",
       "      <td>2020-02-04 18:20:38</td>\n",
       "      <td>EUR</td>\n",
       "      <td>539c7bee567c1a585393a6c99f8cda86b9f8905a</td>\n",
       "      <td>6211</td>\n",
       "      <td>f0660cc875a7f0cfa90cab60dda8eef9f4121e9c</td>\n",
       "      <td>554001******6012</td>\n",
       "      <td>ESP</td>\n",
       "      <td>MASTERCAJAS, S.A.</td>\n",
       "      <td>MasterCard</td>\n",
       "      <td>2020-02-04 18</td>\n",
       "      <td>2020-02-04</td>\n",
       "    </tr>\n",
       "    <tr>\n",
       "      <th>6086867</th>\n",
       "      <td>485.98</td>\n",
       "      <td>2020-02-04 18:30:21</td>\n",
       "      <td>EUR</td>\n",
       "      <td>24a472a1dcbb1b7a2fa5f992d6c128132ae57b46</td>\n",
       "      <td>4722</td>\n",
       "      <td>3b51cee05a380029cab7a06e876d2c006b500752</td>\n",
       "      <td>499897******5125</td>\n",
       "      <td>undefined</td>\n",
       "      <td>BAYERISCHE LANDESBANK</td>\n",
       "      <td>VISA card</td>\n",
       "      <td>2020-02-04 18</td>\n",
       "      <td>2020-02-04</td>\n",
       "    </tr>\n",
       "    <tr>\n",
       "      <th>6085013</th>\n",
       "      <td>348.00</td>\n",
       "      <td>2020-02-04 18:14:39</td>\n",
       "      <td>EUR</td>\n",
       "      <td>07fad85be2568adc5613bf76aeaca73ad731ccd9</td>\n",
       "      <td>4121</td>\n",
       "      <td>9678b87bc4e7cbb263f7c42a7eb8aa88086ad2d1</td>\n",
       "      <td>548401******6061</td>\n",
       "      <td>undefined</td>\n",
       "      <td>SAVINGS BANK OF THE RUSSIAN FEDERATION (SBERBANK)</td>\n",
       "      <td>MasterCard</td>\n",
       "      <td>2020-02-04 18</td>\n",
       "      <td>2020-02-04</td>\n",
       "    </tr>\n",
       "    <tr>\n",
       "      <th>6090798</th>\n",
       "      <td>320.00</td>\n",
       "      <td>2020-02-04 18:55:34</td>\n",
       "      <td>EUR</td>\n",
       "      <td>184a66b736787b0cc715c6b5b9fd18618dfd998b</td>\n",
       "      <td>6051</td>\n",
       "      <td>d816262b4b2aa834b6b4c6d989b48c03b056f2b4</td>\n",
       "      <td>427613******4010</td>\n",
       "      <td>RUS</td>\n",
       "      <td>SAVINGS BANK OF THE RUSSIAN FEDERATION (SBERBANK)</td>\n",
       "      <td>VISA card</td>\n",
       "      <td>2020-02-04 18</td>\n",
       "      <td>2020-02-04</td>\n",
       "    </tr>\n",
       "    <tr>\n",
       "      <th>6083919</th>\n",
       "      <td>284.95</td>\n",
       "      <td>2020-02-04 18:05:59</td>\n",
       "      <td>EUR</td>\n",
       "      <td>7df8a180c05d44d79f035f4588aca0f9155070de</td>\n",
       "      <td>6300</td>\n",
       "      <td>6be658d520acce55bdba93ccdb86dfe8e5c65a84</td>\n",
       "      <td>516793******8557</td>\n",
       "      <td>LTU</td>\n",
       "      <td>SWEDBANK AB</td>\n",
       "      <td>MasterCard</td>\n",
       "      <td>2020-02-04 18</td>\n",
       "      <td>2020-02-04</td>\n",
       "    </tr>\n",
       "  </tbody>\n",
       "</table>\n",
       "</div>"
      ],
      "text/plain": [
       "          amount              created currency  \\\n",
       "6086160  5000.00  2020-02-04 18:24:02      EUR   \n",
       "6085877  2200.00  2020-02-04 18:21:54      EUR   \n",
       "6090666  1500.00  2020-02-04 18:54:38      EUR   \n",
       "6088745  1416.80  2020-02-04 18:40:07      EUR   \n",
       "6088176  1000.00  2020-02-04 18:36:54      EUR   \n",
       "6090228   900.00  2020-02-04 18:51:19      EUR   \n",
       "6084520   827.99  2020-02-04 18:10:46      EUR   \n",
       "6090702   701.00  2020-02-04 18:54:52      EUR   \n",
       "6088557   620.00  2020-02-04 18:38:43      EUR   \n",
       "6083292   615.00  2020-02-04 18:00:49      EUR   \n",
       "6083323   595.00  2020-02-04 18:01:04      EUR   \n",
       "6089870   582.00  2020-02-04 18:48:42      EUR   \n",
       "6090107   582.00  2020-02-04 18:50:28      EUR   \n",
       "6089724   582.00  2020-02-04 18:47:41      EUR   \n",
       "6090905   515.00  2020-02-04 18:56:28      EUR   \n",
       "6085736   500.00  2020-02-04 18:20:38      EUR   \n",
       "6086867   485.98  2020-02-04 18:30:21      EUR   \n",
       "6085013   348.00  2020-02-04 18:14:39      EUR   \n",
       "6090798   320.00  2020-02-04 18:55:34      EUR   \n",
       "6083919   284.95  2020-02-04 18:05:59      EUR   \n",
       "\n",
       "                                      terminal_id   mcc  \\\n",
       "6086160  184a66b736787b0cc715c6b5b9fd18618dfd998b  6051   \n",
       "6085877  b81854eabb23a43276fecc7f86ed4df0d7fdc7b3  8641   \n",
       "6090666  184a66b736787b0cc715c6b5b9fd18618dfd998b  6051   \n",
       "6088745  4c51162536a57a0ef466ea17767e1dbd32db2305  6012   \n",
       "6088176  539c7bee567c1a585393a6c99f8cda86b9f8905a  6211   \n",
       "6090228  f137ab54acc76c35f39c4e602dc985db73d1e955  6012   \n",
       "6084520  f6d0c7f29c8601b8d959604d0907b36011278532  4722   \n",
       "6090702  24a472a1dcbb1b7a2fa5f992d6c128132ae57b46  4722   \n",
       "6088557  879fdf80a6c1c20e3772f433c4e390fdce247adc  6211   \n",
       "6083292  f6d0c7f29c8601b8d959604d0907b36011278532  4722   \n",
       "6083323  24a472a1dcbb1b7a2fa5f992d6c128132ae57b46  4722   \n",
       "6089870  f137ab54acc76c35f39c4e602dc985db73d1e955  6012   \n",
       "6090107  f137ab54acc76c35f39c4e602dc985db73d1e955  6012   \n",
       "6089724  f137ab54acc76c35f39c4e602dc985db73d1e955  6012   \n",
       "6090905  24a472a1dcbb1b7a2fa5f992d6c128132ae57b46  4722   \n",
       "6085736  539c7bee567c1a585393a6c99f8cda86b9f8905a  6211   \n",
       "6086867  24a472a1dcbb1b7a2fa5f992d6c128132ae57b46  4722   \n",
       "6085013  07fad85be2568adc5613bf76aeaca73ad731ccd9  4121   \n",
       "6090798  184a66b736787b0cc715c6b5b9fd18618dfd998b  6051   \n",
       "6083919  7df8a180c05d44d79f035f4588aca0f9155070de  6300   \n",
       "\n",
       "                                       project_id       card_masked  \\\n",
       "6086160  d816262b4b2aa834b6b4c6d989b48c03b056f2b4  427613******4010   \n",
       "6085877  8e7ca09b25c7e959b55c2790b6a2bdcb5d56d2cb  552175******3464   \n",
       "6090666  d816262b4b2aa834b6b4c6d989b48c03b056f2b4  516744******2460   \n",
       "6088745  578f9d2a193db043c6648bdd229cdd9d76279bc7  440577******0871   \n",
       "6088176  f0660cc875a7f0cfa90cab60dda8eef9f4121e9c  454617******3014   \n",
       "6090228  6ae3b9aa54b0f1293c516e467ba98b1617f3a320  543013******4499   \n",
       "6084520  fe79f81d11c5d1cb31dd5507154f1e69c779d560  548133******3489   \n",
       "6090702  3b51cee05a380029cab7a06e876d2c006b500752  493000******1329   \n",
       "6088557  cb9d4c6de0d1d76062d7fc356b11b8fd80b5f518  474503******4483   \n",
       "6083292  fe79f81d11c5d1cb31dd5507154f1e69c779d560  456353******3040   \n",
       "6083323  3b51cee05a380029cab7a06e876d2c006b500752  523224******6700   \n",
       "6089870  6ae3b9aa54b0f1293c516e467ba98b1617f3a320  543013******4499   \n",
       "6090107  6ae3b9aa54b0f1293c516e467ba98b1617f3a320  543013******4499   \n",
       "6089724  6ae3b9aa54b0f1293c516e467ba98b1617f3a320  543013******4499   \n",
       "6090905  3b51cee05a380029cab7a06e876d2c006b500752  535585******1844   \n",
       "6085736  f0660cc875a7f0cfa90cab60dda8eef9f4121e9c  554001******6012   \n",
       "6086867  3b51cee05a380029cab7a06e876d2c006b500752  499897******5125   \n",
       "6085013  9678b87bc4e7cbb263f7c42a7eb8aa88086ad2d1  548401******6061   \n",
       "6090798  d816262b4b2aa834b6b4c6d989b48c03b056f2b4  427613******4010   \n",
       "6083919  6be658d520acce55bdba93ccdb86dfe8e5c65a84  516793******8557   \n",
       "\n",
       "           country                                          bank_name  \\\n",
       "6086160        RUS  SAVINGS BANK OF THE RUSSIAN FEDERATION (SBERBANK)   \n",
       "6085877  undefined               COMMERCIAL INNOVATION BANK ALFA-BANK   \n",
       "6090666        LTU                                      SEB BANKAS AB   \n",
       "6088745        SVK                                  TATRA BANKA, A.S.   \n",
       "6088176        DEU                                        ING-DIBA AG   \n",
       "6090228        ITA            BANCA NAZIONALE DEL LAVORO S.P.A. - BNL   \n",
       "6084520  undefined                     INTERNATIONAL CARD SERVICES BV   \n",
       "6090702  undefined                                          undefined   \n",
       "6088557        LVA                     G-T-P FINANCIAL SERVICES, LTD.   \n",
       "6083292  undefined                   INTERNATIONAL CARD SERVICES B.V.   \n",
       "6083323  undefined                            EURO KARTENSYSTEME GMBH   \n",
       "6089870        ITA            BANCA NAZIONALE DEL LAVORO S.P.A. - BNL   \n",
       "6090107        ITA            BANCA NAZIONALE DEL LAVORO S.P.A. - BNL   \n",
       "6089724        ITA            BANCA NAZIONALE DEL LAVORO S.P.A. - BNL   \n",
       "6090905  undefined                                          undefined   \n",
       "6085736        ESP                                  MASTERCAJAS, S.A.   \n",
       "6086867  undefined                              BAYERISCHE LANDESBANK   \n",
       "6085013  undefined  SAVINGS BANK OF THE RUSSIAN FEDERATION (SBERBANK)   \n",
       "6090798        RUS  SAVINGS BANK OF THE RUSSIAN FEDERATION (SBERBANK)   \n",
       "6083919        LTU                                        SWEDBANK AB   \n",
       "\n",
       "          card_type      date_hour   date_only  \n",
       "6086160   VISA card  2020-02-04 18  2020-02-04  \n",
       "6085877  MasterCard  2020-02-04 18  2020-02-04  \n",
       "6090666  MasterCard  2020-02-04 18  2020-02-04  \n",
       "6088745   VISA card  2020-02-04 18  2020-02-04  \n",
       "6088176   VISA card  2020-02-04 18  2020-02-04  \n",
       "6090228  MasterCard  2020-02-04 18  2020-02-04  \n",
       "6084520  MasterCard  2020-02-04 18  2020-02-04  \n",
       "6090702   VISA card  2020-02-04 18  2020-02-04  \n",
       "6088557   VISA card  2020-02-04 18  2020-02-04  \n",
       "6083292   VISA card  2020-02-04 18  2020-02-04  \n",
       "6083323  MasterCard  2020-02-04 18  2020-02-04  \n",
       "6089870  MasterCard  2020-02-04 18  2020-02-04  \n",
       "6090107  MasterCard  2020-02-04 18  2020-02-04  \n",
       "6089724  MasterCard  2020-02-04 18  2020-02-04  \n",
       "6090905  MasterCard  2020-02-04 18  2020-02-04  \n",
       "6085736  MasterCard  2020-02-04 18  2020-02-04  \n",
       "6086867   VISA card  2020-02-04 18  2020-02-04  \n",
       "6085013  MasterCard  2020-02-04 18  2020-02-04  \n",
       "6090798   VISA card  2020-02-04 18  2020-02-04  \n",
       "6083919  MasterCard  2020-02-04 18  2020-02-04  "
      ]
     },
     "execution_count": 528,
     "metadata": {},
     "output_type": "execute_result"
    }
   ],
   "source": [
    "mask = dt.date_hour == '2020-02-04 18'#'2020-02-07 11'\n",
    "tmp = dt[mask].copy()\n",
    "tmp.sort_values(by='amount', ascending=False, inplace=True)\n",
    "tmp.head(20)"
   ]
  },
  {
   "cell_type": "code",
   "execution_count": 450,
   "metadata": {},
   "outputs": [],
   "source": [
    "# str(Counter(dt.bank_name))"
   ]
  },
  {
   "cell_type": "code",
   "execution_count": 456,
   "metadata": {},
   "outputs": [],
   "source": [
    "# mask =tmp.bank_name.str.startswith('POSTE ITALIANE')\n",
    "# tmp1 = tmp[mask]                                   "
   ]
  },
  {
   "cell_type": "code",
   "execution_count": 458,
   "metadata": {},
   "outputs": [],
   "source": [
    "# tmp1"
   ]
  },
  {
   "cell_type": "code",
   "execution_count": 431,
   "metadata": {},
   "outputs": [],
   "source": [
    "# dt.amount.describe()"
   ]
  },
  {
   "cell_type": "code",
   "execution_count": 385,
   "metadata": {},
   "outputs": [],
   "source": [
    "# Counter(dt.country)"
   ]
  },
  {
   "cell_type": "code",
   "execution_count": 384,
   "metadata": {},
   "outputs": [],
   "source": [
    "# Counter(tmp.country)"
   ]
  },
  {
   "cell_type": "code",
   "execution_count": 487,
   "metadata": {},
   "outputs": [],
   "source": [
    "# str(list(forecast_anomaly))"
   ]
  },
  {
   "cell_type": "code",
   "execution_count": 524,
   "metadata": {},
   "outputs": [],
   "source": [
    "col_names = ['ds', 'y1', 'yhat1', 'std_deviation', 'n', 'info', 'anomaly_coef', 'n_bank_TATRA BANKA, A.', 'std_bank_TATRA BANKA, A.', 'n_bank_PAYLIFE BANK GM', 'std_bank_PAYLIFE BANK GM']\n",
    "# f = forecast_anomaly[col_names].copy()\n",
    "# f# "
   ]
  },
  {
   "cell_type": "code",
   "execution_count": 525,
   "metadata": {},
   "outputs": [],
   "source": [
    "col_rus = ['Дата','amount', 'amount предсказанный','Коэффициент отклонения', 'Кол-во платежей', 'Информация по сегменту','Коэффициент аномальности' ]"
   ]
  },
  {
   "cell_type": "code",
   "execution_count": 526,
   "metadata": {},
   "outputs": [
    {
     "data": {
      "text/html": [
       "<div>\n",
       "<style scoped>\n",
       "    .dataframe tbody tr th:only-of-type {\n",
       "        vertical-align: middle;\n",
       "    }\n",
       "\n",
       "    .dataframe tbody tr th {\n",
       "        vertical-align: top;\n",
       "    }\n",
       "\n",
       "    .dataframe thead th {\n",
       "        text-align: right;\n",
       "    }\n",
       "</style>\n",
       "<table border=\"1\" class=\"dataframe\">\n",
       "  <thead>\n",
       "    <tr style=\"text-align: right;\">\n",
       "      <th></th>\n",
       "      <th>Дата</th>\n",
       "      <th>amount</th>\n",
       "      <th>amount предсказанный</th>\n",
       "      <th>Коэффициент отклонения</th>\n",
       "      <th>Кол-во платежей</th>\n",
       "      <th>Информация по сегменту</th>\n",
       "      <th>Коэффициент аномальности</th>\n",
       "    </tr>\n",
       "  </thead>\n",
       "  <tbody>\n",
       "    <tr>\n",
       "      <th>769</th>\n",
       "      <td>2020-02-02 01:00:00</td>\n",
       "      <td>34136.67</td>\n",
       "      <td>1677.34</td>\n",
       "      <td>3.69</td>\n",
       "      <td>89</td>\n",
       "      <td>{'pid_ccc9614c2213e29': {'коэф. отклонения': 4.49, 'кол-во': 5}, 'pid_f0660cc875a7f0c': {'коэф. отклонения': 5.54, 'кол-во': 3}}</td>\n",
       "      <td>1.47</td>\n",
       "    </tr>\n",
       "    <tr>\n",
       "      <th>804</th>\n",
       "      <td>2020-02-03 12:00:00</td>\n",
       "      <td>32988.94</td>\n",
       "      <td>13141.23</td>\n",
       "      <td>2.26</td>\n",
       "      <td>270</td>\n",
       "      <td>{'pid_82b5880791d652e': {'коэф. отклонения': 2.82, 'кол-во': 51}, 'pid_28fc116c49b57c0': {'коэф. отклонения': 2.43, 'кол-во': 5}, 'pid_3f2c967509c8009': {'коэф. отклонения': 3.49, 'кол-во': 16}, 'pid_df15cba3e575416': {'коэф. отклонения': 2.11, 'кол-во': 12}, 'pid_461b31c4395a879': {'коэф. отклонения': 6.18, 'кол-во': 5}}</td>\n",
       "      <td>2.46</td>\n",
       "    </tr>\n",
       "    <tr>\n",
       "      <th>805</th>\n",
       "      <td>2020-02-03 13:00:00</td>\n",
       "      <td>28336.46</td>\n",
       "      <td>11506.17</td>\n",
       "      <td>1.91</td>\n",
       "      <td>375</td>\n",
       "      <td>{'pid_fe79f81d11c5d1c': {'коэф. отклонения': 1.64, 'кол-во': 2}, 'pid_454fe97686ecc4a': {'коэф. отклонения': 1.55, 'кол-во': 6}, 'pid_9678b87bc4e7cbb': {'коэф. отклонения': 3.35, 'кол-во': 6}, 'pid_3b51cee05a38002': {'коэф. отклонения': 1.95, 'кол-во': 3}, 'pid_df15cba3e575416': {'коэф. отклонения': 3.04, 'кол-во': 14}, 'pid_b3cf5250cf7e57b': {'коэф. отклонения': 4.98, 'кол-во': 192}}</td>\n",
       "      <td>2.32</td>\n",
       "    </tr>\n",
       "    <tr>\n",
       "      <th>808</th>\n",
       "      <td>2020-02-03 16:00:00</td>\n",
       "      <td>26005.96</td>\n",
       "      <td>12457.32</td>\n",
       "      <td>1.54</td>\n",
       "      <td>255</td>\n",
       "      <td>{'pid_9678b87bc4e7cbb': {'коэф. отклонения': 2.1, 'кол-во': 6}, 'pid_c6fbb009ed8f91b': {'коэф. отклонения': 3.65, 'кол-во': 4}, 'pid_ff8c3ba0b6ad9c1': {'коэф. отклонения': 1.93, 'кол-во': 3}, 'pid_28fc116c49b57c0': {'коэф. отклонения': 1.58, 'кол-во': 1}, 'pid_cc585aeeba53f49': {'коэф. отклонения': 2.66, 'кол-во': 5}}</td>\n",
       "      <td>2.04</td>\n",
       "    </tr>\n",
       "    <tr>\n",
       "      <th>810</th>\n",
       "      <td>2020-02-03 18:00:00</td>\n",
       "      <td>31150.35</td>\n",
       "      <td>12457.16</td>\n",
       "      <td>2.13</td>\n",
       "      <td>223</td>\n",
       "      <td>{'pid_ccc9614c2213e29': {'коэф. отклонения': 1.5, 'кол-во': 7}, 'pid_9678b87bc4e7cbb': {'коэф. отклонения': 3.1, 'кол-во': 5}, 'pid_578f9d2a193db04': {'коэф. отклонения': 6.09, 'кол-во': 7}}</td>\n",
       "      <td>1.61</td>\n",
       "    </tr>\n",
       "    <tr>\n",
       "      <th>829</th>\n",
       "      <td>2020-02-04 13:00:00</td>\n",
       "      <td>26517.54</td>\n",
       "      <td>11792.54</td>\n",
       "      <td>1.68</td>\n",
       "      <td>213</td>\n",
       "      <td>{'pid_3b51cee05a38002': {'коэф. отклонения': 3.12, 'кол-во': 6}, 'pid_82b5880791d652e': {'коэф. отклонения': 1.67, 'кол-во': 24}, 'pid_ff8c3ba0b6ad9c1': {'коэф. отклонения': 4.3, 'кол-во': 3}, 'pid_3f2c967509c8009': {'коэф. отклонения': 2.02, 'кол-во': 9}, 'pid_8e7ca09b25c7e95': {'коэф. отклонения': 2.9, 'кол-во': 2}, 'pid_cfac4e89373c4cc': {'коэф. отклонения': 7.26, 'кол-во': 4}}</td>\n",
       "      <td>3.27</td>\n",
       "    </tr>\n",
       "    <tr>\n",
       "      <th>834</th>\n",
       "      <td>2020-02-04 18:00:00</td>\n",
       "      <td>28353.99</td>\n",
       "      <td>12762.58</td>\n",
       "      <td>1.77</td>\n",
       "      <td>227</td>\n",
       "      <td>{'pid_6ae3b9aa54b0f12': {'коэф. отклонения': 3.81, 'кол-во': 14}}</td>\n",
       "      <td>0.84</td>\n",
       "    </tr>\n",
       "    <tr>\n",
       "      <th>839</th>\n",
       "      <td>2020-02-04 23:00:00</td>\n",
       "      <td>23332.72</td>\n",
       "      <td>8560.84</td>\n",
       "      <td>1.68</td>\n",
       "      <td>167</td>\n",
       "      <td>{'pid_3b51cee05a38002': {'коэф. отклонения': 4.08, 'кол-во': 7}, 'pid_f0660cc875a7f0c': {'коэф. отклонения': 1.52, 'кол-во': 2}}</td>\n",
       "      <td>1.87</td>\n",
       "    </tr>\n",
       "    <tr>\n",
       "      <th>858</th>\n",
       "      <td>2020-02-05 18:00:00</td>\n",
       "      <td>52543.09</td>\n",
       "      <td>12156.30</td>\n",
       "      <td>4.60</td>\n",
       "      <td>238</td>\n",
       "      <td>{'pid_ccc9614c2213e29': {'коэф. отклонения': 1.77, 'кол-во': 7}, 'pid_f0660cc875a7f0c': {'коэф. отклонения': 7.42, 'кол-во': 5}, 'pid_6ae3b9aa54b0f12': {'коэф. отклонения': 1.63, 'кол-во': 5}, 'pid_51dfe45c685dbb9': {'коэф. отклонения': 3.56, 'кол-во': 1}}</td>\n",
       "      <td>1.73</td>\n",
       "    </tr>\n",
       "    <tr>\n",
       "      <th>863</th>\n",
       "      <td>2020-02-05 23:00:00</td>\n",
       "      <td>25493.13</td>\n",
       "      <td>7823.66</td>\n",
       "      <td>2.01</td>\n",
       "      <td>197</td>\n",
       "      <td>{'pid_224f3d3120309f9': {'коэф. отклонения': 1.54, 'кол-во': 125}, 'pid_3b51cee05a38002': {'коэф. отклонения': 1.67, 'кол-во': 3}, 'pid_461b31c4395a879': {'коэф. отклонения': 5.54, 'кол-во': 5}}</td>\n",
       "      <td>1.75</td>\n",
       "    </tr>\n",
       "    <tr>\n",
       "      <th>876</th>\n",
       "      <td>2020-02-06 12:00:00</td>\n",
       "      <td>37591.40</td>\n",
       "      <td>13088.76</td>\n",
       "      <td>2.79</td>\n",
       "      <td>370</td>\n",
       "      <td>{'pid_3e1c59c70af87dc': {'коэф. отклонения': 4.66, 'кол-во': 83}, 'pid_9678b87bc4e7cbb': {'коэф. отклонения': 3.29, 'кол-во': 13}, 'pid_ff8c3ba0b6ad9c1': {'коэф. отклонения': 1.55, 'кол-во': 4}, 'pid_28fc116c49b57c0': {'коэф. отклонения': 3.89, 'кол-во': 4}, 'pid_51dfe45c685dbb9': {'коэф. отклонения': 4.37, 'кол-во': 1}}</td>\n",
       "      <td>2.13</td>\n",
       "    </tr>\n",
       "    <tr>\n",
       "      <th>899</th>\n",
       "      <td>2020-02-07 11:00:00</td>\n",
       "      <td>40561.31</td>\n",
       "      <td>15380.82</td>\n",
       "      <td>2.87</td>\n",
       "      <td>242</td>\n",
       "      <td>{'pid_f0660cc875a7f0c': {'коэф. отклонения': 2.08, 'кол-во': 6}, 'pid_51dfe45c685dbb9': {'коэф. отклонения': 4.84, 'кол-во': 1}}</td>\n",
       "      <td>0.83</td>\n",
       "    </tr>\n",
       "  </tbody>\n",
       "</table>\n",
       "</div>"
      ],
      "text/plain": [
       "                   Дата    amount  amount предсказанный  \\\n",
       "769 2020-02-02 01:00:00  34136.67               1677.34   \n",
       "804 2020-02-03 12:00:00  32988.94              13141.23   \n",
       "805 2020-02-03 13:00:00  28336.46              11506.17   \n",
       "808 2020-02-03 16:00:00  26005.96              12457.32   \n",
       "810 2020-02-03 18:00:00  31150.35              12457.16   \n",
       "829 2020-02-04 13:00:00  26517.54              11792.54   \n",
       "834 2020-02-04 18:00:00  28353.99              12762.58   \n",
       "839 2020-02-04 23:00:00  23332.72               8560.84   \n",
       "858 2020-02-05 18:00:00  52543.09              12156.30   \n",
       "863 2020-02-05 23:00:00  25493.13               7823.66   \n",
       "876 2020-02-06 12:00:00  37591.40              13088.76   \n",
       "899 2020-02-07 11:00:00  40561.31              15380.82   \n",
       "\n",
       "     Коэффициент отклонения  Кол-во платежей  \\\n",
       "769                    3.69               89   \n",
       "804                    2.26              270   \n",
       "805                    1.91              375   \n",
       "808                    1.54              255   \n",
       "810                    2.13              223   \n",
       "829                    1.68              213   \n",
       "834                    1.77              227   \n",
       "839                    1.68              167   \n",
       "858                    4.60              238   \n",
       "863                    2.01              197   \n",
       "876                    2.79              370   \n",
       "899                    2.87              242   \n",
       "\n",
       "                                                                                                                                                                                                                                                                                                                                                                                  Информация по сегменту  \\\n",
       "769                                                                                                                                                                                                                                                                     {'pid_ccc9614c2213e29': {'коэф. отклонения': 4.49, 'кол-во': 5}, 'pid_f0660cc875a7f0c': {'коэф. отклонения': 5.54, 'кол-во': 3}}   \n",
       "804                                                                  {'pid_82b5880791d652e': {'коэф. отклонения': 2.82, 'кол-во': 51}, 'pid_28fc116c49b57c0': {'коэф. отклонения': 2.43, 'кол-во': 5}, 'pid_3f2c967509c8009': {'коэф. отклонения': 3.49, 'кол-во': 16}, 'pid_df15cba3e575416': {'коэф. отклонения': 2.11, 'кол-во': 12}, 'pid_461b31c4395a879': {'коэф. отклонения': 6.18, 'кол-во': 5}}   \n",
       "805  {'pid_fe79f81d11c5d1c': {'коэф. отклонения': 1.64, 'кол-во': 2}, 'pid_454fe97686ecc4a': {'коэф. отклонения': 1.55, 'кол-во': 6}, 'pid_9678b87bc4e7cbb': {'коэф. отклонения': 3.35, 'кол-во': 6}, 'pid_3b51cee05a38002': {'коэф. отклонения': 1.95, 'кол-во': 3}, 'pid_df15cba3e575416': {'коэф. отклонения': 3.04, 'кол-во': 14}, 'pid_b3cf5250cf7e57b': {'коэф. отклонения': 4.98, 'кол-во': 192}}   \n",
       "808                                                                      {'pid_9678b87bc4e7cbb': {'коэф. отклонения': 2.1, 'кол-во': 6}, 'pid_c6fbb009ed8f91b': {'коэф. отклонения': 3.65, 'кол-во': 4}, 'pid_ff8c3ba0b6ad9c1': {'коэф. отклонения': 1.93, 'кол-во': 3}, 'pid_28fc116c49b57c0': {'коэф. отклонения': 1.58, 'кол-во': 1}, 'pid_cc585aeeba53f49': {'коэф. отклонения': 2.66, 'кол-во': 5}}   \n",
       "810                                                                                                                                                                                                       {'pid_ccc9614c2213e29': {'коэф. отклонения': 1.5, 'кол-во': 7}, 'pid_9678b87bc4e7cbb': {'коэф. отклонения': 3.1, 'кол-во': 5}, 'pid_578f9d2a193db04': {'коэф. отклонения': 6.09, 'кол-во': 7}}   \n",
       "829      {'pid_3b51cee05a38002': {'коэф. отклонения': 3.12, 'кол-во': 6}, 'pid_82b5880791d652e': {'коэф. отклонения': 1.67, 'кол-во': 24}, 'pid_ff8c3ba0b6ad9c1': {'коэф. отклонения': 4.3, 'кол-во': 3}, 'pid_3f2c967509c8009': {'коэф. отклонения': 2.02, 'кол-во': 9}, 'pid_8e7ca09b25c7e95': {'коэф. отклонения': 2.9, 'кол-во': 2}, 'pid_cfac4e89373c4cc': {'коэф. отклонения': 7.26, 'кол-во': 4}}   \n",
       "834                                                                                                                                                                                                                                                                                                                                    {'pid_6ae3b9aa54b0f12': {'коэф. отклонения': 3.81, 'кол-во': 14}}   \n",
       "839                                                                                                                                                                                                                                                                     {'pid_3b51cee05a38002': {'коэф. отклонения': 4.08, 'кол-во': 7}, 'pid_f0660cc875a7f0c': {'коэф. отклонения': 1.52, 'кол-во': 2}}   \n",
       "858                                                                                                                                     {'pid_ccc9614c2213e29': {'коэф. отклонения': 1.77, 'кол-во': 7}, 'pid_f0660cc875a7f0c': {'коэф. отклонения': 7.42, 'кол-во': 5}, 'pid_6ae3b9aa54b0f12': {'коэф. отклонения': 1.63, 'кол-во': 5}, 'pid_51dfe45c685dbb9': {'коэф. отклонения': 3.56, 'кол-во': 1}}   \n",
       "863                                                                                                                                                                                                   {'pid_224f3d3120309f9': {'коэф. отклонения': 1.54, 'кол-во': 125}, 'pid_3b51cee05a38002': {'коэф. отклонения': 1.67, 'кол-во': 3}, 'pid_461b31c4395a879': {'коэф. отклонения': 5.54, 'кол-во': 5}}   \n",
       "876                                                                   {'pid_3e1c59c70af87dc': {'коэф. отклонения': 4.66, 'кол-во': 83}, 'pid_9678b87bc4e7cbb': {'коэф. отклонения': 3.29, 'кол-во': 13}, 'pid_ff8c3ba0b6ad9c1': {'коэф. отклонения': 1.55, 'кол-во': 4}, 'pid_28fc116c49b57c0': {'коэф. отклонения': 3.89, 'кол-во': 4}, 'pid_51dfe45c685dbb9': {'коэф. отклонения': 4.37, 'кол-во': 1}}   \n",
       "899                                                                                                                                                                                                                                                                     {'pid_f0660cc875a7f0c': {'коэф. отклонения': 2.08, 'кол-во': 6}, 'pid_51dfe45c685dbb9': {'коэф. отклонения': 4.84, 'кол-во': 1}}   \n",
       "\n",
       "     Коэффициент аномальности  \n",
       "769                      1.47  \n",
       "804                      2.46  \n",
       "805                      2.32  \n",
       "808                      2.04  \n",
       "810                      1.61  \n",
       "829                      3.27  \n",
       "834                      0.84  \n",
       "839                      1.87  \n",
       "858                      1.73  \n",
       "863                      1.75  \n",
       "876                      2.13  \n",
       "899                      0.83  "
      ]
     },
     "execution_count": 526,
     "metadata": {},
     "output_type": "execute_result"
    }
   ],
   "source": [
    "col_names = ['ds', 'y1', 'yhat1', 'std_deviation', 'n', 'info', 'anomaly_coef']\n",
    "f = forecast_anomaly[col_names].copy()\n",
    "f['yhat1'] = f['yhat1'].round(decimals=2)\n",
    "f['std_deviation'] = f['std_deviation'].round(decimals=2)\n",
    "f['n'] = f['n'].astype(int)\n",
    "f['anomaly_coef'] = f['anomaly_coef'].round(decimals=2)\n",
    "f.columns = col_rus\n",
    "f"
   ]
  },
  {
   "cell_type": "code",
   "execution_count": null,
   "metadata": {},
   "outputs": [],
   "source": [
    "Country, start_test = '2020-02-02 00'"
   ]
  },
  {
   "cell_type": "code",
   "execution_count": 350,
   "metadata": {},
   "outputs": [
    {
     "data": {
      "text/html": [
       "<div>\n",
       "<style scoped>\n",
       "    .dataframe tbody tr th:only-of-type {\n",
       "        vertical-align: middle;\n",
       "    }\n",
       "\n",
       "    .dataframe tbody tr th {\n",
       "        vertical-align: top;\n",
       "    }\n",
       "\n",
       "    .dataframe thead th {\n",
       "        text-align: right;\n",
       "    }\n",
       "</style>\n",
       "<table border=\"1\" class=\"dataframe\">\n",
       "  <thead>\n",
       "    <tr style=\"text-align: right;\">\n",
       "      <th></th>\n",
       "      <th>ds</th>\n",
       "      <th>y1</th>\n",
       "      <th>yhat1</th>\n",
       "      <th>std_deviation</th>\n",
       "      <th>n</th>\n",
       "      <th>info</th>\n",
       "      <th>anomaly_coef</th>\n",
       "    </tr>\n",
       "  </thead>\n",
       "  <tbody>\n",
       "    <tr>\n",
       "      <th>769</th>\n",
       "      <td>2020-02-02 01:00:00</td>\n",
       "      <td>34136.67</td>\n",
       "      <td>1532.095215</td>\n",
       "      <td>3.709784</td>\n",
       "      <td>89.0</td>\n",
       "      <td>{'country_NCL': {'std_dev': 2.77, 'n': 5}, 'country_MNE': {'std_dev': 1.7, 'n': 5}, 'country_COL': {'std_dev': 2.03, 'n': 3}}</td>\n",
       "      <td>1.8504</td>\n",
       "    </tr>\n",
       "    <tr>\n",
       "      <th>804</th>\n",
       "      <td>2020-02-03 12:00:00</td>\n",
       "      <td>32988.94</td>\n",
       "      <td>13192.273438</td>\n",
       "      <td>2.252486</td>\n",
       "      <td>270.0</td>\n",
       "      <td>{'country_ITA': {'std_dev': 2.29, 'n': 69}, 'country_ZAF': {'std_dev': 4.48, 'n': 18}}</td>\n",
       "      <td>2.5008</td>\n",
       "    </tr>\n",
       "    <tr>\n",
       "      <th>805</th>\n",
       "      <td>2020-02-03 13:00:00</td>\n",
       "      <td>28336.46</td>\n",
       "      <td>11535.201172</td>\n",
       "      <td>1.911666</td>\n",
       "      <td>375.0</td>\n",
       "      <td>{'country_FRA': {'std_dev': 5.84, 'n': 104}, 'country_ITA': {'std_dev': 4.7, 'n': 110}, 'country_PRT': {'std_dev': 4.43, 'n': 16}}</td>\n",
       "      <td>3.0612</td>\n",
       "    </tr>\n",
       "    <tr>\n",
       "      <th>808</th>\n",
       "      <td>2020-02-03 16:00:00</td>\n",
       "      <td>26005.96</td>\n",
       "      <td>12451.042969</td>\n",
       "      <td>1.542293</td>\n",
       "      <td>255.0</td>\n",
       "      <td>{}</td>\n",
       "      <td>1.5636</td>\n",
       "    </tr>\n",
       "    <tr>\n",
       "      <th>810</th>\n",
       "      <td>2020-02-03 18:00:00</td>\n",
       "      <td>31150.35</td>\n",
       "      <td>12586.349609</td>\n",
       "      <td>2.112232</td>\n",
       "      <td>223.0</td>\n",
       "      <td>{'country_ESP': {'std_dev': 2.56, 'n': 20}, 'country_BEL': {'std_dev': 2.67, 'n': 9}}</td>\n",
       "      <td>4.9188</td>\n",
       "    </tr>\n",
       "    <tr>\n",
       "      <th>829</th>\n",
       "      <td>2020-02-04 13:00:00</td>\n",
       "      <td>26517.54</td>\n",
       "      <td>11812.748047</td>\n",
       "      <td>1.673127</td>\n",
       "      <td>213.0</td>\n",
       "      <td>{'country_ZAF': {'std_dev': 4.48, 'n': 16}}</td>\n",
       "      <td>4.8480</td>\n",
       "    </tr>\n",
       "    <tr>\n",
       "      <th>834</th>\n",
       "      <td>2020-02-04 18:00:00</td>\n",
       "      <td>28353.99</td>\n",
       "      <td>12946.061523</td>\n",
       "      <td>1.753131</td>\n",
       "      <td>227.0</td>\n",
       "      <td>{'country_ITA': {'std_dev': 2.06, 'n': 15}, 'country_LTU': {'std_dev': 3.52, 'n': 6}, 'country_BEL': {'std_dev': 4.27, 'n': 9}, 'country_EST': {'std_dev': 3.86, 'n': 9}}</td>\n",
       "      <td>7.9044</td>\n",
       "    </tr>\n",
       "    <tr>\n",
       "      <th>839</th>\n",
       "      <td>2020-02-04 23:00:00</td>\n",
       "      <td>23332.72</td>\n",
       "      <td>8766.634766</td>\n",
       "      <td>1.657345</td>\n",
       "      <td>167.0</td>\n",
       "      <td>{}</td>\n",
       "      <td>4.2192</td>\n",
       "    </tr>\n",
       "    <tr>\n",
       "      <th>858</th>\n",
       "      <td>2020-02-05 18:00:00</td>\n",
       "      <td>52543.09</td>\n",
       "      <td>12445.910156</td>\n",
       "      <td>4.562301</td>\n",
       "      <td>238.0</td>\n",
       "      <td>{}</td>\n",
       "      <td>0.9216</td>\n",
       "    </tr>\n",
       "    <tr>\n",
       "      <th>863</th>\n",
       "      <td>2020-02-05 23:00:00</td>\n",
       "      <td>25493.13</td>\n",
       "      <td>8043.412109</td>\n",
       "      <td>1.985448</td>\n",
       "      <td>197.0</td>\n",
       "      <td>{'country_EST': {'std_dev': 2.64, 'n': 5}}</td>\n",
       "      <td>1.9380</td>\n",
       "    </tr>\n",
       "    <tr>\n",
       "      <th>876</th>\n",
       "      <td>2020-02-06 12:00:00</td>\n",
       "      <td>37591.40</td>\n",
       "      <td>13075.630859</td>\n",
       "      <td>2.789431</td>\n",
       "      <td>370.0</td>\n",
       "      <td>{'country_ESP': {'std_dev': 2.11, 'n': 85}, 'country_FRA': {'std_dev': 3.24, 'n': 75}, 'country_PRT': {'std_dev': 1.73, 'n': 9}}</td>\n",
       "      <td>4.1520</td>\n",
       "    </tr>\n",
       "    <tr>\n",
       "      <th>899</th>\n",
       "      <td>2020-02-07 11:00:00</td>\n",
       "      <td>40561.31</td>\n",
       "      <td>15135.626953</td>\n",
       "      <td>2.892962</td>\n",
       "      <td>242.0</td>\n",
       "      <td>{'country_ESP': {'std_dev': 1.76, 'n': 10}, 'country_EST': {'std_dev': 4.45, 'n': 5}}</td>\n",
       "      <td>5.1768</td>\n",
       "    </tr>\n",
       "  </tbody>\n",
       "</table>\n",
       "</div>"
      ],
      "text/plain": [
       "                     ds        y1         yhat1  std_deviation      n  \\\n",
       "769 2020-02-02 01:00:00  34136.67   1532.095215       3.709784   89.0   \n",
       "804 2020-02-03 12:00:00  32988.94  13192.273438       2.252486  270.0   \n",
       "805 2020-02-03 13:00:00  28336.46  11535.201172       1.911666  375.0   \n",
       "808 2020-02-03 16:00:00  26005.96  12451.042969       1.542293  255.0   \n",
       "810 2020-02-03 18:00:00  31150.35  12586.349609       2.112232  223.0   \n",
       "829 2020-02-04 13:00:00  26517.54  11812.748047       1.673127  213.0   \n",
       "834 2020-02-04 18:00:00  28353.99  12946.061523       1.753131  227.0   \n",
       "839 2020-02-04 23:00:00  23332.72   8766.634766       1.657345  167.0   \n",
       "858 2020-02-05 18:00:00  52543.09  12445.910156       4.562301  238.0   \n",
       "863 2020-02-05 23:00:00  25493.13   8043.412109       1.985448  197.0   \n",
       "876 2020-02-06 12:00:00  37591.40  13075.630859       2.789431  370.0   \n",
       "899 2020-02-07 11:00:00  40561.31  15135.626953       2.892962  242.0   \n",
       "\n",
       "                                                                                                                                                                          info  \\\n",
       "769                                              {'country_NCL': {'std_dev': 2.77, 'n': 5}, 'country_MNE': {'std_dev': 1.7, 'n': 5}, 'country_COL': {'std_dev': 2.03, 'n': 3}}   \n",
       "804                                                                                     {'country_ITA': {'std_dev': 2.29, 'n': 69}, 'country_ZAF': {'std_dev': 4.48, 'n': 18}}   \n",
       "805                                         {'country_FRA': {'std_dev': 5.84, 'n': 104}, 'country_ITA': {'std_dev': 4.7, 'n': 110}, 'country_PRT': {'std_dev': 4.43, 'n': 16}}   \n",
       "808                                                                                                                                                                         {}   \n",
       "810                                                                                      {'country_ESP': {'std_dev': 2.56, 'n': 20}, 'country_BEL': {'std_dev': 2.67, 'n': 9}}   \n",
       "829                                                                                                                                {'country_ZAF': {'std_dev': 4.48, 'n': 16}}   \n",
       "834  {'country_ITA': {'std_dev': 2.06, 'n': 15}, 'country_LTU': {'std_dev': 3.52, 'n': 6}, 'country_BEL': {'std_dev': 4.27, 'n': 9}, 'country_EST': {'std_dev': 3.86, 'n': 9}}   \n",
       "839                                                                                                                                                                         {}   \n",
       "858                                                                                                                                                                         {}   \n",
       "863                                                                                                                                 {'country_EST': {'std_dev': 2.64, 'n': 5}}   \n",
       "876                                           {'country_ESP': {'std_dev': 2.11, 'n': 85}, 'country_FRA': {'std_dev': 3.24, 'n': 75}, 'country_PRT': {'std_dev': 1.73, 'n': 9}}   \n",
       "899                                                                                      {'country_ESP': {'std_dev': 1.76, 'n': 10}, 'country_EST': {'std_dev': 4.45, 'n': 5}}   \n",
       "\n",
       "     anomaly_coef  \n",
       "769        1.8504  \n",
       "804        2.5008  \n",
       "805        3.0612  \n",
       "808        1.5636  \n",
       "810        4.9188  \n",
       "829        4.8480  \n",
       "834        7.9044  \n",
       "839        4.2192  \n",
       "858        0.9216  \n",
       "863        1.9380  \n",
       "876        4.1520  \n",
       "899        5.1768  "
      ]
     },
     "execution_count": 350,
     "metadata": {},
     "output_type": "execute_result"
    }
   ],
   "source": [
    "forecast_anomaly[col_names]"
   ]
  },
  {
   "cell_type": "markdown",
   "metadata": {},
   "source": [
    "Card_type, start_test = '2020-02-02 00'"
   ]
  },
  {
   "cell_type": "code",
   "execution_count": 220,
   "metadata": {},
   "outputs": [
    {
     "data": {
      "text/html": [
       "<div>\n",
       "<style scoped>\n",
       "    .dataframe tbody tr th:only-of-type {\n",
       "        vertical-align: middle;\n",
       "    }\n",
       "\n",
       "    .dataframe tbody tr th {\n",
       "        vertical-align: top;\n",
       "    }\n",
       "\n",
       "    .dataframe thead th {\n",
       "        text-align: right;\n",
       "    }\n",
       "</style>\n",
       "<table border=\"1\" class=\"dataframe\">\n",
       "  <thead>\n",
       "    <tr style=\"text-align: right;\">\n",
       "      <th></th>\n",
       "      <th>ds</th>\n",
       "      <th>y1</th>\n",
       "      <th>yhat1</th>\n",
       "      <th>std_deviation</th>\n",
       "      <th>n</th>\n",
       "      <th>info</th>\n",
       "      <th>anomaly_coef</th>\n",
       "    </tr>\n",
       "  </thead>\n",
       "  <tbody>\n",
       "    <tr>\n",
       "      <th>769</th>\n",
       "      <td>2020-02-02 01:00:00</td>\n",
       "      <td>34136.67</td>\n",
       "      <td>3103.744629</td>\n",
       "      <td>3.530960</td>\n",
       "      <td>89.0</td>\n",
       "      <td>{'card_type_VISA card': {'std_dev': 5.51, 'n': 47}}</td>\n",
       "      <td>0.4408</td>\n",
       "    </tr>\n",
       "    <tr>\n",
       "      <th>804</th>\n",
       "      <td>2020-02-03 12:00:00</td>\n",
       "      <td>32988.94</td>\n",
       "      <td>15119.093750</td>\n",
       "      <td>2.033251</td>\n",
       "      <td>270.0</td>\n",
       "      <td>{'card_type_VISA card': {'std_dev': 2.34, 'n': 128}}</td>\n",
       "      <td>0.1872</td>\n",
       "    </tr>\n",
       "    <tr>\n",
       "      <th>805</th>\n",
       "      <td>2020-02-03 13:00:00</td>\n",
       "      <td>28336.46</td>\n",
       "      <td>13672.524414</td>\n",
       "      <td>1.668479</td>\n",
       "      <td>375.0</td>\n",
       "      <td>{'card_type_VISA card': {'std_dev': 1.85, 'n': 171}}</td>\n",
       "      <td>0.2968</td>\n",
       "    </tr>\n",
       "    <tr>\n",
       "      <th>810</th>\n",
       "      <td>2020-02-03 18:00:00</td>\n",
       "      <td>31150.35</td>\n",
       "      <td>14672.636719</td>\n",
       "      <td>1.874852</td>\n",
       "      <td>223.0</td>\n",
       "      <td>{'card_type_VISA card': {'std_dev': 2.18, 'n': 118}}</td>\n",
       "      <td>0.1744</td>\n",
       "    </tr>\n",
       "    <tr>\n",
       "      <th>858</th>\n",
       "      <td>2020-02-05 18:00:00</td>\n",
       "      <td>52543.09</td>\n",
       "      <td>14939.529297</td>\n",
       "      <td>4.278574</td>\n",
       "      <td>238.0</td>\n",
       "      <td>{'card_type_VISA card': {'std_dev': 7.16, 'n': 122}}</td>\n",
       "      <td>0.5728</td>\n",
       "    </tr>\n",
       "    <tr>\n",
       "      <th>863</th>\n",
       "      <td>2020-02-05 23:00:00</td>\n",
       "      <td>25493.13</td>\n",
       "      <td>10618.674805</td>\n",
       "      <td>1.692432</td>\n",
       "      <td>197.0</td>\n",
       "      <td>{'card_type_VISA card': {'std_dev': 2.79, 'n': 94}}</td>\n",
       "      <td>0.2232</td>\n",
       "    </tr>\n",
       "    <tr>\n",
       "      <th>876</th>\n",
       "      <td>2020-02-06 12:00:00</td>\n",
       "      <td>37591.40</td>\n",
       "      <td>15719.859375</td>\n",
       "      <td>2.488568</td>\n",
       "      <td>370.0</td>\n",
       "      <td>{'card_type_MasterCard': {'std_dev': 1.55, 'n': 192}, 'card_type_VISA card': {'std_dev': 2.98, 'n': 170}}</td>\n",
       "      <td>0.3624</td>\n",
       "    </tr>\n",
       "    <tr>\n",
       "      <th>899</th>\n",
       "      <td>2020-02-07 11:00:00</td>\n",
       "      <td>40561.31</td>\n",
       "      <td>17708.994141</td>\n",
       "      <td>2.600161</td>\n",
       "      <td>242.0</td>\n",
       "      <td>{'card_type_VISA card': {'std_dev': 4.6, 'n': 122}}</td>\n",
       "      <td>0.3680</td>\n",
       "    </tr>\n",
       "  </tbody>\n",
       "</table>\n",
       "</div>"
      ],
      "text/plain": [
       "                     ds        y1         yhat1  std_deviation      n  \\\n",
       "769 2020-02-02 01:00:00  34136.67   3103.744629       3.530960   89.0   \n",
       "804 2020-02-03 12:00:00  32988.94  15119.093750       2.033251  270.0   \n",
       "805 2020-02-03 13:00:00  28336.46  13672.524414       1.668479  375.0   \n",
       "810 2020-02-03 18:00:00  31150.35  14672.636719       1.874852  223.0   \n",
       "858 2020-02-05 18:00:00  52543.09  14939.529297       4.278574  238.0   \n",
       "863 2020-02-05 23:00:00  25493.13  10618.674805       1.692432  197.0   \n",
       "876 2020-02-06 12:00:00  37591.40  15719.859375       2.488568  370.0   \n",
       "899 2020-02-07 11:00:00  40561.31  17708.994141       2.600161  242.0   \n",
       "\n",
       "                                                                                                          info  \\\n",
       "769                                                        {'card_type_VISA card': {'std_dev': 5.51, 'n': 47}}   \n",
       "804                                                       {'card_type_VISA card': {'std_dev': 2.34, 'n': 128}}   \n",
       "805                                                       {'card_type_VISA card': {'std_dev': 1.85, 'n': 171}}   \n",
       "810                                                       {'card_type_VISA card': {'std_dev': 2.18, 'n': 118}}   \n",
       "858                                                       {'card_type_VISA card': {'std_dev': 7.16, 'n': 122}}   \n",
       "863                                                        {'card_type_VISA card': {'std_dev': 2.79, 'n': 94}}   \n",
       "876  {'card_type_MasterCard': {'std_dev': 1.55, 'n': 192}, 'card_type_VISA card': {'std_dev': 2.98, 'n': 170}}   \n",
       "899                                                        {'card_type_VISA card': {'std_dev': 4.6, 'n': 122}}   \n",
       "\n",
       "     anomaly_coef  \n",
       "769        0.4408  \n",
       "804        0.1872  \n",
       "805        0.2968  \n",
       "810        0.1744  \n",
       "858        0.5728  \n",
       "863        0.2232  \n",
       "876        0.3624  \n",
       "899        0.3680  "
      ]
     },
     "execution_count": 220,
     "metadata": {},
     "output_type": "execute_result"
    }
   ],
   "source": [
    "forecast_anomaly[col_names]"
   ]
  },
  {
   "cell_type": "code",
   "execution_count": 219,
   "metadata": {},
   "outputs": [
    {
     "data": {
      "text/plain": [
       "Counter({'MasterCard': 159825,\n",
       "         'VISA card': 155287,\n",
       "         'undefined': 4106,\n",
       "         'Laser': 71})"
      ]
     },
     "execution_count": 219,
     "metadata": {},
     "output_type": "execute_result"
    }
   ],
   "source": [
    "Counter(dt.card_type)"
   ]
  },
  {
   "cell_type": "markdown",
   "metadata": {},
   "source": [
    "PID start_test = '2020-02-02 00'"
   ]
  },
  {
   "cell_type": "code",
   "execution_count": 205,
   "metadata": {},
   "outputs": [
    {
     "data": {
      "text/html": [
       "<div>\n",
       "<style scoped>\n",
       "    .dataframe tbody tr th:only-of-type {\n",
       "        vertical-align: middle;\n",
       "    }\n",
       "\n",
       "    .dataframe tbody tr th {\n",
       "        vertical-align: top;\n",
       "    }\n",
       "\n",
       "    .dataframe thead th {\n",
       "        text-align: right;\n",
       "    }\n",
       "</style>\n",
       "<table border=\"1\" class=\"dataframe\">\n",
       "  <thead>\n",
       "    <tr style=\"text-align: right;\">\n",
       "      <th></th>\n",
       "      <th>ds</th>\n",
       "      <th>y1</th>\n",
       "      <th>yhat1</th>\n",
       "      <th>std_deviation</th>\n",
       "      <th>n</th>\n",
       "      <th>info</th>\n",
       "      <th>anomaly_coef</th>\n",
       "    </tr>\n",
       "  </thead>\n",
       "  <tbody>\n",
       "    <tr>\n",
       "      <th>769</th>\n",
       "      <td>2020-02-02 01:00:00</td>\n",
       "      <td>34136.67</td>\n",
       "      <td>1775.654297</td>\n",
       "      <td>3.682072</td>\n",
       "      <td>89.0</td>\n",
       "      <td>{'pid_ccc9614c22': {'std_dev': 6.33, 'n': 5}, 'pid_f0660cc875': {'std_dev': 5.55, 'n': 3}}</td>\n",
       "      <td>1.4256</td>\n",
       "    </tr>\n",
       "    <tr>\n",
       "      <th>804</th>\n",
       "      <td>2020-02-03 12:00:00</td>\n",
       "      <td>32988.94</td>\n",
       "      <td>13435.247070</td>\n",
       "      <td>2.224841</td>\n",
       "      <td>270.0</td>\n",
       "      <td>{'pid_224f3d3120': {'std_dev': 1.53, 'n': 61}, 'pid_3b51cee05a': {'std_dev': 1.88, 'n': 6}, 'pid_82b5880791': {'std_dev': 2.8, 'n': 51}, 'pid_3f2c967509': {'std_dev': 3.48, 'n': 16}}</td>\n",
       "      <td>1.6728</td>\n",
       "    </tr>\n",
       "    <tr>\n",
       "      <th>805</th>\n",
       "      <td>2020-02-03 13:00:00</td>\n",
       "      <td>28336.46</td>\n",
       "      <td>11647.478516</td>\n",
       "      <td>1.898891</td>\n",
       "      <td>375.0</td>\n",
       "      <td>{'pid_df15cba3e5': {'std_dev': 2.6, 'n': 14}, 'pid_b3cf5250cf': {'std_dev': 4.95, 'n': 192}}</td>\n",
       "      <td>2.8068</td>\n",
       "    </tr>\n",
       "    <tr>\n",
       "      <th>808</th>\n",
       "      <td>2020-02-03 16:00:00</td>\n",
       "      <td>26005.96</td>\n",
       "      <td>12645.809570</td>\n",
       "      <td>1.520133</td>\n",
       "      <td>255.0</td>\n",
       "      <td>{'pid_9678b87bc4': {'std_dev': 1.98, 'n': 6}}</td>\n",
       "      <td>2.1540</td>\n",
       "    </tr>\n",
       "    <tr>\n",
       "      <th>810</th>\n",
       "      <td>2020-02-03 18:00:00</td>\n",
       "      <td>31150.35</td>\n",
       "      <td>12713.391602</td>\n",
       "      <td>2.097777</td>\n",
       "      <td>223.0</td>\n",
       "      <td>{'pid_ccc9614c22': {'std_dev': 8.64, 'n': 7}, 'pid_9678b87bc4': {'std_dev': 3.05, 'n': 5}, 'pid_578f9d2a19': {'std_dev': 5.34, 'n': 7}}</td>\n",
       "      <td>2.0436</td>\n",
       "    </tr>\n",
       "    <tr>\n",
       "      <th>829</th>\n",
       "      <td>2020-02-04 13:00:00</td>\n",
       "      <td>26517.54</td>\n",
       "      <td>11657.386719</td>\n",
       "      <td>1.690804</td>\n",
       "      <td>213.0</td>\n",
       "      <td>{'pid_3b51cee05a': {'std_dev': 5.89, 'n': 6}, 'pid_82b5880791': {'std_dev': 1.69, 'n': 24}, 'pid_3f2c967509': {'std_dev': 2.02, 'n': 9}}</td>\n",
       "      <td>1.5360</td>\n",
       "    </tr>\n",
       "    <tr>\n",
       "      <th>834</th>\n",
       "      <td>2020-02-04 18:00:00</td>\n",
       "      <td>28353.99</td>\n",
       "      <td>12768.049805</td>\n",
       "      <td>1.773385</td>\n",
       "      <td>227.0</td>\n",
       "      <td>{'pid_3b51cee05a': {'std_dev': 4.93, 'n': 5}, 'pid_6ae3b9aa54': {'std_dev': 3.83, 'n': 14}}</td>\n",
       "      <td>1.8960</td>\n",
       "    </tr>\n",
       "    <tr>\n",
       "      <th>839</th>\n",
       "      <td>2020-02-04 23:00:00</td>\n",
       "      <td>23332.72</td>\n",
       "      <td>8683.867188</td>\n",
       "      <td>1.666762</td>\n",
       "      <td>167.0</td>\n",
       "      <td>{'pid_3b51cee05a': {'std_dev': 1.96, 'n': 7}}</td>\n",
       "      <td>1.8480</td>\n",
       "    </tr>\n",
       "    <tr>\n",
       "      <th>858</th>\n",
       "      <td>2020-02-05 18:00:00</td>\n",
       "      <td>52543.09</td>\n",
       "      <td>12301.463867</td>\n",
       "      <td>4.578736</td>\n",
       "      <td>238.0</td>\n",
       "      <td>{'pid_ccc9614c22': {'std_dev': 9.16, 'n': 7}, 'pid_f0660cc875': {'std_dev': 7.43, 'n': 5}, 'pid_6ae3b9aa54': {'std_dev': 1.64, 'n': 5}}</td>\n",
       "      <td>3.0696</td>\n",
       "    </tr>\n",
       "    <tr>\n",
       "      <th>863</th>\n",
       "      <td>2020-02-05 23:00:00</td>\n",
       "      <td>25493.13</td>\n",
       "      <td>8137.630859</td>\n",
       "      <td>1.974728</td>\n",
       "      <td>197.0</td>\n",
       "      <td>{'pid_224f3d3120': {'std_dev': 1.52, 'n': 125}, 'pid_c6fbb009ed': {'std_dev': -1.21, 'n': 5}}</td>\n",
       "      <td>2.0280</td>\n",
       "    </tr>\n",
       "    <tr>\n",
       "      <th>876</th>\n",
       "      <td>2020-02-06 12:00:00</td>\n",
       "      <td>37591.40</td>\n",
       "      <td>13319.503906</td>\n",
       "      <td>2.761683</td>\n",
       "      <td>370.0</td>\n",
       "      <td>{'pid_3e1c59c70a': {'std_dev': 4.67, 'n': 83}, 'pid_9678b87bc4': {'std_dev': 3.29, 'n': 13}, 'pid_df15cba3e5': {'std_dev': -3.01, 'n': 79}}</td>\n",
       "      <td>1.1940</td>\n",
       "    </tr>\n",
       "    <tr>\n",
       "      <th>899</th>\n",
       "      <td>2020-02-07 11:00:00</td>\n",
       "      <td>40561.31</td>\n",
       "      <td>15482.773438</td>\n",
       "      <td>2.853463</td>\n",
       "      <td>242.0</td>\n",
       "      <td>{'pid_f0660cc875': {'std_dev': 2.09, 'n': 6}}</td>\n",
       "      <td>0.5460</td>\n",
       "    </tr>\n",
       "  </tbody>\n",
       "</table>\n",
       "</div>"
      ],
      "text/plain": [
       "                     ds        y1         yhat1  std_deviation      n  \\\n",
       "769 2020-02-02 01:00:00  34136.67   1775.654297       3.682072   89.0   \n",
       "804 2020-02-03 12:00:00  32988.94  13435.247070       2.224841  270.0   \n",
       "805 2020-02-03 13:00:00  28336.46  11647.478516       1.898891  375.0   \n",
       "808 2020-02-03 16:00:00  26005.96  12645.809570       1.520133  255.0   \n",
       "810 2020-02-03 18:00:00  31150.35  12713.391602       2.097777  223.0   \n",
       "829 2020-02-04 13:00:00  26517.54  11657.386719       1.690804  213.0   \n",
       "834 2020-02-04 18:00:00  28353.99  12768.049805       1.773385  227.0   \n",
       "839 2020-02-04 23:00:00  23332.72   8683.867188       1.666762  167.0   \n",
       "858 2020-02-05 18:00:00  52543.09  12301.463867       4.578736  238.0   \n",
       "863 2020-02-05 23:00:00  25493.13   8137.630859       1.974728  197.0   \n",
       "876 2020-02-06 12:00:00  37591.40  13319.503906       2.761683  370.0   \n",
       "899 2020-02-07 11:00:00  40561.31  15482.773438       2.853463  242.0   \n",
       "\n",
       "                                                                                                                                                                                       info  \\\n",
       "769                                                                                              {'pid_ccc9614c22': {'std_dev': 6.33, 'n': 5}, 'pid_f0660cc875': {'std_dev': 5.55, 'n': 3}}   \n",
       "804  {'pid_224f3d3120': {'std_dev': 1.53, 'n': 61}, 'pid_3b51cee05a': {'std_dev': 1.88, 'n': 6}, 'pid_82b5880791': {'std_dev': 2.8, 'n': 51}, 'pid_3f2c967509': {'std_dev': 3.48, 'n': 16}}   \n",
       "805                                                                                            {'pid_df15cba3e5': {'std_dev': 2.6, 'n': 14}, 'pid_b3cf5250cf': {'std_dev': 4.95, 'n': 192}}   \n",
       "808                                                                                                                                           {'pid_9678b87bc4': {'std_dev': 1.98, 'n': 6}}   \n",
       "810                                                 {'pid_ccc9614c22': {'std_dev': 8.64, 'n': 7}, 'pid_9678b87bc4': {'std_dev': 3.05, 'n': 5}, 'pid_578f9d2a19': {'std_dev': 5.34, 'n': 7}}   \n",
       "829                                                {'pid_3b51cee05a': {'std_dev': 5.89, 'n': 6}, 'pid_82b5880791': {'std_dev': 1.69, 'n': 24}, 'pid_3f2c967509': {'std_dev': 2.02, 'n': 9}}   \n",
       "834                                                                                             {'pid_3b51cee05a': {'std_dev': 4.93, 'n': 5}, 'pid_6ae3b9aa54': {'std_dev': 3.83, 'n': 14}}   \n",
       "839                                                                                                                                           {'pid_3b51cee05a': {'std_dev': 1.96, 'n': 7}}   \n",
       "858                                                 {'pid_ccc9614c22': {'std_dev': 9.16, 'n': 7}, 'pid_f0660cc875': {'std_dev': 7.43, 'n': 5}, 'pid_6ae3b9aa54': {'std_dev': 1.64, 'n': 5}}   \n",
       "863                                                                                           {'pid_224f3d3120': {'std_dev': 1.52, 'n': 125}, 'pid_c6fbb009ed': {'std_dev': -1.21, 'n': 5}}   \n",
       "876                                             {'pid_3e1c59c70a': {'std_dev': 4.67, 'n': 83}, 'pid_9678b87bc4': {'std_dev': 3.29, 'n': 13}, 'pid_df15cba3e5': {'std_dev': -3.01, 'n': 79}}   \n",
       "899                                                                                                                                           {'pid_f0660cc875': {'std_dev': 2.09, 'n': 6}}   \n",
       "\n",
       "     anomaly_coef  \n",
       "769        1.4256  \n",
       "804        1.6728  \n",
       "805        2.8068  \n",
       "808        2.1540  \n",
       "810        2.0436  \n",
       "829        1.5360  \n",
       "834        1.8960  \n",
       "839        1.8480  \n",
       "858        3.0696  \n",
       "863        2.0280  \n",
       "876        1.1940  \n",
       "899        0.5460  "
      ]
     },
     "execution_count": 205,
     "metadata": {},
     "output_type": "execute_result"
    }
   ],
   "source": [
    "forecast_anomaly[col_names]"
   ]
  },
  {
   "cell_type": "markdown",
   "metadata": {},
   "source": [
    "Bank, start_test = '2020-02-02 00'"
   ]
  },
  {
   "cell_type": "code",
   "execution_count": 275,
   "metadata": {},
   "outputs": [
    {
     "data": {
      "text/html": [
       "<div>\n",
       "<style scoped>\n",
       "    .dataframe tbody tr th:only-of-type {\n",
       "        vertical-align: middle;\n",
       "    }\n",
       "\n",
       "    .dataframe tbody tr th {\n",
       "        vertical-align: top;\n",
       "    }\n",
       "\n",
       "    .dataframe thead th {\n",
       "        text-align: right;\n",
       "    }\n",
       "</style>\n",
       "<table border=\"1\" class=\"dataframe\">\n",
       "  <thead>\n",
       "    <tr style=\"text-align: right;\">\n",
       "      <th></th>\n",
       "      <th>ds</th>\n",
       "      <th>y1</th>\n",
       "      <th>yhat1</th>\n",
       "      <th>std_deviation</th>\n",
       "      <th>n</th>\n",
       "      <th>info</th>\n",
       "      <th>anomaly_coef</th>\n",
       "    </tr>\n",
       "  </thead>\n",
       "  <tbody>\n",
       "    <tr>\n",
       "      <th>769</th>\n",
       "      <td>2020-02-02 01:00:00</td>\n",
       "      <td>34136.67</td>\n",
       "      <td>1875.380859</td>\n",
       "      <td>3.670725</td>\n",
       "      <td>89.0</td>\n",
       "      <td>{'bank_BANCO SANTANDER': {'std_dev': 2.89, 'n': 4}, 'bank_CAISSE NATIONAL': {'std_dev': 1.61, 'n': 4}, 'bank_BAYERISCHE LAND': {'std_dev': 4.21, 'n': 3}}</td>\n",
       "      <td>1.8447</td>\n",
       "    </tr>\n",
       "    <tr>\n",
       "      <th>804</th>\n",
       "      <td>2020-02-03 12:00:00</td>\n",
       "      <td>32988.94</td>\n",
       "      <td>13283.435547</td>\n",
       "      <td>2.242114</td>\n",
       "      <td>270.0</td>\n",
       "      <td>{'bank_undefined': {'std_dev': 2.31, 'n': 39}, 'bank_POSTE ITALIANE ': {'std_dev': 3.45, 'n': 14}, 'bank_POSTE ITALIANE': {'std_dev': 2.11, 'n': 36}, 'bank_CAISSE NATIONAL': {'std_dev': 3.29, 'n': 19}, 'bank_STANDARD BANK O': {'std_dev': 2.46, 'n': 7}}</td>\n",
       "      <td>4.1954</td>\n",
       "    </tr>\n",
       "    <tr>\n",
       "      <th>805</th>\n",
       "      <td>2020-02-03 13:00:00</td>\n",
       "      <td>28336.46</td>\n",
       "      <td>11874.443359</td>\n",
       "      <td>1.873066</td>\n",
       "      <td>375.0</td>\n",
       "      <td>{'bank_POSTE ITALIANE ': {'std_dev': 3.6, 'n': 15}, 'bank_CAJA DE AHORROS': {'std_dev': 4.61, 'n': 10}, 'bank_POSTE ITALIANE': {'std_dev': 3.73, 'n': 53}, 'bank_CARTASI S.P.A.': {'std_dev': 2.14, 'n': 14}, 'bank_MASTERCARD FRAN': {'std_dev': 5.76, 'n': 22}, 'bank_EUROPAY FRANCE ': {'std_dev': 4.96, 'n': 8}, 'bank_SOCIETE GENERAL_y': {'std_dev': 6.86, 'n': 16}}</td>\n",
       "      <td>6.2678</td>\n",
       "    </tr>\n",
       "    <tr>\n",
       "      <th>810</th>\n",
       "      <td>2020-02-03 18:00:00</td>\n",
       "      <td>31150.35</td>\n",
       "      <td>12838.543945</td>\n",
       "      <td>2.083537</td>\n",
       "      <td>223.0</td>\n",
       "      <td>{'bank_undefined': {'std_dev': 2.11, 'n': 34}, 'bank_EUROPAY (EUROCA': {'std_dev': 5.03, 'n': 5}}</td>\n",
       "      <td>3.3968</td>\n",
       "    </tr>\n",
       "    <tr>\n",
       "      <th>829</th>\n",
       "      <td>2020-02-04 13:00:00</td>\n",
       "      <td>26517.54</td>\n",
       "      <td>12112.072266</td>\n",
       "      <td>1.639070</td>\n",
       "      <td>213.0</td>\n",
       "      <td>{'bank_NORWEST BANK IO': {'std_dev': 4.77, 'n': 6}, 'bank_SAVINGS BANK OF': {'std_dev': 7.02, 'n': 8}, 'bank_STANDARD BANK O': {'std_dev': 2.44, 'n': 6}, 'bank_COMMERCIAL BANK': {'std_dev': 1.73, 'n': 5}}</td>\n",
       "      <td>3.3000</td>\n",
       "    </tr>\n",
       "    <tr>\n",
       "      <th>834</th>\n",
       "      <td>2020-02-04 18:00:00</td>\n",
       "      <td>28353.99</td>\n",
       "      <td>13073.840820</td>\n",
       "      <td>1.738592</td>\n",
       "      <td>227.0</td>\n",
       "      <td>{'bank_SAVINGS BANK OF': {'std_dev': 7.77, 'n': 6}}</td>\n",
       "      <td>2.5630</td>\n",
       "    </tr>\n",
       "    <tr>\n",
       "      <th>839</th>\n",
       "      <td>2020-02-04 23:00:00</td>\n",
       "      <td>23332.72</td>\n",
       "      <td>8840.107422</td>\n",
       "      <td>1.648985</td>\n",
       "      <td>167.0</td>\n",
       "      <td>{'bank_undefined': {'std_dev': 3.54, 'n': 29}}</td>\n",
       "      <td>1.7149</td>\n",
       "    </tr>\n",
       "    <tr>\n",
       "      <th>858</th>\n",
       "      <td>2020-02-05 18:00:00</td>\n",
       "      <td>52543.09</td>\n",
       "      <td>12604.960938</td>\n",
       "      <td>4.544204</td>\n",
       "      <td>238.0</td>\n",
       "      <td>{'bank_STOPANSKA BANKA_x': {'std_dev': 3.64, 'n': 7}, 'bank_BANK OF VALLETT': {'std_dev': 1.57, 'n': 7}, 'bank_HSBC BANK MALTA': {'std_dev': 1.78, 'n': 5}}</td>\n",
       "      <td>2.2176</td>\n",
       "    </tr>\n",
       "    <tr>\n",
       "      <th>863</th>\n",
       "      <td>2020-02-05 23:00:00</td>\n",
       "      <td>25493.13</td>\n",
       "      <td>8248.428711</td>\n",
       "      <td>1.962121</td>\n",
       "      <td>197.0</td>\n",
       "      <td>{'bank_NORWEST BANK IO': {'std_dev': 3.18, 'n': 6}, 'bank_BANCO SANTANDER': {'std_dev': 2.28, 'n': 4}, 'bank_BARCLAYS BANK P': {'std_dev': 1.91, 'n': 5}}</td>\n",
       "      <td>1.8293</td>\n",
       "    </tr>\n",
       "    <tr>\n",
       "      <th>876</th>\n",
       "      <td>2020-02-06 12:00:00</td>\n",
       "      <td>37591.40</td>\n",
       "      <td>13269.710938</td>\n",
       "      <td>2.767348</td>\n",
       "      <td>370.0</td>\n",
       "      <td>{'bank_SAVINGS BANK OF': {'std_dev': 2.04, 'n': 9}, 'bank_CAJA DE AHORROS': {'std_dev': 2.9, 'n': 9}, 'bank_MASTERCARD FRAN': {'std_dev': 2.28, 'n': 13}, 'bank_SOCIETE GENERAL_y': {'std_dev': 3.08, 'n': 8}}</td>\n",
       "      <td>5.7068</td>\n",
       "    </tr>\n",
       "    <tr>\n",
       "      <th>899</th>\n",
       "      <td>2020-02-07 11:00:00</td>\n",
       "      <td>40561.31</td>\n",
       "      <td>15185.689453</td>\n",
       "      <td>2.887266</td>\n",
       "      <td>242.0</td>\n",
       "      <td>{'bank_POSTE ITALIANE ': {'std_dev': 2.66, 'n': 19}, 'bank_CAISSE NATIONAL': {'std_dev': 1.51, 'n': 9}, 'bank_CREDIT MUTUEL A': {'std_dev': 1.52, 'n': 5}, 'bank_NATIXIS': {'std_dev': 2.28, 'n': 6}}</td>\n",
       "      <td>2.5267</td>\n",
       "    </tr>\n",
       "  </tbody>\n",
       "</table>\n",
       "</div>"
      ],
      "text/plain": [
       "                     ds        y1         yhat1  std_deviation      n  \\\n",
       "769 2020-02-02 01:00:00  34136.67   1875.380859       3.670725   89.0   \n",
       "804 2020-02-03 12:00:00  32988.94  13283.435547       2.242114  270.0   \n",
       "805 2020-02-03 13:00:00  28336.46  11874.443359       1.873066  375.0   \n",
       "810 2020-02-03 18:00:00  31150.35  12838.543945       2.083537  223.0   \n",
       "829 2020-02-04 13:00:00  26517.54  12112.072266       1.639070  213.0   \n",
       "834 2020-02-04 18:00:00  28353.99  13073.840820       1.738592  227.0   \n",
       "839 2020-02-04 23:00:00  23332.72   8840.107422       1.648985  167.0   \n",
       "858 2020-02-05 18:00:00  52543.09  12604.960938       4.544204  238.0   \n",
       "863 2020-02-05 23:00:00  25493.13   8248.428711       1.962121  197.0   \n",
       "876 2020-02-06 12:00:00  37591.40  13269.710938       2.767348  370.0   \n",
       "899 2020-02-07 11:00:00  40561.31  15185.689453       2.887266  242.0   \n",
       "\n",
       "                                                                                                                                                                                                                                                                                                                                                                           info  \\\n",
       "769                                                                                                                                                                                                                   {'bank_BANCO SANTANDER': {'std_dev': 2.89, 'n': 4}, 'bank_CAISSE NATIONAL': {'std_dev': 1.61, 'n': 4}, 'bank_BAYERISCHE LAND': {'std_dev': 4.21, 'n': 3}}   \n",
       "804                                                                                                                {'bank_undefined': {'std_dev': 2.31, 'n': 39}, 'bank_POSTE ITALIANE ': {'std_dev': 3.45, 'n': 14}, 'bank_POSTE ITALIANE': {'std_dev': 2.11, 'n': 36}, 'bank_CAISSE NATIONAL': {'std_dev': 3.29, 'n': 19}, 'bank_STANDARD BANK O': {'std_dev': 2.46, 'n': 7}}   \n",
       "805  {'bank_POSTE ITALIANE ': {'std_dev': 3.6, 'n': 15}, 'bank_CAJA DE AHORROS': {'std_dev': 4.61, 'n': 10}, 'bank_POSTE ITALIANE': {'std_dev': 3.73, 'n': 53}, 'bank_CARTASI S.P.A.': {'std_dev': 2.14, 'n': 14}, 'bank_MASTERCARD FRAN': {'std_dev': 5.76, 'n': 22}, 'bank_EUROPAY FRANCE ': {'std_dev': 4.96, 'n': 8}, 'bank_SOCIETE GENERAL_y': {'std_dev': 6.86, 'n': 16}}   \n",
       "810                                                                                                                                                                                                                                                                           {'bank_undefined': {'std_dev': 2.11, 'n': 34}, 'bank_EUROPAY (EUROCA': {'std_dev': 5.03, 'n': 5}}   \n",
       "829                                                                                                                                                                {'bank_NORWEST BANK IO': {'std_dev': 4.77, 'n': 6}, 'bank_SAVINGS BANK OF': {'std_dev': 7.02, 'n': 8}, 'bank_STANDARD BANK O': {'std_dev': 2.44, 'n': 6}, 'bank_COMMERCIAL BANK': {'std_dev': 1.73, 'n': 5}}   \n",
       "834                                                                                                                                                                                                                                                                                                                         {'bank_SAVINGS BANK OF': {'std_dev': 7.77, 'n': 6}}   \n",
       "839                                                                                                                                                                                                                                                                                                                              {'bank_undefined': {'std_dev': 3.54, 'n': 29}}   \n",
       "858                                                                                                                                                                                                                 {'bank_STOPANSKA BANKA_x': {'std_dev': 3.64, 'n': 7}, 'bank_BANK OF VALLETT': {'std_dev': 1.57, 'n': 7}, 'bank_HSBC BANK MALTA': {'std_dev': 1.78, 'n': 5}}   \n",
       "863                                                                                                                                                                                                                   {'bank_NORWEST BANK IO': {'std_dev': 3.18, 'n': 6}, 'bank_BANCO SANTANDER': {'std_dev': 2.28, 'n': 4}, 'bank_BARCLAYS BANK P': {'std_dev': 1.91, 'n': 5}}   \n",
       "876                                                                                                                                                              {'bank_SAVINGS BANK OF': {'std_dev': 2.04, 'n': 9}, 'bank_CAJA DE AHORROS': {'std_dev': 2.9, 'n': 9}, 'bank_MASTERCARD FRAN': {'std_dev': 2.28, 'n': 13}, 'bank_SOCIETE GENERAL_y': {'std_dev': 3.08, 'n': 8}}   \n",
       "899                                                                                                                                                                       {'bank_POSTE ITALIANE ': {'std_dev': 2.66, 'n': 19}, 'bank_CAISSE NATIONAL': {'std_dev': 1.51, 'n': 9}, 'bank_CREDIT MUTUEL A': {'std_dev': 1.52, 'n': 5}, 'bank_NATIXIS': {'std_dev': 2.28, 'n': 6}}   \n",
       "\n",
       "     anomaly_coef  \n",
       "769        1.8447  \n",
       "804        4.1954  \n",
       "805        6.2678  \n",
       "810        3.3968  \n",
       "829        3.3000  \n",
       "834        2.5630  \n",
       "839        1.7149  \n",
       "858        2.2176  \n",
       "863        1.8293  \n",
       "876        5.7068  \n",
       "899        2.5267  "
      ]
     },
     "execution_count": 275,
     "metadata": {},
     "output_type": "execute_result"
    }
   ],
   "source": [
    "col_names = ['ds', 'y1', 'yhat1', 'std_deviation', 'n', 'info', 'anomaly_coef']\n",
    "forecast_anomaly[col_names]"
   ]
  },
  {
   "cell_type": "code",
   "execution_count": 191,
   "metadata": {},
   "outputs": [
    {
     "data": {
      "text/html": [
       "<div>\n",
       "<style scoped>\n",
       "    .dataframe tbody tr th:only-of-type {\n",
       "        vertical-align: middle;\n",
       "    }\n",
       "\n",
       "    .dataframe tbody tr th {\n",
       "        vertical-align: top;\n",
       "    }\n",
       "\n",
       "    .dataframe thead th {\n",
       "        text-align: right;\n",
       "    }\n",
       "</style>\n",
       "<table border=\"1\" class=\"dataframe\">\n",
       "  <thead>\n",
       "    <tr style=\"text-align: right;\">\n",
       "      <th></th>\n",
       "      <th>ds</th>\n",
       "      <th>y1</th>\n",
       "      <th>yhat1</th>\n",
       "      <th>std_deviation</th>\n",
       "      <th>n</th>\n",
       "      <th>info</th>\n",
       "      <th>anomaly_coef</th>\n",
       "    </tr>\n",
       "  </thead>\n",
       "  <tbody>\n",
       "    <tr>\n",
       "      <th>769</th>\n",
       "      <td>2020-02-02 01:00:00</td>\n",
       "      <td>34136.67</td>\n",
       "      <td>1672.375244</td>\n",
       "      <td>3.693823</td>\n",
       "      <td>89.0</td>\n",
       "      <td>{'bank_CAISSE NAT': {'std_dev': 1.62, 'n': 4}, 'bank_DEUTSCHER ': {'std_dev': 5.32, 'n': 2}}</td>\n",
       "      <td>1.0764</td>\n",
       "    </tr>\n",
       "    <tr>\n",
       "      <th>804</th>\n",
       "      <td>2020-02-03 12:00:00</td>\n",
       "      <td>32988.94</td>\n",
       "      <td>12983.758789</td>\n",
       "      <td>2.276211</td>\n",
       "      <td>270.0</td>\n",
       "      <td>{'bank_undefined': {'std_dev': 2.31, 'n': 39}, 'bank_POSTE ITAL_x': {'std_dev': 2.1, 'n': 36}, 'bank_CAISSE NAT': {'std_dev': 3.26, 'n': 19}, 'bank_POSTE ITAL_y': {'std_dev': 3.47, 'n': 14}}</td>\n",
       "      <td>2.9676</td>\n",
       "    </tr>\n",
       "    <tr>\n",
       "      <th>805</th>\n",
       "      <td>2020-02-03 13:00:00</td>\n",
       "      <td>28336.46</td>\n",
       "      <td>11679.464844</td>\n",
       "      <td>1.895251</td>\n",
       "      <td>375.0</td>\n",
       "      <td>{'bank_POSTE ITAL_x': {'std_dev': 3.71, 'n': 53}, 'bank_EUROPAY FR': {'std_dev': 5.27, 'n': 8}, 'bank_CARTASI S.': {'std_dev': 2.11, 'n': 14}, 'bank_POSTE ITAL_y': {'std_dev': 3.6, 'n': 15}, 'bank_SOCIETE GE': {'std_dev': 6.86, 'n': 16}, 'bank_CAJA DE AH': {'std_dev': 4.45, 'n': 10}, 'bank_MASTERCARD': {'std_dev': 4.69, 'n': 22}}</td>\n",
       "      <td>5.8104</td>\n",
       "    </tr>\n",
       "    <tr>\n",
       "      <th>808</th>\n",
       "      <td>2020-02-03 16:00:00</td>\n",
       "      <td>26005.96</td>\n",
       "      <td>12466.519531</td>\n",
       "      <td>1.540532</td>\n",
       "      <td>255.0</td>\n",
       "      <td>{'bank_POSTE ITAL_y': {'std_dev': 2.89, 'n': 20}}</td>\n",
       "      <td>1.3128</td>\n",
       "    </tr>\n",
       "    <tr>\n",
       "      <th>810</th>\n",
       "      <td>2020-02-03 18:00:00</td>\n",
       "      <td>31150.35</td>\n",
       "      <td>12676.291992</td>\n",
       "      <td>2.101999</td>\n",
       "      <td>223.0</td>\n",
       "      <td>{'bank_undefined': {'std_dev': 2.11, 'n': 34}}</td>\n",
       "      <td>1.9068</td>\n",
       "    </tr>\n",
       "    <tr>\n",
       "      <th>829</th>\n",
       "      <td>2020-02-04 13:00:00</td>\n",
       "      <td>26517.54</td>\n",
       "      <td>11946.401367</td>\n",
       "      <td>1.657920</td>\n",
       "      <td>213.0</td>\n",
       "      <td>{'bank_SAVINGS BA': {'std_dev': 7.02, 'n': 8}, 'bank_NORWEST BA': {'std_dev': 4.77, 'n': 6}}</td>\n",
       "      <td>3.3552</td>\n",
       "    </tr>\n",
       "    <tr>\n",
       "      <th>834</th>\n",
       "      <td>2020-02-04 18:00:00</td>\n",
       "      <td>28353.99</td>\n",
       "      <td>12935.101562</td>\n",
       "      <td>1.754378</td>\n",
       "      <td>227.0</td>\n",
       "      <td>{'bank_SAVINGS BA': {'std_dev': 7.79, 'n': 6}, 'bank_BANKIA': {'std_dev': 3.78, 'n': 5}}</td>\n",
       "      <td>2.9280</td>\n",
       "    </tr>\n",
       "    <tr>\n",
       "      <th>839</th>\n",
       "      <td>2020-02-04 23:00:00</td>\n",
       "      <td>23332.72</td>\n",
       "      <td>8405.269531</td>\n",
       "      <td>1.698462</td>\n",
       "      <td>167.0</td>\n",
       "      <td>{'bank_undefined': {'std_dev': 3.58, 'n': 29}}</td>\n",
       "      <td>2.1396</td>\n",
       "    </tr>\n",
       "    <tr>\n",
       "      <th>858</th>\n",
       "      <td>2020-02-05 18:00:00</td>\n",
       "      <td>52543.09</td>\n",
       "      <td>12422.596680</td>\n",
       "      <td>4.564954</td>\n",
       "      <td>238.0</td>\n",
       "      <td>{'bank_BANK OF VA': {'std_dev': 1.61, 'n': 7}, 'bank_HSBC BANK ': {'std_dev': 1.84, 'n': 5}}</td>\n",
       "      <td>1.2048</td>\n",
       "    </tr>\n",
       "    <tr>\n",
       "      <th>863</th>\n",
       "      <td>2020-02-05 23:00:00</td>\n",
       "      <td>25493.13</td>\n",
       "      <td>7787.776367</td>\n",
       "      <td>2.014534</td>\n",
       "      <td>197.0</td>\n",
       "      <td>{'bank_BARCLAYS B': {'std_dev': 1.91, 'n': 5}, 'bank_SWEDBANK, ': {'std_dev': 1.55, 'n': 8}, 'bank_NORWEST BA': {'std_dev': 3.22, 'n': 6}}</td>\n",
       "      <td>0.9372</td>\n",
       "    </tr>\n",
       "    <tr>\n",
       "      <th>876</th>\n",
       "      <td>2020-02-06 12:00:00</td>\n",
       "      <td>37591.40</td>\n",
       "      <td>13037.890625</td>\n",
       "      <td>2.793725</td>\n",
       "      <td>370.0</td>\n",
       "      <td>{'bank_SAVINGS BA': {'std_dev': 2.06, 'n': 9}, 'bank_SOCIETE GE': {'std_dev': 3.09, 'n': 8}, 'bank_BANKIA': {'std_dev': 4.26, 'n': 10}, 'bank_CAJA DE AH': {'std_dev': 2.74, 'n': 9}}</td>\n",
       "      <td>3.1080</td>\n",
       "    </tr>\n",
       "    <tr>\n",
       "      <th>899</th>\n",
       "      <td>2020-02-07 11:00:00</td>\n",
       "      <td>40561.31</td>\n",
       "      <td>14927.083984</td>\n",
       "      <td>2.916690</td>\n",
       "      <td>242.0</td>\n",
       "      <td>{'bank_POSTE ITAL_y': {'std_dev': 2.7, 'n': 19}}</td>\n",
       "      <td>0.2592</td>\n",
       "    </tr>\n",
       "  </tbody>\n",
       "</table>\n",
       "</div>"
      ],
      "text/plain": [
       "                     ds        y1         yhat1  std_deviation      n  \\\n",
       "769 2020-02-02 01:00:00  34136.67   1672.375244       3.693823   89.0   \n",
       "804 2020-02-03 12:00:00  32988.94  12983.758789       2.276211  270.0   \n",
       "805 2020-02-03 13:00:00  28336.46  11679.464844       1.895251  375.0   \n",
       "808 2020-02-03 16:00:00  26005.96  12466.519531       1.540532  255.0   \n",
       "810 2020-02-03 18:00:00  31150.35  12676.291992       2.101999  223.0   \n",
       "829 2020-02-04 13:00:00  26517.54  11946.401367       1.657920  213.0   \n",
       "834 2020-02-04 18:00:00  28353.99  12935.101562       1.754378  227.0   \n",
       "839 2020-02-04 23:00:00  23332.72   8405.269531       1.698462  167.0   \n",
       "858 2020-02-05 18:00:00  52543.09  12422.596680       4.564954  238.0   \n",
       "863 2020-02-05 23:00:00  25493.13   7787.776367       2.014534  197.0   \n",
       "876 2020-02-06 12:00:00  37591.40  13037.890625       2.793725  370.0   \n",
       "899 2020-02-07 11:00:00  40561.31  14927.083984       2.916690  242.0   \n",
       "\n",
       "                                                                                                                                                                                                                                                                                                                                            info  \\\n",
       "769                                                                                                                                                                                                                                                 {'bank_CAISSE NAT': {'std_dev': 1.62, 'n': 4}, 'bank_DEUTSCHER ': {'std_dev': 5.32, 'n': 2}}   \n",
       "804                                                                                                                                               {'bank_undefined': {'std_dev': 2.31, 'n': 39}, 'bank_POSTE ITAL_x': {'std_dev': 2.1, 'n': 36}, 'bank_CAISSE NAT': {'std_dev': 3.26, 'n': 19}, 'bank_POSTE ITAL_y': {'std_dev': 3.47, 'n': 14}}   \n",
       "805  {'bank_POSTE ITAL_x': {'std_dev': 3.71, 'n': 53}, 'bank_EUROPAY FR': {'std_dev': 5.27, 'n': 8}, 'bank_CARTASI S.': {'std_dev': 2.11, 'n': 14}, 'bank_POSTE ITAL_y': {'std_dev': 3.6, 'n': 15}, 'bank_SOCIETE GE': {'std_dev': 6.86, 'n': 16}, 'bank_CAJA DE AH': {'std_dev': 4.45, 'n': 10}, 'bank_MASTERCARD': {'std_dev': 4.69, 'n': 22}}   \n",
       "808                                                                                                                                                                                                                                                                                            {'bank_POSTE ITAL_y': {'std_dev': 2.89, 'n': 20}}   \n",
       "810                                                                                                                                                                                                                                                                                               {'bank_undefined': {'std_dev': 2.11, 'n': 34}}   \n",
       "829                                                                                                                                                                                                                                                 {'bank_SAVINGS BA': {'std_dev': 7.02, 'n': 8}, 'bank_NORWEST BA': {'std_dev': 4.77, 'n': 6}}   \n",
       "834                                                                                                                                                                                                                                                     {'bank_SAVINGS BA': {'std_dev': 7.79, 'n': 6}, 'bank_BANKIA': {'std_dev': 3.78, 'n': 5}}   \n",
       "839                                                                                                                                                                                                                                                                                               {'bank_undefined': {'std_dev': 3.58, 'n': 29}}   \n",
       "858                                                                                                                                                                                                                                                 {'bank_BANK OF VA': {'std_dev': 1.61, 'n': 7}, 'bank_HSBC BANK ': {'std_dev': 1.84, 'n': 5}}   \n",
       "863                                                                                                                                                                                                   {'bank_BARCLAYS B': {'std_dev': 1.91, 'n': 5}, 'bank_SWEDBANK, ': {'std_dev': 1.55, 'n': 8}, 'bank_NORWEST BA': {'std_dev': 3.22, 'n': 6}}   \n",
       "876                                                                                                                                                        {'bank_SAVINGS BA': {'std_dev': 2.06, 'n': 9}, 'bank_SOCIETE GE': {'std_dev': 3.09, 'n': 8}, 'bank_BANKIA': {'std_dev': 4.26, 'n': 10}, 'bank_CAJA DE AH': {'std_dev': 2.74, 'n': 9}}   \n",
       "899                                                                                                                                                                                                                                                                                             {'bank_POSTE ITAL_y': {'std_dev': 2.7, 'n': 19}}   \n",
       "\n",
       "     anomaly_coef  \n",
       "769        1.0764  \n",
       "804        2.9676  \n",
       "805        5.8104  \n",
       "808        1.3128  \n",
       "810        1.9068  \n",
       "829        3.3552  \n",
       "834        2.9280  \n",
       "839        2.1396  \n",
       "858        1.2048  \n",
       "863        0.9372  \n",
       "876        3.1080  \n",
       "899        0.2592  "
      ]
     },
     "execution_count": 191,
     "metadata": {},
     "output_type": "execute_result"
    }
   ],
   "source": [
    "forecast_anomaly[col_names]"
   ]
  },
  {
   "cell_type": "markdown",
   "metadata": {},
   "source": [
    "PID"
   ]
  },
  {
   "cell_type": "code",
   "execution_count": 141,
   "metadata": {},
   "outputs": [
    {
     "data": {
      "text/html": [
       "<div>\n",
       "<style scoped>\n",
       "    .dataframe tbody tr th:only-of-type {\n",
       "        vertical-align: middle;\n",
       "    }\n",
       "\n",
       "    .dataframe tbody tr th {\n",
       "        vertical-align: top;\n",
       "    }\n",
       "\n",
       "    .dataframe thead th {\n",
       "        text-align: right;\n",
       "    }\n",
       "</style>\n",
       "<table border=\"1\" class=\"dataframe\">\n",
       "  <thead>\n",
       "    <tr style=\"text-align: right;\">\n",
       "      <th></th>\n",
       "      <th>ds</th>\n",
       "      <th>y1</th>\n",
       "      <th>yhat1</th>\n",
       "      <th>std_deviation</th>\n",
       "      <th>n</th>\n",
       "      <th>info</th>\n",
       "      <th>anomaly_coef</th>\n",
       "    </tr>\n",
       "  </thead>\n",
       "  <tbody>\n",
       "    <tr>\n",
       "      <th>1886</th>\n",
       "      <td>2020-03-19 14:00:00</td>\n",
       "      <td>37339.93</td>\n",
       "      <td>21371.621094</td>\n",
       "      <td>1.658469</td>\n",
       "      <td>189.0</td>\n",
       "      <td>{'pid_f0660cc875': {'std_dev': 1.72, 'n': 11}, 'pid_224f3d3120': {'std_dev': -1.44, 'n': 49}}</td>\n",
       "      <td>0.3107</td>\n",
       "    </tr>\n",
       "    <tr>\n",
       "      <th>1888</th>\n",
       "      <td>2020-03-19 16:00:00</td>\n",
       "      <td>44460.43</td>\n",
       "      <td>22405.486328</td>\n",
       "      <td>2.290627</td>\n",
       "      <td>220.0</td>\n",
       "      <td>{'pid_190ad5dd2c': {'std_dev': -1.39, 'n': 13}}</td>\n",
       "      <td>1.1375</td>\n",
       "    </tr>\n",
       "    <tr>\n",
       "      <th>1908</th>\n",
       "      <td>2020-03-20 12:00:00</td>\n",
       "      <td>11580.12</td>\n",
       "      <td>24755.248047</td>\n",
       "      <td>-1.368369</td>\n",
       "      <td>153.0</td>\n",
       "      <td>{'pid_190ad5dd2c': {'std_dev': -2.7, 'n': 25}, 'pid_f161302002': {'std_dev': 1.54, 'n': 15}, 'pid_f88bec9623': {'std_dev': -3.18, 'n': 8}}</td>\n",
       "      <td>-0.3653</td>\n",
       "    </tr>\n",
       "    <tr>\n",
       "      <th>1916</th>\n",
       "      <td>2020-03-20 20:00:00</td>\n",
       "      <td>38944.80</td>\n",
       "      <td>19957.107422</td>\n",
       "      <td>1.972063</td>\n",
       "      <td>161.0</td>\n",
       "      <td>{'pid_f0660cc875': {'std_dev': 2.97, 'n': 13}, 'pid_224f3d3120': {'std_dev': -2.91, 'n': 49}, 'pid_190ad5dd2c': {'std_dev': -4.94, 'n': 13}, 'pid_f161302002': {'std_dev': 1.76, 'n': 15}}</td>\n",
       "      <td>-0.3341</td>\n",
       "    </tr>\n",
       "    <tr>\n",
       "      <th>1931</th>\n",
       "      <td>2020-03-21 11:00:00</td>\n",
       "      <td>8771.10</td>\n",
       "      <td>22315.490234</td>\n",
       "      <td>-1.406721</td>\n",
       "      <td>160.0</td>\n",
       "      <td>{'pid_190ad5dd2c': {'std_dev': -4.9, 'n': 32}, 'pid_f88bec9623': {'std_dev': -2.9, 'n': 10}, 'pid_b3cf5250cf': {'std_dev': -1.78, 'n': 9}}</td>\n",
       "      <td>-0.3211</td>\n",
       "    </tr>\n",
       "    <tr>\n",
       "      <th>1956</th>\n",
       "      <td>2020-03-22 12:00:00</td>\n",
       "      <td>8146.98</td>\n",
       "      <td>21514.533203</td>\n",
       "      <td>-1.388355</td>\n",
       "      <td>154.0</td>\n",
       "      <td>{'pid_190ad5dd2c': {'std_dev': -8.59, 'n': 27}, 'pid_f88bec9623': {'std_dev': -3.27, 'n': 9}}</td>\n",
       "      <td>-1.6094</td>\n",
       "    </tr>\n",
       "    <tr>\n",
       "      <th>1959</th>\n",
       "      <td>2020-03-22 15:00:00</td>\n",
       "      <td>5976.31</td>\n",
       "      <td>20113.421875</td>\n",
       "      <td>-1.468281</td>\n",
       "      <td>131.0</td>\n",
       "      <td>{'pid_224f3d3120': {'std_dev': -1.43, 'n': 56}, 'pid_f161302002': {'std_dev': 1.57, 'n': 27}, 'pid_f88bec9623': {'std_dev': -3.34, 'n': 8}}</td>\n",
       "      <td>-1.8759</td>\n",
       "    </tr>\n",
       "    <tr>\n",
       "      <th>1960</th>\n",
       "      <td>2020-03-22 16:00:00</td>\n",
       "      <td>7185.06</td>\n",
       "      <td>20432.775391</td>\n",
       "      <td>-1.375908</td>\n",
       "      <td>162.0</td>\n",
       "      <td>{'pid_224f3d3120': {'std_dev': -1.91, 'n': 67}, 'pid_190ad5dd2c': {'std_dev': -9.51, 'n': 23}, 'pid_f161302002': {'std_dev': 5.32, 'n': 28}}</td>\n",
       "      <td>-1.4300</td>\n",
       "    </tr>\n",
       "    <tr>\n",
       "      <th>1966</th>\n",
       "      <td>2020-03-22 22:00:00</td>\n",
       "      <td>5884.70</td>\n",
       "      <td>18284.939453</td>\n",
       "      <td>-1.287889</td>\n",
       "      <td>129.0</td>\n",
       "      <td>{'pid_224f3d3120': {'std_dev': -2.26, 'n': 60}, 'pid_190ad5dd2c': {'std_dev': -11.4, 'n': 12}, 'pid_f161302002': {'std_dev': 1.58, 'n': 15}}</td>\n",
       "      <td>-2.4310</td>\n",
       "    </tr>\n",
       "    <tr>\n",
       "      <th>1990</th>\n",
       "      <td>2020-03-23 22:00:00</td>\n",
       "      <td>7504.76</td>\n",
       "      <td>19574.660156</td>\n",
       "      <td>-1.253580</td>\n",
       "      <td>81.0</td>\n",
       "      <td>{'pid_f0660cc875': {'std_dev': -1.41, 'n': 5}, 'pid_224f3d3120': {'std_dev': -3.0, 'n': 22}, 'pid_190ad5dd2c': {'std_dev': -14.96, 'n': 7}, 'pid_f88bec9623': {'std_dev': -3.26, 'n': 8}}</td>\n",
       "      <td>-5.3378</td>\n",
       "    </tr>\n",
       "    <tr>\n",
       "      <th>2003</th>\n",
       "      <td>2020-03-24 11:00:00</td>\n",
       "      <td>13057.00</td>\n",
       "      <td>25630.488281</td>\n",
       "      <td>-1.305883</td>\n",
       "      <td>138.0</td>\n",
       "      <td>{'pid_190ad5dd2c': {'std_dev': -15.69, 'n': 16}, 'pid_f88bec9623': {'std_dev': -4.16, 'n': 8}}</td>\n",
       "      <td>-1.2363</td>\n",
       "    </tr>\n",
       "    <tr>\n",
       "      <th>2015</th>\n",
       "      <td>2020-03-24 23:00:00</td>\n",
       "      <td>3347.54</td>\n",
       "      <td>17399.632812</td>\n",
       "      <td>-1.459451</td>\n",
       "      <td>90.0</td>\n",
       "      <td>{'pid_224f3d3120': {'std_dev': -3.06, 'n': 26}, 'pid_190ad5dd2c': {'std_dev': -17.31, 'n': 15}, 'pid_f88bec9623': {'std_dev': -3.8, 'n': 6}}</td>\n",
       "      <td>-2.7118</td>\n",
       "    </tr>\n",
       "    <tr>\n",
       "      <th>2038</th>\n",
       "      <td>2020-03-25 22:00:00</td>\n",
       "      <td>5510.80</td>\n",
       "      <td>19464.816406</td>\n",
       "      <td>-1.449265</td>\n",
       "      <td>97.0</td>\n",
       "      <td>{'pid_224f3d3120': {'std_dev': -3.59, 'n': 22}, 'pid_190ad5dd2c': {'std_dev': -20.23, 'n': 15}, 'pid_f88bec9623': {'std_dev': -3.87, 'n': 6}, 'pid_c6fbb009ed': {'std_dev': 2.61, 'n': 12}}</td>\n",
       "      <td>-2.5818</td>\n",
       "    </tr>\n",
       "  </tbody>\n",
       "</table>\n",
       "</div>"
      ],
      "text/plain": [
       "                      ds        y1         yhat1  std_deviation      n  \\\n",
       "1886 2020-03-19 14:00:00  37339.93  21371.621094       1.658469  189.0   \n",
       "1888 2020-03-19 16:00:00  44460.43  22405.486328       2.290627  220.0   \n",
       "1908 2020-03-20 12:00:00  11580.12  24755.248047      -1.368369  153.0   \n",
       "1916 2020-03-20 20:00:00  38944.80  19957.107422       1.972063  161.0   \n",
       "1931 2020-03-21 11:00:00   8771.10  22315.490234      -1.406721  160.0   \n",
       "1956 2020-03-22 12:00:00   8146.98  21514.533203      -1.388355  154.0   \n",
       "1959 2020-03-22 15:00:00   5976.31  20113.421875      -1.468281  131.0   \n",
       "1960 2020-03-22 16:00:00   7185.06  20432.775391      -1.375908  162.0   \n",
       "1966 2020-03-22 22:00:00   5884.70  18284.939453      -1.287889  129.0   \n",
       "1990 2020-03-23 22:00:00   7504.76  19574.660156      -1.253580   81.0   \n",
       "2003 2020-03-24 11:00:00  13057.00  25630.488281      -1.305883  138.0   \n",
       "2015 2020-03-24 23:00:00   3347.54  17399.632812      -1.459451   90.0   \n",
       "2038 2020-03-25 22:00:00   5510.80  19464.816406      -1.449265   97.0   \n",
       "\n",
       "                                                                                                                                                                                             info  \\\n",
       "1886                                                                                                {'pid_f0660cc875': {'std_dev': 1.72, 'n': 11}, 'pid_224f3d3120': {'std_dev': -1.44, 'n': 49}}   \n",
       "1888                                                                                                                                              {'pid_190ad5dd2c': {'std_dev': -1.39, 'n': 13}}   \n",
       "1908                                                   {'pid_190ad5dd2c': {'std_dev': -2.7, 'n': 25}, 'pid_f161302002': {'std_dev': 1.54, 'n': 15}, 'pid_f88bec9623': {'std_dev': -3.18, 'n': 8}}   \n",
       "1916   {'pid_f0660cc875': {'std_dev': 2.97, 'n': 13}, 'pid_224f3d3120': {'std_dev': -2.91, 'n': 49}, 'pid_190ad5dd2c': {'std_dev': -4.94, 'n': 13}, 'pid_f161302002': {'std_dev': 1.76, 'n': 15}}   \n",
       "1931                                                   {'pid_190ad5dd2c': {'std_dev': -4.9, 'n': 32}, 'pid_f88bec9623': {'std_dev': -2.9, 'n': 10}, 'pid_b3cf5250cf': {'std_dev': -1.78, 'n': 9}}   \n",
       "1956                                                                                                {'pid_190ad5dd2c': {'std_dev': -8.59, 'n': 27}, 'pid_f88bec9623': {'std_dev': -3.27, 'n': 9}}   \n",
       "1959                                                  {'pid_224f3d3120': {'std_dev': -1.43, 'n': 56}, 'pid_f161302002': {'std_dev': 1.57, 'n': 27}, 'pid_f88bec9623': {'std_dev': -3.34, 'n': 8}}   \n",
       "1960                                                 {'pid_224f3d3120': {'std_dev': -1.91, 'n': 67}, 'pid_190ad5dd2c': {'std_dev': -9.51, 'n': 23}, 'pid_f161302002': {'std_dev': 5.32, 'n': 28}}   \n",
       "1966                                                 {'pid_224f3d3120': {'std_dev': -2.26, 'n': 60}, 'pid_190ad5dd2c': {'std_dev': -11.4, 'n': 12}, 'pid_f161302002': {'std_dev': 1.58, 'n': 15}}   \n",
       "1990    {'pid_f0660cc875': {'std_dev': -1.41, 'n': 5}, 'pid_224f3d3120': {'std_dev': -3.0, 'n': 22}, 'pid_190ad5dd2c': {'std_dev': -14.96, 'n': 7}, 'pid_f88bec9623': {'std_dev': -3.26, 'n': 8}}   \n",
       "2003                                                                                               {'pid_190ad5dd2c': {'std_dev': -15.69, 'n': 16}, 'pid_f88bec9623': {'std_dev': -4.16, 'n': 8}}   \n",
       "2015                                                 {'pid_224f3d3120': {'std_dev': -3.06, 'n': 26}, 'pid_190ad5dd2c': {'std_dev': -17.31, 'n': 15}, 'pid_f88bec9623': {'std_dev': -3.8, 'n': 6}}   \n",
       "2038  {'pid_224f3d3120': {'std_dev': -3.59, 'n': 22}, 'pid_190ad5dd2c': {'std_dev': -20.23, 'n': 15}, 'pid_f88bec9623': {'std_dev': -3.87, 'n': 6}, 'pid_c6fbb009ed': {'std_dev': 2.61, 'n': 12}}   \n",
       "\n",
       "      anomaly_coef  \n",
       "1886        0.3107  \n",
       "1888        1.1375  \n",
       "1908       -0.3653  \n",
       "1916       -0.3341  \n",
       "1931       -0.3211  \n",
       "1956       -1.6094  \n",
       "1959       -1.8759  \n",
       "1960       -1.4300  \n",
       "1966       -2.4310  \n",
       "1990       -5.3378  \n",
       "2003       -1.2363  \n",
       "2015       -2.7118  \n",
       "2038       -2.5818  "
      ]
     },
     "execution_count": 141,
     "metadata": {},
     "output_type": "execute_result"
    }
   ],
   "source": [
    "forecast_anomaly[col_names]"
   ]
  },
  {
   "cell_type": "markdown",
   "metadata": {},
   "source": [
    "Банки"
   ]
  },
  {
   "cell_type": "code",
   "execution_count": 153,
   "metadata": {},
   "outputs": [
    {
     "data": {
      "text/html": [
       "<div>\n",
       "<style scoped>\n",
       "    .dataframe tbody tr th:only-of-type {\n",
       "        vertical-align: middle;\n",
       "    }\n",
       "\n",
       "    .dataframe tbody tr th {\n",
       "        vertical-align: top;\n",
       "    }\n",
       "\n",
       "    .dataframe thead th {\n",
       "        text-align: right;\n",
       "    }\n",
       "</style>\n",
       "<table border=\"1\" class=\"dataframe\">\n",
       "  <thead>\n",
       "    <tr style=\"text-align: right;\">\n",
       "      <th></th>\n",
       "      <th>ds</th>\n",
       "      <th>y1</th>\n",
       "      <th>yhat1</th>\n",
       "      <th>std_deviation</th>\n",
       "      <th>n</th>\n",
       "      <th>info</th>\n",
       "      <th>anomaly_coef</th>\n",
       "    </tr>\n",
       "  </thead>\n",
       "  <tbody>\n",
       "    <tr>\n",
       "      <th>1886</th>\n",
       "      <td>2020-03-19 14:00:00</td>\n",
       "      <td>37339.93</td>\n",
       "      <td>21172.679688</td>\n",
       "      <td>1.679131</td>\n",
       "      <td>189.0</td>\n",
       "      <td>{}</td>\n",
       "      <td>1.6590</td>\n",
       "    </tr>\n",
       "    <tr>\n",
       "      <th>1888</th>\n",
       "      <td>2020-03-19 16:00:00</td>\n",
       "      <td>44460.43</td>\n",
       "      <td>22508.525391</td>\n",
       "      <td>2.279926</td>\n",
       "      <td>220.0</td>\n",
       "      <td>{'bank_CAISSE NAT': {'std_dev': 1.65, 'n': 6}, 'bank_SWEDBANK, ': {'std_dev': 7.46, 'n': 8}, 'bank_MASTERCARD': {'std_dev': 3.36, 'n': 5}}</td>\n",
       "      <td>4.5808</td>\n",
       "    </tr>\n",
       "    <tr>\n",
       "      <th>1908</th>\n",
       "      <td>2020-03-20 12:00:00</td>\n",
       "      <td>11580.12</td>\n",
       "      <td>24147.509766</td>\n",
       "      <td>-1.305250</td>\n",
       "      <td>153.0</td>\n",
       "      <td>{'bank_POSTE ITAL_x': {'std_dev': -1.69, 'n': 6}, 'bank_POSTE ITAL_y': {'std_dev': -1.79, 'n': 6}}</td>\n",
       "      <td>-0.4634</td>\n",
       "    </tr>\n",
       "    <tr>\n",
       "      <th>1916</th>\n",
       "      <td>2020-03-20 20:00:00</td>\n",
       "      <td>38944.80</td>\n",
       "      <td>19739.203125</td>\n",
       "      <td>1.994694</td>\n",
       "      <td>161.0</td>\n",
       "      <td>{'bank_undefined': {'std_dev': 3.46, 'n': 31}}</td>\n",
       "      <td>2.1168</td>\n",
       "    </tr>\n",
       "    <tr>\n",
       "      <th>1931</th>\n",
       "      <td>2020-03-21 11:00:00</td>\n",
       "      <td>8771.10</td>\n",
       "      <td>21767.595703</td>\n",
       "      <td>-1.349817</td>\n",
       "      <td>160.0</td>\n",
       "      <td>{}</td>\n",
       "      <td>0.4382</td>\n",
       "    </tr>\n",
       "    <tr>\n",
       "      <th>1956</th>\n",
       "      <td>2020-03-22 12:00:00</td>\n",
       "      <td>8146.98</td>\n",
       "      <td>20963.044922</td>\n",
       "      <td>-1.331077</td>\n",
       "      <td>154.0</td>\n",
       "      <td>{'bank_LA BANQUE ': {'std_dev': 2.13, 'n': 4}}</td>\n",
       "      <td>0.2982</td>\n",
       "    </tr>\n",
       "    <tr>\n",
       "      <th>1959</th>\n",
       "      <td>2020-03-22 15:00:00</td>\n",
       "      <td>5976.31</td>\n",
       "      <td>19673.527344</td>\n",
       "      <td>-1.422594</td>\n",
       "      <td>131.0</td>\n",
       "      <td>{}</td>\n",
       "      <td>0.0000</td>\n",
       "    </tr>\n",
       "    <tr>\n",
       "      <th>1960</th>\n",
       "      <td>2020-03-22 16:00:00</td>\n",
       "      <td>7185.06</td>\n",
       "      <td>20365.796875</td>\n",
       "      <td>-1.368952</td>\n",
       "      <td>162.0</td>\n",
       "      <td>{'bank_CREDIT AGR_y': {'std_dev': 2.54, 'n': 4}, 'bank_CARTASI S.': {'std_dev': 3.36, 'n': 8}}</td>\n",
       "      <td>1.5918</td>\n",
       "    </tr>\n",
       "    <tr>\n",
       "      <th>1966</th>\n",
       "      <td>2020-03-22 22:00:00</td>\n",
       "      <td>5884.70</td>\n",
       "      <td>18187.121094</td>\n",
       "      <td>-1.277730</td>\n",
       "      <td>129.0</td>\n",
       "      <td>{}</td>\n",
       "      <td>-0.2828</td>\n",
       "    </tr>\n",
       "    <tr>\n",
       "      <th>1990</th>\n",
       "      <td>2020-03-23 22:00:00</td>\n",
       "      <td>7504.76</td>\n",
       "      <td>19671.992188</td>\n",
       "      <td>-1.263689</td>\n",
       "      <td>81.0</td>\n",
       "      <td>{'bank_BANQUE FED': {'std_dev': 2.99, 'n': 4}, 'bank_ROYAL BANK': {'std_dev': 1.54, 'n': 2}}</td>\n",
       "      <td>0.3108</td>\n",
       "    </tr>\n",
       "    <tr>\n",
       "      <th>1992</th>\n",
       "      <td>2020-03-24 00:00:00</td>\n",
       "      <td>2598.14</td>\n",
       "      <td>14174.263672</td>\n",
       "      <td>-1.202297</td>\n",
       "      <td>57.0</td>\n",
       "      <td>{'bank_BARCLAYS B': {'std_dev': -2.07, 'n': 4}, 'bank_CREDIT AGR_x': {'std_dev': 3.84, 'n': 2}}</td>\n",
       "      <td>0.2478</td>\n",
       "    </tr>\n",
       "    <tr>\n",
       "      <th>2003</th>\n",
       "      <td>2020-03-24 11:00:00</td>\n",
       "      <td>13057.00</td>\n",
       "      <td>25218.734375</td>\n",
       "      <td>-1.263118</td>\n",
       "      <td>138.0</td>\n",
       "      <td>{'bank_CAISSE NAT': {'std_dev': 1.84, 'n': 7}, 'bank_POSTE ITAL_x': {'std_dev': -1.45, 'n': 5}}</td>\n",
       "      <td>-0.1428</td>\n",
       "    </tr>\n",
       "    <tr>\n",
       "      <th>2015</th>\n",
       "      <td>2020-03-24 23:00:00</td>\n",
       "      <td>3347.54</td>\n",
       "      <td>17622.451172</td>\n",
       "      <td>-1.482593</td>\n",
       "      <td>90.0</td>\n",
       "      <td>{'bank_LA BANQUE ': {'std_dev': 1.84, 'n': 7}}</td>\n",
       "      <td>0.5264</td>\n",
       "    </tr>\n",
       "    <tr>\n",
       "      <th>2038</th>\n",
       "      <td>2020-03-25 22:00:00</td>\n",
       "      <td>5510.80</td>\n",
       "      <td>19752.330078</td>\n",
       "      <td>-1.479126</td>\n",
       "      <td>97.0</td>\n",
       "      <td>{}</td>\n",
       "      <td>0.0882</td>\n",
       "    </tr>\n",
       "  </tbody>\n",
       "</table>\n",
       "</div>"
      ],
      "text/plain": [
       "                      ds        y1         yhat1  std_deviation      n  \\\n",
       "1886 2020-03-19 14:00:00  37339.93  21172.679688       1.679131  189.0   \n",
       "1888 2020-03-19 16:00:00  44460.43  22508.525391       2.279926  220.0   \n",
       "1908 2020-03-20 12:00:00  11580.12  24147.509766      -1.305250  153.0   \n",
       "1916 2020-03-20 20:00:00  38944.80  19739.203125       1.994694  161.0   \n",
       "1931 2020-03-21 11:00:00   8771.10  21767.595703      -1.349817  160.0   \n",
       "1956 2020-03-22 12:00:00   8146.98  20963.044922      -1.331077  154.0   \n",
       "1959 2020-03-22 15:00:00   5976.31  19673.527344      -1.422594  131.0   \n",
       "1960 2020-03-22 16:00:00   7185.06  20365.796875      -1.368952  162.0   \n",
       "1966 2020-03-22 22:00:00   5884.70  18187.121094      -1.277730  129.0   \n",
       "1990 2020-03-23 22:00:00   7504.76  19671.992188      -1.263689   81.0   \n",
       "1992 2020-03-24 00:00:00   2598.14  14174.263672      -1.202297   57.0   \n",
       "2003 2020-03-24 11:00:00  13057.00  25218.734375      -1.263118  138.0   \n",
       "2015 2020-03-24 23:00:00   3347.54  17622.451172      -1.482593   90.0   \n",
       "2038 2020-03-25 22:00:00   5510.80  19752.330078      -1.479126   97.0   \n",
       "\n",
       "                                                                                                                                            info  \\\n",
       "1886                                                                                                                                          {}   \n",
       "1888  {'bank_CAISSE NAT': {'std_dev': 1.65, 'n': 6}, 'bank_SWEDBANK, ': {'std_dev': 7.46, 'n': 8}, 'bank_MASTERCARD': {'std_dev': 3.36, 'n': 5}}   \n",
       "1908                                          {'bank_POSTE ITAL_x': {'std_dev': -1.69, 'n': 6}, 'bank_POSTE ITAL_y': {'std_dev': -1.79, 'n': 6}}   \n",
       "1916                                                                                              {'bank_undefined': {'std_dev': 3.46, 'n': 31}}   \n",
       "1931                                                                                                                                          {}   \n",
       "1956                                                                                              {'bank_LA BANQUE ': {'std_dev': 2.13, 'n': 4}}   \n",
       "1959                                                                                                                                          {}   \n",
       "1960                                              {'bank_CREDIT AGR_y': {'std_dev': 2.54, 'n': 4}, 'bank_CARTASI S.': {'std_dev': 3.36, 'n': 8}}   \n",
       "1966                                                                                                                                          {}   \n",
       "1990                                                {'bank_BANQUE FED': {'std_dev': 2.99, 'n': 4}, 'bank_ROYAL BANK': {'std_dev': 1.54, 'n': 2}}   \n",
       "1992                                             {'bank_BARCLAYS B': {'std_dev': -2.07, 'n': 4}, 'bank_CREDIT AGR_x': {'std_dev': 3.84, 'n': 2}}   \n",
       "2003                                             {'bank_CAISSE NAT': {'std_dev': 1.84, 'n': 7}, 'bank_POSTE ITAL_x': {'std_dev': -1.45, 'n': 5}}   \n",
       "2015                                                                                              {'bank_LA BANQUE ': {'std_dev': 1.84, 'n': 7}}   \n",
       "2038                                                                                                                                          {}   \n",
       "\n",
       "      anomaly_coef  \n",
       "1886        1.6590  \n",
       "1888        4.5808  \n",
       "1908       -0.4634  \n",
       "1916        2.1168  \n",
       "1931        0.4382  \n",
       "1956        0.2982  \n",
       "1959        0.0000  \n",
       "1960        1.5918  \n",
       "1966       -0.2828  \n",
       "1990        0.3108  \n",
       "1992        0.2478  \n",
       "2003       -0.1428  \n",
       "2015        0.5264  \n",
       "2038        0.0882  "
      ]
     },
     "execution_count": 153,
     "metadata": {},
     "output_type": "execute_result"
    }
   ],
   "source": [
    "forecast_anomaly[col_names]"
   ]
  },
  {
   "cell_type": "code",
   "execution_count": null,
   "metadata": {},
   "outputs": [],
   "source": []
  },
  {
   "cell_type": "code",
   "execution_count": null,
   "metadata": {},
   "outputs": [],
   "source": []
  },
  {
   "cell_type": "code",
   "execution_count": null,
   "metadata": {},
   "outputs": [],
   "source": []
  },
  {
   "cell_type": "code",
   "execution_count": 529,
   "metadata": {},
   "outputs": [],
   "source": [
    "playoffs_future = pd.DataFrame({\n",
    "    'event': 'playoff',\n",
    "    'ds': pd.to_datetime(['2016-01-21', '2016-02-07'])\n",
    "})\n",
    "\n",
    "superbowl_future = pd.DataFrame({\n",
    "    'event': 'superbowl',\n",
    "    'ds': pd.to_datetime(['2016-01-23', '2016-02-07'])\n",
    "})\n",
    "\n",
    "future_events_df = pd.concat((playoffs_future, superbowl_future))"
   ]
  },
  {
   "cell_type": "code",
   "execution_count": 530,
   "metadata": {},
   "outputs": [
    {
     "data": {
      "text/html": [
       "<div>\n",
       "<style scoped>\n",
       "    .dataframe tbody tr th:only-of-type {\n",
       "        vertical-align: middle;\n",
       "    }\n",
       "\n",
       "    .dataframe tbody tr th {\n",
       "        vertical-align: top;\n",
       "    }\n",
       "\n",
       "    .dataframe thead th {\n",
       "        text-align: right;\n",
       "    }\n",
       "</style>\n",
       "<table border=\"1\" class=\"dataframe\">\n",
       "  <thead>\n",
       "    <tr style=\"text-align: right;\">\n",
       "      <th></th>\n",
       "      <th>event</th>\n",
       "      <th>ds</th>\n",
       "    </tr>\n",
       "  </thead>\n",
       "  <tbody>\n",
       "    <tr>\n",
       "      <th>0</th>\n",
       "      <td>playoff</td>\n",
       "      <td>2016-01-21</td>\n",
       "    </tr>\n",
       "    <tr>\n",
       "      <th>1</th>\n",
       "      <td>playoff</td>\n",
       "      <td>2016-02-07</td>\n",
       "    </tr>\n",
       "    <tr>\n",
       "      <th>0</th>\n",
       "      <td>superbowl</td>\n",
       "      <td>2016-01-23</td>\n",
       "    </tr>\n",
       "    <tr>\n",
       "      <th>1</th>\n",
       "      <td>superbowl</td>\n",
       "      <td>2016-02-07</td>\n",
       "    </tr>\n",
       "  </tbody>\n",
       "</table>\n",
       "</div>"
      ],
      "text/plain": [
       "       event         ds\n",
       "0    playoff 2016-01-21\n",
       "1    playoff 2016-02-07\n",
       "0  superbowl 2016-01-23\n",
       "1  superbowl 2016-02-07"
      ]
     },
     "execution_count": 530,
     "metadata": {},
     "output_type": "execute_result"
    }
   ],
   "source": [
    "future_events_df"
   ]
  }
 ],
 "metadata": {
  "kernelspec": {
   "display_name": "Python 3",
   "language": "python",
   "name": "python3"
  },
  "language_info": {
   "codemirror_mode": {
    "name": "ipython",
    "version": 3
   },
   "file_extension": ".py",
   "mimetype": "text/x-python",
   "name": "python",
   "nbconvert_exporter": "python",
   "pygments_lexer": "ipython3",
   "version": "3.7.6"
  }
 },
 "nbformat": 4,
 "nbformat_minor": 4
}
