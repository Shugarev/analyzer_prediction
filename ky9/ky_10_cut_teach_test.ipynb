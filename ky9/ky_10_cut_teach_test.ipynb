{
 "cells": [
  {
   "cell_type": "code",
   "execution_count": 2,
   "metadata": {},
   "outputs": [],
   "source": [
    "# %load ../import_data.py\n",
    "import pandas as pd\n",
    "import numpy as np\n",
    "import csv\n",
    "pd.set_option('display.max_colwidth', 1000)\n",
    "pd.set_option('display.max_rows', 20)\n",
    "pd.set_option('display.max_columns', 100)\n",
    "\n",
    "import os,sys,inspect\n",
    "currentdir = os.path.dirname(os.path.abspath(inspect.getfile(inspect.currentframe())))\n",
    "parentdir = os.path.dirname(currentdir)\n",
    "sys.path.insert(0,parentdir)\n",
    "\n",
    "from utils import UtilsKy\n",
    "from statistic import Statistic\n",
    "\n",
    "# for autoreload modules\n",
    "%load_ext autoreload\n",
    "%autoreload 2"
   ]
  },
  {
   "cell_type": "code",
   "execution_count": 36,
   "metadata": {},
   "outputs": [],
   "source": [
    "path_ky_10 = '/mnt/files/workdata/work/merchants/merchant_35_ky_2021-03-12/'"
   ]
  },
  {
   "cell_type": "code",
   "execution_count": 3,
   "metadata": {},
   "outputs": [],
   "source": [
    "# df_orig_research =  pd.read_csv(UtilsKy.KY_10_FOR_RESOLVE, dtype=str, keep_default_na=False)\n",
    "# df_orig_research.sort_values(by='date', ascending=True, inplace=True)"
   ]
  },
  {
   "cell_type": "code",
   "execution_count": 6,
   "metadata": {},
   "outputs": [],
   "source": [
    "# df_orig_research.shape"
   ]
  },
  {
   "cell_type": "code",
   "execution_count": 5,
   "metadata": {},
   "outputs": [
    {
     "data": {
      "text/plain": [
       "\"['id', 'order_id', 'type', 'status', 'amount', 'currency', 'terminal_id', 'mcc', 'project_id', 'date', 'country', 'zip', 'phone', 'ip', 'reported', 'status_old', 'reported_chargeback', 'date_cb_only', 'date_only', 'card_masked', 'card_expire', 'amount_usd']\""
      ]
     },
     "execution_count": 5,
     "metadata": {},
     "output_type": "execute_result"
    }
   ],
   "source": [
    "# str(list(df_orig_research))"
   ]
  },
  {
   "cell_type": "code",
   "execution_count": 7,
   "metadata": {},
   "outputs": [],
   "source": [
    "# df_orig_research.head(2)"
   ]
  },
  {
   "cell_type": "code",
   "execution_count": 3,
   "metadata": {},
   "outputs": [
    {
     "data": {
      "text/plain": [
       "'/mnt/files/workdata/work/merchants/merchant_35_ky_2021-03-12/02_pure_data/ky10_resolved.csv'"
      ]
     },
     "execution_count": 3,
     "metadata": {},
     "output_type": "execute_result"
    }
   ],
   "source": [
    "UtilsKy.KY_10_RESOLVED"
   ]
  },
  {
   "cell_type": "code",
   "execution_count": 4,
   "metadata": {},
   "outputs": [],
   "source": [
    "# holder_case, is_gender_undefined, gender\n",
    "df =  pd.read_csv(UtilsKy.KY_10_RESOLVED , dtype=str, keep_default_na=False)\n",
    "df.sort_values(by='date', ascending=True, inplace=True)"
   ]
  },
  {
   "cell_type": "code",
   "execution_count": 5,
   "metadata": {},
   "outputs": [
    {
     "data": {
      "text/plain": [
       "0    204707\n",
       "1      1399\n",
       "Name: status, dtype: int64"
      ]
     },
     "execution_count": 5,
     "metadata": {},
     "output_type": "execute_result"
    }
   ],
   "source": [
    "df.status.value_counts()"
   ]
  },
  {
   "cell_type": "code",
   "execution_count": 6,
   "metadata": {},
   "outputs": [
    {
     "data": {
      "text/html": [
       "<div>\n",
       "<style scoped>\n",
       "    .dataframe tbody tr th:only-of-type {\n",
       "        vertical-align: middle;\n",
       "    }\n",
       "\n",
       "    .dataframe tbody tr th {\n",
       "        vertical-align: top;\n",
       "    }\n",
       "\n",
       "    .dataframe thead th {\n",
       "        text-align: right;\n",
       "    }\n",
       "</style>\n",
       "<table border=\"1\" class=\"dataframe\">\n",
       "  <thead>\n",
       "    <tr style=\"text-align: right;\">\n",
       "      <th></th>\n",
       "      <th>amount</th>\n",
       "      <th>amount_usd</th>\n",
       "      <th>currency</th>\n",
       "      <th>id</th>\n",
       "      <th>order_id</th>\n",
       "    </tr>\n",
       "  </thead>\n",
       "  <tbody>\n",
       "    <tr>\n",
       "      <th>110162</th>\n",
       "      <td>0.97</td>\n",
       "      <td>0.97</td>\n",
       "      <td>ARS</td>\n",
       "      <td>491698******6628_2023-11</td>\n",
       "      <td>59267139033447313</td>\n",
       "    </tr>\n",
       "    <tr>\n",
       "      <th>37724</th>\n",
       "      <td>0.97</td>\n",
       "      <td>0.97</td>\n",
       "      <td>ARS</td>\n",
       "      <td>491698******6628_2023-11</td>\n",
       "      <td>59267243798279992</td>\n",
       "    </tr>\n",
       "    <tr>\n",
       "      <th>111177</th>\n",
       "      <td>8.36</td>\n",
       "      <td>8.36</td>\n",
       "      <td>ARS</td>\n",
       "      <td>523920******9904_2024-07</td>\n",
       "      <td>59282063641024519</td>\n",
       "    </tr>\n",
       "    <tr>\n",
       "      <th>38910</th>\n",
       "      <td>4.61</td>\n",
       "      <td>4.61</td>\n",
       "      <td>ARS</td>\n",
       "      <td>550209******8943_2028-01</td>\n",
       "      <td>59283963977831440</td>\n",
       "    </tr>\n",
       "    <tr>\n",
       "      <th>111426</th>\n",
       "      <td>55.24</td>\n",
       "      <td>55.24</td>\n",
       "      <td>ARS</td>\n",
       "      <td>511740******9952_2025-06</td>\n",
       "      <td>59286547047013311</td>\n",
       "    </tr>\n",
       "  </tbody>\n",
       "</table>\n",
       "</div>"
      ],
      "text/plain": [
       "       amount amount_usd currency                        id           order_id\n",
       "110162   0.97       0.97      ARS  491698******6628_2023-11  59267139033447313\n",
       "37724    0.97       0.97      ARS  491698******6628_2023-11  59267243798279992\n",
       "111177   8.36       8.36      ARS  523920******9904_2024-07  59282063641024519\n",
       "38910    4.61       4.61      ARS  550209******8943_2028-01  59283963977831440\n",
       "111426  55.24      55.24      ARS  511740******9952_2025-06  59286547047013311"
      ]
     },
     "execution_count": 6,
     "metadata": {},
     "output_type": "execute_result"
    }
   ],
   "source": [
    "mask = df.currency == 'ARS'\n",
    "col_names = ['amount', 'amount_usd','currency', 'id','order_id']\n",
    "df_ARS = df[mask]\n",
    "df_ARS[col_names].head()"
   ]
  },
  {
   "cell_type": "code",
   "execution_count": 7,
   "metadata": {},
   "outputs": [
    {
     "data": {
      "text/plain": [
       "(206106, 34)"
      ]
     },
     "execution_count": 7,
     "metadata": {},
     "output_type": "execute_result"
    }
   ],
   "source": [
    "df.shape"
   ]
  },
  {
   "cell_type": "code",
   "execution_count": 8,
   "metadata": {},
   "outputs": [
    {
     "data": {
      "text/plain": [
       "\"['amount', 'amount_deviation_usd', 'amount_usd', 'area_code', 'bank_currency', 'bank_name', 'bin', 'card_type', 'city', 'client_hour', 'continent_code', 'count_months_to_end_card', 'country', 'country_code3', 'currency', 'date', 'date_cb_only', 'date_only', 'day_of_week', 'distance_haversine', 'distance_l2', 'distance_sqs_subtraction', 'hour', 'id', 'is_bank_country_equal_country', 'is_city_resolved', 'is_ip_country_equal_country', 'latitude', 'longitude', 'metro_code', 'order_id', 'phone_2_norm', 'region_name', 'status']\""
      ]
     },
     "execution_count": 8,
     "metadata": {},
     "output_type": "execute_result"
    }
   ],
   "source": [
    "str(list(df))"
   ]
  },
  {
   "cell_type": "code",
   "execution_count": 9,
   "metadata": {},
   "outputs": [
    {
     "data": {
      "text/html": [
       "<div>\n",
       "<style scoped>\n",
       "    .dataframe tbody tr th:only-of-type {\n",
       "        vertical-align: middle;\n",
       "    }\n",
       "\n",
       "    .dataframe tbody tr th {\n",
       "        vertical-align: top;\n",
       "    }\n",
       "\n",
       "    .dataframe thead th {\n",
       "        text-align: right;\n",
       "    }\n",
       "</style>\n",
       "<table border=\"1\" class=\"dataframe\">\n",
       "  <thead>\n",
       "    <tr style=\"text-align: right;\">\n",
       "      <th></th>\n",
       "      <th>amount</th>\n",
       "      <th>amount_deviation_usd</th>\n",
       "      <th>amount_usd</th>\n",
       "      <th>area_code</th>\n",
       "      <th>bank_currency</th>\n",
       "      <th>bank_name</th>\n",
       "      <th>bin</th>\n",
       "      <th>card_type</th>\n",
       "      <th>city</th>\n",
       "      <th>client_hour</th>\n",
       "      <th>continent_code</th>\n",
       "      <th>count_months_to_end_card</th>\n",
       "      <th>country</th>\n",
       "      <th>country_code3</th>\n",
       "      <th>currency</th>\n",
       "      <th>date</th>\n",
       "      <th>date_cb_only</th>\n",
       "      <th>date_only</th>\n",
       "      <th>day_of_week</th>\n",
       "      <th>distance_haversine</th>\n",
       "      <th>distance_l2</th>\n",
       "      <th>distance_sqs_subtraction</th>\n",
       "      <th>hour</th>\n",
       "      <th>id</th>\n",
       "      <th>is_bank_country_equal_country</th>\n",
       "      <th>is_city_resolved</th>\n",
       "      <th>is_ip_country_equal_country</th>\n",
       "      <th>latitude</th>\n",
       "      <th>longitude</th>\n",
       "      <th>metro_code</th>\n",
       "      <th>order_id</th>\n",
       "      <th>phone_2_norm</th>\n",
       "      <th>region_name</th>\n",
       "      <th>status</th>\n",
       "    </tr>\n",
       "  </thead>\n",
       "  <tbody>\n",
       "    <tr>\n",
       "      <th>165912</th>\n",
       "      <td>54.85</td>\n",
       "      <td>-1</td>\n",
       "      <td>54.85</td>\n",
       "      <td>651</td>\n",
       "      <td>840</td>\n",
       "      <td>CAPITAL ONE BANK (USA), N.A.</td>\n",
       "      <td>517805</td>\n",
       "      <td>MasterCard</td>\n",
       "      <td>Stillwater</td>\n",
       "      <td>06</td>\n",
       "      <td>NA</td>\n",
       "      <td>28</td>\n",
       "      <td>USA</td>\n",
       "      <td>USA</td>\n",
       "      <td>USD</td>\n",
       "      <td>2021-03-13 14:38:49</td>\n",
       "      <td>undefined</td>\n",
       "      <td>2021-03-13</td>\n",
       "      <td>6</td>\n",
       "      <td>0.0552118621498109</td>\n",
       "      <td>0.114430582559431</td>\n",
       "      <td>6.99468512204249</td>\n",
       "      <td>14</td>\n",
       "      <td>517805******4638_2023-07</td>\n",
       "      <td>1</td>\n",
       "      <td>1</td>\n",
       "      <td>1</td>\n",
       "      <td>45.0648</td>\n",
       "      <td>-92.8473</td>\n",
       "      <td>613</td>\n",
       "      <td>59819808281420971</td>\n",
       "      <td>51</td>\n",
       "      <td>Minnesota</td>\n",
       "      <td>0</td>\n",
       "    </tr>\n",
       "    <tr>\n",
       "      <th>82668</th>\n",
       "      <td>25.34</td>\n",
       "      <td>-2</td>\n",
       "      <td>25.34</td>\n",
       "      <td>818</td>\n",
       "      <td>840</td>\n",
       "      <td>UNION BANK, N.A.</td>\n",
       "      <td>540997</td>\n",
       "      <td>MasterCard</td>\n",
       "      <td>Northridge</td>\n",
       "      <td>04</td>\n",
       "      <td>NA</td>\n",
       "      <td>28</td>\n",
       "      <td>USA</td>\n",
       "      <td>USA</td>\n",
       "      <td>USD</td>\n",
       "      <td>2021-03-13 14:39:08</td>\n",
       "      <td>undefined</td>\n",
       "      <td>2021-03-13</td>\n",
       "      <td>6</td>\n",
       "      <td>0.166839548711623</td>\n",
       "      <td>0.41243202264229</td>\n",
       "      <td>11.7057013365521</td>\n",
       "      <td>14</td>\n",
       "      <td>540997******5234_2023-07</td>\n",
       "      <td>1</td>\n",
       "      <td>1</td>\n",
       "      <td>1</td>\n",
       "      <td>34.2417</td>\n",
       "      <td>-118.5504</td>\n",
       "      <td>803</td>\n",
       "      <td>59819812872916680</td>\n",
       "      <td>51</td>\n",
       "      <td>California</td>\n",
       "      <td>0</td>\n",
       "    </tr>\n",
       "    <tr>\n",
       "      <th>187799</th>\n",
       "      <td>97.46</td>\n",
       "      <td>0</td>\n",
       "      <td>97.46</td>\n",
       "      <td>0</td>\n",
       "      <td>840</td>\n",
       "      <td>WELLS FARGO BANK, N.A.</td>\n",
       "      <td>558668</td>\n",
       "      <td>MasterCard</td>\n",
       "      <td>undefined</td>\n",
       "      <td>14</td>\n",
       "      <td>NA</td>\n",
       "      <td>4</td>\n",
       "      <td>USA</td>\n",
       "      <td>USA</td>\n",
       "      <td>USD</td>\n",
       "      <td>2021-03-13 14:39:56</td>\n",
       "      <td>undefined</td>\n",
       "      <td>2021-03-13</td>\n",
       "      <td>6</td>\n",
       "      <td>0.0140942632758067</td>\n",
       "      <td>0.033064662702264</td>\n",
       "      <td>7.74357209333864</td>\n",
       "      <td>14</td>\n",
       "      <td>558668******5264_2021-07</td>\n",
       "      <td>1</td>\n",
       "      <td>0</td>\n",
       "      <td>1</td>\n",
       "      <td>38.0000</td>\n",
       "      <td>-97.0000</td>\n",
       "      <td>0</td>\n",
       "      <td>59819825434352421</td>\n",
       "      <td>08</td>\n",
       "      <td>undefined</td>\n",
       "      <td>0</td>\n",
       "    </tr>\n",
       "    <tr>\n",
       "      <th>82669</th>\n",
       "      <td>21.48</td>\n",
       "      <td>-3</td>\n",
       "      <td>21.48</td>\n",
       "      <td>479</td>\n",
       "      <td>840</td>\n",
       "      <td>JPMORGAN CHASE BANK, N.A.</td>\n",
       "      <td>514377</td>\n",
       "      <td>MasterCard</td>\n",
       "      <td>Fayetteville</td>\n",
       "      <td>06</td>\n",
       "      <td>NA</td>\n",
       "      <td>34</td>\n",
       "      <td>USA</td>\n",
       "      <td>USA</td>\n",
       "      <td>USD</td>\n",
       "      <td>2021-03-13 14:40:05</td>\n",
       "      <td>undefined</td>\n",
       "      <td>2021-03-13</td>\n",
       "      <td>6</td>\n",
       "      <td>0.0267458853923512</td>\n",
       "      <td>0.0548513520816146</td>\n",
       "      <td>7.32239074962768</td>\n",
       "      <td>14</td>\n",
       "      <td>514377******6213_2024-01</td>\n",
       "      <td>1</td>\n",
       "      <td>1</td>\n",
       "      <td>1</td>\n",
       "      <td>36.1013</td>\n",
       "      <td>-94.2700</td>\n",
       "      <td>670</td>\n",
       "      <td>59819827278472307</td>\n",
       "      <td>79</td>\n",
       "      <td>Arkansas</td>\n",
       "      <td>0</td>\n",
       "    </tr>\n",
       "    <tr>\n",
       "      <th>150229</th>\n",
       "      <td>19.46</td>\n",
       "      <td>-3</td>\n",
       "      <td>19.46</td>\n",
       "      <td>0</td>\n",
       "      <td>124</td>\n",
       "      <td>BANK OF NOVA SCOTIA</td>\n",
       "      <td>453600</td>\n",
       "      <td>VISA card</td>\n",
       "      <td>Stoney Creek</td>\n",
       "      <td>07</td>\n",
       "      <td>NA</td>\n",
       "      <td>48</td>\n",
       "      <td>CAN</td>\n",
       "      <td>CAN</td>\n",
       "      <td>CAD</td>\n",
       "      <td>2021-03-13 14:40:07</td>\n",
       "      <td>undefined</td>\n",
       "      <td>2021-03-13</td>\n",
       "      <td>6</td>\n",
       "      <td>0.10936615072316</td>\n",
       "      <td>0.283816315675378</td>\n",
       "      <td>5.10128534888497</td>\n",
       "      <td>14</td>\n",
       "      <td>453600******5304_2025-03</td>\n",
       "      <td>1</td>\n",
       "      <td>1</td>\n",
       "      <td>1</td>\n",
       "      <td>43.2245</td>\n",
       "      <td>-79.6988</td>\n",
       "      <td>0</td>\n",
       "      <td>59819827963434448</td>\n",
       "      <td>05</td>\n",
       "      <td>Ontario</td>\n",
       "      <td>0</td>\n",
       "    </tr>\n",
       "  </tbody>\n",
       "</table>\n",
       "</div>"
      ],
      "text/plain": [
       "       amount amount_deviation_usd amount_usd area_code bank_currency  \\\n",
       "165912  54.85                   -1      54.85       651           840   \n",
       "82668   25.34                   -2      25.34       818           840   \n",
       "187799  97.46                    0      97.46         0           840   \n",
       "82669   21.48                   -3      21.48       479           840   \n",
       "150229  19.46                   -3      19.46         0           124   \n",
       "\n",
       "                           bank_name     bin   card_type          city  \\\n",
       "165912  CAPITAL ONE BANK (USA), N.A.  517805  MasterCard    Stillwater   \n",
       "82668               UNION BANK, N.A.  540997  MasterCard    Northridge   \n",
       "187799        WELLS FARGO BANK, N.A.  558668  MasterCard     undefined   \n",
       "82669      JPMORGAN CHASE BANK, N.A.  514377  MasterCard  Fayetteville   \n",
       "150229           BANK OF NOVA SCOTIA  453600   VISA card  Stoney Creek   \n",
       "\n",
       "       client_hour continent_code count_months_to_end_card country  \\\n",
       "165912          06             NA                       28     USA   \n",
       "82668           04             NA                       28     USA   \n",
       "187799          14             NA                        4     USA   \n",
       "82669           06             NA                       34     USA   \n",
       "150229          07             NA                       48     CAN   \n",
       "\n",
       "       country_code3 currency                 date date_cb_only   date_only  \\\n",
       "165912           USA      USD  2021-03-13 14:38:49    undefined  2021-03-13   \n",
       "82668            USA      USD  2021-03-13 14:39:08    undefined  2021-03-13   \n",
       "187799           USA      USD  2021-03-13 14:39:56    undefined  2021-03-13   \n",
       "82669            USA      USD  2021-03-13 14:40:05    undefined  2021-03-13   \n",
       "150229           CAN      CAD  2021-03-13 14:40:07    undefined  2021-03-13   \n",
       "\n",
       "       day_of_week  distance_haversine         distance_l2  \\\n",
       "165912           6  0.0552118621498109   0.114430582559431   \n",
       "82668            6   0.166839548711623    0.41243202264229   \n",
       "187799           6  0.0140942632758067   0.033064662702264   \n",
       "82669            6  0.0267458853923512  0.0548513520816146   \n",
       "150229           6    0.10936615072316   0.283816315675378   \n",
       "\n",
       "       distance_sqs_subtraction hour                        id  \\\n",
       "165912         6.99468512204249   14  517805******4638_2023-07   \n",
       "82668          11.7057013365521   14  540997******5234_2023-07   \n",
       "187799         7.74357209333864   14  558668******5264_2021-07   \n",
       "82669          7.32239074962768   14  514377******6213_2024-01   \n",
       "150229         5.10128534888497   14  453600******5304_2025-03   \n",
       "\n",
       "       is_bank_country_equal_country is_city_resolved  \\\n",
       "165912                             1                1   \n",
       "82668                              1                1   \n",
       "187799                             1                0   \n",
       "82669                              1                1   \n",
       "150229                             1                1   \n",
       "\n",
       "       is_ip_country_equal_country latitude  longitude metro_code  \\\n",
       "165912                           1  45.0648   -92.8473        613   \n",
       "82668                            1  34.2417  -118.5504        803   \n",
       "187799                           1  38.0000   -97.0000          0   \n",
       "82669                            1  36.1013   -94.2700        670   \n",
       "150229                           1  43.2245   -79.6988          0   \n",
       "\n",
       "                 order_id phone_2_norm region_name status  \n",
       "165912  59819808281420971           51   Minnesota      0  \n",
       "82668   59819812872916680           51  California      0  \n",
       "187799  59819825434352421           08   undefined      0  \n",
       "82669   59819827278472307           79    Arkansas      0  \n",
       "150229  59819827963434448           05     Ontario      0  "
      ]
     },
     "execution_count": 9,
     "metadata": {},
     "output_type": "execute_result"
    }
   ],
   "source": [
    "df.tail()"
   ]
  },
  {
   "cell_type": "code",
   "execution_count": 10,
   "metadata": {},
   "outputs": [
    {
     "data": {
      "text/plain": [
       "\"['amount', 'amount_deviation_usd', 'amount_usd', 'area_code', 'bank_currency', 'bank_name', 'bin', 'card_type', 'city', 'client_hour', 'continent_code', 'count_months_to_end_card', 'country', 'country_code3', 'currency', 'date', 'date_cb_only', 'date_only', 'day_of_week', 'distance_haversine', 'distance_l2', 'distance_sqs_subtraction', 'hour', 'id', 'is_bank_country_equal_country', 'is_city_resolved', 'is_ip_country_equal_country', 'latitude', 'longitude', 'metro_code', 'order_id', 'phone_2_norm', 'region_name', 'status']\""
      ]
     },
     "execution_count": 10,
     "metadata": {},
     "output_type": "execute_result"
    }
   ],
   "source": [
    "str(list(df))"
   ]
  },
  {
   "cell_type": "code",
   "execution_count": 11,
   "metadata": {},
   "outputs": [
    {
     "data": {
      "text/plain": [
       "(206106, 34)"
      ]
     },
     "execution_count": 11,
     "metadata": {},
     "output_type": "execute_result"
    }
   ],
   "source": [
    "df.shape"
   ]
  },
  {
   "cell_type": "markdown",
   "metadata": {},
   "source": [
    "##### Split df_orig_research"
   ]
  },
  {
   "cell_type": "code",
   "execution_count": 12,
   "metadata": {},
   "outputs": [],
   "source": [
    "df_good = Statistic.get_dt_good(df)\n",
    "df_bad = Statistic.get_dt_bad(df)\n",
    "n_good = df_good.shape[0]\n",
    "n_bad = df_bad.shape[0]"
   ]
  },
  {
   "cell_type": "code",
   "execution_count": 13,
   "metadata": {},
   "outputs": [
    {
     "name": "stdout",
     "output_type": "stream",
     "text": [
      "n_goood =  204707\n",
      "n_bad =  1399\n"
     ]
    }
   ],
   "source": [
    "print('n_goood = ', n_good )\n",
    "print('n_bad = ', n_bad)"
   ]
  },
  {
   "cell_type": "code",
   "execution_count": 24,
   "metadata": {},
   "outputs": [
    {
     "name": "stdout",
     "output_type": "stream",
     "text": [
      "n_teach_good=  96212\n",
      "n_test_good= 96212\n"
     ]
    }
   ],
   "source": [
    "# n_teach_good = round(n_good * 0.5) \n",
    "# n_test_good = round(n_good * 0.3) \n",
    "n_teach_good = round(n_good * 0.47) \n",
    "n_test_good = round(n_good * 0.47) \n",
    "\n",
    "print('n_teach_good= ',n_teach_good )\n",
    "print('n_test_good=', n_test_good)"
   ]
  },
  {
   "cell_type": "code",
   "execution_count": 25,
   "metadata": {},
   "outputs": [],
   "source": [
    "teach_good = df_good.iloc[:n_teach_good].copy()\n",
    "test_good = df_good.iloc[ -n_test_good:].copy()"
   ]
  },
  {
   "cell_type": "code",
   "execution_count": 26,
   "metadata": {},
   "outputs": [
    {
     "name": "stdout",
     "output_type": "stream",
     "text": [
      "test_bad_ids =  246\n"
     ]
    }
   ],
   "source": [
    "# n_test_bad_id = round(n_bad * 0.35)\n",
    "n_test_bad_id = round(n_bad * 0.42)\n",
    "test_bad_ids = df_bad.iloc[-n_test_bad_id:,].id.unique()\n",
    "print('test_bad_ids = ', len(test_bad_ids))"
   ]
  },
  {
   "cell_type": "code",
   "execution_count": 27,
   "metadata": {},
   "outputs": [],
   "source": [
    "mask = df_bad.id.isin(test_bad_ids)\n",
    "teach_bad = df_bad[~mask].copy()\n",
    "test_bad = df_bad[mask].copy()"
   ]
  },
  {
   "cell_type": "code",
   "execution_count": 28,
   "metadata": {},
   "outputs": [],
   "source": [
    "teach = pd.concat([teach_good, teach_bad])\n",
    "test = pd.concat([test_good, test_bad])"
   ]
  },
  {
   "cell_type": "code",
   "execution_count": 29,
   "metadata": {},
   "outputs": [
    {
     "data": {
      "text/plain": [
       "0    96212\n",
       "1      760\n",
       "Name: status, dtype: int64"
      ]
     },
     "execution_count": 29,
     "metadata": {},
     "output_type": "execute_result"
    }
   ],
   "source": [
    "teach.status.value_counts()"
   ]
  },
  {
   "cell_type": "code",
   "execution_count": 30,
   "metadata": {},
   "outputs": [
    {
     "data": {
      "text/plain": [
       "0    96212\n",
       "1      639\n",
       "Name: status, dtype: int64"
      ]
     },
     "execution_count": 30,
     "metadata": {},
     "output_type": "execute_result"
    }
   ],
   "source": [
    "test.status.value_counts()"
   ]
  },
  {
   "cell_type": "code",
   "execution_count": 25,
   "metadata": {},
   "outputs": [
    {
     "name": "stdout",
     "output_type": "stream",
     "text": [
      "teach_name =  ky10_2021-02-02_2021-02-27.csv\n",
      "test_name =  ky10_2021-03-04_2021-03-13.csv\n"
     ]
    }
   ],
   "source": [
    "# teach_min = min(teach_good.date_only)\n",
    "# teach_max = max(teach_good.date_only)\n",
    "\n",
    "# test_min = min(test_good.date_only)\n",
    "# test_max = max(test_good.date_only)\n",
    "\n",
    "# teach_name = 'ky10_' + teach_min + '_' + teach_max + '.csv'\n",
    "# test_name = 'ky10_' + test_min + '_' + test_max + '.csv'\n",
    "# print('teach_name = ', teach_name)\n",
    "# print('test_name = ', test_name)"
   ]
  },
  {
   "cell_type": "code",
   "execution_count": 32,
   "metadata": {},
   "outputs": [
    {
     "name": "stdout",
     "output_type": "stream",
     "text": [
      "teach_name =  2_ky10_2021-02-02_2021-02-26.csv\n",
      "test_name =  2_ky10_2021-02-28_2021-03-13.csv\n"
     ]
    }
   ],
   "source": [
    "teach_min = min(teach_good.date_only)\n",
    "teach_max = max(teach_good.date_only)\n",
    "\n",
    "test_min = min(test_good.date_only)\n",
    "test_max = max(test_good.date_only)\n",
    "\n",
    "teach_name = '2_ky10_' + teach_min + '_' + teach_max + '.csv'\n",
    "test_name = '2_ky10_' + test_min + '_' + test_max + '.csv'\n",
    "print('teach_name = ', teach_name)\n",
    "print('test_name = ', test_name)"
   ]
  },
  {
   "cell_type": "code",
   "execution_count": 26,
   "metadata": {},
   "outputs": [
    {
     "ename": "NameError",
     "evalue": "name 'path_ky_10' is not defined",
     "output_type": "error",
     "traceback": [
      "\u001b[0;31m---------------------------------------------------------------------------\u001b[0m",
      "\u001b[0;31mNameError\u001b[0m                                 Traceback (most recent call last)",
      "\u001b[0;32m<ipython-input-26-7f872aab8062>\u001b[0m in \u001b[0;36m<module>\u001b[0;34m\u001b[0m\n\u001b[0;32m----> 1\u001b[0;31m \u001b[0mpath_teach\u001b[0m \u001b[0;34m=\u001b[0m \u001b[0mpath_ky_10\u001b[0m \u001b[0;34m+\u001b[0m \u001b[0;34m'02_pure_data/'\u001b[0m \u001b[0;34m+\u001b[0m  \u001b[0mteach_name\u001b[0m\u001b[0;34m\u001b[0m\u001b[0;34m\u001b[0m\u001b[0m\n\u001b[0m\u001b[1;32m      2\u001b[0m \u001b[0mpath_test\u001b[0m \u001b[0;34m=\u001b[0m \u001b[0mpath_ky_10\u001b[0m \u001b[0;34m+\u001b[0m \u001b[0;34m'02_pure_data/'\u001b[0m \u001b[0;34m+\u001b[0m  \u001b[0mtest_name\u001b[0m\u001b[0;34m\u001b[0m\u001b[0;34m\u001b[0m\u001b[0m\n\u001b[1;32m      3\u001b[0m teach.to_csv(path_teach, index=False, quoting=csv.QUOTE_ALL)(\n\u001b[1;32m      4\u001b[0m test.to_csv(path_test, index=False, quoting=csv.QUOTE_ALL))\n",
      "\u001b[0;31mNameError\u001b[0m: name 'path_ky_10' is not defined"
     ]
    }
   ],
   "source": [
    "path_teach = path_ky_10 + '02_pure_data/' +  teach_name\n",
    "path_test = path_ky_10 + '02_pure_data/' +  test_name\n",
    "# teach.to_csv(path_teach, index=False, quoting=csv.QUOTE_ALL)\n",
    "# test.to_csv(path_test, index=False, quoting=csv.QUOTE_ALL))"
   ]
  },
  {
   "cell_type": "markdown",
   "metadata": {},
   "source": [
    "##### CREATE DATASET FOR KY9 TESTING"
   ]
  },
  {
   "cell_type": "code",
   "execution_count": 38,
   "metadata": {},
   "outputs": [],
   "source": [
    "df =  pd.read_csv(UtilsKy.KY_10_RESOLVED , dtype=str, keep_default_na=False)"
   ]
  },
  {
   "cell_type": "code",
   "execution_count": 39,
   "metadata": {},
   "outputs": [
    {
     "data": {
      "text/plain": [
       "0    204707\n",
       "1      1399\n",
       "Name: status, dtype: int64"
      ]
     },
     "execution_count": 39,
     "metadata": {},
     "output_type": "execute_result"
    }
   ],
   "source": [
    "df.status.value_counts()"
   ]
  },
  {
   "cell_type": "code",
   "execution_count": 40,
   "metadata": {},
   "outputs": [],
   "source": [
    "ky10_bad = Statistic.get_dt_bad(df)\n",
    "ky10_good = Statistic.get_dt_good(df)"
   ]
  },
  {
   "cell_type": "code",
   "execution_count": 41,
   "metadata": {},
   "outputs": [
    {
     "data": {
      "text/plain": [
       "(56204, 34)"
      ]
     },
     "execution_count": 41,
     "metadata": {},
     "output_type": "execute_result"
    }
   ],
   "source": [
    "mask = ky10_good.date_only < '2021-02-16'\n",
    "ky10_good = ky10_good[mask]\n",
    "ky10_good.shape"
   ]
  },
  {
   "cell_type": "code",
   "execution_count": 42,
   "metadata": {},
   "outputs": [
    {
     "name": "stderr",
     "output_type": "stream",
     "text": [
      "/home/sergey/anaconda3/lib/python3.7/site-packages/ipykernel_launcher.py:1: SettingWithCopyWarning: \n",
      "A value is trying to be set on a copy of a slice from a DataFrame.\n",
      "Try using .loc[row_indexer,col_indexer] = value instead\n",
      "\n",
      "See the caveats in the documentation: https://pandas.pydata.org/pandas-docs/stable/user_guide/indexing.html#returning-a-view-versus-a-copy\n",
      "  \"\"\"Entry point for launching an IPython kernel.\n"
     ]
    }
   ],
   "source": [
    "ky10_bad['id2'] = ky10_bad['id'] + '_' + ky10_bad['latitude'] + ky10_bad['longitude']"
   ]
  },
  {
   "cell_type": "code",
   "execution_count": 43,
   "metadata": {},
   "outputs": [
    {
     "data": {
      "text/plain": [
       "(1188, 34)"
      ]
     },
     "execution_count": 43,
     "metadata": {},
     "output_type": "execute_result"
    }
   ],
   "source": [
    "ky10_bad_sub =  ky10_bad.groupby('id2').head(5).reset_index(drop=True)\n",
    "ky10_bad_sub.drop(columns=['id2'], inplace=True)\n",
    "ky10_bad_sub.shape"
   ]
  },
  {
   "cell_type": "code",
   "execution_count": 44,
   "metadata": {},
   "outputs": [
    {
     "data": {
      "text/plain": [
       "'3_ky10_all_cb_2021-02-02_2021-02-15.csv'"
      ]
     },
     "execution_count": 44,
     "metadata": {},
     "output_type": "execute_result"
    }
   ],
   "source": [
    "teach_min = min(ky10_good.date_only)\n",
    "teach_max = max(ky10_good.date_only)\n",
    "teach_name = '3_ky10_all_cb_' + teach_min + '_' + teach_max + '.csv'\n",
    "teach_name"
   ]
  },
  {
   "cell_type": "code",
   "execution_count": 45,
   "metadata": {},
   "outputs": [
    {
     "data": {
      "text/plain": [
       "0    56204\n",
       "1     1188\n",
       "Name: status, dtype: int64"
      ]
     },
     "execution_count": 45,
     "metadata": {},
     "output_type": "execute_result"
    }
   ],
   "source": [
    "ky10_all_cb = pd.concat([ky10_good, ky10_bad_sub])\n",
    "ky10_all_cb.status.value_counts()"
   ]
  },
  {
   "cell_type": "code",
   "execution_count": 46,
   "metadata": {},
   "outputs": [],
   "source": [
    "path_teach = path_ky_10 + '02_pure_data/' +  teach_name\n",
    "ky10_all_cb.to_csv(path_teach, index=False, quoting=csv.QUOTE_ALL)"
   ]
  }
 ],
 "metadata": {
  "kernelspec": {
   "display_name": "Python 3",
   "language": "python",
   "name": "python3"
  },
  "language_info": {
   "codemirror_mode": {
    "name": "ipython",
    "version": 3
   },
   "file_extension": ".py",
   "mimetype": "text/x-python",
   "name": "python",
   "nbconvert_exporter": "python",
   "pygments_lexer": "ipython3",
   "version": "3.7.6"
  }
 },
 "nbformat": 4,
 "nbformat_minor": 4
}
