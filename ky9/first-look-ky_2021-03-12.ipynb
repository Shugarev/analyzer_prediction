{
 "cells": [
  {
   "cell_type": "code",
   "execution_count": 1,
   "metadata": {},
   "outputs": [],
   "source": [
    "# %load ../import_data.py\n",
    "from collections import Counter\n",
    "import pandas as pd\n",
    "import numpy as np\n",
    "pd.set_option('display.max_colwidth', 1000)\n",
    "pd.set_option('display.max_rows', 20)\n",
    "\n",
    "import xgboost as xgb\n",
    "\n",
    "import os,sys,inspect\n",
    "currentdir = os.path.dirname(os.path.abspath(inspect.getfile(inspect.currentframe())))\n",
    "parentdir = os.path.dirname(currentdir)\n",
    "sys.path.insert(0,parentdir)\n",
    "\n",
    "from statistic import Statistic\n",
    "from utils import UtilsKy\n",
    "from analyzer import HelperAnalyzer, AnalyzerPrediction\n",
    "\n",
    "# for autoreload modules\n",
    "%load_ext autoreload\n",
    "%autoreload 2\n",
    "\n",
    "# path_data = '/mnt/files/workdata/work/merchants/merchant_32_ky9_2020-05-12_white_visa/04_experiments/'\n",
    "# db_teach = pd.read_csv(UtilsKy.DB_TEACH_KY9, dtype=str)\n",
    "# db_test = pd.read_csv(UtilsKy.DB_TEST_KY9, dtype=str)\n",
    "# white = pd.read_csv(UtilsKy.WHITE_KY9 , dtype=str)"
   ]
  },
  {
   "cell_type": "code",
   "execution_count": 2,
   "metadata": {},
   "outputs": [],
   "source": [
    "import csv\n",
    "path_merch = '/mnt/files/workdata/work/merchants/merchant_35_ky_2021-03-12/'\n",
    "# /mnt/files/workdata/work/merchants/merchant_35_ky_2021-03-12/01_raw_data"
   ]
  },
  {
   "cell_type": "code",
   "execution_count": 3,
   "metadata": {},
   "outputs": [],
   "source": [
    "path_df = path_merch + '01_raw_data/20210313-canis-vulgaris-for-ml-operations.csv'\n",
    "path_df_bad =  path_merch + '01_raw_data/20210313-canis-vulgaris-for-ml-fraud.csv'"
   ]
  },
  {
   "cell_type": "code",
   "execution_count": 4,
   "metadata": {},
   "outputs": [],
   "source": [
    "df_100 = pd.read_csv(path_df, sep='\\t' ,dtype=str, nrows=99, keep_default_na=False)"
   ]
  },
  {
   "cell_type": "code",
   "execution_count": 5,
   "metadata": {},
   "outputs": [
    {
     "data": {
      "text/plain": [
       "\"['id', 'order_id', 'type', 'status', 'amount', 'currency', 'terminal_id', 'mcc', 'project_id', 'created', 'pan', 'expiration_year', 'expiration_month', 'country', 'zip', 'phone', 'ip']\""
      ]
     },
     "execution_count": 5,
     "metadata": {},
     "output_type": "execute_result"
    }
   ],
   "source": [
    "str(list(df_100))"
   ]
  },
  {
   "cell_type": "code",
   "execution_count": 6,
   "metadata": {},
   "outputs": [
    {
     "data": {
      "text/html": [
       "<div>\n",
       "<style scoped>\n",
       "    .dataframe tbody tr th:only-of-type {\n",
       "        vertical-align: middle;\n",
       "    }\n",
       "\n",
       "    .dataframe tbody tr th {\n",
       "        vertical-align: top;\n",
       "    }\n",
       "\n",
       "    .dataframe thead th {\n",
       "        text-align: right;\n",
       "    }\n",
       "</style>\n",
       "<table border=\"1\" class=\"dataframe\">\n",
       "  <thead>\n",
       "    <tr style=\"text-align: right;\">\n",
       "      <th></th>\n",
       "      <th>id</th>\n",
       "      <th>order_id</th>\n",
       "      <th>type</th>\n",
       "      <th>status</th>\n",
       "      <th>amount</th>\n",
       "      <th>currency</th>\n",
       "      <th>terminal_id</th>\n",
       "      <th>mcc</th>\n",
       "      <th>project_id</th>\n",
       "      <th>created</th>\n",
       "      <th>pan</th>\n",
       "      <th>expiration_year</th>\n",
       "      <th>expiration_month</th>\n",
       "      <th>country</th>\n",
       "      <th>zip</th>\n",
       "      <th>phone</th>\n",
       "      <th>ip</th>\n",
       "    </tr>\n",
       "  </thead>\n",
       "  <tbody>\n",
       "    <tr>\n",
       "      <th>0</th>\n",
       "      <td>183115710</td>\n",
       "      <td>58963194491047906</td>\n",
       "      <td>authorize</td>\n",
       "      <td>failure</td>\n",
       "      <td>25.32</td>\n",
       "      <td>USD</td>\n",
       "      <td>568a5ee9d6625d4c61738b836e8e66356dc61ae6</td>\n",
       "      <td>5945</td>\n",
       "      <td>3e16ad3609f8237404cc7aeb4df7fd3a2e1f2724</td>\n",
       "      <td>2021-02-02 21:09:39</td>\n",
       "      <td>514841****5179</td>\n",
       "      <td>22</td>\n",
       "      <td>5</td>\n",
       "      <td>USA</td>\n",
       "      <td>13215</td>\n",
       "      <td>3155602060</td>\n",
       "      <td>72.237.4.249</td>\n",
       "    </tr>\n",
       "    <tr>\n",
       "      <th>1</th>\n",
       "      <td>183115782</td>\n",
       "      <td>58963204904455627</td>\n",
       "      <td>authorize</td>\n",
       "      <td>success</td>\n",
       "      <td>141.68</td>\n",
       "      <td>USD</td>\n",
       "      <td>6e47c22917615e7d98fd3bdd6c9a9aa46801d326</td>\n",
       "      <td>5945</td>\n",
       "      <td>3e16ad3609f8237404cc7aeb4df7fd3a2e1f2724</td>\n",
       "      <td>2021-02-02 21:10:20</td>\n",
       "      <td>448233****3385</td>\n",
       "      <td>22</td>\n",
       "      <td>4</td>\n",
       "      <td>USA</td>\n",
       "      <td>06248</td>\n",
       "      <td>8608696059</td>\n",
       "      <td>73.149.7.42</td>\n",
       "    </tr>\n",
       "    <tr>\n",
       "      <th>2</th>\n",
       "      <td>183115785</td>\n",
       "      <td>58963204904455627</td>\n",
       "      <td>charge</td>\n",
       "      <td>success</td>\n",
       "      <td>141.68</td>\n",
       "      <td>USD</td>\n",
       "      <td>6e47c22917615e7d98fd3bdd6c9a9aa46801d326</td>\n",
       "      <td>5945</td>\n",
       "      <td>3e16ad3609f8237404cc7aeb4df7fd3a2e1f2724</td>\n",
       "      <td>2021-02-02 21:10:22</td>\n",
       "      <td>448233****3385</td>\n",
       "      <td>22</td>\n",
       "      <td>4</td>\n",
       "      <td>USA</td>\n",
       "      <td>06248</td>\n",
       "      <td>8608696059</td>\n",
       "      <td>73.149.7.42</td>\n",
       "    </tr>\n",
       "    <tr>\n",
       "      <th>3</th>\n",
       "      <td>183115905</td>\n",
       "      <td>58963219744750136</td>\n",
       "      <td>authorize</td>\n",
       "      <td>success</td>\n",
       "      <td>26.83</td>\n",
       "      <td>USD</td>\n",
       "      <td>7e056fed4960c5b2f58c35a1e4873dc5e687d4c6</td>\n",
       "      <td>5945</td>\n",
       "      <td>3e16ad3609f8237404cc7aeb4df7fd3a2e1f2724</td>\n",
       "      <td>2021-02-02 21:11:18</td>\n",
       "      <td>438787****8595</td>\n",
       "      <td>24</td>\n",
       "      <td>11</td>\n",
       "      <td>USA</td>\n",
       "      <td>11590</td>\n",
       "      <td>5163857019</td>\n",
       "      <td>174.197.204.100</td>\n",
       "    </tr>\n",
       "    <tr>\n",
       "      <th>4</th>\n",
       "      <td>183115916</td>\n",
       "      <td>58963219744750136</td>\n",
       "      <td>charge</td>\n",
       "      <td>success</td>\n",
       "      <td>26.83</td>\n",
       "      <td>USD</td>\n",
       "      <td>7e056fed4960c5b2f58c35a1e4873dc5e687d4c6</td>\n",
       "      <td>5945</td>\n",
       "      <td>3e16ad3609f8237404cc7aeb4df7fd3a2e1f2724</td>\n",
       "      <td>2021-02-02 21:11:20</td>\n",
       "      <td>438787****8595</td>\n",
       "      <td>24</td>\n",
       "      <td>11</td>\n",
       "      <td>USA</td>\n",
       "      <td>11590</td>\n",
       "      <td>5163857019</td>\n",
       "      <td>174.197.204.100</td>\n",
       "    </tr>\n",
       "  </tbody>\n",
       "</table>\n",
       "</div>"
      ],
      "text/plain": [
       "          id           order_id       type   status  amount currency  \\\n",
       "0  183115710  58963194491047906  authorize  failure   25.32      USD   \n",
       "1  183115782  58963204904455627  authorize  success  141.68      USD   \n",
       "2  183115785  58963204904455627     charge  success  141.68      USD   \n",
       "3  183115905  58963219744750136  authorize  success   26.83      USD   \n",
       "4  183115916  58963219744750136     charge  success   26.83      USD   \n",
       "\n",
       "                                terminal_id   mcc  \\\n",
       "0  568a5ee9d6625d4c61738b836e8e66356dc61ae6  5945   \n",
       "1  6e47c22917615e7d98fd3bdd6c9a9aa46801d326  5945   \n",
       "2  6e47c22917615e7d98fd3bdd6c9a9aa46801d326  5945   \n",
       "3  7e056fed4960c5b2f58c35a1e4873dc5e687d4c6  5945   \n",
       "4  7e056fed4960c5b2f58c35a1e4873dc5e687d4c6  5945   \n",
       "\n",
       "                                 project_id              created  \\\n",
       "0  3e16ad3609f8237404cc7aeb4df7fd3a2e1f2724  2021-02-02 21:09:39   \n",
       "1  3e16ad3609f8237404cc7aeb4df7fd3a2e1f2724  2021-02-02 21:10:20   \n",
       "2  3e16ad3609f8237404cc7aeb4df7fd3a2e1f2724  2021-02-02 21:10:22   \n",
       "3  3e16ad3609f8237404cc7aeb4df7fd3a2e1f2724  2021-02-02 21:11:18   \n",
       "4  3e16ad3609f8237404cc7aeb4df7fd3a2e1f2724  2021-02-02 21:11:20   \n",
       "\n",
       "              pan expiration_year expiration_month country    zip       phone  \\\n",
       "0  514841****5179              22                5     USA  13215  3155602060   \n",
       "1  448233****3385              22                4     USA  06248  8608696059   \n",
       "2  448233****3385              22                4     USA  06248  8608696059   \n",
       "3  438787****8595              24               11     USA  11590  5163857019   \n",
       "4  438787****8595              24               11     USA  11590  5163857019   \n",
       "\n",
       "                ip  \n",
       "0     72.237.4.249  \n",
       "1      73.149.7.42  \n",
       "2      73.149.7.42  \n",
       "3  174.197.204.100  \n",
       "4  174.197.204.100  "
      ]
     },
     "execution_count": 6,
     "metadata": {},
     "output_type": "execute_result"
    }
   ],
   "source": [
    "df_100.head()"
   ]
  },
  {
   "cell_type": "code",
   "execution_count": 7,
   "metadata": {},
   "outputs": [],
   "source": [
    "df =  pd.read_csv(path_df, sep='\\t' ,dtype=str, keep_default_na=False)"
   ]
  },
  {
   "cell_type": "code",
   "execution_count": 8,
   "metadata": {},
   "outputs": [
    {
     "data": {
      "text/plain": [
       "468821"
      ]
     },
     "execution_count": 8,
     "metadata": {},
     "output_type": "execute_result"
    }
   ],
   "source": [
    "df.shape[0]"
   ]
  },
  {
   "cell_type": "code",
   "execution_count": 9,
   "metadata": {},
   "outputs": [
    {
     "data": {
      "text/html": [
       "<div>\n",
       "<style scoped>\n",
       "    .dataframe tbody tr th:only-of-type {\n",
       "        vertical-align: middle;\n",
       "    }\n",
       "\n",
       "    .dataframe tbody tr th {\n",
       "        vertical-align: top;\n",
       "    }\n",
       "\n",
       "    .dataframe thead th {\n",
       "        text-align: right;\n",
       "    }\n",
       "</style>\n",
       "<table border=\"1\" class=\"dataframe\">\n",
       "  <thead>\n",
       "    <tr style=\"text-align: right;\">\n",
       "      <th></th>\n",
       "      <th>id</th>\n",
       "      <th>order_id</th>\n",
       "      <th>type</th>\n",
       "      <th>status</th>\n",
       "      <th>amount</th>\n",
       "      <th>currency</th>\n",
       "      <th>terminal_id</th>\n",
       "      <th>mcc</th>\n",
       "      <th>project_id</th>\n",
       "      <th>created</th>\n",
       "      <th>pan</th>\n",
       "      <th>expiration_year</th>\n",
       "      <th>expiration_month</th>\n",
       "      <th>country</th>\n",
       "      <th>zip</th>\n",
       "      <th>phone</th>\n",
       "      <th>ip</th>\n",
       "    </tr>\n",
       "  </thead>\n",
       "  <tbody>\n",
       "    <tr>\n",
       "      <th>468816</th>\n",
       "      <td>190689545</td>\n",
       "      <td>59819743760722526</td>\n",
       "      <td>authorize</td>\n",
       "      <td>success</td>\n",
       "      <td>103.58</td>\n",
       "      <td>CAD</td>\n",
       "      <td>4284af4c1f34eb9d02ac9116bb4e554ddf728f64</td>\n",
       "      <td>7311</td>\n",
       "      <td>ad3295ea1672533f0892043933e3d1b44a8aa359</td>\n",
       "      <td>2021-03-13 14:34:35</td>\n",
       "      <td>522303****5829</td>\n",
       "      <td>25</td>\n",
       "      <td>5</td>\n",
       "      <td>CAN</td>\n",
       "      <td>M6S-5B3</td>\n",
       "      <td>6478825506</td>\n",
       "      <td>72.138.207.35</td>\n",
       "    </tr>\n",
       "    <tr>\n",
       "      <th>468817</th>\n",
       "      <td>190689557</td>\n",
       "      <td>59819743760722526</td>\n",
       "      <td>charge</td>\n",
       "      <td>success</td>\n",
       "      <td>103.58</td>\n",
       "      <td>CAD</td>\n",
       "      <td>4284af4c1f34eb9d02ac9116bb4e554ddf728f64</td>\n",
       "      <td>7311</td>\n",
       "      <td>ad3295ea1672533f0892043933e3d1b44a8aa359</td>\n",
       "      <td>2021-03-13 14:34:37</td>\n",
       "      <td>522303****5829</td>\n",
       "      <td>25</td>\n",
       "      <td>5</td>\n",
       "      <td>CAN</td>\n",
       "      <td>M6S-5B3</td>\n",
       "      <td>6478825506</td>\n",
       "      <td>72.138.207.35</td>\n",
       "    </tr>\n",
       "    <tr>\n",
       "      <th>468818</th>\n",
       "      <td>190689631</td>\n",
       "      <td>59819747759984116</td>\n",
       "      <td>authorize</td>\n",
       "      <td>failure</td>\n",
       "      <td>108.98</td>\n",
       "      <td>USD</td>\n",
       "      <td>4284af4c1f34eb9d02ac9116bb4e554ddf728f64</td>\n",
       "      <td>7311</td>\n",
       "      <td>ad3295ea1672533f0892043933e3d1b44a8aa359</td>\n",
       "      <td>2021-03-13 14:34:50</td>\n",
       "      <td>517805****5516</td>\n",
       "      <td>22</td>\n",
       "      <td>7</td>\n",
       "      <td>USA</td>\n",
       "      <td>91306</td>\n",
       "      <td>8162889435</td>\n",
       "      <td>136.34.79.4</td>\n",
       "    </tr>\n",
       "    <tr>\n",
       "      <th>468819</th>\n",
       "      <td>190689739</td>\n",
       "      <td>59819759416841735</td>\n",
       "      <td>authorize</td>\n",
       "      <td>success</td>\n",
       "      <td>759.41</td>\n",
       "      <td>AUD</td>\n",
       "      <td>4284af4c1f34eb9d02ac9116bb4e554ddf728f64</td>\n",
       "      <td>7311</td>\n",
       "      <td>ad3295ea1672533f0892043933e3d1b44a8aa359</td>\n",
       "      <td>2021-03-13 14:35:36</td>\n",
       "      <td>543568****0083</td>\n",
       "      <td>25</td>\n",
       "      <td>11</td>\n",
       "      <td>AUS</td>\n",
       "      <td>6430</td>\n",
       "      <td>417982032</td>\n",
       "      <td>180.150.81.214</td>\n",
       "    </tr>\n",
       "    <tr>\n",
       "      <th>468820</th>\n",
       "      <td>190689744</td>\n",
       "      <td>59819759416841735</td>\n",
       "      <td>charge</td>\n",
       "      <td>success</td>\n",
       "      <td>759.41</td>\n",
       "      <td>AUD</td>\n",
       "      <td>4284af4c1f34eb9d02ac9116bb4e554ddf728f64</td>\n",
       "      <td>7311</td>\n",
       "      <td>ad3295ea1672533f0892043933e3d1b44a8aa359</td>\n",
       "      <td>2021-03-13 14:35:38</td>\n",
       "      <td>543568****0083</td>\n",
       "      <td>25</td>\n",
       "      <td>11</td>\n",
       "      <td>AUS</td>\n",
       "      <td>6430</td>\n",
       "      <td>417982032</td>\n",
       "      <td>180.150.81.214</td>\n",
       "    </tr>\n",
       "  </tbody>\n",
       "</table>\n",
       "</div>"
      ],
      "text/plain": [
       "               id           order_id       type   status  amount currency  \\\n",
       "468816  190689545  59819743760722526  authorize  success  103.58      CAD   \n",
       "468817  190689557  59819743760722526     charge  success  103.58      CAD   \n",
       "468818  190689631  59819747759984116  authorize  failure  108.98      USD   \n",
       "468819  190689739  59819759416841735  authorize  success  759.41      AUD   \n",
       "468820  190689744  59819759416841735     charge  success  759.41      AUD   \n",
       "\n",
       "                                     terminal_id   mcc  \\\n",
       "468816  4284af4c1f34eb9d02ac9116bb4e554ddf728f64  7311   \n",
       "468817  4284af4c1f34eb9d02ac9116bb4e554ddf728f64  7311   \n",
       "468818  4284af4c1f34eb9d02ac9116bb4e554ddf728f64  7311   \n",
       "468819  4284af4c1f34eb9d02ac9116bb4e554ddf728f64  7311   \n",
       "468820  4284af4c1f34eb9d02ac9116bb4e554ddf728f64  7311   \n",
       "\n",
       "                                      project_id              created  \\\n",
       "468816  ad3295ea1672533f0892043933e3d1b44a8aa359  2021-03-13 14:34:35   \n",
       "468817  ad3295ea1672533f0892043933e3d1b44a8aa359  2021-03-13 14:34:37   \n",
       "468818  ad3295ea1672533f0892043933e3d1b44a8aa359  2021-03-13 14:34:50   \n",
       "468819  ad3295ea1672533f0892043933e3d1b44a8aa359  2021-03-13 14:35:36   \n",
       "468820  ad3295ea1672533f0892043933e3d1b44a8aa359  2021-03-13 14:35:38   \n",
       "\n",
       "                   pan expiration_year expiration_month country      zip  \\\n",
       "468816  522303****5829              25                5     CAN  M6S-5B3   \n",
       "468817  522303****5829              25                5     CAN  M6S-5B3   \n",
       "468818  517805****5516              22                7     USA    91306   \n",
       "468819  543568****0083              25               11     AUS     6430   \n",
       "468820  543568****0083              25               11     AUS     6430   \n",
       "\n",
       "             phone              ip  \n",
       "468816  6478825506   72.138.207.35  \n",
       "468817  6478825506   72.138.207.35  \n",
       "468818  8162889435     136.34.79.4  \n",
       "468819   417982032  180.150.81.214  \n",
       "468820   417982032  180.150.81.214  "
      ]
     },
     "execution_count": 9,
     "metadata": {},
     "output_type": "execute_result"
    }
   ],
   "source": [
    "df.tail()"
   ]
  },
  {
   "cell_type": "code",
   "execution_count": 10,
   "metadata": {},
   "outputs": [],
   "source": [
    "df_bad =  pd.read_csv(path_df_bad, sep='\\t' ,dtype=str, keep_default_na=False)"
   ]
  },
  {
   "cell_type": "code",
   "execution_count": 11,
   "metadata": {},
   "outputs": [
    {
     "data": {
      "text/html": [
       "<div>\n",
       "<style scoped>\n",
       "    .dataframe tbody tr th:only-of-type {\n",
       "        vertical-align: middle;\n",
       "    }\n",
       "\n",
       "    .dataframe tbody tr th {\n",
       "        vertical-align: top;\n",
       "    }\n",
       "\n",
       "    .dataframe thead th {\n",
       "        text-align: right;\n",
       "    }\n",
       "</style>\n",
       "<table border=\"1\" class=\"dataframe\">\n",
       "  <thead>\n",
       "    <tr style=\"text-align: right;\">\n",
       "      <th></th>\n",
       "      <th>id</th>\n",
       "      <th>status</th>\n",
       "      <th>date</th>\n",
       "      <th>reason</th>\n",
       "      <th>fraud_type</th>\n",
       "      <th>report_date</th>\n",
       "      <th>created</th>\n",
       "      <th>terminal_id</th>\n",
       "      <th>mcc</th>\n",
       "      <th>project_id</th>\n",
       "      <th>created.1</th>\n",
       "      <th>pan</th>\n",
       "      <th>expiration_year</th>\n",
       "      <th>expiration_month</th>\n",
       "      <th>country</th>\n",
       "      <th>zip</th>\n",
       "      <th>phone</th>\n",
       "      <th>ip</th>\n",
       "    </tr>\n",
       "  </thead>\n",
       "  <tbody>\n",
       "    <tr>\n",
       "      <th>0</th>\n",
       "      <td>58989100919705840</td>\n",
       "      <td>chargedback</td>\n",
       "      <td>2021-02-07</td>\n",
       "      <td>fraudreport</td>\n",
       "      <td>6</td>\n",
       "      <td>2021-02-09</td>\n",
       "      <td>2021-02-09 16:02:36</td>\n",
       "      <td>568a5ee9d6625d4c61738b836e8e66356dc61ae6</td>\n",
       "      <td>5945</td>\n",
       "      <td>3e16ad3609f8237404cc7aeb4df7fd3a2e1f2724</td>\n",
       "      <td>2021-02-04 01:16:15</td>\n",
       "      <td>481582****9076</td>\n",
       "      <td>24</td>\n",
       "      <td>10</td>\n",
       "      <td>USA</td>\n",
       "      <td>02494</td>\n",
       "      <td>5104488968</td>\n",
       "      <td>172.58.35.224</td>\n",
       "    </tr>\n",
       "  </tbody>\n",
       "</table>\n",
       "</div>"
      ],
      "text/plain": [
       "                  id       status        date       reason fraud_type  \\\n",
       "0  58989100919705840  chargedback  2021-02-07  fraudreport          6   \n",
       "\n",
       "  report_date              created                               terminal_id  \\\n",
       "0  2021-02-09  2021-02-09 16:02:36  568a5ee9d6625d4c61738b836e8e66356dc61ae6   \n",
       "\n",
       "    mcc                                project_id            created.1  \\\n",
       "0  5945  3e16ad3609f8237404cc7aeb4df7fd3a2e1f2724  2021-02-04 01:16:15   \n",
       "\n",
       "              pan expiration_year expiration_month country    zip       phone  \\\n",
       "0  481582****9076              24               10     USA  02494  5104488968   \n",
       "\n",
       "              ip  \n",
       "0  172.58.35.224  "
      ]
     },
     "execution_count": 11,
     "metadata": {},
     "output_type": "execute_result"
    }
   ],
   "source": [
    "df_bad.head(1)"
   ]
  },
  {
   "cell_type": "code",
   "execution_count": 12,
   "metadata": {},
   "outputs": [
    {
     "data": {
      "text/plain": [
       "chargedback    913\n",
       "charged        275\n",
       "refunded        15\n",
       "Name: status, dtype: int64"
      ]
     },
     "execution_count": 12,
     "metadata": {},
     "output_type": "execute_result"
    }
   ],
   "source": [
    "df_bad.status.value_counts()"
   ]
  },
  {
   "cell_type": "code",
   "execution_count": 13,
   "metadata": {},
   "outputs": [
    {
     "data": {
      "text/plain": [
       "1203"
      ]
     },
     "execution_count": 13,
     "metadata": {},
     "output_type": "execute_result"
    }
   ],
   "source": [
    "df_bad.shape[0]"
   ]
  },
  {
   "cell_type": "code",
   "execution_count": 17,
   "metadata": {},
   "outputs": [
    {
     "data": {
      "text/plain": [
       "1203"
      ]
     },
     "execution_count": 17,
     "metadata": {},
     "output_type": "execute_result"
    }
   ],
   "source": [
    "len(df_bad.id.unique())"
   ]
  },
  {
   "cell_type": "code",
   "execution_count": 18,
   "metadata": {},
   "outputs": [
    {
     "data": {
      "text/plain": [
       "\"['id', 'order_id', 'type', 'status', 'amount', 'currency', 'terminal_id', 'mcc', 'project_id', 'created', 'pan', 'expiration_year', 'expiration_month', 'country', 'zip', 'phone', 'ip']\""
      ]
     },
     "execution_count": 18,
     "metadata": {},
     "output_type": "execute_result"
    }
   ],
   "source": [
    "str(list(df))"
   ]
  },
  {
   "cell_type": "code",
   "execution_count": 19,
   "metadata": {},
   "outputs": [
    {
     "data": {
      "text/plain": [
       "\"['id', 'status', 'date', 'reason', 'fraud_type', 'report_date', 'created', 'terminal_id', 'mcc', 'project_id', 'created.1', 'pan', 'expiration_year', 'expiration_month', 'country', 'zip', 'phone', 'ip']\""
      ]
     },
     "execution_count": 19,
     "metadata": {},
     "output_type": "execute_result"
    }
   ],
   "source": [
    "str(list(df_bad))"
   ]
  },
  {
   "cell_type": "markdown",
   "metadata": {},
   "source": [
    "#####  df.created - дата создания ордера\n",
    "#####  df_bad.reported - дата прихода fraud)report"
   ]
  },
  {
   "cell_type": "code",
   "execution_count": 20,
   "metadata": {},
   "outputs": [
    {
     "data": {
      "text/plain": [
       "'2021-02-02 21:09:39'"
      ]
     },
     "execution_count": 20,
     "metadata": {},
     "output_type": "execute_result"
    }
   ],
   "source": [
    "min(df.created)"
   ]
  },
  {
   "cell_type": "code",
   "execution_count": 21,
   "metadata": {},
   "outputs": [
    {
     "data": {
      "text/plain": [
       "'2021-03-13 14:40:07'"
      ]
     },
     "execution_count": 21,
     "metadata": {},
     "output_type": "execute_result"
    }
   ],
   "source": [
    "max(df.created)"
   ]
  },
  {
   "cell_type": "code",
   "execution_count": 23,
   "metadata": {},
   "outputs": [
    {
     "data": {
      "text/plain": [
       "'2021-02-09'"
      ]
     },
     "execution_count": 23,
     "metadata": {},
     "output_type": "execute_result"
    }
   ],
   "source": [
    "min(df_bad.report_date)"
   ]
  },
  {
   "cell_type": "code",
   "execution_count": 24,
   "metadata": {},
   "outputs": [
    {
     "data": {
      "text/plain": [
       "'2021-03-12'"
      ]
     },
     "execution_count": 24,
     "metadata": {},
     "output_type": "execute_result"
    }
   ],
   "source": [
    "max(df_bad.report_date)"
   ]
  },
  {
   "cell_type": "markdown",
   "metadata": {},
   "source": [
    "#### Duble id check n"
   ]
  },
  {
   "cell_type": "code",
   "execution_count": 25,
   "metadata": {},
   "outputs": [],
   "source": [
    "df_duplicated = df[df.order_id.duplicated(keep=False)].copy()"
   ]
  },
  {
   "cell_type": "code",
   "execution_count": 26,
   "metadata": {},
   "outputs": [
    {
     "data": {
      "text/plain": [
       "413624"
      ]
     },
     "execution_count": 26,
     "metadata": {},
     "output_type": "execute_result"
    }
   ],
   "source": [
    "df_duplicated.shape[0]"
   ]
  },
  {
   "cell_type": "code",
   "execution_count": 27,
   "metadata": {},
   "outputs": [],
   "source": [
    "df_duplicated.sort_values(by=['order_id', 'created'], inplace=True)"
   ]
  },
  {
   "cell_type": "code",
   "execution_count": 28,
   "metadata": {},
   "outputs": [
    {
     "data": {
      "text/html": [
       "<div>\n",
       "<style scoped>\n",
       "    .dataframe tbody tr th:only-of-type {\n",
       "        vertical-align: middle;\n",
       "    }\n",
       "\n",
       "    .dataframe tbody tr th {\n",
       "        vertical-align: top;\n",
       "    }\n",
       "\n",
       "    .dataframe thead th {\n",
       "        text-align: right;\n",
       "    }\n",
       "</style>\n",
       "<table border=\"1\" class=\"dataframe\">\n",
       "  <thead>\n",
       "    <tr style=\"text-align: right;\">\n",
       "      <th></th>\n",
       "      <th>id</th>\n",
       "      <th>order_id</th>\n",
       "      <th>type</th>\n",
       "      <th>status</th>\n",
       "      <th>amount</th>\n",
       "      <th>currency</th>\n",
       "      <th>terminal_id</th>\n",
       "      <th>mcc</th>\n",
       "      <th>project_id</th>\n",
       "      <th>created</th>\n",
       "      <th>pan</th>\n",
       "      <th>expiration_year</th>\n",
       "      <th>expiration_month</th>\n",
       "      <th>country</th>\n",
       "      <th>zip</th>\n",
       "      <th>phone</th>\n",
       "      <th>ip</th>\n",
       "    </tr>\n",
       "  </thead>\n",
       "  <tbody>\n",
       "    <tr>\n",
       "      <th>1</th>\n",
       "      <td>183115782</td>\n",
       "      <td>58963204904455627</td>\n",
       "      <td>authorize</td>\n",
       "      <td>success</td>\n",
       "      <td>141.68</td>\n",
       "      <td>USD</td>\n",
       "      <td>6e47c22917615e7d98fd3bdd6c9a9aa46801d326</td>\n",
       "      <td>5945</td>\n",
       "      <td>3e16ad3609f8237404cc7aeb4df7fd3a2e1f2724</td>\n",
       "      <td>2021-02-02 21:10:20</td>\n",
       "      <td>448233****3385</td>\n",
       "      <td>22</td>\n",
       "      <td>4</td>\n",
       "      <td>USA</td>\n",
       "      <td>06248</td>\n",
       "      <td>8608696059</td>\n",
       "      <td>73.149.7.42</td>\n",
       "    </tr>\n",
       "    <tr>\n",
       "      <th>2</th>\n",
       "      <td>183115785</td>\n",
       "      <td>58963204904455627</td>\n",
       "      <td>charge</td>\n",
       "      <td>success</td>\n",
       "      <td>141.68</td>\n",
       "      <td>USD</td>\n",
       "      <td>6e47c22917615e7d98fd3bdd6c9a9aa46801d326</td>\n",
       "      <td>5945</td>\n",
       "      <td>3e16ad3609f8237404cc7aeb4df7fd3a2e1f2724</td>\n",
       "      <td>2021-02-02 21:10:22</td>\n",
       "      <td>448233****3385</td>\n",
       "      <td>22</td>\n",
       "      <td>4</td>\n",
       "      <td>USA</td>\n",
       "      <td>06248</td>\n",
       "      <td>8608696059</td>\n",
       "      <td>73.149.7.42</td>\n",
       "    </tr>\n",
       "    <tr>\n",
       "      <th>3</th>\n",
       "      <td>183115905</td>\n",
       "      <td>58963219744750136</td>\n",
       "      <td>authorize</td>\n",
       "      <td>success</td>\n",
       "      <td>26.83</td>\n",
       "      <td>USD</td>\n",
       "      <td>7e056fed4960c5b2f58c35a1e4873dc5e687d4c6</td>\n",
       "      <td>5945</td>\n",
       "      <td>3e16ad3609f8237404cc7aeb4df7fd3a2e1f2724</td>\n",
       "      <td>2021-02-02 21:11:18</td>\n",
       "      <td>438787****8595</td>\n",
       "      <td>24</td>\n",
       "      <td>11</td>\n",
       "      <td>USA</td>\n",
       "      <td>11590</td>\n",
       "      <td>5163857019</td>\n",
       "      <td>174.197.204.100</td>\n",
       "    </tr>\n",
       "    <tr>\n",
       "      <th>4</th>\n",
       "      <td>183115916</td>\n",
       "      <td>58963219744750136</td>\n",
       "      <td>charge</td>\n",
       "      <td>success</td>\n",
       "      <td>26.83</td>\n",
       "      <td>USD</td>\n",
       "      <td>7e056fed4960c5b2f58c35a1e4873dc5e687d4c6</td>\n",
       "      <td>5945</td>\n",
       "      <td>3e16ad3609f8237404cc7aeb4df7fd3a2e1f2724</td>\n",
       "      <td>2021-02-02 21:11:20</td>\n",
       "      <td>438787****8595</td>\n",
       "      <td>24</td>\n",
       "      <td>11</td>\n",
       "      <td>USA</td>\n",
       "      <td>11590</td>\n",
       "      <td>5163857019</td>\n",
       "      <td>174.197.204.100</td>\n",
       "    </tr>\n",
       "    <tr>\n",
       "      <th>6</th>\n",
       "      <td>183116260</td>\n",
       "      <td>58963261615776513</td>\n",
       "      <td>authorize</td>\n",
       "      <td>success</td>\n",
       "      <td>34.77</td>\n",
       "      <td>USD</td>\n",
       "      <td>39ab5284a1a698f98c2a8712a97e9b78c715ed02</td>\n",
       "      <td>5945</td>\n",
       "      <td>3e16ad3609f8237404cc7aeb4df7fd3a2e1f2724</td>\n",
       "      <td>2021-02-02 21:14:01</td>\n",
       "      <td>481582****0912</td>\n",
       "      <td>24</td>\n",
       "      <td>1</td>\n",
       "      <td>USA</td>\n",
       "      <td>91801</td>\n",
       "      <td>7147975264</td>\n",
       "      <td>107.77.229.166</td>\n",
       "    </tr>\n",
       "    <tr>\n",
       "      <th>7</th>\n",
       "      <td>183116266</td>\n",
       "      <td>58963261615776513</td>\n",
       "      <td>charge</td>\n",
       "      <td>success</td>\n",
       "      <td>34.77</td>\n",
       "      <td>USD</td>\n",
       "      <td>39ab5284a1a698f98c2a8712a97e9b78c715ed02</td>\n",
       "      <td>5945</td>\n",
       "      <td>3e16ad3609f8237404cc7aeb4df7fd3a2e1f2724</td>\n",
       "      <td>2021-02-02 21:14:03</td>\n",
       "      <td>481582****0912</td>\n",
       "      <td>24</td>\n",
       "      <td>1</td>\n",
       "      <td>USA</td>\n",
       "      <td>91801</td>\n",
       "      <td>7147975264</td>\n",
       "      <td>107.77.229.166</td>\n",
       "    </tr>\n",
       "  </tbody>\n",
       "</table>\n",
       "</div>"
      ],
      "text/plain": [
       "          id           order_id       type   status  amount currency  \\\n",
       "1  183115782  58963204904455627  authorize  success  141.68      USD   \n",
       "2  183115785  58963204904455627     charge  success  141.68      USD   \n",
       "3  183115905  58963219744750136  authorize  success   26.83      USD   \n",
       "4  183115916  58963219744750136     charge  success   26.83      USD   \n",
       "6  183116260  58963261615776513  authorize  success   34.77      USD   \n",
       "7  183116266  58963261615776513     charge  success   34.77      USD   \n",
       "\n",
       "                                terminal_id   mcc  \\\n",
       "1  6e47c22917615e7d98fd3bdd6c9a9aa46801d326  5945   \n",
       "2  6e47c22917615e7d98fd3bdd6c9a9aa46801d326  5945   \n",
       "3  7e056fed4960c5b2f58c35a1e4873dc5e687d4c6  5945   \n",
       "4  7e056fed4960c5b2f58c35a1e4873dc5e687d4c6  5945   \n",
       "6  39ab5284a1a698f98c2a8712a97e9b78c715ed02  5945   \n",
       "7  39ab5284a1a698f98c2a8712a97e9b78c715ed02  5945   \n",
       "\n",
       "                                 project_id              created  \\\n",
       "1  3e16ad3609f8237404cc7aeb4df7fd3a2e1f2724  2021-02-02 21:10:20   \n",
       "2  3e16ad3609f8237404cc7aeb4df7fd3a2e1f2724  2021-02-02 21:10:22   \n",
       "3  3e16ad3609f8237404cc7aeb4df7fd3a2e1f2724  2021-02-02 21:11:18   \n",
       "4  3e16ad3609f8237404cc7aeb4df7fd3a2e1f2724  2021-02-02 21:11:20   \n",
       "6  3e16ad3609f8237404cc7aeb4df7fd3a2e1f2724  2021-02-02 21:14:01   \n",
       "7  3e16ad3609f8237404cc7aeb4df7fd3a2e1f2724  2021-02-02 21:14:03   \n",
       "\n",
       "              pan expiration_year expiration_month country    zip       phone  \\\n",
       "1  448233****3385              22                4     USA  06248  8608696059   \n",
       "2  448233****3385              22                4     USA  06248  8608696059   \n",
       "3  438787****8595              24               11     USA  11590  5163857019   \n",
       "4  438787****8595              24               11     USA  11590  5163857019   \n",
       "6  481582****0912              24                1     USA  91801  7147975264   \n",
       "7  481582****0912              24                1     USA  91801  7147975264   \n",
       "\n",
       "                ip  \n",
       "1      73.149.7.42  \n",
       "2      73.149.7.42  \n",
       "3  174.197.204.100  \n",
       "4  174.197.204.100  \n",
       "6   107.77.229.166  \n",
       "7   107.77.229.166  "
      ]
     },
     "execution_count": 28,
     "metadata": {},
     "output_type": "execute_result"
    }
   ],
   "source": [
    "df_duplicated.head(6)"
   ]
  },
  {
   "cell_type": "code",
   "execution_count": 29,
   "metadata": {},
   "outputs": [
    {
     "data": {
      "text/plain": [
       "charge        206112\n",
       "authorize     206111\n",
       "chargeback      1109\n",
       "refund           292\n",
       "Name: type, dtype: int64"
      ]
     },
     "execution_count": 29,
     "metadata": {},
     "output_type": "execute_result"
    }
   ],
   "source": [
    "df_duplicated.type.value_counts()"
   ]
  },
  {
   "cell_type": "code",
   "execution_count": 30,
   "metadata": {},
   "outputs": [
    {
     "data": {
      "text/plain": [
       "success    413618\n",
       "error           6\n",
       "Name: status, dtype: int64"
      ]
     },
     "execution_count": 30,
     "metadata": {},
     "output_type": "execute_result"
    }
   ],
   "source": [
    "df_duplicated.status.value_counts()"
   ]
  },
  {
   "cell_type": "code",
   "execution_count": 31,
   "metadata": {},
   "outputs": [],
   "source": [
    "df_not_duplicated = df[~df.order_id.duplicated(keep=False)].copy()"
   ]
  },
  {
   "cell_type": "code",
   "execution_count": 32,
   "metadata": {},
   "outputs": [],
   "source": [
    "df_not_duplicated.sort_values(by=['order_id', 'created'], inplace=True)"
   ]
  },
  {
   "cell_type": "code",
   "execution_count": 33,
   "metadata": {},
   "outputs": [
    {
     "data": {
      "text/html": [
       "<div>\n",
       "<style scoped>\n",
       "    .dataframe tbody tr th:only-of-type {\n",
       "        vertical-align: middle;\n",
       "    }\n",
       "\n",
       "    .dataframe tbody tr th {\n",
       "        vertical-align: top;\n",
       "    }\n",
       "\n",
       "    .dataframe thead th {\n",
       "        text-align: right;\n",
       "    }\n",
       "</style>\n",
       "<table border=\"1\" class=\"dataframe\">\n",
       "  <thead>\n",
       "    <tr style=\"text-align: right;\">\n",
       "      <th></th>\n",
       "      <th>id</th>\n",
       "      <th>order_id</th>\n",
       "      <th>type</th>\n",
       "      <th>status</th>\n",
       "      <th>amount</th>\n",
       "      <th>currency</th>\n",
       "      <th>terminal_id</th>\n",
       "      <th>mcc</th>\n",
       "      <th>project_id</th>\n",
       "      <th>created</th>\n",
       "      <th>pan</th>\n",
       "      <th>expiration_year</th>\n",
       "      <th>expiration_month</th>\n",
       "      <th>country</th>\n",
       "      <th>zip</th>\n",
       "      <th>phone</th>\n",
       "      <th>ip</th>\n",
       "    </tr>\n",
       "  </thead>\n",
       "  <tbody>\n",
       "    <tr>\n",
       "      <th>0</th>\n",
       "      <td>183115710</td>\n",
       "      <td>58963194491047906</td>\n",
       "      <td>authorize</td>\n",
       "      <td>failure</td>\n",
       "      <td>25.32</td>\n",
       "      <td>USD</td>\n",
       "      <td>568a5ee9d6625d4c61738b836e8e66356dc61ae6</td>\n",
       "      <td>5945</td>\n",
       "      <td>3e16ad3609f8237404cc7aeb4df7fd3a2e1f2724</td>\n",
       "      <td>2021-02-02 21:09:39</td>\n",
       "      <td>514841****5179</td>\n",
       "      <td>22</td>\n",
       "      <td>5</td>\n",
       "      <td>USA</td>\n",
       "      <td>13215</td>\n",
       "      <td>3155602060</td>\n",
       "      <td>72.237.4.249</td>\n",
       "    </tr>\n",
       "    <tr>\n",
       "      <th>5</th>\n",
       "      <td>183116236</td>\n",
       "      <td>58963258822580831</td>\n",
       "      <td>authorize</td>\n",
       "      <td>failure</td>\n",
       "      <td>103.48</td>\n",
       "      <td>CAD</td>\n",
       "      <td>6e47c22917615e7d98fd3bdd6c9a9aa46801d326</td>\n",
       "      <td>5945</td>\n",
       "      <td>3e16ad3609f8237404cc7aeb4df7fd3a2e1f2724</td>\n",
       "      <td>2021-02-02 21:13:50</td>\n",
       "      <td>452088****3744</td>\n",
       "      <td>24</td>\n",
       "      <td>11</td>\n",
       "      <td>CAN</td>\n",
       "      <td>M8v 3w9</td>\n",
       "      <td>6472784126</td>\n",
       "      <td>207.107.141.126</td>\n",
       "    </tr>\n",
       "    <tr>\n",
       "      <th>12</th>\n",
       "      <td>183116455</td>\n",
       "      <td>58963287116739040</td>\n",
       "      <td>authorize</td>\n",
       "      <td>failure</td>\n",
       "      <td>103.51</td>\n",
       "      <td>CAD</td>\n",
       "      <td>39ab5284a1a698f98c2a8712a97e9b78c715ed02</td>\n",
       "      <td>5945</td>\n",
       "      <td>3e16ad3609f8237404cc7aeb4df7fd3a2e1f2724</td>\n",
       "      <td>2021-02-02 21:15:41</td>\n",
       "      <td>452088****3744</td>\n",
       "      <td>21</td>\n",
       "      <td>11</td>\n",
       "      <td>CAN</td>\n",
       "      <td>M8v 3w9</td>\n",
       "      <td>6472784126</td>\n",
       "      <td>207.107.141.126</td>\n",
       "    </tr>\n",
       "    <tr>\n",
       "      <th>17</th>\n",
       "      <td>183117108</td>\n",
       "      <td>58963369718922947</td>\n",
       "      <td>authorize</td>\n",
       "      <td>failure</td>\n",
       "      <td>62.12</td>\n",
       "      <td>CAD</td>\n",
       "      <td>568a5ee9d6625d4c61738b836e8e66356dc61ae6</td>\n",
       "      <td>5945</td>\n",
       "      <td>3e16ad3609f8237404cc7aeb4df7fd3a2e1f2724</td>\n",
       "      <td>2021-02-02 21:21:03</td>\n",
       "      <td>408635****3370</td>\n",
       "      <td>24</td>\n",
       "      <td>6</td>\n",
       "      <td>CAN</td>\n",
       "      <td>N4k 6h2</td>\n",
       "      <td>5194774624</td>\n",
       "      <td>99.249.249.113</td>\n",
       "    </tr>\n",
       "    <tr>\n",
       "      <th>18</th>\n",
       "      <td>183117315</td>\n",
       "      <td>58963393441347837</td>\n",
       "      <td>authorize</td>\n",
       "      <td>failure</td>\n",
       "      <td>52.00</td>\n",
       "      <td>CAD</td>\n",
       "      <td>6e47c22917615e7d98fd3bdd6c9a9aa46801d326</td>\n",
       "      <td>5945</td>\n",
       "      <td>3e16ad3609f8237404cc7aeb4df7fd3a2e1f2724</td>\n",
       "      <td>2021-02-02 21:22:36</td>\n",
       "      <td>536088****5564</td>\n",
       "      <td>23</td>\n",
       "      <td>2</td>\n",
       "      <td>CAN</td>\n",
       "      <td>N5v2l2</td>\n",
       "      <td>2266785891</td>\n",
       "      <td>209.171.88.79</td>\n",
       "    </tr>\n",
       "  </tbody>\n",
       "</table>\n",
       "</div>"
      ],
      "text/plain": [
       "           id           order_id       type   status  amount currency  \\\n",
       "0   183115710  58963194491047906  authorize  failure   25.32      USD   \n",
       "5   183116236  58963258822580831  authorize  failure  103.48      CAD   \n",
       "12  183116455  58963287116739040  authorize  failure  103.51      CAD   \n",
       "17  183117108  58963369718922947  authorize  failure   62.12      CAD   \n",
       "18  183117315  58963393441347837  authorize  failure   52.00      CAD   \n",
       "\n",
       "                                 terminal_id   mcc  \\\n",
       "0   568a5ee9d6625d4c61738b836e8e66356dc61ae6  5945   \n",
       "5   6e47c22917615e7d98fd3bdd6c9a9aa46801d326  5945   \n",
       "12  39ab5284a1a698f98c2a8712a97e9b78c715ed02  5945   \n",
       "17  568a5ee9d6625d4c61738b836e8e66356dc61ae6  5945   \n",
       "18  6e47c22917615e7d98fd3bdd6c9a9aa46801d326  5945   \n",
       "\n",
       "                                  project_id              created  \\\n",
       "0   3e16ad3609f8237404cc7aeb4df7fd3a2e1f2724  2021-02-02 21:09:39   \n",
       "5   3e16ad3609f8237404cc7aeb4df7fd3a2e1f2724  2021-02-02 21:13:50   \n",
       "12  3e16ad3609f8237404cc7aeb4df7fd3a2e1f2724  2021-02-02 21:15:41   \n",
       "17  3e16ad3609f8237404cc7aeb4df7fd3a2e1f2724  2021-02-02 21:21:03   \n",
       "18  3e16ad3609f8237404cc7aeb4df7fd3a2e1f2724  2021-02-02 21:22:36   \n",
       "\n",
       "               pan expiration_year expiration_month country      zip  \\\n",
       "0   514841****5179              22                5     USA    13215   \n",
       "5   452088****3744              24               11     CAN  M8v 3w9   \n",
       "12  452088****3744              21               11     CAN  M8v 3w9   \n",
       "17  408635****3370              24                6     CAN  N4k 6h2   \n",
       "18  536088****5564              23                2     CAN   N5v2l2   \n",
       "\n",
       "         phone               ip  \n",
       "0   3155602060     72.237.4.249  \n",
       "5   6472784126  207.107.141.126  \n",
       "12  6472784126  207.107.141.126  \n",
       "17  5194774624   99.249.249.113  \n",
       "18  2266785891    209.171.88.79  "
      ]
     },
     "execution_count": 33,
     "metadata": {},
     "output_type": "execute_result"
    }
   ],
   "source": [
    "df_not_duplicated.head()"
   ]
  },
  {
   "cell_type": "code",
   "execution_count": 34,
   "metadata": {},
   "outputs": [
    {
     "data": {
      "text/plain": [
       "failure    54365\n",
       "error        823\n",
       "success        9\n",
       "Name: status, dtype: int64"
      ]
     },
     "execution_count": 34,
     "metadata": {},
     "output_type": "execute_result"
    }
   ],
   "source": [
    "df_not_duplicated.status.value_counts()"
   ]
  },
  {
   "cell_type": "code",
   "execution_count": 35,
   "metadata": {},
   "outputs": [
    {
     "data": {
      "text/html": [
       "<div>\n",
       "<style scoped>\n",
       "    .dataframe tbody tr th:only-of-type {\n",
       "        vertical-align: middle;\n",
       "    }\n",
       "\n",
       "    .dataframe tbody tr th {\n",
       "        vertical-align: top;\n",
       "    }\n",
       "\n",
       "    .dataframe thead th {\n",
       "        text-align: right;\n",
       "    }\n",
       "</style>\n",
       "<table border=\"1\" class=\"dataframe\">\n",
       "  <thead>\n",
       "    <tr style=\"text-align: right;\">\n",
       "      <th></th>\n",
       "      <th>id</th>\n",
       "      <th>order_id</th>\n",
       "      <th>type</th>\n",
       "      <th>status</th>\n",
       "      <th>amount</th>\n",
       "      <th>currency</th>\n",
       "      <th>terminal_id</th>\n",
       "      <th>mcc</th>\n",
       "      <th>project_id</th>\n",
       "      <th>created</th>\n",
       "      <th>pan</th>\n",
       "      <th>expiration_year</th>\n",
       "      <th>expiration_month</th>\n",
       "      <th>country</th>\n",
       "      <th>zip</th>\n",
       "      <th>phone</th>\n",
       "      <th>ip</th>\n",
       "    </tr>\n",
       "  </thead>\n",
       "  <tbody>\n",
       "    <tr>\n",
       "      <th>233407</th>\n",
       "      <td>184394362</td>\n",
       "      <td>59125651025112720</td>\n",
       "      <td>authorize</td>\n",
       "      <td>success</td>\n",
       "      <td>51.91</td>\n",
       "      <td>USD</td>\n",
       "      <td>ed316d0a28571ee2a0da5ef9c8c8743370270387</td>\n",
       "      <td>7994</td>\n",
       "      <td>3ee0400e7da4aa7e01269c5bd634ab9a7a7f25a2</td>\n",
       "      <td>2021-02-10 05:26:15</td>\n",
       "      <td>486796****8998</td>\n",
       "      <td>25</td>\n",
       "      <td>12</td>\n",
       "      <td>USA</td>\n",
       "      <td>33301</td>\n",
       "      <td>3306103274</td>\n",
       "      <td>107.77.206.102</td>\n",
       "    </tr>\n",
       "    <tr>\n",
       "      <th>216537</th>\n",
       "      <td>185359559</td>\n",
       "      <td>59254040816793416</td>\n",
       "      <td>authorize</td>\n",
       "      <td>success</td>\n",
       "      <td>1057.56</td>\n",
       "      <td>USD</td>\n",
       "      <td>a277488212bae45e194e272d40721db81ff7b507</td>\n",
       "      <td>5945</td>\n",
       "      <td>a2126af5a0d9c2bbafd7e34759a6815fa1d5e27d</td>\n",
       "      <td>2021-02-16 00:44:59</td>\n",
       "      <td>519667****7733</td>\n",
       "      <td>24</td>\n",
       "      <td>6</td>\n",
       "      <td>USA</td>\n",
       "      <td>91367</td>\n",
       "      <td>9413036460</td>\n",
       "      <td>47.199.84.28</td>\n",
       "    </tr>\n",
       "    <tr>\n",
       "      <th>269626</th>\n",
       "      <td>186435457</td>\n",
       "      <td>59387674580933924</td>\n",
       "      <td>authorize</td>\n",
       "      <td>success</td>\n",
       "      <td>54.78</td>\n",
       "      <td>USD</td>\n",
       "      <td>ed316d0a28571ee2a0da5ef9c8c8743370270387</td>\n",
       "      <td>7994</td>\n",
       "      <td>3ee0400e7da4aa7e01269c5bd634ab9a7a7f25a2</td>\n",
       "      <td>2021-02-22 01:45:07</td>\n",
       "      <td>400022****7351</td>\n",
       "      <td>25</td>\n",
       "      <td>1</td>\n",
       "      <td>USA</td>\n",
       "      <td>97236</td>\n",
       "      <td>8502654682</td>\n",
       "      <td>107.77.237.152</td>\n",
       "    </tr>\n",
       "    <tr>\n",
       "      <th>108002</th>\n",
       "      <td>186445623</td>\n",
       "      <td>59389546665885549</td>\n",
       "      <td>authorize</td>\n",
       "      <td>success</td>\n",
       "      <td>25.37</td>\n",
       "      <td>AUD</td>\n",
       "      <td>7e056fed4960c5b2f58c35a1e4873dc5e687d4c6</td>\n",
       "      <td>5945</td>\n",
       "      <td>3e16ad3609f8237404cc7aeb4df7fd3a2e1f2724</td>\n",
       "      <td>2021-02-22 03:46:58</td>\n",
       "      <td>521729****9941</td>\n",
       "      <td>22</td>\n",
       "      <td>11</td>\n",
       "      <td>AUS</td>\n",
       "      <td>3775</td>\n",
       "      <td>0434484319</td>\n",
       "      <td>198.8.81.199</td>\n",
       "    </tr>\n",
       "    <tr>\n",
       "      <th>140548</th>\n",
       "      <td>188225167</td>\n",
       "      <td>59565639729762165</td>\n",
       "      <td>authorize</td>\n",
       "      <td>success</td>\n",
       "      <td>52.00</td>\n",
       "      <td>AUD</td>\n",
       "      <td>6e47c22917615e7d98fd3bdd6c9a9aa46801d326</td>\n",
       "      <td>5945</td>\n",
       "      <td>3e16ad3609f8237404cc7aeb4df7fd3a2e1f2724</td>\n",
       "      <td>2021-03-02 02:51:28</td>\n",
       "      <td>516361****3940</td>\n",
       "      <td>22</td>\n",
       "      <td>7</td>\n",
       "      <td>AUS</td>\n",
       "      <td>2153</td>\n",
       "      <td>430350851</td>\n",
       "      <td>120.17.28.51</td>\n",
       "    </tr>\n",
       "  </tbody>\n",
       "</table>\n",
       "</div>"
      ],
      "text/plain": [
       "               id           order_id       type   status   amount currency  \\\n",
       "233407  184394362  59125651025112720  authorize  success    51.91      USD   \n",
       "216537  185359559  59254040816793416  authorize  success  1057.56      USD   \n",
       "269626  186435457  59387674580933924  authorize  success    54.78      USD   \n",
       "108002  186445623  59389546665885549  authorize  success    25.37      AUD   \n",
       "140548  188225167  59565639729762165  authorize  success    52.00      AUD   \n",
       "\n",
       "                                     terminal_id   mcc  \\\n",
       "233407  ed316d0a28571ee2a0da5ef9c8c8743370270387  7994   \n",
       "216537  a277488212bae45e194e272d40721db81ff7b507  5945   \n",
       "269626  ed316d0a28571ee2a0da5ef9c8c8743370270387  7994   \n",
       "108002  7e056fed4960c5b2f58c35a1e4873dc5e687d4c6  5945   \n",
       "140548  6e47c22917615e7d98fd3bdd6c9a9aa46801d326  5945   \n",
       "\n",
       "                                      project_id              created  \\\n",
       "233407  3ee0400e7da4aa7e01269c5bd634ab9a7a7f25a2  2021-02-10 05:26:15   \n",
       "216537  a2126af5a0d9c2bbafd7e34759a6815fa1d5e27d  2021-02-16 00:44:59   \n",
       "269626  3ee0400e7da4aa7e01269c5bd634ab9a7a7f25a2  2021-02-22 01:45:07   \n",
       "108002  3e16ad3609f8237404cc7aeb4df7fd3a2e1f2724  2021-02-22 03:46:58   \n",
       "140548  3e16ad3609f8237404cc7aeb4df7fd3a2e1f2724  2021-03-02 02:51:28   \n",
       "\n",
       "                   pan expiration_year expiration_month country    zip  \\\n",
       "233407  486796****8998              25               12     USA  33301   \n",
       "216537  519667****7733              24                6     USA  91367   \n",
       "269626  400022****7351              25                1     USA  97236   \n",
       "108002  521729****9941              22               11     AUS   3775   \n",
       "140548  516361****3940              22                7     AUS   2153   \n",
       "\n",
       "             phone              ip  \n",
       "233407  3306103274  107.77.206.102  \n",
       "216537  9413036460    47.199.84.28  \n",
       "269626  8502654682  107.77.237.152  \n",
       "108002  0434484319    198.8.81.199  \n",
       "140548   430350851    120.17.28.51  "
      ]
     },
     "execution_count": 35,
     "metadata": {},
     "output_type": "execute_result"
    }
   ],
   "source": [
    "mask = df_not_duplicated.status == 'success'\n",
    "df_not_duplicated_success = df_not_duplicated[mask]\n",
    "df_not_duplicated_success.head()"
   ]
  },
  {
   "cell_type": "code",
   "execution_count": 36,
   "metadata": {},
   "outputs": [
    {
     "data": {
      "text/plain": [
       "468821"
      ]
     },
     "execution_count": 36,
     "metadata": {},
     "output_type": "execute_result"
    }
   ],
   "source": [
    "len(df.id.unique())"
   ]
  },
  {
   "cell_type": "code",
   "execution_count": 37,
   "metadata": {},
   "outputs": [
    {
     "data": {
      "text/plain": [
       "261308"
      ]
     },
     "execution_count": 37,
     "metadata": {},
     "output_type": "execute_result"
    }
   ],
   "source": [
    "len(df.order_id.unique())"
   ]
  },
  {
   "cell_type": "code",
   "execution_count": 38,
   "metadata": {},
   "outputs": [
    {
     "data": {
      "text/plain": [
       "0"
      ]
     },
     "execution_count": 38,
     "metadata": {},
     "output_type": "execute_result"
    }
   ],
   "source": [
    "# Count Double ids \n",
    "df.shape[0] - len(df.id.unique())"
   ]
  },
  {
   "cell_type": "code",
   "execution_count": 39,
   "metadata": {},
   "outputs": [
    {
     "data": {
      "text/plain": [
       "207513"
      ]
     },
     "execution_count": 39,
     "metadata": {},
     "output_type": "execute_result"
    }
   ],
   "source": [
    "# Count Double order_id\n",
    "df.shape[0] - len(df.order_id.unique())"
   ]
  },
  {
   "cell_type": "code",
   "execution_count": 40,
   "metadata": {},
   "outputs": [
    {
     "data": {
      "text/html": [
       "<div>\n",
       "<style scoped>\n",
       "    .dataframe tbody tr th:only-of-type {\n",
       "        vertical-align: middle;\n",
       "    }\n",
       "\n",
       "    .dataframe tbody tr th {\n",
       "        vertical-align: top;\n",
       "    }\n",
       "\n",
       "    .dataframe thead th {\n",
       "        text-align: right;\n",
       "    }\n",
       "</style>\n",
       "<table border=\"1\" class=\"dataframe\">\n",
       "  <thead>\n",
       "    <tr style=\"text-align: right;\">\n",
       "      <th>type</th>\n",
       "      <th>authorize</th>\n",
       "      <th>charge</th>\n",
       "      <th>chargeback</th>\n",
       "      <th>refund</th>\n",
       "    </tr>\n",
       "    <tr>\n",
       "      <th>status</th>\n",
       "      <th></th>\n",
       "      <th></th>\n",
       "      <th></th>\n",
       "      <th></th>\n",
       "    </tr>\n",
       "  </thead>\n",
       "  <tbody>\n",
       "    <tr>\n",
       "      <th>error</th>\n",
       "      <td>823</td>\n",
       "      <td>6</td>\n",
       "      <td>0</td>\n",
       "      <td>0</td>\n",
       "    </tr>\n",
       "    <tr>\n",
       "      <th>failure</th>\n",
       "      <td>54365</td>\n",
       "      <td>0</td>\n",
       "      <td>0</td>\n",
       "      <td>0</td>\n",
       "    </tr>\n",
       "    <tr>\n",
       "      <th>success</th>\n",
       "      <td>206120</td>\n",
       "      <td>206106</td>\n",
       "      <td>1109</td>\n",
       "      <td>292</td>\n",
       "    </tr>\n",
       "  </tbody>\n",
       "</table>\n",
       "</div>"
      ],
      "text/plain": [
       "type     authorize  charge  chargeback  refund\n",
       "status                                        \n",
       "error          823       6           0       0\n",
       "failure      54365       0           0       0\n",
       "success     206120  206106        1109     292"
      ]
     },
     "execution_count": 40,
     "metadata": {},
     "output_type": "execute_result"
    }
   ],
   "source": [
    "df.groupby(['status', 'type']).size().unstack(fill_value=0)"
   ]
  },
  {
   "cell_type": "code",
   "execution_count": 41,
   "metadata": {},
   "outputs": [
    {
     "data": {
      "text/plain": [
       "Counter({'failure': 54365, 'success': 413627, 'error': 829})"
      ]
     },
     "execution_count": 41,
     "metadata": {},
     "output_type": "execute_result"
    }
   ],
   "source": [
    "Counter(df.status)"
   ]
  },
  {
   "cell_type": "markdown",
   "metadata": {},
   "source": [
    "# бЫЛО РАНЬШЕ\n",
    "# Выбираем уникальные записи по order_id:\n",
    "# Это нужно для того, чтобы можно было проставить дату возврата, для плохих записей у которых нет fruad report\n",
    "#ky <- filter(ky9, type=='chargeback' | ((type=='charge') & !(id %in% ky9_type_cb$id)))"
   ]
  },
  {
   "cell_type": "code",
   "execution_count": 42,
   "metadata": {},
   "outputs": [
    {
     "data": {
      "text/plain": [
       "authorize     261308\n",
       "charge        206112\n",
       "chargeback      1109\n",
       "refund           292\n",
       "Name: type, dtype: int64"
      ]
     },
     "execution_count": 42,
     "metadata": {},
     "output_type": "execute_result"
    }
   ],
   "source": [
    "df.type.value_counts()"
   ]
  },
  {
   "cell_type": "markdown",
   "metadata": {},
   "source": [
    "##### Выбираем ордера type == charge\n",
    "##### Выбрасываем status == error\n",
    "##### JOIN с fRAUD B и проставляем статус согласно колонке reported\n",
    "##### JOIN с (type == 'chargeback') \n",
    "##### заменяем значение поля кузщкеув для ордеров у которых не пустое поле reported_chargeback а поле reported пустое\n",
    "##### проставляем статусы согласно полю reported_chargeback\n",
    "##### делаем колонку date_only"
   ]
  },
  {
   "cell_type": "code",
   "execution_count": 43,
   "metadata": {},
   "outputs": [],
   "source": [
    "mask = df.type == 'chargeback'\n",
    "df_chargeback = df[mask].copy()"
   ]
  },
  {
   "cell_type": "code",
   "execution_count": 44,
   "metadata": {},
   "outputs": [],
   "source": [
    "mask = df.type == 'charge'\n",
    "df_charge = df[mask].copy()"
   ]
  },
  {
   "cell_type": "code",
   "execution_count": 45,
   "metadata": {},
   "outputs": [
    {
     "data": {
      "text/plain": [
       "(206112, 17)"
      ]
     },
     "execution_count": 45,
     "metadata": {},
     "output_type": "execute_result"
    }
   ],
   "source": [
    "df_charge.shape"
   ]
  },
  {
   "cell_type": "code",
   "execution_count": 46,
   "metadata": {},
   "outputs": [
    {
     "data": {
      "text/plain": [
       "success    206106\n",
       "error           6\n",
       "Name: status, dtype: int64"
      ]
     },
     "execution_count": 46,
     "metadata": {},
     "output_type": "execute_result"
    }
   ],
   "source": [
    "df_charge.status.value_counts()"
   ]
  },
  {
   "cell_type": "code",
   "execution_count": 47,
   "metadata": {},
   "outputs": [],
   "source": [
    "mask = df_charge.status != 'error'\n",
    "df_charge = df_charge[mask].copy()"
   ]
  },
  {
   "cell_type": "code",
   "execution_count": 48,
   "metadata": {},
   "outputs": [
    {
     "data": {
      "text/plain": [
       "success    206106\n",
       "Name: status, dtype: int64"
      ]
     },
     "execution_count": 48,
     "metadata": {},
     "output_type": "execute_result"
    }
   ],
   "source": [
    "df_charge.status.value_counts()"
   ]
  },
  {
   "cell_type": "code",
   "execution_count": 49,
   "metadata": {},
   "outputs": [
    {
     "data": {
      "text/plain": [
       "206106"
      ]
     },
     "execution_count": 49,
     "metadata": {},
     "output_type": "execute_result"
    }
   ],
   "source": [
    "len(df_charge.order_id.unique())"
   ]
  },
  {
   "cell_type": "code",
   "execution_count": 50,
   "metadata": {},
   "outputs": [],
   "source": [
    "col_names = ['id', 'created']\n",
    "df_bad_order_id = df_bad[col_names].copy()"
   ]
  },
  {
   "cell_type": "code",
   "execution_count": 51,
   "metadata": {},
   "outputs": [],
   "source": [
    "df_bad_order_id.columns = ['order_id', 'reported']"
   ]
  },
  {
   "cell_type": "code",
   "execution_count": 52,
   "metadata": {},
   "outputs": [],
   "source": [
    "df_charge = pd.merge(df_charge, df_bad_order_id, how='left', on=['order_id'])"
   ]
  },
  {
   "cell_type": "code",
   "execution_count": 53,
   "metadata": {},
   "outputs": [],
   "source": [
    "df_charge['status_old'] = df_charge['status'].copy()"
   ]
  },
  {
   "cell_type": "code",
   "execution_count": 54,
   "metadata": {},
   "outputs": [],
   "source": [
    "df_charge['status'] =  np.where( pd.notnull(df_charge['reported']), 'true', 'false')"
   ]
  },
  {
   "cell_type": "code",
   "execution_count": 55,
   "metadata": {},
   "outputs": [
    {
     "data": {
      "text/plain": [
       "false    204903\n",
       "true       1203\n",
       "Name: status, dtype: int64"
      ]
     },
     "execution_count": 55,
     "metadata": {},
     "output_type": "execute_result"
    }
   ],
   "source": [
    "df_charge.status.value_counts()"
   ]
  },
  {
   "cell_type": "code",
   "execution_count": 56,
   "metadata": {},
   "outputs": [
    {
     "data": {
      "text/plain": [
       "(1203, 18)"
      ]
     },
     "execution_count": 56,
     "metadata": {},
     "output_type": "execute_result"
    }
   ],
   "source": [
    "df_bad.shape"
   ]
  },
  {
   "cell_type": "code",
   "execution_count": 57,
   "metadata": {},
   "outputs": [
    {
     "data": {
      "text/plain": [
       "196"
      ]
     },
     "execution_count": 57,
     "metadata": {},
     "output_type": "execute_result"
    }
   ],
   "source": [
    "mask = df_chargeback.order_id.isin(df_bad.id)\n",
    "chargeback_notin_fraud = df_chargeback[~mask]\n",
    "chargeback_notin_fraud.shape[0]"
   ]
  },
  {
   "cell_type": "code",
   "execution_count": 58,
   "metadata": {},
   "outputs": [],
   "source": [
    "col_names = ['order_id', 'created']\n",
    "df_chargeback_reported = df_chargeback[col_names]\n",
    "df_chargeback_reported.columns = ['order_id', 'reported_chargeback']"
   ]
  },
  {
   "cell_type": "code",
   "execution_count": 59,
   "metadata": {},
   "outputs": [],
   "source": [
    "df_charge = pd.merge(df_charge, df_chargeback_reported, how='left', on=['order_id'])"
   ]
  },
  {
   "cell_type": "code",
   "execution_count": 60,
   "metadata": {},
   "outputs": [],
   "source": [
    "mask = (pd.isnull(df_charge['reported'])) & (pd.notnull(df_charge['reported_chargeback']))\n",
    "df_charge['reported'] = np.where( mask , df_charge['reported_chargeback'], df_charge['reported'] )"
   ]
  },
  {
   "cell_type": "code",
   "execution_count": 61,
   "metadata": {},
   "outputs": [],
   "source": [
    "mask = (pd.notnull(df_charge['reported_chargeback']))\n",
    "df_charge['status'] = np.where( mask , 'true', df_charge['status'])"
   ]
  },
  {
   "cell_type": "code",
   "execution_count": 62,
   "metadata": {},
   "outputs": [
    {
     "data": {
      "text/plain": [
       "false    204707\n",
       "true       1399\n",
       "Name: status, dtype: int64"
      ]
     },
     "execution_count": 62,
     "metadata": {},
     "output_type": "execute_result"
    }
   ],
   "source": [
    "df_charge.status.value_counts()"
   ]
  },
  {
   "cell_type": "code",
   "execution_count": 63,
   "metadata": {},
   "outputs": [],
   "source": [
    "df_charge['date_cb_only'] = df_charge['reported'].str[:10]\n",
    "df_charge['date_only'] = df_charge['created'].str[:10]"
   ]
  },
  {
   "cell_type": "code",
   "execution_count": 64,
   "metadata": {},
   "outputs": [],
   "source": [
    "df_charge['card_masked'] = df_charge.pan.str[:6] + \"******\" + df_charge.pan.str.slice(10, 14)"
   ]
  },
  {
   "cell_type": "code",
   "execution_count": 65,
   "metadata": {},
   "outputs": [],
   "source": [
    "df_charge['expire_year'] = \"20\" + df_charge.expiration_year\n",
    "df_charge['expire_month'] = np.where(df_charge.expiration_month.str.len() == 1, \"0\" + df_charge.expiration_month, df_charge.expiration_month)\n",
    "df_charge['card_expire'] = df_charge.expire_year +  \"-\" +  df_charge.expire_month"
   ]
  },
  {
   "cell_type": "code",
   "execution_count": 66,
   "metadata": {},
   "outputs": [],
   "source": [
    "df_charge['id'] = df_charge.card_masked + '_' + df_charge.card_expire"
   ]
  },
  {
   "cell_type": "code",
   "execution_count": 67,
   "metadata": {},
   "outputs": [
    {
     "data": {
      "text/plain": [
       "currency\n",
       "ARS      1049\n",
       "AUD     11806\n",
       "BRL        29\n",
       "CAD     20547\n",
       "USD    172675\n",
       "dtype: int64"
      ]
     },
     "execution_count": 67,
     "metadata": {},
     "output_type": "execute_result"
    }
   ],
   "source": [
    "df_charge.groupby(['currency']).size()"
   ]
  },
  {
   "cell_type": "code",
   "execution_count": 68,
   "metadata": {},
   "outputs": [],
   "source": [
    "df_charge['amount_usd'] = df_charge.amount.copy()\n",
    "df_charge.amount_usd = pd.to_numeric(df_charge.amount_usd, errors=\"coerce\")"
   ]
  },
  {
   "cell_type": "code",
   "execution_count": 69,
   "metadata": {},
   "outputs": [],
   "source": [
    "# USD_EUR = 0.90\n",
    "USD_CAD = 1.30\n",
    "# USD_INR = 71.13\n",
    "# USD_JPY = 108.94\n",
    "\n",
    "USD_ARS = 90.79\n",
    "USD_AUD = 1.29\n",
    "USD_BRL = 5.55"
   ]
  },
  {
   "cell_type": "code",
   "execution_count": 70,
   "metadata": {},
   "outputs": [],
   "source": [
    "df_charge.loc[df_charge.currency == \"CAD\",'amount_usd'] = df_charge.loc[df_charge.currency == \"CAD\",'amount_usd'] / USD_CAD\n",
    "df_charge.loc[df_charge.currency == \"ARS\",'amount_usd'] = df_charge.loc[df_charge.currency == \"ARS\",'amount_usd'] / USD_ARS\n",
    "df_charge.loc[df_charge.currency == \"AUD\",'amount_usd'] = df_charge.loc[df_charge.currency == \"AUD\",'amount_usd'] / USD_AUD\n",
    "df_charge.loc[df_charge.currency == \"BRL\",'amount_usd'] = df_charge.loc[df_charge.currency == \"BRL\",'amount_usd'] / USD_BRL"
   ]
  },
  {
   "cell_type": "code",
   "execution_count": 71,
   "metadata": {},
   "outputs": [
    {
     "data": {
      "text/plain": [
       "111.80133487106995"
      ]
     },
     "execution_count": 71,
     "metadata": {},
     "output_type": "execute_result"
    }
   ],
   "source": [
    "df_charge.amount_usd.mean()"
   ]
  },
  {
   "cell_type": "code",
   "execution_count": 72,
   "metadata": {},
   "outputs": [
    {
     "data": {
      "text/plain": [
       "0.9675675675675676"
      ]
     },
     "execution_count": 72,
     "metadata": {},
     "output_type": "execute_result"
    }
   ],
   "source": [
    "min(df_charge.amount_usd)"
   ]
  },
  {
   "cell_type": "code",
   "execution_count": 73,
   "metadata": {},
   "outputs": [
    {
     "data": {
      "text/plain": [
       "2014.52"
      ]
     },
     "execution_count": 73,
     "metadata": {},
     "output_type": "execute_result"
    }
   ],
   "source": [
    "max(df_charge.amount_usd)"
   ]
  },
  {
   "cell_type": "code",
   "execution_count": 74,
   "metadata": {},
   "outputs": [
    {
     "data": {
      "text/plain": [
       "54.77"
      ]
     },
     "execution_count": 74,
     "metadata": {},
     "output_type": "execute_result"
    }
   ],
   "source": [
    "df_charge.amount_usd.median()"
   ]
  },
  {
   "cell_type": "code",
   "execution_count": 75,
   "metadata": {},
   "outputs": [
    {
     "data": {
      "text/html": [
       "<div>\n",
       "<style scoped>\n",
       "    .dataframe tbody tr th:only-of-type {\n",
       "        vertical-align: middle;\n",
       "    }\n",
       "\n",
       "    .dataframe tbody tr th {\n",
       "        vertical-align: top;\n",
       "    }\n",
       "\n",
       "    .dataframe thead th {\n",
       "        text-align: right;\n",
       "    }\n",
       "</style>\n",
       "<table border=\"1\" class=\"dataframe\">\n",
       "  <thead>\n",
       "    <tr style=\"text-align: right;\">\n",
       "      <th></th>\n",
       "      <th>amount</th>\n",
       "      <th>amount_usd</th>\n",
       "      <th>currency</th>\n",
       "      <th>id</th>\n",
       "      <th>order_id</th>\n",
       "      <th>status</th>\n",
       "    </tr>\n",
       "  </thead>\n",
       "  <tbody>\n",
       "    <tr>\n",
       "      <th>91818</th>\n",
       "      <td>2004.46</td>\n",
       "      <td>2004.46</td>\n",
       "      <td>USD</td>\n",
       "      <td>549110******9647_2023-06</td>\n",
       "      <td>59077624974419050</td>\n",
       "      <td>false</td>\n",
       "    </tr>\n",
       "    <tr>\n",
       "      <th>91908</th>\n",
       "      <td>2014.23</td>\n",
       "      <td>2014.23</td>\n",
       "      <td>USD</td>\n",
       "      <td>545212******4930_2025-07</td>\n",
       "      <td>59077715850975583</td>\n",
       "      <td>false</td>\n",
       "    </tr>\n",
       "    <tr>\n",
       "      <th>95314</th>\n",
       "      <td>1910.83</td>\n",
       "      <td>1910.83</td>\n",
       "      <td>USD</td>\n",
       "      <td>521876******1160_2023-03</td>\n",
       "      <td>59210465918117656</td>\n",
       "      <td>false</td>\n",
       "    </tr>\n",
       "    <tr>\n",
       "      <th>95569</th>\n",
       "      <td>2013.83</td>\n",
       "      <td>2013.83</td>\n",
       "      <td>USD</td>\n",
       "      <td>512230******4959_2024-07</td>\n",
       "      <td>59232913187686960</td>\n",
       "      <td>false</td>\n",
       "    </tr>\n",
       "    <tr>\n",
       "      <th>95585</th>\n",
       "      <td>2014.52</td>\n",
       "      <td>2014.52</td>\n",
       "      <td>USD</td>\n",
       "      <td>552433******7818_2023-06</td>\n",
       "      <td>59235484633928799</td>\n",
       "      <td>false</td>\n",
       "    </tr>\n",
       "  </tbody>\n",
       "</table>\n",
       "</div>"
      ],
      "text/plain": [
       "        amount  amount_usd currency                        id  \\\n",
       "91818  2004.46     2004.46      USD  549110******9647_2023-06   \n",
       "91908  2014.23     2014.23      USD  545212******4930_2025-07   \n",
       "95314  1910.83     1910.83      USD  521876******1160_2023-03   \n",
       "95569  2013.83     2013.83      USD  512230******4959_2024-07   \n",
       "95585  2014.52     2014.52      USD  552433******7818_2023-06   \n",
       "\n",
       "                order_id status  \n",
       "91818  59077624974419050  false  \n",
       "91908  59077715850975583  false  \n",
       "95314  59210465918117656  false  \n",
       "95569  59232913187686960  false  \n",
       "95585  59235484633928799  false  "
      ]
     },
     "execution_count": 75,
     "metadata": {},
     "output_type": "execute_result"
    }
   ],
   "source": [
    "mask = (df_charge.amount_usd > 1850.00)\n",
    "col_names = ['amount', 'amount_usd', 'currency', 'id', 'order_id','status']\n",
    "tmp = df_charge[mask]\n",
    "tmp[col_names]"
   ]
  },
  {
   "cell_type": "code",
   "execution_count": 76,
   "metadata": {},
   "outputs": [],
   "source": [
    "df_charge.amount_usd = df_charge.amount_usd.round(2).astype(str)"
   ]
  },
  {
   "cell_type": "code",
   "execution_count": 78,
   "metadata": {},
   "outputs": [
    {
     "data": {
      "text/plain": [
       "\"['id', 'order_id', 'type', 'status', 'amount', 'currency', 'terminal_id', 'mcc', 'project_id', 'created', 'pan', 'expiration_year', 'expiration_month', 'country', 'zip', 'phone', 'ip', 'reported', 'status_old', 'reported_chargeback', 'date_cb_only', 'date_only', 'card_masked', 'expire_year', 'expire_month', 'card_expire', 'amount_usd']\""
      ]
     },
     "execution_count": 78,
     "metadata": {},
     "output_type": "execute_result"
    }
   ],
   "source": [
    "str(list(df_charge))"
   ]
  },
  {
   "cell_type": "code",
   "execution_count": 80,
   "metadata": {},
   "outputs": [],
   "source": [
    "drop_columns = ['pan', 'expiration_year', 'expiration_month', 'expire_year', 'expire_month']\n",
    "df_charge.drop(columns=drop_columns, axis=1, inplace=True)"
   ]
  },
  {
   "cell_type": "code",
   "execution_count": 81,
   "metadata": {},
   "outputs": [
    {
     "data": {
      "text/html": [
       "<div>\n",
       "<style scoped>\n",
       "    .dataframe tbody tr th:only-of-type {\n",
       "        vertical-align: middle;\n",
       "    }\n",
       "\n",
       "    .dataframe tbody tr th {\n",
       "        vertical-align: top;\n",
       "    }\n",
       "\n",
       "    .dataframe thead th {\n",
       "        text-align: right;\n",
       "    }\n",
       "</style>\n",
       "<table border=\"1\" class=\"dataframe\">\n",
       "  <thead>\n",
       "    <tr style=\"text-align: right;\">\n",
       "      <th></th>\n",
       "      <th>id</th>\n",
       "      <th>order_id</th>\n",
       "      <th>type</th>\n",
       "      <th>status</th>\n",
       "      <th>amount</th>\n",
       "      <th>currency</th>\n",
       "      <th>terminal_id</th>\n",
       "      <th>mcc</th>\n",
       "      <th>project_id</th>\n",
       "      <th>created</th>\n",
       "      <th>...</th>\n",
       "      <th>phone</th>\n",
       "      <th>ip</th>\n",
       "      <th>reported</th>\n",
       "      <th>status_old</th>\n",
       "      <th>reported_chargeback</th>\n",
       "      <th>date_cb_only</th>\n",
       "      <th>date_only</th>\n",
       "      <th>card_masked</th>\n",
       "      <th>card_expire</th>\n",
       "      <th>amount_usd</th>\n",
       "    </tr>\n",
       "  </thead>\n",
       "  <tbody>\n",
       "    <tr>\n",
       "      <th>0</th>\n",
       "      <td>448233******3385_2022-04</td>\n",
       "      <td>58963204904455627</td>\n",
       "      <td>charge</td>\n",
       "      <td>false</td>\n",
       "      <td>141.68</td>\n",
       "      <td>USD</td>\n",
       "      <td>6e47c22917615e7d98fd3bdd6c9a9aa46801d326</td>\n",
       "      <td>5945</td>\n",
       "      <td>3e16ad3609f8237404cc7aeb4df7fd3a2e1f2724</td>\n",
       "      <td>2021-02-02 21:10:22</td>\n",
       "      <td>...</td>\n",
       "      <td>8608696059</td>\n",
       "      <td>73.149.7.42</td>\n",
       "      <td>NaN</td>\n",
       "      <td>success</td>\n",
       "      <td>NaN</td>\n",
       "      <td>NaN</td>\n",
       "      <td>2021-02-02</td>\n",
       "      <td>448233******3385</td>\n",
       "      <td>2022-04</td>\n",
       "      <td>141.68</td>\n",
       "    </tr>\n",
       "    <tr>\n",
       "      <th>1</th>\n",
       "      <td>438787******8595_2024-11</td>\n",
       "      <td>58963219744750136</td>\n",
       "      <td>charge</td>\n",
       "      <td>false</td>\n",
       "      <td>26.83</td>\n",
       "      <td>USD</td>\n",
       "      <td>7e056fed4960c5b2f58c35a1e4873dc5e687d4c6</td>\n",
       "      <td>5945</td>\n",
       "      <td>3e16ad3609f8237404cc7aeb4df7fd3a2e1f2724</td>\n",
       "      <td>2021-02-02 21:11:20</td>\n",
       "      <td>...</td>\n",
       "      <td>5163857019</td>\n",
       "      <td>174.197.204.100</td>\n",
       "      <td>NaN</td>\n",
       "      <td>success</td>\n",
       "      <td>NaN</td>\n",
       "      <td>NaN</td>\n",
       "      <td>2021-02-02</td>\n",
       "      <td>438787******8595</td>\n",
       "      <td>2024-11</td>\n",
       "      <td>26.83</td>\n",
       "    </tr>\n",
       "    <tr>\n",
       "      <th>2</th>\n",
       "      <td>481582******0912_2024-01</td>\n",
       "      <td>58963261615776513</td>\n",
       "      <td>charge</td>\n",
       "      <td>false</td>\n",
       "      <td>34.77</td>\n",
       "      <td>USD</td>\n",
       "      <td>39ab5284a1a698f98c2a8712a97e9b78c715ed02</td>\n",
       "      <td>5945</td>\n",
       "      <td>3e16ad3609f8237404cc7aeb4df7fd3a2e1f2724</td>\n",
       "      <td>2021-02-02 21:14:03</td>\n",
       "      <td>...</td>\n",
       "      <td>7147975264</td>\n",
       "      <td>107.77.229.166</td>\n",
       "      <td>NaN</td>\n",
       "      <td>success</td>\n",
       "      <td>NaN</td>\n",
       "      <td>NaN</td>\n",
       "      <td>2021-02-02</td>\n",
       "      <td>481582******0912</td>\n",
       "      <td>2024-01</td>\n",
       "      <td>34.77</td>\n",
       "    </tr>\n",
       "    <tr>\n",
       "      <th>3</th>\n",
       "      <td>510277******8427_2024-08</td>\n",
       "      <td>58963268351715157</td>\n",
       "      <td>charge</td>\n",
       "      <td>false</td>\n",
       "      <td>25.32</td>\n",
       "      <td>USD</td>\n",
       "      <td>39ab5284a1a698f98c2a8712a97e9b78c715ed02</td>\n",
       "      <td>5945</td>\n",
       "      <td>3e16ad3609f8237404cc7aeb4df7fd3a2e1f2724</td>\n",
       "      <td>2021-02-02 21:14:29</td>\n",
       "      <td>...</td>\n",
       "      <td>3155602060</td>\n",
       "      <td>72.237.4.249</td>\n",
       "      <td>NaN</td>\n",
       "      <td>success</td>\n",
       "      <td>NaN</td>\n",
       "      <td>NaN</td>\n",
       "      <td>2021-02-02</td>\n",
       "      <td>510277******8427</td>\n",
       "      <td>2024-08</td>\n",
       "      <td>25.32</td>\n",
       "    </tr>\n",
       "    <tr>\n",
       "      <th>4</th>\n",
       "      <td>472409******4012_2021-09</td>\n",
       "      <td>58963268900246649</td>\n",
       "      <td>charge</td>\n",
       "      <td>false</td>\n",
       "      <td>25.34</td>\n",
       "      <td>CAD</td>\n",
       "      <td>39ab5284a1a698f98c2a8712a97e9b78c715ed02</td>\n",
       "      <td>5945</td>\n",
       "      <td>3e16ad3609f8237404cc7aeb4df7fd3a2e1f2724</td>\n",
       "      <td>2021-02-02 21:14:31</td>\n",
       "      <td>...</td>\n",
       "      <td>9059609406</td>\n",
       "      <td>99.254.60.245</td>\n",
       "      <td>NaN</td>\n",
       "      <td>success</td>\n",
       "      <td>NaN</td>\n",
       "      <td>NaN</td>\n",
       "      <td>2021-02-02</td>\n",
       "      <td>472409******4012</td>\n",
       "      <td>2021-09</td>\n",
       "      <td>19.49</td>\n",
       "    </tr>\n",
       "  </tbody>\n",
       "</table>\n",
       "<p>5 rows × 22 columns</p>\n",
       "</div>"
      ],
      "text/plain": [
       "                         id           order_id    type status  amount  \\\n",
       "0  448233******3385_2022-04  58963204904455627  charge  false  141.68   \n",
       "1  438787******8595_2024-11  58963219744750136  charge  false   26.83   \n",
       "2  481582******0912_2024-01  58963261615776513  charge  false   34.77   \n",
       "3  510277******8427_2024-08  58963268351715157  charge  false   25.32   \n",
       "4  472409******4012_2021-09  58963268900246649  charge  false   25.34   \n",
       "\n",
       "  currency                               terminal_id   mcc  \\\n",
       "0      USD  6e47c22917615e7d98fd3bdd6c9a9aa46801d326  5945   \n",
       "1      USD  7e056fed4960c5b2f58c35a1e4873dc5e687d4c6  5945   \n",
       "2      USD  39ab5284a1a698f98c2a8712a97e9b78c715ed02  5945   \n",
       "3      USD  39ab5284a1a698f98c2a8712a97e9b78c715ed02  5945   \n",
       "4      CAD  39ab5284a1a698f98c2a8712a97e9b78c715ed02  5945   \n",
       "\n",
       "                                 project_id              created  ...  \\\n",
       "0  3e16ad3609f8237404cc7aeb4df7fd3a2e1f2724  2021-02-02 21:10:22  ...   \n",
       "1  3e16ad3609f8237404cc7aeb4df7fd3a2e1f2724  2021-02-02 21:11:20  ...   \n",
       "2  3e16ad3609f8237404cc7aeb4df7fd3a2e1f2724  2021-02-02 21:14:03  ...   \n",
       "3  3e16ad3609f8237404cc7aeb4df7fd3a2e1f2724  2021-02-02 21:14:29  ...   \n",
       "4  3e16ad3609f8237404cc7aeb4df7fd3a2e1f2724  2021-02-02 21:14:31  ...   \n",
       "\n",
       "        phone               ip reported status_old reported_chargeback  \\\n",
       "0  8608696059      73.149.7.42      NaN    success                 NaN   \n",
       "1  5163857019  174.197.204.100      NaN    success                 NaN   \n",
       "2  7147975264   107.77.229.166      NaN    success                 NaN   \n",
       "3  3155602060     72.237.4.249      NaN    success                 NaN   \n",
       "4  9059609406    99.254.60.245      NaN    success                 NaN   \n",
       "\n",
       "  date_cb_only   date_only       card_masked card_expire amount_usd  \n",
       "0          NaN  2021-02-02  448233******3385     2022-04     141.68  \n",
       "1          NaN  2021-02-02  438787******8595     2024-11      26.83  \n",
       "2          NaN  2021-02-02  481582******0912     2024-01      34.77  \n",
       "3          NaN  2021-02-02  510277******8427     2024-08      25.32  \n",
       "4          NaN  2021-02-02  472409******4012     2021-09      19.49  \n",
       "\n",
       "[5 rows x 22 columns]"
      ]
     },
     "execution_count": 81,
     "metadata": {},
     "output_type": "execute_result"
    }
   ],
   "source": [
    "df_charge.head()"
   ]
  },
  {
   "cell_type": "code",
   "execution_count": 82,
   "metadata": {},
   "outputs": [],
   "source": [
    "df_charge.rename(inplace=True, columns={ 'created': 'date' })"
   ]
  },
  {
   "cell_type": "code",
   "execution_count": 83,
   "metadata": {},
   "outputs": [
    {
     "data": {
      "text/html": [
       "<div>\n",
       "<style scoped>\n",
       "    .dataframe tbody tr th:only-of-type {\n",
       "        vertical-align: middle;\n",
       "    }\n",
       "\n",
       "    .dataframe tbody tr th {\n",
       "        vertical-align: top;\n",
       "    }\n",
       "\n",
       "    .dataframe thead th {\n",
       "        text-align: right;\n",
       "    }\n",
       "</style>\n",
       "<table border=\"1\" class=\"dataframe\">\n",
       "  <thead>\n",
       "    <tr style=\"text-align: right;\">\n",
       "      <th></th>\n",
       "      <th>id</th>\n",
       "      <th>order_id</th>\n",
       "      <th>type</th>\n",
       "      <th>status</th>\n",
       "      <th>amount</th>\n",
       "      <th>currency</th>\n",
       "      <th>terminal_id</th>\n",
       "      <th>mcc</th>\n",
       "      <th>project_id</th>\n",
       "      <th>date</th>\n",
       "      <th>...</th>\n",
       "      <th>phone</th>\n",
       "      <th>ip</th>\n",
       "      <th>reported</th>\n",
       "      <th>status_old</th>\n",
       "      <th>reported_chargeback</th>\n",
       "      <th>date_cb_only</th>\n",
       "      <th>date_only</th>\n",
       "      <th>card_masked</th>\n",
       "      <th>card_expire</th>\n",
       "      <th>amount_usd</th>\n",
       "    </tr>\n",
       "  </thead>\n",
       "  <tbody>\n",
       "    <tr>\n",
       "      <th>0</th>\n",
       "      <td>448233******3385_2022-04</td>\n",
       "      <td>58963204904455627</td>\n",
       "      <td>charge</td>\n",
       "      <td>false</td>\n",
       "      <td>141.68</td>\n",
       "      <td>USD</td>\n",
       "      <td>6e47c22917615e7d98fd3bdd6c9a9aa46801d326</td>\n",
       "      <td>5945</td>\n",
       "      <td>3e16ad3609f8237404cc7aeb4df7fd3a2e1f2724</td>\n",
       "      <td>2021-02-02 21:10:22</td>\n",
       "      <td>...</td>\n",
       "      <td>8608696059</td>\n",
       "      <td>73.149.7.42</td>\n",
       "      <td>NaN</td>\n",
       "      <td>success</td>\n",
       "      <td>NaN</td>\n",
       "      <td>NaN</td>\n",
       "      <td>2021-02-02</td>\n",
       "      <td>448233******3385</td>\n",
       "      <td>2022-04</td>\n",
       "      <td>141.68</td>\n",
       "    </tr>\n",
       "    <tr>\n",
       "      <th>1</th>\n",
       "      <td>438787******8595_2024-11</td>\n",
       "      <td>58963219744750136</td>\n",
       "      <td>charge</td>\n",
       "      <td>false</td>\n",
       "      <td>26.83</td>\n",
       "      <td>USD</td>\n",
       "      <td>7e056fed4960c5b2f58c35a1e4873dc5e687d4c6</td>\n",
       "      <td>5945</td>\n",
       "      <td>3e16ad3609f8237404cc7aeb4df7fd3a2e1f2724</td>\n",
       "      <td>2021-02-02 21:11:20</td>\n",
       "      <td>...</td>\n",
       "      <td>5163857019</td>\n",
       "      <td>174.197.204.100</td>\n",
       "      <td>NaN</td>\n",
       "      <td>success</td>\n",
       "      <td>NaN</td>\n",
       "      <td>NaN</td>\n",
       "      <td>2021-02-02</td>\n",
       "      <td>438787******8595</td>\n",
       "      <td>2024-11</td>\n",
       "      <td>26.83</td>\n",
       "    </tr>\n",
       "    <tr>\n",
       "      <th>2</th>\n",
       "      <td>481582******0912_2024-01</td>\n",
       "      <td>58963261615776513</td>\n",
       "      <td>charge</td>\n",
       "      <td>false</td>\n",
       "      <td>34.77</td>\n",
       "      <td>USD</td>\n",
       "      <td>39ab5284a1a698f98c2a8712a97e9b78c715ed02</td>\n",
       "      <td>5945</td>\n",
       "      <td>3e16ad3609f8237404cc7aeb4df7fd3a2e1f2724</td>\n",
       "      <td>2021-02-02 21:14:03</td>\n",
       "      <td>...</td>\n",
       "      <td>7147975264</td>\n",
       "      <td>107.77.229.166</td>\n",
       "      <td>NaN</td>\n",
       "      <td>success</td>\n",
       "      <td>NaN</td>\n",
       "      <td>NaN</td>\n",
       "      <td>2021-02-02</td>\n",
       "      <td>481582******0912</td>\n",
       "      <td>2024-01</td>\n",
       "      <td>34.77</td>\n",
       "    </tr>\n",
       "    <tr>\n",
       "      <th>3</th>\n",
       "      <td>510277******8427_2024-08</td>\n",
       "      <td>58963268351715157</td>\n",
       "      <td>charge</td>\n",
       "      <td>false</td>\n",
       "      <td>25.32</td>\n",
       "      <td>USD</td>\n",
       "      <td>39ab5284a1a698f98c2a8712a97e9b78c715ed02</td>\n",
       "      <td>5945</td>\n",
       "      <td>3e16ad3609f8237404cc7aeb4df7fd3a2e1f2724</td>\n",
       "      <td>2021-02-02 21:14:29</td>\n",
       "      <td>...</td>\n",
       "      <td>3155602060</td>\n",
       "      <td>72.237.4.249</td>\n",
       "      <td>NaN</td>\n",
       "      <td>success</td>\n",
       "      <td>NaN</td>\n",
       "      <td>NaN</td>\n",
       "      <td>2021-02-02</td>\n",
       "      <td>510277******8427</td>\n",
       "      <td>2024-08</td>\n",
       "      <td>25.32</td>\n",
       "    </tr>\n",
       "    <tr>\n",
       "      <th>4</th>\n",
       "      <td>472409******4012_2021-09</td>\n",
       "      <td>58963268900246649</td>\n",
       "      <td>charge</td>\n",
       "      <td>false</td>\n",
       "      <td>25.34</td>\n",
       "      <td>CAD</td>\n",
       "      <td>39ab5284a1a698f98c2a8712a97e9b78c715ed02</td>\n",
       "      <td>5945</td>\n",
       "      <td>3e16ad3609f8237404cc7aeb4df7fd3a2e1f2724</td>\n",
       "      <td>2021-02-02 21:14:31</td>\n",
       "      <td>...</td>\n",
       "      <td>9059609406</td>\n",
       "      <td>99.254.60.245</td>\n",
       "      <td>NaN</td>\n",
       "      <td>success</td>\n",
       "      <td>NaN</td>\n",
       "      <td>NaN</td>\n",
       "      <td>2021-02-02</td>\n",
       "      <td>472409******4012</td>\n",
       "      <td>2021-09</td>\n",
       "      <td>19.49</td>\n",
       "    </tr>\n",
       "  </tbody>\n",
       "</table>\n",
       "<p>5 rows × 22 columns</p>\n",
       "</div>"
      ],
      "text/plain": [
       "                         id           order_id    type status  amount  \\\n",
       "0  448233******3385_2022-04  58963204904455627  charge  false  141.68   \n",
       "1  438787******8595_2024-11  58963219744750136  charge  false   26.83   \n",
       "2  481582******0912_2024-01  58963261615776513  charge  false   34.77   \n",
       "3  510277******8427_2024-08  58963268351715157  charge  false   25.32   \n",
       "4  472409******4012_2021-09  58963268900246649  charge  false   25.34   \n",
       "\n",
       "  currency                               terminal_id   mcc  \\\n",
       "0      USD  6e47c22917615e7d98fd3bdd6c9a9aa46801d326  5945   \n",
       "1      USD  7e056fed4960c5b2f58c35a1e4873dc5e687d4c6  5945   \n",
       "2      USD  39ab5284a1a698f98c2a8712a97e9b78c715ed02  5945   \n",
       "3      USD  39ab5284a1a698f98c2a8712a97e9b78c715ed02  5945   \n",
       "4      CAD  39ab5284a1a698f98c2a8712a97e9b78c715ed02  5945   \n",
       "\n",
       "                                 project_id                 date  ...  \\\n",
       "0  3e16ad3609f8237404cc7aeb4df7fd3a2e1f2724  2021-02-02 21:10:22  ...   \n",
       "1  3e16ad3609f8237404cc7aeb4df7fd3a2e1f2724  2021-02-02 21:11:20  ...   \n",
       "2  3e16ad3609f8237404cc7aeb4df7fd3a2e1f2724  2021-02-02 21:14:03  ...   \n",
       "3  3e16ad3609f8237404cc7aeb4df7fd3a2e1f2724  2021-02-02 21:14:29  ...   \n",
       "4  3e16ad3609f8237404cc7aeb4df7fd3a2e1f2724  2021-02-02 21:14:31  ...   \n",
       "\n",
       "        phone               ip reported status_old reported_chargeback  \\\n",
       "0  8608696059      73.149.7.42      NaN    success                 NaN   \n",
       "1  5163857019  174.197.204.100      NaN    success                 NaN   \n",
       "2  7147975264   107.77.229.166      NaN    success                 NaN   \n",
       "3  3155602060     72.237.4.249      NaN    success                 NaN   \n",
       "4  9059609406    99.254.60.245      NaN    success                 NaN   \n",
       "\n",
       "  date_cb_only   date_only       card_masked card_expire amount_usd  \n",
       "0          NaN  2021-02-02  448233******3385     2022-04     141.68  \n",
       "1          NaN  2021-02-02  438787******8595     2024-11      26.83  \n",
       "2          NaN  2021-02-02  481582******0912     2024-01      34.77  \n",
       "3          NaN  2021-02-02  510277******8427     2024-08      25.32  \n",
       "4          NaN  2021-02-02  472409******4012     2021-09      19.49  \n",
       "\n",
       "[5 rows x 22 columns]"
      ]
     },
     "execution_count": 83,
     "metadata": {},
     "output_type": "execute_result"
    }
   ],
   "source": [
    "df_charge.head()"
   ]
  },
  {
   "cell_type": "code",
   "execution_count": 89,
   "metadata": {},
   "outputs": [
    {
     "data": {
      "text/plain": [
       "false    204707\n",
       "true       1399\n",
       "Name: status, dtype: int64"
      ]
     },
     "execution_count": 89,
     "metadata": {},
     "output_type": "execute_result"
    }
   ],
   "source": [
    "df_charge.status.value_counts()"
   ]
  },
  {
   "cell_type": "code",
   "execution_count": 90,
   "metadata": {},
   "outputs": [],
   "source": [
    "file_to_resolve_path = path_merch + \"02_pure_data/ky10_for_resolve.csv\"\n"
   ]
  },
  {
   "cell_type": "code",
   "execution_count": 91,
   "metadata": {},
   "outputs": [
    {
     "data": {
      "text/plain": [
       "'/mnt/files/workdata/work/merchants/merchant_35_ky_2021-03-12/02_pure_data/ky10_for_resolve.csv'"
      ]
     },
     "execution_count": 91,
     "metadata": {},
     "output_type": "execute_result"
    }
   ],
   "source": [
    "file_to_resolve_path"
   ]
  },
  {
   "cell_type": "code",
   "execution_count": 92,
   "metadata": {},
   "outputs": [],
   "source": [
    "df_charge.to_csv(file_to_resolve_path, index=False, quoting=csv.QUOTE_ALL)"
   ]
  },
  {
   "cell_type": "code",
   "execution_count": 109,
   "metadata": {},
   "outputs": [
    {
     "data": {
      "text/plain": [
       "\"['id', 'order_id', 'type', 'status', 'amount', 'currency', 'terminal_id', 'mcc', 'project_id', 'date', 'country', 'zip', 'phone', 'ip', 'reported', 'status_old', 'reported_chargeback', 'date_cb_only', 'date_only', 'card_masked', 'card_expire', 'amount_usd']\""
      ]
     },
     "execution_count": 109,
     "metadata": {},
     "output_type": "execute_result"
    }
   ],
   "source": [
    "str(list(df_charge))"
   ]
  },
  {
   "cell_type": "code",
   "execution_count": 108,
   "metadata": {},
   "outputs": [
    {
     "data": {
      "text/html": [
       "<div>\n",
       "<style scoped>\n",
       "    .dataframe tbody tr th:only-of-type {\n",
       "        vertical-align: middle;\n",
       "    }\n",
       "\n",
       "    .dataframe tbody tr th {\n",
       "        vertical-align: top;\n",
       "    }\n",
       "\n",
       "    .dataframe thead th {\n",
       "        text-align: right;\n",
       "    }\n",
       "</style>\n",
       "<table border=\"1\" class=\"dataframe\">\n",
       "  <thead>\n",
       "    <tr style=\"text-align: right;\">\n",
       "      <th></th>\n",
       "      <th>id</th>\n",
       "      <th>order_id</th>\n",
       "      <th>type</th>\n",
       "      <th>status</th>\n",
       "      <th>amount</th>\n",
       "      <th>currency</th>\n",
       "      <th>terminal_id</th>\n",
       "      <th>mcc</th>\n",
       "      <th>project_id</th>\n",
       "      <th>date</th>\n",
       "      <th>country</th>\n",
       "      <th>zip</th>\n",
       "      <th>phone</th>\n",
       "      <th>ip</th>\n",
       "      <th>reported</th>\n",
       "      <th>status_old</th>\n",
       "      <th>reported_chargeback</th>\n",
       "      <th>date_cb_only</th>\n",
       "      <th>date_only</th>\n",
       "      <th>card_masked</th>\n",
       "      <th>card_expire</th>\n",
       "      <th>amount_usd</th>\n",
       "    </tr>\n",
       "  </thead>\n",
       "  <tbody>\n",
       "    <tr>\n",
       "      <th>0</th>\n",
       "      <td>448233******3385_2022-04</td>\n",
       "      <td>58963204904455627</td>\n",
       "      <td>charge</td>\n",
       "      <td>false</td>\n",
       "      <td>141.68</td>\n",
       "      <td>USD</td>\n",
       "      <td>6e47c22917615e7d98fd3bdd6c9a9aa46801d326</td>\n",
       "      <td>5945</td>\n",
       "      <td>3e16ad3609f8237404cc7aeb4df7fd3a2e1f2724</td>\n",
       "      <td>2021-02-02 21:10:22</td>\n",
       "      <td>USA</td>\n",
       "      <td>06248</td>\n",
       "      <td>8608696059</td>\n",
       "      <td>73.149.7.42</td>\n",
       "      <td>NaN</td>\n",
       "      <td>success</td>\n",
       "      <td>NaN</td>\n",
       "      <td>NaN</td>\n",
       "      <td>2021-02-02</td>\n",
       "      <td>448233******3385</td>\n",
       "      <td>2022-04</td>\n",
       "      <td>141.68</td>\n",
       "    </tr>\n",
       "    <tr>\n",
       "      <th>1</th>\n",
       "      <td>438787******8595_2024-11</td>\n",
       "      <td>58963219744750136</td>\n",
       "      <td>charge</td>\n",
       "      <td>false</td>\n",
       "      <td>26.83</td>\n",
       "      <td>USD</td>\n",
       "      <td>7e056fed4960c5b2f58c35a1e4873dc5e687d4c6</td>\n",
       "      <td>5945</td>\n",
       "      <td>3e16ad3609f8237404cc7aeb4df7fd3a2e1f2724</td>\n",
       "      <td>2021-02-02 21:11:20</td>\n",
       "      <td>USA</td>\n",
       "      <td>11590</td>\n",
       "      <td>5163857019</td>\n",
       "      <td>174.197.204.100</td>\n",
       "      <td>NaN</td>\n",
       "      <td>success</td>\n",
       "      <td>NaN</td>\n",
       "      <td>NaN</td>\n",
       "      <td>2021-02-02</td>\n",
       "      <td>438787******8595</td>\n",
       "      <td>2024-11</td>\n",
       "      <td>26.83</td>\n",
       "    </tr>\n",
       "    <tr>\n",
       "      <th>2</th>\n",
       "      <td>481582******0912_2024-01</td>\n",
       "      <td>58963261615776513</td>\n",
       "      <td>charge</td>\n",
       "      <td>false</td>\n",
       "      <td>34.77</td>\n",
       "      <td>USD</td>\n",
       "      <td>39ab5284a1a698f98c2a8712a97e9b78c715ed02</td>\n",
       "      <td>5945</td>\n",
       "      <td>3e16ad3609f8237404cc7aeb4df7fd3a2e1f2724</td>\n",
       "      <td>2021-02-02 21:14:03</td>\n",
       "      <td>USA</td>\n",
       "      <td>91801</td>\n",
       "      <td>7147975264</td>\n",
       "      <td>107.77.229.166</td>\n",
       "      <td>NaN</td>\n",
       "      <td>success</td>\n",
       "      <td>NaN</td>\n",
       "      <td>NaN</td>\n",
       "      <td>2021-02-02</td>\n",
       "      <td>481582******0912</td>\n",
       "      <td>2024-01</td>\n",
       "      <td>34.77</td>\n",
       "    </tr>\n",
       "    <tr>\n",
       "      <th>3</th>\n",
       "      <td>510277******8427_2024-08</td>\n",
       "      <td>58963268351715157</td>\n",
       "      <td>charge</td>\n",
       "      <td>false</td>\n",
       "      <td>25.32</td>\n",
       "      <td>USD</td>\n",
       "      <td>39ab5284a1a698f98c2a8712a97e9b78c715ed02</td>\n",
       "      <td>5945</td>\n",
       "      <td>3e16ad3609f8237404cc7aeb4df7fd3a2e1f2724</td>\n",
       "      <td>2021-02-02 21:14:29</td>\n",
       "      <td>USA</td>\n",
       "      <td>13215</td>\n",
       "      <td>3155602060</td>\n",
       "      <td>72.237.4.249</td>\n",
       "      <td>NaN</td>\n",
       "      <td>success</td>\n",
       "      <td>NaN</td>\n",
       "      <td>NaN</td>\n",
       "      <td>2021-02-02</td>\n",
       "      <td>510277******8427</td>\n",
       "      <td>2024-08</td>\n",
       "      <td>25.32</td>\n",
       "    </tr>\n",
       "    <tr>\n",
       "      <th>4</th>\n",
       "      <td>472409******4012_2021-09</td>\n",
       "      <td>58963268900246649</td>\n",
       "      <td>charge</td>\n",
       "      <td>false</td>\n",
       "      <td>25.34</td>\n",
       "      <td>CAD</td>\n",
       "      <td>39ab5284a1a698f98c2a8712a97e9b78c715ed02</td>\n",
       "      <td>5945</td>\n",
       "      <td>3e16ad3609f8237404cc7aeb4df7fd3a2e1f2724</td>\n",
       "      <td>2021-02-02 21:14:31</td>\n",
       "      <td>CAN</td>\n",
       "      <td>L9N0A3</td>\n",
       "      <td>9059609406</td>\n",
       "      <td>99.254.60.245</td>\n",
       "      <td>NaN</td>\n",
       "      <td>success</td>\n",
       "      <td>NaN</td>\n",
       "      <td>NaN</td>\n",
       "      <td>2021-02-02</td>\n",
       "      <td>472409******4012</td>\n",
       "      <td>2021-09</td>\n",
       "      <td>19.49</td>\n",
       "    </tr>\n",
       "  </tbody>\n",
       "</table>\n",
       "</div>"
      ],
      "text/plain": [
       "                         id           order_id    type status  amount  \\\n",
       "0  448233******3385_2022-04  58963204904455627  charge  false  141.68   \n",
       "1  438787******8595_2024-11  58963219744750136  charge  false   26.83   \n",
       "2  481582******0912_2024-01  58963261615776513  charge  false   34.77   \n",
       "3  510277******8427_2024-08  58963268351715157  charge  false   25.32   \n",
       "4  472409******4012_2021-09  58963268900246649  charge  false   25.34   \n",
       "\n",
       "  currency                               terminal_id   mcc  \\\n",
       "0      USD  6e47c22917615e7d98fd3bdd6c9a9aa46801d326  5945   \n",
       "1      USD  7e056fed4960c5b2f58c35a1e4873dc5e687d4c6  5945   \n",
       "2      USD  39ab5284a1a698f98c2a8712a97e9b78c715ed02  5945   \n",
       "3      USD  39ab5284a1a698f98c2a8712a97e9b78c715ed02  5945   \n",
       "4      CAD  39ab5284a1a698f98c2a8712a97e9b78c715ed02  5945   \n",
       "\n",
       "                                 project_id                 date country  \\\n",
       "0  3e16ad3609f8237404cc7aeb4df7fd3a2e1f2724  2021-02-02 21:10:22     USA   \n",
       "1  3e16ad3609f8237404cc7aeb4df7fd3a2e1f2724  2021-02-02 21:11:20     USA   \n",
       "2  3e16ad3609f8237404cc7aeb4df7fd3a2e1f2724  2021-02-02 21:14:03     USA   \n",
       "3  3e16ad3609f8237404cc7aeb4df7fd3a2e1f2724  2021-02-02 21:14:29     USA   \n",
       "4  3e16ad3609f8237404cc7aeb4df7fd3a2e1f2724  2021-02-02 21:14:31     CAN   \n",
       "\n",
       "      zip       phone               ip reported status_old  \\\n",
       "0   06248  8608696059      73.149.7.42      NaN    success   \n",
       "1   11590  5163857019  174.197.204.100      NaN    success   \n",
       "2   91801  7147975264   107.77.229.166      NaN    success   \n",
       "3   13215  3155602060     72.237.4.249      NaN    success   \n",
       "4  L9N0A3  9059609406    99.254.60.245      NaN    success   \n",
       "\n",
       "  reported_chargeback date_cb_only   date_only       card_masked card_expire  \\\n",
       "0                 NaN          NaN  2021-02-02  448233******3385     2022-04   \n",
       "1                 NaN          NaN  2021-02-02  438787******8595     2024-11   \n",
       "2                 NaN          NaN  2021-02-02  481582******0912     2024-01   \n",
       "3                 NaN          NaN  2021-02-02  510277******8427     2024-08   \n",
       "4                 NaN          NaN  2021-02-02  472409******4012     2021-09   \n",
       "\n",
       "  amount_usd  \n",
       "0     141.68  \n",
       "1      26.83  \n",
       "2      34.77  \n",
       "3      25.32  \n",
       "4      19.49  "
      ]
     },
     "execution_count": 108,
     "metadata": {},
     "output_type": "execute_result"
    }
   ],
   "source": [
    "df_charge.head()"
   ]
  },
  {
   "cell_type": "code",
   "execution_count": 84,
   "metadata": {},
   "outputs": [],
   "source": [
    "mask = df_charge.currency != 'USD'\n",
    "tmp = df_charge[mask]\n",
    "tmp_path = path_merch + \"02_pure_data/tmp_ky10_for_resolve.csv\"\n",
    "tmp.to_csv(tmp_path, index=False, quoting=csv.QUOTE_ALL)"
   ]
  },
  {
   "cell_type": "code",
   "execution_count": 87,
   "metadata": {},
   "outputs": [
    {
     "data": {
      "text/html": [
       "<div>\n",
       "<style scoped>\n",
       "    .dataframe tbody tr th:only-of-type {\n",
       "        vertical-align: middle;\n",
       "    }\n",
       "\n",
       "    .dataframe tbody tr th {\n",
       "        vertical-align: top;\n",
       "    }\n",
       "\n",
       "    .dataframe thead th {\n",
       "        text-align: right;\n",
       "    }\n",
       "</style>\n",
       "<table border=\"1\" class=\"dataframe\">\n",
       "  <thead>\n",
       "    <tr style=\"text-align: right;\">\n",
       "      <th></th>\n",
       "      <th>amount</th>\n",
       "      <th>amount_usd</th>\n",
       "      <th>currency</th>\n",
       "    </tr>\n",
       "  </thead>\n",
       "  <tbody>\n",
       "    <tr>\n",
       "      <th>4</th>\n",
       "      <td>25.34</td>\n",
       "      <td>19.49</td>\n",
       "      <td>CAD</td>\n",
       "    </tr>\n",
       "    <tr>\n",
       "      <th>5</th>\n",
       "      <td>20.29</td>\n",
       "      <td>15.61</td>\n",
       "      <td>CAD</td>\n",
       "    </tr>\n",
       "    <tr>\n",
       "      <th>9</th>\n",
       "      <td>25.33</td>\n",
       "      <td>19.64</td>\n",
       "      <td>AUD</td>\n",
       "    </tr>\n",
       "    <tr>\n",
       "      <th>11</th>\n",
       "      <td>25.36</td>\n",
       "      <td>19.51</td>\n",
       "      <td>CAD</td>\n",
       "    </tr>\n",
       "    <tr>\n",
       "      <th>20</th>\n",
       "      <td>508.40</td>\n",
       "      <td>391.08</td>\n",
       "      <td>CAD</td>\n",
       "    </tr>\n",
       "    <tr>\n",
       "      <th>28</th>\n",
       "      <td>25.31</td>\n",
       "      <td>19.47</td>\n",
       "      <td>CAD</td>\n",
       "    </tr>\n",
       "    <tr>\n",
       "      <th>30</th>\n",
       "      <td>46.68</td>\n",
       "      <td>35.91</td>\n",
       "      <td>CAD</td>\n",
       "    </tr>\n",
       "    <tr>\n",
       "      <th>33</th>\n",
       "      <td>30.37</td>\n",
       "      <td>23.36</td>\n",
       "      <td>CAD</td>\n",
       "    </tr>\n",
       "    <tr>\n",
       "      <th>37</th>\n",
       "      <td>30.36</td>\n",
       "      <td>23.35</td>\n",
       "      <td>CAD</td>\n",
       "    </tr>\n",
       "    <tr>\n",
       "      <th>39</th>\n",
       "      <td>25.36</td>\n",
       "      <td>19.51</td>\n",
       "      <td>CAD</td>\n",
       "    </tr>\n",
       "  </tbody>\n",
       "</table>\n",
       "</div>"
      ],
      "text/plain": [
       "    amount amount_usd currency\n",
       "4    25.34      19.49      CAD\n",
       "5    20.29      15.61      CAD\n",
       "9    25.33      19.64      AUD\n",
       "11   25.36      19.51      CAD\n",
       "20  508.40     391.08      CAD\n",
       "28   25.31      19.47      CAD\n",
       "30   46.68      35.91      CAD\n",
       "33   30.37      23.36      CAD\n",
       "37   30.36      23.35      CAD\n",
       "39   25.36      19.51      CAD"
      ]
     },
     "execution_count": 87,
     "metadata": {},
     "output_type": "execute_result"
    }
   ],
   "source": [
    "col_names = ['amount', 'amount_usd', 'currency']\n",
    "tmp[col_names].head(10)"
   ]
  },
  {
   "cell_type": "markdown",
   "metadata": {},
   "source": [
    "##### Research"
   ]
  },
  {
   "cell_type": "code",
   "execution_count": 19,
   "metadata": {},
   "outputs": [],
   "source": [
    "file_to_resolve_path = '/mnt/files/workdata/work/merchants/merchant_35_ky_2021-03-12/02_pure_data/ky10_for_resolve.csv'\n",
    "df_orig_research =  pd.read_csv(file_to_resolve_path ,dtype=str, keep_default_na=False)"
   ]
  },
  {
   "cell_type": "code",
   "execution_count": 31,
   "metadata": {},
   "outputs": [],
   "source": [
    "mask = df_orig_research.currency == 'ARS'\n",
    "tmp = df_orig_research[mask]"
   ]
  },
  {
   "cell_type": "code",
   "execution_count": 51,
   "metadata": {},
   "outputs": [
    {
     "data": {
      "text/html": [
       "<div>\n",
       "<style scoped>\n",
       "    .dataframe tbody tr th:only-of-type {\n",
       "        vertical-align: middle;\n",
       "    }\n",
       "\n",
       "    .dataframe tbody tr th {\n",
       "        vertical-align: top;\n",
       "    }\n",
       "\n",
       "    .dataframe thead th {\n",
       "        text-align: right;\n",
       "    }\n",
       "</style>\n",
       "<table border=\"1\" class=\"dataframe\">\n",
       "  <thead>\n",
       "    <tr style=\"text-align: right;\">\n",
       "      <th></th>\n",
       "      <th>amount</th>\n",
       "      <th>amount_usd</th>\n",
       "      <th>currency</th>\n",
       "      <th>id</th>\n",
       "      <th>order_id</th>\n",
       "    </tr>\n",
       "  </thead>\n",
       "  <tbody>\n",
       "    <tr>\n",
       "      <th>111670</th>\n",
       "      <td>6603.44</td>\n",
       "      <td>72.73</td>\n",
       "      <td>ARS</td>\n",
       "      <td>514945******2527_2028-07</td>\n",
       "      <td>59291906828339593</td>\n",
       "    </tr>\n",
       "  </tbody>\n",
       "</table>\n",
       "</div>"
      ],
      "text/plain": [
       "         amount amount_usd currency                        id  \\\n",
       "111670  6603.44      72.73      ARS  514945******2527_2028-07   \n",
       "\n",
       "                 order_id  \n",
       "111670  59291906828339593  "
      ]
     },
     "execution_count": 51,
     "metadata": {},
     "output_type": "execute_result"
    }
   ],
   "source": [
    "col_names = ['amount', 'amount_usd', 'currency','id', 'order_id']\n",
    "mask = tmp.order_id == '59291906828339593'\n",
    "tmp2 = tmp[mask]\n",
    "tmp2[col_names]"
   ]
  },
  {
   "cell_type": "code",
   "execution_count": 35,
   "metadata": {},
   "outputs": [
    {
     "data": {
      "text/plain": [
       "\"['id', 'order_id', 'type', 'status', 'amount', 'currency', 'terminal_id', 'mcc', 'project_id', 'date', 'country', 'zip', 'phone', 'ip', 'reported', 'status_old', 'reported_chargeback', 'date_cb_only', 'date_only', 'card_masked', 'card_expire', 'amount_usd']\""
      ]
     },
     "execution_count": 35,
     "metadata": {},
     "output_type": "execute_result"
    }
   ],
   "source": [
    "str(list(df_orig_research))"
   ]
  },
  {
   "cell_type": "code",
   "execution_count": 44,
   "metadata": {},
   "outputs": [],
   "source": [
    "df_orig_research['first_card_digit'] = df_orig_research.card_masked.str[:1]"
   ]
  },
  {
   "cell_type": "code",
   "execution_count": 10,
   "metadata": {},
   "outputs": [
    {
     "data": {
      "text/plain": [
       "4    126999\n",
       "5     79107\n",
       "Name: first_card_digit, dtype: int64"
      ]
     },
     "execution_count": 10,
     "metadata": {},
     "output_type": "execute_result"
    }
   ],
   "source": [
    "df_orig_research.first_card_digit.value_counts()"
   ]
  },
  {
   "cell_type": "code",
   "execution_count": 15,
   "metadata": {},
   "outputs": [],
   "source": [
    "mask = df_orig_research.first_card_digit == '4'\n",
    "df_orig_research_4 = df_orig_research[mask]\n",
    "df_orig_research_5 = df_orig_research[~mask]"
   ]
  },
  {
   "cell_type": "code",
   "execution_count": 17,
   "metadata": {},
   "outputs": [
    {
     "data": {
      "text/plain": [
       "0.68"
      ]
     },
     "execution_count": 17,
     "metadata": {},
     "output_type": "execute_result"
    }
   ],
   "source": [
    "Statistic.get_cb_rate(df_orig_research)"
   ]
  },
  {
   "cell_type": "code",
   "execution_count": 18,
   "metadata": {},
   "outputs": [
    {
     "data": {
      "text/plain": [
       "0.84"
      ]
     },
     "execution_count": 18,
     "metadata": {},
     "output_type": "execute_result"
    }
   ],
   "source": [
    "Statistic.get_cb_rate(df_orig_research_4)"
   ]
  },
  {
   "cell_type": "code",
   "execution_count": 19,
   "metadata": {},
   "outputs": [
    {
     "data": {
      "text/plain": [
       "0.42"
      ]
     },
     "execution_count": 19,
     "metadata": {},
     "output_type": "execute_result"
    }
   ],
   "source": [
    "Statistic.get_cb_rate(df_orig_research_5)"
   ]
  },
  {
   "cell_type": "code",
   "execution_count": 22,
   "metadata": {},
   "outputs": [],
   "source": [
    "path_ky9 = '/mnt/files/workdata/work/merchants/merchant_32_ky9_2020-05-12_white_visa/\\\n",
    "02_pure_data/ky9_for_resolve.csv'"
   ]
  },
  {
   "cell_type": "code",
   "execution_count": 23,
   "metadata": {},
   "outputs": [],
   "source": [
    "ky9 =  pd.read_csv(path_ky9 ,dtype=str, keep_default_na=False)"
   ]
  },
  {
   "cell_type": "code",
   "execution_count": 24,
   "metadata": {},
   "outputs": [],
   "source": [
    "ky9['first_card_digit'] = ky9.card_masked.str[:1]"
   ]
  },
  {
   "cell_type": "code",
   "execution_count": 25,
   "metadata": {},
   "outputs": [
    {
     "data": {
      "text/plain": [
       "4    126999\n",
       "5     79107\n",
       "Name: first_card_digit, dtype: int64"
      ]
     },
     "execution_count": 25,
     "metadata": {},
     "output_type": "execute_result"
    }
   ],
   "source": [
    "df_orig_research.first_card_digit.value_counts()"
   ]
  },
  {
   "cell_type": "code",
   "execution_count": 26,
   "metadata": {},
   "outputs": [],
   "source": [
    "mask = ky9.first_card_digit == '4'\n",
    "ky9_4 = ky9[mask]\n",
    "ky9_5 = ky9[~mask]"
   ]
  },
  {
   "cell_type": "code",
   "execution_count": 27,
   "metadata": {},
   "outputs": [
    {
     "data": {
      "text/plain": [
       "1.31"
      ]
     },
     "execution_count": 27,
     "metadata": {},
     "output_type": "execute_result"
    }
   ],
   "source": [
    "Statistic.get_cb_rate(ky9)"
   ]
  },
  {
   "cell_type": "code",
   "execution_count": 28,
   "metadata": {},
   "outputs": [
    {
     "data": {
      "text/plain": [
       "1.27"
      ]
     },
     "execution_count": 28,
     "metadata": {},
     "output_type": "execute_result"
    }
   ],
   "source": [
    "Statistic.get_cb_rate(ky9_4)"
   ]
  },
  {
   "cell_type": "code",
   "execution_count": 29,
   "metadata": {},
   "outputs": [
    {
     "data": {
      "text/plain": [
       "1.57"
      ]
     },
     "execution_count": 29,
     "metadata": {},
     "output_type": "execute_result"
    }
   ],
   "source": [
    "Statistic.get_cb_rate(ky9_5)"
   ]
  },
  {
   "cell_type": "code",
   "execution_count": 30,
   "metadata": {},
   "outputs": [
    {
     "data": {
      "text/html": [
       "<div>\n",
       "<style scoped>\n",
       "    .dataframe tbody tr th:only-of-type {\n",
       "        vertical-align: middle;\n",
       "    }\n",
       "\n",
       "    .dataframe tbody tr th {\n",
       "        vertical-align: top;\n",
       "    }\n",
       "\n",
       "    .dataframe thead th {\n",
       "        text-align: right;\n",
       "    }\n",
       "</style>\n",
       "<table border=\"1\" class=\"dataframe\">\n",
       "  <thead>\n",
       "    <tr style=\"text-align: right;\">\n",
       "      <th></th>\n",
       "      <th>n</th>\n",
       "      <th>amount_total</th>\n",
       "      <th>n_bad</th>\n",
       "      <th>amount_bad</th>\n",
       "      <th>cb_rate</th>\n",
       "      <th>cb_rate_amount</th>\n",
       "      <th>true_amount_weight</th>\n",
       "      <th>false_amount_weight</th>\n",
       "      <th>true_weight</th>\n",
       "      <th>false_weight</th>\n",
       "      <th>p</th>\n",
       "      <th>p_a</th>\n",
       "    </tr>\n",
       "    <tr>\n",
       "      <th>first_card_digit</th>\n",
       "      <th></th>\n",
       "      <th></th>\n",
       "      <th></th>\n",
       "      <th></th>\n",
       "      <th></th>\n",
       "      <th></th>\n",
       "      <th></th>\n",
       "      <th></th>\n",
       "      <th></th>\n",
       "      <th></th>\n",
       "      <th></th>\n",
       "      <th></th>\n",
       "    </tr>\n",
       "  </thead>\n",
       "  <tbody>\n",
       "    <tr>\n",
       "      <th>4</th>\n",
       "      <td>3681521</td>\n",
       "      <td>3.516641e+08</td>\n",
       "      <td>46649</td>\n",
       "      <td>6.260718e+06</td>\n",
       "      <td>1.2671</td>\n",
       "      <td>1.7803</td>\n",
       "      <td>0.828240</td>\n",
       "      <td>0.867695</td>\n",
       "      <td>0.825050</td>\n",
       "      <td>0.854016</td>\n",
       "      <td>0.491374</td>\n",
       "      <td>0.488368</td>\n",
       "    </tr>\n",
       "    <tr>\n",
       "      <th>5</th>\n",
       "      <td>631230</td>\n",
       "      <td>5.396490e+07</td>\n",
       "      <td>9892</td>\n",
       "      <td>1.298346e+06</td>\n",
       "      <td>1.5671</td>\n",
       "      <td>2.4059</td>\n",
       "      <td>0.171761</td>\n",
       "      <td>0.132305</td>\n",
       "      <td>0.174967</td>\n",
       "      <td>0.145984</td>\n",
       "      <td>0.545152</td>\n",
       "      <td>0.564881</td>\n",
       "    </tr>\n",
       "  </tbody>\n",
       "</table>\n",
       "</div>"
      ],
      "text/plain": [
       "                        n  amount_total  n_bad    amount_bad  cb_rate  \\\n",
       "first_card_digit                                                        \n",
       "4                 3681521  3.516641e+08  46649  6.260718e+06   1.2671   \n",
       "5                  631230  5.396490e+07   9892  1.298346e+06   1.5671   \n",
       "\n",
       "                  cb_rate_amount  true_amount_weight  false_amount_weight  \\\n",
       "first_card_digit                                                            \n",
       "4                         1.7803            0.828240             0.867695   \n",
       "5                         2.4059            0.171761             0.132305   \n",
       "\n",
       "                  true_weight  false_weight         p       p_a  \n",
       "first_card_digit                                                 \n",
       "4                    0.825050      0.854016  0.491374  0.488368  \n",
       "5                    0.174967      0.145984  0.545152  0.564881  "
      ]
     },
     "execution_count": 30,
     "metadata": {},
     "output_type": "execute_result"
    }
   ],
   "source": [
    "Statistic.get_stat_summarise_by_column(ky9, 'first_card_digit')"
   ]
  },
  {
   "cell_type": "code",
   "execution_count": 41,
   "metadata": {},
   "outputs": [],
   "source": [
    "df_orig_research.amount = df_orig_research.amount_usd.copy()"
   ]
  },
  {
   "cell_type": "code",
   "execution_count": 45,
   "metadata": {},
   "outputs": [
    {
     "data": {
      "text/html": [
       "<div>\n",
       "<style scoped>\n",
       "    .dataframe tbody tr th:only-of-type {\n",
       "        vertical-align: middle;\n",
       "    }\n",
       "\n",
       "    .dataframe tbody tr th {\n",
       "        vertical-align: top;\n",
       "    }\n",
       "\n",
       "    .dataframe thead th {\n",
       "        text-align: right;\n",
       "    }\n",
       "</style>\n",
       "<table border=\"1\" class=\"dataframe\">\n",
       "  <thead>\n",
       "    <tr style=\"text-align: right;\">\n",
       "      <th></th>\n",
       "      <th>n</th>\n",
       "      <th>amount_total</th>\n",
       "      <th>n_bad</th>\n",
       "      <th>amount_bad</th>\n",
       "      <th>cb_rate</th>\n",
       "      <th>cb_rate_amount</th>\n",
       "      <th>true_amount_weight</th>\n",
       "      <th>false_amount_weight</th>\n",
       "      <th>true_weight</th>\n",
       "      <th>false_weight</th>\n",
       "      <th>p</th>\n",
       "      <th>p_a</th>\n",
       "    </tr>\n",
       "    <tr>\n",
       "      <th>first_card_digit</th>\n",
       "      <th></th>\n",
       "      <th></th>\n",
       "      <th></th>\n",
       "      <th></th>\n",
       "      <th></th>\n",
       "      <th></th>\n",
       "      <th></th>\n",
       "      <th></th>\n",
       "      <th></th>\n",
       "      <th></th>\n",
       "      <th></th>\n",
       "      <th></th>\n",
       "    </tr>\n",
       "  </thead>\n",
       "  <tbody>\n",
       "    <tr>\n",
       "      <th>4</th>\n",
       "      <td>126999</td>\n",
       "      <td>1.433072e+07</td>\n",
       "      <td>1064</td>\n",
       "      <td>190750.17</td>\n",
       "      <td>0.8378</td>\n",
       "      <td>1.3311</td>\n",
       "      <td>0.723841</td>\n",
       "      <td>0.620735</td>\n",
       "      <td>0.760714</td>\n",
       "      <td>0.615198</td>\n",
       "      <td>0.552880</td>\n",
       "      <td>0.538341</td>\n",
       "    </tr>\n",
       "    <tr>\n",
       "      <th>5</th>\n",
       "      <td>79107</td>\n",
       "      <td>8.712209e+06</td>\n",
       "      <td>335</td>\n",
       "      <td>72778.37</td>\n",
       "      <td>0.4235</td>\n",
       "      <td>0.8354</td>\n",
       "      <td>0.276195</td>\n",
       "      <td>0.379265</td>\n",
       "      <td>0.240000</td>\n",
       "      <td>0.384807</td>\n",
       "      <td>0.384119</td>\n",
       "      <td>0.421375</td>\n",
       "    </tr>\n",
       "  </tbody>\n",
       "</table>\n",
       "</div>"
      ],
      "text/plain": [
       "                       n  amount_total  n_bad  amount_bad  cb_rate  \\\n",
       "first_card_digit                                                     \n",
       "4                 126999  1.433072e+07   1064   190750.17   0.8378   \n",
       "5                  79107  8.712209e+06    335    72778.37   0.4235   \n",
       "\n",
       "                  cb_rate_amount  true_amount_weight  false_amount_weight  \\\n",
       "first_card_digit                                                            \n",
       "4                         1.3311            0.723841             0.620735   \n",
       "5                         0.8354            0.276195             0.379265   \n",
       "\n",
       "                  true_weight  false_weight         p       p_a  \n",
       "first_card_digit                                                 \n",
       "4                    0.760714      0.615198  0.552880  0.538341  \n",
       "5                    0.240000      0.384807  0.384119  0.421375  "
      ]
     },
     "execution_count": 45,
     "metadata": {},
     "output_type": "execute_result"
    }
   ],
   "source": [
    "Statistic.get_stat_summarise_by_column(df_orig_research, 'first_card_digit')"
   ]
  },
  {
   "cell_type": "code",
   "execution_count": 95,
   "metadata": {},
   "outputs": [],
   "source": [
    "path_tmp = '/mnt/files/projects/data/result/db_teach.csv'\n",
    "tmp = pd.read_csv(path_tmp, dtype=str, keep_default_na=False)"
   ]
  },
  {
   "cell_type": "code",
   "execution_count": 96,
   "metadata": {},
   "outputs": [],
   "source": [
    "pd.set_option('display.max_columns', 200)"
   ]
  },
  {
   "cell_type": "code",
   "execution_count": 97,
   "metadata": {},
   "outputs": [
    {
     "data": {
      "text/html": [
       "<div>\n",
       "<style scoped>\n",
       "    .dataframe tbody tr th:only-of-type {\n",
       "        vertical-align: middle;\n",
       "    }\n",
       "\n",
       "    .dataframe tbody tr th {\n",
       "        vertical-align: top;\n",
       "    }\n",
       "\n",
       "    .dataframe thead th {\n",
       "        text-align: right;\n",
       "    }\n",
       "</style>\n",
       "<table border=\"1\" class=\"dataframe\">\n",
       "  <thead>\n",
       "    <tr style=\"text-align: right;\">\n",
       "      <th></th>\n",
       "      <th>amount</th>\n",
       "      <th>amount_deviation_usd</th>\n",
       "      <th>amount_usd</th>\n",
       "      <th>area_code</th>\n",
       "      <th>bank_currency</th>\n",
       "      <th>bank_name</th>\n",
       "      <th>bin</th>\n",
       "      <th>card_type</th>\n",
       "      <th>city</th>\n",
       "      <th>client_hour</th>\n",
       "      <th>continent_code</th>\n",
       "      <th>count_months_to_end_card</th>\n",
       "      <th>country</th>\n",
       "      <th>country_code3</th>\n",
       "      <th>currency</th>\n",
       "      <th>date</th>\n",
       "      <th>date_cb_only</th>\n",
       "      <th>date_only</th>\n",
       "      <th>day_of_week</th>\n",
       "      <th>distance_haversine</th>\n",
       "      <th>distance_l2</th>\n",
       "      <th>distance_sqs_subtraction</th>\n",
       "      <th>hour</th>\n",
       "      <th>id</th>\n",
       "      <th>is_city_resolved</th>\n",
       "      <th>latitude</th>\n",
       "      <th>longitude</th>\n",
       "      <th>metro_code</th>\n",
       "      <th>order_id</th>\n",
       "      <th>phone_2_norm</th>\n",
       "      <th>region_name</th>\n",
       "      <th>status</th>\n",
       "    </tr>\n",
       "  </thead>\n",
       "  <tbody>\n",
       "    <tr>\n",
       "      <th>0</th>\n",
       "      <td>141.68</td>\n",
       "      <td>3</td>\n",
       "      <td>141.68</td>\n",
       "      <td>860</td>\n",
       "      <td>840</td>\n",
       "      <td>TD BANK, N.A.</td>\n",
       "      <td>448233</td>\n",
       "      <td>VISA card</td>\n",
       "      <td>Vernon Rockville</td>\n",
       "      <td>14</td>\n",
       "      <td>NA</td>\n",
       "      <td>14</td>\n",
       "      <td>USA</td>\n",
       "      <td>USA</td>\n",
       "      <td>USD</td>\n",
       "      <td>2021-02-02 21:10:22</td>\n",
       "      <td>undefined</td>\n",
       "      <td>2021-02-02</td>\n",
       "      <td>2</td>\n",
       "      <td>0.153902149788471</td>\n",
       "      <td>0.403481497683806</td>\n",
       "      <td>4.18798475693855</td>\n",
       "      <td>21</td>\n",
       "      <td>448233******3385_2022-04</td>\n",
       "      <td>1</td>\n",
       "      <td>41.8365</td>\n",
       "      <td>-72.4632</td>\n",
       "      <td>533</td>\n",
       "      <td>58963204904455627</td>\n",
       "      <td>60</td>\n",
       "      <td>Connecticut</td>\n",
       "      <td>0</td>\n",
       "    </tr>\n",
       "    <tr>\n",
       "      <th>1</th>\n",
       "      <td>26.83</td>\n",
       "      <td>0</td>\n",
       "      <td>26.83</td>\n",
       "      <td>0</td>\n",
       "      <td>840</td>\n",
       "      <td>NASSAU EDUCATORS F.C.U.</td>\n",
       "      <td>438787</td>\n",
       "      <td>VISA card</td>\n",
       "      <td>undefined</td>\n",
       "      <td>21</td>\n",
       "      <td>NA</td>\n",
       "      <td>45</td>\n",
       "      <td>USA</td>\n",
       "      <td>USA</td>\n",
       "      <td>USD</td>\n",
       "      <td>2021-02-02 21:11:20</td>\n",
       "      <td>undefined</td>\n",
       "      <td>2021-02-02</td>\n",
       "      <td>2</td>\n",
       "      <td>0.0140942632758067</td>\n",
       "      <td>0.033064662702264</td>\n",
       "      <td>7.74357209333864</td>\n",
       "      <td>21</td>\n",
       "      <td>438787******8595_2024-11</td>\n",
       "      <td>0</td>\n",
       "      <td>38.0000</td>\n",
       "      <td>-97.0000</td>\n",
       "      <td>0</td>\n",
       "      <td>58963219744750136</td>\n",
       "      <td>16</td>\n",
       "      <td>undefined</td>\n",
       "      <td>0</td>\n",
       "    </tr>\n",
       "    <tr>\n",
       "      <th>2</th>\n",
       "      <td>34.77</td>\n",
       "      <td>0</td>\n",
       "      <td>34.77</td>\n",
       "      <td>0</td>\n",
       "      <td>840</td>\n",
       "      <td>BANK OF AMERICA, N.A.</td>\n",
       "      <td>481582</td>\n",
       "      <td>VISA card</td>\n",
       "      <td>undefined</td>\n",
       "      <td>21</td>\n",
       "      <td>NA</td>\n",
       "      <td>35</td>\n",
       "      <td>USA</td>\n",
       "      <td>USA</td>\n",
       "      <td>USD</td>\n",
       "      <td>2021-02-02 21:14:03</td>\n",
       "      <td>undefined</td>\n",
       "      <td>2021-02-02</td>\n",
       "      <td>2</td>\n",
       "      <td>0.0140942632758067</td>\n",
       "      <td>0.033064662702264</td>\n",
       "      <td>7.74357209333864</td>\n",
       "      <td>21</td>\n",
       "      <td>481582******0912_2024-01</td>\n",
       "      <td>0</td>\n",
       "      <td>38.0000</td>\n",
       "      <td>-97.0000</td>\n",
       "      <td>0</td>\n",
       "      <td>58963261615776513</td>\n",
       "      <td>14</td>\n",
       "      <td>undefined</td>\n",
       "      <td>0</td>\n",
       "    </tr>\n",
       "    <tr>\n",
       "      <th>3</th>\n",
       "      <td>25.32</td>\n",
       "      <td>-1</td>\n",
       "      <td>25.32</td>\n",
       "      <td>315</td>\n",
       "      <td>840</td>\n",
       "      <td>STAR PROCESSING, INC.</td>\n",
       "      <td>510277</td>\n",
       "      <td>MasterCard</td>\n",
       "      <td>Utica</td>\n",
       "      <td>14</td>\n",
       "      <td>NA</td>\n",
       "      <td>42</td>\n",
       "      <td>USA</td>\n",
       "      <td>USA</td>\n",
       "      <td>USD</td>\n",
       "      <td>2021-02-02 21:14:29</td>\n",
       "      <td>undefined</td>\n",
       "      <td>2021-02-02</td>\n",
       "      <td>2</td>\n",
       "      <td>0.137687043064337</td>\n",
       "      <td>0.360984334840144</td>\n",
       "      <td>4.50621752613016</td>\n",
       "      <td>21</td>\n",
       "      <td>510277******8427_2024-08</td>\n",
       "      <td>1</td>\n",
       "      <td>43.1548</td>\n",
       "      <td>-75.1426</td>\n",
       "      <td>526</td>\n",
       "      <td>58963268351715157</td>\n",
       "      <td>15</td>\n",
       "      <td>New York</td>\n",
       "      <td>0</td>\n",
       "    </tr>\n",
       "    <tr>\n",
       "      <th>4</th>\n",
       "      <td>19.49</td>\n",
       "      <td>-2</td>\n",
       "      <td>19.49</td>\n",
       "      <td>0</td>\n",
       "      <td>124</td>\n",
       "      <td>TD CANADA TRUST</td>\n",
       "      <td>472409</td>\n",
       "      <td>VISA card</td>\n",
       "      <td>Toronto</td>\n",
       "      <td>14</td>\n",
       "      <td>NA</td>\n",
       "      <td>7</td>\n",
       "      <td>CAN</td>\n",
       "      <td>CAN</td>\n",
       "      <td>CAD</td>\n",
       "      <td>2021-02-02 21:14:31</td>\n",
       "      <td>undefined</td>\n",
       "      <td>2021-02-02</td>\n",
       "      <td>2</td>\n",
       "      <td>0.11229072384529</td>\n",
       "      <td>0.291189508640234</td>\n",
       "      <td>5.05343210691049</td>\n",
       "      <td>21</td>\n",
       "      <td>472409******4012_2021-09</td>\n",
       "      <td>1</td>\n",
       "      <td>43.6656</td>\n",
       "      <td>-79.3830</td>\n",
       "      <td>0</td>\n",
       "      <td>58963268900246649</td>\n",
       "      <td>05</td>\n",
       "      <td>Ontario</td>\n",
       "      <td>0</td>\n",
       "    </tr>\n",
       "    <tr>\n",
       "      <th>5</th>\n",
       "      <td>15.61</td>\n",
       "      <td>-2</td>\n",
       "      <td>15.61</td>\n",
       "      <td>0</td>\n",
       "      <td>124</td>\n",
       "      <td>ROYAL BANK OF CANADA</td>\n",
       "      <td>451409</td>\n",
       "      <td>VISA card</td>\n",
       "      <td>Toronto</td>\n",
       "      <td>14</td>\n",
       "      <td>NA</td>\n",
       "      <td>25</td>\n",
       "      <td>CAN</td>\n",
       "      <td>CAN</td>\n",
       "      <td>CAD</td>\n",
       "      <td>2021-02-02 21:15:43</td>\n",
       "      <td>undefined</td>\n",
       "      <td>2021-02-02</td>\n",
       "      <td>2</td>\n",
       "      <td>0.112755344681586</td>\n",
       "      <td>0.292359641933585</td>\n",
       "      <td>5.04587780337019</td>\n",
       "      <td>21</td>\n",
       "      <td>451409******5759_2023-03</td>\n",
       "      <td>1</td>\n",
       "      <td>43.7334</td>\n",
       "      <td>-79.3329</td>\n",
       "      <td>0</td>\n",
       "      <td>58963287123478142</td>\n",
       "      <td>06</td>\n",
       "      <td>Ontario</td>\n",
       "      <td>0</td>\n",
       "    </tr>\n",
       "    <tr>\n",
       "      <th>6</th>\n",
       "      <td>54.81</td>\n",
       "      <td>0</td>\n",
       "      <td>54.81</td>\n",
       "      <td>0</td>\n",
       "      <td>840</td>\n",
       "      <td>CITIBANK, N.A.</td>\n",
       "      <td>542418</td>\n",
       "      <td>MasterCard</td>\n",
       "      <td>undefined</td>\n",
       "      <td>21</td>\n",
       "      <td>NA</td>\n",
       "      <td>32</td>\n",
       "      <td>USA</td>\n",
       "      <td>USA</td>\n",
       "      <td>USD</td>\n",
       "      <td>2021-02-02 21:18:43</td>\n",
       "      <td>undefined</td>\n",
       "      <td>2021-02-02</td>\n",
       "      <td>2</td>\n",
       "      <td>0.0140942632758067</td>\n",
       "      <td>0.033064662702264</td>\n",
       "      <td>7.74357209333864</td>\n",
       "      <td>21</td>\n",
       "      <td>542418******7925_2023-10</td>\n",
       "      <td>0</td>\n",
       "      <td>38.0000</td>\n",
       "      <td>-97.0000</td>\n",
       "      <td>0</td>\n",
       "      <td>58963333353970410</td>\n",
       "      <td>18</td>\n",
       "      <td>undefined</td>\n",
       "      <td>0</td>\n",
       "    </tr>\n",
       "    <tr>\n",
       "      <th>7</th>\n",
       "      <td>26.81</td>\n",
       "      <td>0</td>\n",
       "      <td>26.81</td>\n",
       "      <td>941</td>\n",
       "      <td>840</td>\n",
       "      <td>WELLS FARGO BANK, N.A.</td>\n",
       "      <td>473702</td>\n",
       "      <td>VISA card</td>\n",
       "      <td>Sarasota</td>\n",
       "      <td>14</td>\n",
       "      <td>NA</td>\n",
       "      <td>42</td>\n",
       "      <td>USA</td>\n",
       "      <td>USA</td>\n",
       "      <td>USD</td>\n",
       "      <td>2021-02-02 21:23:55</td>\n",
       "      <td>undefined</td>\n",
       "      <td>2021-02-02</td>\n",
       "      <td>2</td>\n",
       "      <td>0.139580412985841</td>\n",
       "      <td>0.305768798275428</td>\n",
       "      <td>5.64040616103867</td>\n",
       "      <td>21</td>\n",
       "      <td>473702******9056_2024-08</td>\n",
       "      <td>1</td>\n",
       "      <td>27.2187</td>\n",
       "      <td>-82.4710</td>\n",
       "      <td>539</td>\n",
       "      <td>58963413215305246</td>\n",
       "      <td>41</td>\n",
       "      <td>Florida</td>\n",
       "      <td>0</td>\n",
       "    </tr>\n",
       "    <tr>\n",
       "      <th>8</th>\n",
       "      <td>103.41</td>\n",
       "      <td>2</td>\n",
       "      <td>103.41</td>\n",
       "      <td>0</td>\n",
       "      <td>840</td>\n",
       "      <td>CHASE BANK USA, N.A.</td>\n",
       "      <td>426684</td>\n",
       "      <td>VISA card</td>\n",
       "      <td>undefined</td>\n",
       "      <td>21</td>\n",
       "      <td>NA</td>\n",
       "      <td>79</td>\n",
       "      <td>USA</td>\n",
       "      <td>USA</td>\n",
       "      <td>USD</td>\n",
       "      <td>2021-02-02 21:24:07</td>\n",
       "      <td>undefined</td>\n",
       "      <td>2021-02-02</td>\n",
       "      <td>2</td>\n",
       "      <td>0.0140942632758067</td>\n",
       "      <td>0.033064662702264</td>\n",
       "      <td>7.74357209333864</td>\n",
       "      <td>21</td>\n",
       "      <td>426684******9786_2027-09</td>\n",
       "      <td>0</td>\n",
       "      <td>38.0000</td>\n",
       "      <td>-97.0000</td>\n",
       "      <td>0</td>\n",
       "      <td>58963416336692708</td>\n",
       "      <td>03</td>\n",
       "      <td>undefined</td>\n",
       "      <td>0</td>\n",
       "    </tr>\n",
       "  </tbody>\n",
       "</table>\n",
       "</div>"
      ],
      "text/plain": [
       "   amount amount_deviation_usd amount_usd area_code bank_currency  \\\n",
       "0  141.68                    3     141.68       860           840   \n",
       "1   26.83                    0      26.83         0           840   \n",
       "2   34.77                    0      34.77         0           840   \n",
       "3   25.32                   -1      25.32       315           840   \n",
       "4   19.49                   -2      19.49         0           124   \n",
       "5   15.61                   -2      15.61         0           124   \n",
       "6   54.81                    0      54.81         0           840   \n",
       "7   26.81                    0      26.81       941           840   \n",
       "8  103.41                    2     103.41         0           840   \n",
       "\n",
       "                 bank_name     bin   card_type              city client_hour  \\\n",
       "0            TD BANK, N.A.  448233   VISA card  Vernon Rockville          14   \n",
       "1  NASSAU EDUCATORS F.C.U.  438787   VISA card         undefined          21   \n",
       "2    BANK OF AMERICA, N.A.  481582   VISA card         undefined          21   \n",
       "3    STAR PROCESSING, INC.  510277  MasterCard             Utica          14   \n",
       "4          TD CANADA TRUST  472409   VISA card           Toronto          14   \n",
       "5     ROYAL BANK OF CANADA  451409   VISA card           Toronto          14   \n",
       "6           CITIBANK, N.A.  542418  MasterCard         undefined          21   \n",
       "7   WELLS FARGO BANK, N.A.  473702   VISA card          Sarasota          14   \n",
       "8     CHASE BANK USA, N.A.  426684   VISA card         undefined          21   \n",
       "\n",
       "  continent_code count_months_to_end_card country country_code3 currency  \\\n",
       "0             NA                       14     USA           USA      USD   \n",
       "1             NA                       45     USA           USA      USD   \n",
       "2             NA                       35     USA           USA      USD   \n",
       "3             NA                       42     USA           USA      USD   \n",
       "4             NA                        7     CAN           CAN      CAD   \n",
       "5             NA                       25     CAN           CAN      CAD   \n",
       "6             NA                       32     USA           USA      USD   \n",
       "7             NA                       42     USA           USA      USD   \n",
       "8             NA                       79     USA           USA      USD   \n",
       "\n",
       "                  date date_cb_only   date_only day_of_week  \\\n",
       "0  2021-02-02 21:10:22    undefined  2021-02-02           2   \n",
       "1  2021-02-02 21:11:20    undefined  2021-02-02           2   \n",
       "2  2021-02-02 21:14:03    undefined  2021-02-02           2   \n",
       "3  2021-02-02 21:14:29    undefined  2021-02-02           2   \n",
       "4  2021-02-02 21:14:31    undefined  2021-02-02           2   \n",
       "5  2021-02-02 21:15:43    undefined  2021-02-02           2   \n",
       "6  2021-02-02 21:18:43    undefined  2021-02-02           2   \n",
       "7  2021-02-02 21:23:55    undefined  2021-02-02           2   \n",
       "8  2021-02-02 21:24:07    undefined  2021-02-02           2   \n",
       "\n",
       "   distance_haversine        distance_l2 distance_sqs_subtraction hour  \\\n",
       "0   0.153902149788471  0.403481497683806         4.18798475693855   21   \n",
       "1  0.0140942632758067  0.033064662702264         7.74357209333864   21   \n",
       "2  0.0140942632758067  0.033064662702264         7.74357209333864   21   \n",
       "3   0.137687043064337  0.360984334840144         4.50621752613016   21   \n",
       "4    0.11229072384529  0.291189508640234         5.05343210691049   21   \n",
       "5   0.112755344681586  0.292359641933585         5.04587780337019   21   \n",
       "6  0.0140942632758067  0.033064662702264         7.74357209333864   21   \n",
       "7   0.139580412985841  0.305768798275428         5.64040616103867   21   \n",
       "8  0.0140942632758067  0.033064662702264         7.74357209333864   21   \n",
       "\n",
       "                         id is_city_resolved latitude longitude metro_code  \\\n",
       "0  448233******3385_2022-04                1  41.8365  -72.4632        533   \n",
       "1  438787******8595_2024-11                0  38.0000  -97.0000          0   \n",
       "2  481582******0912_2024-01                0  38.0000  -97.0000          0   \n",
       "3  510277******8427_2024-08                1  43.1548  -75.1426        526   \n",
       "4  472409******4012_2021-09                1  43.6656  -79.3830          0   \n",
       "5  451409******5759_2023-03                1  43.7334  -79.3329          0   \n",
       "6  542418******7925_2023-10                0  38.0000  -97.0000          0   \n",
       "7  473702******9056_2024-08                1  27.2187  -82.4710        539   \n",
       "8  426684******9786_2027-09                0  38.0000  -97.0000          0   \n",
       "\n",
       "            order_id phone_2_norm  region_name status  \n",
       "0  58963204904455627           60  Connecticut      0  \n",
       "1  58963219744750136           16    undefined      0  \n",
       "2  58963261615776513           14    undefined      0  \n",
       "3  58963268351715157           15     New York      0  \n",
       "4  58963268900246649           05      Ontario      0  \n",
       "5  58963287123478142           06      Ontario      0  \n",
       "6  58963333353970410           18    undefined      0  \n",
       "7  58963413215305246           41      Florida      0  \n",
       "8  58963416336692708           03    undefined      0  "
      ]
     },
     "execution_count": 97,
     "metadata": {},
     "output_type": "execute_result"
    }
   ],
   "source": [
    "tmp.iloc[:,:]"
   ]
  }
 ],
 "metadata": {
  "kernelspec": {
   "display_name": "Python 3",
   "language": "python",
   "name": "python3"
  },
  "language_info": {
   "codemirror_mode": {
    "name": "ipython",
    "version": 3
   },
   "file_extension": ".py",
   "mimetype": "text/x-python",
   "name": "python",
   "nbconvert_exporter": "python",
   "pygments_lexer": "ipython3",
   "version": "3.7.6"
  }
 },
 "nbformat": 4,
 "nbformat_minor": 4
}
