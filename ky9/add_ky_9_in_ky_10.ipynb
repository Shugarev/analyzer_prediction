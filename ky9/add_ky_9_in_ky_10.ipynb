{
 "cells": [
  {
   "cell_type": "code",
   "execution_count": 1,
   "metadata": {},
   "outputs": [],
   "source": [
    "import csv\n",
    "import pandas as pd\n",
    "import numpy as np\n",
    "pd.set_option('display.max_colwidth', 1000)\n",
    "pd.set_option('display.max_rows', 20)\n",
    "pd.set_option('display.max_columns', 200)\n",
    "\n",
    "import os,sys,inspect\n",
    "currentdir = os.path.dirname(os.path.abspath(inspect.getfile(inspect.currentframe())))\n",
    "parentdir = os.path.dirname(currentdir)\n",
    "sys.path.insert(0,parentdir)\n",
    "\n",
    "from utils import UtilsKy\n",
    "\n",
    "# for autoreload modules\n",
    "%load_ext autoreload\n",
    "%autoreload 2"
   ]
  },
  {
   "cell_type": "code",
   "execution_count": 2,
   "metadata": {},
   "outputs": [],
   "source": [
    "# ky10\n",
    "path_ky_10 = '/mnt/files/workdata/work/merchants/merchant_35_ky_2021-03-12/'\n",
    "df_resolved_ky10 =  pd.read_csv(UtilsKy.KY_10_RESOLVED, dtype=str, keep_default_na=False)\n",
    "df_resolved_ky10.sort_values(by='date', ascending=True, inplace=True)"
   ]
  },
  {
   "cell_type": "code",
   "execution_count": 3,
   "metadata": {},
   "outputs": [
    {
     "data": {
      "text/plain": [
       "(206106, 34)"
      ]
     },
     "execution_count": 3,
     "metadata": {},
     "output_type": "execute_result"
    }
   ],
   "source": [
    "df_resolved_ky10.shape"
   ]
  },
  {
   "cell_type": "code",
   "execution_count": 4,
   "metadata": {},
   "outputs": [
    {
     "data": {
      "text/plain": [
       "\"['amount', 'amount_deviation_usd', 'amount_usd', 'area_code', 'bank_currency', 'bank_name', 'bin', 'card_type', 'city', 'client_hour', 'continent_code', 'count_months_to_end_card', 'country', 'country_code3', 'currency', 'date', 'date_cb_only', 'date_only', 'day_of_week', 'distance_haversine', 'distance_l2', 'distance_sqs_subtraction', 'hour', 'id', 'is_bank_country_equal_country', 'is_city_resolved', 'is_ip_country_equal_country', 'latitude', 'longitude', 'metro_code', 'order_id', 'phone_2_norm', 'region_name', 'status']\""
      ]
     },
     "execution_count": 4,
     "metadata": {},
     "output_type": "execute_result"
    }
   ],
   "source": [
    "str(list(df_resolved_ky10))"
   ]
  },
  {
   "cell_type": "code",
   "execution_count": 5,
   "metadata": {},
   "outputs": [
    {
     "data": {
      "text/html": [
       "<div>\n",
       "<style scoped>\n",
       "    .dataframe tbody tr th:only-of-type {\n",
       "        vertical-align: middle;\n",
       "    }\n",
       "\n",
       "    .dataframe tbody tr th {\n",
       "        vertical-align: top;\n",
       "    }\n",
       "\n",
       "    .dataframe thead th {\n",
       "        text-align: right;\n",
       "    }\n",
       "</style>\n",
       "<table border=\"1\" class=\"dataframe\">\n",
       "  <thead>\n",
       "    <tr style=\"text-align: right;\">\n",
       "      <th></th>\n",
       "      <th>amount</th>\n",
       "      <th>amount_deviation_usd</th>\n",
       "      <th>amount_usd</th>\n",
       "      <th>area_code</th>\n",
       "      <th>bank_currency</th>\n",
       "      <th>bank_name</th>\n",
       "      <th>bin</th>\n",
       "      <th>card_type</th>\n",
       "      <th>city</th>\n",
       "      <th>client_hour</th>\n",
       "      <th>continent_code</th>\n",
       "      <th>count_months_to_end_card</th>\n",
       "      <th>country</th>\n",
       "      <th>country_code3</th>\n",
       "      <th>currency</th>\n",
       "      <th>date</th>\n",
       "      <th>date_cb_only</th>\n",
       "      <th>date_only</th>\n",
       "      <th>day_of_week</th>\n",
       "      <th>distance_haversine</th>\n",
       "      <th>distance_l2</th>\n",
       "      <th>distance_sqs_subtraction</th>\n",
       "      <th>hour</th>\n",
       "      <th>id</th>\n",
       "      <th>is_bank_country_equal_country</th>\n",
       "      <th>is_city_resolved</th>\n",
       "      <th>is_ip_country_equal_country</th>\n",
       "      <th>latitude</th>\n",
       "      <th>longitude</th>\n",
       "      <th>metro_code</th>\n",
       "      <th>order_id</th>\n",
       "      <th>phone_2_norm</th>\n",
       "      <th>region_name</th>\n",
       "      <th>status</th>\n",
       "    </tr>\n",
       "  </thead>\n",
       "  <tbody>\n",
       "    <tr>\n",
       "      <th>0</th>\n",
       "      <td>141.68</td>\n",
       "      <td>0</td>\n",
       "      <td>141.68</td>\n",
       "      <td>860</td>\n",
       "      <td>840</td>\n",
       "      <td>TD BANK, N.A.</td>\n",
       "      <td>448233</td>\n",
       "      <td>VISA card</td>\n",
       "      <td>Vernon Rockville</td>\n",
       "      <td>14</td>\n",
       "      <td>NA</td>\n",
       "      <td>14</td>\n",
       "      <td>USA</td>\n",
       "      <td>USA</td>\n",
       "      <td>USD</td>\n",
       "      <td>2021-02-02 21:10:22</td>\n",
       "      <td>undefined</td>\n",
       "      <td>2021-02-02</td>\n",
       "      <td>2</td>\n",
       "      <td>0.153902149788471</td>\n",
       "      <td>0.403481497683806</td>\n",
       "      <td>4.18798475693855</td>\n",
       "      <td>21</td>\n",
       "      <td>448233******3385_2022-04</td>\n",
       "      <td>1</td>\n",
       "      <td>1</td>\n",
       "      <td>1</td>\n",
       "      <td>41.8365</td>\n",
       "      <td>-72.4632</td>\n",
       "      <td>533</td>\n",
       "      <td>58963204904455627</td>\n",
       "      <td>60</td>\n",
       "      <td>Connecticut</td>\n",
       "      <td>0</td>\n",
       "    </tr>\n",
       "    <tr>\n",
       "      <th>1</th>\n",
       "      <td>26.83</td>\n",
       "      <td>-2</td>\n",
       "      <td>26.83</td>\n",
       "      <td>0</td>\n",
       "      <td>840</td>\n",
       "      <td>NASSAU EDUCATORS F.C.U.</td>\n",
       "      <td>438787</td>\n",
       "      <td>VISA card</td>\n",
       "      <td>undefined</td>\n",
       "      <td>21</td>\n",
       "      <td>NA</td>\n",
       "      <td>45</td>\n",
       "      <td>USA</td>\n",
       "      <td>USA</td>\n",
       "      <td>USD</td>\n",
       "      <td>2021-02-02 21:11:20</td>\n",
       "      <td>undefined</td>\n",
       "      <td>2021-02-02</td>\n",
       "      <td>2</td>\n",
       "      <td>0.0140942632758067</td>\n",
       "      <td>0.033064662702264</td>\n",
       "      <td>7.74357209333864</td>\n",
       "      <td>21</td>\n",
       "      <td>438787******8595_2024-11</td>\n",
       "      <td>1</td>\n",
       "      <td>0</td>\n",
       "      <td>1</td>\n",
       "      <td>38.0000</td>\n",
       "      <td>-97.0000</td>\n",
       "      <td>0</td>\n",
       "      <td>58963219744750136</td>\n",
       "      <td>16</td>\n",
       "      <td>undefined</td>\n",
       "      <td>0</td>\n",
       "    </tr>\n",
       "    <tr>\n",
       "      <th>2</th>\n",
       "      <td>34.77</td>\n",
       "      <td>-2</td>\n",
       "      <td>34.77</td>\n",
       "      <td>0</td>\n",
       "      <td>840</td>\n",
       "      <td>BANK OF AMERICA, N.A.</td>\n",
       "      <td>481582</td>\n",
       "      <td>VISA card</td>\n",
       "      <td>undefined</td>\n",
       "      <td>21</td>\n",
       "      <td>NA</td>\n",
       "      <td>35</td>\n",
       "      <td>USA</td>\n",
       "      <td>USA</td>\n",
       "      <td>USD</td>\n",
       "      <td>2021-02-02 21:14:03</td>\n",
       "      <td>undefined</td>\n",
       "      <td>2021-02-02</td>\n",
       "      <td>2</td>\n",
       "      <td>0.0140942632758067</td>\n",
       "      <td>0.033064662702264</td>\n",
       "      <td>7.74357209333864</td>\n",
       "      <td>21</td>\n",
       "      <td>481582******0912_2024-01</td>\n",
       "      <td>1</td>\n",
       "      <td>0</td>\n",
       "      <td>1</td>\n",
       "      <td>38.0000</td>\n",
       "      <td>-97.0000</td>\n",
       "      <td>0</td>\n",
       "      <td>58963261615776513</td>\n",
       "      <td>14</td>\n",
       "      <td>undefined</td>\n",
       "      <td>0</td>\n",
       "    </tr>\n",
       "    <tr>\n",
       "      <th>3</th>\n",
       "      <td>25.32</td>\n",
       "      <td>-2</td>\n",
       "      <td>25.32</td>\n",
       "      <td>315</td>\n",
       "      <td>840</td>\n",
       "      <td>STAR PROCESSING, INC.</td>\n",
       "      <td>510277</td>\n",
       "      <td>MasterCard</td>\n",
       "      <td>Utica</td>\n",
       "      <td>14</td>\n",
       "      <td>NA</td>\n",
       "      <td>42</td>\n",
       "      <td>USA</td>\n",
       "      <td>USA</td>\n",
       "      <td>USD</td>\n",
       "      <td>2021-02-02 21:14:29</td>\n",
       "      <td>undefined</td>\n",
       "      <td>2021-02-02</td>\n",
       "      <td>2</td>\n",
       "      <td>0.137687043064337</td>\n",
       "      <td>0.360984334840144</td>\n",
       "      <td>4.50621752613016</td>\n",
       "      <td>21</td>\n",
       "      <td>510277******8427_2024-08</td>\n",
       "      <td>1</td>\n",
       "      <td>1</td>\n",
       "      <td>1</td>\n",
       "      <td>43.1548</td>\n",
       "      <td>-75.1426</td>\n",
       "      <td>526</td>\n",
       "      <td>58963268351715157</td>\n",
       "      <td>15</td>\n",
       "      <td>New York</td>\n",
       "      <td>0</td>\n",
       "    </tr>\n",
       "    <tr>\n",
       "      <th>4</th>\n",
       "      <td>19.49</td>\n",
       "      <td>-3</td>\n",
       "      <td>19.49</td>\n",
       "      <td>0</td>\n",
       "      <td>124</td>\n",
       "      <td>TD CANADA TRUST</td>\n",
       "      <td>472409</td>\n",
       "      <td>VISA card</td>\n",
       "      <td>Toronto</td>\n",
       "      <td>14</td>\n",
       "      <td>NA</td>\n",
       "      <td>7</td>\n",
       "      <td>CAN</td>\n",
       "      <td>CAN</td>\n",
       "      <td>CAD</td>\n",
       "      <td>2021-02-02 21:14:31</td>\n",
       "      <td>undefined</td>\n",
       "      <td>2021-02-02</td>\n",
       "      <td>2</td>\n",
       "      <td>0.11229072384529</td>\n",
       "      <td>0.291189508640234</td>\n",
       "      <td>5.05343210691049</td>\n",
       "      <td>21</td>\n",
       "      <td>472409******4012_2021-09</td>\n",
       "      <td>1</td>\n",
       "      <td>1</td>\n",
       "      <td>1</td>\n",
       "      <td>43.6656</td>\n",
       "      <td>-79.3830</td>\n",
       "      <td>0</td>\n",
       "      <td>58963268900246649</td>\n",
       "      <td>05</td>\n",
       "      <td>Ontario</td>\n",
       "      <td>0</td>\n",
       "    </tr>\n",
       "  </tbody>\n",
       "</table>\n",
       "</div>"
      ],
      "text/plain": [
       "   amount amount_deviation_usd amount_usd area_code bank_currency  \\\n",
       "0  141.68                    0     141.68       860           840   \n",
       "1   26.83                   -2      26.83         0           840   \n",
       "2   34.77                   -2      34.77         0           840   \n",
       "3   25.32                   -2      25.32       315           840   \n",
       "4   19.49                   -3      19.49         0           124   \n",
       "\n",
       "                 bank_name     bin   card_type              city client_hour  \\\n",
       "0            TD BANK, N.A.  448233   VISA card  Vernon Rockville          14   \n",
       "1  NASSAU EDUCATORS F.C.U.  438787   VISA card         undefined          21   \n",
       "2    BANK OF AMERICA, N.A.  481582   VISA card         undefined          21   \n",
       "3    STAR PROCESSING, INC.  510277  MasterCard             Utica          14   \n",
       "4          TD CANADA TRUST  472409   VISA card           Toronto          14   \n",
       "\n",
       "  continent_code count_months_to_end_card country country_code3 currency  \\\n",
       "0             NA                       14     USA           USA      USD   \n",
       "1             NA                       45     USA           USA      USD   \n",
       "2             NA                       35     USA           USA      USD   \n",
       "3             NA                       42     USA           USA      USD   \n",
       "4             NA                        7     CAN           CAN      CAD   \n",
       "\n",
       "                  date date_cb_only   date_only day_of_week  \\\n",
       "0  2021-02-02 21:10:22    undefined  2021-02-02           2   \n",
       "1  2021-02-02 21:11:20    undefined  2021-02-02           2   \n",
       "2  2021-02-02 21:14:03    undefined  2021-02-02           2   \n",
       "3  2021-02-02 21:14:29    undefined  2021-02-02           2   \n",
       "4  2021-02-02 21:14:31    undefined  2021-02-02           2   \n",
       "\n",
       "   distance_haversine        distance_l2 distance_sqs_subtraction hour  \\\n",
       "0   0.153902149788471  0.403481497683806         4.18798475693855   21   \n",
       "1  0.0140942632758067  0.033064662702264         7.74357209333864   21   \n",
       "2  0.0140942632758067  0.033064662702264         7.74357209333864   21   \n",
       "3   0.137687043064337  0.360984334840144         4.50621752613016   21   \n",
       "4    0.11229072384529  0.291189508640234         5.05343210691049   21   \n",
       "\n",
       "                         id is_bank_country_equal_country is_city_resolved  \\\n",
       "0  448233******3385_2022-04                             1                1   \n",
       "1  438787******8595_2024-11                             1                0   \n",
       "2  481582******0912_2024-01                             1                0   \n",
       "3  510277******8427_2024-08                             1                1   \n",
       "4  472409******4012_2021-09                             1                1   \n",
       "\n",
       "  is_ip_country_equal_country latitude longitude metro_code  \\\n",
       "0                           1  41.8365  -72.4632        533   \n",
       "1                           1  38.0000  -97.0000          0   \n",
       "2                           1  38.0000  -97.0000          0   \n",
       "3                           1  43.1548  -75.1426        526   \n",
       "4                           1  43.6656  -79.3830          0   \n",
       "\n",
       "            order_id phone_2_norm  region_name status  \n",
       "0  58963204904455627           60  Connecticut      0  \n",
       "1  58963219744750136           16    undefined      0  \n",
       "2  58963261615776513           14    undefined      0  \n",
       "3  58963268351715157           15     New York      0  \n",
       "4  58963268900246649           05      Ontario      0  "
      ]
     },
     "execution_count": 5,
     "metadata": {},
     "output_type": "execute_result"
    }
   ],
   "source": [
    "df_resolved_ky10.head()"
   ]
  },
  {
   "cell_type": "code",
   "execution_count": 6,
   "metadata": {},
   "outputs": [],
   "source": [
    "df_resolved_ky10.drop(columns=['amount_deviation_usd', 'amount_usd', 'date_cb_only', 'is_bank_country_equal_country', 'is_ip_country_equal_country'], inplace=True) "
   ]
  },
  {
   "cell_type": "code",
   "execution_count": 7,
   "metadata": {},
   "outputs": [
    {
     "data": {
      "text/plain": [
       "0    204707\n",
       "1      1399\n",
       "Name: status, dtype: int64"
      ]
     },
     "execution_count": 7,
     "metadata": {},
     "output_type": "execute_result"
    }
   ],
   "source": [
    "df_resolved_ky10.status.value_counts()"
   ]
  },
  {
   "cell_type": "code",
   "execution_count": 8,
   "metadata": {},
   "outputs": [],
   "source": [
    "# ky9\n",
    "db_test_ky9 = pd.read_csv(UtilsKy.DB_TEST_KY9, dtype=str)"
   ]
  },
  {
   "cell_type": "code",
   "execution_count": 9,
   "metadata": {},
   "outputs": [
    {
     "data": {
      "text/plain": [
       "(268457, 14)"
      ]
     },
     "execution_count": 9,
     "metadata": {},
     "output_type": "execute_result"
    }
   ],
   "source": [
    "db_test_ky9.shape"
   ]
  },
  {
   "cell_type": "code",
   "execution_count": 10,
   "metadata": {},
   "outputs": [
    {
     "data": {
      "text/plain": [
       "0    265883\n",
       "1      2574\n",
       "Name: status, dtype: int64"
      ]
     },
     "execution_count": 10,
     "metadata": {},
     "output_type": "execute_result"
    }
   ],
   "source": [
    "db_test_ky9.status.value_counts()"
   ]
  },
  {
   "cell_type": "code",
   "execution_count": 11,
   "metadata": {},
   "outputs": [
    {
     "data": {
      "text/plain": [
       "'2020-03-24'"
      ]
     },
     "execution_count": 11,
     "metadata": {},
     "output_type": "execute_result"
    }
   ],
   "source": [
    "min(db_test_ky9.date_only)"
   ]
  },
  {
   "cell_type": "code",
   "execution_count": 12,
   "metadata": {},
   "outputs": [
    {
     "data": {
      "text/plain": [
       "'2020-04-30'"
      ]
     },
     "execution_count": 12,
     "metadata": {},
     "output_type": "execute_result"
    }
   ],
   "source": [
    "max(db_test_ky9.date_only)"
   ]
  },
  {
   "cell_type": "code",
   "execution_count": 13,
   "metadata": {},
   "outputs": [],
   "source": [
    "# ky9_for_ky10\n",
    "db_ky9_for_ky_10 = pd.read_csv(UtilsKy.KY9_RESOLVED_FOR_KY10, dtype=str)"
   ]
  },
  {
   "cell_type": "code",
   "execution_count": 14,
   "metadata": {},
   "outputs": [],
   "source": [
    "db_ky9_for_ky_10.sort_values(by='date', ascending=True, inplace=True)"
   ]
  },
  {
   "cell_type": "code",
   "execution_count": 15,
   "metadata": {},
   "outputs": [
    {
     "data": {
      "text/plain": [
       "(4312751, 27)"
      ]
     },
     "execution_count": 15,
     "metadata": {},
     "output_type": "execute_result"
    }
   ],
   "source": [
    "db_ky9_for_ky_10.shape"
   ]
  },
  {
   "cell_type": "code",
   "execution_count": 16,
   "metadata": {},
   "outputs": [
    {
     "data": {
      "text/plain": [
       "0    4256210\n",
       "1      56541\n",
       "Name: status, dtype: int64"
      ]
     },
     "execution_count": 16,
     "metadata": {},
     "output_type": "execute_result"
    }
   ],
   "source": [
    "db_ky9_for_ky_10.status.value_counts()"
   ]
  },
  {
   "cell_type": "code",
   "execution_count": 17,
   "metadata": {},
   "outputs": [
    {
     "data": {
      "text/plain": [
       "\"['amount', 'area_code', 'bank_currency', 'bank_name', 'bin', 'card_type', 'city_from_order', 'client_hour', 'continent_code', 'count_months_to_end_card', 'country_code3', 'date', 'day_of_week', 'distance_haversine', 'distance_l2', 'distance_sqs_subtraction', 'hour', 'id', 'is_city_resolved', 'latitude', 'longitude', 'metro_code', 'order_id', 'phone_2_norm', 'region_name', 'status', 'date_only']\""
      ]
     },
     "execution_count": 17,
     "metadata": {},
     "output_type": "execute_result"
    }
   ],
   "source": [
    "str(list(db_ky9_for_ky_10))"
   ]
  },
  {
   "cell_type": "code",
   "execution_count": 18,
   "metadata": {},
   "outputs": [
    {
     "data": {
      "text/html": [
       "<div>\n",
       "<style scoped>\n",
       "    .dataframe tbody tr th:only-of-type {\n",
       "        vertical-align: middle;\n",
       "    }\n",
       "\n",
       "    .dataframe tbody tr th {\n",
       "        vertical-align: top;\n",
       "    }\n",
       "\n",
       "    .dataframe thead th {\n",
       "        text-align: right;\n",
       "    }\n",
       "</style>\n",
       "<table border=\"1\" class=\"dataframe\">\n",
       "  <thead>\n",
       "    <tr style=\"text-align: right;\">\n",
       "      <th></th>\n",
       "      <th>amount</th>\n",
       "      <th>area_code</th>\n",
       "      <th>bank_currency</th>\n",
       "      <th>bank_name</th>\n",
       "      <th>bin</th>\n",
       "      <th>card_type</th>\n",
       "      <th>city_from_order</th>\n",
       "      <th>client_hour</th>\n",
       "      <th>continent_code</th>\n",
       "      <th>count_months_to_end_card</th>\n",
       "      <th>country_code3</th>\n",
       "      <th>date</th>\n",
       "      <th>day_of_week</th>\n",
       "      <th>distance_haversine</th>\n",
       "      <th>distance_l2</th>\n",
       "      <th>distance_sqs_subtraction</th>\n",
       "      <th>hour</th>\n",
       "      <th>id</th>\n",
       "      <th>is_city_resolved</th>\n",
       "      <th>latitude</th>\n",
       "      <th>longitude</th>\n",
       "      <th>metro_code</th>\n",
       "      <th>order_id</th>\n",
       "      <th>phone_2_norm</th>\n",
       "      <th>region_name</th>\n",
       "      <th>status</th>\n",
       "      <th>date_only</th>\n",
       "    </tr>\n",
       "  </thead>\n",
       "  <tbody>\n",
       "    <tr>\n",
       "      <th>0</th>\n",
       "      <td>52.95</td>\n",
       "      <td>0</td>\n",
       "      <td>840</td>\n",
       "      <td>FIRST ENTERTAINMENT C.U.</td>\n",
       "      <td>447494</td>\n",
       "      <td>VISA card</td>\n",
       "      <td>Kuwait</td>\n",
       "      <td>22</td>\n",
       "      <td>AS</td>\n",
       "      <td>3</td>\n",
       "      <td>KWT</td>\n",
       "      <td>2018-12-19 22:33:23</td>\n",
       "      <td>3</td>\n",
       "      <td>0.903780816116717</td>\n",
       "      <td>2.50827107613729</td>\n",
       "      <td>1.82247749170286</td>\n",
       "      <td>22</td>\n",
       "      <td>447494******6650_2019-03</td>\n",
       "      <td>1</td>\n",
       "      <td>29.3697</td>\n",
       "      <td>47.9783</td>\n",
       "      <td>0</td>\n",
       "      <td>41799680781449564</td>\n",
       "      <td>02</td>\n",
       "      <td>Al Kuwayt</td>\n",
       "      <td>0</td>\n",
       "      <td>2018-12-19</td>\n",
       "    </tr>\n",
       "    <tr>\n",
       "      <th>1</th>\n",
       "      <td>21.18</td>\n",
       "      <td>858</td>\n",
       "      <td>840</td>\n",
       "      <td>WELLS FARGO BANK, N.A.</td>\n",
       "      <td>434256</td>\n",
       "      <td>VISA card</td>\n",
       "      <td>San Diego</td>\n",
       "      <td>12</td>\n",
       "      <td>NaN</td>\n",
       "      <td>47</td>\n",
       "      <td>USA</td>\n",
       "      <td>2018-12-19 22:34:08</td>\n",
       "      <td>3</td>\n",
       "      <td>0.162653617900634</td>\n",
       "      <td>0.395384914768628</td>\n",
       "      <td>11.4513446233184</td>\n",
       "      <td>22</td>\n",
       "      <td>434256******3600_2022-11</td>\n",
       "      <td>1</td>\n",
       "      <td>32.8594</td>\n",
       "      <td>-117.2073</td>\n",
       "      <td>825</td>\n",
       "      <td>41799692345652096</td>\n",
       "      <td>23</td>\n",
       "      <td>California</td>\n",
       "      <td>0</td>\n",
       "      <td>2018-12-19</td>\n",
       "    </tr>\n",
       "    <tr>\n",
       "      <th>2</th>\n",
       "      <td>26.48</td>\n",
       "      <td>610</td>\n",
       "      <td>840</td>\n",
       "      <td>NATIONSBANK, N.A.</td>\n",
       "      <td>464733</td>\n",
       "      <td>VISA card</td>\n",
       "      <td>Lansdowne</td>\n",
       "      <td>15</td>\n",
       "      <td>NaN</td>\n",
       "      <td>16</td>\n",
       "      <td>USA</td>\n",
       "      <td>2018-12-19 22:35:07</td>\n",
       "      <td>3</td>\n",
       "      <td>0.135643696824833</td>\n",
       "      <td>0.35200134643158</td>\n",
       "      <td>4.5592096243886</td>\n",
       "      <td>22</td>\n",
       "      <td>464733******3963_2020-04</td>\n",
       "      <td>1</td>\n",
       "      <td>39.9367</td>\n",
       "      <td>-75.2622</td>\n",
       "      <td>504</td>\n",
       "      <td>41799707414784518</td>\n",
       "      <td>67</td>\n",
       "      <td>Pennsylvania</td>\n",
       "      <td>0</td>\n",
       "      <td>2018-12-19</td>\n",
       "    </tr>\n",
       "    <tr>\n",
       "      <th>3</th>\n",
       "      <td>26.48</td>\n",
       "      <td>0</td>\n",
       "      <td>840</td>\n",
       "      <td>GREEN DOT</td>\n",
       "      <td>437303</td>\n",
       "      <td>VISA card</td>\n",
       "      <td>undefined</td>\n",
       "      <td>22</td>\n",
       "      <td>NaN</td>\n",
       "      <td>45</td>\n",
       "      <td>USA</td>\n",
       "      <td>2018-12-19 22:35:43</td>\n",
       "      <td>3</td>\n",
       "      <td>0.0140942632758067</td>\n",
       "      <td>0.033064662702264</td>\n",
       "      <td>7.74357209333864</td>\n",
       "      <td>22</td>\n",
       "      <td>437303******7009_2022-09</td>\n",
       "      <td>0</td>\n",
       "      <td>38.0000</td>\n",
       "      <td>-97.0000</td>\n",
       "      <td>0</td>\n",
       "      <td>41799716768741310</td>\n",
       "      <td>15</td>\n",
       "      <td>undefined</td>\n",
       "      <td>0</td>\n",
       "      <td>2018-12-19</td>\n",
       "    </tr>\n",
       "    <tr>\n",
       "      <th>4</th>\n",
       "      <td>22.24</td>\n",
       "      <td>0</td>\n",
       "      <td>840</td>\n",
       "      <td>undefined</td>\n",
       "      <td>423223</td>\n",
       "      <td>VISA card</td>\n",
       "      <td>undefined</td>\n",
       "      <td>22</td>\n",
       "      <td>NaN</td>\n",
       "      <td>47</td>\n",
       "      <td>USA</td>\n",
       "      <td>2018-12-19 22:37:31</td>\n",
       "      <td>3</td>\n",
       "      <td>0.0140942632758067</td>\n",
       "      <td>0.033064662702264</td>\n",
       "      <td>7.74357209333864</td>\n",
       "      <td>22</td>\n",
       "      <td>423223******9977_2022-11</td>\n",
       "      <td>0</td>\n",
       "      <td>38.0000</td>\n",
       "      <td>-97.0000</td>\n",
       "      <td>0</td>\n",
       "      <td>41799744497264522</td>\n",
       "      <td>86</td>\n",
       "      <td>undefined</td>\n",
       "      <td>0</td>\n",
       "      <td>2018-12-19</td>\n",
       "    </tr>\n",
       "  </tbody>\n",
       "</table>\n",
       "</div>"
      ],
      "text/plain": [
       "  amount area_code bank_currency                 bank_name     bin  card_type  \\\n",
       "0  52.95         0           840  FIRST ENTERTAINMENT C.U.  447494  VISA card   \n",
       "1  21.18       858           840    WELLS FARGO BANK, N.A.  434256  VISA card   \n",
       "2  26.48       610           840         NATIONSBANK, N.A.  464733  VISA card   \n",
       "3  26.48         0           840                 GREEN DOT  437303  VISA card   \n",
       "4  22.24         0           840                 undefined  423223  VISA card   \n",
       "\n",
       "  city_from_order client_hour continent_code count_months_to_end_card  \\\n",
       "0          Kuwait          22             AS                        3   \n",
       "1       San Diego          12            NaN                       47   \n",
       "2       Lansdowne          15            NaN                       16   \n",
       "3       undefined          22            NaN                       45   \n",
       "4       undefined          22            NaN                       47   \n",
       "\n",
       "  country_code3                 date day_of_week  distance_haversine  \\\n",
       "0           KWT  2018-12-19 22:33:23           3   0.903780816116717   \n",
       "1           USA  2018-12-19 22:34:08           3   0.162653617900634   \n",
       "2           USA  2018-12-19 22:35:07           3   0.135643696824833   \n",
       "3           USA  2018-12-19 22:35:43           3  0.0140942632758067   \n",
       "4           USA  2018-12-19 22:37:31           3  0.0140942632758067   \n",
       "\n",
       "         distance_l2 distance_sqs_subtraction hour                        id  \\\n",
       "0   2.50827107613729         1.82247749170286   22  447494******6650_2019-03   \n",
       "1  0.395384914768628         11.4513446233184   22  434256******3600_2022-11   \n",
       "2   0.35200134643158          4.5592096243886   22  464733******3963_2020-04   \n",
       "3  0.033064662702264         7.74357209333864   22  437303******7009_2022-09   \n",
       "4  0.033064662702264         7.74357209333864   22  423223******9977_2022-11   \n",
       "\n",
       "  is_city_resolved latitude  longitude metro_code           order_id  \\\n",
       "0                1  29.3697    47.9783          0  41799680781449564   \n",
       "1                1  32.8594  -117.2073        825  41799692345652096   \n",
       "2                1  39.9367   -75.2622        504  41799707414784518   \n",
       "3                0  38.0000   -97.0000          0  41799716768741310   \n",
       "4                0  38.0000   -97.0000          0  41799744497264522   \n",
       "\n",
       "  phone_2_norm   region_name status   date_only  \n",
       "0           02     Al Kuwayt      0  2018-12-19  \n",
       "1           23    California      0  2018-12-19  \n",
       "2           67  Pennsylvania      0  2018-12-19  \n",
       "3           15     undefined      0  2018-12-19  \n",
       "4           86     undefined      0  2018-12-19  "
      ]
     },
     "execution_count": 18,
     "metadata": {},
     "output_type": "execute_result"
    }
   ],
   "source": [
    "db_ky9_for_ky_10.head()"
   ]
  },
  {
   "cell_type": "code",
   "execution_count": 19,
   "metadata": {},
   "outputs": [
    {
     "data": {
      "text/plain": [
       "4312751"
      ]
     },
     "execution_count": 19,
     "metadata": {},
     "output_type": "execute_result"
    }
   ],
   "source": [
    "len(db_ky9_for_ky_10.order_id.unique())"
   ]
  },
  {
   "cell_type": "code",
   "execution_count": 20,
   "metadata": {},
   "outputs": [],
   "source": [
    "file_ky9_for_resolving = '/mnt/files/workdata/work/merchants/merchant_32_ky9_2020-05-12_white_visa/02_pure_data/ky9_for_resolve.csv'\n",
    "db_ky9_for_resolve = pd.read_csv(file_ky9_for_resolving, dtype=str)"
   ]
  },
  {
   "cell_type": "code",
   "execution_count": 21,
   "metadata": {},
   "outputs": [
    {
     "data": {
      "text/plain": [
       "(4312751, 24)"
      ]
     },
     "execution_count": 21,
     "metadata": {},
     "output_type": "execute_result"
    }
   ],
   "source": [
    "db_ky9_for_resolve.shape"
   ]
  },
  {
   "cell_type": "code",
   "execution_count": 22,
   "metadata": {},
   "outputs": [
    {
     "data": {
      "text/plain": [
       "\"['order_id', 'type', 'status', 'date', 'processed', 'amount', 'currency', 'card_holder', 'email', 'phone', 'address', 'city_from_order', 'country', 'zip', 'ip', 'project_id', 'reported', 'status_chargeback', 'date_cb_only', 'card_masked', 'card_expire', 'amount_in_currency', 'date_only', 'id']\""
      ]
     },
     "execution_count": 22,
     "metadata": {},
     "output_type": "execute_result"
    }
   ],
   "source": [
    "str(list(db_ky9_for_resolve))"
   ]
  },
  {
   "cell_type": "code",
   "execution_count": 23,
   "metadata": {},
   "outputs": [],
   "source": [
    "cols_db_ky9_for_resolve = ['country', 'currency']"
   ]
  },
  {
   "cell_type": "code",
   "execution_count": 24,
   "metadata": {},
   "outputs": [],
   "source": [
    "db_ky9_for_ky_10[cols_db_ky9_for_resolve] = db_ky9_for_resolve[cols_db_ky9_for_resolve]"
   ]
  },
  {
   "cell_type": "code",
   "execution_count": 25,
   "metadata": {},
   "outputs": [],
   "source": [
    "db_ky9_for_ky_10.rename(columns={'city_from_order':'city'}, inplace=True)"
   ]
  },
  {
   "cell_type": "code",
   "execution_count": 26,
   "metadata": {},
   "outputs": [
    {
     "data": {
      "text/plain": [
       "set()"
      ]
     },
     "execution_count": 26,
     "metadata": {},
     "output_type": "execute_result"
    }
   ],
   "source": [
    "set(list(db_ky9_for_ky_10))  - set(list(df_resolved_ky10))"
   ]
  },
  {
   "cell_type": "code",
   "execution_count": 27,
   "metadata": {},
   "outputs": [
    {
     "data": {
      "text/plain": [
       "set()"
      ]
     },
     "execution_count": 27,
     "metadata": {},
     "output_type": "execute_result"
    }
   ],
   "source": [
    "set(list(df_resolved_ky10)) - set(list(db_ky9_for_ky_10)) "
   ]
  },
  {
   "cell_type": "code",
   "execution_count": 28,
   "metadata": {},
   "outputs": [],
   "source": [
    "db_ky10_ky9_conc = pd.concat([db_ky9_for_ky_10, df_resolved_ky10])"
   ]
  },
  {
   "cell_type": "code",
   "execution_count": 29,
   "metadata": {},
   "outputs": [
    {
     "data": {
      "text/plain": [
       "(4518857, 29)"
      ]
     },
     "execution_count": 29,
     "metadata": {},
     "output_type": "execute_result"
    }
   ],
   "source": [
    "db_ky10_ky9_conc.shape"
   ]
  },
  {
   "cell_type": "code",
   "execution_count": 30,
   "metadata": {},
   "outputs": [
    {
     "data": {
      "text/plain": [
       "0    4460917\n",
       "1      57940\n",
       "Name: status, dtype: int64"
      ]
     },
     "execution_count": 30,
     "metadata": {},
     "output_type": "execute_result"
    }
   ],
   "source": [
    "db_ky10_ky9_conc.status.value_counts()"
   ]
  },
  {
   "cell_type": "code",
   "execution_count": 31,
   "metadata": {},
   "outputs": [
    {
     "data": {
      "text/html": [
       "<div>\n",
       "<style scoped>\n",
       "    .dataframe tbody tr th:only-of-type {\n",
       "        vertical-align: middle;\n",
       "    }\n",
       "\n",
       "    .dataframe tbody tr th {\n",
       "        vertical-align: top;\n",
       "    }\n",
       "\n",
       "    .dataframe thead th {\n",
       "        text-align: right;\n",
       "    }\n",
       "</style>\n",
       "<table border=\"1\" class=\"dataframe\">\n",
       "  <thead>\n",
       "    <tr style=\"text-align: right;\">\n",
       "      <th></th>\n",
       "      <th>amount</th>\n",
       "      <th>area_code</th>\n",
       "      <th>bank_currency</th>\n",
       "      <th>bank_name</th>\n",
       "      <th>bin</th>\n",
       "      <th>card_type</th>\n",
       "      <th>city</th>\n",
       "      <th>client_hour</th>\n",
       "      <th>continent_code</th>\n",
       "      <th>count_months_to_end_card</th>\n",
       "      <th>country_code3</th>\n",
       "      <th>date</th>\n",
       "      <th>day_of_week</th>\n",
       "      <th>distance_haversine</th>\n",
       "      <th>distance_l2</th>\n",
       "      <th>distance_sqs_subtraction</th>\n",
       "      <th>hour</th>\n",
       "      <th>id</th>\n",
       "      <th>is_city_resolved</th>\n",
       "      <th>latitude</th>\n",
       "      <th>longitude</th>\n",
       "      <th>metro_code</th>\n",
       "      <th>order_id</th>\n",
       "      <th>phone_2_norm</th>\n",
       "      <th>region_name</th>\n",
       "      <th>status</th>\n",
       "      <th>date_only</th>\n",
       "      <th>country</th>\n",
       "      <th>currency</th>\n",
       "    </tr>\n",
       "  </thead>\n",
       "  <tbody>\n",
       "    <tr>\n",
       "      <th>0</th>\n",
       "      <td>52.95</td>\n",
       "      <td>0</td>\n",
       "      <td>840</td>\n",
       "      <td>FIRST ENTERTAINMENT C.U.</td>\n",
       "      <td>447494</td>\n",
       "      <td>VISA card</td>\n",
       "      <td>Kuwait</td>\n",
       "      <td>22</td>\n",
       "      <td>AS</td>\n",
       "      <td>3</td>\n",
       "      <td>KWT</td>\n",
       "      <td>2018-12-19 22:33:23</td>\n",
       "      <td>3</td>\n",
       "      <td>0.903780816116717</td>\n",
       "      <td>2.50827107613729</td>\n",
       "      <td>1.82247749170286</td>\n",
       "      <td>22</td>\n",
       "      <td>447494******6650_2019-03</td>\n",
       "      <td>1</td>\n",
       "      <td>29.3697</td>\n",
       "      <td>47.9783</td>\n",
       "      <td>0</td>\n",
       "      <td>41799680781449564</td>\n",
       "      <td>02</td>\n",
       "      <td>Al Kuwayt</td>\n",
       "      <td>0</td>\n",
       "      <td>2018-12-19</td>\n",
       "      <td>USA</td>\n",
       "      <td>USD</td>\n",
       "    </tr>\n",
       "    <tr>\n",
       "      <th>1</th>\n",
       "      <td>21.18</td>\n",
       "      <td>858</td>\n",
       "      <td>840</td>\n",
       "      <td>WELLS FARGO BANK, N.A.</td>\n",
       "      <td>434256</td>\n",
       "      <td>VISA card</td>\n",
       "      <td>San Diego</td>\n",
       "      <td>12</td>\n",
       "      <td>NaN</td>\n",
       "      <td>47</td>\n",
       "      <td>USA</td>\n",
       "      <td>2018-12-19 22:34:08</td>\n",
       "      <td>3</td>\n",
       "      <td>0.162653617900634</td>\n",
       "      <td>0.395384914768628</td>\n",
       "      <td>11.4513446233184</td>\n",
       "      <td>22</td>\n",
       "      <td>434256******3600_2022-11</td>\n",
       "      <td>1</td>\n",
       "      <td>32.8594</td>\n",
       "      <td>-117.2073</td>\n",
       "      <td>825</td>\n",
       "      <td>41799692345652096</td>\n",
       "      <td>23</td>\n",
       "      <td>California</td>\n",
       "      <td>0</td>\n",
       "      <td>2018-12-19</td>\n",
       "      <td>USA</td>\n",
       "      <td>USD</td>\n",
       "    </tr>\n",
       "    <tr>\n",
       "      <th>2</th>\n",
       "      <td>26.48</td>\n",
       "      <td>610</td>\n",
       "      <td>840</td>\n",
       "      <td>NATIONSBANK, N.A.</td>\n",
       "      <td>464733</td>\n",
       "      <td>VISA card</td>\n",
       "      <td>Lansdowne</td>\n",
       "      <td>15</td>\n",
       "      <td>NaN</td>\n",
       "      <td>16</td>\n",
       "      <td>USA</td>\n",
       "      <td>2018-12-19 22:35:07</td>\n",
       "      <td>3</td>\n",
       "      <td>0.135643696824833</td>\n",
       "      <td>0.35200134643158</td>\n",
       "      <td>4.5592096243886</td>\n",
       "      <td>22</td>\n",
       "      <td>464733******3963_2020-04</td>\n",
       "      <td>1</td>\n",
       "      <td>39.9367</td>\n",
       "      <td>-75.2622</td>\n",
       "      <td>504</td>\n",
       "      <td>41799707414784518</td>\n",
       "      <td>67</td>\n",
       "      <td>Pennsylvania</td>\n",
       "      <td>0</td>\n",
       "      <td>2018-12-19</td>\n",
       "      <td>USA</td>\n",
       "      <td>USD</td>\n",
       "    </tr>\n",
       "    <tr>\n",
       "      <th>3</th>\n",
       "      <td>26.48</td>\n",
       "      <td>0</td>\n",
       "      <td>840</td>\n",
       "      <td>GREEN DOT</td>\n",
       "      <td>437303</td>\n",
       "      <td>VISA card</td>\n",
       "      <td>undefined</td>\n",
       "      <td>22</td>\n",
       "      <td>NaN</td>\n",
       "      <td>45</td>\n",
       "      <td>USA</td>\n",
       "      <td>2018-12-19 22:35:43</td>\n",
       "      <td>3</td>\n",
       "      <td>0.0140942632758067</td>\n",
       "      <td>0.033064662702264</td>\n",
       "      <td>7.74357209333864</td>\n",
       "      <td>22</td>\n",
       "      <td>437303******7009_2022-09</td>\n",
       "      <td>0</td>\n",
       "      <td>38.0000</td>\n",
       "      <td>-97.0000</td>\n",
       "      <td>0</td>\n",
       "      <td>41799716768741310</td>\n",
       "      <td>15</td>\n",
       "      <td>undefined</td>\n",
       "      <td>0</td>\n",
       "      <td>2018-12-19</td>\n",
       "      <td>USA</td>\n",
       "      <td>USD</td>\n",
       "    </tr>\n",
       "    <tr>\n",
       "      <th>4</th>\n",
       "      <td>22.24</td>\n",
       "      <td>0</td>\n",
       "      <td>840</td>\n",
       "      <td>undefined</td>\n",
       "      <td>423223</td>\n",
       "      <td>VISA card</td>\n",
       "      <td>undefined</td>\n",
       "      <td>22</td>\n",
       "      <td>NaN</td>\n",
       "      <td>47</td>\n",
       "      <td>USA</td>\n",
       "      <td>2018-12-19 22:37:31</td>\n",
       "      <td>3</td>\n",
       "      <td>0.0140942632758067</td>\n",
       "      <td>0.033064662702264</td>\n",
       "      <td>7.74357209333864</td>\n",
       "      <td>22</td>\n",
       "      <td>423223******9977_2022-11</td>\n",
       "      <td>0</td>\n",
       "      <td>38.0000</td>\n",
       "      <td>-97.0000</td>\n",
       "      <td>0</td>\n",
       "      <td>41799744497264522</td>\n",
       "      <td>86</td>\n",
       "      <td>undefined</td>\n",
       "      <td>0</td>\n",
       "      <td>2018-12-19</td>\n",
       "      <td>USA</td>\n",
       "      <td>USD</td>\n",
       "    </tr>\n",
       "    <tr>\n",
       "      <th>...</th>\n",
       "      <td>...</td>\n",
       "      <td>...</td>\n",
       "      <td>...</td>\n",
       "      <td>...</td>\n",
       "      <td>...</td>\n",
       "      <td>...</td>\n",
       "      <td>...</td>\n",
       "      <td>...</td>\n",
       "      <td>...</td>\n",
       "      <td>...</td>\n",
       "      <td>...</td>\n",
       "      <td>...</td>\n",
       "      <td>...</td>\n",
       "      <td>...</td>\n",
       "      <td>...</td>\n",
       "      <td>...</td>\n",
       "      <td>...</td>\n",
       "      <td>...</td>\n",
       "      <td>...</td>\n",
       "      <td>...</td>\n",
       "      <td>...</td>\n",
       "      <td>...</td>\n",
       "      <td>...</td>\n",
       "      <td>...</td>\n",
       "      <td>...</td>\n",
       "      <td>...</td>\n",
       "      <td>...</td>\n",
       "      <td>...</td>\n",
       "      <td>...</td>\n",
       "    </tr>\n",
       "    <tr>\n",
       "      <th>165912</th>\n",
       "      <td>54.85</td>\n",
       "      <td>651</td>\n",
       "      <td>840</td>\n",
       "      <td>CAPITAL ONE BANK (USA), N.A.</td>\n",
       "      <td>517805</td>\n",
       "      <td>MasterCard</td>\n",
       "      <td>Stillwater</td>\n",
       "      <td>06</td>\n",
       "      <td>NA</td>\n",
       "      <td>28</td>\n",
       "      <td>USA</td>\n",
       "      <td>2021-03-13 14:38:49</td>\n",
       "      <td>6</td>\n",
       "      <td>0.0552118621498109</td>\n",
       "      <td>0.114430582559431</td>\n",
       "      <td>6.99468512204249</td>\n",
       "      <td>14</td>\n",
       "      <td>517805******4638_2023-07</td>\n",
       "      <td>1</td>\n",
       "      <td>45.0648</td>\n",
       "      <td>-92.8473</td>\n",
       "      <td>613</td>\n",
       "      <td>59819808281420971</td>\n",
       "      <td>51</td>\n",
       "      <td>Minnesota</td>\n",
       "      <td>0</td>\n",
       "      <td>2021-03-13</td>\n",
       "      <td>USA</td>\n",
       "      <td>USD</td>\n",
       "    </tr>\n",
       "    <tr>\n",
       "      <th>82668</th>\n",
       "      <td>25.34</td>\n",
       "      <td>818</td>\n",
       "      <td>840</td>\n",
       "      <td>UNION BANK, N.A.</td>\n",
       "      <td>540997</td>\n",
       "      <td>MasterCard</td>\n",
       "      <td>Northridge</td>\n",
       "      <td>04</td>\n",
       "      <td>NA</td>\n",
       "      <td>28</td>\n",
       "      <td>USA</td>\n",
       "      <td>2021-03-13 14:39:08</td>\n",
       "      <td>6</td>\n",
       "      <td>0.166839548711623</td>\n",
       "      <td>0.41243202264229</td>\n",
       "      <td>11.7057013365521</td>\n",
       "      <td>14</td>\n",
       "      <td>540997******5234_2023-07</td>\n",
       "      <td>1</td>\n",
       "      <td>34.2417</td>\n",
       "      <td>-118.5504</td>\n",
       "      <td>803</td>\n",
       "      <td>59819812872916680</td>\n",
       "      <td>51</td>\n",
       "      <td>California</td>\n",
       "      <td>0</td>\n",
       "      <td>2021-03-13</td>\n",
       "      <td>USA</td>\n",
       "      <td>USD</td>\n",
       "    </tr>\n",
       "    <tr>\n",
       "      <th>187799</th>\n",
       "      <td>97.46</td>\n",
       "      <td>0</td>\n",
       "      <td>840</td>\n",
       "      <td>WELLS FARGO BANK, N.A.</td>\n",
       "      <td>558668</td>\n",
       "      <td>MasterCard</td>\n",
       "      <td>undefined</td>\n",
       "      <td>14</td>\n",
       "      <td>NA</td>\n",
       "      <td>4</td>\n",
       "      <td>USA</td>\n",
       "      <td>2021-03-13 14:39:56</td>\n",
       "      <td>6</td>\n",
       "      <td>0.0140942632758067</td>\n",
       "      <td>0.033064662702264</td>\n",
       "      <td>7.74357209333864</td>\n",
       "      <td>14</td>\n",
       "      <td>558668******5264_2021-07</td>\n",
       "      <td>0</td>\n",
       "      <td>38.0000</td>\n",
       "      <td>-97.0000</td>\n",
       "      <td>0</td>\n",
       "      <td>59819825434352421</td>\n",
       "      <td>08</td>\n",
       "      <td>undefined</td>\n",
       "      <td>0</td>\n",
       "      <td>2021-03-13</td>\n",
       "      <td>USA</td>\n",
       "      <td>USD</td>\n",
       "    </tr>\n",
       "    <tr>\n",
       "      <th>82669</th>\n",
       "      <td>21.48</td>\n",
       "      <td>479</td>\n",
       "      <td>840</td>\n",
       "      <td>JPMORGAN CHASE BANK, N.A.</td>\n",
       "      <td>514377</td>\n",
       "      <td>MasterCard</td>\n",
       "      <td>Fayetteville</td>\n",
       "      <td>06</td>\n",
       "      <td>NA</td>\n",
       "      <td>34</td>\n",
       "      <td>USA</td>\n",
       "      <td>2021-03-13 14:40:05</td>\n",
       "      <td>6</td>\n",
       "      <td>0.0267458853923512</td>\n",
       "      <td>0.0548513520816146</td>\n",
       "      <td>7.32239074962768</td>\n",
       "      <td>14</td>\n",
       "      <td>514377******6213_2024-01</td>\n",
       "      <td>1</td>\n",
       "      <td>36.1013</td>\n",
       "      <td>-94.2700</td>\n",
       "      <td>670</td>\n",
       "      <td>59819827278472307</td>\n",
       "      <td>79</td>\n",
       "      <td>Arkansas</td>\n",
       "      <td>0</td>\n",
       "      <td>2021-03-13</td>\n",
       "      <td>USA</td>\n",
       "      <td>USD</td>\n",
       "    </tr>\n",
       "    <tr>\n",
       "      <th>150229</th>\n",
       "      <td>19.46</td>\n",
       "      <td>0</td>\n",
       "      <td>124</td>\n",
       "      <td>BANK OF NOVA SCOTIA</td>\n",
       "      <td>453600</td>\n",
       "      <td>VISA card</td>\n",
       "      <td>Stoney Creek</td>\n",
       "      <td>07</td>\n",
       "      <td>NA</td>\n",
       "      <td>48</td>\n",
       "      <td>CAN</td>\n",
       "      <td>2021-03-13 14:40:07</td>\n",
       "      <td>6</td>\n",
       "      <td>0.10936615072316</td>\n",
       "      <td>0.283816315675378</td>\n",
       "      <td>5.10128534888497</td>\n",
       "      <td>14</td>\n",
       "      <td>453600******5304_2025-03</td>\n",
       "      <td>1</td>\n",
       "      <td>43.2245</td>\n",
       "      <td>-79.6988</td>\n",
       "      <td>0</td>\n",
       "      <td>59819827963434448</td>\n",
       "      <td>05</td>\n",
       "      <td>Ontario</td>\n",
       "      <td>0</td>\n",
       "      <td>2021-03-13</td>\n",
       "      <td>CAN</td>\n",
       "      <td>CAD</td>\n",
       "    </tr>\n",
       "  </tbody>\n",
       "</table>\n",
       "<p>4518857 rows × 29 columns</p>\n",
       "</div>"
      ],
      "text/plain": [
       "       amount area_code bank_currency                     bank_name     bin  \\\n",
       "0       52.95         0           840      FIRST ENTERTAINMENT C.U.  447494   \n",
       "1       21.18       858           840        WELLS FARGO BANK, N.A.  434256   \n",
       "2       26.48       610           840             NATIONSBANK, N.A.  464733   \n",
       "3       26.48         0           840                     GREEN DOT  437303   \n",
       "4       22.24         0           840                     undefined  423223   \n",
       "...       ...       ...           ...                           ...     ...   \n",
       "165912  54.85       651           840  CAPITAL ONE BANK (USA), N.A.  517805   \n",
       "82668   25.34       818           840              UNION BANK, N.A.  540997   \n",
       "187799  97.46         0           840        WELLS FARGO BANK, N.A.  558668   \n",
       "82669   21.48       479           840     JPMORGAN CHASE BANK, N.A.  514377   \n",
       "150229  19.46         0           124           BANK OF NOVA SCOTIA  453600   \n",
       "\n",
       "         card_type          city client_hour continent_code  \\\n",
       "0        VISA card        Kuwait          22             AS   \n",
       "1        VISA card     San Diego          12            NaN   \n",
       "2        VISA card     Lansdowne          15            NaN   \n",
       "3        VISA card     undefined          22            NaN   \n",
       "4        VISA card     undefined          22            NaN   \n",
       "...            ...           ...         ...            ...   \n",
       "165912  MasterCard    Stillwater          06             NA   \n",
       "82668   MasterCard    Northridge          04             NA   \n",
       "187799  MasterCard     undefined          14             NA   \n",
       "82669   MasterCard  Fayetteville          06             NA   \n",
       "150229   VISA card  Stoney Creek          07             NA   \n",
       "\n",
       "       count_months_to_end_card country_code3                 date  \\\n",
       "0                             3           KWT  2018-12-19 22:33:23   \n",
       "1                            47           USA  2018-12-19 22:34:08   \n",
       "2                            16           USA  2018-12-19 22:35:07   \n",
       "3                            45           USA  2018-12-19 22:35:43   \n",
       "4                            47           USA  2018-12-19 22:37:31   \n",
       "...                         ...           ...                  ...   \n",
       "165912                       28           USA  2021-03-13 14:38:49   \n",
       "82668                        28           USA  2021-03-13 14:39:08   \n",
       "187799                        4           USA  2021-03-13 14:39:56   \n",
       "82669                        34           USA  2021-03-13 14:40:05   \n",
       "150229                       48           CAN  2021-03-13 14:40:07   \n",
       "\n",
       "       day_of_week  distance_haversine         distance_l2  \\\n",
       "0                3   0.903780816116717    2.50827107613729   \n",
       "1                3   0.162653617900634   0.395384914768628   \n",
       "2                3   0.135643696824833    0.35200134643158   \n",
       "3                3  0.0140942632758067   0.033064662702264   \n",
       "4                3  0.0140942632758067   0.033064662702264   \n",
       "...            ...                 ...                 ...   \n",
       "165912           6  0.0552118621498109   0.114430582559431   \n",
       "82668            6   0.166839548711623    0.41243202264229   \n",
       "187799           6  0.0140942632758067   0.033064662702264   \n",
       "82669            6  0.0267458853923512  0.0548513520816146   \n",
       "150229           6    0.10936615072316   0.283816315675378   \n",
       "\n",
       "       distance_sqs_subtraction hour                        id  \\\n",
       "0              1.82247749170286   22  447494******6650_2019-03   \n",
       "1              11.4513446233184   22  434256******3600_2022-11   \n",
       "2               4.5592096243886   22  464733******3963_2020-04   \n",
       "3              7.74357209333864   22  437303******7009_2022-09   \n",
       "4              7.74357209333864   22  423223******9977_2022-11   \n",
       "...                         ...  ...                       ...   \n",
       "165912         6.99468512204249   14  517805******4638_2023-07   \n",
       "82668          11.7057013365521   14  540997******5234_2023-07   \n",
       "187799         7.74357209333864   14  558668******5264_2021-07   \n",
       "82669          7.32239074962768   14  514377******6213_2024-01   \n",
       "150229         5.10128534888497   14  453600******5304_2025-03   \n",
       "\n",
       "       is_city_resolved latitude  longitude metro_code           order_id  \\\n",
       "0                     1  29.3697    47.9783          0  41799680781449564   \n",
       "1                     1  32.8594  -117.2073        825  41799692345652096   \n",
       "2                     1  39.9367   -75.2622        504  41799707414784518   \n",
       "3                     0  38.0000   -97.0000          0  41799716768741310   \n",
       "4                     0  38.0000   -97.0000          0  41799744497264522   \n",
       "...                 ...      ...        ...        ...                ...   \n",
       "165912                1  45.0648   -92.8473        613  59819808281420971   \n",
       "82668                 1  34.2417  -118.5504        803  59819812872916680   \n",
       "187799                0  38.0000   -97.0000          0  59819825434352421   \n",
       "82669                 1  36.1013   -94.2700        670  59819827278472307   \n",
       "150229                1  43.2245   -79.6988          0  59819827963434448   \n",
       "\n",
       "       phone_2_norm   region_name status   date_only country currency  \n",
       "0                02     Al Kuwayt      0  2018-12-19     USA      USD  \n",
       "1                23    California      0  2018-12-19     USA      USD  \n",
       "2                67  Pennsylvania      0  2018-12-19     USA      USD  \n",
       "3                15     undefined      0  2018-12-19     USA      USD  \n",
       "4                86     undefined      0  2018-12-19     USA      USD  \n",
       "...             ...           ...    ...         ...     ...      ...  \n",
       "165912           51     Minnesota      0  2021-03-13     USA      USD  \n",
       "82668            51    California      0  2021-03-13     USA      USD  \n",
       "187799           08     undefined      0  2021-03-13     USA      USD  \n",
       "82669            79      Arkansas      0  2021-03-13     USA      USD  \n",
       "150229           05       Ontario      0  2021-03-13     CAN      CAD  \n",
       "\n",
       "[4518857 rows x 29 columns]"
      ]
     },
     "execution_count": 31,
     "metadata": {},
     "output_type": "execute_result"
    }
   ],
   "source": [
    "db_ky10_ky9_conc"
   ]
  },
  {
   "cell_type": "code",
   "execution_count": 32,
   "metadata": {},
   "outputs": [],
   "source": [
    "mask = (db_ky10_ky9_conc.date_only >= min(db_test_ky9.date_only)) & (db_ky10_ky9_conc.date_only <= max(db_test_ky9.date_only))\n",
    "test_ky9_all_ky10 = db_ky10_ky9_conc[mask]"
   ]
  },
  {
   "cell_type": "code",
   "execution_count": 33,
   "metadata": {},
   "outputs": [
    {
     "data": {
      "text/plain": [
       "(315694, 29)"
      ]
     },
     "execution_count": 33,
     "metadata": {},
     "output_type": "execute_result"
    }
   ],
   "source": [
    "test_ky9_all_ky10.shape"
   ]
  },
  {
   "cell_type": "code",
   "execution_count": 34,
   "metadata": {},
   "outputs": [
    {
     "data": {
      "text/plain": [
       "0    313120\n",
       "1      2574\n",
       "Name: status, dtype: int64"
      ]
     },
     "execution_count": 34,
     "metadata": {},
     "output_type": "execute_result"
    }
   ],
   "source": [
    "test_ky9_all_ky10.status.value_counts()"
   ]
  },
  {
   "cell_type": "code",
   "execution_count": 111,
   "metadata": {},
   "outputs": [],
   "source": [
    "# test_ky9_all_ky10.to_csv(path_ky_10 + '02_pure_data/data_ky10_with_ky9/test_ky9_all_ky10.csv', index=False, quoting=csv.QUOTE_ALL)"
   ]
  },
  {
   "cell_type": "code",
   "execution_count": 35,
   "metadata": {},
   "outputs": [],
   "source": [
    "ky9_fraud = db_ky9_for_ky_10[db_ky9_for_ky_10.status == '1']"
   ]
  },
  {
   "cell_type": "code",
   "execution_count": 36,
   "metadata": {},
   "outputs": [
    {
     "data": {
      "text/plain": [
       "(56541, 29)"
      ]
     },
     "execution_count": 36,
     "metadata": {},
     "output_type": "execute_result"
    }
   ],
   "source": [
    "ky9_fraud.shape"
   ]
  },
  {
   "cell_type": "code",
   "execution_count": 37,
   "metadata": {},
   "outputs": [
    {
     "data": {
      "text/plain": [
       "1    56541\n",
       "Name: status, dtype: int64"
      ]
     },
     "execution_count": 37,
     "metadata": {},
     "output_type": "execute_result"
    }
   ],
   "source": [
    "ky9_fraud.status.value_counts()"
   ]
  },
  {
   "cell_type": "code",
   "execution_count": 38,
   "metadata": {},
   "outputs": [
    {
     "data": {
      "text/html": [
       "<div>\n",
       "<style scoped>\n",
       "    .dataframe tbody tr th:only-of-type {\n",
       "        vertical-align: middle;\n",
       "    }\n",
       "\n",
       "    .dataframe tbody tr th {\n",
       "        vertical-align: top;\n",
       "    }\n",
       "\n",
       "    .dataframe thead th {\n",
       "        text-align: right;\n",
       "    }\n",
       "</style>\n",
       "<table border=\"1\" class=\"dataframe\">\n",
       "  <thead>\n",
       "    <tr style=\"text-align: right;\">\n",
       "      <th></th>\n",
       "      <th>amount</th>\n",
       "      <th>area_code</th>\n",
       "      <th>bank_currency</th>\n",
       "      <th>bank_name</th>\n",
       "      <th>bin</th>\n",
       "      <th>card_type</th>\n",
       "      <th>city</th>\n",
       "      <th>client_hour</th>\n",
       "      <th>continent_code</th>\n",
       "      <th>count_months_to_end_card</th>\n",
       "      <th>country_code3</th>\n",
       "      <th>date</th>\n",
       "      <th>day_of_week</th>\n",
       "      <th>distance_haversine</th>\n",
       "      <th>distance_l2</th>\n",
       "      <th>distance_sqs_subtraction</th>\n",
       "      <th>hour</th>\n",
       "      <th>id</th>\n",
       "      <th>is_city_resolved</th>\n",
       "      <th>latitude</th>\n",
       "      <th>longitude</th>\n",
       "      <th>metro_code</th>\n",
       "      <th>order_id</th>\n",
       "      <th>phone_2_norm</th>\n",
       "      <th>region_name</th>\n",
       "      <th>status</th>\n",
       "      <th>date_only</th>\n",
       "      <th>country</th>\n",
       "      <th>currency</th>\n",
       "    </tr>\n",
       "  </thead>\n",
       "  <tbody>\n",
       "    <tr>\n",
       "      <th>354</th>\n",
       "      <td>264.75</td>\n",
       "      <td>215</td>\n",
       "      <td>840</td>\n",
       "      <td>USAA SAVINGS BANK</td>\n",
       "      <td>427082</td>\n",
       "      <td>VISA card</td>\n",
       "      <td>Philadelphia</td>\n",
       "      <td>21</td>\n",
       "      <td>NaN</td>\n",
       "      <td>51</td>\n",
       "      <td>USA</td>\n",
       "      <td>2018-12-20 04:58:57</td>\n",
       "      <td>4</td>\n",
       "      <td>0.136331429293758</td>\n",
       "      <td>0.353826231042557</td>\n",
       "      <td>4.54582953274766</td>\n",
       "      <td>04</td>\n",
       "      <td>427082******7013_2023-03</td>\n",
       "      <td>1</td>\n",
       "      <td>39.9514</td>\n",
       "      <td>-75.1582</td>\n",
       "      <td>504</td>\n",
       "      <td>41805603255639195</td>\n",
       "      <td>67</td>\n",
       "      <td>Pennsylvania</td>\n",
       "      <td>1</td>\n",
       "      <td>2018-12-20</td>\n",
       "      <td>USA</td>\n",
       "      <td>USD</td>\n",
       "    </tr>\n",
       "    <tr>\n",
       "      <th>425</th>\n",
       "      <td>105.90</td>\n",
       "      <td>630</td>\n",
       "      <td>840</td>\n",
       "      <td>CHASE BANK USA, N.A.</td>\n",
       "      <td>414720</td>\n",
       "      <td>VISA card</td>\n",
       "      <td>Roselle</td>\n",
       "      <td>22</td>\n",
       "      <td>NaN</td>\n",
       "      <td>11</td>\n",
       "      <td>USA</td>\n",
       "      <td>2018-12-20 06:17:48</td>\n",
       "      <td>4</td>\n",
       "      <td>0.05494352116258</td>\n",
       "      <td>0.137745627175871</td>\n",
       "      <td>6.30548964829209</td>\n",
       "      <td>06</td>\n",
       "      <td>414720******4963_2019-11</td>\n",
       "      <td>1</td>\n",
       "      <td>41.9792</td>\n",
       "      <td>-88.0895</td>\n",
       "      <td>602</td>\n",
       "      <td>41806814377312217</td>\n",
       "      <td>08</td>\n",
       "      <td>Illinois</td>\n",
       "      <td>1</td>\n",
       "      <td>2018-12-20</td>\n",
       "      <td>USA</td>\n",
       "      <td>USD</td>\n",
       "    </tr>\n",
       "    <tr>\n",
       "      <th>489</th>\n",
       "      <td>76.96</td>\n",
       "      <td>0</td>\n",
       "      <td>76</td>\n",
       "      <td>BANCO DO BRASIL, S.A.</td>\n",
       "      <td>498442</td>\n",
       "      <td>VISA card</td>\n",
       "      <td>undefined</td>\n",
       "      <td>19</td>\n",
       "      <td>SA</td>\n",
       "      <td>34</td>\n",
       "      <td>BRA</td>\n",
       "      <td>2018-12-20 19:12:31</td>\n",
       "      <td>4</td>\n",
       "      <td>0.675654465393614</td>\n",
       "      <td>1.38475033551366</td>\n",
       "      <td>1.75873438065076</td>\n",
       "      <td>19</td>\n",
       "      <td>498442******6675_2021-10</td>\n",
       "      <td>0</td>\n",
       "      <td>-23.5477</td>\n",
       "      <td>-46.6358</td>\n",
       "      <td>0</td>\n",
       "      <td>41818714021471339</td>\n",
       "      <td>49</td>\n",
       "      <td>undefined</td>\n",
       "      <td>1</td>\n",
       "      <td>2018-12-20</td>\n",
       "      <td>BRA</td>\n",
       "      <td>USD</td>\n",
       "    </tr>\n",
       "  </tbody>\n",
       "</table>\n",
       "</div>"
      ],
      "text/plain": [
       "     amount area_code bank_currency              bank_name     bin  card_type  \\\n",
       "354  264.75       215           840      USAA SAVINGS BANK  427082  VISA card   \n",
       "425  105.90       630           840   CHASE BANK USA, N.A.  414720  VISA card   \n",
       "489   76.96         0            76  BANCO DO BRASIL, S.A.  498442  VISA card   \n",
       "\n",
       "             city client_hour continent_code count_months_to_end_card  \\\n",
       "354  Philadelphia          21            NaN                       51   \n",
       "425       Roselle          22            NaN                       11   \n",
       "489     undefined          19             SA                       34   \n",
       "\n",
       "    country_code3                 date day_of_week distance_haversine  \\\n",
       "354           USA  2018-12-20 04:58:57           4  0.136331429293758   \n",
       "425           USA  2018-12-20 06:17:48           4   0.05494352116258   \n",
       "489           BRA  2018-12-20 19:12:31           4  0.675654465393614   \n",
       "\n",
       "           distance_l2 distance_sqs_subtraction hour  \\\n",
       "354  0.353826231042557         4.54582953274766   04   \n",
       "425  0.137745627175871         6.30548964829209   06   \n",
       "489   1.38475033551366         1.75873438065076   19   \n",
       "\n",
       "                           id is_city_resolved  latitude longitude metro_code  \\\n",
       "354  427082******7013_2023-03                1   39.9514  -75.1582        504   \n",
       "425  414720******4963_2019-11                1   41.9792  -88.0895        602   \n",
       "489  498442******6675_2021-10                0  -23.5477  -46.6358          0   \n",
       "\n",
       "              order_id phone_2_norm   region_name status   date_only country  \\\n",
       "354  41805603255639195           67  Pennsylvania      1  2018-12-20     USA   \n",
       "425  41806814377312217           08      Illinois      1  2018-12-20     USA   \n",
       "489  41818714021471339           49     undefined      1  2018-12-20     BRA   \n",
       "\n",
       "    currency  \n",
       "354      USD  \n",
       "425      USD  \n",
       "489      USD  "
      ]
     },
     "execution_count": 38,
     "metadata": {},
     "output_type": "execute_result"
    }
   ],
   "source": [
    "ky9_fraud.head(3)"
   ]
  },
  {
   "cell_type": "code",
   "execution_count": 120,
   "metadata": {},
   "outputs": [],
   "source": [
    "ky9_fraud_all_ky10 = pd.concat([ky9_fraud, df_resolved_ky10])"
   ]
  },
  {
   "cell_type": "code",
   "execution_count": 121,
   "metadata": {},
   "outputs": [
    {
     "data": {
      "text/plain": [
       "(262647, 29)"
      ]
     },
     "execution_count": 121,
     "metadata": {},
     "output_type": "execute_result"
    }
   ],
   "source": [
    "ky9_fraud_all_ky10.shape"
   ]
  },
  {
   "cell_type": "code",
   "execution_count": 122,
   "metadata": {},
   "outputs": [
    {
     "data": {
      "text/plain": [
       "0    204707\n",
       "1     57940\n",
       "Name: status, dtype: int64"
      ]
     },
     "execution_count": 122,
     "metadata": {},
     "output_type": "execute_result"
    }
   ],
   "source": [
    "ky9_fraud_all_ky10.status.value_counts()"
   ]
  },
  {
   "cell_type": "code",
   "execution_count": 123,
   "metadata": {},
   "outputs": [],
   "source": [
    "# ky9_fraud_all_ky10.to_csv(path_ky_10 + '02_pure_data/data_ky10_with_ky9/ky9_fraud_all_ky10.csv', index=False, quoting=csv.QUOTE_ALL)"
   ]
  }
 ],
 "metadata": {
  "kernelspec": {
   "display_name": "Python 3",
   "language": "python",
   "name": "python3"
  },
  "language_info": {
   "codemirror_mode": {
    "name": "ipython",
    "version": 3
   },
   "file_extension": ".py",
   "mimetype": "text/x-python",
   "name": "python",
   "nbconvert_exporter": "python",
   "pygments_lexer": "ipython3",
   "version": "3.6.13"
  }
 },
 "nbformat": 4,
 "nbformat_minor": 4
}
