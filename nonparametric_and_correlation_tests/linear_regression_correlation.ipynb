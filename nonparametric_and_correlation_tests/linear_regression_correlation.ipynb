{
 "cells": [
  {
   "cell_type": "code",
   "execution_count": 31,
   "metadata": {},
   "outputs": [
    {
     "name": "stdout",
     "output_type": "stream",
     "text": [
      "The autoreload extension is already loaded. To reload it, use:\n",
      "  %reload_ext autoreload\n"
     ]
    }
   ],
   "source": [
    "# %load ../import_data.py\n",
    "from collections import Counter\n",
    "import pandas as pd\n",
    "import numpy as np\n",
    "pd.set_option('display.max_colwidth', 1000)\n",
    "pd.set_option('display.max_rows', 20)\n",
    "\n",
    "import xgboost as xgb\n",
    "\n",
    "import os,sys,inspect\n",
    "currentdir = os.path.dirname(os.path.abspath(inspect.getfile(inspect.currentframe())))\n",
    "parentdir = os.path.dirname(currentdir)\n",
    "sys.path.insert(0,parentdir)\n",
    "\n",
    "from statistic import Statistic\n",
    "from utils import UtilsKy\n",
    "from analyzer import HelperAnalyzer, AnalyzerPrediction\n",
    "\n",
    "# for autoreload modules\n",
    "%load_ext autoreload\n",
    "%autoreload 2\n",
    "\n",
    "# kyw3\n",
    "path_data = '/mnt/files/workdata/work/merchants/merchant_33_kyw3_2020-06-05/04_experiments/ex_01_some_teach/'\n",
    "db_teach = pd.read_csv(UtilsKy.DB_TEACH_KYW3, dtype=str, encoding='cp1251')\n",
    "db_test = pd.read_csv(UtilsKy.DB_TEST_KYW3, dtype=str, encoding='cp1251')\n",
    "white = pd.read_csv(UtilsKy.WHITE_KYW3 , dtype=str)"
   ]
  },
  {
   "cell_type": "code",
   "execution_count": 32,
   "metadata": {},
   "outputs": [
    {
     "name": "stdout",
     "output_type": "stream",
     "text": [
      "Statistic na values in columns : \n",
      "train na columns : Index(['latitude', 'longitude'], dtype='object')\n",
      "latitude_na: 1537,longitude_na: 1537\n",
      "test na columns : Index(['latitude', 'longitude'], dtype='object')\n",
      "latitude_na: 63,longitude_na: 63\n",
      "Replaced na values:\n",
      "is_gender_undefined_na -> -999\n",
      "is_city_resolved_na -> -999\n",
      "bin_na -> -999\n",
      "hour_na -> -999\n",
      "day_of_week_na -> -999\n",
      "bank_currency_na -> -999\n",
      "phone_2_norm_na -> -999\n",
      "amount_na -> -999\n",
      "longitude_na -> -92.53325861542274\n",
      "latitude_na -> 36.90237577890762\n"
     ]
    }
   ],
   "source": [
    "# %load ../prepare_data.py\n",
    "COL_FACTORS = ['bin', 'amount', 'bank_currency', 'hour', 'day_of_week', 'longitude', 'latitude', 'phone_2_norm', 'is_gender_undefined', 'is_city_resolved']\n",
    "COL_FACTORS = sorted(COL_FACTORS)\n",
    "\n",
    "# For Xgboost\n",
    "from helper import DataHelper\n",
    "datahelper = DataHelper(db_teach, db_test, COL_FACTORS)\n",
    "datahelper.create_train_test()\n",
    "datahelper.show_columns_with_na()\n",
    "mean_values = datahelper.get_mean_value()\n",
    "replaced_values = { col: mean_values[col] for col in ('latitude', 'longitude')}\n",
    "replaced_values['default'] =  -999\n",
    "datahelper.replaced_na_values(replaced_values)   \n",
    "train , test = datahelper.get_train_test()"
   ]
  },
  {
   "cell_type": "code",
   "execution_count": 34,
   "metadata": {},
   "outputs": [],
   "source": [
    "from sklearn.linear_model import LinearRegression"
   ]
  },
  {
   "cell_type": "code",
   "execution_count": 44,
   "metadata": {},
   "outputs": [
    {
     "name": "stdout",
     "output_type": "stream",
     "text": [
      "amount : 0.010485544310996242\n",
      "bank_currency : 0.08606761763973025\n",
      "bin : 0.015339974054812244\n",
      "day_of_week : 0.011961003882192345\n",
      "hour : 0.013473552284439805\n",
      "is_city_resolved : 0.03287643302635179\n",
      "is_gender_undefined : 0.002518759050812336\n",
      "latitude : 0.11289763580537071\n",
      "longitude : 0.126593140919532\n",
      "phone_2_norm : 0.007217760706448306\n",
      "status : 0.0023797886304331994\n"
     ]
    }
   ],
   "source": [
    "for factor in COL_FACTORS:\n",
    "    other_factors = [col for col in COL_FACTORS if col!= factor]\n",
    "    X, y = train[other_factors].values, train[factor].values\n",
    "    clf = LinearRegression()\n",
    "    clf.fit(X, y)\n",
    "\n",
    "    print(\"{} : {}\" .format(factor, clf.score(X, y)))    "
   ]
  }
 ],
 "metadata": {
  "kernelspec": {
   "display_name": "Python 3",
   "language": "python",
   "name": "python3"
  },
  "language_info": {
   "codemirror_mode": {
    "name": "ipython",
    "version": 3
   },
   "file_extension": ".py",
   "mimetype": "text/x-python",
   "name": "python",
   "nbconvert_exporter": "python",
   "pygments_lexer": "ipython3",
   "version": "3.7.6"
  }
 },
 "nbformat": 4,
 "nbformat_minor": 4
}
