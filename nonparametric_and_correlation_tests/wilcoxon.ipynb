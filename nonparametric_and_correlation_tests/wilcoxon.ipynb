{
 "cells": [
  {
   "cell_type": "code",
   "execution_count": 2,
   "metadata": {},
   "outputs": [],
   "source": [
    "import pandas as pd\n",
    "import numpy as np\n",
    "import re\n",
    "import math"
   ]
  },
  {
   "cell_type": "code",
   "execution_count": 3,
   "metadata": {},
   "outputs": [],
   "source": [
    "# Wilcoxon signed-rank test\n",
    "from numpy.random import seed\n",
    "from numpy.random import randn\n",
    "from scipy.stats import wilcoxon"
   ]
  },
  {
   "cell_type": "code",
   "execution_count": 4,
   "metadata": {},
   "outputs": [],
   "source": [
    "import os,sys,inspect\n",
    "currentdir = os.path.dirname(os.path.abspath(inspect.getfile(inspect.currentframe())))\n",
    "parentdir = os.path.dirname(currentdir)\n",
    "sys.path.insert(0,parentdir)"
   ]
  },
  {
   "cell_type": "code",
   "execution_count": 5,
   "metadata": {},
   "outputs": [],
   "source": [
    "from statistic import Statistic"
   ]
  },
  {
   "cell_type": "code",
   "execution_count": 6,
   "metadata": {},
   "outputs": [],
   "source": [
    "# If probability < alfa = different values \n",
    "\n",
    "def wilcoxon_test(data1, data2, alpha= 0.05):\n",
    "    stat, p = wilcoxon(data1, data2)\n",
    "    print('Statistics=%.3f, p=%.3f, thereshold=%.3f' % (stat, p,alpha))\n",
    "        \n",
    "    if p > alpha:\n",
    "        print('Same distribution (fail to reject H0)')\n",
    "    else:\n",
    "        print('Different distribution (reject H0)')\n",
    "        \n",
    "        "
   ]
  },
  {
   "cell_type": "code",
   "execution_count": 73,
   "metadata": {},
   "outputs": [
    {
     "data": {
      "text/plain": [
       "[7.41, 11.11, 13.32, 15.03, 17.23, 20.55, 21.89, 23.78, 38.23]"
      ]
     },
     "execution_count": 73,
     "metadata": {},
     "output_type": "execute_result"
    }
   ],
   "source": [
    "data2 = '7.41\t11.11\t13.32\t15.03\t17.23\t20.55\t21.89\t23.78\t38.23'.split('\\t')\n",
    "data2 = [ float(d) for d in data2 ]\n",
    "data2"
   ]
  },
  {
   "cell_type": "code",
   "execution_count": 74,
   "metadata": {},
   "outputs": [],
   "source": [
    "# generate two independent samples\n",
    "data1 = 5 * randn(100) + 50\n",
    "data2 = 5 * randn(100) + 51"
   ]
  },
  {
   "cell_type": "code",
   "execution_count": 75,
   "metadata": {},
   "outputs": [],
   "source": [
    "data1 = [9.07, 14.38, 15.73, 19.90, 22.01, 23.56, 25.79, 30.69, 42.82]\n",
    "data2 = [7.20, 17.02, 18.59, 19.83, 20.96, 21.31, 23.38, 26.68, 42.36]\n",
    "data3 = [7.41, 11.11, 13.32, 15.03, 17.23, 20.55, 21.89, 23.78, 38.23]"
   ]
  },
  {
   "cell_type": "code",
   "execution_count": 78,
   "metadata": {},
   "outputs": [
    {
     "name": "stdout",
     "output_type": "stream",
     "text": [
      "Statistics=15.000, p=0.374, thereshold=0.050\n",
      "Same distribution (fail to reject H0)\n"
     ]
    }
   ],
   "source": [
    "# compare samples\n",
    "wilcoxon_test(data1, data2)"
   ]
  },
  {
   "cell_type": "code",
   "execution_count": 79,
   "metadata": {},
   "outputs": [
    {
     "name": "stdout",
     "output_type": "stream",
     "text": [
      "Statistics=0.000, p=0.008, thereshold=0.050\n",
      "Different distribution (reject H0)\n"
     ]
    }
   ],
   "source": [
    "wilcoxon_test(data1, data3)"
   ]
  },
  {
   "cell_type": "code",
   "execution_count": 80,
   "metadata": {},
   "outputs": [
    {
     "name": "stdout",
     "output_type": "stream",
     "text": [
      "Statistics=1.000, p=0.011, thereshold=0.050\n",
      "Different distribution (reject H0)\n"
     ]
    }
   ],
   "source": [
    "wilcoxon_test(data2, data3)"
   ]
  },
  {
   "cell_type": "code",
   "execution_count": null,
   "metadata": {},
   "outputs": [],
   "source": [
    "# Compare data from covid deaths from USA"
   ]
  },
  {
   "cell_type": "code",
   "execution_count": 6,
   "metadata": {},
   "outputs": [],
   "source": [
    "path_covid = parentdir + '/data_covid/'\n",
    "path_2020 = path_covid + 'Provisional_COVID-19_Death_Counts_by_Week_Ending_Date_and_State.csv'\n",
    "path_2019_2020 = path_covid + 'VSRR_-_State_and_National_Provisional_Counts_for_Live_Births__Deaths__and_Infant_Deaths.csv'\n",
    "df_cov_2020 = pd.read_csv(path_2020  , dtype=str)\n",
    "df_2019_2020 = pd.read_csv(path_2019_2020  , dtype=str)"
   ]
  },
  {
   "cell_type": "code",
   "execution_count": 7,
   "metadata": {},
   "outputs": [
    {
     "data": {
      "text/plain": [
       "['Data as of',\n",
       " 'Start week',\n",
       " 'End Week',\n",
       " 'Group',\n",
       " 'State',\n",
       " 'Indicator',\n",
       " 'COVID-19 Deaths',\n",
       " 'Total Deaths',\n",
       " 'Percent of Expected Deaths',\n",
       " 'Pneumonia Deaths',\n",
       " 'Pneumonia and COVID-19 Deaths',\n",
       " 'Influenza Deaths',\n",
       " 'Pneumonia, Influenza, or COVID-19 Deaths',\n",
       " 'Footnote']"
      ]
     },
     "execution_count": 7,
     "metadata": {},
     "output_type": "execute_result"
    }
   ],
   "source": [
    "list(df_cov_2020)"
   ]
  },
  {
   "cell_type": "code",
   "execution_count": 8,
   "metadata": {},
   "outputs": [],
   "source": [
    "df_cov_2020.loc[:,'Total Deaths'] = pd.to_numeric(df_cov_2020['Total Deaths'], errors=\"coerce\")"
   ]
  },
  {
   "cell_type": "code",
   "execution_count": 93,
   "metadata": {},
   "outputs": [],
   "source": [
    "# Statistic.get_table(df_cov_2020, 'State')"
   ]
  },
  {
   "cell_type": "code",
   "execution_count": 9,
   "metadata": {},
   "outputs": [],
   "source": [
    "df_US = df_cov_2020[df_cov_2020.State == 'United States'].copy()"
   ]
  },
  {
   "cell_type": "code",
   "execution_count": 10,
   "metadata": {},
   "outputs": [
    {
     "data": {
      "text/plain": [
       "(36, 14)"
      ]
     },
     "execution_count": 10,
     "metadata": {},
     "output_type": "execute_result"
    }
   ],
   "source": [
    "df_US.shape"
   ]
  },
  {
   "cell_type": "code",
   "execution_count": 11,
   "metadata": {},
   "outputs": [],
   "source": [
    "data1 = df_US['Total Deaths'].values[:10]\n",
    "data2 = df_US['Total Deaths'].values[10:20]\n",
    "data3 = df_US['Total Deaths'].values[20:30]"
   ]
  },
  {
   "cell_type": "code",
   "execution_count": 12,
   "metadata": {},
   "outputs": [
    {
     "data": {
      "text/html": [
       "<div>\n",
       "<style scoped>\n",
       "    .dataframe tbody tr th:only-of-type {\n",
       "        vertical-align: middle;\n",
       "    }\n",
       "\n",
       "    .dataframe tbody tr th {\n",
       "        vertical-align: top;\n",
       "    }\n",
       "\n",
       "    .dataframe thead th {\n",
       "        text-align: right;\n",
       "    }\n",
       "</style>\n",
       "<table border=\"1\" class=\"dataframe\">\n",
       "  <thead>\n",
       "    <tr style=\"text-align: right;\">\n",
       "      <th></th>\n",
       "      <th>d1</th>\n",
       "      <th>d2</th>\n",
       "      <th>d3</th>\n",
       "    </tr>\n",
       "  </thead>\n",
       "  <tbody>\n",
       "    <tr>\n",
       "      <th>0</th>\n",
       "      <td>58606.0</td>\n",
       "      <td>78915.0</td>\n",
       "      <td>57654.0</td>\n",
       "    </tr>\n",
       "    <tr>\n",
       "      <th>1</th>\n",
       "      <td>59314.0</td>\n",
       "      <td>76573.0</td>\n",
       "      <td>58134.0</td>\n",
       "    </tr>\n",
       "    <tr>\n",
       "      <th>2</th>\n",
       "      <td>58723.0</td>\n",
       "      <td>73663.0</td>\n",
       "      <td>59381.0</td>\n",
       "    </tr>\n",
       "    <tr>\n",
       "      <th>3</th>\n",
       "      <td>58761.0</td>\n",
       "      <td>69074.0</td>\n",
       "      <td>61319.0</td>\n",
       "    </tr>\n",
       "    <tr>\n",
       "      <th>4</th>\n",
       "      <td>59193.0</td>\n",
       "      <td>66655.0</td>\n",
       "      <td>62350.0</td>\n",
       "    </tr>\n",
       "    <tr>\n",
       "      <th>5</th>\n",
       "      <td>59600.0</td>\n",
       "      <td>64312.0</td>\n",
       "      <td>63005.0</td>\n",
       "    </tr>\n",
       "    <tr>\n",
       "      <th>6</th>\n",
       "      <td>58571.0</td>\n",
       "      <td>61420.0</td>\n",
       "      <td>62383.0</td>\n",
       "    </tr>\n",
       "    <tr>\n",
       "      <th>7</th>\n",
       "      <td>59109.0</td>\n",
       "      <td>59455.0</td>\n",
       "      <td>62189.0</td>\n",
       "    </tr>\n",
       "    <tr>\n",
       "      <th>8</th>\n",
       "      <td>62894.0</td>\n",
       "      <td>58659.0</td>\n",
       "      <td>61369.0</td>\n",
       "    </tr>\n",
       "    <tr>\n",
       "      <th>9</th>\n",
       "      <td>72154.0</td>\n",
       "      <td>57758.0</td>\n",
       "      <td>58977.0</td>\n",
       "    </tr>\n",
       "  </tbody>\n",
       "</table>\n",
       "</div>"
      ],
      "text/plain": [
       "        d1       d2       d3\n",
       "0  58606.0  78915.0  57654.0\n",
       "1  59314.0  76573.0  58134.0\n",
       "2  58723.0  73663.0  59381.0\n",
       "3  58761.0  69074.0  61319.0\n",
       "4  59193.0  66655.0  62350.0\n",
       "5  59600.0  64312.0  63005.0\n",
       "6  58571.0  61420.0  62383.0\n",
       "7  59109.0  59455.0  62189.0\n",
       "8  62894.0  58659.0  61369.0\n",
       "9  72154.0  57758.0  58977.0"
      ]
     },
     "execution_count": 12,
     "metadata": {},
     "output_type": "execute_result"
    }
   ],
   "source": [
    "df = pd.DataFrame(data={'d1': data1, 'd2':data2, 'd3':data3})\n",
    "df"
   ]
  },
  {
   "cell_type": "code",
   "execution_count": 13,
   "metadata": {},
   "outputs": [
    {
     "name": "stdout",
     "output_type": "stream",
     "text": [
      "Statistics=10.000, p=0.074, thereshold=0.100\n",
      "Different distribution (reject H0)\n"
     ]
    }
   ],
   "source": [
    "wilcoxon_test(data1, data2, alpha=0.1)"
   ]
  },
  {
   "cell_type": "code",
   "execution_count": 15,
   "metadata": {},
   "outputs": [
    {
     "name": "stdout",
     "output_type": "stream",
     "text": [
      "Statistics=12.000, p=0.114, thereshold=0.100\n",
      "Same distribution (fail to reject H0)\n"
     ]
    }
   ],
   "source": [
    "wilcoxon_test(data2, data3,  alpha=0.1)"
   ]
  },
  {
   "cell_type": "code",
   "execution_count": 16,
   "metadata": {},
   "outputs": [
    {
     "name": "stdout",
     "output_type": "stream",
     "text": [
      "Statistics=19.000, p=0.386, thereshold=0.100\n",
      "Same distribution (fail to reject H0)\n"
     ]
    }
   ],
   "source": [
    "wilcoxon_test(data1, data3, alpha=0.1)"
   ]
  },
  {
   "cell_type": "code",
   "execution_count": 17,
   "metadata": {},
   "outputs": [
    {
     "data": {
      "text/html": [
       "<div>\n",
       "<style scoped>\n",
       "    .dataframe tbody tr th:only-of-type {\n",
       "        vertical-align: middle;\n",
       "    }\n",
       "\n",
       "    .dataframe tbody tr th {\n",
       "        vertical-align: top;\n",
       "    }\n",
       "\n",
       "    .dataframe thead th {\n",
       "        text-align: right;\n",
       "    }\n",
       "</style>\n",
       "<table border=\"1\" class=\"dataframe\">\n",
       "  <thead>\n",
       "    <tr style=\"text-align: right;\">\n",
       "      <th></th>\n",
       "      <th>State</th>\n",
       "      <th>Year</th>\n",
       "      <th>Month</th>\n",
       "      <th>Period</th>\n",
       "      <th>Indicator</th>\n",
       "      <th>Data Value</th>\n",
       "    </tr>\n",
       "  </thead>\n",
       "  <tbody>\n",
       "    <tr>\n",
       "      <th>0</th>\n",
       "      <td>UNITED STATES</td>\n",
       "      <td>2019</td>\n",
       "      <td>January</td>\n",
       "      <td>Monthly</td>\n",
       "      <td>Number of Live Births</td>\n",
       "      <td>311000</td>\n",
       "    </tr>\n",
       "    <tr>\n",
       "      <th>1</th>\n",
       "      <td>UNITED STATES</td>\n",
       "      <td>2019</td>\n",
       "      <td>February</td>\n",
       "      <td>Monthly</td>\n",
       "      <td>Number of Live Births</td>\n",
       "      <td>280000</td>\n",
       "    </tr>\n",
       "    <tr>\n",
       "      <th>2</th>\n",
       "      <td>UNITED STATES</td>\n",
       "      <td>2019</td>\n",
       "      <td>March</td>\n",
       "      <td>Monthly</td>\n",
       "      <td>Number of Live Births</td>\n",
       "      <td>304000</td>\n",
       "    </tr>\n",
       "    <tr>\n",
       "      <th>3</th>\n",
       "      <td>UNITED STATES</td>\n",
       "      <td>2019</td>\n",
       "      <td>April</td>\n",
       "      <td>Monthly</td>\n",
       "      <td>Number of Live Births</td>\n",
       "      <td>299000</td>\n",
       "    </tr>\n",
       "    <tr>\n",
       "      <th>4</th>\n",
       "      <td>UNITED STATES</td>\n",
       "      <td>2019</td>\n",
       "      <td>May</td>\n",
       "      <td>Monthly</td>\n",
       "      <td>Number of Live Births</td>\n",
       "      <td>316000</td>\n",
       "    </tr>\n",
       "  </tbody>\n",
       "</table>\n",
       "</div>"
      ],
      "text/plain": [
       "           State  Year     Month   Period              Indicator Data Value\n",
       "0  UNITED STATES  2019   January  Monthly  Number of Live Births     311000\n",
       "1  UNITED STATES  2019  February  Monthly  Number of Live Births     280000\n",
       "2  UNITED STATES  2019     March  Monthly  Number of Live Births     304000\n",
       "3  UNITED STATES  2019     April  Monthly  Number of Live Births     299000\n",
       "4  UNITED STATES  2019       May  Monthly  Number of Live Births     316000"
      ]
     },
     "execution_count": 17,
     "metadata": {},
     "output_type": "execute_result"
    }
   ],
   "source": [
    "df_2019_2020.head()"
   ]
  },
  {
   "cell_type": "code",
   "execution_count": 18,
   "metadata": {},
   "outputs": [],
   "source": [
    "df_2019_2020.loc[:,'Data Value'] = pd.to_numeric(df_2019_2020.loc[:,'Data Value'], errors=\"coerce\")"
   ]
  },
  {
   "cell_type": "code",
   "execution_count": 19,
   "metadata": {},
   "outputs": [],
   "source": [
    "mask = (df_2019_2020.State == 'UNITED STATES') & (df_2019_2020.Indicator == 'Number of Deaths')\n",
    "df_usa = df_2019_2020[mask].copy()"
   ]
  },
  {
   "cell_type": "code",
   "execution_count": 20,
   "metadata": {},
   "outputs": [
    {
     "data": {
      "text/html": [
       "<div>\n",
       "<style scoped>\n",
       "    .dataframe tbody tr th:only-of-type {\n",
       "        vertical-align: middle;\n",
       "    }\n",
       "\n",
       "    .dataframe tbody tr th {\n",
       "        vertical-align: top;\n",
       "    }\n",
       "\n",
       "    .dataframe thead th {\n",
       "        text-align: right;\n",
       "    }\n",
       "</style>\n",
       "<table border=\"1\" class=\"dataframe\">\n",
       "  <thead>\n",
       "    <tr style=\"text-align: right;\">\n",
       "      <th></th>\n",
       "      <th>State</th>\n",
       "      <th>Year</th>\n",
       "      <th>Month</th>\n",
       "      <th>Period</th>\n",
       "      <th>Indicator</th>\n",
       "      <th>Data Value</th>\n",
       "    </tr>\n",
       "  </thead>\n",
       "  <tbody>\n",
       "    <tr>\n",
       "      <th>27</th>\n",
       "      <td>UNITED STATES</td>\n",
       "      <td>2020</td>\n",
       "      <td>January</td>\n",
       "      <td>Monthly</td>\n",
       "      <td>Number of Deaths</td>\n",
       "      <td>263000</td>\n",
       "    </tr>\n",
       "    <tr>\n",
       "      <th>28</th>\n",
       "      <td>UNITED STATES</td>\n",
       "      <td>2020</td>\n",
       "      <td>February</td>\n",
       "      <td>Monthly</td>\n",
       "      <td>Number of Deaths</td>\n",
       "      <td>243000</td>\n",
       "    </tr>\n",
       "    <tr>\n",
       "      <th>29</th>\n",
       "      <td>UNITED STATES</td>\n",
       "      <td>2020</td>\n",
       "      <td>March</td>\n",
       "      <td>Monthly</td>\n",
       "      <td>Number of Deaths</td>\n",
       "      <td>268000</td>\n",
       "    </tr>\n",
       "  </tbody>\n",
       "</table>\n",
       "</div>"
      ],
      "text/plain": [
       "            State  Year     Month   Period         Indicator  Data Value\n",
       "27  UNITED STATES  2020   January  Monthly  Number of Deaths      263000\n",
       "28  UNITED STATES  2020  February  Monthly  Number of Deaths      243000\n",
       "29  UNITED STATES  2020     March  Monthly  Number of Deaths      268000"
      ]
     },
     "execution_count": 20,
     "metadata": {},
     "output_type": "execute_result"
    }
   ],
   "source": [
    "mask = (df_usa.Year == '2020') & (df_usa.Period == 'Monthly')\n",
    "df_usa_2020 = df_usa[mask]\n",
    "df_usa_2020"
   ]
  },
  {
   "cell_type": "code",
   "execution_count": 21,
   "metadata": {},
   "outputs": [
    {
     "data": {
      "text/html": [
       "<div>\n",
       "<style scoped>\n",
       "    .dataframe tbody tr th:only-of-type {\n",
       "        vertical-align: middle;\n",
       "    }\n",
       "\n",
       "    .dataframe tbody tr th {\n",
       "        vertical-align: top;\n",
       "    }\n",
       "\n",
       "    .dataframe thead th {\n",
       "        text-align: right;\n",
       "    }\n",
       "</style>\n",
       "<table border=\"1\" class=\"dataframe\">\n",
       "  <thead>\n",
       "    <tr style=\"text-align: right;\">\n",
       "      <th></th>\n",
       "      <th>State</th>\n",
       "      <th>Year</th>\n",
       "      <th>Month</th>\n",
       "      <th>Period</th>\n",
       "      <th>Indicator</th>\n",
       "      <th>Data Value</th>\n",
       "    </tr>\n",
       "  </thead>\n",
       "  <tbody>\n",
       "    <tr>\n",
       "      <th>15</th>\n",
       "      <td>UNITED STATES</td>\n",
       "      <td>2019</td>\n",
       "      <td>January</td>\n",
       "      <td>Monthly</td>\n",
       "      <td>Number of Deaths</td>\n",
       "      <td>258000</td>\n",
       "    </tr>\n",
       "    <tr>\n",
       "      <th>16</th>\n",
       "      <td>UNITED STATES</td>\n",
       "      <td>2019</td>\n",
       "      <td>February</td>\n",
       "      <td>Monthly</td>\n",
       "      <td>Number of Deaths</td>\n",
       "      <td>233000</td>\n",
       "    </tr>\n",
       "    <tr>\n",
       "      <th>17</th>\n",
       "      <td>UNITED STATES</td>\n",
       "      <td>2019</td>\n",
       "      <td>March</td>\n",
       "      <td>Monthly</td>\n",
       "      <td>Number of Deaths</td>\n",
       "      <td>255000</td>\n",
       "    </tr>\n",
       "    <tr>\n",
       "      <th>18</th>\n",
       "      <td>UNITED STATES</td>\n",
       "      <td>2019</td>\n",
       "      <td>April</td>\n",
       "      <td>Monthly</td>\n",
       "      <td>Number of Deaths</td>\n",
       "      <td>235000</td>\n",
       "    </tr>\n",
       "    <tr>\n",
       "      <th>19</th>\n",
       "      <td>UNITED STATES</td>\n",
       "      <td>2019</td>\n",
       "      <td>May</td>\n",
       "      <td>Monthly</td>\n",
       "      <td>Number of Deaths</td>\n",
       "      <td>237000</td>\n",
       "    </tr>\n",
       "    <tr>\n",
       "      <th>20</th>\n",
       "      <td>UNITED STATES</td>\n",
       "      <td>2019</td>\n",
       "      <td>June</td>\n",
       "      <td>Monthly</td>\n",
       "      <td>Number of Deaths</td>\n",
       "      <td>225000</td>\n",
       "    </tr>\n",
       "    <tr>\n",
       "      <th>21</th>\n",
       "      <td>UNITED STATES</td>\n",
       "      <td>2019</td>\n",
       "      <td>July</td>\n",
       "      <td>Monthly</td>\n",
       "      <td>Number of Deaths</td>\n",
       "      <td>229000</td>\n",
       "    </tr>\n",
       "    <tr>\n",
       "      <th>22</th>\n",
       "      <td>UNITED STATES</td>\n",
       "      <td>2019</td>\n",
       "      <td>August</td>\n",
       "      <td>Monthly</td>\n",
       "      <td>Number of Deaths</td>\n",
       "      <td>227000</td>\n",
       "    </tr>\n",
       "    <tr>\n",
       "      <th>23</th>\n",
       "      <td>UNITED STATES</td>\n",
       "      <td>2019</td>\n",
       "      <td>September</td>\n",
       "      <td>Monthly</td>\n",
       "      <td>Number of Deaths</td>\n",
       "      <td>223000</td>\n",
       "    </tr>\n",
       "    <tr>\n",
       "      <th>24</th>\n",
       "      <td>UNITED STATES</td>\n",
       "      <td>2019</td>\n",
       "      <td>October</td>\n",
       "      <td>Monthly</td>\n",
       "      <td>Number of Deaths</td>\n",
       "      <td>238000</td>\n",
       "    </tr>\n",
       "    <tr>\n",
       "      <th>25</th>\n",
       "      <td>UNITED STATES</td>\n",
       "      <td>2019</td>\n",
       "      <td>November</td>\n",
       "      <td>Monthly</td>\n",
       "      <td>Number of Deaths</td>\n",
       "      <td>239000</td>\n",
       "    </tr>\n",
       "    <tr>\n",
       "      <th>26</th>\n",
       "      <td>UNITED STATES</td>\n",
       "      <td>2019</td>\n",
       "      <td>December</td>\n",
       "      <td>Monthly</td>\n",
       "      <td>Number of Deaths</td>\n",
       "      <td>256000</td>\n",
       "    </tr>\n",
       "  </tbody>\n",
       "</table>\n",
       "</div>"
      ],
      "text/plain": [
       "            State  Year      Month   Period         Indicator  Data Value\n",
       "15  UNITED STATES  2019    January  Monthly  Number of Deaths      258000\n",
       "16  UNITED STATES  2019   February  Monthly  Number of Deaths      233000\n",
       "17  UNITED STATES  2019      March  Monthly  Number of Deaths      255000\n",
       "18  UNITED STATES  2019      April  Monthly  Number of Deaths      235000\n",
       "19  UNITED STATES  2019        May  Monthly  Number of Deaths      237000\n",
       "20  UNITED STATES  2019       June  Monthly  Number of Deaths      225000\n",
       "21  UNITED STATES  2019       July  Monthly  Number of Deaths      229000\n",
       "22  UNITED STATES  2019     August  Monthly  Number of Deaths      227000\n",
       "23  UNITED STATES  2019  September  Monthly  Number of Deaths      223000\n",
       "24  UNITED STATES  2019    October  Monthly  Number of Deaths      238000\n",
       "25  UNITED STATES  2019   November  Monthly  Number of Deaths      239000\n",
       "26  UNITED STATES  2019   December  Monthly  Number of Deaths      256000"
      ]
     },
     "execution_count": 21,
     "metadata": {},
     "output_type": "execute_result"
    }
   ],
   "source": [
    "mask = (df_usa.Year == '2019') & (df_usa.Period == 'Monthly')\n",
    "df_usa_2019 = df_usa[mask]\n",
    "df_usa_2019"
   ]
  },
  {
   "cell_type": "code",
   "execution_count": 22,
   "metadata": {},
   "outputs": [],
   "source": [
    "col_names = ['Year', 'Month', 'Data Value']\n",
    "df = pd.merge(df_usa_2020[col_names], df_usa_2019[col_names], how='left', on=['Month'])"
   ]
  },
  {
   "cell_type": "code",
   "execution_count": 23,
   "metadata": {},
   "outputs": [
    {
     "data": {
      "text/html": [
       "<div>\n",
       "<style scoped>\n",
       "    .dataframe tbody tr th:only-of-type {\n",
       "        vertical-align: middle;\n",
       "    }\n",
       "\n",
       "    .dataframe tbody tr th {\n",
       "        vertical-align: top;\n",
       "    }\n",
       "\n",
       "    .dataframe thead th {\n",
       "        text-align: right;\n",
       "    }\n",
       "</style>\n",
       "<table border=\"1\" class=\"dataframe\">\n",
       "  <thead>\n",
       "    <tr style=\"text-align: right;\">\n",
       "      <th></th>\n",
       "      <th>Year_x</th>\n",
       "      <th>Month</th>\n",
       "      <th>Data Value_x</th>\n",
       "      <th>Year_y</th>\n",
       "      <th>Data Value_y</th>\n",
       "      <th>percent</th>\n",
       "    </tr>\n",
       "  </thead>\n",
       "  <tbody>\n",
       "    <tr>\n",
       "      <th>0</th>\n",
       "      <td>2020</td>\n",
       "      <td>January</td>\n",
       "      <td>263000</td>\n",
       "      <td>2019</td>\n",
       "      <td>258000</td>\n",
       "      <td>1.94</td>\n",
       "    </tr>\n",
       "    <tr>\n",
       "      <th>1</th>\n",
       "      <td>2020</td>\n",
       "      <td>February</td>\n",
       "      <td>243000</td>\n",
       "      <td>2019</td>\n",
       "      <td>233000</td>\n",
       "      <td>4.29</td>\n",
       "    </tr>\n",
       "    <tr>\n",
       "      <th>2</th>\n",
       "      <td>2020</td>\n",
       "      <td>March</td>\n",
       "      <td>268000</td>\n",
       "      <td>2019</td>\n",
       "      <td>255000</td>\n",
       "      <td>5.10</td>\n",
       "    </tr>\n",
       "  </tbody>\n",
       "</table>\n",
       "</div>"
      ],
      "text/plain": [
       "  Year_x     Month  Data Value_x Year_y  Data Value_y  percent\n",
       "0   2020   January        263000   2019        258000     1.94\n",
       "1   2020  February        243000   2019        233000     4.29\n",
       "2   2020     March        268000   2019        255000     5.10"
      ]
     },
     "execution_count": 23,
     "metadata": {},
     "output_type": "execute_result"
    }
   ],
   "source": [
    "df['percent'] = round((df['Data Value_x']/df['Data Value_y'] -1) *100,2)\n",
    "df"
   ]
  },
  {
   "cell_type": "code",
   "execution_count": 24,
   "metadata": {},
   "outputs": [
    {
     "name": "stdout",
     "output_type": "stream",
     "text": [
      "Statistics=0.000, p=0.109, thereshold=0.110\n",
      "Different distribution (reject H0)\n"
     ]
    },
    {
     "name": "stderr",
     "output_type": "stream",
     "text": [
      "/home/sergey/anaconda3/lib/python3.6/site-packages/scipy/stats/morestats.py:2778: UserWarning: Warning: sample size too small for normal approximation.\n",
      "  warnings.warn(\"Warning: sample size too small for normal approximation.\")\n"
     ]
    }
   ],
   "source": [
    "wilcoxon_test(df['Data Value_y'].values,df['Data Value_x'].values, alpha=0.11)"
   ]
  },
  {
   "cell_type": "code",
   "execution_count": 25,
   "metadata": {},
   "outputs": [
    {
     "data": {
      "text/html": [
       "<div>\n",
       "<style scoped>\n",
       "    .dataframe tbody tr th:only-of-type {\n",
       "        vertical-align: middle;\n",
       "    }\n",
       "\n",
       "    .dataframe tbody tr th {\n",
       "        vertical-align: top;\n",
       "    }\n",
       "\n",
       "    .dataframe thead th {\n",
       "        text-align: right;\n",
       "    }\n",
       "</style>\n",
       "<table border=\"1\" class=\"dataframe\">\n",
       "  <thead>\n",
       "    <tr style=\"text-align: right;\">\n",
       "      <th></th>\n",
       "      <th>State</th>\n",
       "      <th>Year</th>\n",
       "      <th>Month</th>\n",
       "      <th>Period</th>\n",
       "      <th>Indicator</th>\n",
       "      <th>Data Value</th>\n",
       "    </tr>\n",
       "  </thead>\n",
       "  <tbody>\n",
       "    <tr>\n",
       "      <th>15</th>\n",
       "      <td>UNITED STATES</td>\n",
       "      <td>2019</td>\n",
       "      <td>January</td>\n",
       "      <td>Monthly</td>\n",
       "      <td>Number of Deaths</td>\n",
       "      <td>258000</td>\n",
       "    </tr>\n",
       "    <tr>\n",
       "      <th>16</th>\n",
       "      <td>UNITED STATES</td>\n",
       "      <td>2019</td>\n",
       "      <td>February</td>\n",
       "      <td>Monthly</td>\n",
       "      <td>Number of Deaths</td>\n",
       "      <td>233000</td>\n",
       "    </tr>\n",
       "    <tr>\n",
       "      <th>17</th>\n",
       "      <td>UNITED STATES</td>\n",
       "      <td>2019</td>\n",
       "      <td>March</td>\n",
       "      <td>Monthly</td>\n",
       "      <td>Number of Deaths</td>\n",
       "      <td>255000</td>\n",
       "    </tr>\n",
       "    <tr>\n",
       "      <th>18</th>\n",
       "      <td>UNITED STATES</td>\n",
       "      <td>2019</td>\n",
       "      <td>April</td>\n",
       "      <td>Monthly</td>\n",
       "      <td>Number of Deaths</td>\n",
       "      <td>235000</td>\n",
       "    </tr>\n",
       "    <tr>\n",
       "      <th>19</th>\n",
       "      <td>UNITED STATES</td>\n",
       "      <td>2019</td>\n",
       "      <td>May</td>\n",
       "      <td>Monthly</td>\n",
       "      <td>Number of Deaths</td>\n",
       "      <td>237000</td>\n",
       "    </tr>\n",
       "    <tr>\n",
       "      <th>20</th>\n",
       "      <td>UNITED STATES</td>\n",
       "      <td>2019</td>\n",
       "      <td>June</td>\n",
       "      <td>Monthly</td>\n",
       "      <td>Number of Deaths</td>\n",
       "      <td>225000</td>\n",
       "    </tr>\n",
       "    <tr>\n",
       "      <th>21</th>\n",
       "      <td>UNITED STATES</td>\n",
       "      <td>2019</td>\n",
       "      <td>July</td>\n",
       "      <td>Monthly</td>\n",
       "      <td>Number of Deaths</td>\n",
       "      <td>229000</td>\n",
       "    </tr>\n",
       "    <tr>\n",
       "      <th>22</th>\n",
       "      <td>UNITED STATES</td>\n",
       "      <td>2019</td>\n",
       "      <td>August</td>\n",
       "      <td>Monthly</td>\n",
       "      <td>Number of Deaths</td>\n",
       "      <td>227000</td>\n",
       "    </tr>\n",
       "    <tr>\n",
       "      <th>23</th>\n",
       "      <td>UNITED STATES</td>\n",
       "      <td>2019</td>\n",
       "      <td>September</td>\n",
       "      <td>Monthly</td>\n",
       "      <td>Number of Deaths</td>\n",
       "      <td>223000</td>\n",
       "    </tr>\n",
       "    <tr>\n",
       "      <th>24</th>\n",
       "      <td>UNITED STATES</td>\n",
       "      <td>2019</td>\n",
       "      <td>October</td>\n",
       "      <td>Monthly</td>\n",
       "      <td>Number of Deaths</td>\n",
       "      <td>238000</td>\n",
       "    </tr>\n",
       "    <tr>\n",
       "      <th>25</th>\n",
       "      <td>UNITED STATES</td>\n",
       "      <td>2019</td>\n",
       "      <td>November</td>\n",
       "      <td>Monthly</td>\n",
       "      <td>Number of Deaths</td>\n",
       "      <td>239000</td>\n",
       "    </tr>\n",
       "    <tr>\n",
       "      <th>26</th>\n",
       "      <td>UNITED STATES</td>\n",
       "      <td>2019</td>\n",
       "      <td>December</td>\n",
       "      <td>Monthly</td>\n",
       "      <td>Number of Deaths</td>\n",
       "      <td>256000</td>\n",
       "    </tr>\n",
       "    <tr>\n",
       "      <th>27</th>\n",
       "      <td>UNITED STATES</td>\n",
       "      <td>2020</td>\n",
       "      <td>January</td>\n",
       "      <td>Monthly</td>\n",
       "      <td>Number of Deaths</td>\n",
       "      <td>263000</td>\n",
       "    </tr>\n",
       "    <tr>\n",
       "      <th>28</th>\n",
       "      <td>UNITED STATES</td>\n",
       "      <td>2020</td>\n",
       "      <td>February</td>\n",
       "      <td>Monthly</td>\n",
       "      <td>Number of Deaths</td>\n",
       "      <td>243000</td>\n",
       "    </tr>\n",
       "    <tr>\n",
       "      <th>29</th>\n",
       "      <td>UNITED STATES</td>\n",
       "      <td>2020</td>\n",
       "      <td>March</td>\n",
       "      <td>Monthly</td>\n",
       "      <td>Number of Deaths</td>\n",
       "      <td>268000</td>\n",
       "    </tr>\n",
       "  </tbody>\n",
       "</table>\n",
       "</div>"
      ],
      "text/plain": [
       "            State  Year      Month   Period         Indicator  Data Value\n",
       "15  UNITED STATES  2019    January  Monthly  Number of Deaths      258000\n",
       "16  UNITED STATES  2019   February  Monthly  Number of Deaths      233000\n",
       "17  UNITED STATES  2019      March  Monthly  Number of Deaths      255000\n",
       "18  UNITED STATES  2019      April  Monthly  Number of Deaths      235000\n",
       "19  UNITED STATES  2019        May  Monthly  Number of Deaths      237000\n",
       "20  UNITED STATES  2019       June  Monthly  Number of Deaths      225000\n",
       "21  UNITED STATES  2019       July  Monthly  Number of Deaths      229000\n",
       "22  UNITED STATES  2019     August  Monthly  Number of Deaths      227000\n",
       "23  UNITED STATES  2019  September  Monthly  Number of Deaths      223000\n",
       "24  UNITED STATES  2019    October  Monthly  Number of Deaths      238000\n",
       "25  UNITED STATES  2019   November  Monthly  Number of Deaths      239000\n",
       "26  UNITED STATES  2019   December  Monthly  Number of Deaths      256000\n",
       "27  UNITED STATES  2020    January  Monthly  Number of Deaths      263000\n",
       "28  UNITED STATES  2020   February  Monthly  Number of Deaths      243000\n",
       "29  UNITED STATES  2020      March  Monthly  Number of Deaths      268000"
      ]
     },
     "execution_count": 25,
     "metadata": {},
     "output_type": "execute_result"
    }
   ],
   "source": [
    "mask = df_usa.Period == 'Monthly'\n",
    "dt = df_usa[mask].copy()\n",
    "dt"
   ]
  },
  {
   "cell_type": "code",
   "execution_count": 26,
   "metadata": {},
   "outputs": [],
   "source": [
    "data1 = dt['Data Value'].values[:7]\n",
    "data2 = dt['Data Value'].values[8:15]"
   ]
  },
  {
   "cell_type": "code",
   "execution_count": 27,
   "metadata": {},
   "outputs": [
    {
     "name": "stdout",
     "output_type": "stream",
     "text": [
      "Statistics=8.000, p=0.310, thereshold=0.110\n",
      "Same distribution (fail to reject H0)\n"
     ]
    }
   ],
   "source": [
    "wilcoxon_test(data1,data2, alpha=0.11)"
   ]
  },
  {
   "cell_type": "code",
   "execution_count": 28,
   "metadata": {},
   "outputs": [
    {
     "data": {
      "text/html": [
       "<div>\n",
       "<style scoped>\n",
       "    .dataframe tbody tr th:only-of-type {\n",
       "        vertical-align: middle;\n",
       "    }\n",
       "\n",
       "    .dataframe tbody tr th {\n",
       "        vertical-align: top;\n",
       "    }\n",
       "\n",
       "    .dataframe thead th {\n",
       "        text-align: right;\n",
       "    }\n",
       "</style>\n",
       "<table border=\"1\" class=\"dataframe\">\n",
       "  <thead>\n",
       "    <tr style=\"text-align: right;\">\n",
       "      <th></th>\n",
       "      <th>State</th>\n",
       "      <th>Year</th>\n",
       "      <th>Month</th>\n",
       "      <th>Period</th>\n",
       "      <th>Indicator</th>\n",
       "      <th>Data Value</th>\n",
       "    </tr>\n",
       "  </thead>\n",
       "  <tbody>\n",
       "    <tr>\n",
       "      <th>0</th>\n",
       "      <td>UNITED STATES</td>\n",
       "      <td>2019</td>\n",
       "      <td>January</td>\n",
       "      <td>Monthly</td>\n",
       "      <td>Number of Live Births</td>\n",
       "      <td>311000</td>\n",
       "    </tr>\n",
       "    <tr>\n",
       "      <th>1</th>\n",
       "      <td>UNITED STATES</td>\n",
       "      <td>2019</td>\n",
       "      <td>February</td>\n",
       "      <td>Monthly</td>\n",
       "      <td>Number of Live Births</td>\n",
       "      <td>280000</td>\n",
       "    </tr>\n",
       "    <tr>\n",
       "      <th>2</th>\n",
       "      <td>UNITED STATES</td>\n",
       "      <td>2019</td>\n",
       "      <td>March</td>\n",
       "      <td>Monthly</td>\n",
       "      <td>Number of Live Births</td>\n",
       "      <td>304000</td>\n",
       "    </tr>\n",
       "    <tr>\n",
       "      <th>3</th>\n",
       "      <td>UNITED STATES</td>\n",
       "      <td>2019</td>\n",
       "      <td>April</td>\n",
       "      <td>Monthly</td>\n",
       "      <td>Number of Live Births</td>\n",
       "      <td>299000</td>\n",
       "    </tr>\n",
       "    <tr>\n",
       "      <th>4</th>\n",
       "      <td>UNITED STATES</td>\n",
       "      <td>2019</td>\n",
       "      <td>May</td>\n",
       "      <td>Monthly</td>\n",
       "      <td>Number of Live Births</td>\n",
       "      <td>316000</td>\n",
       "    </tr>\n",
       "  </tbody>\n",
       "</table>\n",
       "</div>"
      ],
      "text/plain": [
       "           State  Year     Month   Period              Indicator  Data Value\n",
       "0  UNITED STATES  2019   January  Monthly  Number of Live Births      311000\n",
       "1  UNITED STATES  2019  February  Monthly  Number of Live Births      280000\n",
       "2  UNITED STATES  2019     March  Monthly  Number of Live Births      304000\n",
       "3  UNITED STATES  2019     April  Monthly  Number of Live Births      299000\n",
       "4  UNITED STATES  2019       May  Monthly  Number of Live Births      316000"
      ]
     },
     "execution_count": 28,
     "metadata": {},
     "output_type": "execute_result"
    }
   ],
   "source": [
    "df_2019_2020.head()"
   ]
  },
  {
   "cell_type": "code",
   "execution_count": 29,
   "metadata": {},
   "outputs": [],
   "source": [
    "mask = (df_2019_2020.State != 'UNITED STATES') & (df_2019_2020.Indicator == 'Number of Deaths')\n",
    "df_state = df_2019_2020[mask].copy()"
   ]
  },
  {
   "cell_type": "code",
   "execution_count": 30,
   "metadata": {},
   "outputs": [
    {
     "data": {
      "text/html": [
       "<div>\n",
       "<style scoped>\n",
       "    .dataframe tbody tr th:only-of-type {\n",
       "        vertical-align: middle;\n",
       "    }\n",
       "\n",
       "    .dataframe tbody tr th {\n",
       "        vertical-align: top;\n",
       "    }\n",
       "\n",
       "    .dataframe thead th {\n",
       "        text-align: right;\n",
       "    }\n",
       "</style>\n",
       "<table border=\"1\" class=\"dataframe\">\n",
       "  <thead>\n",
       "    <tr style=\"text-align: right;\">\n",
       "      <th></th>\n",
       "      <th>State</th>\n",
       "      <th>Year</th>\n",
       "      <th>Month</th>\n",
       "      <th>Period</th>\n",
       "      <th>Indicator</th>\n",
       "      <th>Data Value</th>\n",
       "    </tr>\n",
       "  </thead>\n",
       "  <tbody>\n",
       "    <tr>\n",
       "      <th>714</th>\n",
       "      <td>ALABAMA</td>\n",
       "      <td>2020</td>\n",
       "      <td>January</td>\n",
       "      <td>Monthly</td>\n",
       "      <td>Number of Deaths</td>\n",
       "      <td>4799</td>\n",
       "    </tr>\n",
       "    <tr>\n",
       "      <th>715</th>\n",
       "      <td>ALASKA</td>\n",
       "      <td>2020</td>\n",
       "      <td>January</td>\n",
       "      <td>Monthly</td>\n",
       "      <td>Number of Deaths</td>\n",
       "      <td>434</td>\n",
       "    </tr>\n",
       "    <tr>\n",
       "      <th>716</th>\n",
       "      <td>ARIZONA</td>\n",
       "      <td>2020</td>\n",
       "      <td>January</td>\n",
       "      <td>Monthly</td>\n",
       "      <td>Number of Deaths</td>\n",
       "      <td>5767</td>\n",
       "    </tr>\n",
       "    <tr>\n",
       "      <th>717</th>\n",
       "      <td>ARKANSAS</td>\n",
       "      <td>2020</td>\n",
       "      <td>January</td>\n",
       "      <td>Monthly</td>\n",
       "      <td>Number of Deaths</td>\n",
       "      <td>2986</td>\n",
       "    </tr>\n",
       "    <tr>\n",
       "      <th>718</th>\n",
       "      <td>CALIFORNIA</td>\n",
       "      <td>2020</td>\n",
       "      <td>January</td>\n",
       "      <td>Monthly</td>\n",
       "      <td>Number of Deaths</td>\n",
       "      <td>25624</td>\n",
       "    </tr>\n",
       "  </tbody>\n",
       "</table>\n",
       "</div>"
      ],
      "text/plain": [
       "          State  Year    Month   Period         Indicator  Data Value\n",
       "714     ALABAMA  2020  January  Monthly  Number of Deaths        4799\n",
       "715      ALASKA  2020  January  Monthly  Number of Deaths         434\n",
       "716     ARIZONA  2020  January  Monthly  Number of Deaths        5767\n",
       "717    ARKANSAS  2020  January  Monthly  Number of Deaths        2986\n",
       "718  CALIFORNIA  2020  January  Monthly  Number of Deaths       25624"
      ]
     },
     "execution_count": 30,
     "metadata": {},
     "output_type": "execute_result"
    }
   ],
   "source": [
    "mask = df_state.Year == '2020'\n",
    "df_state_2020 = df_state[mask]\n",
    "df_state_2020.head()"
   ]
  },
  {
   "cell_type": "code",
   "execution_count": 31,
   "metadata": {},
   "outputs": [
    {
     "data": {
      "text/html": [
       "<div>\n",
       "<style scoped>\n",
       "    .dataframe tbody tr th:only-of-type {\n",
       "        vertical-align: middle;\n",
       "    }\n",
       "\n",
       "    .dataframe tbody tr th {\n",
       "        vertical-align: top;\n",
       "    }\n",
       "\n",
       "    .dataframe thead th {\n",
       "        text-align: right;\n",
       "    }\n",
       "</style>\n",
       "<table border=\"1\" class=\"dataframe\">\n",
       "  <thead>\n",
       "    <tr style=\"text-align: right;\">\n",
       "      <th></th>\n",
       "      <th>State</th>\n",
       "      <th>Year</th>\n",
       "      <th>Month</th>\n",
       "      <th>Period</th>\n",
       "      <th>Indicator</th>\n",
       "      <th>Data Value</th>\n",
       "    </tr>\n",
       "  </thead>\n",
       "  <tbody>\n",
       "    <tr>\n",
       "      <th>90</th>\n",
       "      <td>ALABAMA</td>\n",
       "      <td>2019</td>\n",
       "      <td>January</td>\n",
       "      <td>Monthly</td>\n",
       "      <td>Number of Deaths</td>\n",
       "      <td>4904</td>\n",
       "    </tr>\n",
       "    <tr>\n",
       "      <th>91</th>\n",
       "      <td>ALASKA</td>\n",
       "      <td>2019</td>\n",
       "      <td>January</td>\n",
       "      <td>Monthly</td>\n",
       "      <td>Number of Deaths</td>\n",
       "      <td>417</td>\n",
       "    </tr>\n",
       "    <tr>\n",
       "      <th>92</th>\n",
       "      <td>ARIZONA</td>\n",
       "      <td>2019</td>\n",
       "      <td>January</td>\n",
       "      <td>Monthly</td>\n",
       "      <td>Number of Deaths</td>\n",
       "      <td>5655</td>\n",
       "    </tr>\n",
       "    <tr>\n",
       "      <th>93</th>\n",
       "      <td>ARKANSAS</td>\n",
       "      <td>2019</td>\n",
       "      <td>January</td>\n",
       "      <td>Monthly</td>\n",
       "      <td>Number of Deaths</td>\n",
       "      <td>2974</td>\n",
       "    </tr>\n",
       "    <tr>\n",
       "      <th>94</th>\n",
       "      <td>CALIFORNIA</td>\n",
       "      <td>2019</td>\n",
       "      <td>January</td>\n",
       "      <td>Monthly</td>\n",
       "      <td>Number of Deaths</td>\n",
       "      <td>24885</td>\n",
       "    </tr>\n",
       "  </tbody>\n",
       "</table>\n",
       "</div>"
      ],
      "text/plain": [
       "         State  Year    Month   Period         Indicator  Data Value\n",
       "90     ALABAMA  2019  January  Monthly  Number of Deaths        4904\n",
       "91      ALASKA  2019  January  Monthly  Number of Deaths         417\n",
       "92     ARIZONA  2019  January  Monthly  Number of Deaths        5655\n",
       "93    ARKANSAS  2019  January  Monthly  Number of Deaths        2974\n",
       "94  CALIFORNIA  2019  January  Monthly  Number of Deaths       24885"
      ]
     },
     "execution_count": 31,
     "metadata": {},
     "output_type": "execute_result"
    }
   ],
   "source": [
    "mask = df_state.Year == '2019'\n",
    "df_state_2019 = df_state[mask]\n",
    "df_state_2019.head()"
   ]
  },
  {
   "cell_type": "code",
   "execution_count": 32,
   "metadata": {},
   "outputs": [
    {
     "data": {
      "text/html": [
       "<div>\n",
       "<style scoped>\n",
       "    .dataframe tbody tr th:only-of-type {\n",
       "        vertical-align: middle;\n",
       "    }\n",
       "\n",
       "    .dataframe tbody tr th {\n",
       "        vertical-align: top;\n",
       "    }\n",
       "\n",
       "    .dataframe thead th {\n",
       "        text-align: right;\n",
       "    }\n",
       "</style>\n",
       "<table border=\"1\" class=\"dataframe\">\n",
       "  <thead>\n",
       "    <tr style=\"text-align: right;\">\n",
       "      <th></th>\n",
       "      <th>Year_x</th>\n",
       "      <th>State</th>\n",
       "      <th>Month</th>\n",
       "      <th>Data Value_x</th>\n",
       "      <th>Year_y</th>\n",
       "      <th>Data Value_y</th>\n",
       "      <th>percent</th>\n",
       "    </tr>\n",
       "  </thead>\n",
       "  <tbody>\n",
       "    <tr>\n",
       "      <th>52</th>\n",
       "      <td>2020</td>\n",
       "      <td>ALABAMA</td>\n",
       "      <td>February</td>\n",
       "      <td>4690</td>\n",
       "      <td>2019</td>\n",
       "      <td>4416</td>\n",
       "      <td>6.20</td>\n",
       "    </tr>\n",
       "    <tr>\n",
       "      <th>0</th>\n",
       "      <td>2020</td>\n",
       "      <td>ALABAMA</td>\n",
       "      <td>January</td>\n",
       "      <td>4799</td>\n",
       "      <td>2019</td>\n",
       "      <td>4904</td>\n",
       "      <td>-2.14</td>\n",
       "    </tr>\n",
       "    <tr>\n",
       "      <th>104</th>\n",
       "      <td>2020</td>\n",
       "      <td>ALABAMA</td>\n",
       "      <td>March</td>\n",
       "      <td>4804</td>\n",
       "      <td>2019</td>\n",
       "      <td>4765</td>\n",
       "      <td>0.82</td>\n",
       "    </tr>\n",
       "    <tr>\n",
       "      <th>53</th>\n",
       "      <td>2020</td>\n",
       "      <td>ALASKA</td>\n",
       "      <td>February</td>\n",
       "      <td>375</td>\n",
       "      <td>2019</td>\n",
       "      <td>373</td>\n",
       "      <td>0.54</td>\n",
       "    </tr>\n",
       "    <tr>\n",
       "      <th>1</th>\n",
       "      <td>2020</td>\n",
       "      <td>ALASKA</td>\n",
       "      <td>January</td>\n",
       "      <td>434</td>\n",
       "      <td>2019</td>\n",
       "      <td>417</td>\n",
       "      <td>4.08</td>\n",
       "    </tr>\n",
       "    <tr>\n",
       "      <th>105</th>\n",
       "      <td>2020</td>\n",
       "      <td>ALASKA</td>\n",
       "      <td>March</td>\n",
       "      <td>364</td>\n",
       "      <td>2019</td>\n",
       "      <td>420</td>\n",
       "      <td>-13.33</td>\n",
       "    </tr>\n",
       "    <tr>\n",
       "      <th>54</th>\n",
       "      <td>2020</td>\n",
       "      <td>ARIZONA</td>\n",
       "      <td>February</td>\n",
       "      <td>5375</td>\n",
       "      <td>2019</td>\n",
       "      <td>4841</td>\n",
       "      <td>11.03</td>\n",
       "    </tr>\n",
       "    <tr>\n",
       "      <th>2</th>\n",
       "      <td>2020</td>\n",
       "      <td>ARIZONA</td>\n",
       "      <td>January</td>\n",
       "      <td>5767</td>\n",
       "      <td>2019</td>\n",
       "      <td>5655</td>\n",
       "      <td>1.98</td>\n",
       "    </tr>\n",
       "    <tr>\n",
       "      <th>106</th>\n",
       "      <td>2020</td>\n",
       "      <td>ARIZONA</td>\n",
       "      <td>March</td>\n",
       "      <td>5848</td>\n",
       "      <td>2019</td>\n",
       "      <td>5484</td>\n",
       "      <td>6.64</td>\n",
       "    </tr>\n",
       "  </tbody>\n",
       "</table>\n",
       "</div>"
      ],
      "text/plain": [
       "    Year_x    State     Month  Data Value_x Year_y  Data Value_y  percent\n",
       "52    2020  ALABAMA  February          4690   2019          4416     6.20\n",
       "0     2020  ALABAMA   January          4799   2019          4904    -2.14\n",
       "104   2020  ALABAMA     March          4804   2019          4765     0.82\n",
       "53    2020   ALASKA  February           375   2019           373     0.54\n",
       "1     2020   ALASKA   January           434   2019           417     4.08\n",
       "105   2020   ALASKA     March           364   2019           420   -13.33\n",
       "54    2020  ARIZONA  February          5375   2019          4841    11.03\n",
       "2     2020  ARIZONA   January          5767   2019          5655     1.98\n",
       "106   2020  ARIZONA     March          5848   2019          5484     6.64"
      ]
     },
     "execution_count": 32,
     "metadata": {},
     "output_type": "execute_result"
    }
   ],
   "source": [
    "col_names = ['Year', 'State','Month', 'Data Value']\n",
    "df_states = pd.merge(df_state_2020[col_names], df_state_2019[col_names], how='left', on=['State','Month'])\n",
    "df_states['percent'] = round((df_states['Data Value_x']/df_states['Data Value_y'] -1) *100,2)\n",
    "df_states.sort_values(by=['State','Month'], inplace=True)\n",
    "df_states.head(9)"
   ]
  },
  {
   "cell_type": "code",
   "execution_count": 33,
   "metadata": {},
   "outputs": [
    {
     "name": "stdout",
     "output_type": "stream",
     "text": [
      "Statistics=1918.500, p=0.000, thereshold=0.110\n",
      "Different distribution (reject H0)\n"
     ]
    }
   ],
   "source": [
    "data1 = df_states['Data Value_x'].values\n",
    "data2 = df_states['Data Value_y'].values\n",
    "wilcoxon_test(data1,data2, alpha=0.11)"
   ]
  },
  {
   "cell_type": "code",
   "execution_count": 34,
   "metadata": {},
   "outputs": [
    {
     "data": {
      "text/html": [
       "<div>\n",
       "<style scoped>\n",
       "    .dataframe tbody tr th:only-of-type {\n",
       "        vertical-align: middle;\n",
       "    }\n",
       "\n",
       "    .dataframe tbody tr th {\n",
       "        vertical-align: top;\n",
       "    }\n",
       "\n",
       "    .dataframe thead th {\n",
       "        text-align: right;\n",
       "    }\n",
       "</style>\n",
       "<table border=\"1\" class=\"dataframe\">\n",
       "  <thead>\n",
       "    <tr style=\"text-align: right;\">\n",
       "      <th></th>\n",
       "      <th>Data Value_x</th>\n",
       "      <th>Data Value_y</th>\n",
       "    </tr>\n",
       "  </thead>\n",
       "  <tbody>\n",
       "    <tr>\n",
       "      <th>count</th>\n",
       "      <td>156.000000</td>\n",
       "      <td>156.000000</td>\n",
       "    </tr>\n",
       "    <tr>\n",
       "      <th>mean</th>\n",
       "      <td>5015.916667</td>\n",
       "      <td>4827.224359</td>\n",
       "    </tr>\n",
       "    <tr>\n",
       "      <th>std</th>\n",
       "      <td>5102.440011</td>\n",
       "      <td>4873.510146</td>\n",
       "    </tr>\n",
       "    <tr>\n",
       "      <th>min</th>\n",
       "      <td>364.000000</td>\n",
       "      <td>373.000000</td>\n",
       "    </tr>\n",
       "    <tr>\n",
       "      <th>25%</th>\n",
       "      <td>1369.000000</td>\n",
       "      <td>1399.750000</td>\n",
       "    </tr>\n",
       "    <tr>\n",
       "      <th>50%</th>\n",
       "      <td>3680.500000</td>\n",
       "      <td>3537.500000</td>\n",
       "    </tr>\n",
       "    <tr>\n",
       "      <th>75%</th>\n",
       "      <td>6070.000000</td>\n",
       "      <td>5828.000000</td>\n",
       "    </tr>\n",
       "    <tr>\n",
       "      <th>max</th>\n",
       "      <td>25624.000000</td>\n",
       "      <td>24885.000000</td>\n",
       "    </tr>\n",
       "  </tbody>\n",
       "</table>\n",
       "</div>"
      ],
      "text/plain": [
       "       Data Value_x  Data Value_y\n",
       "count    156.000000    156.000000\n",
       "mean    5015.916667   4827.224359\n",
       "std     5102.440011   4873.510146\n",
       "min      364.000000    373.000000\n",
       "25%     1369.000000   1399.750000\n",
       "50%     3680.500000   3537.500000\n",
       "75%     6070.000000   5828.000000\n",
       "max    25624.000000  24885.000000"
      ]
     },
     "execution_count": 34,
     "metadata": {},
     "output_type": "execute_result"
    }
   ],
   "source": [
    "df_states[['Data Value_x','Data Value_y']].describe()"
   ]
  },
  {
   "cell_type": "code",
   "execution_count": 35,
   "metadata": {},
   "outputs": [
    {
     "name": "stdout",
     "output_type": "stream",
     "text": [
      "Statistics=1918.500, p=0.000, thereshold=0.110\n",
      "Different distribution (reject H0)\n"
     ]
    }
   ],
   "source": [
    "data1 = df_states['Data Value_x'].values\n",
    "data2 = df_states['Data Value_y'].values\n",
    "wilcoxon_test(data1,data2, alpha=0.11)"
   ]
  },
  {
   "cell_type": "code",
   "execution_count": 36,
   "metadata": {},
   "outputs": [
    {
     "name": "stdout",
     "output_type": "stream",
     "text": [
      "<class 'pandas.core.frame.DataFrame'>\n",
      "Int64Index: 3 entries, 0 to 2\n",
      "Data columns (total 6 columns):\n",
      "Year_x          3 non-null object\n",
      "Month           3 non-null object\n",
      "Data Value_x    3 non-null int64\n",
      "Year_y          3 non-null object\n",
      "Data Value_y    3 non-null int64\n",
      "percent         3 non-null float64\n",
      "dtypes: float64(1), int64(2), object(3)\n",
      "memory usage: 168.0+ bytes\n"
     ]
    }
   ],
   "source": [
    "df.info()"
   ]
  },
  {
   "cell_type": "code",
   "execution_count": 37,
   "metadata": {},
   "outputs": [
    {
     "data": {
      "text/html": [
       "<div>\n",
       "<style scoped>\n",
       "    .dataframe tbody tr th:only-of-type {\n",
       "        vertical-align: middle;\n",
       "    }\n",
       "\n",
       "    .dataframe tbody tr th {\n",
       "        vertical-align: top;\n",
       "    }\n",
       "\n",
       "    .dataframe thead th {\n",
       "        text-align: right;\n",
       "    }\n",
       "</style>\n",
       "<table border=\"1\" class=\"dataframe\">\n",
       "  <thead>\n",
       "    <tr style=\"text-align: right;\">\n",
       "      <th></th>\n",
       "      <th>Year_x</th>\n",
       "      <th>Month</th>\n",
       "      <th>Data Value_x</th>\n",
       "      <th>Year_y</th>\n",
       "      <th>Data Value_y</th>\n",
       "      <th>percent</th>\n",
       "    </tr>\n",
       "  </thead>\n",
       "  <tbody>\n",
       "    <tr>\n",
       "      <th>count</th>\n",
       "      <td>3</td>\n",
       "      <td>3</td>\n",
       "      <td>3.000000</td>\n",
       "      <td>3</td>\n",
       "      <td>3.000000</td>\n",
       "      <td>3.000000</td>\n",
       "    </tr>\n",
       "    <tr>\n",
       "      <th>unique</th>\n",
       "      <td>1</td>\n",
       "      <td>3</td>\n",
       "      <td>NaN</td>\n",
       "      <td>1</td>\n",
       "      <td>NaN</td>\n",
       "      <td>NaN</td>\n",
       "    </tr>\n",
       "    <tr>\n",
       "      <th>top</th>\n",
       "      <td>2020</td>\n",
       "      <td>February</td>\n",
       "      <td>NaN</td>\n",
       "      <td>2019</td>\n",
       "      <td>NaN</td>\n",
       "      <td>NaN</td>\n",
       "    </tr>\n",
       "    <tr>\n",
       "      <th>freq</th>\n",
       "      <td>3</td>\n",
       "      <td>1</td>\n",
       "      <td>NaN</td>\n",
       "      <td>3</td>\n",
       "      <td>NaN</td>\n",
       "      <td>NaN</td>\n",
       "    </tr>\n",
       "    <tr>\n",
       "      <th>mean</th>\n",
       "      <td>NaN</td>\n",
       "      <td>NaN</td>\n",
       "      <td>258000.000000</td>\n",
       "      <td>NaN</td>\n",
       "      <td>248666.666667</td>\n",
       "      <td>3.776667</td>\n",
       "    </tr>\n",
       "    <tr>\n",
       "      <th>std</th>\n",
       "      <td>NaN</td>\n",
       "      <td>NaN</td>\n",
       "      <td>13228.756555</td>\n",
       "      <td>NaN</td>\n",
       "      <td>13650.396820</td>\n",
       "      <td>1.641351</td>\n",
       "    </tr>\n",
       "    <tr>\n",
       "      <th>min</th>\n",
       "      <td>NaN</td>\n",
       "      <td>NaN</td>\n",
       "      <td>243000.000000</td>\n",
       "      <td>NaN</td>\n",
       "      <td>233000.000000</td>\n",
       "      <td>1.940000</td>\n",
       "    </tr>\n",
       "    <tr>\n",
       "      <th>25%</th>\n",
       "      <td>NaN</td>\n",
       "      <td>NaN</td>\n",
       "      <td>253000.000000</td>\n",
       "      <td>NaN</td>\n",
       "      <td>244000.000000</td>\n",
       "      <td>3.115000</td>\n",
       "    </tr>\n",
       "    <tr>\n",
       "      <th>50%</th>\n",
       "      <td>NaN</td>\n",
       "      <td>NaN</td>\n",
       "      <td>263000.000000</td>\n",
       "      <td>NaN</td>\n",
       "      <td>255000.000000</td>\n",
       "      <td>4.290000</td>\n",
       "    </tr>\n",
       "    <tr>\n",
       "      <th>75%</th>\n",
       "      <td>NaN</td>\n",
       "      <td>NaN</td>\n",
       "      <td>265500.000000</td>\n",
       "      <td>NaN</td>\n",
       "      <td>256500.000000</td>\n",
       "      <td>4.695000</td>\n",
       "    </tr>\n",
       "    <tr>\n",
       "      <th>max</th>\n",
       "      <td>NaN</td>\n",
       "      <td>NaN</td>\n",
       "      <td>268000.000000</td>\n",
       "      <td>NaN</td>\n",
       "      <td>258000.000000</td>\n",
       "      <td>5.100000</td>\n",
       "    </tr>\n",
       "  </tbody>\n",
       "</table>\n",
       "</div>"
      ],
      "text/plain": [
       "       Year_x     Month   Data Value_x Year_y   Data Value_y   percent\n",
       "count       3         3       3.000000      3       3.000000  3.000000\n",
       "unique      1         3            NaN      1            NaN       NaN\n",
       "top      2020  February            NaN   2019            NaN       NaN\n",
       "freq        3         1            NaN      3            NaN       NaN\n",
       "mean      NaN       NaN  258000.000000    NaN  248666.666667  3.776667\n",
       "std       NaN       NaN   13228.756555    NaN   13650.396820  1.641351\n",
       "min       NaN       NaN  243000.000000    NaN  233000.000000  1.940000\n",
       "25%       NaN       NaN  253000.000000    NaN  244000.000000  3.115000\n",
       "50%       NaN       NaN  263000.000000    NaN  255000.000000  4.290000\n",
       "75%       NaN       NaN  265500.000000    NaN  256500.000000  4.695000\n",
       "max       NaN       NaN  268000.000000    NaN  258000.000000  5.100000"
      ]
     },
     "execution_count": 37,
     "metadata": {},
     "output_type": "execute_result"
    }
   ],
   "source": [
    "df.describe(include='all')"
   ]
  },
  {
   "cell_type": "code",
   "execution_count": 7,
   "metadata": {},
   "outputs": [
    {
     "data": {
      "text/plain": [
       "array([ 0,  0,  0,  1,  1,  1,  1,  1,  1,  2,  2,  4,  6,  6,  8, 11, 18,\n",
       "       20, 22])"
      ]
     },
     "execution_count": 7,
     "metadata": {},
     "output_type": "execute_result"
    }
   ],
   "source": [
    "data1 = [24,12,42,30,40,55,50,52,50,22,33,78,79,25,28,16,17,12,25]\n",
    "data2 = [22,12,41,31,32,44,50,32,32,21,34,56,78,23,22,12,16,18,25]\n",
    "arr = []\n",
    "for i in range(len(data1)):\n",
    "    diff = data1[i] - data2[i]\n",
    "    diff_module = abs(diff)\n",
    "    arr.append(diff_module)\n",
    "arr.sort()\n",
    "arr = np.array(arr)    \n",
    "arr"
   ]
  },
  {
   "cell_type": "code",
   "execution_count": 9,
   "metadata": {},
   "outputs": [],
   "source": [
    "arr = np.ravel(np.asarray(arr))\n",
    "algo = 'quicksort'\n",
    "sorter = np.argsort(arr, kind=algo)\n"
   ]
  },
  {
   "cell_type": "code",
   "execution_count": 10,
   "metadata": {},
   "outputs": [
    {
     "data": {
      "text/plain": [
       "array([ 0,  1,  2,  3,  4,  5,  6,  7,  8, 10,  9, 11, 12, 13, 14, 15, 16,\n",
       "       17, 18])"
      ]
     },
     "execution_count": 10,
     "metadata": {},
     "output_type": "execute_result"
    }
   ],
   "source": [
    "sorter"
   ]
  },
  {
   "cell_type": "code",
   "execution_count": 12,
   "metadata": {},
   "outputs": [
    {
     "data": {
      "text/plain": [
       "array([ 0,  1,  2,  3,  4,  5,  6,  7,  8, 10,  9, 11, 12, 13, 14, 15, 16,\n",
       "       17, 18])"
      ]
     },
     "execution_count": 12,
     "metadata": {},
     "output_type": "execute_result"
    }
   ],
   "source": [
    "inv = np.empty(sorter.size, dtype=np.intp)\n",
    "inv[sorter] = np.arange(sorter.size, dtype=np.intp)\n",
    "inv"
   ]
  },
  {
   "cell_type": "code",
   "execution_count": 16,
   "metadata": {},
   "outputs": [
    {
     "data": {
      "text/plain": [
       "array([ 0,  0,  0,  1,  1,  1,  1,  1,  1,  2,  2,  4,  6,  6,  8, 11, 18,\n",
       "       20, 22])"
      ]
     },
     "execution_count": 16,
     "metadata": {},
     "output_type": "execute_result"
    }
   ],
   "source": [
    "arr = arr[sorter]\n",
    "arr"
   ]
  },
  {
   "cell_type": "code",
   "execution_count": 18,
   "metadata": {},
   "outputs": [
    {
     "data": {
      "text/plain": [
       "array([ True, False, False,  True, False, False, False, False, False,\n",
       "        True, False,  True,  True, False,  True,  True,  True,  True,\n",
       "        True])"
      ]
     },
     "execution_count": 18,
     "metadata": {},
     "output_type": "execute_result"
    }
   ],
   "source": [
    "obs = np.r_[True, arr[1:] != arr[:-1]]\n",
    "obs\n"
   ]
  },
  {
   "cell_type": "code",
   "execution_count": 19,
   "metadata": {},
   "outputs": [
    {
     "data": {
      "text/plain": [
       "numpy.ndarray"
      ]
     },
     "execution_count": 19,
     "metadata": {},
     "output_type": "execute_result"
    }
   ],
   "source": []
  },
  {
   "cell_type": "code",
   "execution_count": 20,
   "metadata": {},
   "outputs": [
    {
     "data": {
      "text/plain": [
       "array([ 1,  1,  1,  2,  2,  2,  2,  2,  2,  3,  3,  4,  5,  5,  6,  7,  8,\n",
       "        9, 10])"
      ]
     },
     "execution_count": 20,
     "metadata": {},
     "output_type": "execute_result"
    }
   ],
   "source": [
    "dense = obs.cumsum()[inv]\n",
    "dense"
   ]
  },
  {
   "cell_type": "code",
   "execution_count": 21,
   "metadata": {},
   "outputs": [
    {
     "data": {
      "text/plain": [
       "array([ 0,  3,  9, 11, 12, 14, 15, 16, 17, 18, 19])"
      ]
     },
     "execution_count": 21,
     "metadata": {},
     "output_type": "execute_result"
    }
   ],
   "source": [
    "count = np.r_[np.nonzero(obs)[0], len(obs)]\n",
    "count"
   ]
  },
  {
   "cell_type": "code",
   "execution_count": 23,
   "metadata": {},
   "outputs": [
    {
     "data": {
      "text/plain": [
       "array([ 2. ,  2. ,  2. ,  6.5,  6.5,  6.5,  6.5,  6.5,  6.5, 10.5, 10.5,\n",
       "       12. , 13.5, 13.5, 15. , 16. , 17. , 18. , 19. ])"
      ]
     },
     "execution_count": 23,
     "metadata": {},
     "output_type": "execute_result"
    }
   ],
   "source": [
    "(count[dense] + count[dense - 1] + 1)/2"
   ]
  },
  {
   "cell_type": "code",
   "execution_count": 98,
   "metadata": {},
   "outputs": [],
   "source": [
    "arr.sort()\n",
    "start_id = 0\n",
    "elem = arr[0]\n",
    "range_dict = {}\n",
    "for i in range(len(arr)):\n",
    "    if elem != arr[i]:\n",
    "        range_dict[elem] = (start_id + i + 1)/2\n",
    "        start_id = i\n",
    "        elem = arr[i]\n",
    "    if i == len(arr) - 1:\n",
    "        elem = arr[i]\n",
    "        range_dict[elem] = (start_id + i) / 2 + 1"
   ]
  },
  {
   "cell_type": "code",
   "execution_count": 75,
   "metadata": {},
   "outputs": [],
   "source": [
    "# reiting = []\n",
    "# for i in range(len(data1)):\n",
    "#     diff = data1[i] - data2[i]\n",
    "#     diff_module = abs(diff)\n",
    "#     v = range_dict[diff_module]\n",
    "#     reiting.append(v)\n",
    "# reiting    "
   ]
  },
  {
   "cell_type": "code",
   "execution_count": 100,
   "metadata": {},
   "outputs": [
    {
     "data": {
      "text/plain": [
       "1.3444279939870498"
      ]
     },
     "execution_count": 100,
     "metadata": {},
     "output_type": "execute_result"
    }
   ],
   "source": [
    "r_plus = 0 \n",
    "r_minus = 0\n",
    "n = 0\n",
    "for i in range(len(data1)):\n",
    "    diff = data1[i] - data2[i]\n",
    "    diff_module = abs(diff)\n",
    "    if diff_module >0:\n",
    "        n += 1\n",
    "    try:    \n",
    "        if diff > 0 :\n",
    "            r_plus += range_dict[diff_module]*diff_module\n",
    "        elif diff < 0:\n",
    "            r_minus += range_dict[diff_module]*diff_module\n",
    "    except:\n",
    "        print('diff_module= {}'.format(diff_module))\n",
    "\n",
    "T = min(r_plus, r_minus)#w        \n",
    "\n",
    "mn = n *(n +1)/4        #mw\n",
    "se = n * (n +1) * (2*n +1)/24 #dw\n",
    "z = (T -mn)/math.sqrt(se)\n",
    "z"
   ]
  },
  {
   "cell_type": "code",
   "execution_count": 101,
   "metadata": {},
   "outputs": [
    {
     "data": {
      "text/plain": [
       "0.17881002646274535"
      ]
     },
     "execution_count": 101,
     "metadata": {},
     "output_type": "execute_result"
    }
   ],
   "source": [
    "prob = 2. * distributions.norm.sf(abs(z))\n",
    "prob"
   ]
  },
  {
   "cell_type": "code",
   "execution_count": 102,
   "metadata": {},
   "outputs": [
    {
     "data": {
      "text/plain": [
       "94.0"
      ]
     },
     "execution_count": 102,
     "metadata": {},
     "output_type": "execute_result"
    }
   ],
   "source": [
    "T"
   ]
  },
  {
   "cell_type": "code",
   "execution_count": 103,
   "metadata": {},
   "outputs": [
    {
     "name": "stdout",
     "output_type": "stream",
     "text": [
      "Statistics=17.500, p=0.009, thereshold=0.100\n",
      "Different distribution (reject H0)\n"
     ]
    }
   ],
   "source": [
    "wilcoxon_test(data1, data2, alpha=0.1)"
   ]
  },
  {
   "cell_type": "code",
   "execution_count": 88,
   "metadata": {},
   "outputs": [
    {
     "data": {
      "text/plain": [
       "WilcoxonResult(statistic=17.5, pvalue=0.008599204710374191)"
      ]
     },
     "execution_count": 88,
     "metadata": {},
     "output_type": "execute_result"
    }
   ],
   "source": [
    "wilcoxon(data1, data2)"
   ]
  },
  {
   "cell_type": "code",
   "execution_count": 70,
   "metadata": {},
   "outputs": [],
   "source": [
    "from scipy.stats import distributions"
   ]
  },
  {
   "cell_type": "code",
   "execution_count": 72,
   "metadata": {},
   "outputs": [
    {
     "data": {
      "text/plain": [
       "0.06640776501248748"
      ]
     },
     "execution_count": 72,
     "metadata": {},
     "output_type": "execute_result"
    }
   ],
   "source": [
    "prob = 2. * distributions.norm.sf(abs(z))\n",
    "prob"
   ]
  },
  {
   "cell_type": "code",
   "execution_count": 251,
   "metadata": {},
   "outputs": [
    {
     "data": {
      "text/plain": [
       "{1: 1.5, 2: 4.0, 4: 6.0}"
      ]
     },
     "execution_count": 251,
     "metadata": {},
     "output_type": "execute_result"
    }
   ],
   "source": [
    "range_dict"
   ]
  },
  {
   "cell_type": "code",
   "execution_count": 242,
   "metadata": {},
   "outputs": [
    {
     "data": {
      "text/plain": [
       "{4: 1, 1: 2, 2: 2}"
      ]
     },
     "execution_count": 242,
     "metadata": {},
     "output_type": "execute_result"
    }
   ],
   "source": [
    "d"
   ]
  },
  {
   "cell_type": "code",
   "execution_count": 309,
   "metadata": {},
   "outputs": [],
   "source": [
    "\n",
    "    "
   ]
  },
  {
   "cell_type": "code",
   "execution_count": 311,
   "metadata": {},
   "outputs": [
    {
     "data": {
      "text/plain": [
       "[2, 2, 3, 4, 6, 7, 7, 9]"
      ]
     },
     "execution_count": 311,
     "metadata": {},
     "output_type": "execute_result"
    }
   ],
   "source": [
    "arr"
   ]
  },
  {
   "cell_type": "code",
   "execution_count": 195,
   "metadata": {},
   "outputs": [
    {
     "data": {
      "text/plain": [
       "2686"
      ]
     },
     "execution_count": 195,
     "metadata": {},
     "output_type": "execute_result"
    }
   ],
   "source": [
    "w"
   ]
  },
  {
   "cell_type": "code",
   "execution_count": 197,
   "metadata": {},
   "outputs": [
    {
     "data": {
      "text/plain": [
       "6045.0"
      ]
     },
     "execution_count": 197,
     "metadata": {},
     "output_type": "execute_result"
    }
   ],
   "source": [
    "mw"
   ]
  },
  {
   "cell_type": "code",
   "execution_count": 212,
   "metadata": {},
   "outputs": [
    {
     "data": {
      "text/plain": [
       "313332.5"
      ]
     },
     "execution_count": 212,
     "metadata": {},
     "output_type": "execute_result"
    }
   ],
   "source": [
    "dw"
   ]
  },
  {
   "cell_type": "code",
   "execution_count": 205,
   "metadata": {},
   "outputs": [
    {
     "data": {
      "text/plain": [
       "-6.000774154243814"
      ]
     },
     "execution_count": 205,
     "metadata": {},
     "output_type": "execute_result"
    }
   ],
   "source": [
    "z"
   ]
  }
 ],
 "metadata": {
  "kernelspec": {
   "display_name": "Python 3",
   "language": "python",
   "name": "python3"
  },
  "language_info": {
   "codemirror_mode": {
    "name": "ipython",
    "version": 3
   },
   "file_extension": ".py",
   "mimetype": "text/x-python",
   "name": "python",
   "nbconvert_exporter": "python",
   "pygments_lexer": "ipython3",
   "version": "3.6.10"
  }
 },
 "nbformat": 4,
 "nbformat_minor": 1
}
