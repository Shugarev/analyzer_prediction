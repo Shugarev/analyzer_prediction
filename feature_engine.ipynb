{
 "cells": [
  {
   "cell_type": "code",
   "execution_count": 31,
   "metadata": {},
   "outputs": [],
   "source": [
    "import pandas as pd\n",
    "from sklearn.datasets import make_classification\n",
    "from feature_engine.selection import DropCorrelatedFeatures\n",
    "\n",
    "# make dataframe with some correlated variables\n",
    "def make_data():\n",
    "    X, y = make_classification(n_samples=1000,\n",
    "                           n_features=12,\n",
    "                           n_redundant=4,\n",
    "                           n_clusters_per_class=1,\n",
    "                           weights=[0.50],\n",
    "                           class_sep=2,\n",
    "                           random_state=1)\n",
    "\n",
    "    # trasform arrays into pandas df and series\n",
    "    colnames = ['var_'+str(i) for i in range(12)]\n",
    "    X = pd.DataFrame(X, columns =colnames)\n",
    "    return X\n",
    "\n",
    "X = make_data()"
   ]
  },
  {
   "cell_type": "code",
   "execution_count": 32,
   "metadata": {},
   "outputs": [
    {
     "data": {
      "text/plain": [
       "[{'var_4', 'var_6', 'var_9'}]"
      ]
     },
     "execution_count": 32,
     "metadata": {},
     "output_type": "execute_result"
    }
   ],
   "source": [
    "tr = DropCorrelatedFeatures(variables=None, method='pearson', threshold=0.98)\n",
    "Xt = tr.fit_transform(X)\n",
    "tr.correlated_feature_sets_"
   ]
  },
  {
   "cell_type": "code",
   "execution_count": 33,
   "metadata": {},
   "outputs": [],
   "source": [
    "import pandas as pd\n",
    "from sklearn.datasets import make_classification\n",
    "from feature_engine.selection import SmartCorrelatedSelection\n",
    "\n",
    "# make dataframe with some correlated variables\n",
    "def make_data():\n",
    "    X, y = make_classification(n_samples=1000,\n",
    "                               n_features=12,\n",
    "                               n_redundant=4,\n",
    "                               n_clusters_per_class=1,\n",
    "                               weights=[0.50],\n",
    "                               class_sep=2,\n",
    "                               random_state=1)\n",
    "\n",
    "    # trasform arrays into pandas df and series\n",
    "    colnames = ['var_'+str(i) for i in range(12)]\n",
    "    X = pd.DataFrame(X, columns=colnames)\n",
    "    return X\n",
    "\n",
    "X = make_data()"
   ]
  },
  {
   "cell_type": "code",
   "execution_count": 34,
   "metadata": {},
   "outputs": [
    {
     "data": {
      "text/plain": [
       "[{'var_0', 'var_8'}, {'var_4', 'var_6', 'var_7', 'var_9'}]"
      ]
     },
     "execution_count": 34,
     "metadata": {},
     "output_type": "execute_result"
    }
   ],
   "source": [
    "# set up the selector\n",
    "tr = SmartCorrelatedSelection(\n",
    "    variables=None,\n",
    "    method=\"pearson\",\n",
    "    threshold=0.8,\n",
    "    missing_values=\"raise\",\n",
    "    selection_method=\"variance\",\n",
    "    estimator=None,\n",
    ")\n",
    "\n",
    "Xt = tr.fit_transform(X)\n",
    "\n",
    "tr.correlated_feature_sets_"
   ]
  },
  {
   "cell_type": "code",
   "execution_count": 35,
   "metadata": {},
   "outputs": [
    {
     "data": {
      "text/plain": [
       "['var_0', 'var_4', 'var_6', 'var_9']"
      ]
     },
     "execution_count": 35,
     "metadata": {},
     "output_type": "execute_result"
    }
   ],
   "source": [
    "tr.features_to_drop_"
   ]
  },
  {
   "cell_type": "code",
   "execution_count": 36,
   "metadata": {},
   "outputs": [
    {
     "name": "stdout",
     "output_type": "stream",
     "text": [
      "      var_1     var_2     var_3     var_5     var_7     var_8    var_10  \\\n",
      "0 -2.376400 -0.247208  1.210290  0.091527 -2.230170  2.070483  2.070526   \n",
      "1  1.969326 -0.126894  0.034598 -0.186802 -1.447490  2.421477  1.184820   \n",
      "2  1.499174  0.334123 -2.233844 -0.313881 -2.240741  2.263546 -0.066448   \n",
      "3  0.075341  1.627132  0.943132 -0.468041 -3.534861  2.792500  0.713558   \n",
      "4  0.372213  0.338141  0.951526  0.729005 -2.053965  2.186741  0.398790   \n",
      "\n",
      "     var_11  \n",
      "0 -1.989335  \n",
      "1 -1.309524  \n",
      "2 -0.852703  \n",
      "3  0.484649  \n",
      "4 -0.186530  \n",
      "None\n"
     ]
    }
   ],
   "source": [
    "print(print(Xt.head()))"
   ]
  }
 ],
 "metadata": {
  "kernelspec": {
   "display_name": "Python 3",
   "language": "python",
   "name": "python3"
  },
  "language_info": {
   "codemirror_mode": {
    "name": "ipython",
    "version": 3
   },
   "file_extension": ".py",
   "mimetype": "text/x-python",
   "name": "python",
   "nbconvert_exporter": "python",
   "pygments_lexer": "ipython3",
   "version": "3.7.6"
  }
 },
 "nbformat": 4,
 "nbformat_minor": 4
}
