{
 "cells": [
  {
   "cell_type": "code",
   "execution_count": 81,
   "metadata": {},
   "outputs": [],
   "source": [
    "import os\n",
    "import re\n",
    "import numpy as np\n",
    "import pandas as pd\n",
    "pd.set_option('display.max_colwidth', -1)\n",
    "pd.set_option('display.max_rows', None)\n",
    "pd.set_option('display.max_columns',120)"
   ]
  },
  {
   "cell_type": "code",
   "execution_count": 120,
   "metadata": {},
   "outputs": [],
   "source": [
    "from find_problem_lines import show_problem_lines_v2\n",
    "from helper import get_count_line\n",
    "from statistic import Statistic"
   ]
  },
  {
   "cell_type": "code",
   "execution_count": 23,
   "metadata": {},
   "outputs": [],
   "source": [
    "input_file = '/mnt/files/workdata/work/tu-tu/data_json_logs/07-logs/orders_info.csv'"
   ]
  },
  {
   "cell_type": "code",
   "execution_count": 24,
   "metadata": {},
   "outputs": [
    {
     "name": "stdout",
     "output_type": "stream",
     "text": [
      "<_io.TextIOWrapper name='/mnt/files/workdata/work/tu-tu/data_json_logs/07-logs/orders_info.csv' mode='r' encoding='UTF-8'>\n"
     ]
    }
   ],
   "source": [
    "with open(input_file) as f:\n",
    "   print(f) # Просмотр основной кодировки файла, показывает не корректную кодировку"
   ]
  },
  {
   "cell_type": "code",
   "execution_count": 26,
   "metadata": {},
   "outputs": [
    {
     "data": {
      "text/plain": [
       "'4294'"
      ]
     },
     "execution_count": 26,
     "metadata": {},
     "output_type": "execute_result"
    }
   ],
   "source": [
    "n_line = get_count_line(input_file)\n",
    "n_line"
   ]
  },
  {
   "cell_type": "code",
   "execution_count": 29,
   "metadata": {},
   "outputs": [],
   "source": [
    "encodings = ['iso2022_jp_2','cp1251', 'utf-8']\n",
    "encoding = encodings[1]\n",
    "df = pd.read_csv(input_file, dtype=str, keep_default_na=False, encoding=encoding) # Чтение файла в кодирровке ср1251"
   ]
  },
  {
   "cell_type": "code",
   "execution_count": 186,
   "metadata": {},
   "outputs": [
    {
     "data": {
      "text/plain": [
       "4293"
      ]
     },
     "execution_count": 186,
     "metadata": {},
     "output_type": "execute_result"
    }
   ],
   "source": [
    "df.shape[0]"
   ]
  },
  {
   "cell_type": "code",
   "execution_count": 188,
   "metadata": {},
   "outputs": [
    {
     "data": {
      "text/plain": [
       "array(['NA', 'РѕС‚РєР°Р·'], dtype=object)"
      ]
     },
     "execution_count": 188,
     "metadata": {},
     "output_type": "execute_result"
    }
   ],
   "source": [
    "df.classification.values[609:611]"
   ]
  },
  {
   "cell_type": "code",
   "execution_count": 189,
   "metadata": {},
   "outputs": [],
   "source": [
    "df_python = pd.read_csv(input_file, keep_default_na=False, engine='python', sep=',', quotechar='\"', error_bad_lines=False)\n",
    "# Флаги для коректного отображения-чтения кирилических символов"
   ]
  },
  {
   "cell_type": "code",
   "execution_count": 37,
   "metadata": {},
   "outputs": [
    {
     "data": {
      "text/plain": [
       "4293"
      ]
     },
     "execution_count": 37,
     "metadata": {},
     "output_type": "execute_result"
    }
   ],
   "source": [
    "df_python.shape[0]"
   ]
  },
  {
   "cell_type": "code",
   "execution_count": 190,
   "metadata": {},
   "outputs": [
    {
     "data": {
      "text/plain": [
       "array(['NA', 'отказ'], dtype=object)"
      ]
     },
     "execution_count": 190,
     "metadata": {},
     "output_type": "execute_result"
    }
   ],
   "source": [
    "df_python.classification.values[609:611]"
   ]
  },
  {
   "cell_type": "code",
   "execution_count": 191,
   "metadata": {},
   "outputs": [],
   "source": [
    "df_python_sub = df_python[df_python.classification.apply(lambda x: bool(re.search('отказ', x)))]# Фильтрация кирилических символов"
   ]
  },
  {
   "cell_type": "code",
   "execution_count": 193,
   "metadata": {},
   "outputs": [
    {
     "data": {
      "text/html": [
       "<div>\n",
       "<style scoped>\n",
       "    .dataframe tbody tr th:only-of-type {\n",
       "        vertical-align: middle;\n",
       "    }\n",
       "\n",
       "    .dataframe tbody tr th {\n",
       "        vertical-align: top;\n",
       "    }\n",
       "\n",
       "    .dataframe thead th {\n",
       "        text-align: right;\n",
       "    }\n",
       "</style>\n",
       "<table border=\"1\" class=\"dataframe\">\n",
       "  <thead>\n",
       "    <tr style=\"text-align: right;\">\n",
       "      <th></th>\n",
       "      <th>id</th>\n",
       "      <th>status</th>\n",
       "      <th>card_masked</th>\n",
       "      <th>amount</th>\n",
       "      <th>date</th>\n",
       "      <th>card_type</th>\n",
       "      <th>issuer_country</th>\n",
       "      <th>email</th>\n",
       "      <th>ip</th>\n",
       "      <th>country</th>\n",
       "      <th>cardholder</th>\n",
       "      <th>bank_name</th>\n",
       "      <th>bin</th>\n",
       "      <th>card_subtype</th>\n",
       "      <th>city</th>\n",
       "      <th>country_code3</th>\n",
       "      <th>latitude</th>\n",
       "      <th>longitude</th>\n",
       "      <th>region_name</th>\n",
       "      <th>is_in_log</th>\n",
       "      <th>timestamp</th>\n",
       "      <th>user_agent</th>\n",
       "      <th>time</th>\n",
       "      <th>ua_family</th>\n",
       "      <th>ua_major</th>\n",
       "      <th>ua_minor</th>\n",
       "      <th>os_family</th>\n",
       "      <th>os_major</th>\n",
       "      <th>os_minor</th>\n",
       "      <th>os_patch</th>\n",
       "      <th>device_family</th>\n",
       "      <th>device_brand</th>\n",
       "      <th>device_model</th>\n",
       "      <th>ua_patch</th>\n",
       "      <th>if_use_mobile</th>\n",
       "      <th>classification</th>\n",
       "      <th>classification1</th>\n",
       "      <th>http_referrer</th>\n",
       "      <th>request_uri</th>\n",
       "    </tr>\n",
       "  </thead>\n",
       "  <tbody>\n",
       "    <tr>\n",
       "      <th>10</th>\n",
       "      <td>36345638334388108</td>\n",
       "      <td>new</td>\n",
       "      <td>NA**NA</td>\n",
       "      <td>27573.70</td>\n",
       "      <td>2018-04-17 08:32:29</td>\n",
       "      <td>NA</td>\n",
       "      <td>NA</td>\n",
       "      <td>tatianatv1982.ivanova@yandex.ru</td>\n",
       "      <td>NA</td>\n",
       "      <td>NA</td>\n",
       "      <td>NA</td>\n",
       "      <td>undefined</td>\n",
       "      <td>undefined</td>\n",
       "      <td>undefined</td>\n",
       "      <td>undefined</td>\n",
       "      <td>undefined</td>\n",
       "      <td>undefined</td>\n",
       "      <td>undefined</td>\n",
       "      <td>undefined</td>\n",
       "      <td>1</td>\n",
       "      <td>2018-04-17T05:32:32.030Z</td>\n",
       "      <td>\"Mozilla/5.0 (Linux; Android 6.0; ZTE BLADE A510 Build/MRA58K; wv) AppleWebKit/537.36 (KHTML, like Gecko) Version/4.0 Chrome/65.0.3325.109 Mobile Safari/537.36\"</td>\n",
       "      <td>2018-04-17 05:32:32</td>\n",
       "      <td>Chrome Mobile</td>\n",
       "      <td>65</td>\n",
       "      <td>0</td>\n",
       "      <td>Android</td>\n",
       "      <td>6</td>\n",
       "      <td>0</td>\n",
       "      <td>NA</td>\n",
       "      <td>ZTE BLADE A510</td>\n",
       "      <td>ZTE</td>\n",
       "      <td>BLADE A510</td>\n",
       "      <td>3325</td>\n",
       "      <td>mobile</td>\n",
       "      <td>отказ</td>\n",
       "      <td>1 get 200</td>\n",
       "      <td>https://m.tutu.ru/poezda/order/final/?result_id=5f0d374f</td>\n",
       "      <td>/pay/36345638334388108</td>\n",
       "    </tr>\n",
       "    <tr>\n",
       "      <th>68</th>\n",
       "      <td>36333627647022938</td>\n",
       "      <td>new</td>\n",
       "      <td>NA**NA</td>\n",
       "      <td>1572.31</td>\n",
       "      <td>2018-04-16 19:30:32</td>\n",
       "      <td>NA</td>\n",
       "      <td>NA</td>\n",
       "      <td>basova@tutu.ru</td>\n",
       "      <td>NA</td>\n",
       "      <td>NA</td>\n",
       "      <td>NA</td>\n",
       "      <td>undefined</td>\n",
       "      <td>undefined</td>\n",
       "      <td>undefined</td>\n",
       "      <td>undefined</td>\n",
       "      <td>undefined</td>\n",
       "      <td>undefined</td>\n",
       "      <td>undefined</td>\n",
       "      <td>undefined</td>\n",
       "      <td>1</td>\n",
       "      <td>2018-04-16T16:30:34.419Z</td>\n",
       "      <td>\"Mozilla/5.0 (iPhone; CPU iPhone OS 10_3_3 like Mac OS X) AppleWebKit/603.3.8 (KHTML, like Gecko) Mobile/14G60\"</td>\n",
       "      <td>2018-04-16 16:30:34</td>\n",
       "      <td>Mobile Safari UI/WKWebView</td>\n",
       "      <td>10</td>\n",
       "      <td>3</td>\n",
       "      <td>iOS</td>\n",
       "      <td>10</td>\n",
       "      <td>3</td>\n",
       "      <td>3</td>\n",
       "      <td>iPhone</td>\n",
       "      <td>Apple</td>\n",
       "      <td>iPhone</td>\n",
       "      <td>3</td>\n",
       "      <td>NA</td>\n",
       "      <td>отказ</td>\n",
       "      <td>1 get 200</td>\n",
       "      <td>NA</td>\n",
       "      <td>/pay/36333627647022938</td>\n",
       "    </tr>\n",
       "    <tr>\n",
       "      <th>82</th>\n",
       "      <td>36332869418347252</td>\n",
       "      <td>new</td>\n",
       "      <td>NA**NA</td>\n",
       "      <td>5376.40</td>\n",
       "      <td>2018-04-16 18:41:11</td>\n",
       "      <td>NA</td>\n",
       "      <td>NA</td>\n",
       "      <td>bylbhf83@mail.ru</td>\n",
       "      <td>NA</td>\n",
       "      <td>NA</td>\n",
       "      <td>NA</td>\n",
       "      <td>undefined</td>\n",
       "      <td>undefined</td>\n",
       "      <td>undefined</td>\n",
       "      <td>undefined</td>\n",
       "      <td>undefined</td>\n",
       "      <td>undefined</td>\n",
       "      <td>undefined</td>\n",
       "      <td>undefined</td>\n",
       "      <td>1</td>\n",
       "      <td>2018-04-16T15:41:13.406Z</td>\n",
       "      <td>\"Mozilla/5.0 (iPhone; CPU iPhone OS 11_2_6 like Mac OS X) AppleWebKit/604.5.6 (KHTML, like Gecko) Version/11.0 Mobile/15D100 Safari/604.1\"</td>\n",
       "      <td>2018-04-16 15:41:13</td>\n",
       "      <td>Mobile Safari</td>\n",
       "      <td>11</td>\n",
       "      <td>0</td>\n",
       "      <td>iOS</td>\n",
       "      <td>11</td>\n",
       "      <td>2</td>\n",
       "      <td>6</td>\n",
       "      <td>iPhone</td>\n",
       "      <td>Apple</td>\n",
       "      <td>iPhone</td>\n",
       "      <td>NA</td>\n",
       "      <td>mobile</td>\n",
       "      <td>отказ</td>\n",
       "      <td>1 get 200</td>\n",
       "      <td>https://m.tutu.ru/poezda/order/final/?result_id=797e8534</td>\n",
       "      <td>/pay/36332869418347252</td>\n",
       "    </tr>\n",
       "    <tr>\n",
       "      <th>125</th>\n",
       "      <td>36326859305994090</td>\n",
       "      <td>new</td>\n",
       "      <td>NA**NA</td>\n",
       "      <td>19638.70</td>\n",
       "      <td>2018-04-16 12:09:54</td>\n",
       "      <td>NA</td>\n",
       "      <td>NA</td>\n",
       "      <td>okylik@mail.ru</td>\n",
       "      <td>NA</td>\n",
       "      <td>NA</td>\n",
       "      <td>NA</td>\n",
       "      <td>undefined</td>\n",
       "      <td>undefined</td>\n",
       "      <td>undefined</td>\n",
       "      <td>undefined</td>\n",
       "      <td>undefined</td>\n",
       "      <td>undefined</td>\n",
       "      <td>undefined</td>\n",
       "      <td>undefined</td>\n",
       "      <td>1</td>\n",
       "      <td>2018-04-16T09:09:54.974Z</td>\n",
       "      <td>\"Mozilla/5.0 (Windows NT 5.1) AppleWebKit/537.36 (KHTML, like Gecko) Chrome/49.0.2623.112 Safari/537.36\"</td>\n",
       "      <td>2018-04-16 09:09:54</td>\n",
       "      <td>Chrome</td>\n",
       "      <td>49</td>\n",
       "      <td>0</td>\n",
       "      <td>Windows XP</td>\n",
       "      <td>NA</td>\n",
       "      <td>NA</td>\n",
       "      <td>NA</td>\n",
       "      <td>Other</td>\n",
       "      <td>NA</td>\n",
       "      <td>NA</td>\n",
       "      <td>2623</td>\n",
       "      <td>desktop</td>\n",
       "      <td>отказ</td>\n",
       "      <td>1 get 200</td>\n",
       "      <td>https://www.tutu.ru/poezda/order/final/?result_id=bb827f34</td>\n",
       "      <td>/pay/36326859305994090</td>\n",
       "    </tr>\n",
       "    <tr>\n",
       "      <th>180</th>\n",
       "      <td>36312635460983540</td>\n",
       "      <td>new</td>\n",
       "      <td>NA**NA</td>\n",
       "      <td>1123.90</td>\n",
       "      <td>2018-04-15 20:43:52</td>\n",
       "      <td>NA</td>\n",
       "      <td>NA</td>\n",
       "      <td>Kamo.s@yandex.ru</td>\n",
       "      <td>NA</td>\n",
       "      <td>NA</td>\n",
       "      <td>NA</td>\n",
       "      <td>undefined</td>\n",
       "      <td>undefined</td>\n",
       "      <td>undefined</td>\n",
       "      <td>undefined</td>\n",
       "      <td>undefined</td>\n",
       "      <td>undefined</td>\n",
       "      <td>undefined</td>\n",
       "      <td>undefined</td>\n",
       "      <td>1</td>\n",
       "      <td>2018-04-15T17:43:53.619Z</td>\n",
       "      <td>\"Mozilla/5.0 (iPhone; CPU iPhone OS 10_1_1 like Mac OS X) AppleWebKit/602.2.14 (KHTML, like Gecko) Version/10.0 Mobile/14B100 Safari/602.1\"</td>\n",
       "      <td>2018-04-15 17:43:53</td>\n",
       "      <td>Mobile Safari</td>\n",
       "      <td>10</td>\n",
       "      <td>0</td>\n",
       "      <td>iOS</td>\n",
       "      <td>10</td>\n",
       "      <td>1</td>\n",
       "      <td>1</td>\n",
       "      <td>iPhone</td>\n",
       "      <td>Apple</td>\n",
       "      <td>iPhone</td>\n",
       "      <td>NA</td>\n",
       "      <td>mobile</td>\n",
       "      <td>отказ</td>\n",
       "      <td>1 get 200</td>\n",
       "      <td>https://m.tutu.ru/poezda/order/final/?result_id=17315701</td>\n",
       "      <td>/pay/36312635460983540</td>\n",
       "    </tr>\n",
       "  </tbody>\n",
       "</table>\n",
       "</div>"
      ],
      "text/plain": [
       "                    id status card_masked    amount                 date  \\\n",
       "10   36345638334388108  new    NA**NA      27573.70  2018-04-17 08:32:29   \n",
       "68   36333627647022938  new    NA**NA      1572.31   2018-04-16 19:30:32   \n",
       "82   36332869418347252  new    NA**NA      5376.40   2018-04-16 18:41:11   \n",
       "125  36326859305994090  new    NA**NA      19638.70  2018-04-16 12:09:54   \n",
       "180  36312635460983540  new    NA**NA      1123.90   2018-04-15 20:43:52   \n",
       "\n",
       "    card_type issuer_country                            email  ip country  \\\n",
       "10   NA        NA             tatianatv1982.ivanova@yandex.ru  NA  NA       \n",
       "68   NA        NA             basova@tutu.ru                   NA  NA       \n",
       "82   NA        NA             bylbhf83@mail.ru                 NA  NA       \n",
       "125  NA        NA             okylik@mail.ru                   NA  NA       \n",
       "180  NA        NA             Kamo.s@yandex.ru                 NA  NA       \n",
       "\n",
       "    cardholder  bank_name        bin card_subtype       city country_code3  \\\n",
       "10   NA         undefined  undefined  undefined    undefined  undefined      \n",
       "68   NA         undefined  undefined  undefined    undefined  undefined      \n",
       "82   NA         undefined  undefined  undefined    undefined  undefined      \n",
       "125  NA         undefined  undefined  undefined    undefined  undefined      \n",
       "180  NA         undefined  undefined  undefined    undefined  undefined      \n",
       "\n",
       "      latitude  longitude region_name  is_in_log                 timestamp  \\\n",
       "10   undefined  undefined  undefined   1          2018-04-17T05:32:32.030Z   \n",
       "68   undefined  undefined  undefined   1          2018-04-16T16:30:34.419Z   \n",
       "82   undefined  undefined  undefined   1          2018-04-16T15:41:13.406Z   \n",
       "125  undefined  undefined  undefined   1          2018-04-16T09:09:54.974Z   \n",
       "180  undefined  undefined  undefined   1          2018-04-15T17:43:53.619Z   \n",
       "\n",
       "                                                                                                                                                           user_agent  \\\n",
       "10   \"Mozilla/5.0 (Linux; Android 6.0; ZTE BLADE A510 Build/MRA58K; wv) AppleWebKit/537.36 (KHTML, like Gecko) Version/4.0 Chrome/65.0.3325.109 Mobile Safari/537.36\"   \n",
       "68   \"Mozilla/5.0 (iPhone; CPU iPhone OS 10_3_3 like Mac OS X) AppleWebKit/603.3.8 (KHTML, like Gecko) Mobile/14G60\"                                                    \n",
       "82   \"Mozilla/5.0 (iPhone; CPU iPhone OS 11_2_6 like Mac OS X) AppleWebKit/604.5.6 (KHTML, like Gecko) Version/11.0 Mobile/15D100 Safari/604.1\"                         \n",
       "125  \"Mozilla/5.0 (Windows NT 5.1) AppleWebKit/537.36 (KHTML, like Gecko) Chrome/49.0.2623.112 Safari/537.36\"                                                           \n",
       "180  \"Mozilla/5.0 (iPhone; CPU iPhone OS 10_1_1 like Mac OS X) AppleWebKit/602.2.14 (KHTML, like Gecko) Version/10.0 Mobile/14B100 Safari/602.1\"                        \n",
       "\n",
       "                    time                   ua_family ua_major ua_minor  \\\n",
       "10   2018-04-17 05:32:32  Chrome Mobile               65       0         \n",
       "68   2018-04-16 16:30:34  Mobile Safari UI/WKWebView  10       3         \n",
       "82   2018-04-16 15:41:13  Mobile Safari               11       0         \n",
       "125  2018-04-16 09:09:54  Chrome                      49       0         \n",
       "180  2018-04-15 17:43:53  Mobile Safari               10       0         \n",
       "\n",
       "      os_family os_major os_minor os_patch   device_family device_brand  \\\n",
       "10   Android     6        0        NA       ZTE BLADE A510  ZTE           \n",
       "68   iOS         10       3        3        iPhone          Apple         \n",
       "82   iOS         11       2        6        iPhone          Apple         \n",
       "125  Windows XP  NA       NA       NA       Other           NA            \n",
       "180  iOS         10       1        1        iPhone          Apple         \n",
       "\n",
       "    device_model ua_patch if_use_mobile classification classification1  \\\n",
       "10   BLADE A510   3325     mobile        отказ          1 get 200        \n",
       "68   iPhone       3        NA            отказ          1 get 200        \n",
       "82   iPhone       NA       mobile        отказ          1 get 200        \n",
       "125  NA           2623     desktop       отказ          1 get 200        \n",
       "180  iPhone       NA       mobile        отказ          1 get 200        \n",
       "\n",
       "                                                  http_referrer  \\\n",
       "10   https://m.tutu.ru/poezda/order/final/?result_id=5f0d374f     \n",
       "68   NA                                                           \n",
       "82   https://m.tutu.ru/poezda/order/final/?result_id=797e8534     \n",
       "125  https://www.tutu.ru/poezda/order/final/?result_id=bb827f34   \n",
       "180  https://m.tutu.ru/poezda/order/final/?result_id=17315701     \n",
       "\n",
       "                request_uri  \n",
       "10   /pay/36345638334388108  \n",
       "68   /pay/36333627647022938  \n",
       "82   /pay/36332869418347252  \n",
       "125  /pay/36326859305994090  \n",
       "180  /pay/36312635460983540  "
      ]
     },
     "execution_count": 193,
     "metadata": {},
     "output_type": "execute_result"
    }
   ],
   "source": [
    "df_python_sub.head()"
   ]
  },
  {
   "cell_type": "code",
   "execution_count": 197,
   "metadata": {},
   "outputs": [
    {
     "data": {
      "text/html": [
       "<div>\n",
       "<style scoped>\n",
       "    .dataframe tbody tr th:only-of-type {\n",
       "        vertical-align: middle;\n",
       "    }\n",
       "\n",
       "    .dataframe tbody tr th {\n",
       "        vertical-align: top;\n",
       "    }\n",
       "\n",
       "    .dataframe thead th {\n",
       "        text-align: right;\n",
       "    }\n",
       "</style>\n",
       "<table border=\"1\" class=\"dataframe\">\n",
       "  <thead>\n",
       "    <tr style=\"text-align: right;\">\n",
       "      <th></th>\n",
       "      <th>id</th>\n",
       "      <th>status</th>\n",
       "      <th>card_masked</th>\n",
       "      <th>amount</th>\n",
       "      <th>date</th>\n",
       "      <th>card_type</th>\n",
       "      <th>issuer_country</th>\n",
       "      <th>email</th>\n",
       "      <th>ip</th>\n",
       "      <th>country</th>\n",
       "      <th>cardholder</th>\n",
       "      <th>bank_name</th>\n",
       "      <th>bin</th>\n",
       "      <th>card_subtype</th>\n",
       "      <th>city</th>\n",
       "      <th>country_code3</th>\n",
       "      <th>latitude</th>\n",
       "      <th>longitude</th>\n",
       "      <th>region_name</th>\n",
       "      <th>is_in_log</th>\n",
       "      <th>timestamp</th>\n",
       "      <th>user_agent</th>\n",
       "      <th>time</th>\n",
       "      <th>ua_family</th>\n",
       "      <th>ua_major</th>\n",
       "      <th>ua_minor</th>\n",
       "      <th>os_family</th>\n",
       "      <th>os_major</th>\n",
       "      <th>os_minor</th>\n",
       "      <th>os_patch</th>\n",
       "      <th>device_family</th>\n",
       "      <th>device_brand</th>\n",
       "      <th>device_model</th>\n",
       "      <th>ua_patch</th>\n",
       "      <th>if_use_mobile</th>\n",
       "      <th>classification</th>\n",
       "      <th>classification1</th>\n",
       "      <th>http_referrer</th>\n",
       "      <th>request_uri</th>\n",
       "      <th>is_equal</th>\n",
       "    </tr>\n",
       "  </thead>\n",
       "  <tbody>\n",
       "  </tbody>\n",
       "</table>\n",
       "</div>"
      ],
      "text/plain": [
       "Empty DataFrame\n",
       "Columns: [id, status, card_masked, amount, date, card_type, issuer_country, email, ip, country, cardholder, bank_name, bin, card_subtype, city, country_code3, latitude, longitude, region_name, is_in_log, timestamp, user_agent, time, ua_family, ua_major, ua_minor, os_family, os_major, os_minor, os_patch, device_family, device_brand, device_model, ua_patch, if_use_mobile, classification, classification1, http_referrer, request_uri, is_equal]\n",
       "Index: []"
      ]
     },
     "execution_count": 197,
     "metadata": {},
     "output_type": "execute_result"
    }
   ],
   "source": [
    "df_sub = df[df.classification.apply(lambda x: bool(re.search('отказ', x)))] # Фильтрация по выражениям содержащим символы кирилицы не работает\n",
    "df_sub.head()"
   ]
  }
 ],
 "metadata": {
  "kernelspec": {
   "display_name": "Python 3",
   "language": "python",
   "name": "python3"
  },
  "language_info": {
   "codemirror_mode": {
    "name": "ipython",
    "version": 3.0
   },
   "file_extension": ".py",
   "mimetype": "text/x-python",
   "name": "python",
   "nbconvert_exporter": "python",
   "pygments_lexer": "ipython3",
   "version": "3.6.10"
  }
 },
 "nbformat": 4,
 "nbformat_minor": 0
}