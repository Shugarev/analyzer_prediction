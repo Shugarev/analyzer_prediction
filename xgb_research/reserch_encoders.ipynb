{
 "cells": [
  {
   "cell_type": "code",
   "execution_count": 19,
   "metadata": {},
   "outputs": [],
   "source": [
    "import xgboost as xgb\n",
    "import pandas as pd\n",
    "import numpy as np"
   ]
  },
  {
   "cell_type": "code",
   "execution_count": 20,
   "metadata": {},
   "outputs": [],
   "source": [
    "import os,sys,inspect\n",
    "currentdir = os.path.dirname(os.path.abspath(inspect.getfile(inspect.currentframe())))\n",
    "parentdir = os.path.dirname(currentdir)\n",
    "sys.path.insert(0,parentdir)"
   ]
  },
  {
   "cell_type": "code",
   "execution_count": 4,
   "metadata": {},
   "outputs": [],
   "source": [
    "from statistic import Statistic\n",
    "from factors import Factor\n",
    "from utils import UtilsKy\n",
    "from analyzer import HelperAnalyzer, AnalyzerPrediction\n",
    "from decomposition_pca.encode_strategy import Encode"
   ]
  },
  {
   "cell_type": "code",
   "execution_count": 5,
   "metadata": {},
   "outputs": [],
   "source": [
    "import category_encoders as ce\n",
    "from category_encoders import HashingEncoder"
   ]
  },
  {
   "cell_type": "code",
   "execution_count": 6,
   "metadata": {},
   "outputs": [],
   "source": [
    "# for autoreload modules\n",
    "%load_ext autoreload\n",
    "%autoreload 2"
   ]
  },
  {
   "cell_type": "code",
   "execution_count": 7,
   "metadata": {},
   "outputs": [],
   "source": [
    "# kyw3\n",
    "#path_data = '/mnt/files/workdata/work/merchants/merchant_33_kyw3_2020-06-05/04_experiments/ex_01_some_teach/'\n",
    "db_teach = pd.read_csv(UtilsKy.DB_TEACH_KYW3, dtype=str, encoding='cp1251')\n",
    "db_test = pd.read_csv(UtilsKy.DB_TEST_KYW3, dtype=str, encoding='cp1251')\n",
    "white = pd.read_csv(UtilsKy.WHITE_KYW3 , dtype=str)"
   ]
  },
  {
   "cell_type": "code",
   "execution_count": 8,
   "metadata": {},
   "outputs": [
    {
     "data": {
      "text/plain": [
       "\"['amount', 'amount_deviation', 'bank_currency', 'bin', 'city', 'count_months_to_end_card', 'day_of_week', 'gender2', 'hour', 'id', 'is_city_resolved', 'is_gender_undefined', 'latitude', 'longitude', 'order_id', 'phone_2_norm', 'status']\""
      ]
     },
     "execution_count": 8,
     "metadata": {},
     "output_type": "execute_result"
    }
   ],
   "source": [
    "str(list(db_teach.columns))"
   ]
  },
  {
   "cell_type": "code",
   "execution_count": 9,
   "metadata": {},
   "outputs": [],
   "source": [
    "df_extra_factor = pd.read_csv('/mnt/files/workdata/work/merchants/merchant_33_kyw3_2020-06-05/02_pure_data/kyw3_bayes_resolved.csv', dtype=str)\n",
    "path_resolving_file = '/mnt/files/workdata/work/merchants/merchant_33_kyw3_2020-06-05/02_pure_data/kyw3_for_resolve.csv'\n",
    "df_resolving = pd.read_csv(path_resolving_file, dtype=str, encoding='cp1251')"
   ]
  },
  {
   "cell_type": "code",
   "execution_count": 15,
   "metadata": {},
   "outputs": [
    {
     "data": {
      "text/plain": [
       "\"['order_id', 'type', 'status', 'date', 'processed', 'amount', 'currency', 'card_holder', 'email', 'phone', 'address', 'city_from_order', 'country', 'zip', 'ip', 'project_id', 'reported', 'status_chargeback', 'date_cb_only', 'card_masked', 'card_expire', 'amount_in_currency', 'date_only', 'id']\""
      ]
     },
     "execution_count": 15,
     "metadata": {},
     "output_type": "execute_result"
    }
   ],
   "source": [
    "str(list(df_resolving))"
   ]
  },
  {
   "cell_type": "code",
   "execution_count": 10,
   "metadata": {},
   "outputs": [],
   "source": [
    "df_resolving['bank_name'] = df_extra_factor.bank_name\n",
    "df_resolving['region_name'] = df_extra_factor.region_name"
   ]
  },
  {
   "cell_type": "code",
   "execution_count": 11,
   "metadata": {},
   "outputs": [],
   "source": [
    "col_names = ['bank_name', 'order_id', 'region_name', 'country', 'project_id', 'card_holder', 'address']\n",
    "db_teach = db_teach.merge(df_resolving[col_names], left_on='order_id', right_on='order_id', how='left')\n",
    "db_test = db_test.merge(df_resolving[col_names], left_on='order_id', right_on='order_id', how='left')"
   ]
  },
  {
   "cell_type": "code",
   "execution_count": 16,
   "metadata": {},
   "outputs": [],
   "source": [
    "COL_FACTORS = ['bin', 'amount', 'bank_currency', 'hour', 'day_of_week', 'phone_2_norm', 'longitude', 'latitude', 'is_gender_undefined', 'is_city_resolved']\n",
    "cat_features = ['country', 'region_name']\n",
    "COL_FACTORS = COL_FACTORS + cat_features"
   ]
  },
  {
   "cell_type": "code",
   "execution_count": 17,
   "metadata": {},
   "outputs": [],
   "source": [
    "train_df = db_teach[COL_FACTORS].copy()\n",
    "test_df = db_test[COL_FACTORS].copy()"
   ]
  },
  {
   "cell_type": "markdown",
   "metadata": {},
   "source": [
    "## Encoders"
   ]
  },
  {
   "cell_type": "code",
   "execution_count": null,
   "metadata": {},
   "outputs": [],
   "source": [
    "for col in COL_FACTORS:\n",
    "    is_factor_encode = False\n",
    "    if is_factor_encode:\n",
    "        col_enc_name = 'enc_' + col\n",
    "        print(\"col_enc_name={}\" . format(col_enc_name))\n",
    "        ret_val = Encode().ordered_target_st(db_teach, db_test, col)\n",
    "        db_teach[col_enc_name] =  ret_val.get('encode_teach')\n",
    "        db_test[col_enc_name] =  ret_val.get('test_encode_last')"
   ]
  },
  {
   "cell_type": "code",
   "execution_count": 22,
   "metadata": {},
   "outputs": [],
   "source": [
    "encode_name = \"\"\n",
    "if encode_name = 'CatBoostEncoder':\n",
    "    encoder = ce.CatBoostEncoder(cols=cat_features)\n",
    "    cat_train_df = train_df[cat_features]\n",
    "    cat_test_df = test_df[cat_features]\n",
    "    encoder.fit(cat_train_df, db_teach.status)\n",
    "    trans_teach = encoder.transform(cat_train_df)\n",
    "    trans_test = encoder.transform(cat_test_df)\n",
    "    for cat_feature in cat_features:\n",
    "        train_df[cat_feature] = trans_teach[cat_feature]\n",
    "        test_df[cat_feature] = trans_test[cat_feature]\n",
    "encoder.get_feature_names()    \n",
    "data = {'num': trans_teach[cat_features[0]].values, 'country': cat_train_df[cat_features[0]].values}\n",
    "df = (pd.DataFrame(data)).reset_index()\n",
    "df.head(100)"
   ]
  },
  {
   "cell_type": "code",
   "execution_count": 33,
   "metadata": {},
   "outputs": [],
   "source": [
    "encode_name = \"\"\n",
    "import re\n",
    "def get_two_digits(x:str)->str:    \n",
    "    pattern = '^[0-9]+'\n",
    "    if not isinstance(x, str):\n",
    "        x = ''\n",
    "    result = re.search(pattern, x)\n",
    "    if result:\n",
    "        s = result.group(0)\n",
    "        retval = s[-2:]\n",
    "    else:\n",
    "        retval = '\n",
    "    return retval\n",
    "if encode_name = 'special_encode_country':\n",
    "    cat_feature = 'country'\n",
    "    train_df[cat_feature] = -trans_teach[cat_feature]\n",
    "    test_df[cat_feature] = -trans_test[cat_feature]\n",
    "    db_teach['help'] = db_teach.address.apply(lambda x: get_two_digits(x))\n",
    "    db_test ['help'] = db_test.address.apply(lambda x: get_two_digits(x))\n",
    "    train_df.country = np.where((db_teach.country == 'USA') & (db_teach.address.str.contains('^[0-9]')), db_teach.help.apply(pd.to_numeric), train_df.country)\n",
    "    test_df.country = np.where((db_test.country == 'USA') & (db_test.address.str.contains('^[0-9]')), db_test.help.apply(pd.to_numeric), test_df.country)"
   ]
  },
  {
   "cell_type": "code",
   "execution_count": 28,
   "metadata": {},
   "outputs": [],
   "source": [
    "encode_name = \"hash\"\n",
    "if encode_name = 'hash_encode':\n",
    "    cat_train_df = train_df[cat_features]\n",
    "    cat_test_df = test_df[cat_features]\n",
    "    hashing_enc = HashingEncoder(cols=cat_features, n_components=20).fit(cat_train_df, db_teach.status)\n",
    "    X_train_hashing = hashing_enc.transform(cat_train_df.reset_index(drop=True))\n",
    "    X_test_hashing = hashing_enc.transform(cat_test_df.reset_index(drop=True))\n",
    "    col_hashing = list(X_train_hashing)\n",
    "    for col in col_hashing:\n",
    "        train_df[col] = X_train_hashing[col]\n",
    "        test_df[col] = X_test_hashing[col]\n"
   ]
  },
  {
   "cell_type": "code",
   "execution_count": 37,
   "metadata": {},
   "outputs": [
    {
     "data": {
      "text/plain": [
       "\"['bin', 'amount', 'bank_currency', 'hour', 'day_of_week', 'phone_2_norm', 'longitude', 'latitude', 'is_gender_undefined', 'is_city_resolved', 'country', 'region_name', 'col_0', 'col_1', 'col_2', 'col_3', 'col_4', 'col_5', 'col_6', 'col_7', 'col_8', 'col_9', 'col_10', 'col_11', 'col_12', 'col_13', 'col_14', 'col_15', 'col_16', 'col_17', 'col_18', 'col_19']\""
      ]
     },
     "execution_count": 37,
     "metadata": {},
     "output_type": "execute_result"
    }
   ],
   "source": [
    "str(list(train_df))"
   ]
  },
  {
   "cell_type": "code",
   "execution_count": 38,
   "metadata": {},
   "outputs": [],
   "source": [
    "train = train_df.apply(pd.to_numeric, errors=\"coerce\")\n",
    "test = test_df.apply(pd.to_numeric, errors=\"coerce\")"
   ]
  },
  {
   "cell_type": "code",
   "execution_count": 39,
   "metadata": {},
   "outputs": [
    {
     "data": {
      "text/plain": [
       "-9999"
      ]
     },
     "execution_count": 39,
     "metadata": {},
     "output_type": "execute_result"
    }
   ],
   "source": [
    "replace_val = -9999\n",
    "train = train.fillna(replace_val)\n",
    "test = test.fillna(replace_val)\n",
    "replace_val"
   ]
  },
  {
   "cell_type": "code",
   "execution_count": 40,
   "metadata": {},
   "outputs": [],
   "source": [
    "train = train.values\n",
    "test = test.values\n",
    "label = db_teach.status"
   ]
  },
  {
   "cell_type": "code",
   "execution_count": 41,
   "metadata": {},
   "outputs": [],
   "source": [
    "analyzer_prediction =  AnalyzerPrediction(db_teach, db_test, white)"
   ]
  },
  {
   "cell_type": "code",
   "execution_count": 42,
   "metadata": {},
   "outputs": [],
   "source": [
    "result_df_amount = None\n",
    "weight = analyzer_prediction.get_xgb_weight()"
   ]
  },
  {
   "cell_type": "code",
   "execution_count": 43,
   "metadata": {},
   "outputs": [],
   "source": [
    "# Kyw3\n",
    "max_depths =[3]\n",
    "nrounds = [80, 90]\n",
    "etas = [0.2, 0.35]"
   ]
  },
  {
   "cell_type": "code",
   "execution_count": 44,
   "metadata": {},
   "outputs": [],
   "source": [
    "for nround in nrounds:\n",
    "    for eta in etas:\n",
    "        for max_depth in max_depths:\n",
    "            config = {'max_depth': max_depth, 'learning_rate': eta\n",
    "                      , 'n_estimators': nround\n",
    "                     }\n",
    "            model = xgb.XGBClassifier(**config)\n",
    "            \n",
    "            model.fit(train, label, eval_metric = 'auc', sample_weight=weight)\n",
    "             \n",
    "            test_pred = model.predict_proba(test)\n",
    "            db_test[\"probability\"] = test_pred[:, 1]\n",
    "\n",
    "            description = '-' . join([str(elem) for elem in (max_depth, nround, eta, 'encode country')])                    \n",
    "            result_df_amount = analyzer_prediction.get_table_prediction(description=description, result_df=result_df_amount, metric=\"amount\")"
   ]
  },
  {
   "cell_type": "code",
   "execution_count": 45,
   "metadata": {},
   "outputs": [],
   "source": [
    "n = result_df_amount.shape[0]\n",
    "sub_rows = list(range(n))[::2]\n",
    "stat_best = result_df_amount.copy().iloc[sub_rows,:]\n",
    "col_names = [col for col in stat_best.columns if col.startswith('p_') ] \n",
    "stat_best.loc[:, col_names] = stat_best.loc[:, col_names].astype(float)\n",
    "stat_best = stat_best.sort_values(by=\"rating\", ascending=False)"
   ]
  },
  {
   "cell_type": "code",
   "execution_count": 46,
   "metadata": {},
   "outputs": [
    {
     "data": {
      "text/html": [
       "<div>\n",
       "<style scoped>\n",
       "    .dataframe tbody tr th:only-of-type {\n",
       "        vertical-align: middle;\n",
       "    }\n",
       "\n",
       "    .dataframe tbody tr th {\n",
       "        vertical-align: top;\n",
       "    }\n",
       "\n",
       "    .dataframe thead th {\n",
       "        text-align: right;\n",
       "    }\n",
       "</style>\n",
       "<table border=\"1\" class=\"dataframe\">\n",
       "  <thead>\n",
       "    <tr style=\"text-align: right;\">\n",
       "      <th></th>\n",
       "      <th>description</th>\n",
       "      <th>p_1</th>\n",
       "      <th>p_2</th>\n",
       "      <th>p_3</th>\n",
       "      <th>p_4</th>\n",
       "      <th>p_5</th>\n",
       "      <th>p_6</th>\n",
       "      <th>p_7</th>\n",
       "      <th>p_10</th>\n",
       "      <th>p_20</th>\n",
       "      <th>rating</th>\n",
       "    </tr>\n",
       "  </thead>\n",
       "  <tbody>\n",
       "    <tr>\n",
       "      <th>2</th>\n",
       "      <td>3-80-0.35-encode country</td>\n",
       "      <td>8.29</td>\n",
       "      <td>14.41</td>\n",
       "      <td>15.76</td>\n",
       "      <td>17.15</td>\n",
       "      <td>19.90</td>\n",
       "      <td>20.72</td>\n",
       "      <td>22.82</td>\n",
       "      <td>26.88</td>\n",
       "      <td>38.35</td>\n",
       "      <td>140.74</td>\n",
       "    </tr>\n",
       "    <tr>\n",
       "      <th>4</th>\n",
       "      <td>3-90-0.2-encode country</td>\n",
       "      <td>6.59</td>\n",
       "      <td>11.27</td>\n",
       "      <td>13.89</td>\n",
       "      <td>18.43</td>\n",
       "      <td>19.49</td>\n",
       "      <td>20.24</td>\n",
       "      <td>21.79</td>\n",
       "      <td>25.73</td>\n",
       "      <td>44.72</td>\n",
       "      <td>140.12</td>\n",
       "    </tr>\n",
       "    <tr>\n",
       "      <th>0</th>\n",
       "      <td>3-80-0.2-encode country</td>\n",
       "      <td>5.33</td>\n",
       "      <td>10.56</td>\n",
       "      <td>12.28</td>\n",
       "      <td>17.39</td>\n",
       "      <td>19.38</td>\n",
       "      <td>20.93</td>\n",
       "      <td>21.79</td>\n",
       "      <td>26.90</td>\n",
       "      <td>46.07</td>\n",
       "      <td>137.91</td>\n",
       "    </tr>\n",
       "    <tr>\n",
       "      <th>6</th>\n",
       "      <td>3-90-0.35-encode country</td>\n",
       "      <td>8.11</td>\n",
       "      <td>14.68</td>\n",
       "      <td>15.84</td>\n",
       "      <td>17.18</td>\n",
       "      <td>19.15</td>\n",
       "      <td>20.84</td>\n",
       "      <td>21.14</td>\n",
       "      <td>24.27</td>\n",
       "      <td>38.20</td>\n",
       "      <td>137.43</td>\n",
       "    </tr>\n",
       "  </tbody>\n",
       "</table>\n",
       "</div>"
      ],
      "text/plain": [
       "                description   p_1    p_2    p_3    p_4    p_5    p_6    p_7  \\\n",
       "2  3-80-0.35-encode country  8.29  14.41  15.76  17.15  19.90  20.72  22.82   \n",
       "4   3-90-0.2-encode country  6.59  11.27  13.89  18.43  19.49  20.24  21.79   \n",
       "0   3-80-0.2-encode country  5.33  10.56  12.28  17.39  19.38  20.93  21.79   \n",
       "6  3-90-0.35-encode country  8.11  14.68  15.84  17.18  19.15  20.84  21.14   \n",
       "\n",
       "    p_10   p_20  rating  \n",
       "2  26.88  38.35  140.74  \n",
       "4  25.73  44.72  140.12  \n",
       "0  26.90  46.07  137.91  \n",
       "6  24.27  38.20  137.43  "
      ]
     },
     "execution_count": 46,
     "metadata": {},
     "output_type": "execute_result"
    }
   ],
   "source": [
    "stat_best.iloc[:,:11]"
   ]
  },
  {
   "cell_type": "code",
   "execution_count": 47,
   "metadata": {},
   "outputs": [
    {
     "data": {
      "text/html": [
       "<div>\n",
       "<style scoped>\n",
       "    .dataframe tbody tr th:only-of-type {\n",
       "        vertical-align: middle;\n",
       "    }\n",
       "\n",
       "    .dataframe tbody tr th {\n",
       "        vertical-align: top;\n",
       "    }\n",
       "\n",
       "    .dataframe thead th {\n",
       "        text-align: right;\n",
       "    }\n",
       "</style>\n",
       "<table border=\"1\" class=\"dataframe\">\n",
       "  <thead>\n",
       "    <tr style=\"text-align: right;\">\n",
       "      <th></th>\n",
       "      <th>feature</th>\n",
       "      <th>impotance</th>\n",
       "    </tr>\n",
       "  </thead>\n",
       "  <tbody>\n",
       "    <tr>\n",
       "      <th>27</th>\n",
       "      <td>col_15</td>\n",
       "      <td>0.084573</td>\n",
       "    </tr>\n",
       "    <tr>\n",
       "      <th>1</th>\n",
       "      <td>amount</td>\n",
       "      <td>0.075944</td>\n",
       "    </tr>\n",
       "    <tr>\n",
       "      <th>15</th>\n",
       "      <td>col_3</td>\n",
       "      <td>0.064624</td>\n",
       "    </tr>\n",
       "    <tr>\n",
       "      <th>8</th>\n",
       "      <td>is_gender_undefined</td>\n",
       "      <td>0.060546</td>\n",
       "    </tr>\n",
       "    <tr>\n",
       "      <th>0</th>\n",
       "      <td>bin</td>\n",
       "      <td>0.050987</td>\n",
       "    </tr>\n",
       "    <tr>\n",
       "      <th>2</th>\n",
       "      <td>bank_currency</td>\n",
       "      <td>0.046702</td>\n",
       "    </tr>\n",
       "    <tr>\n",
       "      <th>3</th>\n",
       "      <td>hour</td>\n",
       "      <td>0.045661</td>\n",
       "    </tr>\n",
       "    <tr>\n",
       "      <th>7</th>\n",
       "      <td>latitude</td>\n",
       "      <td>0.037798</td>\n",
       "    </tr>\n",
       "    <tr>\n",
       "      <th>18</th>\n",
       "      <td>col_6</td>\n",
       "      <td>0.037417</td>\n",
       "    </tr>\n",
       "    <tr>\n",
       "      <th>5</th>\n",
       "      <td>phone_2_norm</td>\n",
       "      <td>0.036518</td>\n",
       "    </tr>\n",
       "    <tr>\n",
       "      <th>16</th>\n",
       "      <td>col_4</td>\n",
       "      <td>0.035492</td>\n",
       "    </tr>\n",
       "    <tr>\n",
       "      <th>17</th>\n",
       "      <td>col_5</td>\n",
       "      <td>0.034927</td>\n",
       "    </tr>\n",
       "    <tr>\n",
       "      <th>30</th>\n",
       "      <td>col_18</td>\n",
       "      <td>0.034348</td>\n",
       "    </tr>\n",
       "    <tr>\n",
       "      <th>9</th>\n",
       "      <td>is_city_resolved</td>\n",
       "      <td>0.034152</td>\n",
       "    </tr>\n",
       "    <tr>\n",
       "      <th>28</th>\n",
       "      <td>col_16</td>\n",
       "      <td>0.032198</td>\n",
       "    </tr>\n",
       "    <tr>\n",
       "      <th>19</th>\n",
       "      <td>col_7</td>\n",
       "      <td>0.031198</td>\n",
       "    </tr>\n",
       "    <tr>\n",
       "      <th>6</th>\n",
       "      <td>longitude</td>\n",
       "      <td>0.030445</td>\n",
       "    </tr>\n",
       "    <tr>\n",
       "      <th>31</th>\n",
       "      <td>col_19</td>\n",
       "      <td>0.030413</td>\n",
       "    </tr>\n",
       "    <tr>\n",
       "      <th>24</th>\n",
       "      <td>col_12</td>\n",
       "      <td>0.029547</td>\n",
       "    </tr>\n",
       "    <tr>\n",
       "      <th>20</th>\n",
       "      <td>col_8</td>\n",
       "      <td>0.027981</td>\n",
       "    </tr>\n",
       "    <tr>\n",
       "      <th>23</th>\n",
       "      <td>col_11</td>\n",
       "      <td>0.027066</td>\n",
       "    </tr>\n",
       "    <tr>\n",
       "      <th>22</th>\n",
       "      <td>col_10</td>\n",
       "      <td>0.025919</td>\n",
       "    </tr>\n",
       "    <tr>\n",
       "      <th>29</th>\n",
       "      <td>col_17</td>\n",
       "      <td>0.020588</td>\n",
       "    </tr>\n",
       "    <tr>\n",
       "      <th>14</th>\n",
       "      <td>col_2</td>\n",
       "      <td>0.019697</td>\n",
       "    </tr>\n",
       "    <tr>\n",
       "      <th>4</th>\n",
       "      <td>day_of_week</td>\n",
       "      <td>0.019054</td>\n",
       "    </tr>\n",
       "    <tr>\n",
       "      <th>26</th>\n",
       "      <td>col_14</td>\n",
       "      <td>0.018228</td>\n",
       "    </tr>\n",
       "    <tr>\n",
       "      <th>13</th>\n",
       "      <td>col_1</td>\n",
       "      <td>0.007978</td>\n",
       "    </tr>\n",
       "    <tr>\n",
       "      <th>11</th>\n",
       "      <td>region_name</td>\n",
       "      <td>0.000000</td>\n",
       "    </tr>\n",
       "    <tr>\n",
       "      <th>25</th>\n",
       "      <td>col_13</td>\n",
       "      <td>0.000000</td>\n",
       "    </tr>\n",
       "    <tr>\n",
       "      <th>12</th>\n",
       "      <td>col_0</td>\n",
       "      <td>0.000000</td>\n",
       "    </tr>\n",
       "    <tr>\n",
       "      <th>10</th>\n",
       "      <td>country</td>\n",
       "      <td>0.000000</td>\n",
       "    </tr>\n",
       "    <tr>\n",
       "      <th>21</th>\n",
       "      <td>col_9</td>\n",
       "      <td>0.000000</td>\n",
       "    </tr>\n",
       "  </tbody>\n",
       "</table>\n",
       "</div>"
      ],
      "text/plain": [
       "                feature  impotance\n",
       "27               col_15   0.084573\n",
       "1                amount   0.075944\n",
       "15                col_3   0.064624\n",
       "8   is_gender_undefined   0.060546\n",
       "0                   bin   0.050987\n",
       "2         bank_currency   0.046702\n",
       "3                  hour   0.045661\n",
       "7              latitude   0.037798\n",
       "18                col_6   0.037417\n",
       "5          phone_2_norm   0.036518\n",
       "16                col_4   0.035492\n",
       "17                col_5   0.034927\n",
       "30               col_18   0.034348\n",
       "9      is_city_resolved   0.034152\n",
       "28               col_16   0.032198\n",
       "19                col_7   0.031198\n",
       "6             longitude   0.030445\n",
       "31               col_19   0.030413\n",
       "24               col_12   0.029547\n",
       "20                col_8   0.027981\n",
       "23               col_11   0.027066\n",
       "22               col_10   0.025919\n",
       "29               col_17   0.020588\n",
       "14                col_2   0.019697\n",
       "4           day_of_week   0.019054\n",
       "26               col_14   0.018228\n",
       "13                col_1   0.007978\n",
       "11          region_name   0.000000\n",
       "25               col_13   0.000000\n",
       "12                col_0   0.000000\n",
       "10              country   0.000000\n",
       "21                col_9   0.000000"
      ]
     },
     "execution_count": 47,
     "metadata": {},
     "output_type": "execute_result"
    }
   ],
   "source": [
    "data = {'feature': train_df.columns , 'impotance': model.feature_importances_}\n",
    "df = pd.DataFrame(data)\n",
    "df.sort_values(by='impotance', ascending=False)"
   ]
  },
  {
   "cell_type": "code",
   "execution_count": 609,
   "metadata": {},
   "outputs": [
    {
     "data": {
      "text/html": [
       "<div>\n",
       "<style scoped>\n",
       "    .dataframe tbody tr th:only-of-type {\n",
       "        vertical-align: middle;\n",
       "    }\n",
       "\n",
       "    .dataframe tbody tr th {\n",
       "        vertical-align: top;\n",
       "    }\n",
       "\n",
       "    .dataframe thead th {\n",
       "        text-align: right;\n",
       "    }\n",
       "</style>\n",
       "<table border=\"1\" class=\"dataframe\">\n",
       "  <thead>\n",
       "    <tr style=\"text-align: right;\">\n",
       "      <th></th>\n",
       "      <th>description</th>\n",
       "      <th>p_1</th>\n",
       "      <th>p_2</th>\n",
       "      <th>p_3</th>\n",
       "      <th>p_4</th>\n",
       "      <th>p_5</th>\n",
       "      <th>p_6</th>\n",
       "      <th>p_7</th>\n",
       "      <th>p_10</th>\n",
       "      <th>p_20</th>\n",
       "      <th>rating</th>\n",
       "    </tr>\n",
       "  </thead>\n",
       "  <tbody>\n",
       "    <tr>\n",
       "      <th>0</th>\n",
       "      <td>3-80-0.2</td>\n",
       "      <td>5.97</td>\n",
       "      <td>10.83</td>\n",
       "      <td>15.34</td>\n",
       "      <td>17.99</td>\n",
       "      <td>18.92</td>\n",
       "      <td>19.62</td>\n",
       "      <td>21.88</td>\n",
       "      <td>24.87</td>\n",
       "      <td>43.06</td>\n",
       "      <td>136.98</td>\n",
       "    </tr>\n",
       "    <tr>\n",
       "      <th>4</th>\n",
       "      <td>3-90-0.2</td>\n",
       "      <td>6.05</td>\n",
       "      <td>10.83</td>\n",
       "      <td>14.90</td>\n",
       "      <td>17.26</td>\n",
       "      <td>18.03</td>\n",
       "      <td>20.33</td>\n",
       "      <td>21.14</td>\n",
       "      <td>24.09</td>\n",
       "      <td>40.16</td>\n",
       "      <td>131.32</td>\n",
       "    </tr>\n",
       "    <tr>\n",
       "      <th>6</th>\n",
       "      <td>3-90-0.35</td>\n",
       "      <td>3.74</td>\n",
       "      <td>8.27</td>\n",
       "      <td>15.45</td>\n",
       "      <td>17.15</td>\n",
       "      <td>19.35</td>\n",
       "      <td>19.95</td>\n",
       "      <td>19.97</td>\n",
       "      <td>23.23</td>\n",
       "      <td>37.81</td>\n",
       "      <td>125.00</td>\n",
       "    </tr>\n",
       "    <tr>\n",
       "      <th>2</th>\n",
       "      <td>3-80-0.35</td>\n",
       "      <td>2.69</td>\n",
       "      <td>7.35</td>\n",
       "      <td>10.91</td>\n",
       "      <td>14.76</td>\n",
       "      <td>16.78</td>\n",
       "      <td>18.54</td>\n",
       "      <td>19.24</td>\n",
       "      <td>22.86</td>\n",
       "      <td>38.33</td>\n",
       "      <td>113.68</td>\n",
       "    </tr>\n",
       "  </tbody>\n",
       "</table>\n",
       "</div>"
      ],
      "text/plain": [
       "  description   p_1    p_2    p_3    p_4    p_5    p_6    p_7   p_10   p_20  \\\n",
       "0    3-80-0.2  5.97  10.83  15.34  17.99  18.92  19.62  21.88  24.87  43.06   \n",
       "4    3-90-0.2  6.05  10.83  14.90  17.26  18.03  20.33  21.14  24.09  40.16   \n",
       "6   3-90-0.35  3.74   8.27  15.45  17.15  19.35  19.95  19.97  23.23  37.81   \n",
       "2   3-80-0.35  2.69   7.35  10.91  14.76  16.78  18.54  19.24  22.86  38.33   \n",
       "\n",
       "   rating  \n",
       "0  136.98  \n",
       "4  131.32  \n",
       "6  125.00  \n",
       "2  113.68  "
      ]
     },
     "execution_count": 609,
     "metadata": {},
     "output_type": "execute_result"
    }
   ],
   "source": [
    "stat_best.iloc[:,:11]"
   ]
  },
  {
   "cell_type": "code",
   "execution_count": 610,
   "metadata": {},
   "outputs": [
    {
     "data": {
      "text/html": [
       "<div>\n",
       "<style scoped>\n",
       "    .dataframe tbody tr th:only-of-type {\n",
       "        vertical-align: middle;\n",
       "    }\n",
       "\n",
       "    .dataframe tbody tr th {\n",
       "        vertical-align: top;\n",
       "    }\n",
       "\n",
       "    .dataframe thead th {\n",
       "        text-align: right;\n",
       "    }\n",
       "</style>\n",
       "<table border=\"1\" class=\"dataframe\">\n",
       "  <thead>\n",
       "    <tr style=\"text-align: right;\">\n",
       "      <th></th>\n",
       "      <th>feature</th>\n",
       "      <th>impotance</th>\n",
       "    </tr>\n",
       "  </thead>\n",
       "  <tbody>\n",
       "    <tr>\n",
       "      <th>1</th>\n",
       "      <td>amount</td>\n",
       "      <td>0.206445</td>\n",
       "    </tr>\n",
       "    <tr>\n",
       "      <th>0</th>\n",
       "      <td>bin</td>\n",
       "      <td>0.147512</td>\n",
       "    </tr>\n",
       "    <tr>\n",
       "      <th>2</th>\n",
       "      <td>bank_currency</td>\n",
       "      <td>0.142234</td>\n",
       "    </tr>\n",
       "    <tr>\n",
       "      <th>3</th>\n",
       "      <td>hour</td>\n",
       "      <td>0.141126</td>\n",
       "    </tr>\n",
       "    <tr>\n",
       "      <th>5</th>\n",
       "      <td>phone_2_norm</td>\n",
       "      <td>0.115113</td>\n",
       "    </tr>\n",
       "    <tr>\n",
       "      <th>7</th>\n",
       "      <td>latitude</td>\n",
       "      <td>0.109051</td>\n",
       "    </tr>\n",
       "    <tr>\n",
       "      <th>6</th>\n",
       "      <td>longitude</td>\n",
       "      <td>0.085222</td>\n",
       "    </tr>\n",
       "    <tr>\n",
       "      <th>4</th>\n",
       "      <td>day_of_week</td>\n",
       "      <td>0.053297</td>\n",
       "    </tr>\n",
       "  </tbody>\n",
       "</table>\n",
       "</div>"
      ],
      "text/plain": [
       "         feature  impotance\n",
       "1         amount   0.206445\n",
       "0            bin   0.147512\n",
       "2  bank_currency   0.142234\n",
       "3           hour   0.141126\n",
       "5   phone_2_norm   0.115113\n",
       "7       latitude   0.109051\n",
       "6      longitude   0.085222\n",
       "4    day_of_week   0.053297"
      ]
     },
     "execution_count": 610,
     "metadata": {},
     "output_type": "execute_result"
    }
   ],
   "source": [
    "data = {'feature': train_df.columns , 'impotance': model.feature_importances_}\n",
    "df = pd.DataFrame(data)\n",
    "df.sort_values(by='impotance', ascending=False)"
   ]
  }
 ],
 "metadata": {
  "kernelspec": {
   "display_name": "Python 3",
   "language": "python",
   "name": "python3"
  },
  "language_info": {
   "codemirror_mode": {
    "name": "ipython",
    "version": 3
   },
   "file_extension": ".py",
   "mimetype": "text/x-python",
   "name": "python",
   "nbconvert_exporter": "python",
   "pygments_lexer": "ipython3",
   "version": "3.7.6"
  }
 },
 "nbformat": 4,
 "nbformat_minor": 4
}
