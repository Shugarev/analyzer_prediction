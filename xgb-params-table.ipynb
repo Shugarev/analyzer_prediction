{
 "cells": [
  {
   "cell_type": "code",
   "execution_count": 33,
   "metadata": {
    "collapsed": true
   },
   "outputs": [],
   "source": [
    "from collections import Counter\n",
    "import pandas as pd\n",
    "import numpy as np\n",
    "import xgboost as xgb\n",
    "pd.set_option('display.max_colwidth', -1)"
   ]
  },
  {
   "cell_type": "code",
   "execution_count": 71,
   "metadata": {
    "collapsed": false
   },
   "outputs": [
    {
     "name": "stdout",
     "output_type": "stream",
     "text": [
      "The autoreload extension is already loaded. To reload it, use:\n",
      "  %reload_ext autoreload\n"
     ]
    }
   ],
   "source": [
    "# for autoreload modules\n",
    "%load_ext autoreload\n",
    "%autoreload 2"
   ]
  },
  {
   "cell_type": "code",
   "execution_count": null,
   "metadata": {
    "collapsed": true
   },
   "outputs": [],
   "source": [
    "from utils import UtilsKy"
   ]
  },
  {
   "cell_type": "code",
   "execution_count": 77,
   "metadata": {
    "collapsed": false
   },
   "outputs": [],
   "source": [
    "# kyw3\n",
    "# db_teach = pd.read_csv(UtilsKy.DB_TEACH_KYW3, dtype=str)\n",
    "# db_test = pd.read_csv(UtilsKy.DB_TEST_KYW3, dtype=str)\n",
    "# white = pd.read_csv(UtilsKy.WHITE_KYW3 , dtype=str)"
   ]
  },
  {
   "cell_type": "code",
   "execution_count": 90,
   "metadata": {
    "collapsed": false
   },
   "outputs": [],
   "source": [
    "# ky9\n",
    "# db_teach = pd.read_csv(UtilsKy.DB_TEACH_KY9, dtype=str)\n",
    "# db_test = pd.read_csv(UtilsKy.DB_TEST_KY9, dtype=str)\n",
    "# white = pd.read_csv(UtilsKy.WHITE_KY9 , dtype=str)"
   ]
  },
  {
   "cell_type": "code",
   "execution_count": 91,
   "metadata": {
    "collapsed": false
   },
   "outputs": [],
   "source": [
    "COL_FACTORS = [ 'amount', 'bank_currency', 'hour', 'day_of_week', \n",
    "               'bin', 'longitude', 'latitude', 'phone_2_norm']"
   ]
  },
  {
   "cell_type": "code",
   "execution_count": 92,
   "metadata": {
    "collapsed": false
   },
   "outputs": [],
   "source": [
    "from analyzer import HelperAnalyzer, AnalyzerPrediction"
   ]
  },
  {
   "cell_type": "code",
   "execution_count": 93,
   "metadata": {
    "collapsed": false
   },
   "outputs": [],
   "source": [
    "train = db_teach[COL_FACTORS]\n",
    "test = db_test[COL_FACTORS]"
   ]
  },
  {
   "cell_type": "code",
   "execution_count": 94,
   "metadata": {
    "collapsed": false
   },
   "outputs": [],
   "source": [
    "train = train.apply(pd.to_numeric, errors=\"coerce\")\n",
    "test = test.apply(pd.to_numeric, errors=\"coerce\")"
   ]
  },
  {
   "cell_type": "code",
   "execution_count": 96,
   "metadata": {
    "collapsed": false
   },
   "outputs": [
    {
     "data": {
      "text/plain": [
       "-9999"
      ]
     },
     "execution_count": 96,
     "metadata": {},
     "output_type": "execute_result"
    }
   ],
   "source": [
    "replace_val = -9999\n",
    "train.fillna(replace_val)\n",
    "test.fillna(replace_val)\n",
    "replace_val"
   ]
  },
  {
   "cell_type": "code",
   "execution_count": 97,
   "metadata": {
    "collapsed": false
   },
   "outputs": [],
   "source": [
    "train = train.values\n",
    "test = test.values\n",
    "label = db_teach.status"
   ]
  },
  {
   "cell_type": "code",
   "execution_count": 98,
   "metadata": {
    "collapsed": true
   },
   "outputs": [],
   "source": [
    "analyzer_prediction =  AnalyzerPrediction(db_teach, db_test, white)"
   ]
  },
  {
   "cell_type": "code",
   "execution_count": 99,
   "metadata": {
    "collapsed": false
   },
   "outputs": [],
   "source": [
    "result_df_amount = np.nan\n",
    "weight = analyzer_prediction.get_xgb_weight()"
   ]
  },
  {
   "cell_type": "code",
   "execution_count": 100,
   "metadata": {
    "collapsed": true
   },
   "outputs": [],
   "source": [
    "max_depths =[3]\n",
    "nrounds = [90]\n",
    "etas = [0.2]"
   ]
  },
  {
   "cell_type": "code",
   "execution_count": 101,
   "metadata": {
    "collapsed": false
   },
   "outputs": [],
   "source": [
    "for nround in nrounds:\n",
    "    for eta in etas:\n",
    "        for max_depth in max_depths:\n",
    "            config = {'max_depth':max_depth, 'learning_rate':eta\n",
    "                      ,'n_estimators':nround }\n",
    "            model = xgb.XGBClassifier(**config)\n",
    "            \n",
    "            model.fit(train, label, eval_metric = 'auc', sample_weight=weight)\n",
    "             \n",
    "            test_pred = model.predict_proba(test)\n",
    "            db_test[\"probability\"] = test_pred[:, 1]\n",
    "            description = str(config) + 'wl'\n",
    "            description = '-' . join([str(elem) for elem in (max_depth, eta, nround)])           \n",
    "            result_df_amount = analyzer_prediction.get_table_prediction()"
   ]
  },
  {
   "cell_type": "code",
   "execution_count": 102,
   "metadata": {
    "collapsed": false
   },
   "outputs": [],
   "source": [
    "n = result_df_amount.shape[0]\n",
    "sub_rows = list(range(n))[::2]\n",
    "stat_best = result_df_amount.copy().iloc[sub_rows,:]\n",
    "\n",
    "col_names = [col for col in stat_best.columns if col.startswith('p_') ]\n",
    "stat_best.loc[:, col_names] = stat_best.loc[:, col_names].astype(float)\n",
    "\n",
    "stat_best = stat_best.sort_values(by=\"rating\", ascending=False)\n",
    "stat_best = stat_best.sort_values(by=\"p_5\", ascending=False)"
   ]
  },
  {
   "cell_type": "code",
   "execution_count": 103,
   "metadata": {
    "collapsed": false
   },
   "outputs": [
    {
     "data": {
      "text/html": [
       "<div>\n",
       "<table border=\"1\" class=\"dataframe\">\n",
       "  <thead>\n",
       "    <tr style=\"text-align: right;\">\n",
       "      <th></th>\n",
       "      <th>description</th>\n",
       "      <th>p_1</th>\n",
       "      <th>p_2</th>\n",
       "      <th>p_3</th>\n",
       "      <th>p_4</th>\n",
       "      <th>p_5</th>\n",
       "      <th>p_6</th>\n",
       "      <th>p_7</th>\n",
       "      <th>p_10</th>\n",
       "      <th>p_20</th>\n",
       "      <th>...</th>\n",
       "      <th>n_test_in_wl</th>\n",
       "      <th>n_test_bad_in_wl</th>\n",
       "      <th>amount_test_in_wl</th>\n",
       "      <th>amount_test_bad_in_wl</th>\n",
       "      <th>n_teach</th>\n",
       "      <th>n_teach_bad</th>\n",
       "      <th>n_test</th>\n",
       "      <th>n_test_bad</th>\n",
       "      <th>amount_test_bad</th>\n",
       "      <th>amount_test</th>\n",
       "    </tr>\n",
       "  </thead>\n",
       "  <tbody>\n",
       "    <tr>\n",
       "      <th>0</th>\n",
       "      <td></td>\n",
       "      <td>5.03</td>\n",
       "      <td>8.7</td>\n",
       "      <td>12.39</td>\n",
       "      <td>15.69</td>\n",
       "      <td>18.86</td>\n",
       "      <td>21.53</td>\n",
       "      <td>24.49</td>\n",
       "      <td>31.76</td>\n",
       "      <td>52.3</td>\n",
       "      <td>...</td>\n",
       "      <td>289796</td>\n",
       "      <td>294714</td>\n",
       "      <td>2.025618e+07</td>\n",
       "      <td>2.083261e+07</td>\n",
       "      <td>742167</td>\n",
       "      <td>42005</td>\n",
       "      <td>603378</td>\n",
       "      <td>5642</td>\n",
       "      <td>660225.66</td>\n",
       "      <td>4.549701e+07</td>\n",
       "    </tr>\n",
       "  </tbody>\n",
       "</table>\n",
       "<p>1 rows × 22 columns</p>\n",
       "</div>"
      ],
      "text/plain": [
       "  description   p_1  p_2    p_3    p_4    p_5    p_6    p_7   p_10  p_20  \\\n",
       "0              5.03  8.7  12.39  15.69  18.86  21.53  24.49  31.76  52.3   \n",
       "\n",
       "       ...       n_test_in_wl  n_test_bad_in_wl  amount_test_in_wl  \\\n",
       "0      ...       289796        294714            2.025618e+07        \n",
       "\n",
       "   amount_test_bad_in_wl  n_teach  n_teach_bad  n_test  n_test_bad  \\\n",
       "0  2.083261e+07           742167   42005        603378  5642         \n",
       "\n",
       "   amount_test_bad   amount_test  \n",
       "0  660225.66        4.549701e+07  \n",
       "\n",
       "[1 rows x 22 columns]"
      ]
     },
     "execution_count": 103,
     "metadata": {},
     "output_type": "execute_result"
    }
   ],
   "source": [
    "stat_best"
   ]
  }
 ],
 "metadata": {
  "kernelspec": {
   "display_name": "Python 3",
   "language": "python",
   "name": "python3"
  },
  "language_info": {
   "codemirror_mode": {
    "name": "ipython",
    "version": 3
   },
   "file_extension": ".py",
   "mimetype": "text/x-python",
   "name": "python",
   "nbconvert_exporter": "python",
   "pygments_lexer": "ipython3",
   "version": "3.6.0"
  }
 },
 "nbformat": 4,
 "nbformat_minor": 0
}
