{
 "cells": [
  {
   "cell_type": "code",
   "execution_count": 2,
   "metadata": {},
   "outputs": [],
   "source": [
    "from pyod.models.knn import KNN \n",
    "import numpy as np\n",
    "import pandas as pd"
   ]
  },
  {
   "cell_type": "code",
   "execution_count": 3,
   "metadata": {},
   "outputs": [],
   "source": [
    "from pyod.utils.data import generate_data"
   ]
  },
  {
   "cell_type": "code",
   "execution_count": 4,
   "metadata": {},
   "outputs": [],
   "source": [
    "from pyod.utils.data import evaluate_print"
   ]
  },
  {
   "cell_type": "code",
   "execution_count": 5,
   "metadata": {},
   "outputs": [],
   "source": [
    "from utils import UtilsKy"
   ]
  },
  {
   "cell_type": "code",
   "execution_count": 11,
   "metadata": {},
   "outputs": [],
   "source": [
    "#from pyod.utils.example import visualize TODO cannot import name 'njit'"
   ]
  },
  {
   "cell_type": "code",
   "execution_count": 6,
   "metadata": {},
   "outputs": [],
   "source": [
    "df_operations = pd.read_csv(UtilsKy.GRAFANA_OPERATIONS \n",
    "                           , dtype=str, usecols = ['id', 'amount', 'pan', 'created', 'type', 'project_id'])"
   ]
  },
  {
   "cell_type": "code",
   "execution_count": 7,
   "metadata": {},
   "outputs": [],
   "source": [
    "df = df_operations[df_operations.type == 'charge'].copy()"
   ]
  },
  {
   "cell_type": "code",
   "execution_count": 8,
   "metadata": {},
   "outputs": [],
   "source": [
    "df['pan'] = df['pan'].str[:6]"
   ]
  },
  {
   "cell_type": "code",
   "execution_count": 9,
   "metadata": {},
   "outputs": [],
   "source": [
    "min_date = min(df.created)"
   ]
  },
  {
   "cell_type": "code",
   "execution_count": 10,
   "metadata": {},
   "outputs": [
    {
     "data": {
      "text/plain": [
       "'2020-01-01 00:00:10'"
      ]
     },
     "execution_count": 10,
     "metadata": {},
     "output_type": "execute_result"
    }
   ],
   "source": [
    "min_date"
   ]
  },
  {
   "cell_type": "code",
   "execution_count": 11,
   "metadata": {},
   "outputs": [],
   "source": [
    "max_date = max(df.created)"
   ]
  },
  {
   "cell_type": "code",
   "execution_count": 12,
   "metadata": {},
   "outputs": [
    {
     "data": {
      "text/plain": [
       "'2020-03-25 23:59:57'"
      ]
     },
     "execution_count": 12,
     "metadata": {},
     "output_type": "execute_result"
    }
   ],
   "source": [
    "max_date"
   ]
  },
  {
   "cell_type": "code",
   "execution_count": 13,
   "metadata": {},
   "outputs": [],
   "source": [
    "from datetime import timedelta, datetime"
   ]
  },
  {
   "cell_type": "code",
   "execution_count": 14,
   "metadata": {},
   "outputs": [],
   "source": [
    "date_start_test = datetime.strptime(max_date, '%Y-%m-%d %H:%M:%S') - timedelta(days=14)"
   ]
  },
  {
   "cell_type": "code",
   "execution_count": 15,
   "metadata": {},
   "outputs": [
    {
     "data": {
      "text/plain": [
       "'2020-03-11 23:59:57'"
      ]
     },
     "execution_count": 15,
     "metadata": {},
     "output_type": "execute_result"
    }
   ],
   "source": [
    "start_test = date_start_test.strftime('%Y-%m-%d %H:%M:%S')\n",
    "start_test"
   ]
  },
  {
   "cell_type": "code",
   "execution_count": 16,
   "metadata": {},
   "outputs": [],
   "source": [
    "teach =  df[(df.created < start_test)].copy()\n",
    "test = df[(df.created >= start_test)].copy()"
   ]
  },
  {
   "cell_type": "code",
   "execution_count": 17,
   "metadata": {},
   "outputs": [],
   "source": [
    "teach = teach.sample(n=100000, random_state=1)\n",
    "test = test.sample(n=100000, random_state=1)"
   ]
  },
  {
   "cell_type": "code",
   "execution_count": 18,
   "metadata": {},
   "outputs": [],
   "source": [
    "col_factors =['amount', 'pan']\n",
    "teach[col_factors] = teach[col_factors].apply(pd.to_numeric, errors=\"coerce\")\n",
    "test[col_factors] = test[col_factors].apply(pd.to_numeric, errors=\"coerce\")"
   ]
  },
  {
   "cell_type": "code",
   "execution_count": 19,
   "metadata": {},
   "outputs": [],
   "source": [
    "st_pid = teach.groupby('project_id').amount.agg('mean').to_frame()"
   ]
  },
  {
   "cell_type": "code",
   "execution_count": 20,
   "metadata": {},
   "outputs": [
    {
     "data": {
      "text/plain": [
       "Index(['amount'], dtype='object')"
      ]
     },
     "execution_count": 20,
     "metadata": {},
     "output_type": "execute_result"
    }
   ],
   "source": [
    "st_pid.columns"
   ]
  },
  {
   "cell_type": "code",
   "execution_count": 21,
   "metadata": {},
   "outputs": [],
   "source": [
    "st_pid.reset_index(level=0, inplace=True)"
   ]
  },
  {
   "cell_type": "code",
   "execution_count": 22,
   "metadata": {},
   "outputs": [],
   "source": [
    "st_pid.columns = [\"project_id\", 'mean_amount_in_pid']"
   ]
  },
  {
   "cell_type": "code",
   "execution_count": 23,
   "metadata": {},
   "outputs": [],
   "source": [
    "teach = pd.merge(teach, st_pid, how = 'left', on = ['project_id']).copy()\n",
    "test = pd.merge(test, st_pid, how = 'left', on = ['project_id']).copy()"
   ]
  },
  {
   "cell_type": "code",
   "execution_count": 24,
   "metadata": {},
   "outputs": [],
   "source": [
    "teach['average_amount_in_pid'] = teach.amount/ teach.mean_amount_in_pid\n",
    "test['average_amount_in_pid'] = test.amount/ test.mean_amount_in_pid"
   ]
  },
  {
   "cell_type": "code",
   "execution_count": 25,
   "metadata": {},
   "outputs": [
    {
     "data": {
      "text/html": [
       "<div>\n",
       "<style scoped>\n",
       "    .dataframe tbody tr th:only-of-type {\n",
       "        vertical-align: middle;\n",
       "    }\n",
       "\n",
       "    .dataframe tbody tr th {\n",
       "        vertical-align: top;\n",
       "    }\n",
       "\n",
       "    .dataframe thead th {\n",
       "        text-align: right;\n",
       "    }\n",
       "</style>\n",
       "<table border=\"1\" class=\"dataframe\">\n",
       "  <thead>\n",
       "    <tr style=\"text-align: right;\">\n",
       "      <th></th>\n",
       "      <th>id</th>\n",
       "      <th>type</th>\n",
       "      <th>amount</th>\n",
       "      <th>project_id</th>\n",
       "      <th>created</th>\n",
       "      <th>pan</th>\n",
       "      <th>mean_amount_in_pid</th>\n",
       "      <th>average_amount_in_pid</th>\n",
       "    </tr>\n",
       "  </thead>\n",
       "  <tbody>\n",
       "    <tr>\n",
       "      <th>0</th>\n",
       "      <td>136481665</td>\n",
       "      <td>charge</td>\n",
       "      <td>1581.0</td>\n",
       "      <td>224f3d3120309f994e744af6ed64dddc18a82888</td>\n",
       "      <td>2020-03-22 00:43:13</td>\n",
       "      <td>516949</td>\n",
       "      <td>448.710182</td>\n",
       "      <td>3.523432</td>\n",
       "    </tr>\n",
       "    <tr>\n",
       "      <th>1</th>\n",
       "      <td>136498246</td>\n",
       "      <td>charge</td>\n",
       "      <td>500.0</td>\n",
       "      <td>8901f0b3f6f78a91dd7837199883454456f2ae37</td>\n",
       "      <td>2020-03-22 05:58:00</td>\n",
       "      <td>485320</td>\n",
       "      <td>94.430482</td>\n",
       "      <td>5.294900</td>\n",
       "    </tr>\n",
       "    <tr>\n",
       "      <th>2</th>\n",
       "      <td>136191950</td>\n",
       "      <td>charge</td>\n",
       "      <td>41.0</td>\n",
       "      <td>224f3d3120309f994e744af6ed64dddc18a82888</td>\n",
       "      <td>2020-03-19 17:12:07</td>\n",
       "      <td>516773</td>\n",
       "      <td>448.710182</td>\n",
       "      <td>0.091373</td>\n",
       "    </tr>\n",
       "    <tr>\n",
       "      <th>3</th>\n",
       "      <td>136628661</td>\n",
       "      <td>charge</td>\n",
       "      <td>53.0</td>\n",
       "      <td>224f3d3120309f994e744af6ed64dddc18a82888</td>\n",
       "      <td>2020-03-23 10:26:50</td>\n",
       "      <td>516837</td>\n",
       "      <td>448.710182</td>\n",
       "      <td>0.118116</td>\n",
       "    </tr>\n",
       "    <tr>\n",
       "      <th>4</th>\n",
       "      <td>135222314</td>\n",
       "      <td>charge</td>\n",
       "      <td>288.0</td>\n",
       "      <td>224f3d3120309f994e744af6ed64dddc18a82888</td>\n",
       "      <td>2020-03-12 21:36:42</td>\n",
       "      <td>516875</td>\n",
       "      <td>448.710182</td>\n",
       "      <td>0.641840</td>\n",
       "    </tr>\n",
       "  </tbody>\n",
       "</table>\n",
       "</div>"
      ],
      "text/plain": [
       "          id    type  amount                                project_id  \\\n",
       "0  136481665  charge  1581.0  224f3d3120309f994e744af6ed64dddc18a82888   \n",
       "1  136498246  charge   500.0  8901f0b3f6f78a91dd7837199883454456f2ae37   \n",
       "2  136191950  charge    41.0  224f3d3120309f994e744af6ed64dddc18a82888   \n",
       "3  136628661  charge    53.0  224f3d3120309f994e744af6ed64dddc18a82888   \n",
       "4  135222314  charge   288.0  224f3d3120309f994e744af6ed64dddc18a82888   \n",
       "\n",
       "               created     pan  mean_amount_in_pid  average_amount_in_pid  \n",
       "0  2020-03-22 00:43:13  516949          448.710182               3.523432  \n",
       "1  2020-03-22 05:58:00  485320           94.430482               5.294900  \n",
       "2  2020-03-19 17:12:07  516773          448.710182               0.091373  \n",
       "3  2020-03-23 10:26:50  516837          448.710182               0.118116  \n",
       "4  2020-03-12 21:36:42  516875          448.710182               0.641840  "
      ]
     },
     "execution_count": 25,
     "metadata": {},
     "output_type": "execute_result"
    }
   ],
   "source": [
    "test.head()"
   ]
  },
  {
   "cell_type": "code",
   "execution_count": 26,
   "metadata": {},
   "outputs": [
    {
     "data": {
      "text/html": [
       "<div>\n",
       "<style scoped>\n",
       "    .dataframe tbody tr th:only-of-type {\n",
       "        vertical-align: middle;\n",
       "    }\n",
       "\n",
       "    .dataframe tbody tr th {\n",
       "        vertical-align: top;\n",
       "    }\n",
       "\n",
       "    .dataframe thead th {\n",
       "        text-align: right;\n",
       "    }\n",
       "</style>\n",
       "<table border=\"1\" class=\"dataframe\">\n",
       "  <thead>\n",
       "    <tr style=\"text-align: right;\">\n",
       "      <th></th>\n",
       "      <th>id</th>\n",
       "      <th>type</th>\n",
       "      <th>amount</th>\n",
       "      <th>project_id</th>\n",
       "      <th>created</th>\n",
       "      <th>pan</th>\n",
       "      <th>mean_amount_in_pid</th>\n",
       "      <th>average_amount_in_pid</th>\n",
       "    </tr>\n",
       "  </thead>\n",
       "  <tbody>\n",
       "    <tr>\n",
       "      <th>0</th>\n",
       "      <td>134254234</td>\n",
       "      <td>charge</td>\n",
       "      <td>141.00</td>\n",
       "      <td>224f3d3120309f994e744af6ed64dddc18a82888</td>\n",
       "      <td>2020-03-06 10:25:52</td>\n",
       "      <td>414949</td>\n",
       "      <td>448.710182</td>\n",
       "      <td>0.314234</td>\n",
       "    </tr>\n",
       "    <tr>\n",
       "      <th>1</th>\n",
       "      <td>130036244</td>\n",
       "      <td>charge</td>\n",
       "      <td>200.00</td>\n",
       "      <td>51dfe45c685dbb9ac1b650122838facfb4f209f1</td>\n",
       "      <td>2020-02-07 02:41:35</td>\n",
       "      <td>489504</td>\n",
       "      <td>141.005429</td>\n",
       "      <td>1.418385</td>\n",
       "    </tr>\n",
       "    <tr>\n",
       "      <th>2</th>\n",
       "      <td>125652873</td>\n",
       "      <td>charge</td>\n",
       "      <td>26.48</td>\n",
       "      <td>8901f0b3f6f78a91dd7837199883454456f2ae37</td>\n",
       "      <td>2020-01-12 02:21:09</td>\n",
       "      <td>402944</td>\n",
       "      <td>94.430482</td>\n",
       "      <td>0.280418</td>\n",
       "    </tr>\n",
       "    <tr>\n",
       "      <th>3</th>\n",
       "      <td>124716124</td>\n",
       "      <td>charge</td>\n",
       "      <td>31.00</td>\n",
       "      <td>224f3d3120309f994e744af6ed64dddc18a82888</td>\n",
       "      <td>2020-01-07 06:43:07</td>\n",
       "      <td>411997</td>\n",
       "      <td>448.710182</td>\n",
       "      <td>0.069087</td>\n",
       "    </tr>\n",
       "    <tr>\n",
       "      <th>4</th>\n",
       "      <td>128324238</td>\n",
       "      <td>charge</td>\n",
       "      <td>58.00</td>\n",
       "      <td>224f3d3120309f994e744af6ed64dddc18a82888</td>\n",
       "      <td>2020-01-26 15:33:34</td>\n",
       "      <td>516922</td>\n",
       "      <td>448.710182</td>\n",
       "      <td>0.129259</td>\n",
       "    </tr>\n",
       "  </tbody>\n",
       "</table>\n",
       "</div>"
      ],
      "text/plain": [
       "          id    type  amount                                project_id  \\\n",
       "0  134254234  charge  141.00  224f3d3120309f994e744af6ed64dddc18a82888   \n",
       "1  130036244  charge  200.00  51dfe45c685dbb9ac1b650122838facfb4f209f1   \n",
       "2  125652873  charge   26.48  8901f0b3f6f78a91dd7837199883454456f2ae37   \n",
       "3  124716124  charge   31.00  224f3d3120309f994e744af6ed64dddc18a82888   \n",
       "4  128324238  charge   58.00  224f3d3120309f994e744af6ed64dddc18a82888   \n",
       "\n",
       "               created     pan  mean_amount_in_pid  average_amount_in_pid  \n",
       "0  2020-03-06 10:25:52  414949          448.710182               0.314234  \n",
       "1  2020-02-07 02:41:35  489504          141.005429               1.418385  \n",
       "2  2020-01-12 02:21:09  402944           94.430482               0.280418  \n",
       "3  2020-01-07 06:43:07  411997          448.710182               0.069087  \n",
       "4  2020-01-26 15:33:34  516922          448.710182               0.129259  "
      ]
     },
     "execution_count": 26,
     "metadata": {},
     "output_type": "execute_result"
    }
   ],
   "source": [
    "teach.head()"
   ]
  },
  {
   "cell_type": "code",
   "execution_count": 27,
   "metadata": {},
   "outputs": [],
   "source": [
    "col_factors .extend(['mean_amount_in_pid', 'average_amount_in_pid'])"
   ]
  },
  {
   "cell_type": "code",
   "execution_count": 28,
   "metadata": {},
   "outputs": [
    {
     "data": {
      "text/plain": [
       "['amount', 'pan', 'mean_amount_in_pid', 'average_amount_in_pid']"
      ]
     },
     "execution_count": 28,
     "metadata": {},
     "output_type": "execute_result"
    }
   ],
   "source": [
    "col_factors"
   ]
  },
  {
   "cell_type": "code",
   "execution_count": 41,
   "metadata": {},
   "outputs": [],
   "source": [
    "replace_val = -9999\n",
    "\n",
    "db_teach = teach[col_factors].fillna(replace_val)\n",
    "db_test = test[col_factors].fillna(replace_val)\n",
    "\n",
    "teach_d = db_teach.values\n",
    "test_d = db_test.values"
   ]
  },
  {
   "cell_type": "code",
   "execution_count": 44,
   "metadata": {},
   "outputs": [
    {
     "data": {
      "text/plain": [
       "KNN(algorithm='auto', contamination=0.1, leaf_size=30, method='largest',\n",
       "  metric='minkowski', metric_params=None, n_jobs=1, n_neighbors=5, p=2,\n",
       "  radius=1.0)"
      ]
     },
     "execution_count": 44,
     "metadata": {},
     "output_type": "execute_result"
    }
   ],
   "source": [
    "# train kNN detector\n",
    "clf_name = 'KNN'\n",
    "clf = KNN()\n",
    "# clf = KNN(n_neighbors=5, method='largest')\n",
    "clf.fit(teach_d)"
   ]
  },
  {
   "cell_type": "code",
   "execution_count": 45,
   "metadata": {},
   "outputs": [],
   "source": [
    "test['pred'] = clf.predict(test_d)  # outlier labels (0 or 1)\n",
    "test['scores'] = clf.decision_function(test_d)  # outlier scores"
   ]
  },
  {
   "cell_type": "code",
   "execution_count": 46,
   "metadata": {},
   "outputs": [],
   "source": [
    "test_anomaly = test[test.pred == 1]"
   ]
  }
 ],
 "metadata": {
  "kernelspec": {
   "display_name": "Python 3",
   "language": "python",
   "name": "python3"
  },
  "language_info": {
   "codemirror_mode": {
    "name": "ipython",
    "version": 3.0
   },
   "file_extension": ".py",
   "mimetype": "text/x-python",
   "name": "python",
   "nbconvert_exporter": "python",
   "pygments_lexer": "ipython3",
   "version": "3.6.10"
  }
 },
 "nbformat": 4,
 "nbformat_minor": 0
}