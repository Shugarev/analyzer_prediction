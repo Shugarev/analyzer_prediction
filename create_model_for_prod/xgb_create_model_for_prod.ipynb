{
 "cells": [
  {
   "cell_type": "code",
   "execution_count": 1,
   "metadata": {},
   "outputs": [
    {
     "name": "stdout",
     "output_type": "stream",
     "text": [
      "python version: sys.version_info(major=3, minor=7, micro=6, releaselevel='final', serial=0)\n",
      "pandas version:  1.0.1\n",
      "numpy version:  1.19.2\n",
      "sklearn version:  0.24.1\n",
      "xgboost version:  1.2.0\n",
      "joblib version:  1.0.0\n"
     ]
    }
   ],
   "source": [
    "import sys\n",
    "print('python version:', sys.version_info)\n",
    "import os,inspect\n",
    "\n",
    "import pandas as pd\n",
    "print('pandas version: ', pd.__version__)\n",
    "\n",
    "import numpy as np\n",
    "print('numpy version: ', np.__version__)\n",
    "\n",
    "import sklearn\n",
    "print('sklearn version: ', sklearn.__version__)\n",
    "\n",
    "import xgboost as xgb\n",
    "print('xgboost version: ', xgb.__version__)\n",
    "\n",
    "import joblib\n",
    "print('joblib version: ', joblib.__version__)"
   ]
  },
  {
   "cell_type": "code",
   "execution_count": 2,
   "metadata": {},
   "outputs": [],
   "source": [
    "assert sys.version_info >= (3, 7) and sys.version_info < (3, 8)\n",
    "assert sklearn.__version__ >= \"0.24\" and sklearn.__version__ < \"0.25\"\n",
    "assert pd.__version__ >= \"1.0.1\" and pd.__version__ < \"1.2\"\n",
    "assert np.__version__ >= \"1.19.2\" and np.__version__ < \"1.2\"\n",
    "assert xgb.__version__ >= \"1.2.0\" and xgb.__version__ < \"1.3.0\"\n",
    "assert joblib.__version__ >= \"1.0.0\" and joblib.__version__ < \"1.3.0\""
   ]
  },
  {
   "cell_type": "code",
   "execution_count": 3,
   "metadata": {},
   "outputs": [],
   "source": [
    "currentdir = os.path.dirname(os.path.abspath(inspect.getfile(inspect.currentframe())))\n",
    "parentdir = os.path.dirname(currentdir)\n",
    "sys.path.insert(0,parentdir)\n",
    "pd.set_option('display.max_colwidth', 100)\n",
    "pd.set_option('display.max_rows', 20)\n",
    "pd.set_option('display.max_columns', 500)"
   ]
  },
  {
   "cell_type": "code",
   "execution_count": 4,
   "metadata": {},
   "outputs": [],
   "source": [
    "from utils import UtilsKy\n",
    "from analyzer import AnalyzerPrediction"
   ]
  },
  {
   "cell_type": "code",
   "execution_count": 5,
   "metadata": {},
   "outputs": [],
   "source": [
    "# for autoreload modules\n",
    "%load_ext autoreload\n",
    "%autoreload 2"
   ]
  },
  {
   "cell_type": "code",
   "execution_count": 6,
   "metadata": {},
   "outputs": [],
   "source": [
    "# kyw3\n",
    "path_data = '/mnt/files/workdata/work/merchants/merchant_33_kyw3_2020-06-05/04_experiments/ex_01_some_teach/'\n",
    "db_teach = pd.read_csv(UtilsKy.DB_TEACH_KYW3, dtype=str, encoding='cp1251')\n",
    "db_test = pd.read_csv(UtilsKy.DB_TEST_KYW3, dtype=str, encoding='cp1251')\n",
    "white = pd.read_csv(UtilsKy.WHITE_KYW3 , dtype=str)"
   ]
  },
  {
   "cell_type": "code",
   "execution_count": 7,
   "metadata": {},
   "outputs": [
    {
     "data": {
      "text/plain": [
       "['amount',\n",
       " 'bank_currency',\n",
       " 'bin',\n",
       " 'day_of_week',\n",
       " 'hour',\n",
       " 'is_city_resolved',\n",
       " 'is_gender_undefined',\n",
       " 'latitude',\n",
       " 'longitude',\n",
       " 'phone_2_norm']"
      ]
     },
     "execution_count": 7,
     "metadata": {},
     "output_type": "execute_result"
    }
   ],
   "source": [
    "COL_FACTORS = ['bin', 'amount', 'bank_currency', 'hour', 'day_of_week', 'longitude', 'latitude',\n",
    "               'phone_2_norm', 'is_gender_undefined', 'is_city_resolved']\n",
    "COL_FACTORS = sorted(COL_FACTORS)\n",
    "COL_FACTORS"
   ]
  },
  {
   "cell_type": "code",
   "execution_count": 8,
   "metadata": {},
   "outputs": [],
   "source": [
    "train = db_teach[COL_FACTORS]\n",
    "test = db_test[COL_FACTORS]"
   ]
  },
  {
   "cell_type": "code",
   "execution_count": 9,
   "metadata": {},
   "outputs": [],
   "source": [
    "train = train.apply(pd.to_numeric, errors=\"coerce\")\n",
    "test = test.apply(pd.to_numeric, errors=\"coerce\")"
   ]
  },
  {
   "cell_type": "markdown",
   "metadata": {},
   "source": [
    "## Show column with NaN values"
   ]
  },
  {
   "cell_type": "code",
   "execution_count": 10,
   "metadata": {},
   "outputs": [
    {
     "data": {
      "text/html": [
       "<div>\n",
       "<style scoped>\n",
       "    .dataframe tbody tr th:only-of-type {\n",
       "        vertical-align: middle;\n",
       "    }\n",
       "\n",
       "    .dataframe tbody tr th {\n",
       "        vertical-align: top;\n",
       "    }\n",
       "\n",
       "    .dataframe thead th {\n",
       "        text-align: right;\n",
       "    }\n",
       "</style>\n",
       "<table border=\"1\" class=\"dataframe\">\n",
       "  <thead>\n",
       "    <tr style=\"text-align: right;\">\n",
       "      <th></th>\n",
       "      <th>amount</th>\n",
       "      <th>bank_currency</th>\n",
       "      <th>bin</th>\n",
       "      <th>day_of_week</th>\n",
       "      <th>hour</th>\n",
       "      <th>is_city_resolved</th>\n",
       "      <th>is_gender_undefined</th>\n",
       "      <th>latitude</th>\n",
       "      <th>longitude</th>\n",
       "      <th>phone_2_norm</th>\n",
       "    </tr>\n",
       "  </thead>\n",
       "  <tbody>\n",
       "    <tr>\n",
       "      <th>218</th>\n",
       "      <td>3.80</td>\n",
       "      <td>76</td>\n",
       "      <td>535016</td>\n",
       "      <td>3</td>\n",
       "      <td>20</td>\n",
       "      <td>0</td>\n",
       "      <td>1</td>\n",
       "      <td>NaN</td>\n",
       "      <td>NaN</td>\n",
       "      <td>19</td>\n",
       "    </tr>\n",
       "    <tr>\n",
       "      <th>368</th>\n",
       "      <td>7.13</td>\n",
       "      <td>76</td>\n",
       "      <td>535016</td>\n",
       "      <td>3</td>\n",
       "      <td>22</td>\n",
       "      <td>0</td>\n",
       "      <td>1</td>\n",
       "      <td>NaN</td>\n",
       "      <td>NaN</td>\n",
       "      <td>19</td>\n",
       "    </tr>\n",
       "    <tr>\n",
       "      <th>393</th>\n",
       "      <td>11.88</td>\n",
       "      <td>76</td>\n",
       "      <td>535016</td>\n",
       "      <td>3</td>\n",
       "      <td>22</td>\n",
       "      <td>0</td>\n",
       "      <td>1</td>\n",
       "      <td>NaN</td>\n",
       "      <td>NaN</td>\n",
       "      <td>19</td>\n",
       "    </tr>\n",
       "    <tr>\n",
       "      <th>398</th>\n",
       "      <td>71.26</td>\n",
       "      <td>76</td>\n",
       "      <td>544731</td>\n",
       "      <td>3</td>\n",
       "      <td>22</td>\n",
       "      <td>0</td>\n",
       "      <td>1</td>\n",
       "      <td>NaN</td>\n",
       "      <td>NaN</td>\n",
       "      <td>19</td>\n",
       "    </tr>\n",
       "    <tr>\n",
       "      <th>407</th>\n",
       "      <td>3.56</td>\n",
       "      <td>76</td>\n",
       "      <td>535016</td>\n",
       "      <td>3</td>\n",
       "      <td>23</td>\n",
       "      <td>0</td>\n",
       "      <td>1</td>\n",
       "      <td>NaN</td>\n",
       "      <td>NaN</td>\n",
       "      <td>19</td>\n",
       "    </tr>\n",
       "  </tbody>\n",
       "</table>\n",
       "</div>"
      ],
      "text/plain": [
       "     amount  bank_currency     bin  day_of_week  hour  is_city_resolved  \\\n",
       "218    3.80             76  535016            3    20                 0   \n",
       "368    7.13             76  535016            3    22                 0   \n",
       "393   11.88             76  535016            3    22                 0   \n",
       "398   71.26             76  544731            3    22                 0   \n",
       "407    3.56             76  535016            3    23                 0   \n",
       "\n",
       "     is_gender_undefined  latitude  longitude  phone_2_norm  \n",
       "218                    1       NaN        NaN            19  \n",
       "368                    1       NaN        NaN            19  \n",
       "393                    1       NaN        NaN            19  \n",
       "398                    1       NaN        NaN            19  \n",
       "407                    1       NaN        NaN            19  "
      ]
     },
     "execution_count": 10,
     "metadata": {},
     "output_type": "execute_result"
    }
   ],
   "source": [
    "mask = train.isnull().any(axis=1)\n",
    "train[mask].head()"
   ]
  },
  {
   "cell_type": "code",
   "execution_count": 11,
   "metadata": {},
   "outputs": [
    {
     "data": {
      "text/html": [
       "<div>\n",
       "<style scoped>\n",
       "    .dataframe tbody tr th:only-of-type {\n",
       "        vertical-align: middle;\n",
       "    }\n",
       "\n",
       "    .dataframe tbody tr th {\n",
       "        vertical-align: top;\n",
       "    }\n",
       "\n",
       "    .dataframe thead th {\n",
       "        text-align: right;\n",
       "    }\n",
       "</style>\n",
       "<table border=\"1\" class=\"dataframe\">\n",
       "  <thead>\n",
       "    <tr style=\"text-align: right;\">\n",
       "      <th></th>\n",
       "      <th>amount</th>\n",
       "      <th>bank_currency</th>\n",
       "      <th>bin</th>\n",
       "      <th>day_of_week</th>\n",
       "      <th>hour</th>\n",
       "      <th>is_city_resolved</th>\n",
       "      <th>is_gender_undefined</th>\n",
       "      <th>latitude</th>\n",
       "      <th>longitude</th>\n",
       "      <th>phone_2_norm</th>\n",
       "    </tr>\n",
       "  </thead>\n",
       "  <tbody>\n",
       "    <tr>\n",
       "      <th>247</th>\n",
       "      <td>76.92</td>\n",
       "      <td>124</td>\n",
       "      <td>543440</td>\n",
       "      <td>2</td>\n",
       "      <td>2</td>\n",
       "      <td>0</td>\n",
       "      <td>0</td>\n",
       "      <td>NaN</td>\n",
       "      <td>NaN</td>\n",
       "      <td>13</td>\n",
       "    </tr>\n",
       "    <tr>\n",
       "      <th>703</th>\n",
       "      <td>3.77</td>\n",
       "      <td>76</td>\n",
       "      <td>534543</td>\n",
       "      <td>2</td>\n",
       "      <td>6</td>\n",
       "      <td>0</td>\n",
       "      <td>1</td>\n",
       "      <td>NaN</td>\n",
       "      <td>NaN</td>\n",
       "      <td>19</td>\n",
       "    </tr>\n",
       "    <tr>\n",
       "      <th>1050</th>\n",
       "      <td>3.77</td>\n",
       "      <td>76</td>\n",
       "      <td>534543</td>\n",
       "      <td>2</td>\n",
       "      <td>12</td>\n",
       "      <td>0</td>\n",
       "      <td>1</td>\n",
       "      <td>NaN</td>\n",
       "      <td>NaN</td>\n",
       "      <td>19</td>\n",
       "    </tr>\n",
       "    <tr>\n",
       "      <th>1088</th>\n",
       "      <td>3.77</td>\n",
       "      <td>76</td>\n",
       "      <td>534543</td>\n",
       "      <td>2</td>\n",
       "      <td>13</td>\n",
       "      <td>0</td>\n",
       "      <td>1</td>\n",
       "      <td>NaN</td>\n",
       "      <td>NaN</td>\n",
       "      <td>19</td>\n",
       "    </tr>\n",
       "    <tr>\n",
       "      <th>1390</th>\n",
       "      <td>9.42</td>\n",
       "      <td>76</td>\n",
       "      <td>515590</td>\n",
       "      <td>2</td>\n",
       "      <td>17</td>\n",
       "      <td>0</td>\n",
       "      <td>1</td>\n",
       "      <td>NaN</td>\n",
       "      <td>NaN</td>\n",
       "      <td>19</td>\n",
       "    </tr>\n",
       "  </tbody>\n",
       "</table>\n",
       "</div>"
      ],
      "text/plain": [
       "      amount  bank_currency     bin  day_of_week  hour  is_city_resolved  \\\n",
       "247    76.92            124  543440            2     2                 0   \n",
       "703     3.77             76  534543            2     6                 0   \n",
       "1050    3.77             76  534543            2    12                 0   \n",
       "1088    3.77             76  534543            2    13                 0   \n",
       "1390    9.42             76  515590            2    17                 0   \n",
       "\n",
       "      is_gender_undefined  latitude  longitude  phone_2_norm  \n",
       "247                     0       NaN        NaN            13  \n",
       "703                     1       NaN        NaN            19  \n",
       "1050                    1       NaN        NaN            19  \n",
       "1088                    1       NaN        NaN            19  \n",
       "1390                    1       NaN        NaN            19  "
      ]
     },
     "execution_count": 11,
     "metadata": {},
     "output_type": "execute_result"
    }
   ],
   "source": [
    "mask = test.isnull().any(axis=1)\n",
    "test[mask].head()"
   ]
  },
  {
   "cell_type": "code",
   "execution_count": 12,
   "metadata": {},
   "outputs": [
    {
     "data": {
      "text/plain": [
       "Index(['latitude', 'longitude'], dtype='object')"
      ]
     },
     "execution_count": 12,
     "metadata": {},
     "output_type": "execute_result"
    }
   ],
   "source": [
    "test.columns[test.isnull().any(axis=0)]"
   ]
  },
  {
   "cell_type": "code",
   "execution_count": 13,
   "metadata": {},
   "outputs": [],
   "source": [
    "lat_replace = train.latitude.mean()\n",
    "long_replace = train.longitude.mean()\n",
    "\n",
    "replaced_values = {'latitude': lat_replace, 'longitude': long_replace, 'default': -999}"
   ]
  },
  {
   "cell_type": "code",
   "execution_count": 14,
   "metadata": {},
   "outputs": [
    {
     "name": "stdout",
     "output_type": "stream",
     "text": [
      "-999\n",
      "-999\n",
      "-999\n",
      "-999\n",
      "-999\n",
      "-999\n",
      "-999\n",
      "36.90237577890762\n",
      "-92.53325861542274\n",
      "-999\n"
     ]
    }
   ],
   "source": [
    "for col in COL_FACTORS:\n",
    "    replaced_val = replaced_values.get(col) or replaced_values.get('default')\n",
    "    print(replaced_val)\n",
    "    train[col] = train[col].fillna(replaced_val)\n",
    "    test[col] = test[col].fillna(replaced_val)"
   ]
  },
  {
   "cell_type": "code",
   "execution_count": 15,
   "metadata": {},
   "outputs": [
    {
     "data": {
      "text/html": [
       "<div>\n",
       "<style scoped>\n",
       "    .dataframe tbody tr th:only-of-type {\n",
       "        vertical-align: middle;\n",
       "    }\n",
       "\n",
       "    .dataframe tbody tr th {\n",
       "        vertical-align: top;\n",
       "    }\n",
       "\n",
       "    .dataframe thead th {\n",
       "        text-align: right;\n",
       "    }\n",
       "</style>\n",
       "<table border=\"1\" class=\"dataframe\">\n",
       "  <thead>\n",
       "    <tr style=\"text-align: right;\">\n",
       "      <th></th>\n",
       "      <th>amount</th>\n",
       "      <th>bank_currency</th>\n",
       "      <th>bin</th>\n",
       "      <th>day_of_week</th>\n",
       "      <th>hour</th>\n",
       "      <th>is_city_resolved</th>\n",
       "      <th>is_gender_undefined</th>\n",
       "      <th>latitude</th>\n",
       "      <th>longitude</th>\n",
       "      <th>phone_2_norm</th>\n",
       "    </tr>\n",
       "  </thead>\n",
       "  <tbody>\n",
       "  </tbody>\n",
       "</table>\n",
       "</div>"
      ],
      "text/plain": [
       "Empty DataFrame\n",
       "Columns: [amount, bank_currency, bin, day_of_week, hour, is_city_resolved, is_gender_undefined, latitude, longitude, phone_2_norm]\n",
       "Index: []"
      ]
     },
     "execution_count": 15,
     "metadata": {},
     "output_type": "execute_result"
    }
   ],
   "source": [
    "mask = train.isnull().any(axis=1)\n",
    "train[mask].head()"
   ]
  },
  {
   "cell_type": "code",
   "execution_count": 16,
   "metadata": {},
   "outputs": [
    {
     "data": {
      "text/html": [
       "<div>\n",
       "<style scoped>\n",
       "    .dataframe tbody tr th:only-of-type {\n",
       "        vertical-align: middle;\n",
       "    }\n",
       "\n",
       "    .dataframe tbody tr th {\n",
       "        vertical-align: top;\n",
       "    }\n",
       "\n",
       "    .dataframe thead th {\n",
       "        text-align: right;\n",
       "    }\n",
       "</style>\n",
       "<table border=\"1\" class=\"dataframe\">\n",
       "  <thead>\n",
       "    <tr style=\"text-align: right;\">\n",
       "      <th></th>\n",
       "      <th>amount</th>\n",
       "      <th>bank_currency</th>\n",
       "      <th>bin</th>\n",
       "      <th>day_of_week</th>\n",
       "      <th>hour</th>\n",
       "      <th>is_city_resolved</th>\n",
       "      <th>is_gender_undefined</th>\n",
       "      <th>latitude</th>\n",
       "      <th>longitude</th>\n",
       "      <th>phone_2_norm</th>\n",
       "    </tr>\n",
       "  </thead>\n",
       "  <tbody>\n",
       "  </tbody>\n",
       "</table>\n",
       "</div>"
      ],
      "text/plain": [
       "Empty DataFrame\n",
       "Columns: [amount, bank_currency, bin, day_of_week, hour, is_city_resolved, is_gender_undefined, latitude, longitude, phone_2_norm]\n",
       "Index: []"
      ]
     },
     "execution_count": 16,
     "metadata": {},
     "output_type": "execute_result"
    }
   ],
   "source": [
    "mask = test.isnull().any(axis=1)\n",
    "test[mask].head()"
   ]
  },
  {
   "cell_type": "code",
   "execution_count": 17,
   "metadata": {},
   "outputs": [],
   "source": [
    "train = train.values\n",
    "test = test.values\n",
    "label = db_teach.status"
   ]
  },
  {
   "cell_type": "code",
   "execution_count": 18,
   "metadata": {},
   "outputs": [],
   "source": [
    "analyzer_prediction =  AnalyzerPrediction(db_teach, db_test, white)"
   ]
  },
  {
   "cell_type": "code",
   "execution_count": 19,
   "metadata": {},
   "outputs": [],
   "source": [
    "result_df_amount = None\n",
    "weight = analyzer_prediction.get_xgb_weight()"
   ]
  },
  {
   "cell_type": "markdown",
   "metadata": {},
   "source": [
    "## Create model "
   ]
  },
  {
   "cell_type": "code",
   "execution_count": 20,
   "metadata": {},
   "outputs": [],
   "source": [
    "max_depth = 3\n",
    "eta = 0.35\n",
    "nround = 80\n",
    "config = {'max_depth': max_depth, 'learning_rate': eta\n",
    "          , 'n_estimators': nround\n",
    "         }\n",
    "model = xgb.XGBClassifier(**config)\n",
    "\n",
    "model.fit(train, label, eval_metric = 'auc', sample_weight=weight)\n",
    "test_pred = model.predict_proba(test)\n",
    "db_test[\"probability\"] = test_pred[:, 1]\n",
    "\n",
    "description = '-' . join([str(elem) for elem in (max_depth, nround, eta)])                    \n",
    "result_df_amount = analyzer_prediction.get_table_prediction(description=description, result_df=result_df_amount, metric=\"amount\")"
   ]
  },
  {
   "cell_type": "code",
   "execution_count": 21,
   "metadata": {},
   "outputs": [
    {
     "data": {
      "text/html": [
       "<div>\n",
       "<style scoped>\n",
       "    .dataframe tbody tr th:only-of-type {\n",
       "        vertical-align: middle;\n",
       "    }\n",
       "\n",
       "    .dataframe tbody tr th {\n",
       "        vertical-align: top;\n",
       "    }\n",
       "\n",
       "    .dataframe thead th {\n",
       "        text-align: right;\n",
       "    }\n",
       "</style>\n",
       "<table border=\"1\" class=\"dataframe\">\n",
       "  <thead>\n",
       "    <tr style=\"text-align: right;\">\n",
       "      <th></th>\n",
       "      <th>description</th>\n",
       "      <th>p_1</th>\n",
       "      <th>p_2</th>\n",
       "      <th>p_3</th>\n",
       "      <th>p_4</th>\n",
       "      <th>p_5</th>\n",
       "      <th>p_6</th>\n",
       "      <th>p_7</th>\n",
       "      <th>p_10</th>\n",
       "      <th>p_20</th>\n",
       "      <th>rating</th>\n",
       "    </tr>\n",
       "  </thead>\n",
       "  <tbody>\n",
       "    <tr>\n",
       "      <th>0</th>\n",
       "      <td>3-80-0.35</td>\n",
       "      <td>7.650000</td>\n",
       "      <td>14.720000</td>\n",
       "      <td>19.920000</td>\n",
       "      <td>20.120000</td>\n",
       "      <td>23.020000</td>\n",
       "      <td>23.790000</td>\n",
       "      <td>26.930000</td>\n",
       "      <td>30.950000</td>\n",
       "      <td>42.680000</td>\n",
       "      <td>159.06</td>\n",
       "    </tr>\n",
       "    <tr>\n",
       "      <th>1</th>\n",
       "      <td>threshold amount</td>\n",
       "      <td>0.829273</td>\n",
       "      <td>0.793692</td>\n",
       "      <td>0.775948</td>\n",
       "      <td>0.757474</td>\n",
       "      <td>0.741971</td>\n",
       "      <td>0.730823</td>\n",
       "      <td>0.719396</td>\n",
       "      <td>0.688381</td>\n",
       "      <td>0.615996</td>\n",
       "      <td>159.06</td>\n",
       "    </tr>\n",
       "  </tbody>\n",
       "</table>\n",
       "</div>"
      ],
      "text/plain": [
       "        description       p_1        p_2        p_3        p_4        p_5  \\\n",
       "0         3-80-0.35  7.650000  14.720000  19.920000  20.120000  23.020000   \n",
       "1  threshold amount  0.829273   0.793692   0.775948   0.757474   0.741971   \n",
       "\n",
       "         p_6        p_7       p_10       p_20  rating  \n",
       "0  23.790000  26.930000  30.950000  42.680000  159.06  \n",
       "1   0.730823   0.719396   0.688381   0.615996  159.06  "
      ]
     },
     "execution_count": 21,
     "metadata": {},
     "output_type": "execute_result"
    }
   ],
   "source": [
    "result_df_amount.iloc[:,:11]"
   ]
  },
  {
   "cell_type": "markdown",
   "metadata": {},
   "source": [
    "## Save model"
   ]
  },
  {
   "cell_type": "code",
   "execution_count": 22,
   "metadata": {},
   "outputs": [],
   "source": [
    "conf_model = {'profile': model, 'algorithm_name': 'xgboost', 'factor_list': COL_FACTORS, 'replaced_values': replaced_values}"
   ]
  },
  {
   "cell_type": "code",
   "execution_count": 23,
   "metadata": {},
   "outputs": [
    {
     "data": {
      "text/plain": [
       "'2021-01-22'"
      ]
     },
     "execution_count": 23,
     "metadata": {},
     "output_type": "execute_result"
    }
   ],
   "source": [
    "from datetime import date\n",
    "today = date.today()\n",
    "today = today.strftime(\"%Y-%m-%d\")\n",
    "today"
   ]
  },
  {
   "cell_type": "code",
   "execution_count": 24,
   "metadata": {},
   "outputs": [],
   "source": [
    "import re \n",
    "file_name =  '_' . join([str(elem) for elem in ('xgb', 'kyw3',  description, today)]) \n",
    "file_name  = re.sub(\"[.]\", \"\", file_name)"
   ]
  },
  {
   "cell_type": "code",
   "execution_count": 25,
   "metadata": {},
   "outputs": [
    {
     "data": {
      "text/plain": [
       "['xgb_kyw3_3-80-035_2021-01-22']"
      ]
     },
     "execution_count": 25,
     "metadata": {},
     "output_type": "execute_result"
    }
   ],
   "source": [
    "joblib.dump(conf_model, file_name)"
   ]
  },
  {
   "cell_type": "markdown",
   "metadata": {},
   "source": [
    "## Load model"
   ]
  },
  {
   "cell_type": "code",
   "execution_count": 26,
   "metadata": {},
   "outputs": [],
   "source": [
    "m_config = joblib.load(file_name)"
   ]
  },
  {
   "cell_type": "code",
   "execution_count": 27,
   "metadata": {},
   "outputs": [],
   "source": [
    "m1 = m_config.get('profile')"
   ]
  },
  {
   "cell_type": "code",
   "execution_count": 28,
   "metadata": {},
   "outputs": [],
   "source": [
    "test_pred = m1.predict_proba(test)\n",
    "db_test[\"probability\"] = test_pred[:, 1]\n",
    "\n",
    "description = '-' . join([str(elem) for elem in (max_depth, nround, eta)])                    \n",
    "result_df_amount = analyzer_prediction.get_table_prediction(description=description, result_df=result_df_amount, metric=\"amount\")"
   ]
  },
  {
   "cell_type": "code",
   "execution_count": 29,
   "metadata": {},
   "outputs": [
    {
     "data": {
      "text/html": [
       "<div>\n",
       "<style scoped>\n",
       "    .dataframe tbody tr th:only-of-type {\n",
       "        vertical-align: middle;\n",
       "    }\n",
       "\n",
       "    .dataframe tbody tr th {\n",
       "        vertical-align: top;\n",
       "    }\n",
       "\n",
       "    .dataframe thead th {\n",
       "        text-align: right;\n",
       "    }\n",
       "</style>\n",
       "<table border=\"1\" class=\"dataframe\">\n",
       "  <thead>\n",
       "    <tr style=\"text-align: right;\">\n",
       "      <th></th>\n",
       "      <th>description</th>\n",
       "      <th>p_1</th>\n",
       "      <th>p_2</th>\n",
       "      <th>p_3</th>\n",
       "      <th>p_4</th>\n",
       "      <th>p_5</th>\n",
       "      <th>p_6</th>\n",
       "      <th>p_7</th>\n",
       "      <th>p_10</th>\n",
       "      <th>p_20</th>\n",
       "      <th>rating</th>\n",
       "      <th>n_white_list</th>\n",
       "      <th>n_test_in_wl</th>\n",
       "      <th>n_test_bad_in_wl</th>\n",
       "      <th>amount_test_in_wl</th>\n",
       "      <th>amount_test_bad_in_wl</th>\n",
       "      <th>n_teach</th>\n",
       "      <th>n_teach_bad</th>\n",
       "      <th>n_test</th>\n",
       "      <th>n_test_bad</th>\n",
       "      <th>amount_test_bad</th>\n",
       "      <th>amount_test</th>\n",
       "    </tr>\n",
       "  </thead>\n",
       "  <tbody>\n",
       "    <tr>\n",
       "      <th>0</th>\n",
       "      <td>3-80-0.35</td>\n",
       "      <td>7.650000</td>\n",
       "      <td>14.720000</td>\n",
       "      <td>19.920000</td>\n",
       "      <td>20.120000</td>\n",
       "      <td>23.020000</td>\n",
       "      <td>23.790000</td>\n",
       "      <td>26.930000</td>\n",
       "      <td>30.950000</td>\n",
       "      <td>42.680000</td>\n",
       "      <td>159.06</td>\n",
       "      <td>1019125</td>\n",
       "      <td>22992</td>\n",
       "      <td>34</td>\n",
       "      <td>1640236.53</td>\n",
       "      <td>6191.08</td>\n",
       "      <td>433425</td>\n",
       "      <td>6261</td>\n",
       "      <td>58862</td>\n",
       "      <td>755</td>\n",
       "      <td>120400.38</td>\n",
       "      <td>4.989361e+06</td>\n",
       "    </tr>\n",
       "    <tr>\n",
       "      <th>1</th>\n",
       "      <td>threshold amount</td>\n",
       "      <td>0.829273</td>\n",
       "      <td>0.793692</td>\n",
       "      <td>0.775948</td>\n",
       "      <td>0.757474</td>\n",
       "      <td>0.741971</td>\n",
       "      <td>0.730823</td>\n",
       "      <td>0.719396</td>\n",
       "      <td>0.688381</td>\n",
       "      <td>0.615996</td>\n",
       "      <td>159.06</td>\n",
       "      <td>1019125</td>\n",
       "      <td>22992</td>\n",
       "      <td>34</td>\n",
       "      <td>1640236.53</td>\n",
       "      <td>6191.08</td>\n",
       "      <td>433425</td>\n",
       "      <td>6261</td>\n",
       "      <td>58862</td>\n",
       "      <td>755</td>\n",
       "      <td>120400.38</td>\n",
       "      <td>4.989361e+06</td>\n",
       "    </tr>\n",
       "    <tr>\n",
       "      <th>2</th>\n",
       "      <td>3-80-0.35</td>\n",
       "      <td>7.650000</td>\n",
       "      <td>14.720000</td>\n",
       "      <td>19.920000</td>\n",
       "      <td>20.120000</td>\n",
       "      <td>23.020000</td>\n",
       "      <td>23.790000</td>\n",
       "      <td>26.930000</td>\n",
       "      <td>30.950000</td>\n",
       "      <td>42.680000</td>\n",
       "      <td>159.06</td>\n",
       "      <td>1019125</td>\n",
       "      <td>22992</td>\n",
       "      <td>34</td>\n",
       "      <td>1640236.53</td>\n",
       "      <td>6191.08</td>\n",
       "      <td>433425</td>\n",
       "      <td>6261</td>\n",
       "      <td>58862</td>\n",
       "      <td>755</td>\n",
       "      <td>120400.38</td>\n",
       "      <td>4.989361e+06</td>\n",
       "    </tr>\n",
       "    <tr>\n",
       "      <th>3</th>\n",
       "      <td>threshold amount</td>\n",
       "      <td>0.829273</td>\n",
       "      <td>0.793692</td>\n",
       "      <td>0.775948</td>\n",
       "      <td>0.757474</td>\n",
       "      <td>0.741971</td>\n",
       "      <td>0.730823</td>\n",
       "      <td>0.719396</td>\n",
       "      <td>0.688381</td>\n",
       "      <td>0.615996</td>\n",
       "      <td>159.06</td>\n",
       "      <td>1019125</td>\n",
       "      <td>22992</td>\n",
       "      <td>34</td>\n",
       "      <td>1640236.53</td>\n",
       "      <td>6191.08</td>\n",
       "      <td>433425</td>\n",
       "      <td>6261</td>\n",
       "      <td>58862</td>\n",
       "      <td>755</td>\n",
       "      <td>120400.38</td>\n",
       "      <td>4.989361e+06</td>\n",
       "    </tr>\n",
       "  </tbody>\n",
       "</table>\n",
       "</div>"
      ],
      "text/plain": [
       "        description       p_1        p_2        p_3        p_4        p_5  \\\n",
       "0         3-80-0.35  7.650000  14.720000  19.920000  20.120000  23.020000   \n",
       "1  threshold amount  0.829273   0.793692   0.775948   0.757474   0.741971   \n",
       "2         3-80-0.35  7.650000  14.720000  19.920000  20.120000  23.020000   \n",
       "3  threshold amount  0.829273   0.793692   0.775948   0.757474   0.741971   \n",
       "\n",
       "         p_6        p_7       p_10       p_20  rating  n_white_list  \\\n",
       "0  23.790000  26.930000  30.950000  42.680000  159.06       1019125   \n",
       "1   0.730823   0.719396   0.688381   0.615996  159.06       1019125   \n",
       "2  23.790000  26.930000  30.950000  42.680000  159.06       1019125   \n",
       "3   0.730823   0.719396   0.688381   0.615996  159.06       1019125   \n",
       "\n",
       "   n_test_in_wl  n_test_bad_in_wl  amount_test_in_wl  amount_test_bad_in_wl  \\\n",
       "0         22992                34         1640236.53                6191.08   \n",
       "1         22992                34         1640236.53                6191.08   \n",
       "2         22992                34         1640236.53                6191.08   \n",
       "3         22992                34         1640236.53                6191.08   \n",
       "\n",
       "   n_teach  n_teach_bad  n_test  n_test_bad  amount_test_bad   amount_test  \n",
       "0   433425         6261   58862         755        120400.38  4.989361e+06  \n",
       "1   433425         6261   58862         755        120400.38  4.989361e+06  \n",
       "2   433425         6261   58862         755        120400.38  4.989361e+06  \n",
       "3   433425         6261   58862         755        120400.38  4.989361e+06  "
      ]
     },
     "execution_count": 29,
     "metadata": {},
     "output_type": "execute_result"
    }
   ],
   "source": [
    "result_df_amount"
   ]
  },
  {
   "cell_type": "code",
   "execution_count": 30,
   "metadata": {},
   "outputs": [
    {
     "data": {
      "text/plain": [
       "dict_keys(['profile', 'algorithm_name', 'factor_list', 'replaced_values'])"
      ]
     },
     "execution_count": 30,
     "metadata": {},
     "output_type": "execute_result"
    }
   ],
   "source": [
    "m_config.keys()"
   ]
  },
  {
   "cell_type": "code",
   "execution_count": 31,
   "metadata": {},
   "outputs": [
    {
     "data": {
      "text/plain": [
       "{'latitude': 36.90237577890762,\n",
       " 'longitude': -92.53325861542274,\n",
       " 'default': -999}"
      ]
     },
     "execution_count": 31,
     "metadata": {},
     "output_type": "execute_result"
    }
   ],
   "source": [
    "m_config.get('replaced_values')"
   ]
  }
 ],
 "metadata": {
  "kernelspec": {
   "display_name": "Python 3",
   "language": "python",
   "name": "python3"
  },
  "language_info": {
   "codemirror_mode": {
    "name": "ipython",
    "version": 3
   },
   "file_extension": ".py",
   "mimetype": "text/x-python",
   "name": "python",
   "nbconvert_exporter": "python",
   "pygments_lexer": "ipython3",
   "version": "3.7.6"
  }
 },
 "nbformat": 4,
 "nbformat_minor": 4
}
