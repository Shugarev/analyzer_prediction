{
 "cells": [
  {
   "cell_type": "code",
   "execution_count": 1,
   "metadata": {},
   "outputs": [
    {
     "name": "stdout",
     "output_type": "stream",
     "text": [
      "python version: sys.version_info(major=3, minor=7, micro=6, releaselevel='final', serial=0)\n",
      "pandas version:  1.0.1\n",
      "numpy version:  1.19.2\n",
      "sklearn version:  0.24.1\n",
      "xgboost version:  1.2.0\n",
      "joblib version:  1.0.0\n"
     ]
    }
   ],
   "source": [
    "import sys\n",
    "print('python version:', sys.version_info)\n",
    "import os,inspect\n",
    "\n",
    "import pandas as pd\n",
    "print('pandas version: ', pd.__version__)\n",
    "\n",
    "import numpy as np\n",
    "print('numpy version: ', np.__version__)\n",
    "\n",
    "import sklearn\n",
    "print('sklearn version: ', sklearn.__version__)\n",
    "\n",
    "import xgboost as xgb\n",
    "print('xgboost version: ', xgb.__version__)\n",
    "\n",
    "import joblib\n",
    "print('joblib version: ', joblib.__version__)"
   ]
  },
  {
   "cell_type": "code",
   "execution_count": 2,
   "metadata": {},
   "outputs": [],
   "source": [
    "assert sys.version_info >= (3, 7) and sys.version_info < (3, 8)\n",
    "assert sklearn.__version__ >= \"0.24\" and sklearn.__version__ < \"0.25\"\n",
    "assert pd.__version__ >= \"1.0.1\" and pd.__version__ < \"1.2\"\n",
    "assert np.__version__ >= \"1.19.2\" and np.__version__ < \"1.2\"\n",
    "assert xgb.__version__ >= \"1.2.0\" and xgb.__version__ < \"1.3.0\"\n",
    "assert joblib.__version__ >= \"1.0.0\" and joblib.__version__ < \"1.3.0\""
   ]
  },
  {
   "cell_type": "code",
   "execution_count": 3,
   "metadata": {},
   "outputs": [],
   "source": [
    "currentdir = os.path.dirname(os.path.abspath(inspect.getfile(inspect.currentframe())))\n",
    "parentdir = os.path.dirname(currentdir)\n",
    "sys.path.insert(0,parentdir)\n",
    "pd.set_option('display.max_colwidth', 100)\n",
    "pd.set_option('display.max_rows', 20)\n",
    "pd.set_option('display.max_columns', 500)"
   ]
  },
  {
   "cell_type": "code",
   "execution_count": 4,
   "metadata": {},
   "outputs": [],
   "source": [
    "from utils import UtilsKy\n",
    "from analyzer import AnalyzerPrediction"
   ]
  },
  {
   "cell_type": "code",
   "execution_count": 5,
   "metadata": {},
   "outputs": [],
   "source": [
    "# for autoreload modules\n",
    "%load_ext autoreload\n",
    "%autoreload 2"
   ]
  },
  {
   "cell_type": "code",
   "execution_count": 6,
   "metadata": {},
   "outputs": [],
   "source": [
    "# kyw3\n",
    "path_data = '/mnt/files/workdata/work/merchants/merchant_33_kyw3_2020-06-05/04_experiments/ex_01_some_teach/'\n",
    "db_teach = pd.read_csv(UtilsKy.DB_TEACH_KYW3, dtype=str, encoding='cp1251')\n",
    "db_test = pd.read_csv(UtilsKy.DB_TEST_KYW3, dtype=str, encoding='cp1251')\n",
    "white = pd.read_csv(UtilsKy.WHITE_KYW3 , dtype=str)"
   ]
  },
  {
   "cell_type": "code",
   "execution_count": 7,
   "metadata": {},
   "outputs": [],
   "source": [
    "# For check order replace\n",
    "db_test.latitude.values[0] = 'undef'\n",
    "db_test.longitude.values[0] = 'undef'"
   ]
  },
  {
   "cell_type": "code",
   "execution_count": 8,
   "metadata": {},
   "outputs": [
    {
     "data": {
      "text/plain": [
       "['amount',\n",
       " 'bank_currency',\n",
       " 'bin',\n",
       " 'day_of_week',\n",
       " 'hour',\n",
       " 'is_city_resolved',\n",
       " 'is_gender_undefined',\n",
       " 'latitude',\n",
       " 'longitude',\n",
       " 'phone_2_norm']"
      ]
     },
     "execution_count": 8,
     "metadata": {},
     "output_type": "execute_result"
    }
   ],
   "source": [
    "COL_FACTORS = ['bin', 'amount', 'bank_currency', 'hour', 'day_of_week', 'longitude', 'latitude',\n",
    "               'phone_2_norm', 'is_gender_undefined', 'is_city_resolved']\n",
    "COL_FACTORS = sorted(COL_FACTORS)\n",
    "COL_FACTORS"
   ]
  },
  {
   "cell_type": "code",
   "execution_count": 9,
   "metadata": {},
   "outputs": [
    {
     "name": "stdout",
     "output_type": "stream",
     "text": [
      "train na columns : Index(['latitude', 'longitude'], dtype='object')\n",
      "test na columns : Index(['latitude', 'longitude'], dtype='object')\n",
      "-999\n",
      "-999\n",
      "-999\n",
      "-999\n",
      "-999\n",
      "-999\n",
      "-92.53325861542274\n",
      "36.90237577890762\n",
      "-999\n",
      "-999\n"
     ]
    }
   ],
   "source": [
    "# For Xgboost\n",
    "from helper import DataHelper\n",
    "datahelper = DataHelper(db_teach, db_test, COL_FACTORS)\n",
    "datahelper.create_train_test()\n",
    "datahelper.show_columns_with_na()\n",
    "mean_values = datahelper.get_mean_value()\n",
    "replaced_values = { col: mean_values[col] for col in ('latitude', 'longitude')}\n",
    "replaced_values['default'] =  -999\n",
    "datahelper.replaced_na_values(replaced_values)   \n",
    "train , test = datahelper.get_train_test()"
   ]
  },
  {
   "cell_type": "code",
   "execution_count": 10,
   "metadata": {},
   "outputs": [],
   "source": [
    "train = train.values\n",
    "test = test.values\n",
    "label = db_teach.status"
   ]
  },
  {
   "cell_type": "code",
   "execution_count": 11,
   "metadata": {},
   "outputs": [],
   "source": [
    "analyzer_prediction =  AnalyzerPrediction(db_teach, db_test, white)"
   ]
  },
  {
   "cell_type": "code",
   "execution_count": 12,
   "metadata": {},
   "outputs": [],
   "source": [
    "result_df_amount = None\n",
    "weight = analyzer_prediction.get_xgb_weight()"
   ]
  },
  {
   "cell_type": "markdown",
   "metadata": {},
   "source": [
    "## Create model "
   ]
  },
  {
   "cell_type": "code",
   "execution_count": 13,
   "metadata": {},
   "outputs": [],
   "source": [
    "max_depth = 3\n",
    "eta = 0.35\n",
    "nround = 80\n",
    "config = {'max_depth': max_depth, 'learning_rate': eta\n",
    "          , 'n_estimators': nround\n",
    "         }\n",
    "model = xgb.XGBClassifier(**config)\n",
    "\n",
    "model.fit(train, label, eval_metric = 'auc', sample_weight=weight)\n",
    "test_pred = model.predict_proba(test)\n",
    "db_test[\"probability\"] = test_pred[:, 1]\n",
    "\n",
    "description = '-' . join([str(elem) for elem in (max_depth, nround, eta)])                    \n",
    "result_df_amount = analyzer_prediction.get_table_prediction(description=description, result_df=result_df_amount, metric=\"amount\")"
   ]
  },
  {
   "cell_type": "code",
   "execution_count": 26,
   "metadata": {},
   "outputs": [
    {
     "data": {
      "text/html": [
       "<div>\n",
       "<style scoped>\n",
       "    .dataframe tbody tr th:only-of-type {\n",
       "        vertical-align: middle;\n",
       "    }\n",
       "\n",
       "    .dataframe tbody tr th {\n",
       "        vertical-align: top;\n",
       "    }\n",
       "\n",
       "    .dataframe thead th {\n",
       "        text-align: right;\n",
       "    }\n",
       "</style>\n",
       "<table border=\"1\" class=\"dataframe\">\n",
       "  <thead>\n",
       "    <tr style=\"text-align: right;\">\n",
       "      <th></th>\n",
       "      <th>description</th>\n",
       "      <th>p_1</th>\n",
       "      <th>p_2</th>\n",
       "      <th>p_3</th>\n",
       "      <th>p_4</th>\n",
       "      <th>p_5</th>\n",
       "      <th>p_6</th>\n",
       "      <th>p_7</th>\n",
       "      <th>p_10</th>\n",
       "      <th>p_20</th>\n",
       "      <th>rating</th>\n",
       "    </tr>\n",
       "  </thead>\n",
       "  <tbody>\n",
       "    <tr>\n",
       "      <th>0</th>\n",
       "      <td>3-80-0.35</td>\n",
       "      <td>7.650000</td>\n",
       "      <td>14.720000</td>\n",
       "      <td>19.920000</td>\n",
       "      <td>20.120000</td>\n",
       "      <td>23.020000</td>\n",
       "      <td>23.790000</td>\n",
       "      <td>26.930000</td>\n",
       "      <td>30.950000</td>\n",
       "      <td>42.680000</td>\n",
       "      <td>159.06</td>\n",
       "    </tr>\n",
       "    <tr>\n",
       "      <th>1</th>\n",
       "      <td>threshold amount</td>\n",
       "      <td>0.829273</td>\n",
       "      <td>0.793692</td>\n",
       "      <td>0.775948</td>\n",
       "      <td>0.757474</td>\n",
       "      <td>0.741971</td>\n",
       "      <td>0.730823</td>\n",
       "      <td>0.719396</td>\n",
       "      <td>0.688381</td>\n",
       "      <td>0.615996</td>\n",
       "      <td>159.06</td>\n",
       "    </tr>\n",
       "  </tbody>\n",
       "</table>\n",
       "</div>"
      ],
      "text/plain": [
       "        description       p_1        p_2        p_3        p_4        p_5  \\\n",
       "0         3-80-0.35  7.650000  14.720000  19.920000  20.120000  23.020000   \n",
       "1  threshold amount  0.829273   0.793692   0.775948   0.757474   0.741971   \n",
       "\n",
       "         p_6        p_7       p_10       p_20  rating  \n",
       "0  23.790000  26.930000  30.950000  42.680000  159.06  \n",
       "1   0.730823   0.719396   0.688381   0.615996  159.06  "
      ]
     },
     "execution_count": 26,
     "metadata": {},
     "output_type": "execute_result"
    }
   ],
   "source": [
    "result_df_amount.iloc[:,:11]"
   ]
  },
  {
   "cell_type": "markdown",
   "metadata": {},
   "source": [
    "## Save model"
   ]
  },
  {
   "cell_type": "code",
   "execution_count": 27,
   "metadata": {},
   "outputs": [],
   "source": [
    "conf_model = {'profile': model, 'algorithm_name': 'xgboost', 'factor_list': COL_FACTORS, 'replaced_values': replaced_values}"
   ]
  },
  {
   "cell_type": "code",
   "execution_count": 28,
   "metadata": {},
   "outputs": [
    {
     "data": {
      "text/plain": [
       "'2021-01-26'"
      ]
     },
     "execution_count": 28,
     "metadata": {},
     "output_type": "execute_result"
    }
   ],
   "source": [
    "from datetime import date\n",
    "today = date.today()\n",
    "today = today.strftime(\"%Y-%m-%d\")\n",
    "today"
   ]
  },
  {
   "cell_type": "code",
   "execution_count": 31,
   "metadata": {},
   "outputs": [],
   "source": [
    "import re \n",
    "file_name =  '_' . join([str(elem) for elem in ('xgb',  description, today)]) \n",
    "file_name  = re.sub(\"[.]\", \"\", file_name)"
   ]
  },
  {
   "cell_type": "code",
   "execution_count": 32,
   "metadata": {},
   "outputs": [
    {
     "data": {
      "text/plain": [
       "['xgb_3-80-035_2021-01-26']"
      ]
     },
     "execution_count": 32,
     "metadata": {},
     "output_type": "execute_result"
    }
   ],
   "source": [
    "joblib.dump(conf_model, file_name)"
   ]
  },
  {
   "cell_type": "markdown",
   "metadata": {},
   "source": [
    "## Load model"
   ]
  },
  {
   "cell_type": "code",
   "execution_count": 34,
   "metadata": {},
   "outputs": [],
   "source": [
    "file_name = 'xgb_3-80-035_2021-01-26'"
   ]
  },
  {
   "cell_type": "code",
   "execution_count": 35,
   "metadata": {},
   "outputs": [],
   "source": [
    "m_config = joblib.load(file_name)"
   ]
  },
  {
   "cell_type": "code",
   "execution_count": 36,
   "metadata": {},
   "outputs": [],
   "source": [
    "m1 = m_config.get('profile')"
   ]
  },
  {
   "cell_type": "code",
   "execution_count": 37,
   "metadata": {},
   "outputs": [],
   "source": [
    "test_pred = m1.predict_proba(test)\n",
    "db_test[\"probability\"] = test_pred[:, 1]\n",
    "\n",
    "description = '-' . join([str(elem) for elem in (max_depth, nround, eta)])                    \n",
    "result_df_amount = analyzer_prediction.get_table_prediction(description=description, result_df=result_df_amount, metric=\"amount\")"
   ]
  },
  {
   "cell_type": "code",
   "execution_count": 38,
   "metadata": {},
   "outputs": [
    {
     "data": {
      "text/plain": [
       "array([0.24286704, 0.13331991, 0.2087203 , 0.39174694, 0.5787057 ],\n",
       "      dtype=float32)"
      ]
     },
     "execution_count": 38,
     "metadata": {},
     "output_type": "execute_result"
    }
   ],
   "source": [
    "test_pred[:5, 1]"
   ]
  },
  {
   "cell_type": "code",
   "execution_count": 40,
   "metadata": {},
   "outputs": [
    {
     "data": {
      "text/plain": [
       "dict_keys(['profile', 'algorithm_name', 'factor_list', 'replaced_values'])"
      ]
     },
     "execution_count": 40,
     "metadata": {},
     "output_type": "execute_result"
    }
   ],
   "source": [
    "m_config.keys()"
   ]
  },
  {
   "cell_type": "code",
   "execution_count": 41,
   "metadata": {},
   "outputs": [
    {
     "data": {
      "text/plain": [
       "{'latitude': 36.90237577890762,\n",
       " 'longitude': -92.53325861542274,\n",
       " 'default': -999}"
      ]
     },
     "execution_count": 41,
     "metadata": {},
     "output_type": "execute_result"
    }
   ],
   "source": [
    "m_config.get('replaced_values')"
   ]
  },
  {
   "cell_type": "code",
   "execution_count": 42,
   "metadata": {},
   "outputs": [
    {
     "data": {
      "text/plain": [
       "['amount',\n",
       " 'bank_currency',\n",
       " 'bin',\n",
       " 'day_of_week',\n",
       " 'hour',\n",
       " 'is_city_resolved',\n",
       " 'is_gender_undefined',\n",
       " 'latitude',\n",
       " 'longitude',\n",
       " 'phone_2_norm']"
      ]
     },
     "execution_count": 42,
     "metadata": {},
     "output_type": "execute_result"
    }
   ],
   "source": [
    "m_config['factor_list']"
   ]
  },
  {
   "cell_type": "markdown",
   "metadata": {},
   "source": [
    "## Create verification order"
   ]
  },
  {
   "cell_type": "code",
   "execution_count": 43,
   "metadata": {},
   "outputs": [
    {
     "data": {
      "text/plain": [
       "amount                 158.85\n",
       "bank_currency             840\n",
       "bin                    510932\n",
       "day_of_week                 2\n",
       "hour                       00\n",
       "is_city_resolved            1\n",
       "is_gender_undefined         1\n",
       "latitude                undef\n",
       "longitude               undef\n",
       "phone_2_norm               20\n",
       "Name: 0, dtype: object"
      ]
     },
     "execution_count": 43,
     "metadata": {},
     "output_type": "execute_result"
    }
   ],
   "source": [
    "check_order = db_test[COL_FACTORS].iloc[0,:]\n",
    "check_order"
   ]
  },
  {
   "cell_type": "code",
   "execution_count": 44,
   "metadata": {},
   "outputs": [
    {
     "data": {
      "text/plain": [
       "{'amount': 158.85,\n",
       " 'bank_currency': '840',\n",
       " 'bin': '510932',\n",
       " 'day_of_week': '2',\n",
       " 'hour': '00',\n",
       " 'is_city_resolved': '1',\n",
       " 'is_gender_undefined': '1',\n",
       " 'latitude': 'undef',\n",
       " 'longitude': 'undef',\n",
       " 'phone_2_norm': '20'}"
      ]
     },
     "execution_count": 44,
     "metadata": {},
     "output_type": "execute_result"
    }
   ],
   "source": [
    "data = check_order.to_dict()\n",
    "data"
   ]
  },
  {
   "cell_type": "code",
   "execution_count": 45,
   "metadata": {},
   "outputs": [
    {
     "data": {
      "text/plain": [
       "{'config': {'profile': 'xgb_3-80-035_2021-01-26'},\n",
       " 'data': {'amount': 158.85,\n",
       "  'bank_currency': '840',\n",
       "  'bin': '510932',\n",
       "  'day_of_week': '2',\n",
       "  'hour': '00',\n",
       "  'is_city_resolved': '1',\n",
       "  'is_gender_undefined': '1',\n",
       "  'latitude': 'undef',\n",
       "  'longitude': 'undef',\n",
       "  'phone_2_norm': '20'}}"
      ]
     },
     "execution_count": 45,
     "metadata": {},
     "output_type": "execute_result"
    }
   ],
   "source": [
    "order = {'config': {'profile': file_name }, 'data': data}\n",
    "order"
   ]
  },
  {
   "cell_type": "code",
   "execution_count": 46,
   "metadata": {},
   "outputs": [],
   "source": [
    "import json"
   ]
  },
  {
   "cell_type": "code",
   "execution_count": 47,
   "metadata": {},
   "outputs": [
    {
     "data": {
      "text/plain": [
       "'{\"config\": {\"profile\": \"xgb_3-80-035_2021-01-26\"}, \"data\": {\"amount\": 158.85, \"bank_currency\": \"840\", \"bin\": \"510932\", \"day_of_week\": \"2\", \"hour\": \"00\", \"is_city_resolved\": \"1\", \"is_gender_undefined\": \"1\", \"latitude\": \"undef\", \"longitude\": \"undef\", \"phone_2_norm\": \"20\"}}'"
      ]
     },
     "execution_count": 47,
     "metadata": {},
     "output_type": "execute_result"
    }
   ],
   "source": [
    "json.dumps(order)"
   ]
  }
 ],
 "metadata": {
  "kernelspec": {
   "display_name": "Python 3",
   "language": "python",
   "name": "python3"
  },
  "language_info": {
   "codemirror_mode": {
    "name": "ipython",
    "version": 3
   },
   "file_extension": ".py",
   "mimetype": "text/x-python",
   "name": "python",
   "nbconvert_exporter": "python",
   "pygments_lexer": "ipython3",
   "version": "3.7.6"
  }
 },
 "nbformat": 4,
 "nbformat_minor": 4
}
