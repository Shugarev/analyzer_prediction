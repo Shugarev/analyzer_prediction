{
 "cells": [
  {
   "cell_type": "code",
   "execution_count": 1,
   "metadata": {},
   "outputs": [
    {
     "name": "stdout",
     "output_type": "stream",
     "text": [
      "python version: sys.version_info(major=3, minor=7, micro=6, releaselevel='final', serial=0)\n",
      "pandas version:  1.0.1\n",
      "numpy version:  1.19.2\n",
      "sklearn version:  0.24.1\n",
      "catboost version:  0.24.3\n",
      "joblib version:  1.0.0\n"
     ]
    }
   ],
   "source": [
    "import sys\n",
    "print('python version:', sys.version_info)\n",
    "import os,inspect\n",
    "\n",
    "import pandas as pd\n",
    "print('pandas version: ', pd.__version__)\n",
    "\n",
    "import numpy as np\n",
    "print('numpy version: ', np.__version__)\n",
    "\n",
    "import sklearn\n",
    "print('sklearn version: ', sklearn.__version__)\n",
    "\n",
    "import catboost\n",
    "print('catboost version: ', catboost.__version__)\n",
    "from catboost import CatBoostClassifier\n",
    "\n",
    "import joblib\n",
    "print('joblib version: ', joblib.__version__)"
   ]
  },
  {
   "cell_type": "code",
   "execution_count": 2,
   "metadata": {},
   "outputs": [],
   "source": [
    "assert sys.version_info >= (3, 7) and sys.version_info < (3, 8)\n",
    "assert sklearn.__version__ >= \"0.24\" and sklearn.__version__ < \"0.25\"\n",
    "assert pd.__version__ >= \"1.0.1\" and pd.__version__ < \"1.2\"\n",
    "assert np.__version__ >= \"1.19.2\" and np.__version__ < \"1.2\"\n",
    "assert catboost.__version__ >= \"0.24.0\" and catboost.__version__ < \"0.25\"\n",
    "assert joblib.__version__ >= \"1.0.0\" and joblib.__version__ < \"1.3.0\""
   ]
  },
  {
   "cell_type": "code",
   "execution_count": 3,
   "metadata": {},
   "outputs": [],
   "source": [
    "currentdir = os.path.dirname(os.path.abspath(inspect.getfile(inspect.currentframe())))\n",
    "parentdir = os.path.dirname(currentdir)\n",
    "sys.path.insert(0,parentdir)\n",
    "pd.set_option('display.max_colwidth', 100)\n",
    "pd.set_option('display.max_rows', 20)\n",
    "pd.set_option('display.max_columns', 500)"
   ]
  },
  {
   "cell_type": "code",
   "execution_count": 4,
   "metadata": {},
   "outputs": [],
   "source": [
    "from utils import UtilsKy\n",
    "from analyzer import AnalyzerPrediction"
   ]
  },
  {
   "cell_type": "code",
   "execution_count": 5,
   "metadata": {},
   "outputs": [],
   "source": [
    "# for autoreload modules\n",
    "%load_ext autoreload\n",
    "%autoreload 2"
   ]
  },
  {
   "cell_type": "code",
   "execution_count": 6,
   "metadata": {},
   "outputs": [],
   "source": [
    "# kyw3\n",
    "path_data = '/mnt/files/workdata/work/merchants/merchant_33_kyw3_2020-06-05/04_experiments/ex_01_some_teach/'\n",
    "db_teach = pd.read_csv(UtilsKy.DB_TEACH_KYW3, dtype=str, encoding='cp1251')\n",
    "db_test = pd.read_csv(UtilsKy.DB_TEST_KYW3, dtype=str, encoding='cp1251')\n",
    "white = pd.read_csv(UtilsKy.WHITE_KYW3 , dtype=str)"
   ]
  },
  {
   "cell_type": "code",
   "execution_count": 7,
   "metadata": {},
   "outputs": [
    {
     "data": {
      "text/plain": [
       "['amount',\n",
       " 'bank_currency',\n",
       " 'bin',\n",
       " 'day_of_week',\n",
       " 'hour',\n",
       " 'is_city_resolved',\n",
       " 'is_gender_undefined',\n",
       " 'latitude',\n",
       " 'longitude',\n",
       " 'phone_2_norm']"
      ]
     },
     "execution_count": 7,
     "metadata": {},
     "output_type": "execute_result"
    }
   ],
   "source": [
    "COL_FACTORS = ['bin', 'amount', 'bank_currency', 'hour', 'day_of_week', 'longitude', 'latitude', 'phone_2_norm', \n",
    "               'is_gender_undefined', 'is_city_resolved']\n",
    "COL_FACTORS = sorted(COL_FACTORS)\n",
    "COL_FACTORS"
   ]
  },
  {
   "cell_type": "code",
   "execution_count": 8,
   "metadata": {},
   "outputs": [],
   "source": [
    "CAT_FEATURES =  ['hour', 'day_of_week', 'bank_currency']"
   ]
  },
  {
   "cell_type": "code",
   "execution_count": 9,
   "metadata": {},
   "outputs": [],
   "source": [
    "def Diff(li1, li2):\n",
    "     return (list(list(set(li1)-set(li2)) + list(set(li2)-set(li1))))"
   ]
  },
  {
   "cell_type": "code",
   "execution_count": 10,
   "metadata": {},
   "outputs": [
    {
     "data": {
      "text/plain": [
       "['latitude',\n",
       " 'is_gender_undefined',\n",
       " 'amount',\n",
       " 'bin',\n",
       " 'is_city_resolved',\n",
       " 'longitude',\n",
       " 'phone_2_norm']"
      ]
     },
     "execution_count": 10,
     "metadata": {},
     "output_type": "execute_result"
    }
   ],
   "source": [
    "NUMERIC_FEATURES = Diff(COL_FACTORS, CAT_FEATURES)\n",
    "NUMERIC_FEATURES"
   ]
  },
  {
   "cell_type": "code",
   "execution_count": 51,
   "metadata": {},
   "outputs": [],
   "source": [
    "train = db_teach[COL_FACTORS].copy()\n",
    "test = db_test[COL_FACTORS].copy()"
   ]
  },
  {
   "cell_type": "code",
   "execution_count": 52,
   "metadata": {},
   "outputs": [],
   "source": [
    "train.loc[:, NUMERIC_FEATURES] = train.loc[:,NUMERIC_FEATURES].apply(pd.to_numeric, errors=\"coerce\")\n",
    "test.loc[:, NUMERIC_FEATURES] = test.loc[:,NUMERIC_FEATURES].apply(pd.to_numeric, errors=\"coerce\")"
   ]
  },
  {
   "cell_type": "markdown",
   "metadata": {},
   "source": [
    "## Show column with NaN values"
   ]
  },
  {
   "cell_type": "code",
   "execution_count": 53,
   "metadata": {},
   "outputs": [
    {
     "data": {
      "text/html": [
       "<div>\n",
       "<style scoped>\n",
       "    .dataframe tbody tr th:only-of-type {\n",
       "        vertical-align: middle;\n",
       "    }\n",
       "\n",
       "    .dataframe tbody tr th {\n",
       "        vertical-align: top;\n",
       "    }\n",
       "\n",
       "    .dataframe thead th {\n",
       "        text-align: right;\n",
       "    }\n",
       "</style>\n",
       "<table border=\"1\" class=\"dataframe\">\n",
       "  <thead>\n",
       "    <tr style=\"text-align: right;\">\n",
       "      <th></th>\n",
       "      <th>amount</th>\n",
       "      <th>bank_currency</th>\n",
       "      <th>bin</th>\n",
       "      <th>day_of_week</th>\n",
       "      <th>hour</th>\n",
       "      <th>is_city_resolved</th>\n",
       "      <th>is_gender_undefined</th>\n",
       "      <th>latitude</th>\n",
       "      <th>longitude</th>\n",
       "      <th>phone_2_norm</th>\n",
       "    </tr>\n",
       "  </thead>\n",
       "  <tbody>\n",
       "    <tr>\n",
       "      <th>218</th>\n",
       "      <td>3.8</td>\n",
       "      <td>76</td>\n",
       "      <td>535016</td>\n",
       "      <td>3</td>\n",
       "      <td>20</td>\n",
       "      <td>0</td>\n",
       "      <td>1</td>\n",
       "      <td>NaN</td>\n",
       "      <td>NaN</td>\n",
       "      <td>19</td>\n",
       "    </tr>\n",
       "    <tr>\n",
       "      <th>368</th>\n",
       "      <td>7.13</td>\n",
       "      <td>76</td>\n",
       "      <td>535016</td>\n",
       "      <td>3</td>\n",
       "      <td>22</td>\n",
       "      <td>0</td>\n",
       "      <td>1</td>\n",
       "      <td>NaN</td>\n",
       "      <td>NaN</td>\n",
       "      <td>19</td>\n",
       "    </tr>\n",
       "    <tr>\n",
       "      <th>393</th>\n",
       "      <td>11.88</td>\n",
       "      <td>76</td>\n",
       "      <td>535016</td>\n",
       "      <td>3</td>\n",
       "      <td>22</td>\n",
       "      <td>0</td>\n",
       "      <td>1</td>\n",
       "      <td>NaN</td>\n",
       "      <td>NaN</td>\n",
       "      <td>19</td>\n",
       "    </tr>\n",
       "    <tr>\n",
       "      <th>398</th>\n",
       "      <td>71.26</td>\n",
       "      <td>76</td>\n",
       "      <td>544731</td>\n",
       "      <td>3</td>\n",
       "      <td>22</td>\n",
       "      <td>0</td>\n",
       "      <td>1</td>\n",
       "      <td>NaN</td>\n",
       "      <td>NaN</td>\n",
       "      <td>19</td>\n",
       "    </tr>\n",
       "    <tr>\n",
       "      <th>407</th>\n",
       "      <td>3.56</td>\n",
       "      <td>76</td>\n",
       "      <td>535016</td>\n",
       "      <td>3</td>\n",
       "      <td>23</td>\n",
       "      <td>0</td>\n",
       "      <td>1</td>\n",
       "      <td>NaN</td>\n",
       "      <td>NaN</td>\n",
       "      <td>19</td>\n",
       "    </tr>\n",
       "  </tbody>\n",
       "</table>\n",
       "</div>"
      ],
      "text/plain": [
       "    amount bank_currency     bin day_of_week hour is_city_resolved  \\\n",
       "218    3.8            76  535016           3   20                0   \n",
       "368   7.13            76  535016           3   22                0   \n",
       "393  11.88            76  535016           3   22                0   \n",
       "398  71.26            76  544731           3   22                0   \n",
       "407   3.56            76  535016           3   23                0   \n",
       "\n",
       "    is_gender_undefined latitude longitude phone_2_norm  \n",
       "218                   1      NaN       NaN           19  \n",
       "368                   1      NaN       NaN           19  \n",
       "393                   1      NaN       NaN           19  \n",
       "398                   1      NaN       NaN           19  \n",
       "407                   1      NaN       NaN           19  "
      ]
     },
     "execution_count": 53,
     "metadata": {},
     "output_type": "execute_result"
    }
   ],
   "source": [
    "mask = train.isnull().any(axis=1)\n",
    "train[mask].head()"
   ]
  },
  {
   "cell_type": "code",
   "execution_count": 54,
   "metadata": {},
   "outputs": [
    {
     "data": {
      "text/html": [
       "<div>\n",
       "<style scoped>\n",
       "    .dataframe tbody tr th:only-of-type {\n",
       "        vertical-align: middle;\n",
       "    }\n",
       "\n",
       "    .dataframe tbody tr th {\n",
       "        vertical-align: top;\n",
       "    }\n",
       "\n",
       "    .dataframe thead th {\n",
       "        text-align: right;\n",
       "    }\n",
       "</style>\n",
       "<table border=\"1\" class=\"dataframe\">\n",
       "  <thead>\n",
       "    <tr style=\"text-align: right;\">\n",
       "      <th></th>\n",
       "      <th>amount</th>\n",
       "      <th>bank_currency</th>\n",
       "      <th>bin</th>\n",
       "      <th>day_of_week</th>\n",
       "      <th>hour</th>\n",
       "      <th>is_city_resolved</th>\n",
       "      <th>is_gender_undefined</th>\n",
       "      <th>latitude</th>\n",
       "      <th>longitude</th>\n",
       "      <th>phone_2_norm</th>\n",
       "    </tr>\n",
       "  </thead>\n",
       "  <tbody>\n",
       "    <tr>\n",
       "      <th>247</th>\n",
       "      <td>76.92</td>\n",
       "      <td>124</td>\n",
       "      <td>543440</td>\n",
       "      <td>2</td>\n",
       "      <td>02</td>\n",
       "      <td>0</td>\n",
       "      <td>0</td>\n",
       "      <td>NaN</td>\n",
       "      <td>NaN</td>\n",
       "      <td>13</td>\n",
       "    </tr>\n",
       "    <tr>\n",
       "      <th>703</th>\n",
       "      <td>3.77</td>\n",
       "      <td>76</td>\n",
       "      <td>534543</td>\n",
       "      <td>2</td>\n",
       "      <td>06</td>\n",
       "      <td>0</td>\n",
       "      <td>1</td>\n",
       "      <td>NaN</td>\n",
       "      <td>NaN</td>\n",
       "      <td>19</td>\n",
       "    </tr>\n",
       "    <tr>\n",
       "      <th>1050</th>\n",
       "      <td>3.77</td>\n",
       "      <td>76</td>\n",
       "      <td>534543</td>\n",
       "      <td>2</td>\n",
       "      <td>12</td>\n",
       "      <td>0</td>\n",
       "      <td>1</td>\n",
       "      <td>NaN</td>\n",
       "      <td>NaN</td>\n",
       "      <td>19</td>\n",
       "    </tr>\n",
       "    <tr>\n",
       "      <th>1088</th>\n",
       "      <td>3.77</td>\n",
       "      <td>76</td>\n",
       "      <td>534543</td>\n",
       "      <td>2</td>\n",
       "      <td>13</td>\n",
       "      <td>0</td>\n",
       "      <td>1</td>\n",
       "      <td>NaN</td>\n",
       "      <td>NaN</td>\n",
       "      <td>19</td>\n",
       "    </tr>\n",
       "    <tr>\n",
       "      <th>1390</th>\n",
       "      <td>9.42</td>\n",
       "      <td>76</td>\n",
       "      <td>515590</td>\n",
       "      <td>2</td>\n",
       "      <td>17</td>\n",
       "      <td>0</td>\n",
       "      <td>1</td>\n",
       "      <td>NaN</td>\n",
       "      <td>NaN</td>\n",
       "      <td>19</td>\n",
       "    </tr>\n",
       "  </tbody>\n",
       "</table>\n",
       "</div>"
      ],
      "text/plain": [
       "      amount bank_currency     bin day_of_week hour  is_city_resolved  \\\n",
       "247    76.92           124  543440           2   02                 0   \n",
       "703     3.77            76  534543           2   06                 0   \n",
       "1050    3.77            76  534543           2   12                 0   \n",
       "1088    3.77            76  534543           2   13                 0   \n",
       "1390    9.42            76  515590           2   17                 0   \n",
       "\n",
       "      is_gender_undefined  latitude  longitude  phone_2_norm  \n",
       "247                     0       NaN        NaN            13  \n",
       "703                     1       NaN        NaN            19  \n",
       "1050                    1       NaN        NaN            19  \n",
       "1088                    1       NaN        NaN            19  \n",
       "1390                    1       NaN        NaN            19  "
      ]
     },
     "execution_count": 54,
     "metadata": {},
     "output_type": "execute_result"
    }
   ],
   "source": [
    "mask = test.isnull().any(axis=1)\n",
    "test[mask].head()"
   ]
  },
  {
   "cell_type": "code",
   "execution_count": 55,
   "metadata": {},
   "outputs": [
    {
     "data": {
      "text/plain": [
       "Index(['latitude', 'longitude'], dtype='object')"
      ]
     },
     "execution_count": 55,
     "metadata": {},
     "output_type": "execute_result"
    }
   ],
   "source": [
    "test.columns[test.isnull().any(axis=0)]"
   ]
  },
  {
   "cell_type": "code",
   "execution_count": 56,
   "metadata": {},
   "outputs": [],
   "source": [
    "lat_replace = train.latitude.mean()\n",
    "long_replace = train.longitude.mean()\n",
    "\n",
    "replaced_values = {'latitude': lat_replace, 'longitude': long_replace, 'default': -999}"
   ]
  },
  {
   "cell_type": "code",
   "execution_count": 57,
   "metadata": {},
   "outputs": [],
   "source": [
    "for col in NUMERIC_FEATURES:\n",
    "    replaced_val = replaced_values.get(col) or replaced_values.get('default')\n",
    "    #print(replaced_val)\n",
    "    train[col] = train[col].fillna(replaced_val)\n",
    "    test[col] = test[col].fillna(replaced_val)"
   ]
  },
  {
   "cell_type": "code",
   "execution_count": 58,
   "metadata": {},
   "outputs": [
    {
     "data": {
      "text/html": [
       "<div>\n",
       "<style scoped>\n",
       "    .dataframe tbody tr th:only-of-type {\n",
       "        vertical-align: middle;\n",
       "    }\n",
       "\n",
       "    .dataframe tbody tr th {\n",
       "        vertical-align: top;\n",
       "    }\n",
       "\n",
       "    .dataframe thead th {\n",
       "        text-align: right;\n",
       "    }\n",
       "</style>\n",
       "<table border=\"1\" class=\"dataframe\">\n",
       "  <thead>\n",
       "    <tr style=\"text-align: right;\">\n",
       "      <th></th>\n",
       "      <th>amount</th>\n",
       "      <th>bank_currency</th>\n",
       "      <th>bin</th>\n",
       "      <th>day_of_week</th>\n",
       "      <th>hour</th>\n",
       "      <th>is_city_resolved</th>\n",
       "      <th>is_gender_undefined</th>\n",
       "      <th>latitude</th>\n",
       "      <th>longitude</th>\n",
       "      <th>phone_2_norm</th>\n",
       "    </tr>\n",
       "  </thead>\n",
       "  <tbody>\n",
       "  </tbody>\n",
       "</table>\n",
       "</div>"
      ],
      "text/plain": [
       "Empty DataFrame\n",
       "Columns: [amount, bank_currency, bin, day_of_week, hour, is_city_resolved, is_gender_undefined, latitude, longitude, phone_2_norm]\n",
       "Index: []"
      ]
     },
     "execution_count": 58,
     "metadata": {},
     "output_type": "execute_result"
    }
   ],
   "source": [
    "mask = train.isnull().any(axis=1)\n",
    "train[mask].head()"
   ]
  },
  {
   "cell_type": "code",
   "execution_count": 59,
   "metadata": {},
   "outputs": [
    {
     "data": {
      "text/html": [
       "<div>\n",
       "<style scoped>\n",
       "    .dataframe tbody tr th:only-of-type {\n",
       "        vertical-align: middle;\n",
       "    }\n",
       "\n",
       "    .dataframe tbody tr th {\n",
       "        vertical-align: top;\n",
       "    }\n",
       "\n",
       "    .dataframe thead th {\n",
       "        text-align: right;\n",
       "    }\n",
       "</style>\n",
       "<table border=\"1\" class=\"dataframe\">\n",
       "  <thead>\n",
       "    <tr style=\"text-align: right;\">\n",
       "      <th></th>\n",
       "      <th>amount</th>\n",
       "      <th>bank_currency</th>\n",
       "      <th>bin</th>\n",
       "      <th>day_of_week</th>\n",
       "      <th>hour</th>\n",
       "      <th>is_city_resolved</th>\n",
       "      <th>is_gender_undefined</th>\n",
       "      <th>latitude</th>\n",
       "      <th>longitude</th>\n",
       "      <th>phone_2_norm</th>\n",
       "    </tr>\n",
       "  </thead>\n",
       "  <tbody>\n",
       "  </tbody>\n",
       "</table>\n",
       "</div>"
      ],
      "text/plain": [
       "Empty DataFrame\n",
       "Columns: [amount, bank_currency, bin, day_of_week, hour, is_city_resolved, is_gender_undefined, latitude, longitude, phone_2_norm]\n",
       "Index: []"
      ]
     },
     "execution_count": 59,
     "metadata": {},
     "output_type": "execute_result"
    }
   ],
   "source": [
    "mask = test.isnull().any(axis=1)\n",
    "test[mask].head()"
   ]
  },
  {
   "cell_type": "code",
   "execution_count": 60,
   "metadata": {},
   "outputs": [],
   "source": [
    "seed = 45\n",
    "from sklearn.model_selection import train_test_split\n",
    "X_train, X_validation, y_train, y_validation = train_test_split(train, db_teach.status, train_size=0.7, random_state=seed)"
   ]
  },
  {
   "cell_type": "code",
   "execution_count": 61,
   "metadata": {},
   "outputs": [],
   "source": [
    "teach_for_analyzer = X_train.copy()\n",
    "teach_for_analyzer['status'] = y_train"
   ]
  },
  {
   "cell_type": "code",
   "execution_count": 62,
   "metadata": {},
   "outputs": [],
   "source": [
    "analyzer_prediction =  AnalyzerPrediction(teach_for_analyzer, db_test, white)"
   ]
  },
  {
   "cell_type": "code",
   "execution_count": 63,
   "metadata": {},
   "outputs": [],
   "source": [
    "result_df_amount = None\n",
    "weight = analyzer_prediction.get_xgb_weight()"
   ]
  },
  {
   "cell_type": "markdown",
   "metadata": {},
   "source": [
    "## Create model "
   ]
  },
  {
   "cell_type": "code",
   "execution_count": 78,
   "metadata": {},
   "outputs": [],
   "source": [
    "max_depth = 3\n",
    "eta = 0.15\n",
    "nround = 75\n",
    "config = {'max_depth': max_depth, 'learning_rate': eta\n",
    "          , 'n_estimators': nround\n",
    "         }            \n",
    "model = CatBoostClassifier(**config)  \n",
    "model.fit(\n",
    "    X_train, y_train\n",
    "    ,cat_features=CAT_FEATURES\n",
    "    ,eval_set=(X_validation, y_validation)\n",
    "    ,verbose=False\n",
    ")\n",
    "\n",
    "test_pred = model.predict_proba(test)\n",
    "db_test[\"probability\"] = test_pred[:, 1]\n",
    "\n",
    "description = '-' . join([str(elem) for elem in (max_depth, nround, eta)])   \n",
    "description +=  '_seed_{}' .format(seed)\n",
    "result_df_amount = analyzer_prediction.get_table_prediction(description=description, result_df=result_df_amount, metric=\"amount\")"
   ]
  },
  {
   "cell_type": "code",
   "execution_count": 73,
   "metadata": {},
   "outputs": [
    {
     "data": {
      "text/html": [
       "<div>\n",
       "<style scoped>\n",
       "    .dataframe tbody tr th:only-of-type {\n",
       "        vertical-align: middle;\n",
       "    }\n",
       "\n",
       "    .dataframe tbody tr th {\n",
       "        vertical-align: top;\n",
       "    }\n",
       "\n",
       "    .dataframe thead th {\n",
       "        text-align: right;\n",
       "    }\n",
       "</style>\n",
       "<table border=\"1\" class=\"dataframe\">\n",
       "  <thead>\n",
       "    <tr style=\"text-align: right;\">\n",
       "      <th></th>\n",
       "      <th>description</th>\n",
       "      <th>p_1</th>\n",
       "      <th>p_2</th>\n",
       "      <th>p_3</th>\n",
       "      <th>p_4</th>\n",
       "      <th>p_5</th>\n",
       "      <th>p_6</th>\n",
       "      <th>p_7</th>\n",
       "      <th>p_10</th>\n",
       "      <th>p_20</th>\n",
       "      <th>rating</th>\n",
       "    </tr>\n",
       "  </thead>\n",
       "  <tbody>\n",
       "    <tr>\n",
       "      <th>0</th>\n",
       "      <td>3-75-0.15_random_state_ww_45</td>\n",
       "      <td>7.450000</td>\n",
       "      <td>12.770000</td>\n",
       "      <td>15.130000</td>\n",
       "      <td>17.970000</td>\n",
       "      <td>20.070000</td>\n",
       "      <td>21.370000</td>\n",
       "      <td>24.170000</td>\n",
       "      <td>35.740000</td>\n",
       "      <td>53.990000</td>\n",
       "      <td>163.12</td>\n",
       "    </tr>\n",
       "    <tr>\n",
       "      <th>1</th>\n",
       "      <td>threshold amount</td>\n",
       "      <td>0.054274</td>\n",
       "      <td>0.045433</td>\n",
       "      <td>0.040989</td>\n",
       "      <td>0.037476</td>\n",
       "      <td>0.035343</td>\n",
       "      <td>0.033515</td>\n",
       "      <td>0.032292</td>\n",
       "      <td>0.029455</td>\n",
       "      <td>0.024407</td>\n",
       "      <td>163.12</td>\n",
       "    </tr>\n",
       "    <tr>\n",
       "      <th>2</th>\n",
       "      <td>3-75-0.15_seed45</td>\n",
       "      <td>7.450000</td>\n",
       "      <td>12.770000</td>\n",
       "      <td>15.130000</td>\n",
       "      <td>17.970000</td>\n",
       "      <td>20.070000</td>\n",
       "      <td>21.370000</td>\n",
       "      <td>24.170000</td>\n",
       "      <td>35.740000</td>\n",
       "      <td>53.990000</td>\n",
       "      <td>163.12</td>\n",
       "    </tr>\n",
       "    <tr>\n",
       "      <th>3</th>\n",
       "      <td>threshold amount</td>\n",
       "      <td>0.054274</td>\n",
       "      <td>0.045433</td>\n",
       "      <td>0.040989</td>\n",
       "      <td>0.037476</td>\n",
       "      <td>0.035343</td>\n",
       "      <td>0.033515</td>\n",
       "      <td>0.032292</td>\n",
       "      <td>0.029455</td>\n",
       "      <td>0.024407</td>\n",
       "      <td>163.12</td>\n",
       "    </tr>\n",
       "  </tbody>\n",
       "</table>\n",
       "</div>"
      ],
      "text/plain": [
       "                    description       p_1        p_2        p_3        p_4  \\\n",
       "0  3-75-0.15_random_state_ww_45  7.450000  12.770000  15.130000  17.970000   \n",
       "1              threshold amount  0.054274   0.045433   0.040989   0.037476   \n",
       "2              3-75-0.15_seed45  7.450000  12.770000  15.130000  17.970000   \n",
       "3              threshold amount  0.054274   0.045433   0.040989   0.037476   \n",
       "\n",
       "         p_5        p_6        p_7       p_10       p_20  rating  \n",
       "0  20.070000  21.370000  24.170000  35.740000  53.990000  163.12  \n",
       "1   0.035343   0.033515   0.032292   0.029455   0.024407  163.12  \n",
       "2  20.070000  21.370000  24.170000  35.740000  53.990000  163.12  \n",
       "3   0.035343   0.033515   0.032292   0.029455   0.024407  163.12  "
      ]
     },
     "execution_count": 73,
     "metadata": {},
     "output_type": "execute_result"
    }
   ],
   "source": [
    "result_df_amount.iloc[:,:11]"
   ]
  },
  {
   "cell_type": "markdown",
   "metadata": {},
   "source": [
    "## Save model"
   ]
  },
  {
   "cell_type": "code",
   "execution_count": 79,
   "metadata": {},
   "outputs": [],
   "source": [
    "conf_model = {'profile': model, 'algorithm_name': 'catboost', 'factor_list': COL_FACTORS, 'replaced_values': replaced_values, \n",
    "             'numeric_factors': NUMERIC_FEATURES}"
   ]
  },
  {
   "cell_type": "code",
   "execution_count": 80,
   "metadata": {},
   "outputs": [
    {
     "data": {
      "text/plain": [
       "'2021-01-22'"
      ]
     },
     "execution_count": 80,
     "metadata": {},
     "output_type": "execute_result"
    }
   ],
   "source": [
    "from datetime import date\n",
    "today = date.today()\n",
    "today = today.strftime(\"%Y-%m-%d\")\n",
    "today"
   ]
  },
  {
   "cell_type": "code",
   "execution_count": 81,
   "metadata": {},
   "outputs": [],
   "source": [
    "import re \n",
    "file_name =  '_' . join([str(elem) for elem in ('cat', 'kyw3',  description, today)]) \n",
    "file_name  = re.sub(\"[.]\", \"\", file_name)"
   ]
  },
  {
   "cell_type": "code",
   "execution_count": 82,
   "metadata": {},
   "outputs": [
    {
     "data": {
      "text/plain": [
       "['cat_kyw3_3-75-015_seed_45_2021-01-22']"
      ]
     },
     "execution_count": 82,
     "metadata": {},
     "output_type": "execute_result"
    }
   ],
   "source": [
    "joblib.dump(conf_model, file_name)"
   ]
  },
  {
   "cell_type": "markdown",
   "metadata": {},
   "source": [
    "## Load model"
   ]
  },
  {
   "cell_type": "code",
   "execution_count": 83,
   "metadata": {},
   "outputs": [],
   "source": [
    "m_config = joblib.load(file_name)"
   ]
  },
  {
   "cell_type": "code",
   "execution_count": 84,
   "metadata": {},
   "outputs": [],
   "source": [
    "m1 = m_config.get('profile')"
   ]
  },
  {
   "cell_type": "code",
   "execution_count": 85,
   "metadata": {},
   "outputs": [],
   "source": [
    "test_pred = m1.predict_proba(test)\n",
    "db_test[\"probability\"] = test_pred[:, 1]\n",
    "\n",
    "description = '-' . join([str(elem) for elem in (max_depth, nround, eta)])                    \n",
    "result_df_amount = analyzer_prediction.get_table_prediction(description=description, result_df=result_df_amount, metric=\"amount\")"
   ]
  },
  {
   "cell_type": "code",
   "execution_count": 86,
   "metadata": {},
   "outputs": [
    {
     "data": {
      "text/html": [
       "<div>\n",
       "<style scoped>\n",
       "    .dataframe tbody tr th:only-of-type {\n",
       "        vertical-align: middle;\n",
       "    }\n",
       "\n",
       "    .dataframe tbody tr th {\n",
       "        vertical-align: top;\n",
       "    }\n",
       "\n",
       "    .dataframe thead th {\n",
       "        text-align: right;\n",
       "    }\n",
       "</style>\n",
       "<table border=\"1\" class=\"dataframe\">\n",
       "  <thead>\n",
       "    <tr style=\"text-align: right;\">\n",
       "      <th></th>\n",
       "      <th>description</th>\n",
       "      <th>p_1</th>\n",
       "      <th>p_2</th>\n",
       "      <th>p_3</th>\n",
       "      <th>p_4</th>\n",
       "      <th>p_5</th>\n",
       "      <th>p_6</th>\n",
       "      <th>p_7</th>\n",
       "      <th>p_10</th>\n",
       "      <th>p_20</th>\n",
       "      <th>rating</th>\n",
       "      <th>n_white_list</th>\n",
       "      <th>n_test_in_wl</th>\n",
       "      <th>n_test_bad_in_wl</th>\n",
       "      <th>amount_test_in_wl</th>\n",
       "      <th>amount_test_bad_in_wl</th>\n",
       "      <th>n_teach</th>\n",
       "      <th>n_teach_bad</th>\n",
       "      <th>n_test</th>\n",
       "      <th>n_test_bad</th>\n",
       "      <th>amount_test_bad</th>\n",
       "      <th>amount_test</th>\n",
       "    </tr>\n",
       "  </thead>\n",
       "  <tbody>\n",
       "    <tr>\n",
       "      <th>0</th>\n",
       "      <td>3-75-0.15_random_state_ww_45</td>\n",
       "      <td>7.450000</td>\n",
       "      <td>12.770000</td>\n",
       "      <td>15.130000</td>\n",
       "      <td>17.970000</td>\n",
       "      <td>20.070000</td>\n",
       "      <td>21.370000</td>\n",
       "      <td>24.170000</td>\n",
       "      <td>35.740000</td>\n",
       "      <td>53.990000</td>\n",
       "      <td>163.12</td>\n",
       "      <td>1019125</td>\n",
       "      <td>22992</td>\n",
       "      <td>34</td>\n",
       "      <td>1640236.53</td>\n",
       "      <td>6191.08</td>\n",
       "      <td>303397</td>\n",
       "      <td>4303</td>\n",
       "      <td>58862</td>\n",
       "      <td>755</td>\n",
       "      <td>120400.38</td>\n",
       "      <td>4.989361e+06</td>\n",
       "    </tr>\n",
       "    <tr>\n",
       "      <th>1</th>\n",
       "      <td>threshold amount</td>\n",
       "      <td>0.054274</td>\n",
       "      <td>0.045433</td>\n",
       "      <td>0.040989</td>\n",
       "      <td>0.037476</td>\n",
       "      <td>0.035343</td>\n",
       "      <td>0.033515</td>\n",
       "      <td>0.032292</td>\n",
       "      <td>0.029455</td>\n",
       "      <td>0.024407</td>\n",
       "      <td>163.12</td>\n",
       "      <td>1019125</td>\n",
       "      <td>22992</td>\n",
       "      <td>34</td>\n",
       "      <td>1640236.53</td>\n",
       "      <td>6191.08</td>\n",
       "      <td>303397</td>\n",
       "      <td>4303</td>\n",
       "      <td>58862</td>\n",
       "      <td>755</td>\n",
       "      <td>120400.38</td>\n",
       "      <td>4.989361e+06</td>\n",
       "    </tr>\n",
       "    <tr>\n",
       "      <th>2</th>\n",
       "      <td>3-75-0.15_seed45</td>\n",
       "      <td>7.450000</td>\n",
       "      <td>12.770000</td>\n",
       "      <td>15.130000</td>\n",
       "      <td>17.970000</td>\n",
       "      <td>20.070000</td>\n",
       "      <td>21.370000</td>\n",
       "      <td>24.170000</td>\n",
       "      <td>35.740000</td>\n",
       "      <td>53.990000</td>\n",
       "      <td>163.12</td>\n",
       "      <td>1019125</td>\n",
       "      <td>22992</td>\n",
       "      <td>34</td>\n",
       "      <td>1640236.53</td>\n",
       "      <td>6191.08</td>\n",
       "      <td>303397</td>\n",
       "      <td>4303</td>\n",
       "      <td>58862</td>\n",
       "      <td>755</td>\n",
       "      <td>120400.38</td>\n",
       "      <td>4.989361e+06</td>\n",
       "    </tr>\n",
       "    <tr>\n",
       "      <th>3</th>\n",
       "      <td>threshold amount</td>\n",
       "      <td>0.054274</td>\n",
       "      <td>0.045433</td>\n",
       "      <td>0.040989</td>\n",
       "      <td>0.037476</td>\n",
       "      <td>0.035343</td>\n",
       "      <td>0.033515</td>\n",
       "      <td>0.032292</td>\n",
       "      <td>0.029455</td>\n",
       "      <td>0.024407</td>\n",
       "      <td>163.12</td>\n",
       "      <td>1019125</td>\n",
       "      <td>22992</td>\n",
       "      <td>34</td>\n",
       "      <td>1640236.53</td>\n",
       "      <td>6191.08</td>\n",
       "      <td>303397</td>\n",
       "      <td>4303</td>\n",
       "      <td>58862</td>\n",
       "      <td>755</td>\n",
       "      <td>120400.38</td>\n",
       "      <td>4.989361e+06</td>\n",
       "    </tr>\n",
       "    <tr>\n",
       "      <th>4</th>\n",
       "      <td>3-75-0.15_seed_45</td>\n",
       "      <td>7.450000</td>\n",
       "      <td>12.770000</td>\n",
       "      <td>15.130000</td>\n",
       "      <td>17.970000</td>\n",
       "      <td>20.070000</td>\n",
       "      <td>21.370000</td>\n",
       "      <td>24.170000</td>\n",
       "      <td>35.740000</td>\n",
       "      <td>53.990000</td>\n",
       "      <td>163.12</td>\n",
       "      <td>1019125</td>\n",
       "      <td>22992</td>\n",
       "      <td>34</td>\n",
       "      <td>1640236.53</td>\n",
       "      <td>6191.08</td>\n",
       "      <td>303397</td>\n",
       "      <td>4303</td>\n",
       "      <td>58862</td>\n",
       "      <td>755</td>\n",
       "      <td>120400.38</td>\n",
       "      <td>4.989361e+06</td>\n",
       "    </tr>\n",
       "    <tr>\n",
       "      <th>5</th>\n",
       "      <td>threshold amount</td>\n",
       "      <td>0.054274</td>\n",
       "      <td>0.045433</td>\n",
       "      <td>0.040989</td>\n",
       "      <td>0.037476</td>\n",
       "      <td>0.035343</td>\n",
       "      <td>0.033515</td>\n",
       "      <td>0.032292</td>\n",
       "      <td>0.029455</td>\n",
       "      <td>0.024407</td>\n",
       "      <td>163.12</td>\n",
       "      <td>1019125</td>\n",
       "      <td>22992</td>\n",
       "      <td>34</td>\n",
       "      <td>1640236.53</td>\n",
       "      <td>6191.08</td>\n",
       "      <td>303397</td>\n",
       "      <td>4303</td>\n",
       "      <td>58862</td>\n",
       "      <td>755</td>\n",
       "      <td>120400.38</td>\n",
       "      <td>4.989361e+06</td>\n",
       "    </tr>\n",
       "    <tr>\n",
       "      <th>6</th>\n",
       "      <td>3-75-0.15</td>\n",
       "      <td>7.450000</td>\n",
       "      <td>12.770000</td>\n",
       "      <td>15.130000</td>\n",
       "      <td>17.970000</td>\n",
       "      <td>20.070000</td>\n",
       "      <td>21.370000</td>\n",
       "      <td>24.170000</td>\n",
       "      <td>35.740000</td>\n",
       "      <td>53.990000</td>\n",
       "      <td>163.12</td>\n",
       "      <td>1019125</td>\n",
       "      <td>22992</td>\n",
       "      <td>34</td>\n",
       "      <td>1640236.53</td>\n",
       "      <td>6191.08</td>\n",
       "      <td>303397</td>\n",
       "      <td>4303</td>\n",
       "      <td>58862</td>\n",
       "      <td>755</td>\n",
       "      <td>120400.38</td>\n",
       "      <td>4.989361e+06</td>\n",
       "    </tr>\n",
       "    <tr>\n",
       "      <th>7</th>\n",
       "      <td>threshold amount</td>\n",
       "      <td>0.054274</td>\n",
       "      <td>0.045433</td>\n",
       "      <td>0.040989</td>\n",
       "      <td>0.037476</td>\n",
       "      <td>0.035343</td>\n",
       "      <td>0.033515</td>\n",
       "      <td>0.032292</td>\n",
       "      <td>0.029455</td>\n",
       "      <td>0.024407</td>\n",
       "      <td>163.12</td>\n",
       "      <td>1019125</td>\n",
       "      <td>22992</td>\n",
       "      <td>34</td>\n",
       "      <td>1640236.53</td>\n",
       "      <td>6191.08</td>\n",
       "      <td>303397</td>\n",
       "      <td>4303</td>\n",
       "      <td>58862</td>\n",
       "      <td>755</td>\n",
       "      <td>120400.38</td>\n",
       "      <td>4.989361e+06</td>\n",
       "    </tr>\n",
       "  </tbody>\n",
       "</table>\n",
       "</div>"
      ],
      "text/plain": [
       "                    description       p_1        p_2        p_3        p_4  \\\n",
       "0  3-75-0.15_random_state_ww_45  7.450000  12.770000  15.130000  17.970000   \n",
       "1              threshold amount  0.054274   0.045433   0.040989   0.037476   \n",
       "2              3-75-0.15_seed45  7.450000  12.770000  15.130000  17.970000   \n",
       "3              threshold amount  0.054274   0.045433   0.040989   0.037476   \n",
       "4             3-75-0.15_seed_45  7.450000  12.770000  15.130000  17.970000   \n",
       "5              threshold amount  0.054274   0.045433   0.040989   0.037476   \n",
       "6                     3-75-0.15  7.450000  12.770000  15.130000  17.970000   \n",
       "7              threshold amount  0.054274   0.045433   0.040989   0.037476   \n",
       "\n",
       "         p_5        p_6        p_7       p_10       p_20  rating  \\\n",
       "0  20.070000  21.370000  24.170000  35.740000  53.990000  163.12   \n",
       "1   0.035343   0.033515   0.032292   0.029455   0.024407  163.12   \n",
       "2  20.070000  21.370000  24.170000  35.740000  53.990000  163.12   \n",
       "3   0.035343   0.033515   0.032292   0.029455   0.024407  163.12   \n",
       "4  20.070000  21.370000  24.170000  35.740000  53.990000  163.12   \n",
       "5   0.035343   0.033515   0.032292   0.029455   0.024407  163.12   \n",
       "6  20.070000  21.370000  24.170000  35.740000  53.990000  163.12   \n",
       "7   0.035343   0.033515   0.032292   0.029455   0.024407  163.12   \n",
       "\n",
       "   n_white_list  n_test_in_wl  n_test_bad_in_wl  amount_test_in_wl  \\\n",
       "0       1019125         22992                34         1640236.53   \n",
       "1       1019125         22992                34         1640236.53   \n",
       "2       1019125         22992                34         1640236.53   \n",
       "3       1019125         22992                34         1640236.53   \n",
       "4       1019125         22992                34         1640236.53   \n",
       "5       1019125         22992                34         1640236.53   \n",
       "6       1019125         22992                34         1640236.53   \n",
       "7       1019125         22992                34         1640236.53   \n",
       "\n",
       "   amount_test_bad_in_wl  n_teach  n_teach_bad  n_test  n_test_bad  \\\n",
       "0                6191.08   303397         4303   58862         755   \n",
       "1                6191.08   303397         4303   58862         755   \n",
       "2                6191.08   303397         4303   58862         755   \n",
       "3                6191.08   303397         4303   58862         755   \n",
       "4                6191.08   303397         4303   58862         755   \n",
       "5                6191.08   303397         4303   58862         755   \n",
       "6                6191.08   303397         4303   58862         755   \n",
       "7                6191.08   303397         4303   58862         755   \n",
       "\n",
       "   amount_test_bad   amount_test  \n",
       "0        120400.38  4.989361e+06  \n",
       "1        120400.38  4.989361e+06  \n",
       "2        120400.38  4.989361e+06  \n",
       "3        120400.38  4.989361e+06  \n",
       "4        120400.38  4.989361e+06  \n",
       "5        120400.38  4.989361e+06  \n",
       "6        120400.38  4.989361e+06  \n",
       "7        120400.38  4.989361e+06  "
      ]
     },
     "execution_count": 86,
     "metadata": {},
     "output_type": "execute_result"
    }
   ],
   "source": [
    "result_df_amount"
   ]
  },
  {
   "cell_type": "code",
   "execution_count": 87,
   "metadata": {},
   "outputs": [
    {
     "data": {
      "text/plain": [
       "dict_keys(['profile', 'algorithm_name', 'factor_list', 'replaced_values', 'numeric_factors'])"
      ]
     },
     "execution_count": 87,
     "metadata": {},
     "output_type": "execute_result"
    }
   ],
   "source": [
    "m_config.keys()"
   ]
  },
  {
   "cell_type": "code",
   "execution_count": 88,
   "metadata": {},
   "outputs": [
    {
     "data": {
      "text/plain": [
       "{'latitude': 36.90237577890762,\n",
       " 'longitude': -92.53325861542274,\n",
       " 'default': -999}"
      ]
     },
     "execution_count": 88,
     "metadata": {},
     "output_type": "execute_result"
    }
   ],
   "source": [
    "m_config.get('replaced_values')"
   ]
  }
 ],
 "metadata": {
  "kernelspec": {
   "display_name": "Python 3",
   "language": "python",
   "name": "python3"
  },
  "language_info": {
   "codemirror_mode": {
    "name": "ipython",
    "version": 3
   },
   "file_extension": ".py",
   "mimetype": "text/x-python",
   "name": "python",
   "nbconvert_exporter": "python",
   "pygments_lexer": "ipython3",
   "version": "3.7.6"
  }
 },
 "nbformat": 4,
 "nbformat_minor": 4
}
