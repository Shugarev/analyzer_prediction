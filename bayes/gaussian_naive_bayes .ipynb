{
 "cells": [
  {
   "cell_type": "code",
   "execution_count": 1,
   "metadata": {},
   "outputs": [],
   "source": [
    "import pandas as pd\n",
    "import numpy as np\n",
    "from itertools import *\n",
    "pd.set_option('display.max_rows', 15)\n",
    "pd.set_option('display.max_columns', None)"
   ]
  },
  {
   "cell_type": "code",
   "execution_count": 2,
   "metadata": {},
   "outputs": [],
   "source": [
    "import os,sys,inspect\n",
    "currentdir = os.path.dirname(os.path.abspath(inspect.getfile(inspect.currentframe())))\n",
    "parentdir = os.path.dirname(currentdir)\n",
    "sys.path.insert(0,parentdir)"
   ]
  },
  {
   "cell_type": "code",
   "execution_count": 3,
   "metadata": {},
   "outputs": [],
   "source": [
    "import warnings\n",
    "warnings.filterwarnings('ignore')"
   ]
  },
  {
   "cell_type": "code",
   "execution_count": 4,
   "metadata": {},
   "outputs": [],
   "source": [
    "# for autoreload modules\n",
    "%load_ext autoreload\n",
    "%autoreload 2"
   ]
  },
  {
   "cell_type": "code",
   "execution_count": 5,
   "metadata": {},
   "outputs": [],
   "source": [
    "from statistic import Statistic\n",
    "from utils import UtilsKy\n",
    "from factors import Factor\n",
    "from analyzer import HelperAnalyzer, AnalyzerPrediction"
   ]
  },
  {
   "cell_type": "code",
   "execution_count": 6,
   "metadata": {},
   "outputs": [],
   "source": [
    "from naive_bayes import Bayes"
   ]
  },
  {
   "cell_type": "code",
   "execution_count": 7,
   "metadata": {},
   "outputs": [],
   "source": [
    "# kyw3\n",
    "path_data = '/mnt/files/workdata/work/merchants/merchant_33_kyw3_2020-06-05/04_experiments/ex_01_some_teach/'\n",
    "db_teach = pd.read_csv(UtilsKy.DB_TEACH_KYW3, dtype=str, encoding='cp1251')\n",
    "db_test = pd.read_csv(UtilsKy.DB_TEST_KYW3, dtype=str, encoding='cp1251')\n",
    "white = pd.read_csv(UtilsKy.WHITE_KYW3 , dtype=str)"
   ]
  },
  {
   "cell_type": "code",
   "execution_count": 9,
   "metadata": {},
   "outputs": [
    {
     "data": {
      "text/plain": [
       "\"['amount', 'amount_deviation', 'bank_currency', 'bin', 'city', 'count_months_to_end_card', 'day_of_week', 'gender2', 'hour', 'id', 'is_city_resolved', 'is_gender_undefined', 'latitude', 'longitude', 'order_id', 'phone_2_norm', 'status']\""
      ]
     },
     "execution_count": 9,
     "metadata": {},
     "output_type": "execute_result"
    }
   ],
   "source": [
    "str(list(db_teach))"
   ]
  },
  {
   "cell_type": "code",
   "execution_count": 10,
   "metadata": {},
   "outputs": [],
   "source": [
    "path_resolving_file = '/mnt/files/workdata/work/merchants/merchant_33_kyw3_2020-06-05/02_pure_data/kyw3_for_resolve.csv'\n",
    "df_resolving = pd.read_csv(path_resolving_file, dtype=str, encoding='cp1251')"
   ]
  },
  {
   "cell_type": "code",
   "execution_count": 11,
   "metadata": {},
   "outputs": [
    {
     "data": {
      "text/plain": [
       "\"['order_id', 'type', 'status', 'date', 'processed', 'amount', 'currency', 'card_holder', 'email', 'phone', 'address', 'city_from_order', 'country', 'zip', 'ip', 'project_id', 'reported', 'status_chargeback', 'date_cb_only', 'card_masked', 'card_expire', 'amount_in_currency', 'date_only', 'id']\""
      ]
     },
     "execution_count": 11,
     "metadata": {},
     "output_type": "execute_result"
    }
   ],
   "source": [
    "str(list(df_resolving))"
   ]
  },
  {
   "cell_type": "code",
   "execution_count": 12,
   "metadata": {},
   "outputs": [],
   "source": [
    "features_res = ['country', 'card_holder', 'city_from_order', 'zip', 'ip', 'card_expire', 'amount_in_currency', 'order_id']"
   ]
  },
  {
   "cell_type": "code",
   "execution_count": 13,
   "metadata": {},
   "outputs": [],
   "source": [
    "db_teach = db_teach.merge(df_resolving[features_res], left_on='order_id', right_on='order_id', how='left')\n",
    "db_test = db_test.merge(df_resolving[features_res], left_on='order_id', right_on='order_id', how='left')"
   ]
  },
  {
   "cell_type": "code",
   "execution_count": 14,
   "metadata": {},
   "outputs": [
    {
     "data": {
      "text/plain": [
       "\"['amount', 'amount_deviation', 'bank_currency', 'bin', 'city', 'count_months_to_end_card', 'day_of_week', 'gender2', 'hour', 'id', 'is_city_resolved', 'is_gender_undefined', 'latitude', 'longitude', 'order_id', 'phone_2_norm', 'status', 'country', 'card_holder', 'city_from_order', 'zip', 'ip', 'card_expire', 'amount_in_currency']\""
      ]
     },
     "execution_count": 14,
     "metadata": {},
     "output_type": "execute_result"
    }
   ],
   "source": [
    "str(list(db_test))"
   ]
  },
  {
   "cell_type": "code",
   "execution_count": 25,
   "metadata": {},
   "outputs": [],
   "source": [
    "mean_longitude_usa = -97"
   ]
  },
  {
   "cell_type": "code",
   "execution_count": 26,
   "metadata": {},
   "outputs": [],
   "source": [
    "db_teach.longitude = np.where(db_teach.longitude == 'undefined', mean_longitude_usa, db_teach.longitude)\n",
    "db_teach.longitude = pd.to_numeric(db_teach.longitude)\n",
    "db_teach.longitude = db_teach.longitude.apply(lambda x: round(x))"
   ]
  },
  {
   "cell_type": "code",
   "execution_count": 31,
   "metadata": {},
   "outputs": [],
   "source": [
    "db_test.longitude = np.where(db_test.longitude == 'undefined', mean_longitude_usa, db_test.longitude)\n",
    "db_test.longitude = pd.to_numeric(db_test.longitude)\n",
    "db_test.longitude = db_test.longitude.apply(lambda x: round(x))"
   ]
  },
  {
   "cell_type": "code",
   "execution_count": 28,
   "metadata": {},
   "outputs": [],
   "source": [
    "mean_latitude_usa = 38"
   ]
  },
  {
   "cell_type": "code",
   "execution_count": 29,
   "metadata": {},
   "outputs": [],
   "source": [
    "db_teach.latitude = np.where(db_teach.latitude == 'undefined', mean_latitude_usa, db_teach.latitude)\n",
    "db_teach.latitude = pd.to_numeric(db_teach.latitude)\n",
    "db_teach.latitude = db_teach.latitude.apply(lambda x: round(x))"
   ]
  },
  {
   "cell_type": "code",
   "execution_count": 32,
   "metadata": {},
   "outputs": [],
   "source": [
    "db_test.latitude = np.where(db_test.latitude == 'undefined', mean_latitude_usa, db_test.latitude)\n",
    "db_test.latitude = pd.to_numeric(db_test.latitude)\n",
    "db_test.latitude = db_test.latitude.apply(lambda x: round(x))"
   ]
  },
  {
   "cell_type": "code",
   "execution_count": 40,
   "metadata": {},
   "outputs": [],
   "source": [
    "def change_ip(ip):\n",
    "    x = str.split(ip, '.') \n",
    "    x = x[0] + '.' + x[1]\n",
    "    return x"
   ]
  },
  {
   "cell_type": "code",
   "execution_count": 44,
   "metadata": {},
   "outputs": [],
   "source": [
    "db_teach.ip = db_teach.ip.apply(lambda x: change_ip(x))\n",
    "db_test.ip = db_test.ip.apply(lambda x: change_ip(x))"
   ]
  },
  {
   "cell_type": "code",
   "execution_count": 50,
   "metadata": {},
   "outputs": [],
   "source": [
    "db_teach.amount_in_currency = pd.to_numeric(db_teach.amount_in_currency)\n",
    "db_teach.amount_in_currency = db_teach.amount_in_currency.apply(lambda x: round(x))"
   ]
  },
  {
   "cell_type": "code",
   "execution_count": 51,
   "metadata": {},
   "outputs": [],
   "source": [
    "db_test.amount_in_currency = pd.to_numeric(db_test.amount_in_currency)\n",
    "db_test.amount_in_currency = db_test.amount_in_currency.apply(lambda x: round(x))"
   ]
  },
  {
   "cell_type": "code",
   "execution_count": 55,
   "metadata": {},
   "outputs": [],
   "source": [
    "COL_FACTORS = ['amount_deviation', 'bank_currency', 'bin', 'city', 'count_months_to_end_card', 'day_of_week', \n",
    "               'gender2', 'hour', 'is_city_resolved', 'is_gender_undefined', 'latitude', 'longitude', \n",
    "               'phone_2_norm', 'status', 'country', 'card_holder', 'city_from_order', 'zip', 'ip', \n",
    "               'card_expire']"
   ]
  },
  {
   "cell_type": "code",
   "execution_count": 56,
   "metadata": {},
   "outputs": [],
   "source": [
    "main_factors = ['amount_deviation']\n",
    "extra_factors = ['bank_currency', 'bin', 'city', 'count_months_to_end_card', 'day_of_week', \n",
    "               'gender2', 'hour', 'is_city_resolved', 'is_gender_undefined', 'latitude', 'longitude', \n",
    "               'phone_2_norm', 'country', 'card_holder', 'city_from_order', 'zip', 'ip', \n",
    "               'card_expire']"
   ]
  },
  {
   "cell_type": "code",
   "execution_count": 402,
   "metadata": {},
   "outputs": [],
   "source": [
    "# COL_FACTORS = COL_FACTORS + main_factors + extra_factors\n",
    "# COL_FACTORS = list(set(COL_FACTORS))"
   ]
  },
  {
   "cell_type": "code",
   "execution_count": 57,
   "metadata": {},
   "outputs": [],
   "source": [
    "result_df_amount = None\n",
    "analyzer_prediction =  AnalyzerPrediction(db_teach, db_test, None)"
   ]
  },
  {
   "cell_type": "code",
   "execution_count": 58,
   "metadata": {},
   "outputs": [],
   "source": [
    "teach = db_teach[COL_FACTORS].copy()\n",
    "test = db_test[COL_FACTORS].copy()"
   ]
  },
  {
   "cell_type": "code",
   "execution_count": 59,
   "metadata": {},
   "outputs": [
    {
     "name": "stdout",
     "output_type": "stream",
     "text": [
      "factor_list = ['amount_deviation', 'bank_currency', 'bin', 'city', 'count_months_to_end_card', 'day_of_week', 'gender2', 'hour', 'is_city_resolved', 'is_gender_undefined', 'latitude', 'longitude', 'phone_2_norm', 'country', 'card_holder', 'city_from_order', 'zip', 'ip', 'card_expire']\n"
     ]
    }
   ],
   "source": [
    "model = Bayes() # calculation_type='amount'\n",
    "model.fit(teach)\n",
    "model.create_test_weight(test)"
   ]
  },
  {
   "cell_type": "code",
   "execution_count": 60,
   "metadata": {},
   "outputs": [],
   "source": [
    "result_df_amount = None\n",
    "for i in list(range(len(extra_factors)+1)):\n",
    "    for comb_factors in combinations(extra_factors, i):\n",
    "        comb_factors = list(comb_factors)\n",
    "        factor_list = main_factors + comb_factors\n",
    "        \n",
    "        test_pred = model.predict_proba(col_names=factor_list)\n",
    "        db_test[\"probability\"] = test_pred[:, 1]\n",
    "        description = str(comb_factors)\n",
    "        result_df_amount = analyzer_prediction.get_table_prediction(description=description, result_df=result_df_amount, metric=\"amount\")\n"
   ]
  },
  {
   "cell_type": "code",
   "execution_count": 61,
   "metadata": {},
   "outputs": [],
   "source": [
    "n = result_df_amount.shape[0]\n",
    "sub_rows = list(range(n))[::2]\n",
    "stat_best = result_df_amount.copy().iloc[sub_rows,:]\n",
    "\n",
    "col_names = [col for col in stat_best.columns if col.startswith('p_') ] \n",
    "stat_best.loc[:, col_names] = stat_best.loc[:, col_names].astype(float)\n",
    "stat_best = stat_best.sort_values(by=\"rating\", ascending=False)"
   ]
  },
  {
   "cell_type": "code",
   "execution_count": 62,
   "metadata": {},
   "outputs": [
    {
     "data": {
      "text/html": [
       "<div>\n",
       "<style scoped>\n",
       "    .dataframe tbody tr th:only-of-type {\n",
       "        vertical-align: middle;\n",
       "    }\n",
       "\n",
       "    .dataframe tbody tr th {\n",
       "        vertical-align: top;\n",
       "    }\n",
       "\n",
       "    .dataframe thead th {\n",
       "        text-align: right;\n",
       "    }\n",
       "</style>\n",
       "<table border=\"1\" class=\"dataframe\">\n",
       "  <thead>\n",
       "    <tr style=\"text-align: right;\">\n",
       "      <th></th>\n",
       "      <th>description</th>\n",
       "      <th>p_1</th>\n",
       "      <th>p_2</th>\n",
       "      <th>p_3</th>\n",
       "      <th>p_4</th>\n",
       "      <th>p_5</th>\n",
       "      <th>p_6</th>\n",
       "      <th>p_7</th>\n",
       "      <th>p_10</th>\n",
       "      <th>p_20</th>\n",
       "      <th>rating</th>\n",
       "    </tr>\n",
       "  </thead>\n",
       "  <tbody>\n",
       "    <tr>\n",
       "      <th>209626</th>\n",
       "      <td>['day_of_week', 'hour', 'is_city_resolved', 'l...</td>\n",
       "      <td>7.96</td>\n",
       "      <td>11.74</td>\n",
       "      <td>12.74</td>\n",
       "      <td>14.09</td>\n",
       "      <td>15.75</td>\n",
       "      <td>16.13</td>\n",
       "      <td>18.27</td>\n",
       "      <td>26.09</td>\n",
       "      <td>39.93</td>\n",
       "      <td>128.30</td>\n",
       "    </tr>\n",
       "    <tr>\n",
       "      <th>258246</th>\n",
       "      <td>['bank_currency', 'day_of_week', 'hour', 'is_c...</td>\n",
       "      <td>7.52</td>\n",
       "      <td>11.39</td>\n",
       "      <td>12.74</td>\n",
       "      <td>14.09</td>\n",
       "      <td>15.88</td>\n",
       "      <td>17.01</td>\n",
       "      <td>18.68</td>\n",
       "      <td>26.09</td>\n",
       "      <td>39.95</td>\n",
       "      <td>127.66</td>\n",
       "    </tr>\n",
       "    <tr>\n",
       "      <th>306780</th>\n",
       "      <td>['day_of_week', 'gender2', 'hour', 'is_city_re...</td>\n",
       "      <td>4.81</td>\n",
       "      <td>8.50</td>\n",
       "      <td>11.29</td>\n",
       "      <td>15.99</td>\n",
       "      <td>17.65</td>\n",
       "      <td>19.39</td>\n",
       "      <td>21.25</td>\n",
       "      <td>28.19</td>\n",
       "      <td>40.78</td>\n",
       "      <td>127.21</td>\n",
       "    </tr>\n",
       "    <tr>\n",
       "      <th>120906</th>\n",
       "      <td>['day_of_week', 'hour', 'is_city_resolved', 'l...</td>\n",
       "      <td>7.86</td>\n",
       "      <td>11.64</td>\n",
       "      <td>12.64</td>\n",
       "      <td>13.99</td>\n",
       "      <td>15.65</td>\n",
       "      <td>16.03</td>\n",
       "      <td>17.81</td>\n",
       "      <td>25.69</td>\n",
       "      <td>39.70</td>\n",
       "      <td>127.17</td>\n",
       "    </tr>\n",
       "    <tr>\n",
       "      <th>159802</th>\n",
       "      <td>['bank_currency', 'day_of_week', 'hour', 'is_c...</td>\n",
       "      <td>7.42</td>\n",
       "      <td>11.29</td>\n",
       "      <td>12.64</td>\n",
       "      <td>13.99</td>\n",
       "      <td>15.78</td>\n",
       "      <td>16.91</td>\n",
       "      <td>18.58</td>\n",
       "      <td>25.99</td>\n",
       "      <td>39.85</td>\n",
       "      <td>126.96</td>\n",
       "    </tr>\n",
       "    <tr>\n",
       "      <th>355400</th>\n",
       "      <td>['bank_currency', 'day_of_week', 'gender2', 'h...</td>\n",
       "      <td>4.81</td>\n",
       "      <td>8.06</td>\n",
       "      <td>11.29</td>\n",
       "      <td>16.01</td>\n",
       "      <td>17.67</td>\n",
       "      <td>19.41</td>\n",
       "      <td>21.27</td>\n",
       "      <td>28.21</td>\n",
       "      <td>40.78</td>\n",
       "      <td>126.83</td>\n",
       "    </tr>\n",
       "    <tr>\n",
       "      <th>258106</th>\n",
       "      <td>['bank_currency', 'day_of_week', 'hour', 'is_c...</td>\n",
       "      <td>7.18</td>\n",
       "      <td>10.36</td>\n",
       "      <td>11.77</td>\n",
       "      <td>13.39</td>\n",
       "      <td>16.04</td>\n",
       "      <td>17.93</td>\n",
       "      <td>18.92</td>\n",
       "      <td>27.32</td>\n",
       "      <td>40.56</td>\n",
       "      <td>126.62</td>\n",
       "    </tr>\n",
       "    <tr>\n",
       "      <th>...</th>\n",
       "      <td>...</td>\n",
       "      <td>...</td>\n",
       "      <td>...</td>\n",
       "      <td>...</td>\n",
       "      <td>...</td>\n",
       "      <td>...</td>\n",
       "      <td>...</td>\n",
       "      <td>...</td>\n",
       "      <td>...</td>\n",
       "      <td>...</td>\n",
       "      <td>...</td>\n",
       "    </tr>\n",
       "    <tr>\n",
       "      <th>10088</th>\n",
       "      <td>['bank_currency', 'city', 'country', 'card_hol...</td>\n",
       "      <td>0.36</td>\n",
       "      <td>0.76</td>\n",
       "      <td>2.01</td>\n",
       "      <td>2.65</td>\n",
       "      <td>4.51</td>\n",
       "      <td>5.54</td>\n",
       "      <td>6.07</td>\n",
       "      <td>8.24</td>\n",
       "      <td>15.91</td>\n",
       "      <td>34.44</td>\n",
       "    </tr>\n",
       "    <tr>\n",
       "      <th>5108</th>\n",
       "      <td>['city', 'is_city_resolved', 'card_holder', 'z...</td>\n",
       "      <td>0.36</td>\n",
       "      <td>0.76</td>\n",
       "      <td>2.27</td>\n",
       "      <td>2.82</td>\n",
       "      <td>4.84</td>\n",
       "      <td>5.47</td>\n",
       "      <td>6.07</td>\n",
       "      <td>8.14</td>\n",
       "      <td>15.20</td>\n",
       "      <td>34.39</td>\n",
       "    </tr>\n",
       "    <tr>\n",
       "      <th>2408</th>\n",
       "      <td>['bank_currency', 'city', 'card_holder', 'zip']</td>\n",
       "      <td>0.36</td>\n",
       "      <td>0.76</td>\n",
       "      <td>2.01</td>\n",
       "      <td>2.65</td>\n",
       "      <td>4.51</td>\n",
       "      <td>5.54</td>\n",
       "      <td>6.07</td>\n",
       "      <td>8.14</td>\n",
       "      <td>15.80</td>\n",
       "      <td>34.23</td>\n",
       "    </tr>\n",
       "    <tr>\n",
       "      <th>9536</th>\n",
       "      <td>['bank_currency', 'city', 'day_of_week', 'card...</td>\n",
       "      <td>0.36</td>\n",
       "      <td>0.76</td>\n",
       "      <td>2.01</td>\n",
       "      <td>2.70</td>\n",
       "      <td>4.80</td>\n",
       "      <td>5.36</td>\n",
       "      <td>6.07</td>\n",
       "      <td>7.95</td>\n",
       "      <td>15.65</td>\n",
       "      <td>34.23</td>\n",
       "    </tr>\n",
       "    <tr>\n",
       "      <th>5328</th>\n",
       "      <td>['city', 'country', 'card_holder', 'zip']</td>\n",
       "      <td>0.36</td>\n",
       "      <td>0.76</td>\n",
       "      <td>2.01</td>\n",
       "      <td>2.65</td>\n",
       "      <td>4.29</td>\n",
       "      <td>5.54</td>\n",
       "      <td>6.07</td>\n",
       "      <td>8.24</td>\n",
       "      <td>15.91</td>\n",
       "      <td>34.22</td>\n",
       "    </tr>\n",
       "    <tr>\n",
       "      <th>4776</th>\n",
       "      <td>['city', 'day_of_week', 'card_holder', 'zip']</td>\n",
       "      <td>0.36</td>\n",
       "      <td>0.76</td>\n",
       "      <td>2.01</td>\n",
       "      <td>2.70</td>\n",
       "      <td>4.80</td>\n",
       "      <td>5.36</td>\n",
       "      <td>6.07</td>\n",
       "      <td>7.95</td>\n",
       "      <td>15.47</td>\n",
       "      <td>34.05</td>\n",
       "    </tr>\n",
       "    <tr>\n",
       "      <th>1048</th>\n",
       "      <td>['city', 'card_holder', 'zip']</td>\n",
       "      <td>0.36</td>\n",
       "      <td>0.76</td>\n",
       "      <td>2.01</td>\n",
       "      <td>2.65</td>\n",
       "      <td>4.29</td>\n",
       "      <td>5.54</td>\n",
       "      <td>6.07</td>\n",
       "      <td>8.14</td>\n",
       "      <td>15.63</td>\n",
       "      <td>33.84</td>\n",
       "    </tr>\n",
       "  </tbody>\n",
       "</table>\n",
       "<p>262144 rows × 11 columns</p>\n",
       "</div>"
      ],
      "text/plain": [
       "                                              description   p_1    p_2    p_3  \\\n",
       "209626  ['day_of_week', 'hour', 'is_city_resolved', 'l...  7.96  11.74  12.74   \n",
       "258246  ['bank_currency', 'day_of_week', 'hour', 'is_c...  7.52  11.39  12.74   \n",
       "306780  ['day_of_week', 'gender2', 'hour', 'is_city_re...  4.81   8.50  11.29   \n",
       "120906  ['day_of_week', 'hour', 'is_city_resolved', 'l...  7.86  11.64  12.64   \n",
       "159802  ['bank_currency', 'day_of_week', 'hour', 'is_c...  7.42  11.29  12.64   \n",
       "355400  ['bank_currency', 'day_of_week', 'gender2', 'h...  4.81   8.06  11.29   \n",
       "258106  ['bank_currency', 'day_of_week', 'hour', 'is_c...  7.18  10.36  11.77   \n",
       "...                                                   ...   ...    ...    ...   \n",
       "10088   ['bank_currency', 'city', 'country', 'card_hol...  0.36   0.76   2.01   \n",
       "5108    ['city', 'is_city_resolved', 'card_holder', 'z...  0.36   0.76   2.27   \n",
       "2408      ['bank_currency', 'city', 'card_holder', 'zip']  0.36   0.76   2.01   \n",
       "9536    ['bank_currency', 'city', 'day_of_week', 'card...  0.36   0.76   2.01   \n",
       "5328            ['city', 'country', 'card_holder', 'zip']  0.36   0.76   2.01   \n",
       "4776        ['city', 'day_of_week', 'card_holder', 'zip']  0.36   0.76   2.01   \n",
       "1048                       ['city', 'card_holder', 'zip']  0.36   0.76   2.01   \n",
       "\n",
       "          p_4    p_5    p_6    p_7   p_10   p_20  rating  \n",
       "209626  14.09  15.75  16.13  18.27  26.09  39.93  128.30  \n",
       "258246  14.09  15.88  17.01  18.68  26.09  39.95  127.66  \n",
       "306780  15.99  17.65  19.39  21.25  28.19  40.78  127.21  \n",
       "120906  13.99  15.65  16.03  17.81  25.69  39.70  127.17  \n",
       "159802  13.99  15.78  16.91  18.58  25.99  39.85  126.96  \n",
       "355400  16.01  17.67  19.41  21.27  28.21  40.78  126.83  \n",
       "258106  13.39  16.04  17.93  18.92  27.32  40.56  126.62  \n",
       "...       ...    ...    ...    ...    ...    ...     ...  \n",
       "10088    2.65   4.51   5.54   6.07   8.24  15.91   34.44  \n",
       "5108     2.82   4.84   5.47   6.07   8.14  15.20   34.39  \n",
       "2408     2.65   4.51   5.54   6.07   8.14  15.80   34.23  \n",
       "9536     2.70   4.80   5.36   6.07   7.95  15.65   34.23  \n",
       "5328     2.65   4.29   5.54   6.07   8.24  15.91   34.22  \n",
       "4776     2.70   4.80   5.36   6.07   7.95  15.47   34.05  \n",
       "1048     2.65   4.29   5.54   6.07   8.14  15.63   33.84  \n",
       "\n",
       "[262144 rows x 11 columns]"
      ]
     },
     "execution_count": 62,
     "metadata": {},
     "output_type": "execute_result"
    }
   ],
   "source": [
    "stat_best.iloc[:,:11]"
   ]
  },
  {
   "cell_type": "code",
   "execution_count": 63,
   "metadata": {},
   "outputs": [
    {
     "data": {
      "text/plain": [
       "\"['day_of_week', 'hour', 'is_city_resolved', 'latitude', 'longitude', 'phone_2_norm', 'country', 'card_expire']\""
      ]
     },
     "execution_count": 63,
     "metadata": {},
     "output_type": "execute_result"
    }
   ],
   "source": [
    "stat_best.iloc[0,0]"
   ]
  },
  {
   "cell_type": "code",
   "execution_count": null,
   "metadata": {},
   "outputs": [],
   "source": [
    "def update_bin(bin:str)->str: \n",
    "    x = pd.to_numeric(bin[4])\n",
    "    x = x//2\n",
    "    return bin[:3] + str(x)    "
   ]
  },
  {
   "cell_type": "code",
   "execution_count": null,
   "metadata": {},
   "outputs": [],
   "source": [
    "q_amount = [0, 0.15, 0.25, 0.50, 0.75, 0.90]\n",
    "x = 0.25\n",
    "n = len(q_amount)\n",
    "for i in range(1, n):\n",
    "    if x >= q_amount[i - 1] and  x < q_amount[i]:\n",
    "        print( i)\n",
    "print(' n={}'.format(n))"
   ]
  }
 ],
 "metadata": {
  "kernelspec": {
   "display_name": "Python 3",
   "language": "python",
   "name": "python3"
  },
  "language_info": {
   "codemirror_mode": {
    "name": "ipython",
    "version": 3
   },
   "file_extension": ".py",
   "mimetype": "text/x-python",
   "name": "python",
   "nbconvert_exporter": "python",
   "pygments_lexer": "ipython3",
   "version": "3.6.10"
  }
 },
 "nbformat": 4,
 "nbformat_minor": 4
}
