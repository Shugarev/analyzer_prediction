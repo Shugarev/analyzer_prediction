{
 "cells": [
  {
   "cell_type": "code",
   "execution_count": 2,
   "metadata": {},
   "outputs": [],
   "source": [
    "import pandas as pd\n",
    "import numpy as np\n",
    "from itertools import *\n",
    "pd.set_option('display.max_rows', 15)\n",
    "pd.set_option('display.max_columns', None)"
   ]
  },
  {
   "cell_type": "code",
   "execution_count": 3,
   "metadata": {},
   "outputs": [],
   "source": [
    "import os,sys,inspect\n",
    "currentdir = os.path.dirname(os.path.abspath(inspect.getfile(inspect.currentframe())))\n",
    "parentdir = os.path.dirname(currentdir)\n",
    "sys.path.insert(0,parentdir)"
   ]
  },
  {
   "cell_type": "code",
   "execution_count": 4,
   "metadata": {},
   "outputs": [],
   "source": [
    "import warnings\n",
    "warnings.filterwarnings('ignore')"
   ]
  },
  {
   "cell_type": "code",
   "execution_count": 5,
   "metadata": {},
   "outputs": [],
   "source": [
    "# for autoreload modules\n",
    "%load_ext autoreload\n",
    "%autoreload 2"
   ]
  },
  {
   "cell_type": "code",
   "execution_count": 6,
   "metadata": {},
   "outputs": [],
   "source": [
    "from statistic import Statistic\n",
    "from utils import UtilsKy\n",
    "from analyzer import HelperAnalyzer, AnalyzerPrediction"
   ]
  },
  {
   "cell_type": "code",
   "execution_count": 7,
   "metadata": {},
   "outputs": [],
   "source": [
    "from naive_bayes import Bayes"
   ]
  },
  {
   "cell_type": "code",
   "execution_count": 8,
   "metadata": {},
   "outputs": [],
   "source": [
    "# kyw3\n",
    "path_data = '/mnt/files/workdata/work/merchants/merchant_33_kyw3_2020-06-05/04_experiments/ex_01_some_teach/'\n",
    "db_teach = pd.read_csv(UtilsKy.DB_TEACH_KYW3, dtype=str, encoding='cp1251')\n",
    "db_test = pd.read_csv(UtilsKy.DB_TEST_KYW3, dtype=str, encoding='cp1251')\n",
    "white = pd.read_csv(UtilsKy.WHITE_KYW3 , dtype=str)"
   ]
  },
  {
   "cell_type": "code",
   "execution_count": 9,
   "metadata": {},
   "outputs": [
    {
     "data": {
      "text/plain": [
       "\"['amount', 'amount_deviation', 'bank_currency', 'bin', 'city', 'count_months_to_end_card', 'day_of_week', 'gender2', 'hour', 'id', 'is_city_resolved', 'is_gender_undefined', 'latitude', 'longitude', 'order_id', 'phone_2_norm', 'status']\""
      ]
     },
     "execution_count": 9,
     "metadata": {},
     "output_type": "execute_result"
    }
   ],
   "source": [
    "str(list(db_teach))"
   ]
  },
  {
   "cell_type": "code",
   "execution_count": 10,
   "metadata": {},
   "outputs": [],
   "source": [
    "path_resolving_file = '/mnt/files/workdata/work/merchants/merchant_33_kyw3_2020-06-05/02_pure_data/kyw3_for_resolve.csv'\n",
    "df_resolving = pd.read_csv(path_resolving_file, dtype=str, encoding='cp1251')"
   ]
  },
  {
   "cell_type": "code",
   "execution_count": 11,
   "metadata": {},
   "outputs": [
    {
     "data": {
      "text/plain": [
       "\"['order_id', 'type', 'status', 'date', 'processed', 'amount', 'currency', 'card_holder', 'email', 'phone', 'address', 'city_from_order', 'country', 'zip', 'ip', 'project_id', 'reported', 'status_chargeback', 'date_cb_only', 'card_masked', 'card_expire', 'amount_in_currency', 'date_only', 'id']\""
      ]
     },
     "execution_count": 11,
     "metadata": {},
     "output_type": "execute_result"
    }
   ],
   "source": [
    "str(list(df_resolving))"
   ]
  },
  {
   "cell_type": "code",
   "execution_count": 12,
   "metadata": {},
   "outputs": [],
   "source": [
    "db_teach = db_teach.merge(df_resolving[['order_id', 'country']], left_on='order_id', right_on='order_id', how='left')\n",
    "db_test = db_test.merge(df_resolving[['order_id', 'country']], left_on='order_id', right_on='order_id', how='left')"
   ]
  },
  {
   "cell_type": "code",
   "execution_count": 13,
   "metadata": {},
   "outputs": [
    {
     "data": {
      "text/plain": [
       "\"['amount', 'amount_deviation', 'bank_currency', 'bin', 'city', 'count_months_to_end_card', 'day_of_week', 'gender2', 'hour', 'id', 'is_city_resolved', 'is_gender_undefined', 'latitude', 'longitude', 'order_id', 'phone_2_norm', 'status', 'country']\""
      ]
     },
     "execution_count": 13,
     "metadata": {},
     "output_type": "execute_result"
    }
   ],
   "source": [
    "str(list(db_test))"
   ]
  },
  {
   "cell_type": "code",
   "execution_count": 14,
   "metadata": {},
   "outputs": [],
   "source": [
    "COL_FACTORS = ['amount_deviation', 'bank_currency', 'bin', 'city', 'count_months_to_end_card', 'day_of_week',\n",
    "                'hour', 'is_city_resolved', 'is_gender_undefined', 'phone_2_norm', 'country', 'status']"
   ]
  },
  {
   "cell_type": "code",
   "execution_count": 15,
   "metadata": {},
   "outputs": [],
   "source": [
    "main_factors = ['amount_deviation', 'day_of_week', 'hour', 'is_city_resolved', 'is_gender_undefined', 'status']\n",
    "extra_factors = ['city', 'bank_currency', 'count_months_to_end_card', 'country','phone_2_norm', 'bin' ]"
   ]
  },
  {
   "cell_type": "code",
   "execution_count": 16,
   "metadata": {},
   "outputs": [],
   "source": [
    "result_df_amount = None\n",
    "analyzer_prediction =  AnalyzerPrediction(db_teach, db_test, white)"
   ]
  },
  {
   "cell_type": "code",
   "execution_count": 17,
   "metadata": {},
   "outputs": [],
   "source": [
    "teach = db_teach[COL_FACTORS].copy()\n",
    "test = db_test[COL_FACTORS].copy()"
   ]
  },
  {
   "cell_type": "code",
   "execution_count": 18,
   "metadata": {},
   "outputs": [
    {
     "name": "stdout",
     "output_type": "stream",
     "text": [
      "factor_list = ['amount_deviation', 'bank_currency', 'bin', 'city', 'count_months_to_end_card', 'day_of_week', 'hour', 'is_city_resolved', 'is_gender_undefined', 'phone_2_norm', 'country']\n"
     ]
    }
   ],
   "source": [
    "model = Bayes()#calculation_type='amount'\n",
    "model.fit(teach)\n",
    "model.create_test_weight(test)"
   ]
  },
  {
   "cell_type": "code",
   "execution_count": 19,
   "metadata": {},
   "outputs": [],
   "source": [
    "result_df_amount = None\n",
    "for i in list(range(len(extra_factors)+1)):\n",
    "    for comb_factors in combinations(extra_factors, i):\n",
    "        comb_factors = list(comb_factors)\n",
    "        factor_list = main_factors + comb_factors\n",
    "        \n",
    "        test_pred = model.predict_proba(col_names=factor_list)\n",
    "        db_test[\"probability\"] = test_pred[:, 1]  \n",
    "        description = str(comb_factors)\n",
    "        result_df_amount = analyzer_prediction.get_table_prediction(description=description, result_df=result_df_amount, metric=\"amount\")\n"
   ]
  },
  {
   "cell_type": "code",
   "execution_count": 20,
   "metadata": {},
   "outputs": [],
   "source": [
    "n = result_df_amount.shape[0]\n",
    "sub_rows = list(range(n))[::2]\n",
    "stat_best = result_df_amount.copy().iloc[sub_rows,:]\n",
    "\n",
    "col_names = [col for col in stat_best.columns if col.startswith('p_') ] \n",
    "stat_best.loc[:, col_names] = stat_best.loc[:, col_names].astype(float)\n",
    "stat_best = stat_best.sort_values(by=\"rating\", ascending=False)"
   ]
  },
  {
   "cell_type": "code",
   "execution_count": 21,
   "metadata": {},
   "outputs": [
    {
     "data": {
      "text/html": [
       "<div>\n",
       "<style scoped>\n",
       "    .dataframe tbody tr th:only-of-type {\n",
       "        vertical-align: middle;\n",
       "    }\n",
       "\n",
       "    .dataframe tbody tr th {\n",
       "        vertical-align: top;\n",
       "    }\n",
       "\n",
       "    .dataframe thead th {\n",
       "        text-align: right;\n",
       "    }\n",
       "</style>\n",
       "<table border=\"1\" class=\"dataframe\">\n",
       "  <thead>\n",
       "    <tr style=\"text-align: right;\">\n",
       "      <th></th>\n",
       "      <th>description</th>\n",
       "      <th>p_1</th>\n",
       "      <th>p_2</th>\n",
       "      <th>p_3</th>\n",
       "      <th>p_4</th>\n",
       "      <th>p_5</th>\n",
       "      <th>p_6</th>\n",
       "      <th>p_7</th>\n",
       "      <th>p_10</th>\n",
       "      <th>p_20</th>\n",
       "      <th>rating</th>\n",
       "    </tr>\n",
       "  </thead>\n",
       "  <tbody>\n",
       "    <tr>\n",
       "      <th>8</th>\n",
       "      <td>['country']</td>\n",
       "      <td>3.97</td>\n",
       "      <td>9.21</td>\n",
       "      <td>12.29</td>\n",
       "      <td>15.55</td>\n",
       "      <td>17.21</td>\n",
       "      <td>18.14</td>\n",
       "      <td>21.12</td>\n",
       "      <td>27.70</td>\n",
       "      <td>48.55</td>\n",
       "      <td>134.48</td>\n",
       "    </tr>\n",
       "    <tr>\n",
       "      <th>0</th>\n",
       "      <td>[]</td>\n",
       "      <td>3.87</td>\n",
       "      <td>7.35</td>\n",
       "      <td>12.19</td>\n",
       "      <td>15.09</td>\n",
       "      <td>16.67</td>\n",
       "      <td>17.68</td>\n",
       "      <td>20.97</td>\n",
       "      <td>26.91</td>\n",
       "      <td>47.37</td>\n",
       "      <td>129.45</td>\n",
       "    </tr>\n",
       "    <tr>\n",
       "      <th>26</th>\n",
       "      <td>['bank_currency', 'country']</td>\n",
       "      <td>3.53</td>\n",
       "      <td>8.33</td>\n",
       "      <td>12.29</td>\n",
       "      <td>15.20</td>\n",
       "      <td>16.95</td>\n",
       "      <td>18.14</td>\n",
       "      <td>21.12</td>\n",
       "      <td>26.82</td>\n",
       "      <td>44.88</td>\n",
       "      <td>128.00</td>\n",
       "    </tr>\n",
       "    <tr>\n",
       "      <th>4</th>\n",
       "      <td>['bank_currency']</td>\n",
       "      <td>3.43</td>\n",
       "      <td>7.35</td>\n",
       "      <td>12.19</td>\n",
       "      <td>15.09</td>\n",
       "      <td>16.67</td>\n",
       "      <td>17.68</td>\n",
       "      <td>21.01</td>\n",
       "      <td>26.72</td>\n",
       "      <td>44.54</td>\n",
       "      <td>125.99</td>\n",
       "    </tr>\n",
       "    <tr>\n",
       "      <th>70</th>\n",
       "      <td>['bank_currency', 'country', 'phone_2_norm']</td>\n",
       "      <td>3.65</td>\n",
       "      <td>8.87</td>\n",
       "      <td>10.21</td>\n",
       "      <td>12.12</td>\n",
       "      <td>16.94</td>\n",
       "      <td>17.51</td>\n",
       "      <td>19.59</td>\n",
       "      <td>27.55</td>\n",
       "      <td>44.19</td>\n",
       "      <td>123.53</td>\n",
       "    </tr>\n",
       "    <tr>\n",
       "      <th>38</th>\n",
       "      <td>['country', 'phone_2_norm']</td>\n",
       "      <td>3.65</td>\n",
       "      <td>8.87</td>\n",
       "      <td>10.21</td>\n",
       "      <td>12.12</td>\n",
       "      <td>16.50</td>\n",
       "      <td>17.51</td>\n",
       "      <td>19.24</td>\n",
       "      <td>27.55</td>\n",
       "      <td>43.77</td>\n",
       "      <td>122.67</td>\n",
       "    </tr>\n",
       "    <tr>\n",
       "      <th>28</th>\n",
       "      <td>['bank_currency', 'phone_2_norm']</td>\n",
       "      <td>3.54</td>\n",
       "      <td>8.77</td>\n",
       "      <td>10.10</td>\n",
       "      <td>12.02</td>\n",
       "      <td>15.96</td>\n",
       "      <td>17.37</td>\n",
       "      <td>18.70</td>\n",
       "      <td>27.45</td>\n",
       "      <td>43.67</td>\n",
       "      <td>121.51</td>\n",
       "    </tr>\n",
       "    <tr>\n",
       "      <th>...</th>\n",
       "      <td>...</td>\n",
       "      <td>...</td>\n",
       "      <td>...</td>\n",
       "      <td>...</td>\n",
       "      <td>...</td>\n",
       "      <td>...</td>\n",
       "      <td>...</td>\n",
       "      <td>...</td>\n",
       "      <td>...</td>\n",
       "      <td>...</td>\n",
       "      <td>...</td>\n",
       "    </tr>\n",
       "    <tr>\n",
       "      <th>50</th>\n",
       "      <td>['city', 'bank_currency', 'bin']</td>\n",
       "      <td>0.39</td>\n",
       "      <td>2.42</td>\n",
       "      <td>4.53</td>\n",
       "      <td>5.59</td>\n",
       "      <td>7.53</td>\n",
       "      <td>8.00</td>\n",
       "      <td>10.74</td>\n",
       "      <td>19.55</td>\n",
       "      <td>38.09</td>\n",
       "      <td>78.10</td>\n",
       "    </tr>\n",
       "    <tr>\n",
       "      <th>22</th>\n",
       "      <td>['city', 'bin']</td>\n",
       "      <td>0.39</td>\n",
       "      <td>2.42</td>\n",
       "      <td>4.53</td>\n",
       "      <td>5.59</td>\n",
       "      <td>7.53</td>\n",
       "      <td>8.00</td>\n",
       "      <td>10.74</td>\n",
       "      <td>19.55</td>\n",
       "      <td>38.09</td>\n",
       "      <td>78.10</td>\n",
       "    </tr>\n",
       "    <tr>\n",
       "      <th>2</th>\n",
       "      <td>['city']</td>\n",
       "      <td>0.61</td>\n",
       "      <td>2.71</td>\n",
       "      <td>2.85</td>\n",
       "      <td>3.77</td>\n",
       "      <td>5.09</td>\n",
       "      <td>8.20</td>\n",
       "      <td>9.66</td>\n",
       "      <td>20.88</td>\n",
       "      <td>42.10</td>\n",
       "      <td>78.01</td>\n",
       "    </tr>\n",
       "    <tr>\n",
       "      <th>52</th>\n",
       "      <td>['city', 'count_months_to_end_card', 'country']</td>\n",
       "      <td>0.77</td>\n",
       "      <td>1.46</td>\n",
       "      <td>4.50</td>\n",
       "      <td>6.09</td>\n",
       "      <td>6.51</td>\n",
       "      <td>7.00</td>\n",
       "      <td>10.17</td>\n",
       "      <td>17.99</td>\n",
       "      <td>39.29</td>\n",
       "      <td>76.61</td>\n",
       "    </tr>\n",
       "    <tr>\n",
       "      <th>84</th>\n",
       "      <td>['city', 'bank_currency', 'count_months_to_end...</td>\n",
       "      <td>0.77</td>\n",
       "      <td>1.46</td>\n",
       "      <td>4.50</td>\n",
       "      <td>6.09</td>\n",
       "      <td>6.51</td>\n",
       "      <td>7.00</td>\n",
       "      <td>10.17</td>\n",
       "      <td>17.11</td>\n",
       "      <td>38.43</td>\n",
       "      <td>74.87</td>\n",
       "    </tr>\n",
       "    <tr>\n",
       "      <th>44</th>\n",
       "      <td>['city', 'bank_currency', 'count_months_to_end...</td>\n",
       "      <td>0.72</td>\n",
       "      <td>1.35</td>\n",
       "      <td>4.14</td>\n",
       "      <td>5.66</td>\n",
       "      <td>6.39</td>\n",
       "      <td>6.63</td>\n",
       "      <td>10.07</td>\n",
       "      <td>15.69</td>\n",
       "      <td>38.12</td>\n",
       "      <td>72.07</td>\n",
       "    </tr>\n",
       "    <tr>\n",
       "      <th>16</th>\n",
       "      <td>['city', 'count_months_to_end_card']</td>\n",
       "      <td>0.72</td>\n",
       "      <td>1.35</td>\n",
       "      <td>4.14</td>\n",
       "      <td>5.66</td>\n",
       "      <td>6.02</td>\n",
       "      <td>6.63</td>\n",
       "      <td>8.92</td>\n",
       "      <td>15.25</td>\n",
       "      <td>37.18</td>\n",
       "      <td>70.32</td>\n",
       "    </tr>\n",
       "  </tbody>\n",
       "</table>\n",
       "<p>64 rows × 11 columns</p>\n",
       "</div>"
      ],
      "text/plain": [
       "                                          description   p_1   p_2    p_3  \\\n",
       "8                                         ['country']  3.97  9.21  12.29   \n",
       "0                                                  []  3.87  7.35  12.19   \n",
       "26                       ['bank_currency', 'country']  3.53  8.33  12.29   \n",
       "4                                   ['bank_currency']  3.43  7.35  12.19   \n",
       "70       ['bank_currency', 'country', 'phone_2_norm']  3.65  8.87  10.21   \n",
       "38                        ['country', 'phone_2_norm']  3.65  8.87  10.21   \n",
       "28                  ['bank_currency', 'phone_2_norm']  3.54  8.77  10.10   \n",
       "..                                                ...   ...   ...    ...   \n",
       "50                   ['city', 'bank_currency', 'bin']  0.39  2.42   4.53   \n",
       "22                                    ['city', 'bin']  0.39  2.42   4.53   \n",
       "2                                            ['city']  0.61  2.71   2.85   \n",
       "52    ['city', 'count_months_to_end_card', 'country']  0.77  1.46   4.50   \n",
       "84  ['city', 'bank_currency', 'count_months_to_end...  0.77  1.46   4.50   \n",
       "44  ['city', 'bank_currency', 'count_months_to_end...  0.72  1.35   4.14   \n",
       "16               ['city', 'count_months_to_end_card']  0.72  1.35   4.14   \n",
       "\n",
       "      p_4    p_5    p_6    p_7   p_10   p_20  rating  \n",
       "8   15.55  17.21  18.14  21.12  27.70  48.55  134.48  \n",
       "0   15.09  16.67  17.68  20.97  26.91  47.37  129.45  \n",
       "26  15.20  16.95  18.14  21.12  26.82  44.88  128.00  \n",
       "4   15.09  16.67  17.68  21.01  26.72  44.54  125.99  \n",
       "70  12.12  16.94  17.51  19.59  27.55  44.19  123.53  \n",
       "38  12.12  16.50  17.51  19.24  27.55  43.77  122.67  \n",
       "28  12.02  15.96  17.37  18.70  27.45  43.67  121.51  \n",
       "..    ...    ...    ...    ...    ...    ...     ...  \n",
       "50   5.59   7.53   8.00  10.74  19.55  38.09   78.10  \n",
       "22   5.59   7.53   8.00  10.74  19.55  38.09   78.10  \n",
       "2    3.77   5.09   8.20   9.66  20.88  42.10   78.01  \n",
       "52   6.09   6.51   7.00  10.17  17.99  39.29   76.61  \n",
       "84   6.09   6.51   7.00  10.17  17.11  38.43   74.87  \n",
       "44   5.66   6.39   6.63  10.07  15.69  38.12   72.07  \n",
       "16   5.66   6.02   6.63   8.92  15.25  37.18   70.32  \n",
       "\n",
       "[64 rows x 11 columns]"
      ]
     },
     "execution_count": 21,
     "metadata": {},
     "output_type": "execute_result"
    }
   ],
   "source": [
    "stat_best.iloc[:,:11]"
   ]
  },
  {
   "cell_type": "code",
   "execution_count": 22,
   "metadata": {},
   "outputs": [
    {
     "data": {
      "text/plain": [
       "\"['country']\""
      ]
     },
     "execution_count": 22,
     "metadata": {},
     "output_type": "execute_result"
    }
   ],
   "source": [
    "stat_best.iloc[0,0]"
   ]
  }
 ],
 "metadata": {
  "kernelspec": {
   "display_name": "Python 3",
   "language": "python",
   "name": "python3"
  },
  "language_info": {
   "codemirror_mode": {
    "name": "ipython",
    "version": 3
   },
   "file_extension": ".py",
   "mimetype": "text/x-python",
   "name": "python",
   "nbconvert_exporter": "python",
   "pygments_lexer": "ipython3",
   "version": "3.6.10"
  }
 },
 "nbformat": 4,
 "nbformat_minor": 4
}
