{
 "cells": [
  {
   "cell_type": "code",
   "execution_count": 4,
   "metadata": {},
   "outputs": [],
   "source": [
    "import os,sys,inspect\n",
    "currentdir = os.path.dirname(os.path.abspath(inspect.getfile(inspect.currentframe())))\n",
    "parentdir = os.path.dirname(currentdir)\n",
    "sys.path.insert(0,parentdir)"
   ]
  },
  {
   "cell_type": "code",
   "execution_count": 7,
   "metadata": {},
   "outputs": [],
   "source": [
    "import re\n",
    "import random\n",
    "import numpy as np\n",
    "import pandas as pd\n",
    "pd.set_option('display.max_colwidth', -1)\n",
    "pd.set_option('display.max_rows', None)"
   ]
  },
  {
   "cell_type": "code",
   "execution_count": 8,
   "metadata": {},
   "outputs": [],
   "source": [
    "from utils import UtilsKy "
   ]
  },
  {
   "cell_type": "code",
   "execution_count": 27,
   "metadata": {},
   "outputs": [],
   "source": [
    "db_teach = pd.read_csv(UtilsKy.DB_TEACH_KYW3, dtype='str', encoding='cp1251')\n",
    "db_test =  pd.read_csv(UtilsKy.DB_TEST_KYW3, dtype='str', encoding='cp1251')"
   ]
  },
  {
   "cell_type": "code",
   "execution_count": 28,
   "metadata": {},
   "outputs": [],
   "source": [
    "COL_FACTORS = ['bin', 'amount', 'bank_currency', 'hour', 'day_of_week', 'longitude', 'latitude', 'phone_2_norm'] "
   ]
  },
  {
   "cell_type": "code",
   "execution_count": 31,
   "metadata": {},
   "outputs": [],
   "source": [
    "train = db_teach[COL_FACTORS]\n",
    "test = db_test[COL_FACTORS]"
   ]
  },
  {
   "cell_type": "code",
   "execution_count": 32,
   "metadata": {},
   "outputs": [],
   "source": [
    "train = train.apply(pd.to_numeric, errors=\"coerce\")\n",
    "test = test.apply(pd.to_numeric, errors=\"coerce\")"
   ]
  },
  {
   "cell_type": "code",
   "execution_count": 46,
   "metadata": {},
   "outputs": [
    {
     "data": {
      "text/html": [
       "<div>\n",
       "<style scoped>\n",
       "    .dataframe tbody tr th:only-of-type {\n",
       "        vertical-align: middle;\n",
       "    }\n",
       "\n",
       "    .dataframe tbody tr th {\n",
       "        vertical-align: top;\n",
       "    }\n",
       "\n",
       "    .dataframe thead th {\n",
       "        text-align: right;\n",
       "    }\n",
       "</style>\n",
       "<table border=\"1\" class=\"dataframe\">\n",
       "  <thead>\n",
       "    <tr style=\"text-align: right;\">\n",
       "      <th></th>\n",
       "      <th>bin</th>\n",
       "      <th>amount</th>\n",
       "      <th>bank_currency</th>\n",
       "      <th>hour</th>\n",
       "      <th>day_of_week</th>\n",
       "      <th>longitude</th>\n",
       "      <th>latitude</th>\n",
       "      <th>phone_2_norm</th>\n",
       "    </tr>\n",
       "  </thead>\n",
       "  <tbody>\n",
       "  </tbody>\n",
       "</table>\n",
       "</div>"
      ],
      "text/plain": [
       "Empty DataFrame\n",
       "Columns: [bin, amount, bank_currency, hour, day_of_week, longitude, latitude, phone_2_norm]\n",
       "Index: []"
      ]
     },
     "execution_count": 46,
     "metadata": {},
     "output_type": "execute_result"
    }
   ],
   "source": [
    "mask = train.longitude.isnull() | train.latitude.isnull()\n",
    "df = train[mask]\n",
    "df.head()"
   ]
  },
  {
   "cell_type": "code",
   "execution_count": 37,
   "metadata": {},
   "outputs": [],
   "source": [
    "# mean _long \n",
    "# mean_lat \n",
    "mean_long = train.longitude.mean(skipna=True)\n",
    "mean_lat = train.latitude.mean(skipna=True)"
   ]
  },
  {
   "cell_type": "code",
   "execution_count": 39,
   "metadata": {},
   "outputs": [
    {
     "data": {
      "text/plain": [
       "-92.5332586154281"
      ]
     },
     "execution_count": 39,
     "metadata": {},
     "output_type": "execute_result"
    }
   ],
   "source": [
    "mean_long"
   ]
  },
  {
   "cell_type": "code",
   "execution_count": 42,
   "metadata": {},
   "outputs": [
    {
     "data": {
      "text/plain": [
       "36.902375778905636"
      ]
     },
     "execution_count": 42,
     "metadata": {},
     "output_type": "execute_result"
    }
   ],
   "source": [
    "mean_lat"
   ]
  },
  {
   "cell_type": "code",
   "execution_count": 47,
   "metadata": {},
   "outputs": [],
   "source": [
    "train.longitude.fillna(mean_long, inplace=True)\n",
    "test.longitude.fillna(mean_long, inplace=True)\n",
    "\n",
    "train.latitude.fillna(mean_lat, inplace=True)\n",
    "test.latitude.fillna(mean_lat, inplace=True)\n",
    "#"
   ]
  },
  {
   "cell_type": "code",
   "execution_count": 86,
   "metadata": {},
   "outputs": [],
   "source": [
    "from sklearn.decomposition import IncrementalPCA\n",
    "# X = np.array([[-1, -1, 7], [-2, -1, 3], [-3, -2, 5], [1, 1,2], [2, 1,4], [3, 2,4]])\n",
    "ipca = IncrementalPCA(n_components=2, batch_size=3)"
   ]
  },
  {
   "cell_type": "code",
   "execution_count": 87,
   "metadata": {},
   "outputs": [],
   "source": [
    "# X = list(zip(db_teach.longitude.values, db_teach.latitude.values))\n",
    "# X = list(zip(db_teach.longitude.values, db_teach.latitude.values))"
   ]
  },
  {
   "cell_type": "code",
   "execution_count": 88,
   "metadata": {},
   "outputs": [],
   "source": [
    "X = [ [x_long, x_lat] for x_long, x_lat in zip(train.longitude.values, train.latitude.values) ] \n",
    "Y = [ [y_long, y_lat] for y_long, y_lat in zip(test.longitude.values, test.latitude.values) ] "
   ]
  },
  {
   "cell_type": "code",
   "execution_count": 89,
   "metadata": {},
   "outputs": [],
   "source": [
    "ipca = IncrementalPCA(n_components=1,batch_size=3)"
   ]
  },
  {
   "cell_type": "code",
   "execution_count": 91,
   "metadata": {},
   "outputs": [
    {
     "data": {
      "text/plain": [
       "IncrementalPCA(batch_size=3, n_components=1)"
      ]
     },
     "execution_count": 91,
     "metadata": {},
     "output_type": "execute_result"
    }
   ],
   "source": [
    "ipca.fit(X)"
   ]
  },
  {
   "cell_type": "code",
   "execution_count": 92,
   "metadata": {},
   "outputs": [],
   "source": [
    "X_transform = ipca.transform(X)"
   ]
  },
  {
   "cell_type": "code",
   "execution_count": 93,
   "metadata": {},
   "outputs": [],
   "source": [
    "X_pca_distance =[ x[0]for x in  X_transform]"
   ]
  },
  {
   "cell_type": "code",
   "execution_count": 94,
   "metadata": {},
   "outputs": [],
   "source": [
    "Y_transform = ipca.transform(Y)"
   ]
  },
  {
   "cell_type": "code",
   "execution_count": 95,
   "metadata": {},
   "outputs": [],
   "source": [
    "Y_pca_distance =[ y[0] for y in  Y_transform]"
   ]
  },
  {
   "cell_type": "code",
   "execution_count": 97,
   "metadata": {},
   "outputs": [],
   "source": [
    "train['pca_distance'] = X_pca_distance\n",
    "test['pca_distance'] = Y_pca_distance"
   ]
  },
  {
   "cell_type": "code",
   "execution_count": 98,
   "metadata": {},
   "outputs": [
    {
     "data": {
      "text/html": [
       "<div>\n",
       "<style scoped>\n",
       "    .dataframe tbody tr th:only-of-type {\n",
       "        vertical-align: middle;\n",
       "    }\n",
       "\n",
       "    .dataframe tbody tr th {\n",
       "        vertical-align: top;\n",
       "    }\n",
       "\n",
       "    .dataframe thead th {\n",
       "        text-align: right;\n",
       "    }\n",
       "</style>\n",
       "<table border=\"1\" class=\"dataframe\">\n",
       "  <thead>\n",
       "    <tr style=\"text-align: right;\">\n",
       "      <th></th>\n",
       "      <th>bin</th>\n",
       "      <th>amount</th>\n",
       "      <th>bank_currency</th>\n",
       "      <th>hour</th>\n",
       "      <th>day_of_week</th>\n",
       "      <th>longitude</th>\n",
       "      <th>latitude</th>\n",
       "      <th>phone_2_norm</th>\n",
       "      <th>pca_distance</th>\n",
       "    </tr>\n",
       "  </thead>\n",
       "  <tbody>\n",
       "    <tr>\n",
       "      <th>0</th>\n",
       "      <td>547087</td>\n",
       "      <td>1.00</td>\n",
       "      <td>112</td>\n",
       "      <td>9</td>\n",
       "      <td>3</td>\n",
       "      <td>9.1833</td>\n",
       "      <td>48.7667</td>\n",
       "      <td>55</td>\n",
       "      <td>94.709858</td>\n",
       "    </tr>\n",
       "    <tr>\n",
       "      <th>1</th>\n",
       "      <td>517148</td>\n",
       "      <td>25.00</td>\n",
       "      <td>840</td>\n",
       "      <td>12</td>\n",
       "      <td>3</td>\n",
       "      <td>-159.3553</td>\n",
       "      <td>22.0837</td>\n",
       "      <td>8</td>\n",
       "      <td>-60.317973</td>\n",
       "    </tr>\n",
       "    <tr>\n",
       "      <th>2</th>\n",
       "      <td>546540</td>\n",
       "      <td>21.18</td>\n",
       "      <td>840</td>\n",
       "      <td>15</td>\n",
       "      <td>3</td>\n",
       "      <td>-97.0000</td>\n",
       "      <td>38.0000</td>\n",
       "      <td>40</td>\n",
       "      <td>-4.597107</td>\n",
       "    </tr>\n",
       "    <tr>\n",
       "      <th>3</th>\n",
       "      <td>510805</td>\n",
       "      <td>200.00</td>\n",
       "      <td>840</td>\n",
       "      <td>15</td>\n",
       "      <td>3</td>\n",
       "      <td>-122.2420</td>\n",
       "      <td>37.8116</td>\n",
       "      <td>10</td>\n",
       "      <td>-28.846150</td>\n",
       "    </tr>\n",
       "    <tr>\n",
       "      <th>4</th>\n",
       "      <td>544731</td>\n",
       "      <td>2.38</td>\n",
       "      <td>76</td>\n",
       "      <td>15</td>\n",
       "      <td>3</td>\n",
       "      <td>-43.2333</td>\n",
       "      <td>-22.9000</td>\n",
       "      <td>19</td>\n",
       "      <td>63.644737</td>\n",
       "    </tr>\n",
       "  </tbody>\n",
       "</table>\n",
       "</div>"
      ],
      "text/plain": [
       "      bin  amount  bank_currency  hour  day_of_week  longitude  latitude  \\\n",
       "0  547087  1.00    112            9     3            9.1833     48.7667    \n",
       "1  517148  25.00   840            12    3           -159.3553   22.0837    \n",
       "2  546540  21.18   840            15    3           -97.0000    38.0000    \n",
       "3  510805  200.00  840            15    3           -122.2420   37.8116    \n",
       "4  544731  2.38    76             15    3           -43.2333   -22.9000    \n",
       "\n",
       "   phone_2_norm  pca_distance  \n",
       "0  55            94.709858     \n",
       "1  8            -60.317973     \n",
       "2  40           -4.597107      \n",
       "3  10           -28.846150     \n",
       "4  19            63.644737     "
      ]
     },
     "execution_count": 98,
     "metadata": {},
     "output_type": "execute_result"
    }
   ],
   "source": [
    "train.head()"
   ]
  }
 ],
 "metadata": {
  "kernelspec": {
   "display_name": "Python 3",
   "language": "python",
   "name": "python3"
  },
  "language_info": {
   "codemirror_mode": {
    "name": "ipython",
    "version": 3
   },
   "file_extension": ".py",
   "mimetype": "text/x-python",
   "name": "python",
   "nbconvert_exporter": "python",
   "pygments_lexer": "ipython3",
   "version": "3.6.10"
  }
 },
 "nbformat": 4,
 "nbformat_minor": 4
}
