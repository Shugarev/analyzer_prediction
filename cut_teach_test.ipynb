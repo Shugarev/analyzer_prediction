{
 "cells": [
  {
   "cell_type": "code",
   "execution_count": 1,
   "metadata": {},
   "outputs": [],
   "source": [
    "import pandas as pd\n",
    "import numpy as np\n",
    "from datetime import timedelta, datetime\n",
    "from statistic import Statistic\n",
    "pd.set_option('display.max_colwidth', -1)"
   ]
  },
  {
   "cell_type": "code",
   "execution_count": 2,
   "metadata": {},
   "outputs": [],
   "source": [
    "# for autoreload modules\n",
    "%load_ext autoreload\n",
    "%autoreload 2"
   ]
  },
  {
   "cell_type": "code",
   "execution_count": 3,
   "metadata": {},
   "outputs": [],
   "source": [
    "# ky9\n",
    "path_data = '/mnt/files/workdata/work/merchants/merchant_32_ky9_2020-05-12_white_visa/'\n",
    "df = pd.read_csv(path_data + '02_pure_data/ky9_for_resolve.csv', dtype=str)"
   ]
  },
  {
   "cell_type": "code",
   "execution_count": 4,
   "metadata": {},
   "outputs": [
    {
     "data": {
      "text/html": [
       "<div>\n",
       "<style scoped>\n",
       "    .dataframe tbody tr th:only-of-type {\n",
       "        vertical-align: middle;\n",
       "    }\n",
       "\n",
       "    .dataframe tbody tr th {\n",
       "        vertical-align: top;\n",
       "    }\n",
       "\n",
       "    .dataframe thead th {\n",
       "        text-align: right;\n",
       "    }\n",
       "</style>\n",
       "<table border=\"1\" class=\"dataframe\">\n",
       "  <thead>\n",
       "    <tr style=\"text-align: right;\">\n",
       "      <th></th>\n",
       "      <th>order_id</th>\n",
       "      <th>type</th>\n",
       "      <th>status</th>\n",
       "      <th>date</th>\n",
       "      <th>processed</th>\n",
       "      <th>amount</th>\n",
       "      <th>currency</th>\n",
       "      <th>card_holder</th>\n",
       "      <th>email</th>\n",
       "      <th>phone</th>\n",
       "      <th>...</th>\n",
       "      <th>ip</th>\n",
       "      <th>project_id</th>\n",
       "      <th>reported</th>\n",
       "      <th>status_chargeback</th>\n",
       "      <th>date_cb_only</th>\n",
       "      <th>card_masked</th>\n",
       "      <th>card_expire</th>\n",
       "      <th>amount_in_currency</th>\n",
       "      <th>date_only</th>\n",
       "      <th>id</th>\n",
       "    </tr>\n",
       "  </thead>\n",
       "  <tbody>\n",
       "    <tr>\n",
       "      <th>0</th>\n",
       "      <td>41799680781449564</td>\n",
       "      <td>charge</td>\n",
       "      <td>false</td>\n",
       "      <td>2018-12-19 22:33:23</td>\n",
       "      <td>2018-12-19 22:33:27</td>\n",
       "      <td>52.95</td>\n",
       "      <td>USD</td>\n",
       "      <td>Jennifer Myers</td>\n",
       "      <td>jenn-mye@hotmail.com</td>\n",
       "      <td>+6024818120</td>\n",
       "      <td>...</td>\n",
       "      <td>195.39.171.227</td>\n",
       "      <td>5a2df766c7321c3b48791d979bdad3ce5ce2f8b9</td>\n",
       "      <td>NaN</td>\n",
       "      <td>charged</td>\n",
       "      <td>2018-12-19</td>\n",
       "      <td>447494******6650</td>\n",
       "      <td>2019-03</td>\n",
       "      <td>52.95</td>\n",
       "      <td>2018-12-19</td>\n",
       "      <td>447494******6650_2019-03</td>\n",
       "    </tr>\n",
       "    <tr>\n",
       "      <th>1</th>\n",
       "      <td>41799692345652096</td>\n",
       "      <td>charge</td>\n",
       "      <td>false</td>\n",
       "      <td>2018-12-19 22:34:08</td>\n",
       "      <td>2018-12-19 22:34:12</td>\n",
       "      <td>21.18</td>\n",
       "      <td>USD</td>\n",
       "      <td>Brady Marske</td>\n",
       "      <td>marske-brady7053@yahoo.com</td>\n",
       "      <td>+3235272757</td>\n",
       "      <td>...</td>\n",
       "      <td>99.101.8.179</td>\n",
       "      <td>5a2df766c7321c3b48791d979bdad3ce5ce2f8b9</td>\n",
       "      <td>NaN</td>\n",
       "      <td>charged</td>\n",
       "      <td>2018-12-19</td>\n",
       "      <td>434256******3600</td>\n",
       "      <td>2022-11</td>\n",
       "      <td>21.18</td>\n",
       "      <td>2018-12-19</td>\n",
       "      <td>434256******3600_2022-11</td>\n",
       "    </tr>\n",
       "    <tr>\n",
       "      <th>2</th>\n",
       "      <td>41799707414784518</td>\n",
       "      <td>charge</td>\n",
       "      <td>false</td>\n",
       "      <td>2018-12-19 22:35:07</td>\n",
       "      <td>2018-12-19 22:35:10</td>\n",
       "      <td>26.48</td>\n",
       "      <td>USD</td>\n",
       "      <td>Christopher Scala</td>\n",
       "      <td>chsca8515@me.com</td>\n",
       "      <td>+2674232337</td>\n",
       "      <td>...</td>\n",
       "      <td>100.34.37.252</td>\n",
       "      <td>5a2df766c7321c3b48791d979bdad3ce5ce2f8b9</td>\n",
       "      <td>NaN</td>\n",
       "      <td>charged</td>\n",
       "      <td>2018-12-19</td>\n",
       "      <td>464733******3963</td>\n",
       "      <td>2020-04</td>\n",
       "      <td>26.48</td>\n",
       "      <td>2018-12-19</td>\n",
       "      <td>464733******3963_2020-04</td>\n",
       "    </tr>\n",
       "    <tr>\n",
       "      <th>3</th>\n",
       "      <td>41799716768741310</td>\n",
       "      <td>charge</td>\n",
       "      <td>false</td>\n",
       "      <td>2018-12-19 22:35:43</td>\n",
       "      <td>2018-12-19 22:35:47</td>\n",
       "      <td>26.48</td>\n",
       "      <td>USD</td>\n",
       "      <td>Blake Mitrovik</td>\n",
       "      <td>mitrovikblake@msn.com</td>\n",
       "      <td>+7152525225</td>\n",
       "      <td>...</td>\n",
       "      <td>174.198.11.206</td>\n",
       "      <td>5a2df766c7321c3b48791d979bdad3ce5ce2f8b9</td>\n",
       "      <td>NaN</td>\n",
       "      <td>charged</td>\n",
       "      <td>2018-12-19</td>\n",
       "      <td>437303******7009</td>\n",
       "      <td>2022-09</td>\n",
       "      <td>26.48</td>\n",
       "      <td>2018-12-19</td>\n",
       "      <td>437303******7009_2022-09</td>\n",
       "    </tr>\n",
       "    <tr>\n",
       "      <th>4</th>\n",
       "      <td>41799744497264522</td>\n",
       "      <td>charge</td>\n",
       "      <td>false</td>\n",
       "      <td>2018-12-19 22:37:31</td>\n",
       "      <td>2018-12-19 22:37:36</td>\n",
       "      <td>22.24</td>\n",
       "      <td>USD</td>\n",
       "      <td>Curry Paraspolo</td>\n",
       "      <td>paraspolocur@outlook.com</td>\n",
       "      <td>+3863141489</td>\n",
       "      <td>...</td>\n",
       "      <td>172.58.43.103</td>\n",
       "      <td>5a2df766c7321c3b48791d979bdad3ce5ce2f8b9</td>\n",
       "      <td>NaN</td>\n",
       "      <td>charged</td>\n",
       "      <td>2018-12-19</td>\n",
       "      <td>423223******9977</td>\n",
       "      <td>2022-11</td>\n",
       "      <td>22.24</td>\n",
       "      <td>2018-12-19</td>\n",
       "      <td>423223******9977_2022-11</td>\n",
       "    </tr>\n",
       "  </tbody>\n",
       "</table>\n",
       "<p>5 rows × 24 columns</p>\n",
       "</div>"
      ],
      "text/plain": [
       "            order_id    type status                 date            processed  \\\n",
       "0  41799680781449564  charge  false  2018-12-19 22:33:23  2018-12-19 22:33:27   \n",
       "1  41799692345652096  charge  false  2018-12-19 22:34:08  2018-12-19 22:34:12   \n",
       "2  41799707414784518  charge  false  2018-12-19 22:35:07  2018-12-19 22:35:10   \n",
       "3  41799716768741310  charge  false  2018-12-19 22:35:43  2018-12-19 22:35:47   \n",
       "4  41799744497264522  charge  false  2018-12-19 22:37:31  2018-12-19 22:37:36   \n",
       "\n",
       "  amount currency        card_holder                       email        phone  \\\n",
       "0  52.95  USD      Jennifer Myers     jenn-mye@hotmail.com        +6024818120   \n",
       "1  21.18  USD      Brady Marske       marske-brady7053@yahoo.com  +3235272757   \n",
       "2  26.48  USD      Christopher Scala  chsca8515@me.com            +2674232337   \n",
       "3  26.48  USD      Blake Mitrovik     mitrovikblake@msn.com       +7152525225   \n",
       "4  22.24  USD      Curry Paraspolo    paraspolocur@outlook.com    +3863141489   \n",
       "\n",
       "   ...              ip                                project_id reported  \\\n",
       "0  ...  195.39.171.227  5a2df766c7321c3b48791d979bdad3ce5ce2f8b9  NaN       \n",
       "1  ...  99.101.8.179    5a2df766c7321c3b48791d979bdad3ce5ce2f8b9  NaN       \n",
       "2  ...  100.34.37.252   5a2df766c7321c3b48791d979bdad3ce5ce2f8b9  NaN       \n",
       "3  ...  174.198.11.206  5a2df766c7321c3b48791d979bdad3ce5ce2f8b9  NaN       \n",
       "4  ...  172.58.43.103   5a2df766c7321c3b48791d979bdad3ce5ce2f8b9  NaN       \n",
       "\n",
       "  status_chargeback date_cb_only       card_masked card_expire  \\\n",
       "0  charged           2018-12-19   447494******6650  2019-03      \n",
       "1  charged           2018-12-19   434256******3600  2022-11      \n",
       "2  charged           2018-12-19   464733******3963  2020-04      \n",
       "3  charged           2018-12-19   437303******7009  2022-09      \n",
       "4  charged           2018-12-19   423223******9977  2022-11      \n",
       "\n",
       "  amount_in_currency   date_only                        id  \n",
       "0  52.95              2018-12-19  447494******6650_2019-03  \n",
       "1  21.18              2018-12-19  434256******3600_2022-11  \n",
       "2  26.48              2018-12-19  464733******3963_2020-04  \n",
       "3  26.48              2018-12-19  437303******7009_2022-09  \n",
       "4  22.24              2018-12-19  423223******9977_2022-11  \n",
       "\n",
       "[5 rows x 24 columns]"
      ]
     },
     "execution_count": 4,
     "metadata": {},
     "output_type": "execute_result"
    }
   ],
   "source": [
    "df.head()"
   ]
  },
  {
   "cell_type": "code",
   "execution_count": 5,
   "metadata": {},
   "outputs": [
    {
     "data": {
      "text/plain": [
       "order_id              object\n",
       "type                  object\n",
       "status                object\n",
       "date                  object\n",
       "processed             object\n",
       "amount                object\n",
       "currency              object\n",
       "card_holder           object\n",
       "email                 object\n",
       "phone                 object\n",
       "address               object\n",
       "city_from_order       object\n",
       "country               object\n",
       "zip                   object\n",
       "ip                    object\n",
       "project_id            object\n",
       "reported              object\n",
       "status_chargeback     object\n",
       "date_cb_only          object\n",
       "card_masked           object\n",
       "card_expire           object\n",
       "amount_in_currency    object\n",
       "date_only             object\n",
       "id                    object\n",
       "dtype: object"
      ]
     },
     "execution_count": 5,
     "metadata": {},
     "output_type": "execute_result"
    }
   ],
   "source": [
    "df.dtypes"
   ]
  },
  {
   "cell_type": "code",
   "execution_count": 6,
   "metadata": {},
   "outputs": [
    {
     "data": {
      "text/plain": [
       "(4312751, 24)"
      ]
     },
     "execution_count": 6,
     "metadata": {},
     "output_type": "execute_result"
    }
   ],
   "source": [
    "df.shape"
   ]
  },
  {
   "cell_type": "code",
   "execution_count": 7,
   "metadata": {},
   "outputs": [
    {
     "data": {
      "text/plain": [
       "'2018-12-19'"
      ]
     },
     "execution_count": 7,
     "metadata": {},
     "output_type": "execute_result"
    }
   ],
   "source": [
    "min(df.date_only)"
   ]
  },
  {
   "cell_type": "code",
   "execution_count": 8,
   "metadata": {},
   "outputs": [
    {
     "data": {
      "text/plain": [
       "'2020-05-12'"
      ]
     },
     "execution_count": 8,
     "metadata": {},
     "output_type": "execute_result"
    }
   ],
   "source": [
    "max(df.date_only)"
   ]
  },
  {
   "cell_type": "code",
   "execution_count": 9,
   "metadata": {},
   "outputs": [],
   "source": [
    "df.date_only = pd.to_datetime(df.date_only)"
   ]
  },
  {
   "cell_type": "code",
   "execution_count": 10,
   "metadata": {},
   "outputs": [],
   "source": [
    "df.date_cb_only = pd.to_datetime(df.date_cb_only)"
   ]
  },
  {
   "cell_type": "code",
   "execution_count": 11,
   "metadata": {},
   "outputs": [
    {
     "data": {
      "text/plain": [
       "Timestamp('2018-12-19 00:00:00')"
      ]
     },
     "execution_count": 11,
     "metadata": {},
     "output_type": "execute_result"
    }
   ],
   "source": [
    "start_date = min(df.date_only)\n",
    "start_date"
   ]
  },
  {
   "cell_type": "code",
   "execution_count": 12,
   "metadata": {},
   "outputs": [
    {
     "data": {
      "text/plain": [
       "Timestamp('2020-05-12 00:00:00')"
      ]
     },
     "execution_count": 12,
     "metadata": {},
     "output_type": "execute_result"
    }
   ],
   "source": [
    "end_date = max(df.date_only)\n",
    "end_date"
   ]
  },
  {
   "cell_type": "code",
   "execution_count": 13,
   "metadata": {},
   "outputs": [
    {
     "data": {
      "text/plain": [
       "510"
      ]
     },
     "execution_count": 13,
     "metadata": {},
     "output_type": "execute_result"
    }
   ],
   "source": [
    "diff = end_date - start_date\n",
    "diff_days = diff.days\n",
    "diff_days"
   ]
  },
  {
   "cell_type": "code",
   "execution_count": 14,
   "metadata": {},
   "outputs": [
    {
     "data": {
      "text/plain": [
       "Timestamp('2020-01-31 00:00:00')"
      ]
     },
     "execution_count": 14,
     "metadata": {},
     "output_type": "execute_result"
    }
   ],
   "source": [
    "days_in_test = int(diff_days * 0.2)\n",
    "start_test = end_date - timedelta(days=days_in_test)\n",
    "start_test"
   ]
  },
  {
   "cell_type": "code",
   "execution_count": 15,
   "metadata": {},
   "outputs": [
    {
     "data": {
      "text/plain": [
       "Timestamp('2020-04-30 00:00:00')"
      ]
     },
     "execution_count": 15,
     "metadata": {},
     "output_type": "execute_result"
    }
   ],
   "source": [
    "retreat_days_from_end = int(diff_days * 0.025)\n",
    "end_test = end_date - timedelta(days=retreat_days_from_end)\n",
    "end_test"
   ]
  },
  {
   "cell_type": "code",
   "execution_count": 16,
   "metadata": {},
   "outputs": [
    {
     "data": {
      "text/plain": [
       "Timestamp('2019-01-08 00:00:00')"
      ]
     },
     "execution_count": 16,
     "metadata": {},
     "output_type": "execute_result"
    }
   ],
   "source": [
    "retreat_days_from_start = 20\n",
    "start_teach = start_date + timedelta(days=retreat_days_from_start)\n",
    "start_teach"
   ]
  },
  {
   "cell_type": "code",
   "execution_count": 17,
   "metadata": {},
   "outputs": [
    {
     "data": {
      "text/plain": [
       "Timestamp('2020-01-19 00:00:00')"
      ]
     },
     "execution_count": 17,
     "metadata": {},
     "output_type": "execute_result"
    }
   ],
   "source": [
    "retreat_days_from_test_start = int(diff_days * 0.025)\n",
    "end_teach = start_test - timedelta(days=retreat_days_from_test_start)\n",
    "end_teach"
   ]
  },
  {
   "cell_type": "code",
   "execution_count": 18,
   "metadata": {},
   "outputs": [
    {
     "data": {
      "text/plain": [
       "Timestamp('2019-01-08 00:00:00')"
      ]
     },
     "execution_count": 18,
     "metadata": {},
     "output_type": "execute_result"
    }
   ],
   "source": [
    "start_teach"
   ]
  },
  {
   "cell_type": "code",
   "execution_count": 19,
   "metadata": {},
   "outputs": [
    {
     "data": {
      "text/plain": [
       "Timestamp('2020-01-19 00:00:00')"
      ]
     },
     "execution_count": 19,
     "metadata": {},
     "output_type": "execute_result"
    }
   ],
   "source": [
    "end_teach"
   ]
  },
  {
   "cell_type": "code",
   "execution_count": 20,
   "metadata": {},
   "outputs": [
    {
     "data": {
      "text/plain": [
       "Timestamp('2020-01-31 00:00:00')"
      ]
     },
     "execution_count": 20,
     "metadata": {},
     "output_type": "execute_result"
    }
   ],
   "source": [
    "start_test"
   ]
  },
  {
   "cell_type": "code",
   "execution_count": 22,
   "metadata": {},
   "outputs": [
    {
     "data": {
      "text/plain": [
       "Timestamp('2020-04-30 00:00:00')"
      ]
     },
     "execution_count": 22,
     "metadata": {},
     "output_type": "execute_result"
    }
   ],
   "source": [
    "end_test"
   ]
  },
  {
   "cell_type": "code",
   "execution_count": 31,
   "metadata": {},
   "outputs": [],
   "source": [
    "# если не устраивают даты start_teach, end_teach, start_test, end_test их можно перезадать явно( пример внизу)\n",
    "# start_teach = datetime.strptime(\"2020-01-01\", '%Y-%m-%d')"
   ]
  },
  {
   "cell_type": "code",
   "execution_count": 23,
   "metadata": {},
   "outputs": [
    {
     "data": {
      "text/plain": [
       "'false'"
      ]
     },
     "execution_count": 23,
     "metadata": {},
     "output_type": "execute_result"
    }
   ],
   "source": [
    "good_statuses = Statistic.get_dt_good(df).status.unique()\n",
    "good_status = good_statuses[0] \n",
    "good_status"
   ]
  },
  {
   "cell_type": "code",
   "execution_count": 24,
   "metadata": {},
   "outputs": [],
   "source": [
    "mask_teach = (df.date_only < start_test) & ( (df.status.isin(Statistic.BAD_STATUSES)) | (df.date_only < end_teach ))\n",
    "teach = df[mask_teach].copy()"
   ]
  },
  {
   "cell_type": "code",
   "execution_count": 25,
   "metadata": {},
   "outputs": [
    {
     "data": {
      "text/plain": [
       "Counter({'false': 3258906, 'true': 48953})"
      ]
     },
     "execution_count": 25,
     "metadata": {},
     "output_type": "execute_result"
    }
   ],
   "source": [
    "Statistic.get_table(teach, 'status')"
   ]
  },
  {
   "cell_type": "code",
   "execution_count": 26,
   "metadata": {},
   "outputs": [],
   "source": [
    "teach.status = np.where( (teach.status.isin(Statistic.BAD_STATUSES)) & (teach.date_cb_only > start_test), good_status, teach.status)"
   ]
  },
  {
   "cell_type": "code",
   "execution_count": 27,
   "metadata": {},
   "outputs": [
    {
     "data": {
      "text/plain": [
       "Counter({'false': 3263023, 'true': 44836})"
      ]
     },
     "execution_count": 27,
     "metadata": {},
     "output_type": "execute_result"
    }
   ],
   "source": [
    "Statistic.get_table(teach, 'status')"
   ]
  },
  {
   "cell_type": "code",
   "execution_count": 28,
   "metadata": {},
   "outputs": [],
   "source": [
    "mask_test = (df.date_only > start_test) &  ((df.status.isin(Statistic.BAD_STATUSES)) | (df.date_only < end_test))\n",
    "test = df[mask_test]"
   ]
  },
  {
   "cell_type": "code",
   "execution_count": 29,
   "metadata": {},
   "outputs": [
    {
     "data": {
      "text/plain": [
       "Counter({'false': 810544, 'true': 7480})"
      ]
     },
     "execution_count": 29,
     "metadata": {},
     "output_type": "execute_result"
    }
   ],
   "source": [
    "Statistic.get_table(test, 'status')"
   ]
  },
  {
   "cell_type": "code",
   "execution_count": 30,
   "metadata": {},
   "outputs": [
    {
     "data": {
      "text/plain": [
       "1.36"
      ]
     },
     "execution_count": 30,
     "metadata": {},
     "output_type": "execute_result"
    }
   ],
   "source": [
    "Statistic.get_cb_rate(teach)"
   ]
  },
  {
   "cell_type": "code",
   "execution_count": 31,
   "metadata": {},
   "outputs": [
    {
     "data": {
      "text/plain": [
       "0.91"
      ]
     },
     "execution_count": 31,
     "metadata": {},
     "output_type": "execute_result"
    }
   ],
   "source": [
    "Statistic.get_cb_rate(test)"
   ]
  },
  {
   "cell_type": "code",
   "execution_count": 32,
   "metadata": {},
   "outputs": [
    {
     "data": {
      "text/plain": [
       "1.87"
      ]
     },
     "execution_count": 32,
     "metadata": {},
     "output_type": "execute_result"
    }
   ],
   "source": [
    "Statistic.get_cb_rate_amount(teach)"
   ]
  },
  {
   "cell_type": "code",
   "execution_count": 35,
   "metadata": {},
   "outputs": [
    {
     "data": {
      "text/plain": [
       "1.5"
      ]
     },
     "execution_count": 35,
     "metadata": {},
     "output_type": "execute_result"
    }
   ],
   "source": [
    "Statistic.get_cb_rate_amount(test)"
   ]
  },
  {
   "cell_type": "code",
   "execution_count": 44,
   "metadata": {},
   "outputs": [
    {
     "data": {
      "text/plain": [
       "'teach_2019-01-08_2020-01-19.csv'"
      ]
     },
     "execution_count": 44,
     "metadata": {},
     "output_type": "execute_result"
    }
   ],
   "source": [
    "teach_name = 'teach_' + start_teach.strftime('%Y-%m-%d') + '_' + end_teach.strftime('%Y-%m-%d') + '.csv'\n",
    "test_name = 'test_' + start_test.strftime('%Y-%m-%d') + '_' + end_test.strftime('%Y-%m-%d') + '.csv'\n",
    "teach_name"
   ]
  },
  {
   "cell_type": "code",
   "execution_count": 45,
   "metadata": {},
   "outputs": [
    {
     "data": {
      "text/plain": [
       "'test_2020-01-31_2020-04-30.csv'"
      ]
     },
     "execution_count": 45,
     "metadata": {},
     "output_type": "execute_result"
    }
   ],
   "source": [
    "test_name"
   ]
  },
  {
   "cell_type": "code",
   "execution_count": 49,
   "metadata": {},
   "outputs": [],
   "source": [
    "path_exp = path_data + '04_experiments/ex_01_description/'\n",
    "path_teach = path_exp + teach_name\n",
    "path_test = path_exp + test_name"
   ]
  },
  {
   "cell_type": "code",
   "execution_count": 50,
   "metadata": {},
   "outputs": [],
   "source": [
    "drop_columns = ['type', 'amount_in_currency']"
   ]
  },
  {
   "cell_type": "code",
   "execution_count": 53,
   "metadata": {},
   "outputs": [],
   "source": [
    "teach = teach.drop(columns=drop_columns)\n",
    "test = test.drop(columns=drop_columns)"
   ]
  },
  {
   "cell_type": "code",
   "execution_count": 54,
   "metadata": {},
   "outputs": [
    {
     "data": {
      "text/plain": [
       "['order_id',\n",
       " 'status',\n",
       " 'date',\n",
       " 'processed',\n",
       " 'amount',\n",
       " 'currency',\n",
       " 'card_holder',\n",
       " 'email',\n",
       " 'phone',\n",
       " 'address',\n",
       " 'city_from_order',\n",
       " 'country',\n",
       " 'zip',\n",
       " 'ip',\n",
       " 'project_id',\n",
       " 'reported',\n",
       " 'status_chargeback',\n",
       " 'date_cb_only',\n",
       " 'card_masked',\n",
       " 'card_expire',\n",
       " 'date_only',\n",
       " 'id']"
      ]
     },
     "execution_count": 54,
     "metadata": {},
     "output_type": "execute_result"
    }
   ],
   "source": [
    "list(teach)"
   ]
  },
  {
   "cell_type": "code",
   "execution_count": null,
   "metadata": {},
   "outputs": [],
   "source": [
    "#teach.to_csv(path_teach, index=False, quoting=csv.QUOTE_ALL)\n",
    "#test.to_csv(path_teach, index=False, quoting=csv.QUOTE_ALL)"
   ]
  }
 ],
 "metadata": {
  "kernelspec": {
   "display_name": "Python 3",
   "language": "python",
   "name": "python3"
  },
  "language_info": {
   "codemirror_mode": {
    "name": "ipython",
    "version": 3.0
   },
   "file_extension": ".py",
   "mimetype": "text/x-python",
   "name": "python",
   "nbconvert_exporter": "python",
   "pygments_lexer": "ipython3",
   "version": "3.6.10"
  }
 },
 "nbformat": 4,
 "nbformat_minor": 0
}