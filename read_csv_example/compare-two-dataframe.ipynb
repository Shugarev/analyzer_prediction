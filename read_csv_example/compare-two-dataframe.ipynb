{
 "cells": [
  {
   "cell_type": "code",
   "execution_count": 40,
   "metadata": {},
   "outputs": [],
   "source": [
    "from collections import Counter\n",
    "import pandas as pd\n",
    "import numpy as np\n",
    "pd.set_option('display.max_colwidth', 1200)\n",
    "pd.set_option('display.max_rows', 30)"
   ]
  },
  {
   "cell_type": "code",
   "execution_count": 7,
   "metadata": {},
   "outputs": [],
   "source": [
    "import os,sys,inspect\n",
    "currentdir = os.path.dirname(os.path.abspath(inspect.getfile(inspect.currentframe())))\n",
    "parentdir = os.path.dirname(currentdir)\n",
    "sys.path.insert(0,parentdir)"
   ]
  },
  {
   "cell_type": "code",
   "execution_count": 8,
   "metadata": {},
   "outputs": [],
   "source": [
    "from statistic import Statistic\n",
    "from utils import UtilsKy\n",
    "from analyzer import HelperAnalyzer, AnalyzerPrediction"
   ]
  },
  {
   "cell_type": "code",
   "execution_count": 9,
   "metadata": {},
   "outputs": [],
   "source": [
    "from datetime import datetime, timedelta"
   ]
  },
  {
   "cell_type": "code",
   "execution_count": 10,
   "metadata": {},
   "outputs": [
    {
     "data": {
      "text/plain": [
       "'/mnt/files/workdata/work/merchants/merchant_33_kyw3_2020-06-05/04_experiments/ex_01_some_teach/'"
      ]
     },
     "execution_count": 10,
     "metadata": {},
     "output_type": "execute_result"
    }
   ],
   "source": [
    "UtilsKy.PATH_DATA_KYW3"
   ]
  },
  {
   "cell_type": "code",
   "execution_count": 11,
   "metadata": {},
   "outputs": [],
   "source": [
    "path_teach_kyw3 = UtilsKy.PATH_DATA_KYW3 + '-extra_teach_kyw3_from_2019-11-20_to_2020-03-13.csv'\n",
    "path_test_kyw3 = UtilsKy.PATH_DATA_KYW3 + 'test_kyw3_from_2020-04-06_to_2020-05-06.csv'"
   ]
  },
  {
   "cell_type": "code",
   "execution_count": 12,
   "metadata": {},
   "outputs": [],
   "source": [
    "teach_kyw3 = pd.read_csv(path_teach_kyw3 , dtype=str)"
   ]
  },
  {
   "cell_type": "code",
   "execution_count": 13,
   "metadata": {},
   "outputs": [],
   "source": [
    "test_kyw3 = pd.read_csv(path_test_kyw3 , dtype=str)"
   ]
  },
  {
   "cell_type": "code",
   "execution_count": 17,
   "metadata": {},
   "outputs": [],
   "source": [
    "path_kyw3_exp_02 = UtilsKy.PATH_KYW3 + '04_experiments/ex_02_jupyter/'"
   ]
  },
  {
   "cell_type": "code",
   "execution_count": 18,
   "metadata": {},
   "outputs": [],
   "source": [
    "teach_kyw3_jupyter = pd.read_csv(path_kyw3_exp_02 + 'teach_2019-11-20_2020-03-13.csv' , dtype=str)"
   ]
  },
  {
   "cell_type": "code",
   "execution_count": 19,
   "metadata": {},
   "outputs": [],
   "source": [
    "test_kyw3_jupyter = pd.read_csv(path_kyw3_exp_02 + 'test_2020-04-06_2020-05-06.csv' , dtype=str)"
   ]
  },
  {
   "cell_type": "code",
   "execution_count": 20,
   "metadata": {},
   "outputs": [],
   "source": [
    "df1 = teach_kyw3"
   ]
  },
  {
   "cell_type": "code",
   "execution_count": 21,
   "metadata": {},
   "outputs": [],
   "source": [
    "df2 = teach_kyw3_jupyter"
   ]
  },
  {
   "cell_type": "code",
   "execution_count": 22,
   "metadata": {},
   "outputs": [
    {
     "data": {
      "text/plain": [
       "['order_id',\n",
       " 'type',\n",
       " 'status',\n",
       " 'date',\n",
       " 'processed',\n",
       " 'amount',\n",
       " 'currency',\n",
       " 'card_holder',\n",
       " 'email',\n",
       " 'phone',\n",
       " 'address',\n",
       " 'city_from_order',\n",
       " 'country',\n",
       " 'zip',\n",
       " 'ip',\n",
       " 'project_id',\n",
       " 'reported',\n",
       " 'status_chargeback',\n",
       " 'date_cb_only',\n",
       " 'card_masked',\n",
       " 'card_expire',\n",
       " 'amount_in_currency',\n",
       " 'date_only',\n",
       " 'id']"
      ]
     },
     "execution_count": 22,
     "metadata": {},
     "output_type": "execute_result"
    }
   ],
   "source": [
    "list(df1)"
   ]
  },
  {
   "cell_type": "code",
   "execution_count": 23,
   "metadata": {},
   "outputs": [
    {
     "data": {
      "text/plain": [
       "['order_id',\n",
       " 'status',\n",
       " 'date',\n",
       " 'processed',\n",
       " 'amount',\n",
       " 'currency',\n",
       " 'card_holder',\n",
       " 'email',\n",
       " 'phone',\n",
       " 'address',\n",
       " 'city_from_order',\n",
       " 'country',\n",
       " 'zip',\n",
       " 'ip',\n",
       " 'project_id',\n",
       " 'reported',\n",
       " 'status_chargeback',\n",
       " 'date_cb_only',\n",
       " 'card_masked',\n",
       " 'card_expire',\n",
       " 'date_only',\n",
       " 'id']"
      ]
     },
     "execution_count": 23,
     "metadata": {},
     "output_type": "execute_result"
    }
   ],
   "source": [
    "list(df2)"
   ]
  },
  {
   "cell_type": "code",
   "execution_count": 24,
   "metadata": {},
   "outputs": [],
   "source": [
    "col_names_1 = list(df1)\n",
    "col_names_2 = list(df2)"
   ]
  },
  {
   "cell_type": "code",
   "execution_count": 26,
   "metadata": {},
   "outputs": [
    {
     "name": "stdout",
     "output_type": "stream",
     "text": [
      "columns don`t match\n",
      "list(df1) - list(df2)= {'amount_in_currency', 'type'}\n",
      "list(df2) - list(df1)= set()\n"
     ]
    }
   ],
   "source": [
    "if set(col_names_1) == set(col_names_2):\n",
    "    print( 'columns match')\n",
    "else:    \n",
    "    print( 'columns don`t match')\n",
    "    diff_1_2 = set(col_names_1) - set(col_names_2)\n",
    "    diff_2_1 = set(col_names_2) - set(col_names_2)\n",
    "    print( 'list(df1) - list(df2)= ' + str(diff_1_2))\n",
    "    print( 'list(df2) - list(df1)= ' + str(diff_2_1))"
   ]
  },
  {
   "cell_type": "code",
   "execution_count": 27,
   "metadata": {},
   "outputs": [],
   "source": [
    "n1 = df1.shape[0]\n",
    "n2 = df2.shape[0]"
   ]
  },
  {
   "cell_type": "code",
   "execution_count": 28,
   "metadata": {},
   "outputs": [
    {
     "name": "stdout",
     "output_type": "stream",
     "text": [
      "Number of rows in dataframes is the same\n"
     ]
    }
   ],
   "source": [
    "if n1 == n2:\n",
    "    print('Number of rows in dataframes is the same')\n",
    "else:\n",
    "    print(\"n1={},n2={}.\".format(n1,n2))\n"
   ]
  },
  {
   "cell_type": "code",
   "execution_count": 29,
   "metadata": {},
   "outputs": [
    {
     "data": {
      "text/plain": [
       "{'address',\n",
       " 'amount',\n",
       " 'card_expire',\n",
       " 'card_holder',\n",
       " 'card_masked',\n",
       " 'city_from_order',\n",
       " 'country',\n",
       " 'currency',\n",
       " 'date',\n",
       " 'date_cb_only',\n",
       " 'date_only',\n",
       " 'email',\n",
       " 'id',\n",
       " 'ip',\n",
       " 'order_id',\n",
       " 'phone',\n",
       " 'processed',\n",
       " 'project_id',\n",
       " 'reported',\n",
       " 'status',\n",
       " 'status_chargeback',\n",
       " 'zip'}"
      ]
     },
     "execution_count": 29,
     "metadata": {},
     "output_type": "execute_result"
    }
   ],
   "source": [
    "col_names = set(col_names_1).intersection(col_names_2)\n",
    "col_names"
   ]
  },
  {
   "cell_type": "code",
   "execution_count": 30,
   "metadata": {},
   "outputs": [],
   "source": [
    "n = min(n1, n2)"
   ]
  },
  {
   "cell_type": "code",
   "execution_count": 31,
   "metadata": {},
   "outputs": [
    {
     "data": {
      "text/plain": [
       "['reported']"
      ]
     },
     "execution_count": 31,
     "metadata": {},
     "output_type": "execute_result"
    }
   ],
   "source": [
    "not_equal_columns = [ col for col in col_names if not np.array_equal(df1[col].values[:n], df2[col].values[:n])]\n",
    "not_equal_columns        "
   ]
  },
  {
   "cell_type": "code",
   "execution_count": 35,
   "metadata": {},
   "outputs": [],
   "source": [
    "col_name = not_equal_columns[0]# 'amount'\n",
    "col_1 = 'df1.' + col_name\n",
    "col_2 = 'df2.' + col_name\n",
    "data = {col_1: df1[col_name].values[:n].copy(),col_2: df2[col_name].values[:n].copy()} "
   ]
  },
  {
   "cell_type": "code",
   "execution_count": 73,
   "metadata": {},
   "outputs": [
    {
     "data": {
      "text/html": [
       "<div>\n",
       "<style scoped>\n",
       "    .dataframe tbody tr th:only-of-type {\n",
       "        vertical-align: middle;\n",
       "    }\n",
       "\n",
       "    .dataframe tbody tr th {\n",
       "        vertical-align: top;\n",
       "    }\n",
       "\n",
       "    .dataframe thead th {\n",
       "        text-align: right;\n",
       "    }\n",
       "</style>\n",
       "<table border=\"1\" class=\"dataframe\">\n",
       "  <thead>\n",
       "    <tr style=\"text-align: right;\">\n",
       "      <th></th>\n",
       "      <th>df1.reported</th>\n",
       "      <th>df2.reported</th>\n",
       "    </tr>\n",
       "  </thead>\n",
       "  <tbody>\n",
       "    <tr>\n",
       "      <th>0</th>\n",
       "      <td>unknown</td>\n",
       "      <td>NaN</td>\n",
       "    </tr>\n",
       "    <tr>\n",
       "      <th>1</th>\n",
       "      <td>NaN</td>\n",
       "      <td>NaN</td>\n",
       "    </tr>\n",
       "    <tr>\n",
       "      <th>2</th>\n",
       "      <td>NaN</td>\n",
       "      <td>NaN</td>\n",
       "    </tr>\n",
       "    <tr>\n",
       "      <th>3</th>\n",
       "      <td>NaN</td>\n",
       "      <td>NaN</td>\n",
       "    </tr>\n",
       "    <tr>\n",
       "      <th>4</th>\n",
       "      <td>NaN</td>\n",
       "      <td>NaN</td>\n",
       "    </tr>\n",
       "  </tbody>\n",
       "</table>\n",
       "</div>"
      ],
      "text/plain": [
       "  df1.reported df2.reported\n",
       "0      unknown          NaN\n",
       "1          NaN          NaN\n",
       "2          NaN          NaN\n",
       "3          NaN          NaN\n",
       "4          NaN          NaN"
      ]
     },
     "execution_count": 73,
     "metadata": {},
     "output_type": "execute_result"
    }
   ],
   "source": [
    "df_compare = pd.DataFrame(data=data)\n",
    "mask = df_compare[col_1] == df_compare[col_2]\n",
    "df_compare_diff = df_compare[~mask].copy()\n",
    "df_compare_diff.loc[0,col_1] = 'unknown'\n",
    "df_compare_diff.head()"
   ]
  },
  {
   "cell_type": "code",
   "execution_count": 67,
   "metadata": {},
   "outputs": [
    {
     "data": {
      "text/plain": [
       "Int64Index([     0,      1,      2,      3,      4,      5,      6,      7,\n",
       "                 8,      9,\n",
       "            ...\n",
       "            434221, 434227, 434234, 434235, 434236, 434246, 434252, 434269,\n",
       "            434302, 434311],\n",
       "           dtype='int64', length=427078)"
      ]
     },
     "execution_count": 67,
     "metadata": {},
     "output_type": "execute_result"
    }
   ],
   "source": [
    "df_compare_diff.index"
   ]
  },
  {
   "cell_type": "code",
   "execution_count": 68,
   "metadata": {},
   "outputs": [
    {
     "data": {
      "text/plain": [
       "array(['unknown', nan, nan, nan], dtype=object)"
      ]
     },
     "execution_count": 68,
     "metadata": {},
     "output_type": "execute_result"
    }
   ],
   "source": [
    "df_compare_diff[col_1].values[:4]"
   ]
  },
  {
   "cell_type": "code",
   "execution_count": 71,
   "metadata": {},
   "outputs": [
    {
     "data": {
      "text/html": [
       "<div>\n",
       "<style scoped>\n",
       "    .dataframe tbody tr th:only-of-type {\n",
       "        vertical-align: middle;\n",
       "    }\n",
       "\n",
       "    .dataframe tbody tr th {\n",
       "        vertical-align: top;\n",
       "    }\n",
       "\n",
       "    .dataframe thead th {\n",
       "        text-align: right;\n",
       "    }\n",
       "</style>\n",
       "<table border=\"1\" class=\"dataframe\">\n",
       "  <thead>\n",
       "    <tr style=\"text-align: right;\">\n",
       "      <th></th>\n",
       "      <th>df1.reported</th>\n",
       "      <th>df2.reported</th>\n",
       "    </tr>\n",
       "  </thead>\n",
       "  <tbody>\n",
       "    <tr>\n",
       "      <th>0</th>\n",
       "      <td>unknown</td>\n",
       "      <td>NaN</td>\n",
       "    </tr>\n",
       "  </tbody>\n",
       "</table>\n",
       "</div>"
      ],
      "text/plain": [
       "  df1.reported df2.reported\n",
       "0      unknown          NaN"
      ]
     },
     "execution_count": 71,
     "metadata": {},
     "output_type": "execute_result"
    }
   ],
   "source": [
    "mask = (df_compare_diff[col_1].isna()) & (df_compare_diff[col_2].isna())\n",
    "df_compare_diff_not_nan = df_compare_diff[~mask]\n",
    "df_compare_diff_not_nan"
   ]
  }
 ],
 "metadata": {
  "kernelspec": {
   "display_name": "Python 3",
   "language": "python",
   "name": "python3"
  },
  "language_info": {
   "codemirror_mode": {
    "name": "ipython",
    "version": 3
   },
   "file_extension": ".py",
   "mimetype": "text/x-python",
   "name": "python",
   "nbconvert_exporter": "python",
   "pygments_lexer": "ipython3",
   "version": "3.6.10"
  }
 },
 "nbformat": 4,
 "nbformat_minor": 4
}
