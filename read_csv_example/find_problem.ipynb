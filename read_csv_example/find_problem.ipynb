{
 "cells": [
  {
   "cell_type": "code",
   "execution_count": 2,
   "metadata": {},
   "outputs": [],
   "source": [
    "import pandas as pd\n",
    "pd.set_option('display.max_colwidth', -1)"
   ]
  },
  {
   "cell_type": "code",
   "execution_count": 3,
   "metadata": {},
   "outputs": [],
   "source": [
    "# for autoreload modules\n",
    "%load_ext autoreload\n",
    "%autoreload 2"
   ]
  },
  {
   "cell_type": "code",
   "execution_count": 4,
   "metadata": {},
   "outputs": [],
   "source": [
    "from find_problem_lines import show_problem_line"
   ]
  },
  {
   "cell_type": "code",
   "execution_count": 5,
   "metadata": {},
   "outputs": [],
   "source": [
    "df_path  = \"/mnt/files/workdata/work/merchants/merchant_22_ksm_2018-06-07/01_raw_data/ksm-charge-chb-2019.csv\""
   ]
  },
  {
   "cell_type": "code",
   "execution_count": 6,
   "metadata": {},
   "outputs": [],
   "source": [
    "problem_lines,nums, messages = show_problem_line(df_path)"
   ]
  },
  {
   "cell_type": "code",
   "execution_count": 7,
   "metadata": {},
   "outputs": [
    {
     "name": "stdout",
     "output_type": "stream",
     "text": [
      "\"43362057447283802\",\"charge\",\"charged\",\"2019-02-28 12:50:36\",\"2019-02-28 12:50:38\",\"1.95\",\"EUR\",\"533317****7773\",\"24\",\"6\",\"Assunta Nole\",\"Assuntanole92@gmail.com\",\"3420725383\",\"C\\\\da micele 11\",\"Ruoti\",\"ITA\",\"85056\",\"5.171.250.51\"\n",
      "The line has backslash.\n",
      "2108\n",
      "\"43526646032286652\",\"charge\",\"charged\",\"2019-03-07 23:26:01\",\"2019-03-07 23:26:02\",\"1.95\",\"EUR\",\"533317****0054\",\"23\",\"10\",\"Vasile Baciu\",\"baciuvasile8@gmail.com\",\"3895129286\",\"Via Borgotto 3\\\\12\",\"Monte San Pietro\",\"ITA\",\"40050\",\"5.90.197.165\"\n",
      "The line has backslash.\n",
      "3194\n",
      "\"44226891198223775\",\"charge\",\"charged\",\"2019-04-08 16:14:53\",\"2019-04-08 16:14:54\",\"1.95\",\"EUR\",\"497301****8775\",\"20\",\"12\",\"Alexandra Robert\",\"lereve.deluna@orange.fr\",\"987884115\",\"\"sabensac\",\"LESIGNAC DURAND\",\"FRA\",\"16310\",\"37.72.214.66\"\n",
      "odd number of quotes in line. \n",
      "9654\n",
      "\"44288435761143219\",\"charge\",\"charged\",\"2019-04-11 11:01:42\",\"2019-04-11 11:01:43\",\"65.85\",\"EUR\",\"497301****8775\",\"20\",\"12\",\"Alexandra Robert\",\"lereve.deluna@orange.fr\",\"987884115\",\"\"sabensac\",\"LESIGNAC DURAND\",\"FRA\",\"16310\",\"37.72.214.66\"\n",
      "odd number of quotes in line. \n",
      "10988\n",
      "\"44355894731545036\",\"charge\",\"charged\",\"2019-04-14 12:13:33\",\"2019-04-14 12:13:34\",\"1.95\",\"EUR\",\"497546****9147\",\"22\",\"2\",\"René DESCOMBES\",\"rene.descombes014@orange.fr\",\"0491606072\",\"14 bd J V\"erjus\",\"Marseille\",\"FRA\",\"13015\",\"90.73.102.64\"\n",
      "There are additional double quotes in the string. odd number of quotes in line. \n",
      "12460\n",
      "\"44387788342566293\",\"charge\",\"charged\",\"2019-04-15 22:49:58\",\"2019-04-15 22:49:59\",\"1.95\",\"EUR\",\"456265****5463\",\"21\",\"9\",\"Hedi Friedrich\",\"heiddu57000@gmail.com\",\"0666768466\",\"Rue de saulnerie 7\\\\20\",\"Metz\",\"FRA\",\"57000\",\"5.48.140.208\"\n",
      "The line has backslash.\n",
      "13459\n",
      "\"44420999080200412\",\"charge\",\"charged\",\"2019-04-17 10:52:07\",\"2019-04-17 10:52:08\",\"65.85\",\"EUR\",\"497546****9147\",\"22\",\"2\",\"René DESCOMBES\",\"rene.descombes014@orange.fr\",\"0491606072\",\"14 bd J V\"erjus\",\"Marseille\",\"FRA\",\"13015\",\"90.73.102.64\"\n",
      "There are additional double quotes in the string. odd number of quotes in line. \n",
      "14283\n",
      "\"44449288958648921\",\"charge\",\"charged\",\"2019-04-18 17:33:54\",\"2019-04-18 17:33:56\",\"1.95\",\"EUR\",\"453307****0710\",\"21\",\"11\",\"olivier berger\",\"sannac@free.fr\",\"563956837\",\"lieu di \"sannac\",\"dunes\",\"FRA\",\"82340\",\"79.89.100.10\"\n",
      "There are additional double quotes in the string. odd number of quotes in line. \n",
      "15362\n",
      "\"44533132187082822\",\"charge\",\"charged\",\"2019-04-22 12:32:27\",\"2019-04-22 12:32:28\",\"1.95\",\"EUR\",\"531170****3378\",\"23\",\"1\",\"Andrea Martino\",\"andreamartino999@gmail.com\",\"3460655334\",\"Via Luigi Einaudi 10\\\\A\",\"Caramagna piemonte\",\"ITA\",\"12030\",\"5.89.207.49\"\n",
      "The line has backslash.\n",
      "17383\n",
      "\"44818904989065774\",\"charge\",\"charged\",\"2019-05-05 10:37:27\",\"2019-05-05 10:37:28\",\"36.88\",\"EUR\",\"456265****5463\",\"21\",\"9\",\"Hedi Friedrich\",\"heiddu57000@gmail.com\",\"0666768466\",\"Rue de saulnerie 7\\\\20\",\"Metz\",\"FRA\",\"57000\",\"5.48.140.208\"\n",
      "The line has backslash.\n",
      "20690\n",
      "\"44907293366570334\",\"charge\",\"charged\",\"2019-05-09 10:31:54\",\"2019-05-09 10:31:55\",\"65.85\",\"EUR\",\"497301****8775\",\"20\",\"12\",\"Alexandra Robert\",\"lereve.deluna@orange.fr\",\"987884115\",\"\"sabensac\",\"LESIGNAC DURAND\",\"FRA\",\"16310\",\"37.72.214.66\"\n",
      "odd number of quotes in line. \n",
      "21620\n",
      "\"45504392787467721\",\"charge\",\"charged\",\"2019-06-05 10:25:34\",\"2019-06-05 10:25:35\",\"65.85\",\"EUR\",\"456265****5463\",\"21\",\"9\",\"Hedi Friedrich\",\"heiddu57000@gmail.com\",\"0666768466\",\"Rue de saulnerie 7\\\\20\",\"Metz\",\"FRA\",\"57000\",\"5.48.140.208\"\n",
      "The line has backslash.\n",
      "30022\n",
      "\"45526683675648994\",\"charge\",\"charged\",\"2019-06-06 10:36:48\",\"2019-06-06 10:36:49\",\"65.85\",\"EUR\",\"497301****8775\",\"20\",\"12\",\"Alexandra Robert\",\"lereve.deluna@orange.fr\",\"987884115\",\"\"sabensac\",\"LESIGNAC DURAND\",\"FRA\",\"16310\",\"37.72.214.66\"\n",
      "odd number of quotes in line. \n",
      "30670\n"
     ]
    }
   ],
   "source": [
    "for line, mes,num in zip(problem_lines, messages, nums):\n",
    "    print(line)\n",
    "    print(mes)\n",
    "    print(num)"
   ]
  }
 ],
 "metadata": {
  "kernelspec": {
   "display_name": "Python 3",
   "language": "python",
   "name": "python3"
  },
  "language_info": {
   "codemirror_mode": {
    "name": "ipython",
    "version": 3.0
   },
   "file_extension": ".py",
   "mimetype": "text/x-python",
   "name": "python",
   "nbconvert_exporter": "python",
   "pygments_lexer": "ipython3",
   "version": "3.6.10"
  }
 },
 "nbformat": 4,
 "nbformat_minor": 0
}