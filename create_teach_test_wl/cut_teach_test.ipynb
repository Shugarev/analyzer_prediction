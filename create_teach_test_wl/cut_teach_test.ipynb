{
 "cells": [
  {
   "cell_type": "code",
   "execution_count": 168,
   "metadata": {},
   "outputs": [],
   "source": [
    "import pandas as pd\n",
    "import numpy as np\n",
    "import csv\n",
    "from datetime import timedelta, datetime\n",
    "pd.set_option('display.max_colwidth', -1)"
   ]
  },
  {
   "cell_type": "code",
   "execution_count": 116,
   "metadata": {},
   "outputs": [],
   "source": [
    "import os,sys,inspect\n",
    "currentdir = os.path.dirname(os.path.abspath(inspect.getfile(inspect.currentframe())))\n",
    "parentdir = os.path.dirname(currentdir)\n",
    "sys.path.insert(0,parentdir)"
   ]
  },
  {
   "cell_type": "code",
   "execution_count": 119,
   "metadata": {},
   "outputs": [],
   "source": [
    "from statistic import Statistic\n",
    "from utils import UtilsKy"
   ]
  },
  {
   "cell_type": "code",
   "execution_count": 118,
   "metadata": {},
   "outputs": [
    {
     "name": "stdout",
     "output_type": "stream",
     "text": [
      "The autoreload extension is already loaded. To reload it, use:\n",
      "  %reload_ext autoreload\n"
     ]
    }
   ],
   "source": [
    "# for autoreload modules\n",
    "%load_ext autoreload\n",
    "%autoreload 2"
   ]
  },
  {
   "cell_type": "code",
   "execution_count": 122,
   "metadata": {},
   "outputs": [],
   "source": [
    "# ky9\n",
    "#df = pd.read_csv(UtilsKy.PATH_KY9 + '02_pure_data/ky9_for_resolve.csv', dtype=str)"
   ]
  },
  {
   "cell_type": "code",
   "execution_count": 123,
   "metadata": {},
   "outputs": [],
   "source": [
    "# kyw3\n",
    "df = pd.read_csv(UtilsKy.PATH_KYW3 + '02_pure_data/kyw3_for_resolve.csv', dtype=str)"
   ]
  },
  {
   "cell_type": "code",
   "execution_count": 124,
   "metadata": {},
   "outputs": [
    {
     "data": {
      "text/plain": [
       "(574426, 24)"
      ]
     },
     "execution_count": 124,
     "metadata": {},
     "output_type": "execute_result"
    }
   ],
   "source": [
    "df.shape"
   ]
  },
  {
   "cell_type": "code",
   "execution_count": 125,
   "metadata": {},
   "outputs": [
    {
     "data": {
      "text/plain": [
       "Counter({'false': 565565, 'true': 8861})"
      ]
     },
     "execution_count": 125,
     "metadata": {},
     "output_type": "execute_result"
    }
   ],
   "source": [
    "Statistic.get_table(df, 'status')"
   ]
  },
  {
   "cell_type": "code",
   "execution_count": 126,
   "metadata": {},
   "outputs": [
    {
     "data": {
      "text/html": [
       "<div>\n",
       "<style scoped>\n",
       "    .dataframe tbody tr th:only-of-type {\n",
       "        vertical-align: middle;\n",
       "    }\n",
       "\n",
       "    .dataframe tbody tr th {\n",
       "        vertical-align: top;\n",
       "    }\n",
       "\n",
       "    .dataframe thead th {\n",
       "        text-align: right;\n",
       "    }\n",
       "</style>\n",
       "<table border=\"1\" class=\"dataframe\">\n",
       "  <thead>\n",
       "    <tr style=\"text-align: right;\">\n",
       "      <th></th>\n",
       "      <th>order_id</th>\n",
       "      <th>type</th>\n",
       "      <th>status</th>\n",
       "      <th>date</th>\n",
       "      <th>processed</th>\n",
       "      <th>amount</th>\n",
       "      <th>currency</th>\n",
       "      <th>card_holder</th>\n",
       "      <th>email</th>\n",
       "      <th>phone</th>\n",
       "      <th>...</th>\n",
       "      <th>ip</th>\n",
       "      <th>project_id</th>\n",
       "      <th>reported</th>\n",
       "      <th>status_chargeback</th>\n",
       "      <th>date_cb_only</th>\n",
       "      <th>card_masked</th>\n",
       "      <th>card_expire</th>\n",
       "      <th>amount_in_currency</th>\n",
       "      <th>date_only</th>\n",
       "      <th>id</th>\n",
       "    </tr>\n",
       "  </thead>\n",
       "  <tbody>\n",
       "    <tr>\n",
       "      <th>0</th>\n",
       "      <td>49219577955111383</td>\n",
       "      <td>charge</td>\n",
       "      <td>false</td>\n",
       "      <td>2019-11-20 09:39:36</td>\n",
       "      <td>2019-11-20 09:39:41</td>\n",
       "      <td>1.00</td>\n",
       "      <td>USD</td>\n",
       "      <td>Gabriele Markes</td>\n",
       "      <td>gabriele@markes.com</td>\n",
       "      <td>5556789364528</td>\n",
       "      <td>...</td>\n",
       "      <td>84.56.163.85</td>\n",
       "      <td>1a92804aa92f2a762361fcd2b6cc0794360b23bd</td>\n",
       "      <td>NaN</td>\n",
       "      <td>refunded</td>\n",
       "      <td>2019-11-20</td>\n",
       "      <td>547087******1680</td>\n",
       "      <td>2022-04</td>\n",
       "      <td>1.00</td>\n",
       "      <td>2019-11-20</td>\n",
       "      <td>547087******1680_2022-04</td>\n",
       "    </tr>\n",
       "    <tr>\n",
       "      <th>1</th>\n",
       "      <td>49221760925063337</td>\n",
       "      <td>charge</td>\n",
       "      <td>false</td>\n",
       "      <td>2019-11-20 12:01:43</td>\n",
       "      <td>2019-11-20 12:01:50</td>\n",
       "      <td>25.00</td>\n",
       "      <td>USD</td>\n",
       "      <td>Malia Gusman</td>\n",
       "      <td>560100032720@4null.com</td>\n",
       "      <td>8086510074</td>\n",
       "      <td>...</td>\n",
       "      <td>204.210.126.255</td>\n",
       "      <td>1a92804aa92f2a762361fcd2b6cc0794360b23bd</td>\n",
       "      <td>NaN</td>\n",
       "      <td>charged</td>\n",
       "      <td>2019-11-20</td>\n",
       "      <td>517148******7320</td>\n",
       "      <td>2023-04</td>\n",
       "      <td>25.00</td>\n",
       "      <td>2019-11-20</td>\n",
       "      <td>517148******7320_2023-04</td>\n",
       "    </tr>\n",
       "    <tr>\n",
       "      <th>2</th>\n",
       "      <td>49224688788195598</td>\n",
       "      <td>charge</td>\n",
       "      <td>false</td>\n",
       "      <td>2019-11-20 15:12:20</td>\n",
       "      <td>2019-11-20 15:12:24</td>\n",
       "      <td>21.18</td>\n",
       "      <td>USD</td>\n",
       "      <td>Stephen Gordy</td>\n",
       "      <td>560536900411@4null.com</td>\n",
       "      <td>7406005440</td>\n",
       "      <td>...</td>\n",
       "      <td>99.203.145.83</td>\n",
       "      <td>1a92804aa92f2a762361fcd2b6cc0794360b23bd</td>\n",
       "      <td>NaN</td>\n",
       "      <td>charged</td>\n",
       "      <td>2019-11-20</td>\n",
       "      <td>546540******9404</td>\n",
       "      <td>2023-07</td>\n",
       "      <td>21.18</td>\n",
       "      <td>2019-11-20</td>\n",
       "      <td>546540******9404_2023-07</td>\n",
       "    </tr>\n",
       "    <tr>\n",
       "      <th>3</th>\n",
       "      <td>49224696921328680</td>\n",
       "      <td>charge</td>\n",
       "      <td>false</td>\n",
       "      <td>2019-11-20 15:12:52</td>\n",
       "      <td>2019-11-20 15:12:55</td>\n",
       "      <td>200.00</td>\n",
       "      <td>USD</td>\n",
       "      <td>Nicholas Saephanh</td>\n",
       "      <td>560131190505@4null.com</td>\n",
       "      <td>5102929855</td>\n",
       "      <td>...</td>\n",
       "      <td>69.181.49.246</td>\n",
       "      <td>9ffa75299b6caaa89457fb07db86f47f8fb8198a</td>\n",
       "      <td>NaN</td>\n",
       "      <td>charged</td>\n",
       "      <td>2019-11-20</td>\n",
       "      <td>510805******1186</td>\n",
       "      <td>2023-03</td>\n",
       "      <td>200.00</td>\n",
       "      <td>2019-11-20</td>\n",
       "      <td>510805******1186_2023-03</td>\n",
       "    </tr>\n",
       "    <tr>\n",
       "      <th>4</th>\n",
       "      <td>49224839756465248</td>\n",
       "      <td>charge</td>\n",
       "      <td>false</td>\n",
       "      <td>2019-11-20 15:22:10</td>\n",
       "      <td>2019-11-20 15:22:13</td>\n",
       "      <td>2.38</td>\n",
       "      <td>USD</td>\n",
       "      <td>Thiago Fernandes</td>\n",
       "      <td>550322045766@4null.com</td>\n",
       "      <td>21994891341</td>\n",
       "      <td>...</td>\n",
       "      <td>179.158.244.208</td>\n",
       "      <td>1a92804aa92f2a762361fcd2b6cc0794360b23bd</td>\n",
       "      <td>NaN</td>\n",
       "      <td>charged</td>\n",
       "      <td>2019-11-20</td>\n",
       "      <td>544731******7316</td>\n",
       "      <td>2026-07</td>\n",
       "      <td>2.38</td>\n",
       "      <td>2019-11-20</td>\n",
       "      <td>544731******7316_2026-07</td>\n",
       "    </tr>\n",
       "  </tbody>\n",
       "</table>\n",
       "<p>5 rows × 24 columns</p>\n",
       "</div>"
      ],
      "text/plain": [
       "            order_id    type status                 date            processed  \\\n",
       "0  49219577955111383  charge  false  2019-11-20 09:39:36  2019-11-20 09:39:41   \n",
       "1  49221760925063337  charge  false  2019-11-20 12:01:43  2019-11-20 12:01:50   \n",
       "2  49224688788195598  charge  false  2019-11-20 15:12:20  2019-11-20 15:12:24   \n",
       "3  49224696921328680  charge  false  2019-11-20 15:12:52  2019-11-20 15:12:55   \n",
       "4  49224839756465248  charge  false  2019-11-20 15:22:10  2019-11-20 15:22:13   \n",
       "\n",
       "   amount currency        card_holder                   email          phone  \\\n",
       "0  1.00    USD      Gabriele Markes    gabriele@markes.com     5556789364528   \n",
       "1  25.00   USD      Malia Gusman       560100032720@4null.com  8086510074      \n",
       "2  21.18   USD      Stephen Gordy      560536900411@4null.com  7406005440      \n",
       "3  200.00  USD      Nicholas Saephanh  560131190505@4null.com  5102929855      \n",
       "4  2.38    USD      Thiago Fernandes   550322045766@4null.com  21994891341     \n",
       "\n",
       "   ...               ip                                project_id reported  \\\n",
       "0  ...  84.56.163.85     1a92804aa92f2a762361fcd2b6cc0794360b23bd  NaN       \n",
       "1  ...  204.210.126.255  1a92804aa92f2a762361fcd2b6cc0794360b23bd  NaN       \n",
       "2  ...  99.203.145.83    1a92804aa92f2a762361fcd2b6cc0794360b23bd  NaN       \n",
       "3  ...  69.181.49.246    9ffa75299b6caaa89457fb07db86f47f8fb8198a  NaN       \n",
       "4  ...  179.158.244.208  1a92804aa92f2a762361fcd2b6cc0794360b23bd  NaN       \n",
       "\n",
       "  status_chargeback date_cb_only       card_masked card_expire  \\\n",
       "0  refunded          2019-11-20   547087******1680  2022-04      \n",
       "1  charged           2019-11-20   517148******7320  2023-04      \n",
       "2  charged           2019-11-20   546540******9404  2023-07      \n",
       "3  charged           2019-11-20   510805******1186  2023-03      \n",
       "4  charged           2019-11-20   544731******7316  2026-07      \n",
       "\n",
       "  amount_in_currency   date_only                        id  \n",
       "0  1.00               2019-11-20  547087******1680_2022-04  \n",
       "1  25.00              2019-11-20  517148******7320_2023-04  \n",
       "2  21.18              2019-11-20  546540******9404_2023-07  \n",
       "3  200.00             2019-11-20  510805******1186_2023-03  \n",
       "4  2.38               2019-11-20  544731******7316_2026-07  \n",
       "\n",
       "[5 rows x 24 columns]"
      ]
     },
     "execution_count": 126,
     "metadata": {},
     "output_type": "execute_result"
    }
   ],
   "source": [
    "df.head()"
   ]
  },
  {
   "cell_type": "code",
   "execution_count": 127,
   "metadata": {},
   "outputs": [
    {
     "data": {
      "text/plain": [
       "order_id              object\n",
       "type                  object\n",
       "status                object\n",
       "date                  object\n",
       "processed             object\n",
       "amount                object\n",
       "currency              object\n",
       "card_holder           object\n",
       "email                 object\n",
       "phone                 object\n",
       "address               object\n",
       "city_from_order       object\n",
       "country               object\n",
       "zip                   object\n",
       "ip                    object\n",
       "project_id            object\n",
       "reported              object\n",
       "status_chargeback     object\n",
       "date_cb_only          object\n",
       "card_masked           object\n",
       "card_expire           object\n",
       "amount_in_currency    object\n",
       "date_only             object\n",
       "id                    object\n",
       "dtype: object"
      ]
     },
     "execution_count": 127,
     "metadata": {},
     "output_type": "execute_result"
    }
   ],
   "source": [
    "df.dtypes"
   ]
  },
  {
   "cell_type": "code",
   "execution_count": 128,
   "metadata": {},
   "outputs": [
    {
     "data": {
      "text/plain": [
       "'2019-11-20'"
      ]
     },
     "execution_count": 128,
     "metadata": {},
     "output_type": "execute_result"
    }
   ],
   "source": [
    "min(df.date_only)"
   ]
  },
  {
   "cell_type": "code",
   "execution_count": 129,
   "metadata": {},
   "outputs": [
    {
     "data": {
      "text/plain": [
       "'2020-05-26'"
      ]
     },
     "execution_count": 129,
     "metadata": {},
     "output_type": "execute_result"
    }
   ],
   "source": [
    "max(df.date_only)"
   ]
  },
  {
   "cell_type": "code",
   "execution_count": 130,
   "metadata": {},
   "outputs": [],
   "source": [
    "df.date_only = pd.to_datetime(df.date_only)"
   ]
  },
  {
   "cell_type": "code",
   "execution_count": 131,
   "metadata": {},
   "outputs": [],
   "source": [
    "df.date_cb_only = pd.to_datetime(df.date_cb_only)"
   ]
  },
  {
   "cell_type": "code",
   "execution_count": 132,
   "metadata": {},
   "outputs": [
    {
     "data": {
      "text/plain": [
       "Timestamp('2019-11-20 00:00:00')"
      ]
     },
     "execution_count": 132,
     "metadata": {},
     "output_type": "execute_result"
    }
   ],
   "source": [
    "start_date = min(df.date_only)\n",
    "start_date"
   ]
  },
  {
   "cell_type": "code",
   "execution_count": 133,
   "metadata": {},
   "outputs": [
    {
     "data": {
      "text/plain": [
       "Timestamp('2020-05-26 00:00:00')"
      ]
     },
     "execution_count": 133,
     "metadata": {},
     "output_type": "execute_result"
    }
   ],
   "source": [
    "end_date = max(df.date_only)\n",
    "end_date"
   ]
  },
  {
   "cell_type": "code",
   "execution_count": 134,
   "metadata": {},
   "outputs": [
    {
     "data": {
      "text/plain": [
       "188"
      ]
     },
     "execution_count": 134,
     "metadata": {},
     "output_type": "execute_result"
    }
   ],
   "source": [
    "diff = end_date - start_date\n",
    "diff_days = diff.days\n",
    "diff_days"
   ]
  },
  {
   "cell_type": "code",
   "execution_count": 135,
   "metadata": {},
   "outputs": [
    {
     "data": {
      "text/plain": [
       "Timestamp('2020-04-06 00:00:00')"
      ]
     },
     "execution_count": 135,
     "metadata": {},
     "output_type": "execute_result"
    }
   ],
   "source": [
    "days_in_test = int(diff_days * 0.2)\n",
    "days_in_test = 50\n",
    "start_test = end_date - timedelta(days=days_in_test)\n",
    "start_test"
   ]
  },
  {
   "cell_type": "code",
   "execution_count": 136,
   "metadata": {},
   "outputs": [
    {
     "data": {
      "text/plain": [
       "4"
      ]
     },
     "execution_count": 136,
     "metadata": {},
     "output_type": "execute_result"
    }
   ],
   "source": [
    "int(diff_days * 0.025)"
   ]
  },
  {
   "cell_type": "code",
   "execution_count": 137,
   "metadata": {},
   "outputs": [
    {
     "data": {
      "text/plain": [
       "Timestamp('2020-05-06 00:00:00')"
      ]
     },
     "execution_count": 137,
     "metadata": {},
     "output_type": "execute_result"
    }
   ],
   "source": [
    "retreat_days_from_end = int(diff_days * 0.025)\n",
    "retreat_days_from_end = 20\n",
    "end_test = end_date - timedelta(days=retreat_days_from_end)\n",
    "end_test"
   ]
  },
  {
   "cell_type": "code",
   "execution_count": 138,
   "metadata": {},
   "outputs": [
    {
     "data": {
      "text/plain": [
       "Timestamp('2019-11-20 00:00:00')"
      ]
     },
     "execution_count": 138,
     "metadata": {},
     "output_type": "execute_result"
    }
   ],
   "source": [
    "# retreat_days_from_start = 20\n",
    "# start_teach = start_date + timedelta(days=retreat_days_from_start)\n",
    "start_teach = start_date\n",
    "start_teach"
   ]
  },
  {
   "cell_type": "code",
   "execution_count": 139,
   "metadata": {},
   "outputs": [
    {
     "data": {
      "text/plain": [
       "Timestamp('2020-03-13 00:00:00')"
      ]
     },
     "execution_count": 139,
     "metadata": {},
     "output_type": "execute_result"
    }
   ],
   "source": [
    "retreat_days_from_test_start = int(diff_days * 0.025)\n",
    "retreat_days_from_test_start = 24\n",
    "end_teach = start_test - timedelta(days=retreat_days_from_test_start)\n",
    "end_teach"
   ]
  },
  {
   "cell_type": "code",
   "execution_count": 140,
   "metadata": {},
   "outputs": [
    {
     "data": {
      "text/plain": [
       "Timestamp('2019-11-20 00:00:00')"
      ]
     },
     "execution_count": 140,
     "metadata": {},
     "output_type": "execute_result"
    }
   ],
   "source": [
    "start_teach"
   ]
  },
  {
   "cell_type": "code",
   "execution_count": 141,
   "metadata": {},
   "outputs": [
    {
     "data": {
      "text/plain": [
       "Timestamp('2020-03-13 00:00:00')"
      ]
     },
     "execution_count": 141,
     "metadata": {},
     "output_type": "execute_result"
    }
   ],
   "source": [
    "end_teach"
   ]
  },
  {
   "cell_type": "code",
   "execution_count": 142,
   "metadata": {},
   "outputs": [
    {
     "data": {
      "text/plain": [
       "Timestamp('2020-04-06 00:00:00')"
      ]
     },
     "execution_count": 142,
     "metadata": {},
     "output_type": "execute_result"
    }
   ],
   "source": [
    "start_test"
   ]
  },
  {
   "cell_type": "code",
   "execution_count": 143,
   "metadata": {},
   "outputs": [
    {
     "data": {
      "text/plain": [
       "Timestamp('2020-05-06 00:00:00')"
      ]
     },
     "execution_count": 143,
     "metadata": {},
     "output_type": "execute_result"
    }
   ],
   "source": [
    "end_test"
   ]
  },
  {
   "cell_type": "code",
   "execution_count": 144,
   "metadata": {},
   "outputs": [],
   "source": [
    "# если не устраивают даты start_teach, end_teach, start_test, end_test их можно перезадать явно( пример внизу)\n",
    "# start_teach = datetime.strptime(\"2020-01-01\", '%Y-%m-%d')"
   ]
  },
  {
   "cell_type": "code",
   "execution_count": 145,
   "metadata": {},
   "outputs": [
    {
     "data": {
      "text/plain": [
       "'false'"
      ]
     },
     "execution_count": 145,
     "metadata": {},
     "output_type": "execute_result"
    }
   ],
   "source": [
    "good_statuses = Statistic.get_dt_good(df).status.unique()\n",
    "good_status = good_statuses[0] \n",
    "good_status"
   ]
  },
  {
   "cell_type": "code",
   "execution_count": 146,
   "metadata": {},
   "outputs": [],
   "source": [
    "mask_teach = (df.date_only < start_test) & ((df.status.isin(Statistic.BAD_STATUSES)) | (df.date_only < end_teach ))\n",
    "teach = df[mask_teach].copy()"
   ]
  },
  {
   "cell_type": "code",
   "execution_count": 147,
   "metadata": {},
   "outputs": [
    {
     "data": {
      "text/plain": [
       "Counter({'false': 426222, 'true': 8092})"
      ]
     },
     "execution_count": 147,
     "metadata": {},
     "output_type": "execute_result"
    }
   ],
   "source": [
    "Statistic.get_table(teach, 'status')"
   ]
  },
  {
   "cell_type": "code",
   "execution_count": 148,
   "metadata": {},
   "outputs": [
    {
     "data": {
      "text/plain": [
       "434314"
      ]
     },
     "execution_count": 148,
     "metadata": {},
     "output_type": "execute_result"
    }
   ],
   "source": [
    "teach.shape[0]"
   ]
  },
  {
   "cell_type": "code",
   "execution_count": 149,
   "metadata": {},
   "outputs": [],
   "source": [
    "teach.status = np.where( (teach.status.isin(Statistic.BAD_STATUSES)) & (teach.date_cb_only > start_test), good_status, teach.status)"
   ]
  },
  {
   "cell_type": "code",
   "execution_count": 150,
   "metadata": {},
   "outputs": [
    {
     "data": {
      "text/plain": [
       "Counter({'false': 427803, 'true': 6511})"
      ]
     },
     "execution_count": 150,
     "metadata": {},
     "output_type": "execute_result"
    }
   ],
   "source": [
    "Statistic.get_table(teach, 'status')"
   ]
  },
  {
   "cell_type": "code",
   "execution_count": 151,
   "metadata": {},
   "outputs": [],
   "source": [
    "mask_test = (df.date_only > start_test) & ((df.status.isin(Statistic.BAD_STATUSES)) | (df.date_only < end_test))\n",
    "test = df[mask_test]"
   ]
  },
  {
   "cell_type": "code",
   "execution_count": 152,
   "metadata": {},
   "outputs": [
    {
     "data": {
      "text/plain": [
       "Counter({'false': 58107, 'true': 755})"
      ]
     },
     "execution_count": 152,
     "metadata": {},
     "output_type": "execute_result"
    }
   ],
   "source": [
    "Statistic.get_table(test, 'status')"
   ]
  },
  {
   "cell_type": "code",
   "execution_count": 153,
   "metadata": {},
   "outputs": [
    {
     "data": {
      "text/plain": [
       "1.5"
      ]
     },
     "execution_count": 153,
     "metadata": {},
     "output_type": "execute_result"
    }
   ],
   "source": [
    "Statistic.get_cb_rate(teach)"
   ]
  },
  {
   "cell_type": "code",
   "execution_count": 154,
   "metadata": {},
   "outputs": [
    {
     "data": {
      "text/plain": [
       "1.28"
      ]
     },
     "execution_count": 154,
     "metadata": {},
     "output_type": "execute_result"
    }
   ],
   "source": [
    "Statistic.get_cb_rate(test)"
   ]
  },
  {
   "cell_type": "code",
   "execution_count": 155,
   "metadata": {},
   "outputs": [
    {
     "data": {
      "text/plain": [
       "2.39"
      ]
     },
     "execution_count": 155,
     "metadata": {},
     "output_type": "execute_result"
    }
   ],
   "source": [
    "Statistic.get_cb_rate_amount(teach)"
   ]
  },
  {
   "cell_type": "code",
   "execution_count": 157,
   "metadata": {},
   "outputs": [
    {
     "data": {
      "text/plain": [
       "2.41"
      ]
     },
     "execution_count": 157,
     "metadata": {},
     "output_type": "execute_result"
    }
   ],
   "source": [
    "Statistic.get_cb_rate_amount(test)"
   ]
  },
  {
   "cell_type": "code",
   "execution_count": 158,
   "metadata": {},
   "outputs": [
    {
     "data": {
      "text/plain": [
       "'teach_2019-11-20_2020-03-13.csv'"
      ]
     },
     "execution_count": 158,
     "metadata": {},
     "output_type": "execute_result"
    }
   ],
   "source": [
    "teach_name = 'teach_' + start_teach.strftime('%Y-%m-%d') + '_' + end_teach.strftime('%Y-%m-%d') + '.csv'\n",
    "test_name = 'test_' + start_test.strftime('%Y-%m-%d') + '_' + end_test.strftime('%Y-%m-%d') + '.csv'\n",
    "teach_name"
   ]
  },
  {
   "cell_type": "code",
   "execution_count": 159,
   "metadata": {},
   "outputs": [
    {
     "data": {
      "text/plain": [
       "'test_2020-04-06_2020-05-06.csv'"
      ]
     },
     "execution_count": 159,
     "metadata": {},
     "output_type": "execute_result"
    }
   ],
   "source": [
    "test_name"
   ]
  },
  {
   "cell_type": "code",
   "execution_count": 160,
   "metadata": {},
   "outputs": [],
   "source": [
    "path_exp = UtilsKy.PATH_KYW3 + '04_experiments/ex_02_jupyter/'\n",
    "path_teach = path_exp + teach_name\n",
    "path_test = path_exp + test_name"
   ]
  },
  {
   "cell_type": "code",
   "execution_count": 161,
   "metadata": {},
   "outputs": [],
   "source": [
    "drop_columns = ['type', 'amount_in_currency']"
   ]
  },
  {
   "cell_type": "code",
   "execution_count": 162,
   "metadata": {},
   "outputs": [],
   "source": [
    "teach = teach.drop(columns=drop_columns)\n",
    "test = test.drop(columns=drop_columns)"
   ]
  },
  {
   "cell_type": "code",
   "execution_count": 163,
   "metadata": {},
   "outputs": [
    {
     "data": {
      "text/plain": [
       "['order_id',\n",
       " 'status',\n",
       " 'date',\n",
       " 'processed',\n",
       " 'amount',\n",
       " 'currency',\n",
       " 'card_holder',\n",
       " 'email',\n",
       " 'phone',\n",
       " 'address',\n",
       " 'city_from_order',\n",
       " 'country',\n",
       " 'zip',\n",
       " 'ip',\n",
       " 'project_id',\n",
       " 'reported',\n",
       " 'status_chargeback',\n",
       " 'date_cb_only',\n",
       " 'card_masked',\n",
       " 'card_expire',\n",
       " 'date_only',\n",
       " 'id']"
      ]
     },
     "execution_count": 163,
     "metadata": {},
     "output_type": "execute_result"
    }
   ],
   "source": [
    "list(teach)"
   ]
  },
  {
   "cell_type": "code",
   "execution_count": 170,
   "metadata": {},
   "outputs": [],
   "source": [
    "# teach.to_csv(path_teach, index=False, quoting=csv.QUOTE_ALL)\n",
    "# test.to_csv(path_test, index=False, quoting=csv.QUOTE_ALL)"
   ]
  }
 ],
 "metadata": {
  "kernelspec": {
   "display_name": "Python 3",
   "language": "python",
   "name": "python3"
  },
  "language_info": {
   "codemirror_mode": {
    "name": "ipython",
    "version": 3
   },
   "file_extension": ".py",
   "mimetype": "text/x-python",
   "name": "python",
   "nbconvert_exporter": "python",
   "pygments_lexer": "ipython3",
   "version": "3.6.10"
  }
 },
 "nbformat": 4,
 "nbformat_minor": 1
}
