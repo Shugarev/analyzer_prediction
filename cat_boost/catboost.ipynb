{
 "cells": [
  {
   "cell_type": "code",
   "execution_count": 1,
   "metadata": {},
   "outputs": [],
   "source": [
    "import os,sys,inspect\n",
    "currentdir = os.path.dirname(os.path.abspath(inspect.getfile(inspect.currentframe())))\n",
    "parentdir = os.path.dirname(currentdir)\n",
    "sys.path.insert(0,parentdir)"
   ]
  },
  {
   "cell_type": "code",
   "execution_count": 2,
   "metadata": {},
   "outputs": [],
   "source": [
    "from statistic import Statistic\n",
    "from utils import UtilsKy\n",
    "from analyzer import HelperAnalyzer, AnalyzerPrediction\n",
    "from factors import Factor"
   ]
  },
  {
   "cell_type": "code",
   "execution_count": 3,
   "metadata": {},
   "outputs": [],
   "source": [
    "import pandas as pd\n",
    "import os\n",
    "import numpy as np\n",
    "np.set_printoptions(precision=4)\n",
    "from catboost import CatBoostClassifier"
   ]
  },
  {
   "cell_type": "code",
   "execution_count": 4,
   "metadata": {},
   "outputs": [],
   "source": [
    "# for autoreload modules\n",
    "%load_ext autoreload\n",
    "%autoreload 2"
   ]
  },
  {
   "cell_type": "code",
   "execution_count": 5,
   "metadata": {},
   "outputs": [],
   "source": [
    "# kyw3\n",
    "path_data = '/mnt/files/workdata/work/merchants/merchant_33_kyw3_2020-06-05/04_experiments/ex_01_some_teach/'\n",
    "db_teach = pd.read_csv(UtilsKy.DB_TEACH_KYW3, dtype=str, encoding='cp1251')\n",
    "db_test = pd.read_csv(UtilsKy.DB_TEST_KYW3, dtype=str, encoding='cp1251')\n",
    "white = pd.read_csv(UtilsKy.WHITE_KYW3 , dtype=str)"
   ]
  },
  {
   "cell_type": "code",
   "execution_count": 6,
   "metadata": {},
   "outputs": [],
   "source": [
    "COL_FACTORS = ['status', 'bin', 'amount', 'bank_currency', 'hour', 'day_of_week', 'phone_2_norm', 'longitude', 'latitude', ] \n",
    "COL_FACTORS = COL_FACTORS + ['is_gender_undefined', 'is_city_resolved']"
   ]
  },
  {
   "cell_type": "code",
   "execution_count": 8,
   "metadata": {},
   "outputs": [],
   "source": [
    "CAT_FEATURES = ['hour', 'day_of_week', 'bank_currency']"
   ]
  },
  {
   "cell_type": "code",
   "execution_count": 9,
   "metadata": {},
   "outputs": [
    {
     "name": "stdout",
     "output_type": "stream",
     "text": [
      "train na columns : Index(['latitude', 'longitude'], dtype='object')\n",
      "test na columns : Index(['latitude', 'longitude'], dtype='object')\n",
      "-999\n",
      "36.90237577890762\n",
      "-999\n",
      "-92.53325861542274\n",
      "-999\n",
      "-999\n",
      "-999\n",
      "-999\n"
     ]
    }
   ],
   "source": [
    "# For Catboost\n",
    "from helper import DataHelper\n",
    "datahelper = DataHelper(db_teach, db_test, COL_FACTORS, CAT_FEATURES)\n",
    "datahelper.create_train_test()\n",
    "datahelper.show_columns_with_na()\n",
    "mean_values = datahelper.get_mean_value()\n",
    "replaced_values = { col: mean_values[col] for col in ('latitude', 'longitude')}\n",
    "replaced_values['default'] =  -999\n",
    "datahelper.replaced_na_values(replaced_values)   \n",
    "train , test = datahelper.get_train_test()"
   ]
  },
  {
   "cell_type": "code",
   "execution_count": 7,
   "metadata": {},
   "outputs": [],
   "source": [
    "def Diff(li1, li2):\n",
    "    return (list(list(set(li1)-set(li2)) + list(set(li2)-set(li1))))"
   ]
  },
  {
   "cell_type": "code",
   "execution_count": 8,
   "metadata": {},
   "outputs": [],
   "source": [
    "cat_features = ['hour', 'day_of_week', 'bank_currency']\n",
    "feature_names = COL_FACTORS\n",
    "numeric_features = Diff(COL_FACTORS, cat_features)"
   ]
  },
  {
   "cell_type": "code",
   "execution_count": 9,
   "metadata": {},
   "outputs": [],
   "source": [
    "train_df = db_teach[COL_FACTORS].copy()\n",
    "test_df = db_test[COL_FACTORS].copy()"
   ]
  },
  {
   "cell_type": "code",
   "execution_count": 10,
   "metadata": {},
   "outputs": [],
   "source": [
    "train_df[numeric_features] = train_df[numeric_features].apply(pd.to_numeric, errors=\"coerce\")\n",
    "test_df[numeric_features] = test_df[numeric_features].apply(pd.to_numeric, errors=\"coerce\")"
   ]
  },
  {
   "cell_type": "code",
   "execution_count": 11,
   "metadata": {},
   "outputs": [
    {
     "data": {
      "text/plain": [
       "-9999"
      ]
     },
     "execution_count": 11,
     "metadata": {},
     "output_type": "execute_result"
    }
   ],
   "source": [
    "replace_val = -9999\n",
    "train_df[numeric_features] = train_df[ numeric_features].fillna(replace_val)\n",
    "test_df[ numeric_features] = test_df[numeric_features].fillna(replace_val)\n",
    "replace_val"
   ]
  },
  {
   "cell_type": "code",
   "execution_count": 11,
   "metadata": {},
   "outputs": [],
   "source": [
    "X = train.drop(columns=['status'])\n",
    "y = train.status"
   ]
  },
  {
   "cell_type": "code",
   "execution_count": 12,
   "metadata": {},
   "outputs": [],
   "source": [
    "from sklearn.model_selection import train_test_split\n",
    "X_train, X_validation, y_train, y_validation = train_test_split(X, y, train_size=0.7, random_state=12)"
   ]
  },
  {
   "cell_type": "code",
   "execution_count": 27,
   "metadata": {},
   "outputs": [],
   "source": [
    "split_diff_ids = False\n",
    "if split_diff_ids:\n",
    "    train_df['id'] = db_teach.id    \n",
    "    X_train, X_validation, y_train, y_validation = Statistic.train_test_split_with_diff_ids(train_df, \n",
    "                                                                                            test_has_unique_ids=True)\n",
    "    train_df.drop(columns=['id'], inplace=True)"
   ]
  },
  {
   "cell_type": "code",
   "execution_count": 13,
   "metadata": {},
   "outputs": [],
   "source": [
    "X_test = test.drop(columns=['status'])"
   ]
  },
  {
   "cell_type": "code",
   "execution_count": 14,
   "metadata": {},
   "outputs": [],
   "source": [
    "analyzer_prediction =  AnalyzerPrediction(db_teach, db_test, white)"
   ]
  },
  {
   "cell_type": "code",
   "execution_count": 15,
   "metadata": {},
   "outputs": [],
   "source": [
    "result_df_amount = None\n",
    "weight = analyzer_prediction.get_xgb_weight()"
   ]
  },
  {
   "cell_type": "code",
   "execution_count": 16,
   "metadata": {},
   "outputs": [],
   "source": [
    "# Ky9\n",
    "max_depths =[5]\n",
    "nrounds = [70, 90]\n",
    "etas = [0.35, 0.4]\n",
    "\n",
    "# Kyw3 catboost-best-params\n",
    "# 3-80-0.1 + valid set -  rating 160.31\n",
    "# 3-90-0.1 + valid set -  rating 154.40\n",
    "\n",
    "# Kyw3 catboost\n",
    "max_depths =[3, 5]\n",
    "nrounds = [80, 90]\n",
    "etas = [0.2, 0.1, 0.35]"
   ]
  },
  {
   "cell_type": "code",
   "execution_count": 18,
   "metadata": {},
   "outputs": [],
   "source": [
    "for nround in nrounds:\n",
    "    for eta in etas:\n",
    "        for max_depth in max_depths:\n",
    "            \n",
    "            config = {'max_depth': max_depth, 'learning_rate': eta\n",
    "                      , 'n_estimators': nround\n",
    "                     }            \n",
    "            model = CatBoostClassifier(**config)  \n",
    "\n",
    "            model.fit(\n",
    "                X_train, y_train\n",
    "                ,cat_features=CAT_FEATURES\n",
    "                ,eval_set=(X_validation, y_validation)\n",
    "                ,verbose=False\n",
    "#                 ,plot=True\n",
    "            )\n",
    "\n",
    "            test_pred = model.predict_proba(X_test)\n",
    "            db_test[\"probability\"] = test_pred[:, 1]\n",
    "\n",
    "            description = '-' . join([str(elem) for elem in (max_depth, nround, eta)])   \n",
    "            description +=  ' + valid set'\n",
    "            result_df_amount = analyzer_prediction.get_table_prediction(description=description, result_df=result_df_amount, metric=\"amount\")\n",
    "            #print(description)\n",
    "            #print(model.get_feature_importance(prettified=True))          "
   ]
  },
  {
   "cell_type": "code",
   "execution_count": 19,
   "metadata": {},
   "outputs": [],
   "source": [
    "n = result_df_amount.shape[0]\n",
    "sub_rows = list(range(n))[::2]\n",
    "stat_best = result_df_amount.copy().iloc[sub_rows,:]\n",
    "\n",
    "col_names = [col for col in stat_best.columns if col.startswith('p_') ] \n",
    "stat_best.loc[:, col_names] = stat_best.loc[:, col_names].astype(float)\n",
    "stat_best = stat_best.sort_values(by=\"rating\", ascending=False)"
   ]
  },
  {
   "cell_type": "code",
   "execution_count": 35,
   "metadata": {},
   "outputs": [
    {
     "data": {
      "text/html": [
       "<div>\n",
       "<style scoped>\n",
       "    .dataframe tbody tr th:only-of-type {\n",
       "        vertical-align: middle;\n",
       "    }\n",
       "\n",
       "    .dataframe tbody tr th {\n",
       "        vertical-align: top;\n",
       "    }\n",
       "\n",
       "    .dataframe thead th {\n",
       "        text-align: right;\n",
       "    }\n",
       "</style>\n",
       "<table border=\"1\" class=\"dataframe\">\n",
       "  <thead>\n",
       "    <tr style=\"text-align: right;\">\n",
       "      <th></th>\n",
       "      <th>description</th>\n",
       "      <th>p_1</th>\n",
       "      <th>p_2</th>\n",
       "      <th>p_3</th>\n",
       "      <th>p_4</th>\n",
       "      <th>p_5</th>\n",
       "      <th>p_6</th>\n",
       "      <th>p_7</th>\n",
       "      <th>p_10</th>\n",
       "      <th>p_20</th>\n",
       "      <th>rating</th>\n",
       "    </tr>\n",
       "  </thead>\n",
       "  <tbody>\n",
       "    <tr>\n",
       "      <th>16</th>\n",
       "      <td>3-90-0.1 + valid set</td>\n",
       "      <td>8.75</td>\n",
       "      <td>12.23</td>\n",
       "      <td>16.95</td>\n",
       "      <td>19.90</td>\n",
       "      <td>22.53</td>\n",
       "      <td>25.69</td>\n",
       "      <td>26.57</td>\n",
       "      <td>33.94</td>\n",
       "      <td>54.06</td>\n",
       "      <td>168.36</td>\n",
       "    </tr>\n",
       "    <tr>\n",
       "      <th>4</th>\n",
       "      <td>3-80-0.1 + valid set</td>\n",
       "      <td>8.75</td>\n",
       "      <td>13.11</td>\n",
       "      <td>15.77</td>\n",
       "      <td>19.51</td>\n",
       "      <td>23.10</td>\n",
       "      <td>25.30</td>\n",
       "      <td>26.80</td>\n",
       "      <td>34.16</td>\n",
       "      <td>53.74</td>\n",
       "      <td>168.14</td>\n",
       "    </tr>\n",
       "    <tr>\n",
       "      <th>6</th>\n",
       "      <td>5-80-0.1 + valid set</td>\n",
       "      <td>8.89</td>\n",
       "      <td>11.98</td>\n",
       "      <td>15.09</td>\n",
       "      <td>17.85</td>\n",
       "      <td>19.55</td>\n",
       "      <td>20.46</td>\n",
       "      <td>24.03</td>\n",
       "      <td>32.02</td>\n",
       "      <td>52.16</td>\n",
       "      <td>157.54</td>\n",
       "    </tr>\n",
       "    <tr>\n",
       "      <th>18</th>\n",
       "      <td>5-90-0.1 + valid set</td>\n",
       "      <td>8.56</td>\n",
       "      <td>12.11</td>\n",
       "      <td>14.72</td>\n",
       "      <td>17.85</td>\n",
       "      <td>19.44</td>\n",
       "      <td>21.16</td>\n",
       "      <td>23.43</td>\n",
       "      <td>32.12</td>\n",
       "      <td>51.64</td>\n",
       "      <td>156.44</td>\n",
       "    </tr>\n",
       "    <tr>\n",
       "      <th>10</th>\n",
       "      <td>5-80-0.35 + valid set</td>\n",
       "      <td>6.28</td>\n",
       "      <td>11.78</td>\n",
       "      <td>14.35</td>\n",
       "      <td>19.24</td>\n",
       "      <td>22.39</td>\n",
       "      <td>24.33</td>\n",
       "      <td>24.51</td>\n",
       "      <td>27.09</td>\n",
       "      <td>48.79</td>\n",
       "      <td>149.92</td>\n",
       "    </tr>\n",
       "    <tr>\n",
       "      <th>12</th>\n",
       "      <td>3-90-0.2 + valid set</td>\n",
       "      <td>6.24</td>\n",
       "      <td>10.76</td>\n",
       "      <td>14.16</td>\n",
       "      <td>14.77</td>\n",
       "      <td>17.62</td>\n",
       "      <td>20.81</td>\n",
       "      <td>21.67</td>\n",
       "      <td>31.00</td>\n",
       "      <td>51.95</td>\n",
       "      <td>146.50</td>\n",
       "    </tr>\n",
       "    <tr>\n",
       "      <th>0</th>\n",
       "      <td>3-80-0.2 + valid set</td>\n",
       "      <td>6.32</td>\n",
       "      <td>12.26</td>\n",
       "      <td>14.03</td>\n",
       "      <td>14.98</td>\n",
       "      <td>17.47</td>\n",
       "      <td>18.84</td>\n",
       "      <td>22.01</td>\n",
       "      <td>30.24</td>\n",
       "      <td>49.77</td>\n",
       "      <td>145.07</td>\n",
       "    </tr>\n",
       "    <tr>\n",
       "      <th>22</th>\n",
       "      <td>5-90-0.35 + valid set</td>\n",
       "      <td>8.79</td>\n",
       "      <td>9.96</td>\n",
       "      <td>13.00</td>\n",
       "      <td>17.54</td>\n",
       "      <td>19.63</td>\n",
       "      <td>23.69</td>\n",
       "      <td>25.02</td>\n",
       "      <td>26.40</td>\n",
       "      <td>47.81</td>\n",
       "      <td>143.13</td>\n",
       "    </tr>\n",
       "    <tr>\n",
       "      <th>2</th>\n",
       "      <td>5-80-0.2 + valid set</td>\n",
       "      <td>4.26</td>\n",
       "      <td>7.86</td>\n",
       "      <td>13.58</td>\n",
       "      <td>15.74</td>\n",
       "      <td>17.50</td>\n",
       "      <td>18.97</td>\n",
       "      <td>22.61</td>\n",
       "      <td>30.87</td>\n",
       "      <td>51.03</td>\n",
       "      <td>140.84</td>\n",
       "    </tr>\n",
       "    <tr>\n",
       "      <th>14</th>\n",
       "      <td>5-90-0.2 + valid set</td>\n",
       "      <td>5.12</td>\n",
       "      <td>9.80</td>\n",
       "      <td>14.38</td>\n",
       "      <td>15.83</td>\n",
       "      <td>17.50</td>\n",
       "      <td>19.19</td>\n",
       "      <td>22.54</td>\n",
       "      <td>28.67</td>\n",
       "      <td>48.02</td>\n",
       "      <td>139.32</td>\n",
       "    </tr>\n",
       "    <tr>\n",
       "      <th>20</th>\n",
       "      <td>3-90-0.35 + valid set</td>\n",
       "      <td>3.92</td>\n",
       "      <td>6.28</td>\n",
       "      <td>9.42</td>\n",
       "      <td>13.80</td>\n",
       "      <td>15.97</td>\n",
       "      <td>18.73</td>\n",
       "      <td>20.33</td>\n",
       "      <td>26.58</td>\n",
       "      <td>44.03</td>\n",
       "      <td>120.00</td>\n",
       "    </tr>\n",
       "    <tr>\n",
       "      <th>8</th>\n",
       "      <td>3-80-0.35 + valid set</td>\n",
       "      <td>2.79</td>\n",
       "      <td>6.28</td>\n",
       "      <td>8.51</td>\n",
       "      <td>12.83</td>\n",
       "      <td>15.92</td>\n",
       "      <td>19.18</td>\n",
       "      <td>19.32</td>\n",
       "      <td>26.45</td>\n",
       "      <td>43.90</td>\n",
       "      <td>116.68</td>\n",
       "    </tr>\n",
       "  </tbody>\n",
       "</table>\n",
       "</div>"
      ],
      "text/plain": [
       "              description   p_1    p_2    p_3    p_4    p_5    p_6    p_7  \\\n",
       "16   3-90-0.1 + valid set  8.75  12.23  16.95  19.90  22.53  25.69  26.57   \n",
       "4    3-80-0.1 + valid set  8.75  13.11  15.77  19.51  23.10  25.30  26.80   \n",
       "6    5-80-0.1 + valid set  8.89  11.98  15.09  17.85  19.55  20.46  24.03   \n",
       "18   5-90-0.1 + valid set  8.56  12.11  14.72  17.85  19.44  21.16  23.43   \n",
       "10  5-80-0.35 + valid set  6.28  11.78  14.35  19.24  22.39  24.33  24.51   \n",
       "12   3-90-0.2 + valid set  6.24  10.76  14.16  14.77  17.62  20.81  21.67   \n",
       "0    3-80-0.2 + valid set  6.32  12.26  14.03  14.98  17.47  18.84  22.01   \n",
       "22  5-90-0.35 + valid set  8.79   9.96  13.00  17.54  19.63  23.69  25.02   \n",
       "2    5-80-0.2 + valid set  4.26   7.86  13.58  15.74  17.50  18.97  22.61   \n",
       "14   5-90-0.2 + valid set  5.12   9.80  14.38  15.83  17.50  19.19  22.54   \n",
       "20  3-90-0.35 + valid set  3.92   6.28   9.42  13.80  15.97  18.73  20.33   \n",
       "8   3-80-0.35 + valid set  2.79   6.28   8.51  12.83  15.92  19.18  19.32   \n",
       "\n",
       "     p_10   p_20  rating  \n",
       "16  33.94  54.06  168.36  \n",
       "4   34.16  53.74  168.14  \n",
       "6   32.02  52.16  157.54  \n",
       "18  32.12  51.64  156.44  \n",
       "10  27.09  48.79  149.92  \n",
       "12  31.00  51.95  146.50  \n",
       "0   30.24  49.77  145.07  \n",
       "22  26.40  47.81  143.13  \n",
       "2   30.87  51.03  140.84  \n",
       "14  28.67  48.02  139.32  \n",
       "20  26.58  44.03  120.00  \n",
       "8   26.45  43.90  116.68  "
      ]
     },
     "execution_count": 35,
     "metadata": {},
     "output_type": "execute_result"
    }
   ],
   "source": [
    "stat_best.iloc[:,:11]"
   ]
  },
  {
   "cell_type": "code",
   "execution_count": null,
   "metadata": {},
   "outputs": [],
   "source": []
  }
 ],
 "metadata": {
  "kernelspec": {
   "display_name": "Python 3",
   "language": "python",
   "name": "python3"
  },
  "language_info": {
   "codemirror_mode": {
    "name": "ipython",
    "version": 3
   },
   "file_extension": ".py",
   "mimetype": "text/x-python",
   "name": "python",
   "nbconvert_exporter": "python",
   "pygments_lexer": "ipython3",
   "version": "3.7.6"
  }
 },
 "nbformat": 4,
 "nbformat_minor": 4
}
