{
 "cells": [
  {
   "cell_type": "code",
   "execution_count": 1,
   "metadata": {},
   "outputs": [],
   "source": [
    "import csv\n",
    "import pandas as pd\n",
    "import numpy as np\n",
    "import math\n",
    "from collections import Counter\n",
    "from statistic import Statistic\n",
    "pd.set_option('display.max_colwidth', -1)\n",
    "pd.set_option('display.max_rows', None)"
   ]
  },
  {
   "cell_type": "code",
   "execution_count": 2,
   "metadata": {},
   "outputs": [],
   "source": [
    "import warnings\n",
    "warnings.filterwarnings('ignore')"
   ]
  },
  {
   "cell_type": "code",
   "execution_count": 3,
   "metadata": {},
   "outputs": [],
   "source": [
    "path_merch = '/mnt/files/workdata/work/merchants/merchant_32_ky9_2020-05-12_white_visa/'\n",
    "path_df = path_merch + '01_raw_data/ky-9.csv'\n",
    "path_df_bad =  path_merch + '01_raw_data/ky-9-fraud.csv'"
   ]
  },
  {
   "cell_type": "code",
   "execution_count": 4,
   "metadata": {},
   "outputs": [],
   "source": [
    "df_100 = pd.read_csv(path_df, sep='\\t' ,dtype=str, nrows=99, keep_default_na=False)"
   ]
  },
  {
   "cell_type": "code",
   "execution_count": 5,
   "metadata": {},
   "outputs": [
    {
     "data": {
      "text/html": [
       "<div>\n",
       "<style scoped>\n",
       "    .dataframe tbody tr th:only-of-type {\n",
       "        vertical-align: middle;\n",
       "    }\n",
       "\n",
       "    .dataframe tbody tr th {\n",
       "        vertical-align: top;\n",
       "    }\n",
       "\n",
       "    .dataframe thead th {\n",
       "        text-align: right;\n",
       "    }\n",
       "</style>\n",
       "<table border=\"1\" class=\"dataframe\">\n",
       "  <thead>\n",
       "    <tr style=\"text-align: right;\">\n",
       "      <th></th>\n",
       "      <th>id</th>\n",
       "      <th>type</th>\n",
       "      <th>status</th>\n",
       "      <th>created</th>\n",
       "      <th>processed</th>\n",
       "      <th>amount</th>\n",
       "      <th>currency</th>\n",
       "      <th>pan</th>\n",
       "      <th>expiration_year</th>\n",
       "      <th>expiration_month</th>\n",
       "      <th>holder</th>\n",
       "      <th>email</th>\n",
       "      <th>phone</th>\n",
       "      <th>address</th>\n",
       "      <th>city</th>\n",
       "      <th>country</th>\n",
       "      <th>zip</th>\n",
       "      <th>ip</th>\n",
       "      <th>project_id</th>\n",
       "    </tr>\n",
       "  </thead>\n",
       "  <tbody>\n",
       "    <tr>\n",
       "      <th>0</th>\n",
       "      <td>41799680781449564</td>\n",
       "      <td>charge</td>\n",
       "      <td>charged</td>\n",
       "      <td>2018-12-19 22:33:23</td>\n",
       "      <td>2018-12-19 22:33:27</td>\n",
       "      <td>52.95</td>\n",
       "      <td>USD</td>\n",
       "      <td>447494****6650</td>\n",
       "      <td>19</td>\n",
       "      <td>3</td>\n",
       "      <td>Jennifer Myers</td>\n",
       "      <td>jenn-mye@hotmail.com</td>\n",
       "      <td>+6024818120</td>\n",
       "      <td>5110 Bitterroot Way</td>\n",
       "      <td>Hurlburt Field</td>\n",
       "      <td>USA</td>\n",
       "      <td>28052</td>\n",
       "      <td>195.39.171.227</td>\n",
       "      <td>5a2df766c7321c3b48791d979bdad3ce5ce2f8b9</td>\n",
       "    </tr>\n",
       "    <tr>\n",
       "      <th>1</th>\n",
       "      <td>41799692345652096</td>\n",
       "      <td>charge</td>\n",
       "      <td>charged</td>\n",
       "      <td>2018-12-19 22:34:08</td>\n",
       "      <td>2018-12-19 22:34:12</td>\n",
       "      <td>21.18</td>\n",
       "      <td>USD</td>\n",
       "      <td>434256****3600</td>\n",
       "      <td>22</td>\n",
       "      <td>11</td>\n",
       "      <td>Brady Marske</td>\n",
       "      <td>marske-brady7053@yahoo.com</td>\n",
       "      <td>+3235272757</td>\n",
       "      <td>44 Bellevue PL</td>\n",
       "      <td>San Diego</td>\n",
       "      <td>USA</td>\n",
       "      <td>92040</td>\n",
       "      <td>99.101.8.179</td>\n",
       "      <td>5a2df766c7321c3b48791d979bdad3ce5ce2f8b9</td>\n",
       "    </tr>\n",
       "    <tr>\n",
       "      <th>2</th>\n",
       "      <td>41799707414784518</td>\n",
       "      <td>charge</td>\n",
       "      <td>charged</td>\n",
       "      <td>2018-12-19 22:35:07</td>\n",
       "      <td>2018-12-19 22:35:10</td>\n",
       "      <td>26.48</td>\n",
       "      <td>USD</td>\n",
       "      <td>464733****3963</td>\n",
       "      <td>20</td>\n",
       "      <td>4</td>\n",
       "      <td>Christopher Scala</td>\n",
       "      <td>chsca8515@me.com</td>\n",
       "      <td>+2674232337</td>\n",
       "      <td>13 Holly Blvd.</td>\n",
       "      <td>Philadelphia</td>\n",
       "      <td>USA</td>\n",
       "      <td>62206</td>\n",
       "      <td>100.34.37.252</td>\n",
       "      <td>5a2df766c7321c3b48791d979bdad3ce5ce2f8b9</td>\n",
       "    </tr>\n",
       "    <tr>\n",
       "      <th>3</th>\n",
       "      <td>41799716768741310</td>\n",
       "      <td>charge</td>\n",
       "      <td>charged</td>\n",
       "      <td>2018-12-19 22:35:43</td>\n",
       "      <td>2018-12-19 22:35:47</td>\n",
       "      <td>26.48</td>\n",
       "      <td>USD</td>\n",
       "      <td>437303****7009</td>\n",
       "      <td>22</td>\n",
       "      <td>9</td>\n",
       "      <td>Blake Mitrovik</td>\n",
       "      <td>mitrovikblake@msn.com</td>\n",
       "      <td>+7152525225</td>\n",
       "      <td>1722 Cool Breeze</td>\n",
       "      <td>Stevens Point</td>\n",
       "      <td>USA</td>\n",
       "      <td>93401</td>\n",
       "      <td>174.198.11.206</td>\n",
       "      <td>5a2df766c7321c3b48791d979bdad3ce5ce2f8b9</td>\n",
       "    </tr>\n",
       "    <tr>\n",
       "      <th>4</th>\n",
       "      <td>41799744497264522</td>\n",
       "      <td>charge</td>\n",
       "      <td>charged</td>\n",
       "      <td>2018-12-19 22:37:31</td>\n",
       "      <td>2018-12-19 22:37:36</td>\n",
       "      <td>22.24</td>\n",
       "      <td>USD</td>\n",
       "      <td>423223****9977</td>\n",
       "      <td>22</td>\n",
       "      <td>11</td>\n",
       "      <td>Curry Paraspolo</td>\n",
       "      <td>paraspolocur@outlook.com</td>\n",
       "      <td>+3863141489</td>\n",
       "      <td>7535 los feliz dr</td>\n",
       "      <td>New Smyrna Beach</td>\n",
       "      <td>USA</td>\n",
       "      <td>48225</td>\n",
       "      <td>172.58.43.103</td>\n",
       "      <td>5a2df766c7321c3b48791d979bdad3ce5ce2f8b9</td>\n",
       "    </tr>\n",
       "  </tbody>\n",
       "</table>\n",
       "</div>"
      ],
      "text/plain": [
       "                  id    type   status              created  \\\n",
       "0  41799680781449564  charge  charged  2018-12-19 22:33:23   \n",
       "1  41799692345652096  charge  charged  2018-12-19 22:34:08   \n",
       "2  41799707414784518  charge  charged  2018-12-19 22:35:07   \n",
       "3  41799716768741310  charge  charged  2018-12-19 22:35:43   \n",
       "4  41799744497264522  charge  charged  2018-12-19 22:37:31   \n",
       "\n",
       "             processed amount currency             pan expiration_year  \\\n",
       "0  2018-12-19 22:33:27  52.95  USD      447494****6650  19               \n",
       "1  2018-12-19 22:34:12  21.18  USD      434256****3600  22               \n",
       "2  2018-12-19 22:35:10  26.48  USD      464733****3963  20               \n",
       "3  2018-12-19 22:35:47  26.48  USD      437303****7009  22               \n",
       "4  2018-12-19 22:37:36  22.24  USD      423223****9977  22               \n",
       "\n",
       "  expiration_month             holder                       email  \\\n",
       "0  3                Jennifer Myers     jenn-mye@hotmail.com         \n",
       "1  11               Brady Marske       marske-brady7053@yahoo.com   \n",
       "2  4                Christopher Scala  chsca8515@me.com             \n",
       "3  9                Blake Mitrovik     mitrovikblake@msn.com        \n",
       "4  11               Curry Paraspolo    paraspolocur@outlook.com     \n",
       "\n",
       "         phone              address              city country    zip  \\\n",
       "0  +6024818120  5110 Bitterroot Way  Hurlburt Field    USA     28052   \n",
       "1  +3235272757  44 Bellevue PL       San Diego         USA     92040   \n",
       "2  +2674232337  13 Holly Blvd.       Philadelphia      USA     62206   \n",
       "3  +7152525225  1722 Cool Breeze     Stevens Point     USA     93401   \n",
       "4  +3863141489  7535 los feliz dr    New Smyrna Beach  USA     48225   \n",
       "\n",
       "               ip                                project_id  \n",
       "0  195.39.171.227  5a2df766c7321c3b48791d979bdad3ce5ce2f8b9  \n",
       "1  99.101.8.179    5a2df766c7321c3b48791d979bdad3ce5ce2f8b9  \n",
       "2  100.34.37.252   5a2df766c7321c3b48791d979bdad3ce5ce2f8b9  \n",
       "3  174.198.11.206  5a2df766c7321c3b48791d979bdad3ce5ce2f8b9  \n",
       "4  172.58.43.103   5a2df766c7321c3b48791d979bdad3ce5ce2f8b9  "
      ]
     },
     "execution_count": 5,
     "metadata": {},
     "output_type": "execute_result"
    }
   ],
   "source": [
    "df_100.head()"
   ]
  },
  {
   "cell_type": "code",
   "execution_count": 6,
   "metadata": {},
   "outputs": [],
   "source": [
    "df =  pd.read_csv(path_df, sep='\\t' ,dtype=str, keep_default_na=False)"
   ]
  },
  {
   "cell_type": "code",
   "execution_count": 7,
   "metadata": {},
   "outputs": [
    {
     "data": {
      "text/plain": [
       "4354991"
      ]
     },
     "execution_count": 7,
     "metadata": {},
     "output_type": "execute_result"
    }
   ],
   "source": [
    "df.shape[0]"
   ]
  },
  {
   "cell_type": "code",
   "execution_count": 8,
   "metadata": {},
   "outputs": [
    {
     "data": {
      "text/html": [
       "<div>\n",
       "<style scoped>\n",
       "    .dataframe tbody tr th:only-of-type {\n",
       "        vertical-align: middle;\n",
       "    }\n",
       "\n",
       "    .dataframe tbody tr th {\n",
       "        vertical-align: top;\n",
       "    }\n",
       "\n",
       "    .dataframe thead th {\n",
       "        text-align: right;\n",
       "    }\n",
       "</style>\n",
       "<table border=\"1\" class=\"dataframe\">\n",
       "  <thead>\n",
       "    <tr style=\"text-align: right;\">\n",
       "      <th></th>\n",
       "      <th>id</th>\n",
       "      <th>type</th>\n",
       "      <th>status</th>\n",
       "      <th>created</th>\n",
       "      <th>processed</th>\n",
       "      <th>amount</th>\n",
       "      <th>currency</th>\n",
       "      <th>pan</th>\n",
       "      <th>expiration_year</th>\n",
       "      <th>expiration_month</th>\n",
       "      <th>holder</th>\n",
       "      <th>email</th>\n",
       "      <th>phone</th>\n",
       "      <th>address</th>\n",
       "      <th>city</th>\n",
       "      <th>country</th>\n",
       "      <th>zip</th>\n",
       "      <th>ip</th>\n",
       "      <th>project_id</th>\n",
       "    </tr>\n",
       "  </thead>\n",
       "  <tbody>\n",
       "    <tr>\n",
       "      <th>4354986</th>\n",
       "      <td>53068694155369081</td>\n",
       "      <td>charge</td>\n",
       "      <td>charged</td>\n",
       "      <td>2020-05-12 10:13:06</td>\n",
       "      <td>2020-05-12 10:13:13</td>\n",
       "      <td>52.95</td>\n",
       "      <td>USD</td>\n",
       "      <td>510805****1286</td>\n",
       "      <td>24</td>\n",
       "      <td>4</td>\n",
       "      <td>Christine Shore</td>\n",
       "      <td>560448598307@4null.com</td>\n",
       "      <td>8185715379</td>\n",
       "      <td>2383 Boalt Ave</td>\n",
       "      <td>Simi Valley</td>\n",
       "      <td>USA</td>\n",
       "      <td>93063</td>\n",
       "      <td>172.251.43.76</td>\n",
       "      <td>1a92804aa92f2a762361fcd2b6cc0794360b23bd</td>\n",
       "    </tr>\n",
       "    <tr>\n",
       "      <th>4354987</th>\n",
       "      <td>53068711573135588</td>\n",
       "      <td>charge</td>\n",
       "      <td>charged</td>\n",
       "      <td>2020-05-12 10:14:14</td>\n",
       "      <td>2020-05-12 10:14:19</td>\n",
       "      <td>50.12</td>\n",
       "      <td>USD</td>\n",
       "      <td>510277****2329</td>\n",
       "      <td>24</td>\n",
       "      <td>1</td>\n",
       "      <td>Mohamed Alzubidi</td>\n",
       "      <td>520813664780@4null.com</td>\n",
       "      <td>3476422462</td>\n",
       "      <td>4251 throggs neck expo</td>\n",
       "      <td>Bronx</td>\n",
       "      <td>USA</td>\n",
       "      <td>10465</td>\n",
       "      <td>174.197.208.63</td>\n",
       "      <td>0e9f4342d8929ac7de3b3b1f068043014a9d047c</td>\n",
       "    </tr>\n",
       "    <tr>\n",
       "      <th>4354988</th>\n",
       "      <td>53068713919701100</td>\n",
       "      <td>charge</td>\n",
       "      <td>charged</td>\n",
       "      <td>2020-05-12 10:14:23</td>\n",
       "      <td>2020-05-12 10:14:29</td>\n",
       "      <td>110.90</td>\n",
       "      <td>USD</td>\n",
       "      <td>424068****5754</td>\n",
       "      <td>25</td>\n",
       "      <td>1</td>\n",
       "      <td>Manuel Santos</td>\n",
       "      <td>580454168804@4null.com</td>\n",
       "      <td>3237070330</td>\n",
       "      <td>1906 Workman St</td>\n",
       "      <td>Los Angeles</td>\n",
       "      <td>USA</td>\n",
       "      <td>90023</td>\n",
       "      <td>76.81.51.123</td>\n",
       "      <td>3508ef13608b63c075b4a60d63594e9f75750f52</td>\n",
       "    </tr>\n",
       "    <tr>\n",
       "      <th>4354989</th>\n",
       "      <td>53068717359294743</td>\n",
       "      <td>charge</td>\n",
       "      <td>charged</td>\n",
       "      <td>2020-05-12 10:14:37</td>\n",
       "      <td>2020-05-12 10:14:42</td>\n",
       "      <td>26.48</td>\n",
       "      <td>USD</td>\n",
       "      <td>510805****2944</td>\n",
       "      <td>23</td>\n",
       "      <td>10</td>\n",
       "      <td>Jimmy Ahn</td>\n",
       "      <td>580381321727@4null.com</td>\n",
       "      <td>6264763713</td>\n",
       "      <td>1950 Rio Bonito Dr</td>\n",
       "      <td>Rowland Heights</td>\n",
       "      <td>USA</td>\n",
       "      <td>91748</td>\n",
       "      <td>64.136.130.31</td>\n",
       "      <td>9ffa75299b6caaa89457fb07db86f47f8fb8198a</td>\n",
       "    </tr>\n",
       "    <tr>\n",
       "      <th>4354990</th>\n",
       "      <td>53068728610245889</td>\n",
       "      <td>charge</td>\n",
       "      <td>charged</td>\n",
       "      <td>2020-05-12 10:15:21</td>\n",
       "      <td>2020-05-12 10:15:26</td>\n",
       "      <td>25.00</td>\n",
       "      <td>CAD</td>\n",
       "      <td>453600****9606</td>\n",
       "      <td>23</td>\n",
       "      <td>10</td>\n",
       "      <td>Johnathan Chad Arthur Wetzstein</td>\n",
       "      <td>550421726810@4null.com</td>\n",
       "      <td>7809745587</td>\n",
       "      <td>5627137 ave</td>\n",
       "      <td>Edmonton</td>\n",
       "      <td>CAN</td>\n",
       "      <td>T5a2h4</td>\n",
       "      <td>68.150.169.121</td>\n",
       "      <td>5a2df766c7321c3b48791d979bdad3ce5ce2f8b9</td>\n",
       "    </tr>\n",
       "  </tbody>\n",
       "</table>\n",
       "</div>"
      ],
      "text/plain": [
       "                        id    type   status              created  \\\n",
       "4354986  53068694155369081  charge  charged  2020-05-12 10:13:06   \n",
       "4354987  53068711573135588  charge  charged  2020-05-12 10:14:14   \n",
       "4354988  53068713919701100  charge  charged  2020-05-12 10:14:23   \n",
       "4354989  53068717359294743  charge  charged  2020-05-12 10:14:37   \n",
       "4354990  53068728610245889  charge  charged  2020-05-12 10:15:21   \n",
       "\n",
       "                   processed  amount currency             pan expiration_year  \\\n",
       "4354986  2020-05-12 10:13:13  52.95   USD      510805****1286  24               \n",
       "4354987  2020-05-12 10:14:19  50.12   USD      510277****2329  24               \n",
       "4354988  2020-05-12 10:14:29  110.90  USD      424068****5754  25               \n",
       "4354989  2020-05-12 10:14:42  26.48   USD      510805****2944  23               \n",
       "4354990  2020-05-12 10:15:26  25.00   CAD      453600****9606  23               \n",
       "\n",
       "        expiration_month                           holder  \\\n",
       "4354986  4                Christine Shore                   \n",
       "4354987  1                Mohamed Alzubidi                  \n",
       "4354988  1                Manuel Santos                     \n",
       "4354989  10               Jimmy Ahn                         \n",
       "4354990  10               Johnathan Chad Arthur Wetzstein   \n",
       "\n",
       "                          email       phone                 address  \\\n",
       "4354986  560448598307@4null.com  8185715379  2383 Boalt Ave           \n",
       "4354987  520813664780@4null.com  3476422462  4251 throggs neck expo   \n",
       "4354988  580454168804@4null.com  3237070330  1906 Workman St          \n",
       "4354989  580381321727@4null.com  6264763713  1950 Rio Bonito Dr       \n",
       "4354990  550421726810@4null.com  7809745587  5627137 ave              \n",
       "\n",
       "                    city country     zip              ip  \\\n",
       "4354986  Simi Valley      USA     93063   172.251.43.76    \n",
       "4354987  Bronx            USA     10465   174.197.208.63   \n",
       "4354988  Los Angeles      USA     90023   76.81.51.123     \n",
       "4354989  Rowland Heights  USA     91748   64.136.130.31    \n",
       "4354990  Edmonton         CAN     T5a2h4  68.150.169.121   \n",
       "\n",
       "                                       project_id  \n",
       "4354986  1a92804aa92f2a762361fcd2b6cc0794360b23bd  \n",
       "4354987  0e9f4342d8929ac7de3b3b1f068043014a9d047c  \n",
       "4354988  3508ef13608b63c075b4a60d63594e9f75750f52  \n",
       "4354989  9ffa75299b6caaa89457fb07db86f47f8fb8198a  \n",
       "4354990  5a2df766c7321c3b48791d979bdad3ce5ce2f8b9  "
      ]
     },
     "execution_count": 8,
     "metadata": {},
     "output_type": "execute_result"
    }
   ],
   "source": [
    "df.tail()"
   ]
  },
  {
   "cell_type": "code",
   "execution_count": 9,
   "metadata": {},
   "outputs": [
    {
     "data": {
      "text/html": [
       "<div>\n",
       "<style scoped>\n",
       "    .dataframe tbody tr th:only-of-type {\n",
       "        vertical-align: middle;\n",
       "    }\n",
       "\n",
       "    .dataframe tbody tr th {\n",
       "        vertical-align: top;\n",
       "    }\n",
       "\n",
       "    .dataframe thead th {\n",
       "        text-align: right;\n",
       "    }\n",
       "</style>\n",
       "<table border=\"1\" class=\"dataframe\">\n",
       "  <thead>\n",
       "    <tr style=\"text-align: right;\">\n",
       "      <th></th>\n",
       "      <th>id</th>\n",
       "      <th>type</th>\n",
       "      <th>status</th>\n",
       "      <th>created</th>\n",
       "      <th>processed</th>\n",
       "      <th>amount</th>\n",
       "      <th>currency</th>\n",
       "      <th>pan</th>\n",
       "      <th>expiration_year</th>\n",
       "      <th>expiration_month</th>\n",
       "      <th>holder</th>\n",
       "      <th>email</th>\n",
       "      <th>phone</th>\n",
       "      <th>address</th>\n",
       "      <th>city</th>\n",
       "      <th>country</th>\n",
       "      <th>zip</th>\n",
       "      <th>ip</th>\n",
       "      <th>project_id</th>\n",
       "    </tr>\n",
       "  </thead>\n",
       "  <tbody>\n",
       "    <tr>\n",
       "      <th>count</th>\n",
       "      <td>4354991</td>\n",
       "      <td>4354991</td>\n",
       "      <td>4354991</td>\n",
       "      <td>4354991</td>\n",
       "      <td>4354991</td>\n",
       "      <td>4354991</td>\n",
       "      <td>4354991</td>\n",
       "      <td>4354991</td>\n",
       "      <td>4354991</td>\n",
       "      <td>4354991</td>\n",
       "      <td>4354991</td>\n",
       "      <td>4354991</td>\n",
       "      <td>4354991</td>\n",
       "      <td>4354991</td>\n",
       "      <td>4354991</td>\n",
       "      <td>4354991</td>\n",
       "      <td>4354991</td>\n",
       "      <td>4354991</td>\n",
       "      <td>4354991</td>\n",
       "    </tr>\n",
       "    <tr>\n",
       "      <th>unique</th>\n",
       "      <td>4312751</td>\n",
       "      <td>2</td>\n",
       "      <td>4</td>\n",
       "      <td>3966139</td>\n",
       "      <td>3960477</td>\n",
       "      <td>22384</td>\n",
       "      <td>5</td>\n",
       "      <td>533811</td>\n",
       "      <td>34</td>\n",
       "      <td>12</td>\n",
       "      <td>562262</td>\n",
       "      <td>656612</td>\n",
       "      <td>625374</td>\n",
       "      <td>511199</td>\n",
       "      <td>26588</td>\n",
       "      <td>107</td>\n",
       "      <td>53830</td>\n",
       "      <td>887000</td>\n",
       "      <td>13</td>\n",
       "    </tr>\n",
       "    <tr>\n",
       "      <th>top</th>\n",
       "      <td>50315692431313488</td>\n",
       "      <td>charge</td>\n",
       "      <td>charged</td>\n",
       "      <td>2019-05-12 08:20:14</td>\n",
       "      <td>2019-05-06 10:41:20</td>\n",
       "      <td>26.48</td>\n",
       "      <td>USD</td>\n",
       "      <td>414740****2480</td>\n",
       "      <td>23</td>\n",
       "      <td>3</td>\n",
       "      <td>Nancy Xiong</td>\n",
       "      <td>560789864151@4null.com</td>\n",
       "      <td>3219175985</td>\n",
       "      <td>4133 W Saginaw Way</td>\n",
       "      <td>Chicago</td>\n",
       "      <td>USA</td>\n",
       "      <td>60614</td>\n",
       "      <td>97.103.145.232</td>\n",
       "      <td>5a2df766c7321c3b48791d979bdad3ce5ce2f8b9</td>\n",
       "    </tr>\n",
       "    <tr>\n",
       "      <th>freq</th>\n",
       "      <td>2</td>\n",
       "      <td>4312750</td>\n",
       "      <td>4220628</td>\n",
       "      <td>15</td>\n",
       "      <td>28</td>\n",
       "      <td>547891</td>\n",
       "      <td>4130429</td>\n",
       "      <td>1919</td>\n",
       "      <td>1246022</td>\n",
       "      <td>409707</td>\n",
       "      <td>1286</td>\n",
       "      <td>1175</td>\n",
       "      <td>1817</td>\n",
       "      <td>1302</td>\n",
       "      <td>58628</td>\n",
       "      <td>4093167</td>\n",
       "      <td>3863</td>\n",
       "      <td>1307</td>\n",
       "      <td>1209672</td>\n",
       "    </tr>\n",
       "  </tbody>\n",
       "</table>\n",
       "</div>"
      ],
      "text/plain": [
       "                       id     type   status              created  \\\n",
       "count   4354991            4354991  4354991  4354991               \n",
       "unique  4312751            2        4        3966139               \n",
       "top     50315692431313488  charge   charged  2019-05-12 08:20:14   \n",
       "freq    2                  4312750  4220628  15                    \n",
       "\n",
       "                  processed   amount currency             pan expiration_year  \\\n",
       "count   4354991              4354991  4354991  4354991         4354991          \n",
       "unique  3960477              22384    5        533811          34               \n",
       "top     2019-05-06 10:41:20  26.48    USD      414740****2480  23               \n",
       "freq    28                   547891   4130429  1919            1246022          \n",
       "\n",
       "       expiration_month       holder                   email       phone  \\\n",
       "count   4354991          4354991      4354991                 4354991      \n",
       "unique  12               562262       656612                  625374       \n",
       "top     3                Nancy Xiong  560789864151@4null.com  3219175985   \n",
       "freq    409707           1286         1175                    1817         \n",
       "\n",
       "                   address     city  country      zip              ip  \\\n",
       "count   4354991             4354991  4354991  4354991  4354991          \n",
       "unique  511199              26588    107      53830    887000           \n",
       "top     4133 W Saginaw Way  Chicago  USA      60614    97.103.145.232   \n",
       "freq    1302                58628    4093167  3863     1307             \n",
       "\n",
       "                                      project_id  \n",
       "count   4354991                                   \n",
       "unique  13                                        \n",
       "top     5a2df766c7321c3b48791d979bdad3ce5ce2f8b9  \n",
       "freq    1209672                                   "
      ]
     },
     "execution_count": 9,
     "metadata": {},
     "output_type": "execute_result"
    }
   ],
   "source": [
    "df.describe()"
   ]
  },
  {
   "cell_type": "code",
   "execution_count": 9,
   "metadata": {},
   "outputs": [],
   "source": [
    "df_bad =  pd.read_csv(path_df_bad, sep='\\t' ,dtype=str, keep_default_na=False)"
   ]
  },
  {
   "cell_type": "code",
   "execution_count": 10,
   "metadata": {},
   "outputs": [
    {
     "data": {
      "text/plain": [
       "53267"
      ]
     },
     "execution_count": 10,
     "metadata": {},
     "output_type": "execute_result"
    }
   ],
   "source": [
    "df_bad .shape[0]"
   ]
  },
  {
   "cell_type": "code",
   "execution_count": 11,
   "metadata": {},
   "outputs": [
    {
     "data": {
      "text/html": [
       "<div>\n",
       "<style scoped>\n",
       "    .dataframe tbody tr th:only-of-type {\n",
       "        vertical-align: middle;\n",
       "    }\n",
       "\n",
       "    .dataframe tbody tr th {\n",
       "        vertical-align: top;\n",
       "    }\n",
       "\n",
       "    .dataframe thead th {\n",
       "        text-align: right;\n",
       "    }\n",
       "</style>\n",
       "<table border=\"1\" class=\"dataframe\">\n",
       "  <thead>\n",
       "    <tr style=\"text-align: right;\">\n",
       "      <th></th>\n",
       "      <th>id</th>\n",
       "      <th>status</th>\n",
       "      <th>created</th>\n",
       "      <th>reported</th>\n",
       "      <th>amount</th>\n",
       "      <th>currency</th>\n",
       "      <th>pan</th>\n",
       "      <th>expiration_year</th>\n",
       "      <th>expiration_month</th>\n",
       "      <th>holder</th>\n",
       "      <th>email</th>\n",
       "      <th>phone</th>\n",
       "      <th>address</th>\n",
       "      <th>city</th>\n",
       "      <th>country</th>\n",
       "      <th>zip</th>\n",
       "      <th>ip</th>\n",
       "      <th>project_id</th>\n",
       "    </tr>\n",
       "  </thead>\n",
       "  <tbody>\n",
       "    <tr>\n",
       "      <th>53262</th>\n",
       "      <td>52550756224053270</td>\n",
       "      <td>charged</td>\n",
       "      <td>2020-04-19 00:13:11</td>\n",
       "      <td>2020-05-07</td>\n",
       "      <td>211.80</td>\n",
       "      <td>USD</td>\n",
       "      <td>442732****0396</td>\n",
       "      <td>25</td>\n",
       "      <td>2</td>\n",
       "      <td>Yahia Tellat</td>\n",
       "      <td>560608548830@4null.com</td>\n",
       "      <td>4048195601</td>\n",
       "      <td>2400 Barrett creek BLVd</td>\n",
       "      <td>Marietta</td>\n",
       "      <td>USA</td>\n",
       "      <td>30066</td>\n",
       "      <td>24.99.203.116</td>\n",
       "      <td>3508ef13608b63c075b4a60d63594e9f75750f52</td>\n",
       "    </tr>\n",
       "    <tr>\n",
       "      <th>53263</th>\n",
       "      <td>52546791865317506</td>\n",
       "      <td>charged</td>\n",
       "      <td>2020-04-18 19:55:05</td>\n",
       "      <td>2020-05-07</td>\n",
       "      <td>211.80</td>\n",
       "      <td>USD</td>\n",
       "      <td>442732****0396</td>\n",
       "      <td>25</td>\n",
       "      <td>2</td>\n",
       "      <td>Yahia Tellat</td>\n",
       "      <td>560608548830@4null.com</td>\n",
       "      <td>4048195601</td>\n",
       "      <td>2400 Barrett creek BLVd</td>\n",
       "      <td>Marietta</td>\n",
       "      <td>USA</td>\n",
       "      <td>30066</td>\n",
       "      <td>24.99.203.116</td>\n",
       "      <td>3508ef13608b63c075b4a60d63594e9f75750f52</td>\n",
       "    </tr>\n",
       "    <tr>\n",
       "      <th>53264</th>\n",
       "      <td>52546502632571340</td>\n",
       "      <td>charged</td>\n",
       "      <td>2020-04-18 19:36:15</td>\n",
       "      <td>2020-05-07</td>\n",
       "      <td>212.48</td>\n",
       "      <td>USD</td>\n",
       "      <td>442732****0396</td>\n",
       "      <td>25</td>\n",
       "      <td>2</td>\n",
       "      <td>Yahia Tellat</td>\n",
       "      <td>560608548830@4null.com</td>\n",
       "      <td>4048195601</td>\n",
       "      <td>2400 Barrett creek BLVd</td>\n",
       "      <td>Marietta</td>\n",
       "      <td>USA</td>\n",
       "      <td>30066</td>\n",
       "      <td>24.99.203.116</td>\n",
       "      <td>3508ef13608b63c075b4a60d63594e9f75750f52</td>\n",
       "    </tr>\n",
       "    <tr>\n",
       "      <th>53265</th>\n",
       "      <td>52264108206791738</td>\n",
       "      <td>charged</td>\n",
       "      <td>2020-04-06 01:11:12</td>\n",
       "      <td>2020-05-07</td>\n",
       "      <td>211.80</td>\n",
       "      <td>USD</td>\n",
       "      <td>498503****1373</td>\n",
       "      <td>24</td>\n",
       "      <td>3</td>\n",
       "      <td>Daniel Jones</td>\n",
       "      <td>560509933041@4null.com</td>\n",
       "      <td>4699399725</td>\n",
       "      <td>1302 Timberview Drive</td>\n",
       "      <td>Allen</td>\n",
       "      <td>USA</td>\n",
       "      <td>75002</td>\n",
       "      <td>107.77.198.204</td>\n",
       "      <td>3508ef13608b63c075b4a60d63594e9f75750f52</td>\n",
       "    </tr>\n",
       "    <tr>\n",
       "      <th>53266</th>\n",
       "      <td>51775617534245671</td>\n",
       "      <td>refunded</td>\n",
       "      <td>2020-03-14 23:08:25</td>\n",
       "      <td>2020-05-07</td>\n",
       "      <td>20.12</td>\n",
       "      <td>USD</td>\n",
       "      <td>414398****5544</td>\n",
       "      <td>24</td>\n",
       "      <td>2</td>\n",
       "      <td>Nathaniel King</td>\n",
       "      <td>580883942810@4null.com</td>\n",
       "      <td>7625243130</td>\n",
       "      <td>5490 old grand rd</td>\n",
       "      <td>Cartersville</td>\n",
       "      <td>USA</td>\n",
       "      <td>30121</td>\n",
       "      <td>172.58.3.54</td>\n",
       "      <td>3508ef13608b63c075b4a60d63594e9f75750f52</td>\n",
       "    </tr>\n",
       "  </tbody>\n",
       "</table>\n",
       "</div>"
      ],
      "text/plain": [
       "                      id    status              created    reported  amount  \\\n",
       "53262  52550756224053270  charged   2020-04-19 00:13:11  2020-05-07  211.80   \n",
       "53263  52546791865317506  charged   2020-04-18 19:55:05  2020-05-07  211.80   \n",
       "53264  52546502632571340  charged   2020-04-18 19:36:15  2020-05-07  212.48   \n",
       "53265  52264108206791738  charged   2020-04-06 01:11:12  2020-05-07  211.80   \n",
       "53266  51775617534245671  refunded  2020-03-14 23:08:25  2020-05-07  20.12    \n",
       "\n",
       "      currency             pan expiration_year expiration_month  \\\n",
       "53262  USD      442732****0396  25              2                 \n",
       "53263  USD      442732****0396  25              2                 \n",
       "53264  USD      442732****0396  25              2                 \n",
       "53265  USD      498503****1373  24              3                 \n",
       "53266  USD      414398****5544  24              2                 \n",
       "\n",
       "               holder                   email       phone  \\\n",
       "53262  Yahia Tellat    560608548830@4null.com  4048195601   \n",
       "53263  Yahia Tellat    560608548830@4null.com  4048195601   \n",
       "53264  Yahia Tellat    560608548830@4null.com  4048195601   \n",
       "53265  Daniel Jones    560509933041@4null.com  4699399725   \n",
       "53266  Nathaniel King  580883942810@4null.com  7625243130   \n",
       "\n",
       "                       address          city country    zip              ip  \\\n",
       "53262  2400 Barrett creek BLVd  Marietta      USA     30066  24.99.203.116    \n",
       "53263  2400 Barrett creek BLVd  Marietta      USA     30066  24.99.203.116    \n",
       "53264  2400 Barrett creek BLVd  Marietta      USA     30066  24.99.203.116    \n",
       "53265  1302 Timberview Drive    Allen         USA     75002  107.77.198.204   \n",
       "53266  5490 old grand rd        Cartersville  USA     30121  172.58.3.54      \n",
       "\n",
       "                                     project_id  \n",
       "53262  3508ef13608b63c075b4a60d63594e9f75750f52  \n",
       "53263  3508ef13608b63c075b4a60d63594e9f75750f52  \n",
       "53264  3508ef13608b63c075b4a60d63594e9f75750f52  \n",
       "53265  3508ef13608b63c075b4a60d63594e9f75750f52  \n",
       "53266  3508ef13608b63c075b4a60d63594e9f75750f52  "
      ]
     },
     "execution_count": 11,
     "metadata": {},
     "output_type": "execute_result"
    }
   ],
   "source": [
    "df_bad.tail()"
   ]
  },
  {
   "cell_type": "code",
   "execution_count": 11,
   "metadata": {},
   "outputs": [],
   "source": [
    "#  df.created - дата создания ордера\n",
    "#  df_bad.reported - дата прихода fraud)report"
   ]
  },
  {
   "cell_type": "code",
   "execution_count": 12,
   "metadata": {},
   "outputs": [
    {
     "data": {
      "text/plain": [
       "'2018-12-19 22:33:23'"
      ]
     },
     "execution_count": 12,
     "metadata": {},
     "output_type": "execute_result"
    }
   ],
   "source": [
    "min(df.created)"
   ]
  },
  {
   "cell_type": "code",
   "execution_count": 13,
   "metadata": {},
   "outputs": [
    {
     "data": {
      "text/plain": [
       "'2020-05-12 10:15:21'"
      ]
     },
     "execution_count": 13,
     "metadata": {},
     "output_type": "execute_result"
    }
   ],
   "source": [
    "max(df.created)"
   ]
  },
  {
   "cell_type": "code",
   "execution_count": 14,
   "metadata": {},
   "outputs": [
    {
     "data": {
      "text/plain": [
       "'2019-01-04'"
      ]
     },
     "execution_count": 14,
     "metadata": {},
     "output_type": "execute_result"
    }
   ],
   "source": [
    "min(df_bad.reported)"
   ]
  },
  {
   "cell_type": "code",
   "execution_count": 15,
   "metadata": {},
   "outputs": [
    {
     "data": {
      "text/plain": [
       "'2020-05-07'"
      ]
     },
     "execution_count": 15,
     "metadata": {},
     "output_type": "execute_result"
    }
   ],
   "source": [
    "max(df_bad.reported)"
   ]
  },
  {
   "cell_type": "code",
   "execution_count": 16,
   "metadata": {},
   "outputs": [
    {
     "data": {
      "text/plain": [
       "4312751"
      ]
     },
     "execution_count": 16,
     "metadata": {},
     "output_type": "execute_result"
    }
   ],
   "source": [
    "######## Duble id check ##############\n",
    "len(df.id.unique())"
   ]
  },
  {
   "cell_type": "code",
   "execution_count": 17,
   "metadata": {},
   "outputs": [
    {
     "data": {
      "text/plain": [
       "42240"
      ]
     },
     "execution_count": 17,
     "metadata": {},
     "output_type": "execute_result"
    }
   ],
   "source": [
    "# Count Double ids \n",
    "df.shape[0] - len(df.id.unique())"
   ]
  },
  {
   "cell_type": "code",
   "execution_count": 18,
   "metadata": {},
   "outputs": [
    {
     "data": {
      "text/plain": [
       "0"
      ]
     },
     "execution_count": 18,
     "metadata": {},
     "output_type": "execute_result"
    }
   ],
   "source": [
    "# Count Double ids in Fraud report. We expect 0.\n",
    "df_bad.shape[0] -  len(df_bad.id.unique())"
   ]
  },
  {
   "cell_type": "code",
   "execution_count": 19,
   "metadata": {},
   "outputs": [],
   "source": [
    "df_duplicated = df[df.id.duplicated(keep=False)].copy()"
   ]
  },
  {
   "cell_type": "code",
   "execution_count": 20,
   "metadata": {},
   "outputs": [
    {
     "data": {
      "text/plain": [
       "84480"
      ]
     },
     "execution_count": 20,
     "metadata": {},
     "output_type": "execute_result"
    }
   ],
   "source": [
    "df_duplicated.shape[0]"
   ]
  },
  {
   "cell_type": "code",
   "execution_count": 21,
   "metadata": {},
   "outputs": [
    {
     "data": {
      "text/html": [
       "<div>\n",
       "<style scoped>\n",
       "    .dataframe tbody tr th:only-of-type {\n",
       "        vertical-align: middle;\n",
       "    }\n",
       "\n",
       "    .dataframe tbody tr th {\n",
       "        vertical-align: top;\n",
       "    }\n",
       "\n",
       "    .dataframe thead th {\n",
       "        text-align: right;\n",
       "    }\n",
       "</style>\n",
       "<table border=\"1\" class=\"dataframe\">\n",
       "  <thead>\n",
       "    <tr style=\"text-align: right;\">\n",
       "      <th></th>\n",
       "      <th>id</th>\n",
       "      <th>type</th>\n",
       "      <th>status</th>\n",
       "      <th>created</th>\n",
       "      <th>processed</th>\n",
       "      <th>amount</th>\n",
       "      <th>currency</th>\n",
       "    </tr>\n",
       "  </thead>\n",
       "  <tbody>\n",
       "    <tr>\n",
       "      <th>354</th>\n",
       "      <td>41805603255639195</td>\n",
       "      <td>charge</td>\n",
       "      <td>chargedback</td>\n",
       "      <td>2018-12-20 04:58:57</td>\n",
       "      <td>2018-12-20 04:59:02</td>\n",
       "      <td>264.75</td>\n",
       "      <td>USD</td>\n",
       "    </tr>\n",
       "    <tr>\n",
       "      <th>355</th>\n",
       "      <td>41805603255639195</td>\n",
       "      <td>chargeback</td>\n",
       "      <td>chargedback</td>\n",
       "      <td>2018-12-20 04:58:57</td>\n",
       "      <td>2019-03-05 11:36:14</td>\n",
       "      <td>264.75</td>\n",
       "      <td>USD</td>\n",
       "    </tr>\n",
       "    <tr>\n",
       "      <th>426</th>\n",
       "      <td>41806814377312217</td>\n",
       "      <td>charge</td>\n",
       "      <td>chargedback</td>\n",
       "      <td>2018-12-20 06:17:48</td>\n",
       "      <td>2018-12-20 06:17:52</td>\n",
       "      <td>105.90</td>\n",
       "      <td>USD</td>\n",
       "    </tr>\n",
       "    <tr>\n",
       "      <th>427</th>\n",
       "      <td>41806814377312217</td>\n",
       "      <td>chargeback</td>\n",
       "      <td>chargedback</td>\n",
       "      <td>2018-12-20 06:17:48</td>\n",
       "      <td>2019-02-05 23:34:10</td>\n",
       "      <td>105.90</td>\n",
       "      <td>USD</td>\n",
       "    </tr>\n",
       "    <tr>\n",
       "      <th>754</th>\n",
       "      <td>41824353365812014</td>\n",
       "      <td>charge</td>\n",
       "      <td>chargedback</td>\n",
       "      <td>2018-12-21 01:19:40</td>\n",
       "      <td>2018-12-21 01:19:43</td>\n",
       "      <td>22.24</td>\n",
       "      <td>USD</td>\n",
       "    </tr>\n",
       "    <tr>\n",
       "      <th>755</th>\n",
       "      <td>41824353365812014</td>\n",
       "      <td>chargeback</td>\n",
       "      <td>chargedback</td>\n",
       "      <td>2018-12-21 01:19:40</td>\n",
       "      <td>2019-02-05 23:34:19</td>\n",
       "      <td>22.24</td>\n",
       "      <td>USD</td>\n",
       "    </tr>\n",
       "    <tr>\n",
       "      <th>897</th>\n",
       "      <td>41825801947190433</td>\n",
       "      <td>charge</td>\n",
       "      <td>chargedback</td>\n",
       "      <td>2018-12-21 02:53:58</td>\n",
       "      <td>2018-12-21 02:54:02</td>\n",
       "      <td>22.24</td>\n",
       "      <td>USD</td>\n",
       "    </tr>\n",
       "    <tr>\n",
       "      <th>898</th>\n",
       "      <td>41825801947190433</td>\n",
       "      <td>chargeback</td>\n",
       "      <td>chargedback</td>\n",
       "      <td>2018-12-21 02:53:58</td>\n",
       "      <td>2019-02-05 23:34:18</td>\n",
       "      <td>22.24</td>\n",
       "      <td>USD</td>\n",
       "    </tr>\n",
       "    <tr>\n",
       "      <th>983</th>\n",
       "      <td>41838616975312796</td>\n",
       "      <td>charge</td>\n",
       "      <td>chargedback</td>\n",
       "      <td>2018-12-21 16:48:17</td>\n",
       "      <td>2018-12-21 16:48:21</td>\n",
       "      <td>42.36</td>\n",
       "      <td>USD</td>\n",
       "    </tr>\n",
       "    <tr>\n",
       "      <th>984</th>\n",
       "      <td>41838616975312796</td>\n",
       "      <td>chargeback</td>\n",
       "      <td>chargedback</td>\n",
       "      <td>2018-12-21 16:48:17</td>\n",
       "      <td>2019-02-05 23:35:13</td>\n",
       "      <td>42.36</td>\n",
       "      <td>USD</td>\n",
       "    </tr>\n",
       "    <tr>\n",
       "      <th>1048</th>\n",
       "      <td>41839595898183247</td>\n",
       "      <td>charge</td>\n",
       "      <td>chargedback</td>\n",
       "      <td>2018-12-21 17:52:01</td>\n",
       "      <td>2018-12-21 17:52:04</td>\n",
       "      <td>31.77</td>\n",
       "      <td>USD</td>\n",
       "    </tr>\n",
       "    <tr>\n",
       "      <th>1049</th>\n",
       "      <td>41839595898183247</td>\n",
       "      <td>chargeback</td>\n",
       "      <td>chargedback</td>\n",
       "      <td>2018-12-21 17:52:01</td>\n",
       "      <td>2019-02-05 23:35:08</td>\n",
       "      <td>31.77</td>\n",
       "      <td>USD</td>\n",
       "    </tr>\n",
       "    <tr>\n",
       "      <th>1055</th>\n",
       "      <td>41839736578158964</td>\n",
       "      <td>charge</td>\n",
       "      <td>chargedback</td>\n",
       "      <td>2018-12-21 18:01:10</td>\n",
       "      <td>2018-12-21 18:01:14</td>\n",
       "      <td>21.18</td>\n",
       "      <td>USD</td>\n",
       "    </tr>\n",
       "    <tr>\n",
       "      <th>1056</th>\n",
       "      <td>41839736578158964</td>\n",
       "      <td>chargeback</td>\n",
       "      <td>chargedback</td>\n",
       "      <td>2018-12-21 18:01:10</td>\n",
       "      <td>2019-02-05 23:34:41</td>\n",
       "      <td>21.18</td>\n",
       "      <td>USD</td>\n",
       "    </tr>\n",
       "    <tr>\n",
       "      <th>1291</th>\n",
       "      <td>41843330126607383</td>\n",
       "      <td>charge</td>\n",
       "      <td>chargedback</td>\n",
       "      <td>2018-12-21 21:55:08</td>\n",
       "      <td>2018-12-21 21:55:12</td>\n",
       "      <td>21.18</td>\n",
       "      <td>USD</td>\n",
       "    </tr>\n",
       "    <tr>\n",
       "      <th>1292</th>\n",
       "      <td>41843330126607383</td>\n",
       "      <td>chargeback</td>\n",
       "      <td>chargedback</td>\n",
       "      <td>2018-12-21 21:55:08</td>\n",
       "      <td>2019-02-05 23:34:42</td>\n",
       "      <td>21.18</td>\n",
       "      <td>USD</td>\n",
       "    </tr>\n",
       "    <tr>\n",
       "      <th>1362</th>\n",
       "      <td>41844023238383301</td>\n",
       "      <td>charge</td>\n",
       "      <td>chargedback</td>\n",
       "      <td>2018-12-21 22:40:15</td>\n",
       "      <td>2018-12-21 22:40:19</td>\n",
       "      <td>52.95</td>\n",
       "      <td>USD</td>\n",
       "    </tr>\n",
       "    <tr>\n",
       "      <th>1363</th>\n",
       "      <td>41844023238383301</td>\n",
       "      <td>chargeback</td>\n",
       "      <td>chargedback</td>\n",
       "      <td>2018-12-21 22:40:15</td>\n",
       "      <td>2019-02-05 23:34:33</td>\n",
       "      <td>52.95</td>\n",
       "      <td>USD</td>\n",
       "    </tr>\n",
       "    <tr>\n",
       "      <th>1440</th>\n",
       "      <td>41844813179366338</td>\n",
       "      <td>charge</td>\n",
       "      <td>chargedback</td>\n",
       "      <td>2018-12-21 23:31:41</td>\n",
       "      <td>2018-12-21 23:31:46</td>\n",
       "      <td>37.07</td>\n",
       "      <td>USD</td>\n",
       "    </tr>\n",
       "    <tr>\n",
       "      <th>1441</th>\n",
       "      <td>41844813179366338</td>\n",
       "      <td>chargeback</td>\n",
       "      <td>chargedback</td>\n",
       "      <td>2018-12-21 23:31:41</td>\n",
       "      <td>2019-02-06 18:02:42</td>\n",
       "      <td>37.07</td>\n",
       "      <td>USD</td>\n",
       "    </tr>\n",
       "  </tbody>\n",
       "</table>\n",
       "</div>"
      ],
      "text/plain": [
       "                     id        type       status              created  \\\n",
       "354   41805603255639195  charge      chargedback  2018-12-20 04:58:57   \n",
       "355   41805603255639195  chargeback  chargedback  2018-12-20 04:58:57   \n",
       "426   41806814377312217  charge      chargedback  2018-12-20 06:17:48   \n",
       "427   41806814377312217  chargeback  chargedback  2018-12-20 06:17:48   \n",
       "754   41824353365812014  charge      chargedback  2018-12-21 01:19:40   \n",
       "755   41824353365812014  chargeback  chargedback  2018-12-21 01:19:40   \n",
       "897   41825801947190433  charge      chargedback  2018-12-21 02:53:58   \n",
       "898   41825801947190433  chargeback  chargedback  2018-12-21 02:53:58   \n",
       "983   41838616975312796  charge      chargedback  2018-12-21 16:48:17   \n",
       "984   41838616975312796  chargeback  chargedback  2018-12-21 16:48:17   \n",
       "1048  41839595898183247  charge      chargedback  2018-12-21 17:52:01   \n",
       "1049  41839595898183247  chargeback  chargedback  2018-12-21 17:52:01   \n",
       "1055  41839736578158964  charge      chargedback  2018-12-21 18:01:10   \n",
       "1056  41839736578158964  chargeback  chargedback  2018-12-21 18:01:10   \n",
       "1291  41843330126607383  charge      chargedback  2018-12-21 21:55:08   \n",
       "1292  41843330126607383  chargeback  chargedback  2018-12-21 21:55:08   \n",
       "1362  41844023238383301  charge      chargedback  2018-12-21 22:40:15   \n",
       "1363  41844023238383301  chargeback  chargedback  2018-12-21 22:40:15   \n",
       "1440  41844813179366338  charge      chargedback  2018-12-21 23:31:41   \n",
       "1441  41844813179366338  chargeback  chargedback  2018-12-21 23:31:41   \n",
       "\n",
       "                processed  amount currency  \n",
       "354   2018-12-20 04:59:02  264.75  USD      \n",
       "355   2019-03-05 11:36:14  264.75  USD      \n",
       "426   2018-12-20 06:17:52  105.90  USD      \n",
       "427   2019-02-05 23:34:10  105.90  USD      \n",
       "754   2018-12-21 01:19:43  22.24   USD      \n",
       "755   2019-02-05 23:34:19  22.24   USD      \n",
       "897   2018-12-21 02:54:02  22.24   USD      \n",
       "898   2019-02-05 23:34:18  22.24   USD      \n",
       "983   2018-12-21 16:48:21  42.36   USD      \n",
       "984   2019-02-05 23:35:13  42.36   USD      \n",
       "1048  2018-12-21 17:52:04  31.77   USD      \n",
       "1049  2019-02-05 23:35:08  31.77   USD      \n",
       "1055  2018-12-21 18:01:14  21.18   USD      \n",
       "1056  2019-02-05 23:34:41  21.18   USD      \n",
       "1291  2018-12-21 21:55:12  21.18   USD      \n",
       "1292  2019-02-05 23:34:42  21.18   USD      \n",
       "1362  2018-12-21 22:40:19  52.95   USD      \n",
       "1363  2019-02-05 23:34:33  52.95   USD      \n",
       "1440  2018-12-21 23:31:46  37.07   USD      \n",
       "1441  2019-02-06 18:02:42  37.07   USD      "
      ]
     },
     "execution_count": 21,
     "metadata": {},
     "output_type": "execute_result"
    }
   ],
   "source": [
    "df_duplicated.sort_values(by=['id', 'created'], inplace=True)\n",
    "df_duplicated.iloc[:20, :7]"
   ]
  },
  {
   "cell_type": "code",
   "execution_count": 22,
   "metadata": {},
   "outputs": [
    {
     "data": {
      "text/html": [
       "<div>\n",
       "<style scoped>\n",
       "    .dataframe tbody tr th:only-of-type {\n",
       "        vertical-align: middle;\n",
       "    }\n",
       "\n",
       "    .dataframe tbody tr th {\n",
       "        vertical-align: top;\n",
       "    }\n",
       "\n",
       "    .dataframe thead th {\n",
       "        text-align: right;\n",
       "    }\n",
       "</style>\n",
       "<table border=\"1\" class=\"dataframe\">\n",
       "  <thead>\n",
       "    <tr style=\"text-align: right;\">\n",
       "      <th>type</th>\n",
       "      <th>charge</th>\n",
       "      <th>chargeback</th>\n",
       "    </tr>\n",
       "    <tr>\n",
       "      <th>status</th>\n",
       "      <th></th>\n",
       "      <th></th>\n",
       "    </tr>\n",
       "  </thead>\n",
       "  <tbody>\n",
       "    <tr>\n",
       "      <th>charged</th>\n",
       "      <td>4220628</td>\n",
       "      <td>0</td>\n",
       "    </tr>\n",
       "    <tr>\n",
       "      <th>chargedback</th>\n",
       "      <td>77309</td>\n",
       "      <td>42241</td>\n",
       "    </tr>\n",
       "    <tr>\n",
       "      <th>error</th>\n",
       "      <td>2</td>\n",
       "      <td>0</td>\n",
       "    </tr>\n",
       "    <tr>\n",
       "      <th>refunded</th>\n",
       "      <td>14811</td>\n",
       "      <td>0</td>\n",
       "    </tr>\n",
       "  </tbody>\n",
       "</table>\n",
       "</div>"
      ],
      "text/plain": [
       "type          charge  chargeback\n",
       "status                          \n",
       "charged      4220628  0         \n",
       "chargedback  77309    42241     \n",
       "error        2        0         \n",
       "refunded     14811    0         "
      ]
     },
     "execution_count": 22,
     "metadata": {},
     "output_type": "execute_result"
    }
   ],
   "source": [
    "df.groupby(['status', 'type']).size().unstack(fill_value=0)"
   ]
  },
  {
   "cell_type": "code",
   "execution_count": 23,
   "metadata": {},
   "outputs": [
    {
     "data": {
      "text/plain": [
       "Counter({'charged': 4220628,\n",
       "         'chargedback': 119550,\n",
       "         'refunded': 14811,\n",
       "         'error': 2})"
      ]
     },
     "execution_count": 23,
     "metadata": {},
     "output_type": "execute_result"
    }
   ],
   "source": [
    "Counter(df.status)"
   ]
  },
  {
   "cell_type": "code",
   "execution_count": 24,
   "metadata": {},
   "outputs": [
    {
     "data": {
      "text/html": [
       "<div>\n",
       "<style scoped>\n",
       "    .dataframe tbody tr th:only-of-type {\n",
       "        vertical-align: middle;\n",
       "    }\n",
       "\n",
       "    .dataframe tbody tr th {\n",
       "        vertical-align: top;\n",
       "    }\n",
       "\n",
       "    .dataframe thead th {\n",
       "        text-align: right;\n",
       "    }\n",
       "</style>\n",
       "<table border=\"1\" class=\"dataframe\">\n",
       "  <thead>\n",
       "    <tr style=\"text-align: right;\">\n",
       "      <th>type</th>\n",
       "      <th>charge</th>\n",
       "      <th>chargeback</th>\n",
       "      <th>All</th>\n",
       "    </tr>\n",
       "    <tr>\n",
       "      <th>status</th>\n",
       "      <th></th>\n",
       "      <th></th>\n",
       "      <th></th>\n",
       "    </tr>\n",
       "  </thead>\n",
       "  <tbody>\n",
       "    <tr>\n",
       "      <th>charged</th>\n",
       "      <td>4220628</td>\n",
       "      <td>0</td>\n",
       "      <td>4220628</td>\n",
       "    </tr>\n",
       "    <tr>\n",
       "      <th>chargedback</th>\n",
       "      <td>77309</td>\n",
       "      <td>42241</td>\n",
       "      <td>119550</td>\n",
       "    </tr>\n",
       "    <tr>\n",
       "      <th>error</th>\n",
       "      <td>2</td>\n",
       "      <td>0</td>\n",
       "      <td>2</td>\n",
       "    </tr>\n",
       "    <tr>\n",
       "      <th>refunded</th>\n",
       "      <td>14811</td>\n",
       "      <td>0</td>\n",
       "      <td>14811</td>\n",
       "    </tr>\n",
       "    <tr>\n",
       "      <th>All</th>\n",
       "      <td>4312750</td>\n",
       "      <td>42241</td>\n",
       "      <td>4354991</td>\n",
       "    </tr>\n",
       "  </tbody>\n",
       "</table>\n",
       "</div>"
      ],
      "text/plain": [
       "type          charge  chargeback      All\n",
       "status                                   \n",
       "charged      4220628  0           4220628\n",
       "chargedback  77309    42241       119550 \n",
       "error        2        0           2      \n",
       "refunded     14811    0           14811  \n",
       "All          4312750  42241       4354991"
      ]
     },
     "execution_count": 24,
     "metadata": {},
     "output_type": "execute_result"
    }
   ],
   "source": [
    "pd.crosstab(index=df.status, columns=df.type, margins=True)"
   ]
  },
  {
   "cell_type": "code",
   "execution_count": 25,
   "metadata": {},
   "outputs": [
    {
     "data": {
      "text/plain": [
       "['id',\n",
       " 'status',\n",
       " 'created',\n",
       " 'reported',\n",
       " 'amount',\n",
       " 'currency',\n",
       " 'pan',\n",
       " 'expiration_year',\n",
       " 'expiration_month',\n",
       " 'holder',\n",
       " 'email',\n",
       " 'phone',\n",
       " 'address',\n",
       " 'city',\n",
       " 'country',\n",
       " 'zip',\n",
       " 'ip',\n",
       " 'project_id']"
      ]
     },
     "execution_count": 25,
     "metadata": {},
     "output_type": "execute_result"
    }
   ],
   "source": [
    "list(df_bad)"
   ]
  },
  {
   "cell_type": "code",
   "execution_count": 26,
   "metadata": {},
   "outputs": [
    {
     "data": {
      "text/plain": [
       "status\n",
       "charged        8847 \n",
       "chargedback    39227\n",
       "error          1    \n",
       "refunded       5192 \n",
       "dtype: int64"
      ]
     },
     "execution_count": 26,
     "metadata": {},
     "output_type": "execute_result"
    }
   ],
   "source": [
    "df_bad.groupby(['status']).size()"
   ]
  },
  {
   "cell_type": "code",
   "execution_count": 27,
   "metadata": {},
   "outputs": [],
   "source": [
    "df_type_cb = df[df.type == 'chargeback']"
   ]
  },
  {
   "cell_type": "code",
   "execution_count": 28,
   "metadata": {},
   "outputs": [
    {
     "data": {
      "text/html": [
       "<div>\n",
       "<style scoped>\n",
       "    .dataframe tbody tr th:only-of-type {\n",
       "        vertical-align: middle;\n",
       "    }\n",
       "\n",
       "    .dataframe tbody tr th {\n",
       "        vertical-align: top;\n",
       "    }\n",
       "\n",
       "    .dataframe thead th {\n",
       "        text-align: right;\n",
       "    }\n",
       "</style>\n",
       "<table border=\"1\" class=\"dataframe\">\n",
       "  <thead>\n",
       "    <tr style=\"text-align: right;\">\n",
       "      <th></th>\n",
       "      <th>id</th>\n",
       "      <th>type</th>\n",
       "      <th>status</th>\n",
       "      <th>created</th>\n",
       "      <th>processed</th>\n",
       "      <th>amount</th>\n",
       "      <th>currency</th>\n",
       "      <th>pan</th>\n",
       "      <th>expiration_year</th>\n",
       "      <th>expiration_month</th>\n",
       "      <th>holder</th>\n",
       "      <th>email</th>\n",
       "      <th>phone</th>\n",
       "      <th>address</th>\n",
       "      <th>city</th>\n",
       "      <th>country</th>\n",
       "      <th>zip</th>\n",
       "      <th>ip</th>\n",
       "      <th>project_id</th>\n",
       "    </tr>\n",
       "  </thead>\n",
       "  <tbody>\n",
       "    <tr>\n",
       "      <th>355</th>\n",
       "      <td>41805603255639195</td>\n",
       "      <td>chargeback</td>\n",
       "      <td>chargedback</td>\n",
       "      <td>2018-12-20 04:58:57</td>\n",
       "      <td>2019-03-05 11:36:14</td>\n",
       "      <td>264.75</td>\n",
       "      <td>USD</td>\n",
       "      <td>427082****7013</td>\n",
       "      <td>23</td>\n",
       "      <td>3</td>\n",
       "      <td>Djurdjica Reynoldssr</td>\n",
       "      <td>reynoldssrdjur@me.com</td>\n",
       "      <td>+2672313199</td>\n",
       "      <td>736 townsend</td>\n",
       "      <td>Holland</td>\n",
       "      <td>USA</td>\n",
       "      <td>99705</td>\n",
       "      <td>208.54.90.194</td>\n",
       "      <td>5a2df766c7321c3b48791d979bdad3ce5ce2f8b9</td>\n",
       "    </tr>\n",
       "    <tr>\n",
       "      <th>427</th>\n",
       "      <td>41806814377312217</td>\n",
       "      <td>chargeback</td>\n",
       "      <td>chargedback</td>\n",
       "      <td>2018-12-20 06:17:48</td>\n",
       "      <td>2019-02-05 23:34:10</td>\n",
       "      <td>105.90</td>\n",
       "      <td>USD</td>\n",
       "      <td>414720****4963</td>\n",
       "      <td>19</td>\n",
       "      <td>11</td>\n",
       "      <td>Adger Bivens</td>\n",
       "      <td>bivensadger@outlook.com</td>\n",
       "      <td>+7085161601</td>\n",
       "      <td>104 E Ovilla Rd 447</td>\n",
       "      <td>Glendale Heights</td>\n",
       "      <td>USA</td>\n",
       "      <td>33142</td>\n",
       "      <td>104.6.187.193</td>\n",
       "      <td>5a2df766c7321c3b48791d979bdad3ce5ce2f8b9</td>\n",
       "    </tr>\n",
       "    <tr>\n",
       "      <th>755</th>\n",
       "      <td>41824353365812014</td>\n",
       "      <td>chargeback</td>\n",
       "      <td>chargedback</td>\n",
       "      <td>2018-12-21 01:19:40</td>\n",
       "      <td>2019-02-05 23:34:19</td>\n",
       "      <td>22.24</td>\n",
       "      <td>USD</td>\n",
       "      <td>434769****7655</td>\n",
       "      <td>21</td>\n",
       "      <td>10</td>\n",
       "      <td>Michael Howse</td>\n",
       "      <td>michahowse@gmail.com</td>\n",
       "      <td>+4243707040</td>\n",
       "      <td>14730 hanfor Allen park</td>\n",
       "      <td>Hawthorne</td>\n",
       "      <td>USA</td>\n",
       "      <td>95617</td>\n",
       "      <td>172.58.21.255</td>\n",
       "      <td>5a2df766c7321c3b48791d979bdad3ce5ce2f8b9</td>\n",
       "    </tr>\n",
       "    <tr>\n",
       "      <th>898</th>\n",
       "      <td>41825801947190433</td>\n",
       "      <td>chargeback</td>\n",
       "      <td>chargedback</td>\n",
       "      <td>2018-12-21 02:53:58</td>\n",
       "      <td>2019-02-05 23:34:18</td>\n",
       "      <td>22.24</td>\n",
       "      <td>USD</td>\n",
       "      <td>434769****7655</td>\n",
       "      <td>21</td>\n",
       "      <td>10</td>\n",
       "      <td>Michael Howse</td>\n",
       "      <td>michahowse@gmail.com</td>\n",
       "      <td>+4243707040</td>\n",
       "      <td>14730 hanfor Allen park</td>\n",
       "      <td>Hawthorne</td>\n",
       "      <td>USA</td>\n",
       "      <td>95617</td>\n",
       "      <td>172.58.21.255</td>\n",
       "      <td>5a2df766c7321c3b48791d979bdad3ce5ce2f8b9</td>\n",
       "    </tr>\n",
       "    <tr>\n",
       "      <th>984</th>\n",
       "      <td>41838616975312796</td>\n",
       "      <td>chargeback</td>\n",
       "      <td>chargedback</td>\n",
       "      <td>2018-12-21 16:48:17</td>\n",
       "      <td>2019-02-05 23:35:13</td>\n",
       "      <td>42.36</td>\n",
       "      <td>USD</td>\n",
       "      <td>407204****7425</td>\n",
       "      <td>20</td>\n",
       "      <td>12</td>\n",
       "      <td>Dustin Blazevski</td>\n",
       "      <td>blazevski_dus@gmail.com</td>\n",
       "      <td>+6085353510</td>\n",
       "      <td>1440 Cherry Lane</td>\n",
       "      <td>Poynette</td>\n",
       "      <td>USA</td>\n",
       "      <td>92507</td>\n",
       "      <td>107.77.210.63</td>\n",
       "      <td>5a2df766c7321c3b48791d979bdad3ce5ce2f8b9</td>\n",
       "    </tr>\n",
       "  </tbody>\n",
       "</table>\n",
       "</div>"
      ],
      "text/plain": [
       "                    id        type       status              created  \\\n",
       "355  41805603255639195  chargeback  chargedback  2018-12-20 04:58:57   \n",
       "427  41806814377312217  chargeback  chargedback  2018-12-20 06:17:48   \n",
       "755  41824353365812014  chargeback  chargedback  2018-12-21 01:19:40   \n",
       "898  41825801947190433  chargeback  chargedback  2018-12-21 02:53:58   \n",
       "984  41838616975312796  chargeback  chargedback  2018-12-21 16:48:17   \n",
       "\n",
       "               processed  amount currency             pan expiration_year  \\\n",
       "355  2019-03-05 11:36:14  264.75  USD      427082****7013  23               \n",
       "427  2019-02-05 23:34:10  105.90  USD      414720****4963  19               \n",
       "755  2019-02-05 23:34:19  22.24   USD      434769****7655  21               \n",
       "898  2019-02-05 23:34:18  22.24   USD      434769****7655  21               \n",
       "984  2019-02-05 23:35:13  42.36   USD      407204****7425  20               \n",
       "\n",
       "    expiration_month                holder                    email  \\\n",
       "355  3                Djurdjica Reynoldssr  reynoldssrdjur@me.com     \n",
       "427  11               Adger Bivens          bivensadger@outlook.com   \n",
       "755  10               Michael Howse         michahowse@gmail.com      \n",
       "898  10               Michael Howse         michahowse@gmail.com      \n",
       "984  12               Dustin Blazevski      blazevski_dus@gmail.com   \n",
       "\n",
       "           phone                  address              city country    zip  \\\n",
       "355  +2672313199  736 townsend             Holland           USA     99705   \n",
       "427  +7085161601  104 E Ovilla Rd 447      Glendale Heights  USA     33142   \n",
       "755  +4243707040  14730 hanfor Allen park  Hawthorne         USA     95617   \n",
       "898  +4243707040  14730 hanfor Allen park  Hawthorne         USA     95617   \n",
       "984  +6085353510  1440 Cherry Lane         Poynette          USA     92507   \n",
       "\n",
       "                ip                                project_id  \n",
       "355  208.54.90.194  5a2df766c7321c3b48791d979bdad3ce5ce2f8b9  \n",
       "427  104.6.187.193  5a2df766c7321c3b48791d979bdad3ce5ce2f8b9  \n",
       "755  172.58.21.255  5a2df766c7321c3b48791d979bdad3ce5ce2f8b9  \n",
       "898  172.58.21.255  5a2df766c7321c3b48791d979bdad3ce5ce2f8b9  \n",
       "984  107.77.210.63  5a2df766c7321c3b48791d979bdad3ce5ce2f8b9  "
      ]
     },
     "execution_count": 28,
     "metadata": {},
     "output_type": "execute_result"
    }
   ],
   "source": [
    "df_type_cb.head()"
   ]
  },
  {
   "cell_type": "code",
   "execution_count": 29,
   "metadata": {},
   "outputs": [],
   "source": [
    "# Выбираем уникальные записи так, чтобы убрать дубли но остались все записи с типом chargeback.\n",
    "# Это нужно для того, чтобы можно было проставить дату возврата, для плохих записей у которых нет fruad report\n",
    "#ky <- filter(ky9, type=='chargeback' | ((type=='charge') & !(id %in% ky9_type_cb$id)))"
   ]
  },
  {
   "cell_type": "code",
   "execution_count": 29,
   "metadata": {},
   "outputs": [],
   "source": [
    "ids_df_type_cb_id = df_type_cb.id.unique()"
   ]
  },
  {
   "cell_type": "code",
   "execution_count": 30,
   "metadata": {},
   "outputs": [],
   "source": [
    "mask = (df.type == \"chargeback\") | ( (df.type == \"charge\") & (~df.id.isin(ids_df_type_cb_id)) ) # скобки обязательные"
   ]
  },
  {
   "cell_type": "code",
   "execution_count": 31,
   "metadata": {},
   "outputs": [],
   "source": [
    "df_raw = df.copy()\n",
    "df = df_raw[mask].copy()"
   ]
  },
  {
   "cell_type": "code",
   "execution_count": 32,
   "metadata": {},
   "outputs": [
    {
     "data": {
      "text/plain": [
       "(4354991, 19)"
      ]
     },
     "execution_count": 32,
     "metadata": {},
     "output_type": "execute_result"
    }
   ],
   "source": [
    "df_raw.shape"
   ]
  },
  {
   "cell_type": "code",
   "execution_count": 33,
   "metadata": {},
   "outputs": [
    {
     "data": {
      "text/plain": [
       "(4312751, 19)"
      ]
     },
     "execution_count": 33,
     "metadata": {},
     "output_type": "execute_result"
    }
   ],
   "source": [
    "df.shape"
   ]
  },
  {
   "cell_type": "code",
   "execution_count": 34,
   "metadata": {},
   "outputs": [],
   "source": [
    "del df_raw"
   ]
  },
  {
   "cell_type": "code",
   "execution_count": 35,
   "metadata": {},
   "outputs": [
    {
     "data": {
      "text/plain": [
       "0"
      ]
     },
     "execution_count": 35,
     "metadata": {},
     "output_type": "execute_result"
    }
   ],
   "source": [
    "df.shape[0] - len(df.id.unique()) # only unique value"
   ]
  },
  {
   "cell_type": "code",
   "execution_count": 37,
   "metadata": {},
   "outputs": [],
   "source": [
    "######## End Dubles id check ##############\n",
    "# (13:31:04) Андрей an@writingbears.com: все ордера которые есть в файле fraud - плохие\n",
    "# (13:31:15) Андрей an@writingbears.com: также все ордера с типом(не статусом)  chargedback - плохие\n",
    "# Весь Fraud  в не зависимости от статуса есть в ky9\n",
    "\n",
    "######## Set status ##############"
   ]
  },
  {
   "cell_type": "code",
   "execution_count": 36,
   "metadata": {},
   "outputs": [],
   "source": [
    "df = pd.merge(df, df_bad[[\"id\", \"reported\"]], how='left', on=['id'])"
   ]
  },
  {
   "cell_type": "code",
   "execution_count": 37,
   "metadata": {},
   "outputs": [
    {
     "data": {
      "text/html": [
       "<div>\n",
       "<style scoped>\n",
       "    .dataframe tbody tr th:only-of-type {\n",
       "        vertical-align: middle;\n",
       "    }\n",
       "\n",
       "    .dataframe tbody tr th {\n",
       "        vertical-align: top;\n",
       "    }\n",
       "\n",
       "    .dataframe thead th {\n",
       "        text-align: right;\n",
       "    }\n",
       "</style>\n",
       "<table border=\"1\" class=\"dataframe\">\n",
       "  <thead>\n",
       "    <tr style=\"text-align: right;\">\n",
       "      <th></th>\n",
       "      <th>id</th>\n",
       "      <th>type</th>\n",
       "      <th>status</th>\n",
       "      <th>created</th>\n",
       "      <th>processed</th>\n",
       "      <th>amount</th>\n",
       "      <th>currency</th>\n",
       "      <th>pan</th>\n",
       "      <th>expiration_year</th>\n",
       "      <th>expiration_month</th>\n",
       "      <th>holder</th>\n",
       "      <th>email</th>\n",
       "      <th>phone</th>\n",
       "      <th>address</th>\n",
       "      <th>city</th>\n",
       "      <th>country</th>\n",
       "      <th>zip</th>\n",
       "      <th>ip</th>\n",
       "      <th>project_id</th>\n",
       "      <th>reported</th>\n",
       "    </tr>\n",
       "  </thead>\n",
       "  <tbody>\n",
       "    <tr>\n",
       "      <th>0</th>\n",
       "      <td>41799680781449564</td>\n",
       "      <td>charge</td>\n",
       "      <td>charged</td>\n",
       "      <td>2018-12-19 22:33:23</td>\n",
       "      <td>2018-12-19 22:33:27</td>\n",
       "      <td>52.95</td>\n",
       "      <td>USD</td>\n",
       "      <td>447494****6650</td>\n",
       "      <td>19</td>\n",
       "      <td>3</td>\n",
       "      <td>Jennifer Myers</td>\n",
       "      <td>jenn-mye@hotmail.com</td>\n",
       "      <td>+6024818120</td>\n",
       "      <td>5110 Bitterroot Way</td>\n",
       "      <td>Hurlburt Field</td>\n",
       "      <td>USA</td>\n",
       "      <td>28052</td>\n",
       "      <td>195.39.171.227</td>\n",
       "      <td>5a2df766c7321c3b48791d979bdad3ce5ce2f8b9</td>\n",
       "      <td>NaN</td>\n",
       "    </tr>\n",
       "    <tr>\n",
       "      <th>1</th>\n",
       "      <td>41799692345652096</td>\n",
       "      <td>charge</td>\n",
       "      <td>charged</td>\n",
       "      <td>2018-12-19 22:34:08</td>\n",
       "      <td>2018-12-19 22:34:12</td>\n",
       "      <td>21.18</td>\n",
       "      <td>USD</td>\n",
       "      <td>434256****3600</td>\n",
       "      <td>22</td>\n",
       "      <td>11</td>\n",
       "      <td>Brady Marske</td>\n",
       "      <td>marske-brady7053@yahoo.com</td>\n",
       "      <td>+3235272757</td>\n",
       "      <td>44 Bellevue PL</td>\n",
       "      <td>San Diego</td>\n",
       "      <td>USA</td>\n",
       "      <td>92040</td>\n",
       "      <td>99.101.8.179</td>\n",
       "      <td>5a2df766c7321c3b48791d979bdad3ce5ce2f8b9</td>\n",
       "      <td>NaN</td>\n",
       "    </tr>\n",
       "    <tr>\n",
       "      <th>2</th>\n",
       "      <td>41799707414784518</td>\n",
       "      <td>charge</td>\n",
       "      <td>charged</td>\n",
       "      <td>2018-12-19 22:35:07</td>\n",
       "      <td>2018-12-19 22:35:10</td>\n",
       "      <td>26.48</td>\n",
       "      <td>USD</td>\n",
       "      <td>464733****3963</td>\n",
       "      <td>20</td>\n",
       "      <td>4</td>\n",
       "      <td>Christopher Scala</td>\n",
       "      <td>chsca8515@me.com</td>\n",
       "      <td>+2674232337</td>\n",
       "      <td>13 Holly Blvd.</td>\n",
       "      <td>Philadelphia</td>\n",
       "      <td>USA</td>\n",
       "      <td>62206</td>\n",
       "      <td>100.34.37.252</td>\n",
       "      <td>5a2df766c7321c3b48791d979bdad3ce5ce2f8b9</td>\n",
       "      <td>NaN</td>\n",
       "    </tr>\n",
       "    <tr>\n",
       "      <th>3</th>\n",
       "      <td>41799716768741310</td>\n",
       "      <td>charge</td>\n",
       "      <td>charged</td>\n",
       "      <td>2018-12-19 22:35:43</td>\n",
       "      <td>2018-12-19 22:35:47</td>\n",
       "      <td>26.48</td>\n",
       "      <td>USD</td>\n",
       "      <td>437303****7009</td>\n",
       "      <td>22</td>\n",
       "      <td>9</td>\n",
       "      <td>Blake Mitrovik</td>\n",
       "      <td>mitrovikblake@msn.com</td>\n",
       "      <td>+7152525225</td>\n",
       "      <td>1722 Cool Breeze</td>\n",
       "      <td>Stevens Point</td>\n",
       "      <td>USA</td>\n",
       "      <td>93401</td>\n",
       "      <td>174.198.11.206</td>\n",
       "      <td>5a2df766c7321c3b48791d979bdad3ce5ce2f8b9</td>\n",
       "      <td>NaN</td>\n",
       "    </tr>\n",
       "    <tr>\n",
       "      <th>4</th>\n",
       "      <td>41799744497264522</td>\n",
       "      <td>charge</td>\n",
       "      <td>charged</td>\n",
       "      <td>2018-12-19 22:37:31</td>\n",
       "      <td>2018-12-19 22:37:36</td>\n",
       "      <td>22.24</td>\n",
       "      <td>USD</td>\n",
       "      <td>423223****9977</td>\n",
       "      <td>22</td>\n",
       "      <td>11</td>\n",
       "      <td>Curry Paraspolo</td>\n",
       "      <td>paraspolocur@outlook.com</td>\n",
       "      <td>+3863141489</td>\n",
       "      <td>7535 los feliz dr</td>\n",
       "      <td>New Smyrna Beach</td>\n",
       "      <td>USA</td>\n",
       "      <td>48225</td>\n",
       "      <td>172.58.43.103</td>\n",
       "      <td>5a2df766c7321c3b48791d979bdad3ce5ce2f8b9</td>\n",
       "      <td>NaN</td>\n",
       "    </tr>\n",
       "  </tbody>\n",
       "</table>\n",
       "</div>"
      ],
      "text/plain": [
       "                  id    type   status              created  \\\n",
       "0  41799680781449564  charge  charged  2018-12-19 22:33:23   \n",
       "1  41799692345652096  charge  charged  2018-12-19 22:34:08   \n",
       "2  41799707414784518  charge  charged  2018-12-19 22:35:07   \n",
       "3  41799716768741310  charge  charged  2018-12-19 22:35:43   \n",
       "4  41799744497264522  charge  charged  2018-12-19 22:37:31   \n",
       "\n",
       "             processed amount currency             pan expiration_year  \\\n",
       "0  2018-12-19 22:33:27  52.95  USD      447494****6650  19               \n",
       "1  2018-12-19 22:34:12  21.18  USD      434256****3600  22               \n",
       "2  2018-12-19 22:35:10  26.48  USD      464733****3963  20               \n",
       "3  2018-12-19 22:35:47  26.48  USD      437303****7009  22               \n",
       "4  2018-12-19 22:37:36  22.24  USD      423223****9977  22               \n",
       "\n",
       "  expiration_month             holder                       email  \\\n",
       "0  3                Jennifer Myers     jenn-mye@hotmail.com         \n",
       "1  11               Brady Marske       marske-brady7053@yahoo.com   \n",
       "2  4                Christopher Scala  chsca8515@me.com             \n",
       "3  9                Blake Mitrovik     mitrovikblake@msn.com        \n",
       "4  11               Curry Paraspolo    paraspolocur@outlook.com     \n",
       "\n",
       "         phone              address              city country    zip  \\\n",
       "0  +6024818120  5110 Bitterroot Way  Hurlburt Field    USA     28052   \n",
       "1  +3235272757  44 Bellevue PL       San Diego         USA     92040   \n",
       "2  +2674232337  13 Holly Blvd.       Philadelphia      USA     62206   \n",
       "3  +7152525225  1722 Cool Breeze     Stevens Point     USA     93401   \n",
       "4  +3863141489  7535 los feliz dr    New Smyrna Beach  USA     48225   \n",
       "\n",
       "               ip                                project_id reported  \n",
       "0  195.39.171.227  5a2df766c7321c3b48791d979bdad3ce5ce2f8b9  NaN      \n",
       "1  99.101.8.179    5a2df766c7321c3b48791d979bdad3ce5ce2f8b9  NaN      \n",
       "2  100.34.37.252   5a2df766c7321c3b48791d979bdad3ce5ce2f8b9  NaN      \n",
       "3  174.198.11.206  5a2df766c7321c3b48791d979bdad3ce5ce2f8b9  NaN      \n",
       "4  172.58.43.103   5a2df766c7321c3b48791d979bdad3ce5ce2f8b9  NaN      "
      ]
     },
     "execution_count": 37,
     "metadata": {},
     "output_type": "execute_result"
    }
   ],
   "source": [
    "df.head()"
   ]
  },
  {
   "cell_type": "code",
   "execution_count": 38,
   "metadata": {},
   "outputs": [],
   "source": [
    "df_reported_is_not_nan =  df[pd.notnull(df.reported)]"
   ]
  },
  {
   "cell_type": "code",
   "execution_count": 39,
   "metadata": {
    "scrolled": false
   },
   "outputs": [
    {
     "data": {
      "text/html": [
       "<div>\n",
       "<style scoped>\n",
       "    .dataframe tbody tr th:only-of-type {\n",
       "        vertical-align: middle;\n",
       "    }\n",
       "\n",
       "    .dataframe tbody tr th {\n",
       "        vertical-align: top;\n",
       "    }\n",
       "\n",
       "    .dataframe thead th {\n",
       "        text-align: right;\n",
       "    }\n",
       "</style>\n",
       "<table border=\"1\" class=\"dataframe\">\n",
       "  <thead>\n",
       "    <tr style=\"text-align: right;\">\n",
       "      <th></th>\n",
       "      <th>id</th>\n",
       "      <th>type</th>\n",
       "      <th>status</th>\n",
       "      <th>created</th>\n",
       "      <th>processed</th>\n",
       "      <th>amount</th>\n",
       "      <th>currency</th>\n",
       "      <th>pan</th>\n",
       "      <th>expiration_year</th>\n",
       "      <th>expiration_month</th>\n",
       "      <th>holder</th>\n",
       "      <th>email</th>\n",
       "      <th>phone</th>\n",
       "      <th>address</th>\n",
       "      <th>city</th>\n",
       "      <th>country</th>\n",
       "      <th>zip</th>\n",
       "      <th>ip</th>\n",
       "      <th>project_id</th>\n",
       "      <th>reported</th>\n",
       "    </tr>\n",
       "  </thead>\n",
       "  <tbody>\n",
       "    <tr>\n",
       "      <th>354</th>\n",
       "      <td>41805603255639195</td>\n",
       "      <td>chargeback</td>\n",
       "      <td>chargedback</td>\n",
       "      <td>2018-12-20 04:58:57</td>\n",
       "      <td>2019-03-05 11:36:14</td>\n",
       "      <td>264.75</td>\n",
       "      <td>USD</td>\n",
       "      <td>427082****7013</td>\n",
       "      <td>23</td>\n",
       "      <td>3</td>\n",
       "      <td>Djurdjica Reynoldssr</td>\n",
       "      <td>reynoldssrdjur@me.com</td>\n",
       "      <td>+2672313199</td>\n",
       "      <td>736 townsend</td>\n",
       "      <td>Holland</td>\n",
       "      <td>USA</td>\n",
       "      <td>99705</td>\n",
       "      <td>208.54.90.194</td>\n",
       "      <td>5a2df766c7321c3b48791d979bdad3ce5ce2f8b9</td>\n",
       "      <td>2019-02-16</td>\n",
       "    </tr>\n",
       "    <tr>\n",
       "      <th>425</th>\n",
       "      <td>41806814377312217</td>\n",
       "      <td>chargeback</td>\n",
       "      <td>chargedback</td>\n",
       "      <td>2018-12-20 06:17:48</td>\n",
       "      <td>2019-02-05 23:34:10</td>\n",
       "      <td>105.90</td>\n",
       "      <td>USD</td>\n",
       "      <td>414720****4963</td>\n",
       "      <td>19</td>\n",
       "      <td>11</td>\n",
       "      <td>Adger Bivens</td>\n",
       "      <td>bivensadger@outlook.com</td>\n",
       "      <td>+7085161601</td>\n",
       "      <td>104 E Ovilla Rd 447</td>\n",
       "      <td>Glendale Heights</td>\n",
       "      <td>USA</td>\n",
       "      <td>33142</td>\n",
       "      <td>104.6.187.193</td>\n",
       "      <td>5a2df766c7321c3b48791d979bdad3ce5ce2f8b9</td>\n",
       "      <td>2019-01-04</td>\n",
       "    </tr>\n",
       "    <tr>\n",
       "      <th>489</th>\n",
       "      <td>41818714021471339</td>\n",
       "      <td>charge</td>\n",
       "      <td>refunded</td>\n",
       "      <td>2018-12-20 19:12:31</td>\n",
       "      <td>2018-12-20 19:12:38</td>\n",
       "      <td>76.96</td>\n",
       "      <td>USD</td>\n",
       "      <td>498442****6675</td>\n",
       "      <td>21</td>\n",
       "      <td>10</td>\n",
       "      <td>Bill Langer</td>\n",
       "      <td>bil_la@me.com</td>\n",
       "      <td>+6499232344</td>\n",
       "      <td>Rua Tanhacu 12</td>\n",
       "      <td>Rio verde</td>\n",
       "      <td>BRA</td>\n",
       "      <td>30770390</td>\n",
       "      <td>189.40.78.155</td>\n",
       "      <td>5a2df766c7321c3b48791d979bdad3ce5ce2f8b9</td>\n",
       "      <td>2019-01-23</td>\n",
       "    </tr>\n",
       "    <tr>\n",
       "      <th>490</th>\n",
       "      <td>41818749693434484</td>\n",
       "      <td>charge</td>\n",
       "      <td>refunded</td>\n",
       "      <td>2018-12-20 19:14:50</td>\n",
       "      <td>2018-12-20 19:14:58</td>\n",
       "      <td>25.65</td>\n",
       "      <td>USD</td>\n",
       "      <td>498406****0153</td>\n",
       "      <td>21</td>\n",
       "      <td>12</td>\n",
       "      <td>Hau Asborn</td>\n",
       "      <td>hasbor2047@sbcglobal.net</td>\n",
       "      <td>+6499232344</td>\n",
       "      <td>Rua Flaviano Araujo</td>\n",
       "      <td>Rio verde</td>\n",
       "      <td>BRA</td>\n",
       "      <td>76954000</td>\n",
       "      <td>189.40.78.155</td>\n",
       "      <td>5a2df766c7321c3b48791d979bdad3ce5ce2f8b9</td>\n",
       "      <td>2019-01-04</td>\n",
       "    </tr>\n",
       "    <tr>\n",
       "      <th>752</th>\n",
       "      <td>41824353365812014</td>\n",
       "      <td>chargeback</td>\n",
       "      <td>chargedback</td>\n",
       "      <td>2018-12-21 01:19:40</td>\n",
       "      <td>2019-02-05 23:34:19</td>\n",
       "      <td>22.24</td>\n",
       "      <td>USD</td>\n",
       "      <td>434769****7655</td>\n",
       "      <td>21</td>\n",
       "      <td>10</td>\n",
       "      <td>Michael Howse</td>\n",
       "      <td>michahowse@gmail.com</td>\n",
       "      <td>+4243707040</td>\n",
       "      <td>14730 hanfor Allen park</td>\n",
       "      <td>Hawthorne</td>\n",
       "      <td>USA</td>\n",
       "      <td>95617</td>\n",
       "      <td>172.58.21.255</td>\n",
       "      <td>5a2df766c7321c3b48791d979bdad3ce5ce2f8b9</td>\n",
       "      <td>2019-01-04</td>\n",
       "    </tr>\n",
       "  </tbody>\n",
       "</table>\n",
       "</div>"
      ],
      "text/plain": [
       "                    id        type       status              created  \\\n",
       "354  41805603255639195  chargeback  chargedback  2018-12-20 04:58:57   \n",
       "425  41806814377312217  chargeback  chargedback  2018-12-20 06:17:48   \n",
       "489  41818714021471339  charge      refunded     2018-12-20 19:12:31   \n",
       "490  41818749693434484  charge      refunded     2018-12-20 19:14:50   \n",
       "752  41824353365812014  chargeback  chargedback  2018-12-21 01:19:40   \n",
       "\n",
       "               processed  amount currency             pan expiration_year  \\\n",
       "354  2019-03-05 11:36:14  264.75  USD      427082****7013  23               \n",
       "425  2019-02-05 23:34:10  105.90  USD      414720****4963  19               \n",
       "489  2018-12-20 19:12:38  76.96   USD      498442****6675  21               \n",
       "490  2018-12-20 19:14:58  25.65   USD      498406****0153  21               \n",
       "752  2019-02-05 23:34:19  22.24   USD      434769****7655  21               \n",
       "\n",
       "    expiration_month                holder                     email  \\\n",
       "354  3                Djurdjica Reynoldssr  reynoldssrdjur@me.com      \n",
       "425  11               Adger Bivens          bivensadger@outlook.com    \n",
       "489  10               Bill Langer           bil_la@me.com              \n",
       "490  12               Hau Asborn            hasbor2047@sbcglobal.net   \n",
       "752  10               Michael Howse         michahowse@gmail.com       \n",
       "\n",
       "           phone                  address              city country       zip  \\\n",
       "354  +2672313199  736 townsend             Holland           USA     99705      \n",
       "425  +7085161601  104 E Ovilla Rd 447      Glendale Heights  USA     33142      \n",
       "489  +6499232344  Rua Tanhacu 12           Rio verde         BRA     30770390   \n",
       "490  +6499232344  Rua Flaviano Araujo      Rio verde         BRA     76954000   \n",
       "752  +4243707040  14730 hanfor Allen park  Hawthorne         USA     95617      \n",
       "\n",
       "                ip                                project_id    reported  \n",
       "354  208.54.90.194  5a2df766c7321c3b48791d979bdad3ce5ce2f8b9  2019-02-16  \n",
       "425  104.6.187.193  5a2df766c7321c3b48791d979bdad3ce5ce2f8b9  2019-01-04  \n",
       "489  189.40.78.155  5a2df766c7321c3b48791d979bdad3ce5ce2f8b9  2019-01-23  \n",
       "490  189.40.78.155  5a2df766c7321c3b48791d979bdad3ce5ce2f8b9  2019-01-04  \n",
       "752  172.58.21.255  5a2df766c7321c3b48791d979bdad3ce5ce2f8b9  2019-01-04  "
      ]
     },
     "execution_count": 39,
     "metadata": {},
     "output_type": "execute_result"
    }
   ],
   "source": [
    "df_reported_is_not_nan.head()"
   ]
  },
  {
   "cell_type": "code",
   "execution_count": 40,
   "metadata": {},
   "outputs": [
    {
     "data": {
      "text/plain": [
       "53267"
      ]
     },
     "execution_count": 40,
     "metadata": {},
     "output_type": "execute_result"
    }
   ],
   "source": [
    "df_reported_is_not_nan.shape[0]"
   ]
  },
  {
   "cell_type": "code",
   "execution_count": 41,
   "metadata": {},
   "outputs": [
    {
     "data": {
      "text/plain": [
       "53267"
      ]
     },
     "execution_count": 41,
     "metadata": {},
     "output_type": "execute_result"
    }
   ],
   "source": [
    "df_bad.shape[0]"
   ]
  },
  {
   "cell_type": "code",
   "execution_count": 42,
   "metadata": {},
   "outputs": [
    {
     "data": {
      "text/plain": [
       "charged        4220628\n",
       "chargedback    77310  \n",
       "refunded       14811  \n",
       "error          2      \n",
       "Name: status, dtype: int64"
      ]
     },
     "execution_count": 42,
     "metadata": {},
     "output_type": "execute_result"
    }
   ],
   "source": [
    "df.status.value_counts()"
   ]
  },
  {
   "cell_type": "code",
   "execution_count": 43,
   "metadata": {},
   "outputs": [],
   "source": [
    "df['status_chargeback'] = df.status"
   ]
  },
  {
   "cell_type": "code",
   "execution_count": 44,
   "metadata": {},
   "outputs": [],
   "source": [
    "df.status =  np.where( (pd.notnull(df.reported))| (df.type == 'chargeback'), 'true', 'false')"
   ]
  },
  {
   "cell_type": "code",
   "execution_count": 45,
   "metadata": {},
   "outputs": [
    {
     "data": {
      "text/plain": [
       "false    4256210\n",
       "true     56541  \n",
       "Name: status, dtype: int64"
      ]
     },
     "execution_count": 45,
     "metadata": {},
     "output_type": "execute_result"
    }
   ],
   "source": [
    "df.status.value_counts()"
   ]
  },
  {
   "cell_type": "code",
   "execution_count": 46,
   "metadata": {},
   "outputs": [
    {
     "data": {
      "text/html": [
       "<div>\n",
       "<style scoped>\n",
       "    .dataframe tbody tr th:only-of-type {\n",
       "        vertical-align: middle;\n",
       "    }\n",
       "\n",
       "    .dataframe tbody tr th {\n",
       "        vertical-align: top;\n",
       "    }\n",
       "\n",
       "    .dataframe thead th {\n",
       "        text-align: right;\n",
       "    }\n",
       "</style>\n",
       "<table border=\"1\" class=\"dataframe\">\n",
       "  <thead>\n",
       "    <tr style=\"text-align: right;\">\n",
       "      <th>status</th>\n",
       "      <th>false</th>\n",
       "      <th>true</th>\n",
       "      <th>All</th>\n",
       "    </tr>\n",
       "    <tr>\n",
       "      <th>status_chargeback</th>\n",
       "      <th></th>\n",
       "      <th></th>\n",
       "      <th></th>\n",
       "    </tr>\n",
       "  </thead>\n",
       "  <tbody>\n",
       "    <tr>\n",
       "      <th>charged</th>\n",
       "      <td>4211781</td>\n",
       "      <td>8847</td>\n",
       "      <td>4220628</td>\n",
       "    </tr>\n",
       "    <tr>\n",
       "      <th>chargedback</th>\n",
       "      <td>34809</td>\n",
       "      <td>42501</td>\n",
       "      <td>77310</td>\n",
       "    </tr>\n",
       "    <tr>\n",
       "      <th>error</th>\n",
       "      <td>1</td>\n",
       "      <td>1</td>\n",
       "      <td>2</td>\n",
       "    </tr>\n",
       "    <tr>\n",
       "      <th>refunded</th>\n",
       "      <td>9619</td>\n",
       "      <td>5192</td>\n",
       "      <td>14811</td>\n",
       "    </tr>\n",
       "    <tr>\n",
       "      <th>All</th>\n",
       "      <td>4256210</td>\n",
       "      <td>56541</td>\n",
       "      <td>4312751</td>\n",
       "    </tr>\n",
       "  </tbody>\n",
       "</table>\n",
       "</div>"
      ],
      "text/plain": [
       "status               false   true      All\n",
       "status_chargeback                         \n",
       "charged            4211781  8847   4220628\n",
       "chargedback        34809    42501  77310  \n",
       "error              1        1      2      \n",
       "refunded           9619     5192   14811  \n",
       "All                4256210  56541  4312751"
      ]
     },
     "execution_count": 46,
     "metadata": {},
     "output_type": "execute_result"
    }
   ],
   "source": [
    "pd.crosstab(index=df.status_chargeback, columns=df.status, margins=True)"
   ]
  },
  {
   "cell_type": "code",
   "execution_count": 49,
   "metadata": {},
   "outputs": [],
   "source": [
    "# После добавления поля \"status_chargeback\", проверяем количество фрода в записях со статусом \"refunded\" и \"error\".\n",
    "# Из них удаляем только те записи, у которых \"status_chargeback\" - \"false\"."
   ]
  },
  {
   "cell_type": "code",
   "execution_count": 47,
   "metadata": {},
   "outputs": [
    {
     "data": {
      "text/plain": [
       "charged        4220628\n",
       "chargedback    77310  \n",
       "refunded       14811  \n",
       "error          2      \n",
       "Name: status_chargeback, dtype: int64"
      ]
     },
     "execution_count": 47,
     "metadata": {},
     "output_type": "execute_result"
    }
   ],
   "source": [
    "df.status_chargeback.value_counts()"
   ]
  },
  {
   "cell_type": "code",
   "execution_count": 48,
   "metadata": {},
   "outputs": [],
   "source": [
    "mask_status = ( (df.status_chargeback == 'refunded') | (df.status_chargeback == 'error') ) & (~df.status.isin(Statistic.BAD_STATUSES))"
   ]
  },
  {
   "cell_type": "code",
   "execution_count": 49,
   "metadata": {},
   "outputs": [],
   "source": [
    "df = df[~mask_status]"
   ]
  },
  {
   "cell_type": "code",
   "execution_count": 50,
   "metadata": {},
   "outputs": [
    {
     "data": {
      "text/html": [
       "<div>\n",
       "<style scoped>\n",
       "    .dataframe tbody tr th:only-of-type {\n",
       "        vertical-align: middle;\n",
       "    }\n",
       "\n",
       "    .dataframe tbody tr th {\n",
       "        vertical-align: top;\n",
       "    }\n",
       "\n",
       "    .dataframe thead th {\n",
       "        text-align: right;\n",
       "    }\n",
       "</style>\n",
       "<table border=\"1\" class=\"dataframe\">\n",
       "  <thead>\n",
       "    <tr style=\"text-align: right;\">\n",
       "      <th>status</th>\n",
       "      <th>false</th>\n",
       "      <th>true</th>\n",
       "      <th>All</th>\n",
       "    </tr>\n",
       "    <tr>\n",
       "      <th>status_chargeback</th>\n",
       "      <th></th>\n",
       "      <th></th>\n",
       "      <th></th>\n",
       "    </tr>\n",
       "  </thead>\n",
       "  <tbody>\n",
       "    <tr>\n",
       "      <th>charged</th>\n",
       "      <td>4211781</td>\n",
       "      <td>8847</td>\n",
       "      <td>4220628</td>\n",
       "    </tr>\n",
       "    <tr>\n",
       "      <th>chargedback</th>\n",
       "      <td>34809</td>\n",
       "      <td>42501</td>\n",
       "      <td>77310</td>\n",
       "    </tr>\n",
       "    <tr>\n",
       "      <th>error</th>\n",
       "      <td>0</td>\n",
       "      <td>1</td>\n",
       "      <td>1</td>\n",
       "    </tr>\n",
       "    <tr>\n",
       "      <th>refunded</th>\n",
       "      <td>0</td>\n",
       "      <td>5192</td>\n",
       "      <td>5192</td>\n",
       "    </tr>\n",
       "    <tr>\n",
       "      <th>All</th>\n",
       "      <td>4246590</td>\n",
       "      <td>56541</td>\n",
       "      <td>4303131</td>\n",
       "    </tr>\n",
       "  </tbody>\n",
       "</table>\n",
       "</div>"
      ],
      "text/plain": [
       "status               false   true      All\n",
       "status_chargeback                         \n",
       "charged            4211781  8847   4220628\n",
       "chargedback        34809    42501  77310  \n",
       "error              0        1      1      \n",
       "refunded           0        5192   5192   \n",
       "All                4246590  56541  4303131"
      ]
     },
     "execution_count": 50,
     "metadata": {},
     "output_type": "execute_result"
    }
   ],
   "source": [
    "pd.crosstab(index=df.status_chargeback, columns=df.status, margins=True)"
   ]
  },
  {
   "cell_type": "code",
   "execution_count": 51,
   "metadata": {},
   "outputs": [],
   "source": [
    "df['date_cb_only'] = df['processed'].str[:10]"
   ]
  },
  {
   "cell_type": "code",
   "execution_count": 52,
   "metadata": {},
   "outputs": [],
   "source": [
    "df.date_cb_only = np.where( (pd.notnull(df.reported)), df.reported,  df.date_cb_only)"
   ]
  },
  {
   "cell_type": "code",
   "execution_count": 53,
   "metadata": {},
   "outputs": [],
   "source": [
    "df['card_masked'] = df.pan.str[:6] + \"******\" + df.pan.str.slice(10, 14)"
   ]
  },
  {
   "cell_type": "code",
   "execution_count": 54,
   "metadata": {},
   "outputs": [],
   "source": [
    "df['expire_year'] = \"20\" + df.expiration_year\n",
    "df['expire_month'] = np.where(df.expiration_month.str.len() == 1, \"0\" + df.expiration_month, df.expiration_month)\n",
    "df['card_expire'] = df.expire_year +  \"-\" +  df.expire_month"
   ]
  },
  {
   "cell_type": "code",
   "execution_count": 55,
   "metadata": {},
   "outputs": [
    {
     "data": {
      "text/plain": [
       "currency\n",
       "CAD    221745 \n",
       "EUR    596    \n",
       "INR    1247   \n",
       "USD    4079543\n",
       "dtype: int64"
      ]
     },
     "execution_count": 55,
     "metadata": {},
     "output_type": "execute_result"
    }
   ],
   "source": [
    "df.groupby(['currency']).size()"
   ]
  },
  {
   "cell_type": "code",
   "execution_count": 56,
   "metadata": {},
   "outputs": [],
   "source": [
    "df['amount_in_currency'] = df.amount\n",
    "df.amount = pd.to_numeric(df.amount, errors=\"coerce\")"
   ]
  },
  {
   "cell_type": "code",
   "execution_count": 57,
   "metadata": {},
   "outputs": [
    {
     "data": {
      "text/plain": [
       "id                    object \n",
       "type                  object \n",
       "status                object \n",
       "created               object \n",
       "processed             object \n",
       "amount                float64\n",
       "currency              object \n",
       "pan                   object \n",
       "expiration_year       object \n",
       "expiration_month      object \n",
       "holder                object \n",
       "email                 object \n",
       "phone                 object \n",
       "address               object \n",
       "city                  object \n",
       "country               object \n",
       "zip                   object \n",
       "ip                    object \n",
       "project_id            object \n",
       "reported              object \n",
       "status_chargeback     object \n",
       "date_cb_only          object \n",
       "card_masked           object \n",
       "expire_year           object \n",
       "expire_month          object \n",
       "card_expire           object \n",
       "amount_in_currency    object \n",
       "dtype: object"
      ]
     },
     "execution_count": 57,
     "metadata": {},
     "output_type": "execute_result"
    }
   ],
   "source": [
    "df.dtypes"
   ]
  },
  {
   "cell_type": "code",
   "execution_count": 58,
   "metadata": {},
   "outputs": [],
   "source": [
    "USD_EUR = 0.90\n",
    "USD_CAD = 1.30\n",
    "USD_INR = 71.13\n",
    "USD_JPY = 108.94"
   ]
  },
  {
   "cell_type": "code",
   "execution_count": 62,
   "metadata": {},
   "outputs": [],
   "source": [
    "df.loc[df.currency == \"EUR\",'amount'] = df.loc[df.currency == \"EUR\",'amount'] / USD_EUR\n",
    "df.loc[df.currency == \"CAD\",'amount'] = df.loc[df.currency == \"CAD\",'amount'] / USD_CAD\n",
    "df.loc[df.currency == \"INR\",'amount'] = df.loc[df.currency == \"INR\",'amount'] / USD_INR\n",
    "df.loc[df.currency == \"JPY\",'amount'] = df.loc[df.currency == \"JPY\",'amount'] / USD_JPY"
   ]
  },
  {
   "cell_type": "code",
   "execution_count": 59,
   "metadata": {},
   "outputs": [
    {
     "data": {
      "text/plain": [
       "0.99"
      ]
     },
     "execution_count": 59,
     "metadata": {},
     "output_type": "execute_result"
    }
   ],
   "source": [
    "min(df.amount)"
   ]
  },
  {
   "cell_type": "code",
   "execution_count": 60,
   "metadata": {},
   "outputs": [
    {
     "data": {
      "text/plain": [
       "7000.0"
      ]
     },
     "execution_count": 60,
     "metadata": {},
     "output_type": "execute_result"
    }
   ],
   "source": [
    "max(df.amount)"
   ]
  },
  {
   "cell_type": "code",
   "execution_count": 61,
   "metadata": {},
   "outputs": [
    {
     "data": {
      "text/plain": [
       "95.66618982317763"
      ]
     },
     "execution_count": 61,
     "metadata": {},
     "output_type": "execute_result"
    }
   ],
   "source": [
    "df.amount.mean()"
   ]
  },
  {
   "cell_type": "code",
   "execution_count": 62,
   "metadata": {},
   "outputs": [
    {
     "data": {
      "text/plain": [
       "40.24"
      ]
     },
     "execution_count": 62,
     "metadata": {},
     "output_type": "execute_result"
    }
   ],
   "source": [
    "df.amount.median()"
   ]
  },
  {
   "cell_type": "code",
   "execution_count": 63,
   "metadata": {},
   "outputs": [],
   "source": [
    "df.amount = df.amount.round(2).astype(str)"
   ]
  },
  {
   "cell_type": "code",
   "execution_count": 64,
   "metadata": {},
   "outputs": [],
   "source": [
    "drop_columns = ['pan', 'expiration_year', 'expiration_month', 'expire_year', 'expire_month']\n",
    "df.drop(columns=drop_columns, axis=1, inplace=True)"
   ]
  },
  {
   "cell_type": "code",
   "execution_count": 65,
   "metadata": {},
   "outputs": [],
   "source": [
    "df.rename(inplace=True, columns={'id': 'order_id',\n",
    "                                 'created': 'date',\n",
    "                                 'card_holder': 'holder',\n",
    "                                 'city':'city_from_oder'})"
   ]
  },
  {
   "cell_type": "code",
   "execution_count": 66,
   "metadata": {},
   "outputs": [
    {
     "data": {
      "text/plain": [
       "['order_id',\n",
       " 'type',\n",
       " 'status',\n",
       " 'date',\n",
       " 'processed',\n",
       " 'amount',\n",
       " 'currency',\n",
       " 'holder',\n",
       " 'email',\n",
       " 'phone',\n",
       " 'address',\n",
       " 'city_from_oder',\n",
       " 'country',\n",
       " 'zip',\n",
       " 'ip',\n",
       " 'project_id',\n",
       " 'reported',\n",
       " 'status_chargeback',\n",
       " 'date_cb_only',\n",
       " 'card_masked',\n",
       " 'card_expire',\n",
       " 'amount_in_currency']"
      ]
     },
     "execution_count": 66,
     "metadata": {},
     "output_type": "execute_result"
    }
   ],
   "source": [
    "list(df)"
   ]
  },
  {
   "cell_type": "code",
   "execution_count": 71,
   "metadata": {},
   "outputs": [],
   "source": [
    "file_to_resolve_path = path_merch + \"/02_pure_data/ky9_for_resolve-from_jupyter.csv\"\n",
    "# df.to_csv(file_to_resolve_path, index=False, quoting=csv.QUOTE_ALL)"
   ]
  }
 ],
 "metadata": {
  "kernelspec": {
   "display_name": "Python 3",
   "language": "python",
   "name": "python3"
  },
  "language_info": {
   "codemirror_mode": {
    "name": "ipython",
    "version": 3
   },
   "file_extension": ".py",
   "mimetype": "text/x-python",
   "name": "python",
   "nbconvert_exporter": "python",
   "pygments_lexer": "ipython3",
   "version": "3.6.10"
  }
 },
 "nbformat": 4,
 "nbformat_minor": 1
}
