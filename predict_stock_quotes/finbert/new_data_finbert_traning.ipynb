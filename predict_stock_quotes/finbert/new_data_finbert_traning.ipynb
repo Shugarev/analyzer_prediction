{
 "cells": [
  {
   "cell_type": "code",
   "execution_count": 49,
   "metadata": {},
   "outputs": [],
   "source": [
    "#https://github.com/ProsusAI/finBERT"
   ]
  },
  {
   "cell_type": "code",
   "execution_count": 1,
   "metadata": {},
   "outputs": [],
   "source": [
    "# Create datafiles\n",
    "# cd\n",
    "# source ./anaconda3/bin/activate\n",
    "# conda activate finbert\n",
    "# cd /mnt/files/workdata/work/python-scripts/prediction_analyzer/predict-stock-quotes/finbert\n",
    "# python scripts/datasets.py --data_path /mnt/files/workdata/work/python-scripts/prediction_analyzer/predict-stock-quotes/finbert/data/benzinga_data/benzinga_text_labels.txt"
   ]
  },
  {
   "cell_type": "markdown",
   "metadata": {},
   "source": [
    "# FinBERT Example Notebook\n",
    "\n",
    "This notebooks shows how to train and use the FinBERT pre-trained language model for financial sentiment analysis."
   ]
  },
  {
   "cell_type": "markdown",
   "metadata": {},
   "source": [
    "## Modules "
   ]
  },
  {
   "cell_type": "code",
   "execution_count": 1,
   "metadata": {
    "ExecuteTime": {
     "end_time": "2020-03-23T15:55:04.902740Z",
     "start_time": "2020-03-23T15:55:04.876252Z"
    }
   },
   "outputs": [
    {
     "name": "stderr",
     "output_type": "stream",
     "text": [
      "/home/sergey/anaconda3/lib/python3.7/site-packages/ipykernel_launcher.py:22: FutureWarning: Passing a negative integer is deprecated in version 1.0 and will not be supported in future version. Instead, use None to not limit the column width.\n"
     ]
    }
   ],
   "source": [
    "from pathlib import Path\n",
    "import shutil\n",
    "from collections import Counter\n",
    "import os\n",
    "import logging\n",
    "import sys\n",
    "sys.path.append('..')\n",
    "\n",
    "from textblob import TextBlob\n",
    "from pprint import pprint\n",
    "from sklearn.metrics import classification_report\n",
    "\n",
    "from transformers import AutoModelForSequenceClassification\n",
    "\n",
    "from finbert.finbert import *\n",
    "import finbert.utils as tools\n",
    "\n",
    "%load_ext autoreload\n",
    "%autoreload 2\n",
    "\n",
    "project_dir = Path.cwd().parent\n",
    "pd.set_option('max_colwidth', -1)"
   ]
  },
  {
   "cell_type": "code",
   "execution_count": 2,
   "metadata": {
    "ExecuteTime": {
     "end_time": "2020-03-23T15:55:05.711210Z",
     "start_time": "2020-03-23T15:55:05.693609Z"
    }
   },
   "outputs": [],
   "source": [
    "logging.basicConfig(format = '%(asctime)s - %(levelname)s - %(name)s -   %(message)s',\n",
    "                    datefmt = '%m/%d/%Y %H:%M:%S',\n",
    "                    level = logging.ERROR)"
   ]
  },
  {
   "cell_type": "markdown",
   "metadata": {},
   "source": [
    "## Prepare the model"
   ]
  },
  {
   "cell_type": "markdown",
   "metadata": {},
   "source": [
    "### Setting path variables:\n",
    "1. `lm_path`: the path for the pre-trained language model (If vanilla Bert is used then no need to set this one).\n",
    "2. `cl_path`: the path where the classification model is saved.\n",
    "3. `cl_data_path`: the path of the directory that contains the data files of `train.csv`, `validation.csv`, `test.csv`.\n",
    "---\n",
    "\n",
    "In the initialization of `bertmodel`, we can either use the original pre-trained weights from Google by giving `bm = 'bert-base-uncased`, or our further pre-trained language model by `bm = lm_path`\n",
    "\n",
    "\n",
    "---\n",
    "All of the configurations with the model is controlled with the `config` variable. "
   ]
  },
  {
   "cell_type": "markdown",
   "metadata": {},
   "source": [
    "#### Path to models from docker container"
   ]
  },
  {
   "cell_type": "code",
   "execution_count": 3,
   "metadata": {},
   "outputs": [],
   "source": [
    "path_docker_models = project_dir /'models'/'docker_models'/'finbert_model'"
   ]
  },
  {
   "cell_type": "code",
   "execution_count": 17,
   "metadata": {},
   "outputs": [
    {
     "data": {
      "text/plain": [
       "PosixPath('/mnt/files/workdata/work/python-scripts/prediction_analyzer/predict_stock_quotes/finbert/data/sentiment_data')"
      ]
     },
     "execution_count": 17,
     "metadata": {},
     "output_type": "execute_result"
    }
   ],
   "source": [
    "cl_data_path"
   ]
  },
  {
   "cell_type": "code",
   "execution_count": 4,
   "metadata": {
    "ExecuteTime": {
     "end_time": "2020-03-23T15:55:07.405597Z",
     "start_time": "2020-03-23T15:55:07.386378Z"
    }
   },
   "outputs": [],
   "source": [
    "lm_path = path_docker_models\n",
    "cl_path = project_dir /'models'/'docker_models'/'finbert_model'/'prepare_model'\n",
    "cl_data_path = project_dir /'finbert'/'data'/'sentiment_data'"
   ]
  },
  {
   "cell_type": "markdown",
   "metadata": {},
   "source": [
    "###  Configuring training parameters"
   ]
  },
  {
   "cell_type": "markdown",
   "metadata": {},
   "source": [
    "You can find the explanations of the training parameters in the class docsctrings. "
   ]
  },
  {
   "cell_type": "code",
   "execution_count": 5,
   "metadata": {
    "ExecuteTime": {
     "end_time": "2020-03-23T15:55:12.378583Z",
     "start_time": "2020-03-23T15:55:09.196746Z"
    }
   },
   "outputs": [],
   "source": [
    "# Clean the cl_path\n",
    "try:\n",
    "    shutil.rmtree(cl_path) \n",
    "except:\n",
    "    pass\n",
    "\n",
    "bertmodel = AutoModelForSequenceClassification.from_pretrained(lm_path, cache_dir=None, num_labels=3)\n",
    "\n",
    "\n",
    "config = Config(   data_dir=cl_data_path,\n",
    "                   bert_model=bertmodel,\n",
    "                   num_train_epochs=4,\n",
    "                   model_dir=cl_path,\n",
    "                   max_seq_length = 48,\n",
    "                   train_batch_size = 32,\n",
    "                   learning_rate = 2e-5,\n",
    "                   output_mode='classification',\n",
    "                   warm_up_proportion=0.2,\n",
    "                   local_rank=-1,\n",
    "                   discriminate=True,\n",
    "                   gradual_unfreeze=True,\n",
    "                   \n",
    "               )"
   ]
  },
  {
   "cell_type": "markdown",
   "metadata": {},
   "source": [
    "`finbert` is our main class that encapsulates all the functionality. The list of class labels should be given in the prepare_model method call with label_list parameter."
   ]
  },
  {
   "cell_type": "code",
   "execution_count": 8,
   "metadata": {
    "ExecuteTime": {
     "end_time": "2020-03-23T15:55:16.657078Z",
     "start_time": "2020-03-23T15:55:16.639644Z"
    }
   },
   "outputs": [],
   "source": [
    "finbert = FinBert(config)\n",
    "finbert.base_model = 'bert-base-uncased'\n",
    "finbert.config.discriminate=True\n",
    "finbert.config.gradual_unfreeze=True"
   ]
  },
  {
   "cell_type": "code",
   "execution_count": 9,
   "metadata": {
    "ExecuteTime": {
     "end_time": "2020-03-23T15:55:17.850734Z",
     "start_time": "2020-03-23T15:55:17.368073Z"
    }
   },
   "outputs": [
    {
     "name": "stderr",
     "output_type": "stream",
     "text": [
      "06/11/2021 15:36:00 - INFO - finbert.finbert -   device: cpu n_gpu: 0, distributed training: False, 16-bits training: False\n"
     ]
    }
   ],
   "source": [
    "finbert.prepare_model(label_list=['positive', 'negative', 'neutral'])"
   ]
  },
  {
   "cell_type": "markdown",
   "metadata": {},
   "source": [
    "## Fine-tune the model"
   ]
  },
  {
   "cell_type": "code",
   "execution_count": 20,
   "metadata": {
    "ExecuteTime": {
     "end_time": "2020-03-23T15:55:19.395707Z",
     "start_time": "2020-03-23T15:55:19.349642Z"
    },
    "scrolled": true
   },
   "outputs": [],
   "source": [
    "# Get the training examples\n",
    "train_data = finbert.get_data('train')"
   ]
  },
  {
   "cell_type": "code",
   "execution_count": 23,
   "metadata": {
    "ExecuteTime": {
     "end_time": "2020-03-23T15:55:25.912424Z",
     "start_time": "2020-03-23T15:55:20.065887Z"
    }
   },
   "outputs": [],
   "source": [
    "model = finbert.create_the_model()"
   ]
  },
  {
   "cell_type": "markdown",
   "metadata": {},
   "source": [
    "### [Optional] Fine-tune only a subset of the model\n",
    "The variable `freeze` determines the last layer (out of 12) to be freezed. You can skip this part if you want to fine-tune the whole model.\n",
    "\n",
    "<span style=\"color:red\">Important: </span>\n",
    "Execute this step if you want a shorter training time in the expense of accuracy."
   ]
  },
  {
   "cell_type": "code",
   "execution_count": 50,
   "metadata": {},
   "outputs": [],
   "source": [
    "#This is for fine-tuning a subset of the model.\n",
    "\n",
    "# freeze = 6\n",
    "\n",
    "# for param in model.bert.embeddings.parameters():\n",
    "#     param.requires_grad = False\n",
    "    \n",
    "# for i in range(freeze):\n",
    "#     for param in model.bert.encoder.layer[i].parameters():\n",
    "#         param.requires_grad = False"
   ]
  },
  {
   "cell_type": "markdown",
   "metadata": {},
   "source": [
    "### Training"
   ]
  },
  {
   "cell_type": "code",
   "execution_count": 24,
   "metadata": {
    "ExecuteTime": {
     "end_time": "2020-03-23T15:58:35.486890Z",
     "start_time": "2020-03-23T15:55:27.293772Z"
    },
    "scrolled": true
   },
   "outputs": [
    {
     "name": "stderr",
     "output_type": "stream",
     "text": [
      "06/11/2021 15:57:51 - INFO - finbert.utils -   *** Example ***\n",
      "06/11/2021 15:57:51 - INFO - finbert.utils -   guid: train-1\n",
      "06/11/2021 15:57:51 - INFO - finbert.utils -   tokens: [CLS] has anyone seen this ‚ au ##re ##gul ##atory fee ? ‚ au what percentage is the fee ? can only be seen of you scroll down on a past sale order . [SEP]\n",
      "06/11/2021 15:57:51 - INFO - finbert.utils -   input_ids: 101 2038 3087 2464 2023 1522 8740 2890 24848 14049 7408 1029 1522 8740 2054 7017 2003 1996 7408 1029 2064 2069 2022 2464 1997 2017 17186 2091 2006 1037 2627 5096 2344 1012 102 0 0 0 0 0 0 0 0 0 0 0 0 0\n",
      "06/11/2021 15:57:51 - INFO - finbert.utils -   attention_mask: 1 1 1 1 1 1 1 1 1 1 1 1 1 1 1 1 1 1 1 1 1 1 1 1 1 1 1 1 1 1 1 1 1 1 1 0 0 0 0 0 0 0 0 0 0 0 0 0\n",
      "06/11/2021 15:57:51 - INFO - finbert.utils -   token_type_ids: 0 0 0 0 0 0 0 0 0 0 0 0 0 0 0 0 0 0 0 0 0 0 0 0 0 0 0 0 0 0 0 0 0 0 0 0 0 0 0 0 0 0 0 0 0 0 0 0\n",
      "06/11/2021 15:57:51 - INFO - finbert.utils -   label: neutral (id = 2)\n",
      "06/11/2021 15:57:52 - INFO - finbert.finbert -   ***** Loading data *****\n",
      "06/11/2021 15:57:52 - INFO - finbert.finbert -     Num examples = 7942\n",
      "06/11/2021 15:57:52 - INFO - finbert.finbert -     Batch size = 32\n",
      "06/11/2021 15:57:52 - INFO - finbert.finbert -     Num steps = 204\n",
      "Epoch:   0%|          | 0/4 [00:00<?, ?it/s]"
     ]
    },
    {
     "data": {
      "application/vnd.jupyter.widget-view+json": {
       "model_id": "b0ba20680e584f5198e67e1a8ea410a9",
       "version_major": 2,
       "version_minor": 0
      },
      "text/plain": [
       "Iteration:   0%|          | 0/249 [00:00<?, ?it/s]"
      ]
     },
     "metadata": {},
     "output_type": "display_data"
    },
    {
     "name": "stderr",
     "output_type": "stream",
     "text": [
      "06/11/2021 16:01:51 - INFO - finbert.utils -   *** Example ***\n",
      "06/11/2021 16:01:51 - INFO - finbert.utils -   guid: validation-1\n",
      "06/11/2021 16:01:51 - INFO - finbert.utils -   tokens: [CLS] morgan stanley maintains over ##weight on q ##or ##vo , raises price target to $ 223 [SEP]\n",
      "06/11/2021 16:01:51 - INFO - finbert.utils -   input_ids: 101 5253 6156 9319 2058 11179 2006 1053 2953 6767 1010 13275 3976 4539 2000 1002 20802 102 0 0 0 0 0 0 0 0 0 0 0 0 0 0 0 0 0 0 0 0 0 0 0 0 0 0 0 0 0 0\n",
      "06/11/2021 16:01:51 - INFO - finbert.utils -   attention_mask: 1 1 1 1 1 1 1 1 1 1 1 1 1 1 1 1 1 1 0 0 0 0 0 0 0 0 0 0 0 0 0 0 0 0 0 0 0 0 0 0 0 0 0 0 0 0 0 0\n",
      "06/11/2021 16:01:51 - INFO - finbert.utils -   token_type_ids: 0 0 0 0 0 0 0 0 0 0 0 0 0 0 0 0 0 0 0 0 0 0 0 0 0 0 0 0 0 0 0 0 0 0 0 0 0 0 0 0 0 0 0 0 0 0 0 0\n",
      "06/11/2021 16:01:51 - INFO - finbert.utils -   label: positive (id = 0)\n",
      "06/11/2021 16:01:51 - INFO - finbert.finbert -   ***** Loading data *****\n",
      "06/11/2021 16:01:51 - INFO - finbert.finbert -     Num examples = 1656\n",
      "06/11/2021 16:01:51 - INFO - finbert.finbert -     Batch size = 32\n",
      "06/11/2021 16:01:51 - INFO - finbert.finbert -     Num steps = 204\n"
     ]
    },
    {
     "data": {
      "application/vnd.jupyter.widget-view+json": {
       "model_id": "d5d981e5f5e948c1a665a090b778f9df",
       "version_major": 2,
       "version_minor": 0
      },
      "text/plain": [
       "Validating:   0%|          | 0/52 [00:00<?, ?it/s]"
      ]
     },
     "metadata": {},
     "output_type": "display_data"
    },
    {
     "name": "stdout",
     "output_type": "stream",
     "text": [
      "Validation losses: [0.42696812003850937]\n",
      "No best model found\n"
     ]
    },
    {
     "name": "stderr",
     "output_type": "stream",
     "text": [
      "Epoch:  25%|██▌       | 1/4 [04:37<13:51, 277.16s/it]"
     ]
    },
    {
     "data": {
      "application/vnd.jupyter.widget-view+json": {
       "model_id": "1302a1cc007a4074be22dc79ddecb277",
       "version_major": 2,
       "version_minor": 0
      },
      "text/plain": [
       "Iteration:   0%|          | 0/249 [00:00<?, ?it/s]"
      ]
     },
     "metadata": {},
     "output_type": "display_data"
    },
    {
     "name": "stderr",
     "output_type": "stream",
     "text": [
      "06/11/2021 16:08:04 - INFO - finbert.utils -   *** Example ***\n",
      "06/11/2021 16:08:04 - INFO - finbert.utils -   guid: validation-1\n",
      "06/11/2021 16:08:04 - INFO - finbert.utils -   tokens: [CLS] morgan stanley maintains over ##weight on q ##or ##vo , raises price target to $ 223 [SEP]\n",
      "06/11/2021 16:08:04 - INFO - finbert.utils -   input_ids: 101 5253 6156 9319 2058 11179 2006 1053 2953 6767 1010 13275 3976 4539 2000 1002 20802 102 0 0 0 0 0 0 0 0 0 0 0 0 0 0 0 0 0 0 0 0 0 0 0 0 0 0 0 0 0 0\n",
      "06/11/2021 16:08:04 - INFO - finbert.utils -   attention_mask: 1 1 1 1 1 1 1 1 1 1 1 1 1 1 1 1 1 1 0 0 0 0 0 0 0 0 0 0 0 0 0 0 0 0 0 0 0 0 0 0 0 0 0 0 0 0 0 0\n",
      "06/11/2021 16:08:04 - INFO - finbert.utils -   token_type_ids: 0 0 0 0 0 0 0 0 0 0 0 0 0 0 0 0 0 0 0 0 0 0 0 0 0 0 0 0 0 0 0 0 0 0 0 0 0 0 0 0 0 0 0 0 0 0 0 0\n",
      "06/11/2021 16:08:04 - INFO - finbert.utils -   label: positive (id = 0)\n",
      "06/11/2021 16:08:04 - INFO - finbert.finbert -   ***** Loading data *****\n",
      "06/11/2021 16:08:04 - INFO - finbert.finbert -     Num examples = 1656\n",
      "06/11/2021 16:08:04 - INFO - finbert.finbert -     Batch size = 32\n",
      "06/11/2021 16:08:04 - INFO - finbert.finbert -     Num steps = 204\n"
     ]
    },
    {
     "data": {
      "application/vnd.jupyter.widget-view+json": {
       "model_id": "bc11fbbc404d498a8d079eb3109e7b5f",
       "version_major": 2,
       "version_minor": 0
      },
      "text/plain": [
       "Validating:   0%|          | 0/52 [00:00<?, ?it/s]"
      ]
     },
     "metadata": {},
     "output_type": "display_data"
    },
    {
     "name": "stderr",
     "output_type": "stream",
     "text": [
      "Epoch:  50%|█████     | 2/4 [10:49<11:06, 333.13s/it]"
     ]
    },
    {
     "name": "stdout",
     "output_type": "stream",
     "text": [
      "Validation losses: [0.42696812003850937, 0.46287959226622033]\n"
     ]
    },
    {
     "data": {
      "application/vnd.jupyter.widget-view+json": {
       "model_id": "f6d744cbac804ea2b38c03e3574b0b2c",
       "version_major": 2,
       "version_minor": 0
      },
      "text/plain": [
       "Iteration:   0%|          | 0/249 [00:00<?, ?it/s]"
      ]
     },
     "metadata": {},
     "output_type": "display_data"
    },
    {
     "name": "stderr",
     "output_type": "stream",
     "text": [
      "06/11/2021 16:16:09 - INFO - finbert.utils -   *** Example ***\n",
      "06/11/2021 16:16:09 - INFO - finbert.utils -   guid: validation-1\n",
      "06/11/2021 16:16:09 - INFO - finbert.utils -   tokens: [CLS] morgan stanley maintains over ##weight on q ##or ##vo , raises price target to $ 223 [SEP]\n",
      "06/11/2021 16:16:09 - INFO - finbert.utils -   input_ids: 101 5253 6156 9319 2058 11179 2006 1053 2953 6767 1010 13275 3976 4539 2000 1002 20802 102 0 0 0 0 0 0 0 0 0 0 0 0 0 0 0 0 0 0 0 0 0 0 0 0 0 0 0 0 0 0\n",
      "06/11/2021 16:16:09 - INFO - finbert.utils -   attention_mask: 1 1 1 1 1 1 1 1 1 1 1 1 1 1 1 1 1 1 0 0 0 0 0 0 0 0 0 0 0 0 0 0 0 0 0 0 0 0 0 0 0 0 0 0 0 0 0 0\n",
      "06/11/2021 16:16:09 - INFO - finbert.utils -   token_type_ids: 0 0 0 0 0 0 0 0 0 0 0 0 0 0 0 0 0 0 0 0 0 0 0 0 0 0 0 0 0 0 0 0 0 0 0 0 0 0 0 0 0 0 0 0 0 0 0 0\n",
      "06/11/2021 16:16:09 - INFO - finbert.utils -   label: positive (id = 0)\n",
      "06/11/2021 16:16:09 - INFO - finbert.finbert -   ***** Loading data *****\n",
      "06/11/2021 16:16:09 - INFO - finbert.finbert -     Num examples = 1656\n",
      "06/11/2021 16:16:09 - INFO - finbert.finbert -     Batch size = 32\n",
      "06/11/2021 16:16:09 - INFO - finbert.finbert -     Num steps = 204\n"
     ]
    },
    {
     "data": {
      "application/vnd.jupyter.widget-view+json": {
       "model_id": "09138acd668a4f83a823c7893c13f9f9",
       "version_major": 2,
       "version_minor": 0
      },
      "text/plain": [
       "Validating:   0%|          | 0/52 [00:00<?, ?it/s]"
      ]
     },
     "metadata": {},
     "output_type": "display_data"
    },
    {
     "name": "stderr",
     "output_type": "stream",
     "text": [
      "Epoch:  75%|███████▌  | 3/4 [18:58<06:44, 404.13s/it]"
     ]
    },
    {
     "name": "stdout",
     "output_type": "stream",
     "text": [
      "Validation losses: [0.42696812003850937, 0.46287959226622033, 0.456798695314389]\n"
     ]
    },
    {
     "data": {
      "application/vnd.jupyter.widget-view+json": {
       "model_id": "adcee69677bc45a1a0b54e6ac6cbe722",
       "version_major": 2,
       "version_minor": 0
      },
      "text/plain": [
       "Iteration:   0%|          | 0/249 [00:00<?, ?it/s]"
      ]
     },
     "metadata": {},
     "output_type": "display_data"
    },
    {
     "name": "stderr",
     "output_type": "stream",
     "text": [
      "06/11/2021 16:26:07 - INFO - finbert.utils -   *** Example ***\n",
      "06/11/2021 16:26:07 - INFO - finbert.utils -   guid: validation-1\n",
      "06/11/2021 16:26:07 - INFO - finbert.utils -   tokens: [CLS] morgan stanley maintains over ##weight on q ##or ##vo , raises price target to $ 223 [SEP]\n",
      "06/11/2021 16:26:07 - INFO - finbert.utils -   input_ids: 101 5253 6156 9319 2058 11179 2006 1053 2953 6767 1010 13275 3976 4539 2000 1002 20802 102 0 0 0 0 0 0 0 0 0 0 0 0 0 0 0 0 0 0 0 0 0 0 0 0 0 0 0 0 0 0\n",
      "06/11/2021 16:26:07 - INFO - finbert.utils -   attention_mask: 1 1 1 1 1 1 1 1 1 1 1 1 1 1 1 1 1 1 0 0 0 0 0 0 0 0 0 0 0 0 0 0 0 0 0 0 0 0 0 0 0 0 0 0 0 0 0 0\n",
      "06/11/2021 16:26:07 - INFO - finbert.utils -   token_type_ids: 0 0 0 0 0 0 0 0 0 0 0 0 0 0 0 0 0 0 0 0 0 0 0 0 0 0 0 0 0 0 0 0 0 0 0 0 0 0 0 0 0 0 0 0 0 0 0 0\n",
      "06/11/2021 16:26:07 - INFO - finbert.utils -   label: positive (id = 0)\n",
      "06/11/2021 16:26:07 - INFO - finbert.finbert -   ***** Loading data *****\n",
      "06/11/2021 16:26:07 - INFO - finbert.finbert -     Num examples = 1656\n",
      "06/11/2021 16:26:07 - INFO - finbert.finbert -     Batch size = 32\n",
      "06/11/2021 16:26:07 - INFO - finbert.finbert -     Num steps = 204\n"
     ]
    },
    {
     "data": {
      "application/vnd.jupyter.widget-view+json": {
       "model_id": "091dc69e30114f1b862df0265f1424e9",
       "version_major": 2,
       "version_minor": 0
      },
      "text/plain": [
       "Validating:   0%|          | 0/52 [00:00<?, ?it/s]"
      ]
     },
     "metadata": {},
     "output_type": "display_data"
    },
    {
     "name": "stderr",
     "output_type": "stream",
     "text": [
      "Epoch: 100%|██████████| 4/4 [28:55<00:00, 433.88s/it]"
     ]
    },
    {
     "name": "stdout",
     "output_type": "stream",
     "text": [
      "Validation losses: [0.42696812003850937, 0.46287959226622033, 0.456798695314389, 0.4658872416386238]\n"
     ]
    },
    {
     "name": "stderr",
     "output_type": "stream",
     "text": [
      "\n"
     ]
    }
   ],
   "source": [
    "trained_model = finbert.train(train_examples = train_data, model = model)"
   ]
  },
  {
   "cell_type": "code",
   "execution_count": 25,
   "metadata": {},
   "outputs": [],
   "source": [
    "# 2021-06-11 Validation losses: [0.42696812003850937, 0.46287959226622033, 0.456798695314389, 0.4658872416386238]"
   ]
  },
  {
   "cell_type": "markdown",
   "metadata": {},
   "source": [
    "## Test the model\n",
    "\n",
    "`bert.evaluate` outputs the DataFrame, where true labels and logit values for each example is given"
   ]
  },
  {
   "cell_type": "code",
   "execution_count": 35,
   "metadata": {
    "ExecuteTime": {
     "end_time": "2020-03-23T15:58:40.056789Z",
     "start_time": "2020-03-23T15:58:40.023198Z"
    }
   },
   "outputs": [],
   "source": [
    "# test_data = finbert.get_data('test')\n",
    "test_data = finbert.get_data('test')"
   ]
  },
  {
   "cell_type": "code",
   "execution_count": 36,
   "metadata": {
    "ExecuteTime": {
     "end_time": "2020-03-23T15:58:48.248044Z",
     "start_time": "2020-03-23T15:58:41.699009Z"
    },
    "scrolled": true
   },
   "outputs": [
    {
     "name": "stderr",
     "output_type": "stream",
     "text": [
      "06/14/2021 11:08:13 - INFO - finbert.utils -   *** Example ***\n",
      "06/14/2021 11:08:13 - INFO - finbert.utils -   guid: test-1\n",
      "06/14/2021 11:08:13 - INFO - finbert.utils -   tokens: [CLS] rec ##ap : der ##mt ##ech q ##1 earnings [SEP]\n",
      "06/14/2021 11:08:13 - INFO - finbert.utils -   input_ids: 101 28667 9331 1024 4315 20492 15937 1053 2487 16565 102 0 0 0 0 0 0 0 0 0 0 0 0 0 0 0 0 0 0 0 0 0 0 0 0 0 0 0 0 0 0 0 0 0 0 0 0 0\n",
      "06/14/2021 11:08:13 - INFO - finbert.utils -   attention_mask: 1 1 1 1 1 1 1 1 1 1 1 0 0 0 0 0 0 0 0 0 0 0 0 0 0 0 0 0 0 0 0 0 0 0 0 0 0 0 0 0 0 0 0 0 0 0 0 0\n",
      "06/14/2021 11:08:13 - INFO - finbert.utils -   token_type_ids: 0 0 0 0 0 0 0 0 0 0 0 0 0 0 0 0 0 0 0 0 0 0 0 0 0 0 0 0 0 0 0 0 0 0 0 0 0 0 0 0 0 0 0 0 0 0 0 0\n",
      "06/14/2021 11:08:13 - INFO - finbert.utils -   label: neutral (id = 2)\n",
      "06/14/2021 11:08:13 - INFO - finbert.finbert -   ***** Loading data *****\n",
      "06/14/2021 11:08:13 - INFO - finbert.finbert -     Num examples = 5665\n",
      "06/14/2021 11:08:13 - INFO - finbert.finbert -     Batch size = 32\n",
      "06/14/2021 11:08:13 - INFO - finbert.finbert -     Num steps = 708\n",
      "06/14/2021 11:08:13 - INFO - finbert.finbert -   ***** Running evaluation ***** \n",
      "06/14/2021 11:08:13 - INFO - finbert.finbert -     Num examples = 5665\n",
      "06/14/2021 11:08:13 - INFO - finbert.finbert -     Batch size = 32\n"
     ]
    },
    {
     "data": {
      "application/vnd.jupyter.widget-view+json": {
       "model_id": "5fd3b197bd5d4b03835044bd725de6ed",
       "version_major": 2,
       "version_minor": 0
      },
      "text/plain": [
       "Testing:   0%|          | 0/178 [00:00<?, ?it/s]"
      ]
     },
     "metadata": {},
     "output_type": "display_data"
    }
   ],
   "source": [
    "results = finbert.evaluate(examples=test_data, model=trained_model)"
   ]
  },
  {
   "cell_type": "code",
   "execution_count": 37,
   "metadata": {
    "ExecuteTime": {
     "end_time": "2020-03-23T15:58:51.361079Z",
     "start_time": "2020-03-23T15:58:51.339548Z"
    }
   },
   "outputs": [],
   "source": [
    "def report(df, cols=['label','prediction','logits']):\n",
    "    #print('Validation loss:{0:.2f}'.format(metrics['best_validation_loss']))\n",
    "    cs = CrossEntropyLoss(weight=finbert.class_weights)\n",
    "    loss = cs(torch.tensor(list(df[cols[2]])),torch.tensor(list(df[cols[0]])))\n",
    "    print(\"Loss:{0:.2f}\".format(loss))\n",
    "    print(\"Accuracy:{0:.2f}\".format((df[cols[0]] == df[cols[1]]).sum() / df.shape[0]) )\n",
    "    print(\"\\nClassification Report:\")\n",
    "    print(classification_report(df[cols[0]], df[cols[1]]))"
   ]
  },
  {
   "cell_type": "code",
   "execution_count": 38,
   "metadata": {
    "ExecuteTime": {
     "end_time": "2020-03-23T15:58:53.190447Z",
     "start_time": "2020-03-23T15:58:53.166729Z"
    }
   },
   "outputs": [],
   "source": [
    "results['prediction'] = results.predictions.apply(lambda x: np.argmax(x, axis=0))"
   ]
  },
  {
   "cell_type": "code",
   "execution_count": 44,
   "metadata": {},
   "outputs": [
    {
     "name": "stderr",
     "output_type": "stream",
     "text": [
      "06/14/2021 11:10:36 - INFO - numexpr.utils -   NumExpr defaulting to 8 threads.\n"
     ]
    },
    {
     "name": "stdout",
     "output_type": "stream",
     "text": [
      "Loss:0.41\n",
      "Accuracy:0.85\n",
      "\n",
      "Classification Report:\n",
      "              precision    recall  f1-score   support\n",
      "\n",
      "           0       0.87      0.86      0.87      2530\n",
      "           1       0.74      0.83      0.78       797\n",
      "           2       0.86      0.84      0.85      2338\n",
      "\n",
      "    accuracy                           0.85      5665\n",
      "   macro avg       0.82      0.84      0.83      5665\n",
      "weighted avg       0.85      0.85      0.85      5665\n",
      "\n"
     ]
    }
   ],
   "source": [
    "report(results,cols=['labels','prediction','predictions'])"
   ]
  },
  {
   "cell_type": "markdown",
   "metadata": {},
   "source": [
    "### Get predictions"
   ]
  },
  {
   "cell_type": "code",
   "execution_count": 39,
   "metadata": {},
   "outputs": [],
   "source": [
    "db_test = pd.read_csv(str(cl_data_path) + '/test.csv', sep='\\t')"
   ]
  },
  {
   "cell_type": "code",
   "execution_count": 40,
   "metadata": {},
   "outputs": [],
   "source": [
    "db_test['prediction'] = results.prediction"
   ]
  },
  {
   "cell_type": "code",
   "execution_count": 41,
   "metadata": {},
   "outputs": [],
   "source": [
    "label_finbert = {'positive': 0,'negative': 1, 'neutral': 2}\n",
    "finbert_label = {0: 'positive', 1: 'negative', 2: 'neutral'}"
   ]
  },
  {
   "cell_type": "code",
   "execution_count": 42,
   "metadata": {},
   "outputs": [
    {
     "data": {
      "text/html": [
       "<div>\n",
       "<style scoped>\n",
       "    .dataframe tbody tr th:only-of-type {\n",
       "        vertical-align: middle;\n",
       "    }\n",
       "\n",
       "    .dataframe tbody tr th {\n",
       "        vertical-align: top;\n",
       "    }\n",
       "\n",
       "    .dataframe thead th {\n",
       "        text-align: right;\n",
       "    }\n",
       "</style>\n",
       "<table border=\"1\" class=\"dataframe\">\n",
       "  <thead>\n",
       "    <tr style=\"text-align: right;\">\n",
       "      <th></th>\n",
       "      <th>Unnamed: 0</th>\n",
       "      <th>text</th>\n",
       "      <th>label</th>\n",
       "      <th>prediction</th>\n",
       "      <th>label_num</th>\n",
       "      <th>predict_label</th>\n",
       "    </tr>\n",
       "  </thead>\n",
       "  <tbody>\n",
       "    <tr>\n",
       "      <th>0</th>\n",
       "      <td>14687</td>\n",
       "      <td>Recap: DermTech Q1 Earnings</td>\n",
       "      <td>neutral</td>\n",
       "      <td>2</td>\n",
       "      <td>2</td>\n",
       "      <td>neutral</td>\n",
       "    </tr>\n",
       "    <tr>\n",
       "      <th>1</th>\n",
       "      <td>5190</td>\n",
       "      <td>Roth Capital Maintains Buy on Perion Network, Raises Price Target to $34</td>\n",
       "      <td>positive</td>\n",
       "      <td>0</td>\n",
       "      <td>0</td>\n",
       "      <td>positive</td>\n",
       "    </tr>\n",
       "    <tr>\n",
       "      <th>2</th>\n",
       "      <td>13748</td>\n",
       "      <td>Morgan Stanley Maintains Equal-Weight on Datadog, Raises Price Target to $120</td>\n",
       "      <td>positive</td>\n",
       "      <td>0</td>\n",
       "      <td>0</td>\n",
       "      <td>positive</td>\n",
       "    </tr>\n",
       "    <tr>\n",
       "      <th>3</th>\n",
       "      <td>15606</td>\n",
       "      <td>Hill-Rom Holdings FQ2 2021 Earnings Preview</td>\n",
       "      <td>neutral</td>\n",
       "      <td>2</td>\n",
       "      <td>2</td>\n",
       "      <td>neutral</td>\n",
       "    </tr>\n",
       "    <tr>\n",
       "      <th>4</th>\n",
       "      <td>16522</td>\n",
       "      <td>Apple Q2 Earnings Report Reinforces It Will Be \\'Top-Performing\\' FAANG Stock Of 2021, Says Munster</td>\n",
       "      <td>neutral</td>\n",
       "      <td>2</td>\n",
       "      <td>2</td>\n",
       "      <td>neutral</td>\n",
       "    </tr>\n",
       "  </tbody>\n",
       "</table>\n",
       "</div>"
      ],
      "text/plain": [
       "   Unnamed: 0  \\\n",
       "0  14687        \n",
       "1  5190         \n",
       "2  13748        \n",
       "3  15606        \n",
       "4  16522        \n",
       "\n",
       "                                                                                                  text  \\\n",
       "0  Recap: DermTech Q1 Earnings                                                                           \n",
       "1  Roth Capital Maintains Buy on Perion Network, Raises Price Target to $34                              \n",
       "2  Morgan Stanley Maintains Equal-Weight on Datadog, Raises Price Target to $120                         \n",
       "3  Hill-Rom Holdings FQ2 2021 Earnings Preview                                                           \n",
       "4  Apple Q2 Earnings Report Reinforces It Will Be \\'Top-Performing\\' FAANG Stock Of 2021, Says Munster   \n",
       "\n",
       "      label  prediction  label_num predict_label  \n",
       "0  neutral   2           2          neutral       \n",
       "1  positive  0           0          positive      \n",
       "2  positive  0           0          positive      \n",
       "3  neutral   2           2          neutral       \n",
       "4  neutral   2           2          neutral       "
      ]
     },
     "execution_count": 42,
     "metadata": {},
     "output_type": "execute_result"
    }
   ],
   "source": [
    "db_test['label_num'] = db_test['label'].replace(label_finbert)\n",
    "db_test['predict_label'] =  db_test['prediction'].replace(finbert_label)\n",
    "db_test.head()"
   ]
  },
  {
   "cell_type": "code",
   "execution_count": 43,
   "metadata": {},
   "outputs": [
    {
     "name": "stdout",
     "output_type": "stream",
     "text": [
      "              precision    recall  f1-score   support\n",
      "\n",
      "           0    0.87325   0.86047   0.86681      2530\n",
      "           1    0.73549   0.82685   0.77850       797\n",
      "           2    0.86380   0.84089   0.85219      2338\n",
      "\n",
      "    accuracy                        0.84766      5665\n",
      "   macro avg    0.82418   0.84274   0.83250      5665\n",
      "weighted avg    0.84997   0.84766   0.84835      5665\n",
      "\n"
     ]
    }
   ],
   "source": [
    "from sklearn.metrics import classification_report\n",
    "\n",
    "y_test = db_test['label_num'].values\n",
    "predicted = db_test['prediction'].values\n",
    "\n",
    "print(classification_report(y_test, predicted, digits=5))"
   ]
  },
  {
   "cell_type": "code",
   "execution_count": null,
   "metadata": {},
   "outputs": [],
   "source": [
    "# 2021-06-11 - train file - 8K and new traning model result\n",
    "#               precision    recall  f1-score   support\n",
    "\n",
    "#            0    0.86189   0.86007   0.86098      1901\n",
    "#            1    0.74151   0.84228   0.78869       596\n",
    "#            2    0.85623   0.81608   0.83567      1642\n",
    "\n",
    "#     accuracy                        0.84006      4139\n",
    "#    macro avg    0.81987   0.83948   0.82845      4139\n",
    "# weighted avg    0.84231   0.84006   0.84053      4139"
   ]
  },
  {
   "cell_type": "code",
   "execution_count": null,
   "metadata": {},
   "outputs": [],
   "source": [
    "# 2021-06-06 - train file - 21K resault\n",
    "#               precision    recall  f1-score   support\n",
    "\n",
    "#            0    0.84095   0.87191   0.85615      1983\n",
    "#            1    0.71965   0.78922   0.75283       631\n",
    "#            2    0.87508   0.80872   0.84059      1767\n",
    "\n",
    "#     accuracy                        0.83451      4381\n",
    "#    macro avg    0.81189   0.82328   0.81653      4381\n",
    "# weighted avg    0.83725   0.83451   0.83499      4381"
   ]
  }
 ],
 "metadata": {
  "kernelspec": {
   "display_name": "Python 3",
   "language": "python",
   "name": "python3"
  },
  "language_info": {
   "codemirror_mode": {
    "name": "ipython",
    "version": 3
   },
   "file_extension": ".py",
   "mimetype": "text/x-python",
   "name": "python",
   "nbconvert_exporter": "python",
   "pygments_lexer": "ipython3",
   "version": "3.7.6"
  },
  "pycharm": {
   "stem_cell": {
    "cell_type": "raw",
    "metadata": {
     "collapsed": false
    },
    "source": []
   }
  },
  "toc": {
   "base_numbering": 1,
   "nav_menu": {},
   "number_sections": true,
   "sideBar": true,
   "skip_h1_title": true,
   "title_cell": "Table of Contents",
   "title_sidebar": "Contents",
   "toc_cell": false,
   "toc_position": {},
   "toc_section_display": true,
   "toc_window_display": true
  }
 },
 "nbformat": 4,
 "nbformat_minor": 4
}
