{
 "cells": [
  {
   "cell_type": "code",
   "execution_count": 1,
   "metadata": {},
   "outputs": [],
   "source": [
    "import pandas as pd \n",
    "import numpy as np\n",
    "import re\n",
    "import csv\n",
    "from sklearn.model_selection import train_test_split\n",
    "from collections import Counter\n",
    "\n",
    "pd.set_option('display.max_colwidth', 1000)\n",
    "pd.set_option('display.max_rows', 200)"
   ]
  },
  {
   "cell_type": "code",
   "execution_count": 2,
   "metadata": {},
   "outputs": [],
   "source": [
    "%load_ext autoreload\n",
    "%autoreload 2"
   ]
  },
  {
   "cell_type": "code",
   "execution_count": 3,
   "metadata": {},
   "outputs": [
    {
     "name": "stdout",
     "output_type": "stream",
     "text": [
      "(29006, 6)\n"
     ]
    }
   ],
   "source": [
    "path = '/mnt/files/workdata/work/python-scripts/prediction_analyzer/predict_stock_quotes/data/data-2021-06-10/'\n",
    "file_new = path + 'trainingset _1_.xlsx'\n",
    "df_new = pd.read_excel(file_new, dtype=str)\n",
    "print(df_new.shape)\n",
    "#29006"
   ]
  },
  {
   "cell_type": "code",
   "execution_count": 100,
   "metadata": {},
   "outputs": [
    {
     "name": "stdout",
     "output_type": "stream",
     "text": [
      "(21129, 8)\n"
     ]
    }
   ],
   "source": [
    "path = '/mnt/files/workdata/work/python-scripts/prediction_analyzer/predict_stock_quotes/data/'\n",
    "\n",
    "file_old = path + '21K-predict.csv'\n",
    "df_old = pd.read_csv(file_old,  dtype=str)\n",
    "\n",
    "print(df_old.shape)\n",
    "# (21129, 8)"
   ]
  },
  {
   "cell_type": "code",
   "execution_count": 101,
   "metadata": {},
   "outputs": [],
   "source": [
    "df_old_sub = df_old[['title', 'Unnamed: 2']].copy()\n",
    "df_old_sub.columns = ['title', 'SENTIMENT']"
   ]
  },
  {
   "cell_type": "code",
   "execution_count": 4,
   "metadata": {},
   "outputs": [],
   "source": [
    "df_new_sub = df_new[['title', 'znak']].copy()\n",
    "df_new_sub.columns = ['title', 'SENTIMENT']"
   ]
  },
  {
   "cell_type": "markdown",
   "metadata": {},
   "source": [
    "#### For new data"
   ]
  },
  {
   "cell_type": "code",
   "execution_count": 6,
   "metadata": {},
   "outputs": [],
   "source": [
    "# mask = df_new_sub['title'].isin(df_old_sub['title'])\n",
    "# df_unique =  df_new_sub[~ mask].copy()\n",
    "# print(df_unique.shape[0])"
   ]
  },
  {
   "cell_type": "markdown",
   "metadata": {},
   "source": [
    "#### For old data"
   ]
  },
  {
   "cell_type": "code",
   "execution_count": 7,
   "metadata": {},
   "outputs": [
    {
     "name": "stdout",
     "output_type": "stream",
     "text": [
      "29006\n"
     ]
    }
   ],
   "source": [
    "df_unique = df_new_sub\n",
    "print(df_unique.shape[0])"
   ]
  },
  {
   "cell_type": "code",
   "execution_count": 8,
   "metadata": {},
   "outputs": [
    {
     "data": {
      "text/html": [
       "<div>\n",
       "<style scoped>\n",
       "    .dataframe tbody tr th:only-of-type {\n",
       "        vertical-align: middle;\n",
       "    }\n",
       "\n",
       "    .dataframe tbody tr th {\n",
       "        vertical-align: top;\n",
       "    }\n",
       "\n",
       "    .dataframe thead th {\n",
       "        text-align: right;\n",
       "    }\n",
       "</style>\n",
       "<table border=\"1\" class=\"dataframe\">\n",
       "  <thead>\n",
       "    <tr style=\"text-align: right;\">\n",
       "      <th></th>\n",
       "      <th>title</th>\n",
       "      <th>SENTIMENT</th>\n",
       "    </tr>\n",
       "  </thead>\n",
       "  <tbody>\n",
       "    <tr>\n",
       "      <th>0</th>\n",
       "      <td>ChipMOS misses on revenue</td>\n",
       "      <td>2</td>\n",
       "    </tr>\n",
       "    <tr>\n",
       "      <th>1</th>\n",
       "      <td>Reuters Reported Foxconn\\'s iPhone Production at India Factory Falls More Than 50% Due to Surge in Covid-19 Infections Among Workers</td>\n",
       "      <td>2</td>\n",
       "    </tr>\n",
       "    <tr>\n",
       "      <th>2</th>\n",
       "      <td>Allot EPS beats by $0.06, misses on revenue; provides outlook</td>\n",
       "      <td>2</td>\n",
       "    </tr>\n",
       "    <tr>\n",
       "      <th>3</th>\n",
       "      <td>Reuters Reported Tesla Put Plans to Buy Land to Expand Shanghai Plant on Hold Due to U.S.-China Tensions -; Tesla Considered Exporting Model 3 Vehicles from China to the U.S.</td>\n",
       "      <td>1</td>\n",
       "    </tr>\n",
       "    <tr>\n",
       "      <th>4</th>\n",
       "      <td>Nasdaq futures continue selloff as tech drags broader market lower</td>\n",
       "      <td>2</td>\n",
       "    </tr>\n",
       "  </tbody>\n",
       "</table>\n",
       "</div>"
      ],
      "text/plain": [
       "                                                                                                                                                                            title  \\\n",
       "0                                                                                                                                                       ChipMOS misses on revenue   \n",
       "1                                            Reuters Reported Foxconn\\'s iPhone Production at India Factory Falls More Than 50% Due to Surge in Covid-19 Infections Among Workers   \n",
       "2                                                                                                                   Allot EPS beats by $0.06, misses on revenue; provides outlook   \n",
       "3  Reuters Reported Tesla Put Plans to Buy Land to Expand Shanghai Plant on Hold Due to U.S.-China Tensions -; Tesla Considered Exporting Model 3 Vehicles from China to the U.S.   \n",
       "4                                                                                                              Nasdaq futures continue selloff as tech drags broader market lower   \n",
       "\n",
       "  SENTIMENT  \n",
       "0         2  \n",
       "1         2  \n",
       "2         2  \n",
       "3         1  \n",
       "4         2  "
      ]
     },
     "execution_count": 8,
     "metadata": {},
     "output_type": "execute_result"
    }
   ],
   "source": [
    "df_benzinga = df_unique.copy()\n",
    "df_benzinga.head()"
   ]
  },
  {
   "cell_type": "code",
   "execution_count": 9,
   "metadata": {},
   "outputs": [],
   "source": [
    "mask = (df_benzinga.SENTIMENT == '0') | (df_benzinga.SENTIMENT == '1') | (df_benzinga.SENTIMENT == '2')\n",
    "df_benzinga = df_benzinga[mask].copy()"
   ]
  },
  {
   "cell_type": "code",
   "execution_count": 10,
   "metadata": {},
   "outputs": [
    {
     "name": "stdout",
     "output_type": "stream",
     "text": [
      "28827\n",
      "Counter({'1': 12663, '0': 12252, '2': 3912})\n"
     ]
    }
   ],
   "source": [
    "print(df_benzinga.shape[0])\n",
    "print(Counter(df_benzinga.SENTIMENT))"
   ]
  },
  {
   "cell_type": "code",
   "execution_count": 11,
   "metadata": {},
   "outputs": [],
   "source": [
    "df_benzinga.drop_duplicates(subset='title', inplace=True)"
   ]
  },
  {
   "cell_type": "code",
   "execution_count": 12,
   "metadata": {},
   "outputs": [
    {
     "data": {
      "text/plain": [
       "28325"
      ]
     },
     "execution_count": 12,
     "metadata": {},
     "output_type": "execute_result"
    }
   ],
   "source": [
    "df_benzinga.shape[0]"
   ]
  },
  {
   "cell_type": "code",
   "execution_count": 13,
   "metadata": {},
   "outputs": [],
   "source": [
    "df_benzinga['sentiment_words'] = np.where(df_benzinga['SENTIMENT'] == '0', 'neutral', np.where(df_benzinga['SENTIMENT'] == '1', 'positive', 'negative'))"
   ]
  },
  {
   "cell_type": "code",
   "execution_count": 14,
   "metadata": {},
   "outputs": [
    {
     "data": {
      "text/plain": [
       "Counter({'negative': 3890, 'positive': 12611, 'neutral': 11824})"
      ]
     },
     "execution_count": 14,
     "metadata": {},
     "output_type": "execute_result"
    }
   ],
   "source": [
    "Counter(df_benzinga.sentiment_words)"
   ]
  },
  {
   "cell_type": "code",
   "execution_count": 15,
   "metadata": {},
   "outputs": [],
   "source": [
    "df_benzinga = df_benzinga[['title', 'sentiment_words']].copy()"
   ]
  },
  {
   "cell_type": "code",
   "execution_count": 112,
   "metadata": {},
   "outputs": [],
   "source": [
    "separator = '@'"
   ]
  },
  {
   "cell_type": "code",
   "execution_count": 113,
   "metadata": {},
   "outputs": [],
   "source": [
    "sep_find = df_benzinga.title.map(lambda x: ''.join(re.findall(separator, str(x))))"
   ]
  },
  {
   "cell_type": "code",
   "execution_count": 114,
   "metadata": {},
   "outputs": [
    {
     "data": {
      "text/plain": [
       "        28024\n",
       "@         292\n",
       "@@          4\n",
       "@@@         3\n",
       "@@@@        2\n",
       "Name: title, dtype: int64"
      ]
     },
     "execution_count": 114,
     "metadata": {},
     "output_type": "execute_result"
    }
   ],
   "source": [
    "sep_find.value_counts()"
   ]
  },
  {
   "cell_type": "code",
   "execution_count": 115,
   "metadata": {},
   "outputs": [],
   "source": [
    "df_benzinga.title = df_benzinga.title.map(lambda x: re.sub(separator, '',str(x)))"
   ]
  },
  {
   "cell_type": "code",
   "execution_count": 116,
   "metadata": {},
   "outputs": [],
   "source": [
    "find_symbols = df_benzinga[df_benzinga.title.str.contains(r'\\\\n')]"
   ]
  },
  {
   "cell_type": "code",
   "execution_count": 117,
   "metadata": {},
   "outputs": [
    {
     "data": {
      "text/plain": [
       "'Vodafone Reports Its Egypt Unit To Buy Spectrum, Payments Will Be Phased Over 3 Years, With Initial Payment Of\\\\n $270M'"
      ]
     },
     "execution_count": 117,
     "metadata": {},
     "output_type": "execute_result"
    }
   ],
   "source": [
    "find_symbols = find_symbols.title.values[0]\n",
    "find_symbols"
   ]
  },
  {
   "cell_type": "code",
   "execution_count": 118,
   "metadata": {},
   "outputs": [],
   "source": [
    "BACKSLASH_n = r'\\\\n'"
   ]
  },
  {
   "cell_type": "code",
   "execution_count": 119,
   "metadata": {},
   "outputs": [
    {
     "data": {
      "text/plain": [
       "'Vodafone Reports Its Egypt Unit To Buy Spectrum, Payments Will Be Phased Over 3 Years, With Initial Payment Of $270M'"
      ]
     },
     "execution_count": 119,
     "metadata": {},
     "output_type": "execute_result"
    }
   ],
   "source": [
    "re.sub(BACKSLASH_n, '', find_symbols)"
   ]
  },
  {
   "cell_type": "code",
   "execution_count": 120,
   "metadata": {},
   "outputs": [],
   "source": [
    "df_benzinga.title = df_benzinga.title.map(lambda x: re.sub(BACKSLASH_n, '',str(x)))"
   ]
  },
  {
   "cell_type": "code",
   "execution_count": 121,
   "metadata": {},
   "outputs": [],
   "source": [
    "df_benzinga.title = df_benzinga.title.map(lambda x: str(x).strip('\\n'))"
   ]
  },
  {
   "cell_type": "code",
   "execution_count": 122,
   "metadata": {},
   "outputs": [],
   "source": [
    "find_symbols = df_benzinga[df_benzinga.title.str.contains('JPMorgan')]"
   ]
  },
  {
   "cell_type": "code",
   "execution_count": 123,
   "metadata": {},
   "outputs": [
    {
     "data": {
      "text/plain": [
       "'Cree stock gains after losing JPMorgan bear on improved valuation'"
      ]
     },
     "execution_count": 123,
     "metadata": {},
     "output_type": "execute_result"
    }
   ],
   "source": [
    "find_symbols = find_symbols.title.values[0]\n",
    "find_symbols"
   ]
  },
  {
   "cell_type": "code",
   "execution_count": 124,
   "metadata": {},
   "outputs": [],
   "source": [
    "DOUBLE_QUOTES = r'\"'"
   ]
  },
  {
   "cell_type": "code",
   "execution_count": 125,
   "metadata": {},
   "outputs": [
    {
     "data": {
      "text/plain": [
       "'Cree stock gains after losing JPMorgan bear on improved valuation'"
      ]
     },
     "execution_count": 125,
     "metadata": {},
     "output_type": "execute_result"
    }
   ],
   "source": [
    "re.sub(DOUBLE_QUOTES, '', find_symbols)"
   ]
  },
  {
   "cell_type": "code",
   "execution_count": 126,
   "metadata": {},
   "outputs": [],
   "source": [
    "df_benzinga.title = df_benzinga.title.map(lambda x: re.sub(DOUBLE_QUOTES, '', str(x)))"
   ]
  },
  {
   "cell_type": "code",
   "execution_count": 127,
   "metadata": {},
   "outputs": [],
   "source": [
    "df_benzinga.reset_index(drop=True, inplace=True)"
   ]
  },
  {
   "cell_type": "code",
   "execution_count": 128,
   "metadata": {},
   "outputs": [
    {
     "data": {
      "text/html": [
       "<div>\n",
       "<style scoped>\n",
       "    .dataframe tbody tr th:only-of-type {\n",
       "        vertical-align: middle;\n",
       "    }\n",
       "\n",
       "    .dataframe tbody tr th {\n",
       "        vertical-align: top;\n",
       "    }\n",
       "\n",
       "    .dataframe thead th {\n",
       "        text-align: right;\n",
       "    }\n",
       "</style>\n",
       "<table border=\"1\" class=\"dataframe\">\n",
       "  <thead>\n",
       "    <tr style=\"text-align: right;\">\n",
       "      <th></th>\n",
       "      <th>title</th>\n",
       "      <th>sentiment_words</th>\n",
       "    </tr>\n",
       "  </thead>\n",
       "  <tbody>\n",
       "    <tr>\n",
       "      <th>0</th>\n",
       "      <td>ChipMOS misses on revenue</td>\n",
       "      <td>negative</td>\n",
       "    </tr>\n",
       "    <tr>\n",
       "      <th>1</th>\n",
       "      <td>Reuters Reported Foxconn\\'s iPhone Production at India Factory Falls More Than 50% Due to Surge in Covid-19 Infections Among Workers</td>\n",
       "      <td>negative</td>\n",
       "    </tr>\n",
       "    <tr>\n",
       "      <th>2</th>\n",
       "      <td>Allot EPS beats by $0.06, misses on revenue; provides outlook</td>\n",
       "      <td>negative</td>\n",
       "    </tr>\n",
       "    <tr>\n",
       "      <th>3</th>\n",
       "      <td>Reuters Reported Tesla Put Plans to Buy Land to Expand Shanghai Plant on Hold Due to U.S.-China Tensions -; Tesla Considered Exporting Model 3 Vehicles from China to the U.S.</td>\n",
       "      <td>positive</td>\n",
       "    </tr>\n",
       "    <tr>\n",
       "      <th>4</th>\n",
       "      <td>Nasdaq futures continue selloff as tech drags broader market lower</td>\n",
       "      <td>negative</td>\n",
       "    </tr>\n",
       "  </tbody>\n",
       "</table>\n",
       "</div>"
      ],
      "text/plain": [
       "                                                                                                                                                                            title  \\\n",
       "0                                                                                                                                                       ChipMOS misses on revenue   \n",
       "1                                            Reuters Reported Foxconn\\'s iPhone Production at India Factory Falls More Than 50% Due to Surge in Covid-19 Infections Among Workers   \n",
       "2                                                                                                                   Allot EPS beats by $0.06, misses on revenue; provides outlook   \n",
       "3  Reuters Reported Tesla Put Plans to Buy Land to Expand Shanghai Plant on Hold Due to U.S.-China Tensions -; Tesla Considered Exporting Model 3 Vehicles from China to the U.S.   \n",
       "4                                                                                                              Nasdaq futures continue selloff as tech drags broader market lower   \n",
       "\n",
       "  sentiment_words  \n",
       "0        negative  \n",
       "1        negative  \n",
       "2        negative  \n",
       "3        positive  \n",
       "4        negative  "
      ]
     },
     "execution_count": 128,
     "metadata": {},
     "output_type": "execute_result"
    }
   ],
   "source": [
    "df_benzinga.head()"
   ]
  },
  {
   "cell_type": "markdown",
   "metadata": {},
   "source": [
    "### Save as train or test"
   ]
  },
  {
   "cell_type": "code",
   "execution_count": 71,
   "metadata": {},
   "outputs": [],
   "source": [
    "df_benzinga.columns = ['text', 'label']"
   ]
  },
  {
   "cell_type": "code",
   "execution_count": 73,
   "metadata": {},
   "outputs": [],
   "source": [
    "df_benzinga.to_csv('data/sentiment_data/train.csv', sep='\\t', header=True, index=True, quoting = csv.QUOTE_NONE, escapechar = ' ')"
   ]
  },
  {
   "cell_type": "code",
   "execution_count": null,
   "metadata": {},
   "outputs": [],
   "source": [
    "stop"
   ]
  },
  {
   "cell_type": "markdown",
   "metadata": {},
   "source": [
    "### Save for split teach/test"
   ]
  },
  {
   "cell_type": "code",
   "execution_count": 129,
   "metadata": {},
   "outputs": [],
   "source": [
    "df_benzinga['text_label'] = df_benzinga.title +' '+ separator + df_benzinga.sentiment_words"
   ]
  },
  {
   "cell_type": "code",
   "execution_count": 130,
   "metadata": {},
   "outputs": [
    {
     "data": {
      "text/html": [
       "<div>\n",
       "<style scoped>\n",
       "    .dataframe tbody tr th:only-of-type {\n",
       "        vertical-align: middle;\n",
       "    }\n",
       "\n",
       "    .dataframe tbody tr th {\n",
       "        vertical-align: top;\n",
       "    }\n",
       "\n",
       "    .dataframe thead th {\n",
       "        text-align: right;\n",
       "    }\n",
       "</style>\n",
       "<table border=\"1\" class=\"dataframe\">\n",
       "  <thead>\n",
       "    <tr style=\"text-align: right;\">\n",
       "      <th></th>\n",
       "      <th>title</th>\n",
       "      <th>sentiment_words</th>\n",
       "      <th>text_label</th>\n",
       "    </tr>\n",
       "  </thead>\n",
       "  <tbody>\n",
       "    <tr>\n",
       "      <th>0</th>\n",
       "      <td>ChipMOS misses on revenue</td>\n",
       "      <td>negative</td>\n",
       "      <td>ChipMOS misses on revenue @negative</td>\n",
       "    </tr>\n",
       "    <tr>\n",
       "      <th>1</th>\n",
       "      <td>Reuters Reported Foxconn\\'s iPhone Production at India Factory Falls More Than 50% Due to Surge in Covid-19 Infections Among Workers</td>\n",
       "      <td>negative</td>\n",
       "      <td>Reuters Reported Foxconn\\'s iPhone Production at India Factory Falls More Than 50% Due to Surge in Covid-19 Infections Among Workers @negative</td>\n",
       "    </tr>\n",
       "    <tr>\n",
       "      <th>2</th>\n",
       "      <td>Allot EPS beats by $0.06, misses on revenue; provides outlook</td>\n",
       "      <td>negative</td>\n",
       "      <td>Allot EPS beats by $0.06, misses on revenue; provides outlook @negative</td>\n",
       "    </tr>\n",
       "  </tbody>\n",
       "</table>\n",
       "</div>"
      ],
      "text/plain": [
       "                                                                                                                                  title  \\\n",
       "0                                                                                                             ChipMOS misses on revenue   \n",
       "1  Reuters Reported Foxconn\\'s iPhone Production at India Factory Falls More Than 50% Due to Surge in Covid-19 Infections Among Workers   \n",
       "2                                                                         Allot EPS beats by $0.06, misses on revenue; provides outlook   \n",
       "\n",
       "  sentiment_words  \\\n",
       "0        negative   \n",
       "1        negative   \n",
       "2        negative   \n",
       "\n",
       "                                                                                                                                       text_label  \n",
       "0                                                                                                             ChipMOS misses on revenue @negative  \n",
       "1  Reuters Reported Foxconn\\'s iPhone Production at India Factory Falls More Than 50% Due to Surge in Covid-19 Infections Among Workers @negative  \n",
       "2                                                                         Allot EPS beats by $0.06, misses on revenue; provides outlook @negative  "
      ]
     },
     "execution_count": 130,
     "metadata": {},
     "output_type": "execute_result"
    }
   ],
   "source": [
    "df_benzinga.head(3)"
   ]
  },
  {
   "cell_type": "code",
   "execution_count": 131,
   "metadata": {},
   "outputs": [],
   "source": [
    "benzinga_text = df_benzinga['text_label']"
   ]
  },
  {
   "cell_type": "code",
   "execution_count": 133,
   "metadata": {},
   "outputs": [],
   "source": [
    "file_out = 'data/text_data_for_split/benzinga_text_labels.txt'\n",
    "                     \n",
    "with open(file_out, 'w') as filehandle:\n",
    "    for listitem in  df_benzinga['text_label'].values:\n",
    "        filehandle.write('%s\\n' % listitem)"
   ]
  },
  {
   "cell_type": "markdown",
   "metadata": {},
   "source": [
    "### Experiments with prepare data."
   ]
  },
  {
   "cell_type": "code",
   "execution_count": 17,
   "metadata": {},
   "outputs": [
    {
     "name": "stderr",
     "output_type": "stream",
     "text": [
      "[nltk_data] Downloading package stopwords to /home/sergey/nltk_data...\n",
      "[nltk_data]   Package stopwords is already up-to-date!\n"
     ]
    }
   ],
   "source": [
    "import re\n",
    "import nltk\n",
    "nltk.download('stopwords')\n",
    "from nltk.corpus import stopwords\n",
    "from nltk.stem import WordNetLemmatizer\n",
    "from nltk.tokenize import word_tokenize\n",
    "import collections"
   ]
  },
  {
   "cell_type": "code",
   "execution_count": 46,
   "metadata": {},
   "outputs": [
    {
     "data": {
      "text/html": [
       "<div>\n",
       "<style scoped>\n",
       "    .dataframe tbody tr th:only-of-type {\n",
       "        vertical-align: middle;\n",
       "    }\n",
       "\n",
       "    .dataframe tbody tr th {\n",
       "        vertical-align: top;\n",
       "    }\n",
       "\n",
       "    .dataframe thead th {\n",
       "        text-align: right;\n",
       "    }\n",
       "</style>\n",
       "<table border=\"1\" class=\"dataframe\">\n",
       "  <thead>\n",
       "    <tr style=\"text-align: right;\">\n",
       "      <th></th>\n",
       "      <th>text</th>\n",
       "      <th>sentiment_words</th>\n",
       "    </tr>\n",
       "  </thead>\n",
       "  <tbody>\n",
       "    <tr>\n",
       "      <th>0</th>\n",
       "      <td>ChipMOS misses on revenue</td>\n",
       "      <td>negative</td>\n",
       "    </tr>\n",
       "    <tr>\n",
       "      <th>1</th>\n",
       "      <td>Reuters Reported Foxconn\\'s iPhone Production at India Factory Falls More Than 50% Due to Surge in Covid-19 Infections Among Workers</td>\n",
       "      <td>negative</td>\n",
       "    </tr>\n",
       "    <tr>\n",
       "      <th>2</th>\n",
       "      <td>Allot EPS beats by $0.06, misses on revenue; provides outlook</td>\n",
       "      <td>negative</td>\n",
       "    </tr>\n",
       "    <tr>\n",
       "      <th>3</th>\n",
       "      <td>Reuters Reported Tesla Put Plans to Buy Land to Expand Shanghai Plant on Hold Due to U.S.-China Tensions -; Tesla Considered Exporting Model 3 Vehicles from China to the U.S.</td>\n",
       "      <td>positive</td>\n",
       "    </tr>\n",
       "    <tr>\n",
       "      <th>4</th>\n",
       "      <td>Nasdaq futures continue selloff as tech drags broader market lower</td>\n",
       "      <td>negative</td>\n",
       "    </tr>\n",
       "  </tbody>\n",
       "</table>\n",
       "</div>"
      ],
      "text/plain": [
       "                                                                                                                                                                             text  \\\n",
       "0                                                                                                                                                       ChipMOS misses on revenue   \n",
       "1                                            Reuters Reported Foxconn\\'s iPhone Production at India Factory Falls More Than 50% Due to Surge in Covid-19 Infections Among Workers   \n",
       "2                                                                                                                   Allot EPS beats by $0.06, misses on revenue; provides outlook   \n",
       "3  Reuters Reported Tesla Put Plans to Buy Land to Expand Shanghai Plant on Hold Due to U.S.-China Tensions -; Tesla Considered Exporting Model 3 Vehicles from China to the U.S.   \n",
       "4                                                                                                              Nasdaq futures continue selloff as tech drags broader market lower   \n",
       "\n",
       "  sentiment_words  \n",
       "0        negative  \n",
       "1        negative  \n",
       "2        negative  \n",
       "3        positive  \n",
       "4        negative  "
      ]
     },
     "execution_count": 46,
     "metadata": {},
     "output_type": "execute_result"
    }
   ],
   "source": [
    "# Continue from str with separator\n",
    "df = df_benzinga.copy()\n",
    "df.columns = ['text', 'sentiment_words']\n",
    "df.text = df.text.astype(str)\n",
    "df.reset_index(drop=True, inplace=True)\n",
    "df.head()"
   ]
  },
  {
   "cell_type": "code",
   "execution_count": 37,
   "metadata": {},
   "outputs": [],
   "source": [
    "ticker_pattern = re.compile(r'(^\\$[A-Z]+|^\\$ES_F)')\n",
    "ht_pattern = re.compile(r'#\\w+')\n",
    "\n",
    "ticker_dic = collections.defaultdict(int)\n",
    "ht_dic = collections.defaultdict(int)\n",
    "\n",
    "for text in df['text']:\n",
    "    for word in str(text).split():\n",
    "        if ticker_pattern.fullmatch(word) is not None:\n",
    "            ticker_dic[word[1:]] += 1\n",
    "        \n",
    "        word = word.lower()\n",
    "        if ht_pattern.fullmatch(word) is not None:\n",
    "            ht_dic[word] += 1"
   ]
  },
  {
   "cell_type": "code",
   "execution_count": 38,
   "metadata": {},
   "outputs": [],
   "source": [
    "char_digit_percent_only = re.compile(r'[^a-zA-Z\\s0-9%]')"
   ]
  },
  {
   "cell_type": "code",
   "execution_count": 39,
   "metadata": {},
   "outputs": [],
   "source": [
    "handle_pattern = re.compile(r'@\\w+')\n",
    "emoji_pattern = re.compile(\"[\"\n",
    "                        u\"\\U0001F600-\\U0001F64F\"  # emoticons\n",
    "                        u\"\\U0001F300-\\U0001F5FF\"  # symbols & pictographs\n",
    "                        u\"\\U0001F680-\\U0001F6FF\"  # transport & map symbols\n",
    "                        u\"\\U0001F1E0-\\U0001F1FF\"  # flags (iOS)\n",
    "                        u\"\\U00002702-\\U000027B0\"\n",
    "                        u\"\\U000024C2-\\U0001F251\"\n",
    "                        \"]+\", flags=re.UNICODE)\n",
    "url_pattern = re.compile('http[s]?://(?:[a-zA-Z]|[0-9]|[$-_@.&+]|[!*\\(\\),]|(?:%[0-9a-fA-F][0-9a-fA-F]))+')\n",
    "pic_pattern = re.compile('pic\\.twitter\\.com/.{10}')\n",
    "special_code = re.compile(r'(&amp;|&gt;|&lt;)')\n",
    "tag_pattern = re.compile(r'<.*?>')\n",
    "\n",
    "STOPWORDS = set(stopwords.words('english')).union(\n",
    "    {'rt', 'retweet', 'RT', 'Retweet', 'RETWEET'})\n",
    "\n",
    "lemmatizer = WordNetLemmatizer()"
   ]
  },
  {
   "cell_type": "code",
   "execution_count": 40,
   "metadata": {},
   "outputs": [],
   "source": [
    "def hashtag(phrase):\n",
    "    return ht_pattern.sub(' ', phrase)\n",
    "def remove_ticker(phrase):\n",
    "    return ticker_pattern.sub('', phrase)\n",
    "def specialcode(phrase):\n",
    "    return special_code.sub(' ', phrase)\n",
    "def emoji(phrase):\n",
    "    return emoji_pattern.sub(' ', phrase)\n",
    "def url(phrase):\n",
    "    return url_pattern.sub('', phrase)\n",
    "def pic(phrase):\n",
    "    return pic_pattern.sub('', phrase)\n",
    "def html_tag(phrase):\n",
    "    return tag_pattern.sub(' ', phrase)\n",
    "def handle(phrase):\n",
    "    return handle_pattern.sub('', phrase)"
   ]
  },
  {
   "cell_type": "code",
   "execution_count": 41,
   "metadata": {},
   "outputs": [],
   "source": [
    "def decontracted(phrase):\n",
    "    # specific\n",
    "    phrase = re.sub(r\"won\\'t\", \"will not\", phrase)\n",
    "    phrase = re.sub(r\"can\\'t\", \"can not\", phrase)\n",
    "    phrase = re.sub('DIS', 'Disney', phrase)\n",
    "    phrase = re.sub(r\"n\\'t\", \" not\", phrase)\n",
    "    phrase = re.sub(r\"\\'re\", \" are\", phrase)\n",
    "    phrase = re.sub(r\"(he|He)\\'s\", \"he is\", phrase)\n",
    "    phrase = re.sub(r\"(she|She)\\'s\", \"she is\", phrase)\n",
    "    phrase = re.sub(r\"(it|It)\\'s\", \"it is\", phrase)\n",
    "    phrase = re.sub(r\"\\'d\", \" would\", phrase)\n",
    "    phrase = re.sub(r\"\\'ll\", \" will\", phrase)\n",
    "    phrase = re.sub(r\"\\'t\", \" not\", phrase)\n",
    "    phrase = re.sub(r\"(\\'ve|has)\", \" have\", phrase)\n",
    "    phrase = re.sub(r\"\\'m\", \" am\", phrase)\n",
    "    return phrase\n",
    "\n",
    "def onlychardigit(phrase):\n",
    "    return char_digit_percent_only.sub('', phrase)\n",
    "\n",
    "def remove_stopwords(phrase):\n",
    "    return \" \".join([word for word in str(phrase).split()\\\n",
    "                     if word not in STOPWORDS])\n",
    "\n",
    "def tokenize_stem(phrase):   \n",
    "    tokens = word_tokenize(phrase)\n",
    "    stem_words =[]\n",
    "    for token in tokens:\n",
    "        word = lemmatizer.lemmatize(token)\n",
    "        stem_words.append(word)        \n",
    "    buf = ' '.join(stem_words)    \n",
    "    return buf"
   ]
  },
  {
   "cell_type": "code",
   "execution_count": 42,
   "metadata": {},
   "outputs": [],
   "source": [
    "def arrange_text(df):\n",
    "    df['text2'] = df['text'].apply(emoji)\n",
    "    df['text2'] = df['text2'].apply(handle)\n",
    "    df['text2'] = df['text2'].apply(specialcode)\n",
    "    df['text2'] = df['text2'].apply(hashtag)\n",
    "    df['text2'] = df['text2'].apply(url)\n",
    "    df['text2'] = df['text2'].apply(pic)\n",
    "    df['text2'] = df['text2'].apply(html_tag)\n",
    "    df['text2'] = df['text2'].apply(onlychardigit)\n",
    "    df['text2'] = df['text2'].apply(decontracted)\n",
    "    df['text2'] = df['text2'].apply(onlychardigit)\n",
    "    df['text2'] = df['text2'].apply(tokenize_stem)\n",
    "    df['text2'] = df['text2'].apply(remove_stopwords)"
   ]
  },
  {
   "cell_type": "code",
   "execution_count": 47,
   "metadata": {},
   "outputs": [],
   "source": [
    "arrange_text(df)"
   ]
  },
  {
   "cell_type": "code",
   "execution_count": 48,
   "metadata": {},
   "outputs": [],
   "source": [
    "df.text = df.text2\n",
    "df.drop(columns=['text2'], inplace=True)\n",
    "df.rename(columns={'sentiment_words':'label'}, inplace=True)"
   ]
  },
  {
   "cell_type": "code",
   "execution_count": 50,
   "metadata": {},
   "outputs": [
    {
     "data": {
      "text/html": [
       "<div>\n",
       "<style scoped>\n",
       "    .dataframe tbody tr th:only-of-type {\n",
       "        vertical-align: middle;\n",
       "    }\n",
       "\n",
       "    .dataframe tbody tr th {\n",
       "        vertical-align: top;\n",
       "    }\n",
       "\n",
       "    .dataframe thead th {\n",
       "        text-align: right;\n",
       "    }\n",
       "</style>\n",
       "<table border=\"1\" class=\"dataframe\">\n",
       "  <thead>\n",
       "    <tr style=\"text-align: right;\">\n",
       "      <th></th>\n",
       "      <th>text</th>\n",
       "      <th>label</th>\n",
       "    </tr>\n",
       "  </thead>\n",
       "  <tbody>\n",
       "    <tr>\n",
       "      <th>0</th>\n",
       "      <td>ChipMOS miss revenue</td>\n",
       "      <td>negative</td>\n",
       "    </tr>\n",
       "    <tr>\n",
       "      <th>1</th>\n",
       "      <td>Reuters Reported Foxconns iPhone Production India Factory Falls More Than 50 % Due Surge Covid19 Infections Among Workers</td>\n",
       "      <td>negative</td>\n",
       "    </tr>\n",
       "    <tr>\n",
       "      <th>2</th>\n",
       "      <td>Allot EPS beat 006 miss revenue provides outlook</td>\n",
       "      <td>negative</td>\n",
       "    </tr>\n",
       "    <tr>\n",
       "      <th>3</th>\n",
       "      <td>Reuters Reported Tesla Put Plans Buy Land Expand Shanghai Plant Hold Due USChina Tensions Tesla Considered Exporting Model 3 Vehicles China US</td>\n",
       "      <td>positive</td>\n",
       "    </tr>\n",
       "    <tr>\n",
       "      <th>4</th>\n",
       "      <td>Nasdaq future continue selloff tech drag broader market lower</td>\n",
       "      <td>negative</td>\n",
       "    </tr>\n",
       "  </tbody>\n",
       "</table>\n",
       "</div>"
      ],
      "text/plain": [
       "                                                                                                                                             text  \\\n",
       "0                                                                                                                            ChipMOS miss revenue   \n",
       "1                       Reuters Reported Foxconns iPhone Production India Factory Falls More Than 50 % Due Surge Covid19 Infections Among Workers   \n",
       "2                                                                                                Allot EPS beat 006 miss revenue provides outlook   \n",
       "3  Reuters Reported Tesla Put Plans Buy Land Expand Shanghai Plant Hold Due USChina Tensions Tesla Considered Exporting Model 3 Vehicles China US   \n",
       "4                                                                                   Nasdaq future continue selloff tech drag broader market lower   \n",
       "\n",
       "      label  \n",
       "0  negative  \n",
       "1  negative  \n",
       "2  negative  \n",
       "3  positive  \n",
       "4  negative  "
      ]
     },
     "execution_count": 50,
     "metadata": {},
     "output_type": "execute_result"
    }
   ],
   "source": [
    "df.head()"
   ]
  },
  {
   "cell_type": "code",
   "execution_count": 56,
   "metadata": {},
   "outputs": [],
   "source": [
    "X_train, X_test, Y_train, Y_test = train_test_split(df.text, df.label, test_size=0.3, random_state=123)"
   ]
  },
  {
   "cell_type": "code",
   "execution_count": 57,
   "metadata": {},
   "outputs": [],
   "source": [
    "X_test, X_val, Y_test, Y_val = train_test_split(X_test, Y_test, test_size=0.5, random_state=123)"
   ]
  },
  {
   "cell_type": "code",
   "execution_count": 65,
   "metadata": {},
   "outputs": [],
   "source": [
    "df_train = pd.merge(X_train, Y_train, how='left', left_index=True, right_index=True)\n",
    "df_test = pd.merge(X_test, Y_test, how='left', left_index=True, right_index=True)\n",
    "df_validation = pd.merge(X_val, Y_val, how='left', left_index=True, right_index=True)"
   ]
  },
  {
   "cell_type": "code",
   "execution_count": 67,
   "metadata": {},
   "outputs": [
    {
     "data": {
      "text/html": [
       "<div>\n",
       "<style scoped>\n",
       "    .dataframe tbody tr th:only-of-type {\n",
       "        vertical-align: middle;\n",
       "    }\n",
       "\n",
       "    .dataframe tbody tr th {\n",
       "        vertical-align: top;\n",
       "    }\n",
       "\n",
       "    .dataframe thead th {\n",
       "        text-align: right;\n",
       "    }\n",
       "</style>\n",
       "<table border=\"1\" class=\"dataframe\">\n",
       "  <thead>\n",
       "    <tr style=\"text-align: right;\">\n",
       "      <th></th>\n",
       "      <th>text</th>\n",
       "      <th>label</th>\n",
       "    </tr>\n",
       "  </thead>\n",
       "  <tbody>\n",
       "    <tr>\n",
       "      <th>19368</th>\n",
       "      <td>Following pressure Biogen start compassionate use program ALS drug tofersen</td>\n",
       "      <td>neutral</td>\n",
       "    </tr>\n",
       "  </tbody>\n",
       "</table>\n",
       "</div>"
      ],
      "text/plain": [
       "                                                                              text  \\\n",
       "19368  Following pressure Biogen start compassionate use program ALS drug tofersen   \n",
       "\n",
       "         label  \n",
       "19368  neutral  "
      ]
     },
     "execution_count": 67,
     "metadata": {},
     "output_type": "execute_result"
    }
   ],
   "source": [
    "df_train.head(1)"
   ]
  },
  {
   "cell_type": "code",
   "execution_count": 68,
   "metadata": {},
   "outputs": [],
   "source": [
    "# df_train.to_csv('data/csv_files/train_28K_clear_arrange.csv', sep='\\t', header=True, index=True, quoting = csv.QUOTE_NONE, escapechar = ' ')\n",
    "# df_test.to_csv('data/csv_files/test_28K_clear_arrange.csv', sep='\\t', header=True, index=True, quoting = csv.QUOTE_NONE, escapechar = ' ')\n",
    "# df_validation.to_csv('data/csv_files/validation_28K_clear_arrange.csv', sep='\\t', header=True, index=True, quoting = csv.QUOTE_NONE, escapechar = ' ')"
   ]
  }
 ],
 "metadata": {
  "kernelspec": {
   "display_name": "Python 3",
   "language": "python",
   "name": "python3"
  },
  "language_info": {
   "codemirror_mode": {
    "name": "ipython",
    "version": 3
   },
   "file_extension": ".py",
   "mimetype": "text/x-python",
   "name": "python",
   "nbconvert_exporter": "python",
   "pygments_lexer": "ipython3",
   "version": "3.7.6"
  }
 },
 "nbformat": 4,
 "nbformat_minor": 4
}
